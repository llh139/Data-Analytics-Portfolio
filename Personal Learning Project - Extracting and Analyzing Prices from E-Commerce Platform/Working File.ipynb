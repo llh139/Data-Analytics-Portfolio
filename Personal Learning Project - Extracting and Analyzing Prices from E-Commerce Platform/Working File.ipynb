{
 "cells": [
  {
   "cell_type": "code",
   "execution_count": 1,
   "metadata": {},
   "outputs": [],
   "source": [
    "#%pip install requests\n",
    "#%pip install bs4"
   ]
  },
  {
   "cell_type": "code",
   "execution_count": 1,
   "metadata": {},
   "outputs": [],
   "source": [
    "from bs4 import BeautifulSoup # type: ignore\n",
    "import requests # type: ignore\n",
    "import pandas as pd # type: ignore\n",
    "import urllib.parse\n",
    "#import os\n",
    "#from PIL import Image\n",
    "#from IPython.display import IFrame"
   ]
  },
  {
   "cell_type": "code",
   "execution_count": 2,
   "metadata": {},
   "outputs": [],
   "source": [
    "#%pip install selenium"
   ]
  },
  {
   "cell_type": "code",
   "execution_count": 2,
   "metadata": {},
   "outputs": [],
   "source": [
    "from selenium import webdriver # type: ignore\n",
    "from selenium.webdriver.chrome.options import Options # type: ignore\n",
    "from selenium.webdriver.chrome.service import Service # type: ignore\n",
    "from selenium.webdriver.support.ui import WebDriverWait # type: ignore\n",
    "from selenium.common.exceptions import TimeoutException # type: ignore\n",
    "from time import sleep"
   ]
  },
  {
   "cell_type": "code",
   "execution_count": 3,
   "metadata": {},
   "outputs": [],
   "source": [
    "#url_get = 'https://shopee.com.my/search?'\n",
    "#payload = {\"keyword\":\"dashcam\"}\n",
    "#r = requests.get(url_get, params=payload)\n",
    "#print(r.url)\n",
    "#print(r.status_code)\n",
    "#print(r.content)"
   ]
  },
  {
   "cell_type": "code",
   "execution_count": 6,
   "metadata": {},
   "outputs": [],
   "source": [
    "#base_url = 'https://shopee.com.my/search?keyword=dashcam&trackingId=searchhint-1728046904-ce774037-8250-11ef-8e22-3ea6d88eabcb'\n",
    "#base_url = 'https://shopee.com.my/shop/13377506/search?page=0&sortBy=sales'\n",
    "base_url = 'https://www.lazada.com.my/tag/dashcam/?spm=a2o4k.homepage.search.d_go&q=dashcam&catalog_redirect_tag=true'\n",
    "chrome_options = Options()\n",
    "\n",
    "# set chrome driver options to disable any popup's from the website\n",
    "# to find local path for chrome profile, open chrome browser\n",
    "# and in the address bar type, \"chrome://version\"\n",
    "chrome_options.add_argument('disable-notifications')\n",
    "chrome_options.add_argument('--disable-infobars')\n",
    "chrome_options.add_argument('start-maximized')\n",
    "chrome_options.add_argument('user-data-dir=C:\\\\Users\\\\1\\\\AppData\\\\Local\\\\Google\\\\Chrome\\\\User Data\\\\Default')\n",
    "# To disable the message, \"Chrome is being controlled by automated test software\"\n",
    "chrome_options.add_argument(\"disable-infobars\")\n",
    "# Pass the argument 1 to allow and 2 to block\n",
    "chrome_options.add_experimental_option(\"prefs\", { \n",
    "    \"profile.default_content_setting_values.notifications\": 2\n",
    "    })\n",
    "# invoke the webdriver\n",
    "chrome_service = Service(executable_path = r\"C:\\Users\\1\\OneDrive\\Desktop\\Personal Matter\\Data Analytics Learning\\Self Exploration Project\\chromedriver-win64\\chromedriver.exe\")\n",
    "browser = webdriver.Chrome(service = chrome_service, options = chrome_options)\n",
    "browser.get(base_url)\n",
    "delay = 5 #seconds"
   ]
  },
  {
   "cell_type": "code",
   "execution_count": 7,
   "metadata": {},
   "outputs": [
    {
     "name": "stdout",
     "output_type": "stream",
     "text": [
      "Page is ready\n",
      "DOSEN S50 Driving Recorder Front interior Rear Three lens onboard Dashcam car front and rear 360 HD 1080P Rear camera night vision dual view DVR Driving video Recorder 行车记录器\n",
      "DOSNE A1 Driving Recorder Front interior Rear Wifi 3 lenses Dashcam car front and rear 360 4.0 inch large screen HD 1080P Rear camera night vision dual view DVR Driving video Recorder 行车记录器\n",
      "DOSEN A1 wireless Driving Recorder Front interior Rear Three lens onboard Dashcam car front and rear 360 4.0 inch large screen HD 1080P Rear camera night vision dual view DVR Driving video Recorder Wifi 行车记录器\n",
      "DOSNE Wifi 行车记录仪 24 Hours Record 1080P FHD wifi 3 Camera Dashcam for Car Front + Interior + Back / Rear Dash Cam Night Vision Parking Mode Car DVR Driving video Recorder 行车记录器\n",
      "70mai Dashcam A200 Dual Channel 1080P Full HD+ HDR | 24H Parking Surveillance\n",
      "TYZONG 24H Record FHD 3 Camera Dashcam for Car Front + Interior + Back / Rear Dash Cam Night Vision Parking Mode Car DVR Driving video Recorder\n",
      "DDPAI N1 Dual Dashcam DUAL-CHANNEL Smart Monitor Assistant NightVIS 1296P\n",
      "V380 PRO 行车记录仪 Wifi 24 Hours Record 1080P FHD 3 Camera Dashcam for Car Front + Interior + Back / Rear Dash Cam Night Vision Parking Mode Car DVR Driving video Recorder 行车记录器\n",
      "2024 10.26\" Dash Cam 4K 2160P Rearview Camera Carplay & Android Auto GPS Navigation with Voice Control Car DVR BT FM Monitor\n",
      "FHD Wifi GPS Dash Cam 24h Parking Monitor Night Vision Front Rear Camera Car Dashcam Video Recorder\n",
      "Car Camera Recorder HD Car Dash Camera USB Front DVR Camera Dash Cam Car Recorder\n",
      "[WIFI VERSION] ROADCAM WIFI X3 Budget Dash Cam Dual Channel Recording 1080P Full HD\n",
      "Hd Tachograph Is Suitable for Automatic Cycle Recording of Vehicle DVR of Various Models\n",
      "70mai A500s 2K Car Dashcam Pro Plus+\n",
      "SHIP IN 24 Hours!!! 4 inch Car Recorder Dash Cam 1440P Dual lens HD Driving Recorder/HD Night Vision/DVR Parking Monitor\n",
      "【Shipping From Malaysia】4\" Screen 1080P Dash Cam Front+Interior+Rear Car Driving Recorder Suction Cup Mount\n",
      "4K Dual Dash Cam Car Dashcam 1080P HD Car Camera Recorder Car View Cam Front Back Auto Driving Recorder Interior Recorder Video Cam Night Vision\n",
      "[Ready-Stock] DVR Car Camera Recorder Dashcam Car Dash Cam Front And Rear 1080P Driving Recorder Wifi Car View Cam 行车记录仪\n",
      "[OFFICIAL] 70mai A500S Dashcam PRO PLUS+ Car Recorder 1944P Rear Cam GPS App Control Night Vision Dual Vision A500\n",
      "4.0 inch Dash cam Dual Lens front and rear for Car DVR Driver Recorder  HD 1080P 170° wide loop recording touch screen car camera HD screen Dashcam 行车记录仪\n",
      "Car DVR Dash Camera USB Front and Rear Dual Lens Video Recorder 720P AHD Reverse Cam Night Vision with ADAS For Android Player\n",
      "Dashcam Car Camera 4.0 Inch (Front/Inside/Rear) DVR Dash Cam Car Camera Video Recorder Night Vision Camcorder\n",
      "[English] 70mai A400 Car Recorder Dash Cam QHD 1440P Front Cam Night Vision 145 FOV WDR App Control Smart\n",
      "70mai A400 Car Recorder Front Dash Cam QHD 1440P Night Vision 145 FOV WDR App Control Smart\n",
      "CLEARANCE ADAS HD Dash Cam USB Car DVR Starlight Night Vision Driving Recorder GPS Player Compatible With Android 4.0 And Above\n",
      "Aitemay Car DVR Camera G30 Full HD 1080P 120 Degree Dashcam Video Recorder Night Vision G-Sensor Motion Detection Dash Camera\n",
      "Car Rear View Camara Dash Cam Reverse Camera Night Backup Parking Monitor Vision HD 1080P Camera 170° I4X6\n",
      "[New Launch] 70mai A510 Dash Cam Dual Vision Car Recorder with GPS ADAS [Add-on 4G Hardwire Kit]\n",
      "HD013 2K HD WIFI dashcam for car 4\" inch 2 Lens front and rear dash cam Car camera Recorder night vision App Control DVR行车记录器\n",
      "HOMEKING | FREE 64GB Memory Card 3 in 1 Dash Cam Car Camera DVR HD 1080P 170 Wide Angle Cycle Recorder G-Sensor 3 IN 1 Dashcam\n",
      "SAFECAM A38 Three-Channel Dashcam Triple Lens 1080P Full HD, Front + Inner + Rear Dashcam 3 Inch Screen 24-H Time Lapse\n",
      "SouthOcean 24H Record 1080P GPS Dashcam for Car Dash Cam Dual Camera Front & Back With Night Vision WDR APP DVR Mini Car Camera Recorder\n",
      "70mai Dashcam A200 Dual Channel 1080P Full HD Resolution + HDR |  APPs Control | 24H Parking Surveillance\n",
      "[FREE INSTALLATION] TRAPO i-SIGHT T350 2K Dashcam\n",
      "AZDOME M17PRO 1296P Full HD Dual Channel Front & Rear DashCam Night Vision ADAS App Control Car Camera Driving Recorder\n",
      "&lt;1080MP&gt; FULL HD Car Camera Full Wide Angle RecordingVideo LIVE\n",
      "1080P FULL HD Mirror Car Dash Cam Front & Back Video DVR Camera\n",
      "*PARKING MODE* 24 Hours Recording Car Recorder Dashcam CCTV KERETA\n",
      "South Ocean 24H Record 4 Channel WiFi Built-in GPS Dashcam FHD 1080P Front Left Right Rear With Infrared Night Vision Car Dash Cam\n",
      "【8.8 Mesti Beli】 BuzzTech 10 Inch Touch Screen Dash Cam Car DVR Mirror Video Recorder Car Dual Lens Recorder Dash Camera 行车记录仪\n",
      "RM135.80\n",
      "RM79.80\n",
      "RM78.49\n",
      "RM79.80\n",
      "RM249.00\n",
      "RM71.82\n",
      "RM179.00\n",
      "RM79.80\n",
      "RM75.20\n",
      "RM85.00\n",
      "RM31.84\n",
      "RM99.00\n",
      "RM35.14\n",
      "RM345.51\n",
      "RM99.00\n",
      "RM59.00\n",
      "RM59.75\n",
      "RM62.90\n",
      "RM389.00\n",
      "RM62.90\n",
      "RM34.87\n",
      "RM50.00\n",
      "RM266.10\n",
      "RM299.00\n",
      "RM32.00\n",
      "RM24.25\n",
      "RM15.59\n",
      "RM429.00\n",
      "RM69.90\n",
      "RM75.36\n",
      "RM119.00\n",
      "RM89.00\n",
      "RM259.00\n",
      "RM219.00\n",
      "RM151.00\n",
      "RM27.55\n",
      "RM59.88\n",
      "RM25.55\n",
      "RM269.90\n",
      "RM138.80\n"
     ]
    }
   ],
   "source": [
    "item_cost, item_init_cost, item_loc = [],[],[]\n",
    "item_name, items_sold, discount_percent = [], [], []\n",
    "while True:\n",
    "    try:\n",
    "        WebDriverWait(browser, delay)\n",
    "        print (\"Page is ready\")\n",
    "        sleep(5)\n",
    "        html = browser.execute_script(\"return document.getElementsByTagName('html')[0].innerHTML\")\n",
    "        #print(html)\n",
    "        soup = BeautifulSoup(html, \"html.parser\")\n",
    "\n",
    "        # find_all() returns an array of elements. \n",
    "        # We have to go through all of them and select that one you are need. And than call get_text()\n",
    "        for item_n in soup.find_all('div', class_='RfADt'):\n",
    "            print(item_n.get_text())\n",
    "            item_name.append(item_n.text)\n",
    "\n",
    "        # find the price of items\n",
    "        for item_c in soup.find_all('span', class_='ooOxS'):\n",
    "            print(item_c.get_text())\n",
    "            item_cost.append(item_c.text)\n",
    "\n",
    "        # find initial item cost\n",
    "        #for item_ic in soup.find_all('div', class_ = '_1w9jLI QbH7Ig U90Nhh'):\n",
    "        #    print(item_ic.get_text())\n",
    "        #    item_init_cost.append(item_ic.text)\n",
    "        \n",
    "        # find total number of items sold/month\n",
    "        for items_s in soup.find_all('div',class_ = '1cEkb'):\n",
    "            print(items_s.get_text())\n",
    "            items_sold.append(items_s.text)\n",
    "\n",
    "        # find item discount percent\n",
    "        #for dp in soup.find_all('span', class_ = 'percent'):\n",
    "        #    print(dp.get_text())\n",
    "        #    discount_percent.append(dp.text)\n",
    "\n",
    "        # find item location\n",
    "        #for il in soup.find_all('div', class_ = '_3amru2'):\n",
    "        #    print(il.get_text())\n",
    "        #    item_loc.append(il.text)\n",
    "\n",
    "        break # it will break from the loop once the specific element will be present. \n",
    "    except TimeoutException:\n",
    "        print (\"Loading took too much time!-Try again\")"
   ]
  },
  {
   "cell_type": "code",
   "execution_count": 12,
   "metadata": {},
   "outputs": [],
   "source": [
    "rows = zip(item_name,item_cost,items_sold)"
   ]
  },
  {
   "cell_type": "code",
   "execution_count": 13,
   "metadata": {},
   "outputs": [],
   "source": [
    "import csv\n",
    "newFilePath = 'lazada_item_list.csv'\n",
    "with open(newFilePath, \"w\") as f:\n",
    "    writer = csv.writer(f)\n",
    "    for row in rows:\n",
    "        writer.writerow(row)"
   ]
  },
  {
   "cell_type": "code",
   "execution_count": 20,
   "metadata": {},
   "outputs": [
    {
     "data": {
      "text/plain": [
       "(40, 2)"
      ]
     },
     "execution_count": 20,
     "metadata": {},
     "output_type": "execute_result"
    }
   ],
   "source": [
    "df = pd.DataFrame(columns= ['product_name', 'price']) #, 'quantity_sold'\n",
    "df['product_name'] = pd.Series(item_name)\n",
    "df['price'] = pd.Series(item_cost)\n",
    "#df['quantity_sold'] = pd.Series(items_sold)\n",
    "df.shape"
   ]
  },
  {
   "cell_type": "code",
   "execution_count": 21,
   "metadata": {},
   "outputs": [],
   "source": [
    "df.to_csv(newFilePath)"
   ]
  },
  {
   "cell_type": "code",
   "execution_count": 10,
   "metadata": {},
   "outputs": [],
   "source": [
    "# close the automated browser\n",
    "browser.close()"
   ]
  },
  {
   "cell_type": "code",
   "execution_count": null,
   "metadata": {},
   "outputs": [],
   "source": []
  }
 ],
 "metadata": {
  "kernelspec": {
   "display_name": "Python 3",
   "language": "python",
   "name": "python3"
  },
  "language_info": {
   "codemirror_mode": {
    "name": "ipython",
    "version": 3
   },
   "file_extension": ".py",
   "mimetype": "text/x-python",
   "name": "python",
   "nbconvert_exporter": "python",
   "pygments_lexer": "ipython3",
   "version": "3.11.9"
  }
 },
 "nbformat": 4,
 "nbformat_minor": 2
}
