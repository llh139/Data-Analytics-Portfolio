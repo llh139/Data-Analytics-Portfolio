{
 "cells": [
  {
   "cell_type": "code",
   "execution_count": 2,
   "metadata": {},
   "outputs": [
    {
     "name": "stdout",
     "output_type": "stream",
     "text": [
      "Note: you may need to restart the kernel to use updated packages.Requirement already satisfied: requests in c:\\users\\1\\appdata\\local\\packages\\pythonsoftwarefoundation.python.3.11_qbz5n2kfra8p0\\localcache\\local-packages\\python311\\site-packages (2.32.3)\n",
      "Requirement already satisfied: charset-normalizer<4,>=2 in c:\\users\\1\\appdata\\local\\packages\\pythonsoftwarefoundation.python.3.11_qbz5n2kfra8p0\\localcache\\local-packages\\python311\\site-packages (from requests) (3.3.2)\n",
      "Requirement already satisfied: idna<4,>=2.5 in c:\\users\\1\\appdata\\local\\packages\\pythonsoftwarefoundation.python.3.11_qbz5n2kfra8p0\\localcache\\local-packages\\python311\\site-packages (from requests) (3.10)\n",
      "Requirement already satisfied: urllib3<3,>=1.21.1 in c:\\users\\1\\appdata\\local\\packages\\pythonsoftwarefoundation.python.3.11_qbz5n2kfra8p0\\localcache\\local-packages\\python311\\site-packages (from requests) (2.2.3)\n",
      "Requirement already satisfied: certifi>=2017.4.17 in c:\\users\\1\\appdata\\local\\packages\\pythonsoftwarefoundation.python.3.11_qbz5n2kfra8p0\\localcache\\local-packages\\python311\\site-packages (from requests) (2024.8.30)\n",
      "\n"
     ]
    },
    {
     "name": "stderr",
     "output_type": "stream",
     "text": [
      "\n",
      "[notice] A new release of pip is available: 24.0 -> 24.2\n",
      "[notice] To update, run: C:\\Users\\1\\AppData\\Local\\Microsoft\\WindowsApps\\PythonSoftwareFoundation.Python.3.11_qbz5n2kfra8p0\\python.exe -m pip install --upgrade pip\n"
     ]
    },
    {
     "name": "stdout",
     "output_type": "stream",
     "text": [
      "Collecting bs4\n",
      "  Downloading bs4-0.0.2-py2.py3-none-any.whl.metadata (411 bytes)\n",
      "Collecting beautifulsoup4 (from bs4)\n",
      "  Downloading beautifulsoup4-4.12.3-py3-none-any.whl.metadata (3.8 kB)\n",
      "Collecting soupsieve>1.2 (from beautifulsoup4->bs4)\n",
      "  Downloading soupsieve-2.6-py3-none-any.whl.metadata (4.6 kB)\n",
      "Downloading bs4-0.0.2-py2.py3-none-any.whl (1.2 kB)\n",
      "Downloading beautifulsoup4-4.12.3-py3-none-any.whl (147 kB)\n",
      "   ---------------------------------------- 0.0/147.9 kB ? eta -:--:--\n",
      "   ----- --------------------------------- 20.5/147.9 kB 682.7 kB/s eta 0:00:01\n",
      "   ---------------- ---------------------- 61.4/147.9 kB 825.8 kB/s eta 0:00:01\n",
      "   ---------------------------------------- 147.9/147.9 kB 1.5 MB/s eta 0:00:00\n",
      "Downloading soupsieve-2.6-py3-none-any.whl (36 kB)\n",
      "Installing collected packages: soupsieve, beautifulsoup4, bs4\n",
      "Successfully installed beautifulsoup4-4.12.3 bs4-0.0.2 soupsieve-2.6\n",
      "Note: you may need to restart the kernel to use updated packages.\n"
     ]
    },
    {
     "name": "stderr",
     "output_type": "stream",
     "text": [
      "\n",
      "[notice] A new release of pip is available: 24.0 -> 24.2\n",
      "[notice] To update, run: C:\\Users\\1\\AppData\\Local\\Microsoft\\WindowsApps\\PythonSoftwareFoundation.Python.3.11_qbz5n2kfra8p0\\python.exe -m pip install --upgrade pip\n"
     ]
    }
   ],
   "source": [
    "%pip install requests\n",
    "%pip install bs4"
   ]
  },
  {
   "cell_type": "code",
   "execution_count": 1,
   "metadata": {},
   "outputs": [],
   "source": [
    "from bs4 import BeautifulSoup # type: ignore\n",
    "import requests # type: ignore\n",
    "import pandas as pd # type: ignore\n",
    "import urllib.parse\n",
    "#import os\n",
    "#from PIL import Image\n",
    "#from IPython.display import IFrame"
   ]
  },
  {
   "cell_type": "code",
   "execution_count": 7,
   "metadata": {},
   "outputs": [
    {
     "name": "stdout",
     "output_type": "stream",
     "text": [
      "Collecting selenium\n",
      "  Downloading selenium-4.25.0-py3-none-any.whl.metadata (7.1 kB)\n",
      "Requirement already satisfied: urllib3<3,>=1.26 in c:\\users\\1\\appdata\\local\\packages\\pythonsoftwarefoundation.python.3.11_qbz5n2kfra8p0\\localcache\\local-packages\\python311\\site-packages (from urllib3[socks]<3,>=1.26->selenium) (2.2.3)\n",
      "Collecting trio~=0.17 (from selenium)\n",
      "  Downloading trio-0.26.2-py3-none-any.whl.metadata (8.6 kB)\n",
      "Collecting trio-websocket~=0.9 (from selenium)\n",
      "  Downloading trio_websocket-0.11.1-py3-none-any.whl.metadata (4.7 kB)\n",
      "Requirement already satisfied: certifi>=2021.10.8 in c:\\users\\1\\appdata\\local\\packages\\pythonsoftwarefoundation.python.3.11_qbz5n2kfra8p0\\localcache\\local-packages\\python311\\site-packages (from selenium) (2024.8.30)\n",
      "Requirement already satisfied: typing_extensions~=4.9 in c:\\users\\1\\appdata\\local\\packages\\pythonsoftwarefoundation.python.3.11_qbz5n2kfra8p0\\localcache\\local-packages\\python311\\site-packages (from selenium) (4.12.2)\n",
      "Collecting websocket-client~=1.8 (from selenium)\n",
      "  Downloading websocket_client-1.8.0-py3-none-any.whl.metadata (8.0 kB)\n",
      "Requirement already satisfied: attrs>=23.2.0 in c:\\users\\1\\appdata\\local\\packages\\pythonsoftwarefoundation.python.3.11_qbz5n2kfra8p0\\localcache\\local-packages\\python311\\site-packages (from trio~=0.17->selenium) (24.2.0)\n",
      "Collecting sortedcontainers (from trio~=0.17->selenium)\n",
      "  Downloading sortedcontainers-2.4.0-py2.py3-none-any.whl.metadata (10 kB)\n",
      "Requirement already satisfied: idna in c:\\users\\1\\appdata\\local\\packages\\pythonsoftwarefoundation.python.3.11_qbz5n2kfra8p0\\localcache\\local-packages\\python311\\site-packages (from trio~=0.17->selenium) (3.10)\n",
      "Collecting outcome (from trio~=0.17->selenium)\n",
      "  Downloading outcome-1.3.0.post0-py2.py3-none-any.whl.metadata (2.6 kB)\n",
      "Collecting sniffio>=1.3.0 (from trio~=0.17->selenium)\n",
      "  Downloading sniffio-1.3.1-py3-none-any.whl.metadata (3.9 kB)\n",
      "Collecting cffi>=1.14 (from trio~=0.17->selenium)\n",
      "  Downloading cffi-1.17.1-cp311-cp311-win_amd64.whl.metadata (1.6 kB)\n",
      "Collecting wsproto>=0.14 (from trio-websocket~=0.9->selenium)\n",
      "  Downloading wsproto-1.2.0-py3-none-any.whl.metadata (5.6 kB)\n",
      "Collecting pysocks!=1.5.7,<2.0,>=1.5.6 (from urllib3[socks]<3,>=1.26->selenium)\n",
      "  Downloading PySocks-1.7.1-py3-none-any.whl.metadata (13 kB)\n",
      "Collecting pycparser (from cffi>=1.14->trio~=0.17->selenium)\n",
      "  Downloading pycparser-2.22-py3-none-any.whl.metadata (943 bytes)\n",
      "Collecting h11<1,>=0.9.0 (from wsproto>=0.14->trio-websocket~=0.9->selenium)\n",
      "  Downloading h11-0.14.0-py3-none-any.whl.metadata (8.2 kB)\n",
      "Downloading selenium-4.25.0-py3-none-any.whl (9.7 MB)\n",
      "   ---------------------------------------- 0.0/9.7 MB ? eta -:--:--\n",
      "    --------------------------------------- 0.2/9.7 MB 5.4 MB/s eta 0:00:02\n",
      "   ---- ----------------------------------- 1.0/9.7 MB 13.1 MB/s eta 0:00:01\n",
      "   ---------- ----------------------------- 2.6/9.7 MB 20.6 MB/s eta 0:00:01\n",
      "   ------------------- -------------------- 4.6/9.7 MB 29.4 MB/s eta 0:00:01\n",
      "   ----------------------------- ---------- 7.2/9.7 MB 35.5 MB/s eta 0:00:01\n",
      "   ---------------------------------- ----- 8.4/9.7 MB 33.5 MB/s eta 0:00:01\n",
      "   ---------------------------------------  9.7/9.7 MB 34.3 MB/s eta 0:00:01\n",
      "   ---------------------------------------  9.7/9.7 MB 34.3 MB/s eta 0:00:01\n",
      "   ---------------------------------------- 9.7/9.7 MB 28.1 MB/s eta 0:00:00\n",
      "Downloading trio-0.26.2-py3-none-any.whl (475 kB)\n",
      "   ---------------------------------------- 0.0/476.0 kB ? eta -:--:--\n",
      "   --------------------------------------- 476.0/476.0 kB 29.1 MB/s eta 0:00:00\n",
      "Downloading trio_websocket-0.11.1-py3-none-any.whl (17 kB)\n",
      "Downloading websocket_client-1.8.0-py3-none-any.whl (58 kB)\n",
      "   ---------------------------------------- 0.0/58.8 kB ? eta -:--:--\n",
      "   ---------------------------------------- 58.8/58.8 kB 3.0 MB/s eta 0:00:00\n",
      "Downloading cffi-1.17.1-cp311-cp311-win_amd64.whl (181 kB)\n",
      "   ---------------------------------------- 0.0/181.4 kB ? eta -:--:--\n",
      "   ---------------------------------------- 181.4/181.4 kB ? eta 0:00:00\n",
      "Downloading PySocks-1.7.1-py3-none-any.whl (16 kB)\n",
      "Downloading sniffio-1.3.1-py3-none-any.whl (10 kB)\n",
      "Downloading wsproto-1.2.0-py3-none-any.whl (24 kB)\n",
      "Downloading outcome-1.3.0.post0-py2.py3-none-any.whl (10 kB)\n",
      "Downloading sortedcontainers-2.4.0-py2.py3-none-any.whl (29 kB)\n",
      "Downloading h11-0.14.0-py3-none-any.whl (58 kB)\n",
      "   ---------------------------------------- 0.0/58.3 kB ? eta -:--:--\n",
      "   ---------------------------------------- 58.3/58.3 kB ? eta 0:00:00\n",
      "Downloading pycparser-2.22-py3-none-any.whl (117 kB)\n",
      "   ---------------------------------------- 0.0/117.6 kB ? eta -:--:--\n",
      "   ---------------------------------------- 117.6/117.6 kB 6.7 MB/s eta 0:00:00\n",
      "Installing collected packages: sortedcontainers, websocket-client, sniffio, pysocks, pycparser, outcome, h11, wsproto, cffi, trio, trio-websocket, selenium\n",
      "Successfully installed cffi-1.17.1 h11-0.14.0 outcome-1.3.0.post0 pycparser-2.22 pysocks-1.7.1 selenium-4.25.0 sniffio-1.3.1 sortedcontainers-2.4.0 trio-0.26.2 trio-websocket-0.11.1 websocket-client-1.8.0 wsproto-1.2.0\n",
      "Note: you may need to restart the kernel to use updated packages.\n"
     ]
    },
    {
     "name": "stderr",
     "output_type": "stream",
     "text": [
      "\n",
      "[notice] A new release of pip is available: 24.0 -> 24.2\n",
      "[notice] To update, run: C:\\Users\\1\\AppData\\Local\\Microsoft\\WindowsApps\\PythonSoftwareFoundation.Python.3.11_qbz5n2kfra8p0\\python.exe -m pip install --upgrade pip\n"
     ]
    }
   ],
   "source": [
    "%pip install selenium"
   ]
  },
  {
   "cell_type": "code",
   "execution_count": 2,
   "metadata": {},
   "outputs": [],
   "source": [
    "from selenium import webdriver # type: ignore\n",
    "from selenium.webdriver.chrome.options import Options # type: ignore\n",
    "from selenium.webdriver.chrome.service import Service # type: ignore\n",
    "from selenium.webdriver.support.ui import WebDriverWait # type: ignore\n",
    "from selenium.common.exceptions import TimeoutException # type: ignore\n",
    "from time import sleep"
   ]
  },
  {
   "cell_type": "code",
   "execution_count": 5,
   "metadata": {},
   "outputs": [
    {
     "name": "stdout",
     "output_type": "stream",
     "text": [
      "https://shopee.com.my/search?keyword=dashcam\n",
      "200\n",
      "b'<!doctype html>\\n<html dir=\"ltr\">\\n<head>\\n<link rel=\"preconnect\" href=\"//down-my.img.susercontent.com/\">\\n<link rel=\"preconnect\" href=\"//deo.shopeemobile.com/shopee/\">\\n<link rel=\"preconnect\" href=\"//cv.shopee.com.my/\">\\n<meta charset=\"utf-8\">\\n<meta name=\"viewport\" content=\"width=device-width,initial-scale=1,maximum-scale=1,minimum-scale=1,user-scalable=no,viewport-fit=cover\">\\n<meta name=\"shopee:git-sha\" content=\"5731dce77504405ae05fbd2ff3b7158f23158223\">\\n<meta name=\"shopee:version\" content=\"sw-WEBFE-MKP-2024.10.02-ir-1\">\\n<link rel=\"icon\" type=\"image/png\" sizes=\"32x32\" href=\"https://deo.shopeemobile.com/shopee/shopee-mobilemall-live-sg/assets/icon_favicon_1_32.0Wecxv.png\">\\n<link rel=\"icon\" type=\"image/png\" sizes=\"96x96\" href=\"https://deo.shopeemobile.com/shopee/shopee-mobilemall-live-sg/assets/icon_favicon_1_96.wI1aMs.png\">\\n<link rel=\"preload\" href=\"https://deo.shopeemobile.com/shopee/shopee-mobilemall-live-sg/assets/bundle.19f542ce019c3599.css\" as=\"style\" data-modern=\"true\">\\n<link rel=\"modulepreload\" href=\"https://deo.shopeemobile.com/shopee/shopee-mobilemall-live-sg/assets/webpack-runtime.c133fa731ec10363.js\" data-modern=\"true\">\\n<link rel=\"modulepreload\" href=\"https://deo.shopeemobile.com/shopee/shopee-mobilemall-live-sg/assets/entry-modules.5bd1171b3f730470.js\" data-modern=\"true\">\\n<link rel=\"modulepreload\" href=\"https://deo.shopeemobile.com/shopee/shopee-mobilemall-live-sg/assets/bundle.46a522b2c8aa853b.js\" data-modern=\"true\">\\n<link rel=\"modulepreload\" href=\"https://deo.shopeemobile.com/shopee/shopee-mobilemall-live-sg/assets/modules.820277b09a31a2f9.js\" data-modern=\"true\">\\n<script>\\n/** actually app id */\\n        window.__PAGE_ID__ = 12;\\n        window.__APP_ID__ = 12;\\n        window.__LOCALE__ = \\'MY\\';\\n        window.__ENV__ = \\'live\\';\\n        window.__META_APP_DETAILS__ = {\"apmsPromotionLiveKey\":\"a5d1f0ec50dfb01a8f66086733613696fe5dceeb8c440326ca3340240183c965\",\"apmsPromotionNonLiveKey\":\"a4d4f25de385e05a506e0b6dd6facfc10c0961935d9e447a5d6737d0997b6b49\",\"sentryDsn\":\"https://8945879c862e4399a3c578cb701c93ab@o468184.ingest.sentry.io/5495708\",\"sentryDsn-sap-web-sdk\":\"https://330029e340266d72479a9e96074446a9@o468184.ingest.sentry.io/4505923044048896\",\"sentryDsn-shopee-promotion-page-builder\":\"https://56a7b696ba91fac45734da10336f7870@o468184.ingest.sentry.io/4506336276709376\",\"sentryDsn-shopee-secure-fetch-utils\":\"https://3a626cf85fcbe10f5075919686d6397f@o468184.ingest.sentry.io/4506234056146944\"};\\n        window.__ASSETS__ = {\"DL_ENABLED_MALL_REGIONS\":[\"SG\",\"MY\",\"ID\",\"TH\",\"VN\",\"PH\",\"TW\"],\"FESTIVAL_SKIN_V2\":{\"error_messages\":null,\"error_msg\":null,\"data\":[{\"id\":51,\"name\":\"10.10 Brands Festival 2024\",\"start\":1727280000,\"end\":1728835199,\"status\":\"ongoing\",\"visibility\":true,\"mtime\":null,\"operator\":null,\"mobile\":{\"category_image\":null,\"daily_discover_image\":null,\"timer\":null,\"custom_header_array\":null,\"display\":1,\"header_color\":null,\"apply_to_pc\":false},\"pc\":{\"logo\":null,\"banner\":{\"image_type\":\"fs\",\"image\":\"my-11134258-7rasb-m0meqcoi8if8ac\",\"display_width\":3400,\"display_height\":800},\"timer\":null,\"custom_header_array\":null,\"display\":1,\"header_color\":null,\"key_visual_height\":null},\"navbar\":{\"background_image_standard\":null,\"background_image_long\":null,\"color\":null,\"display\":0}}],\"error\":null},\"MART_CONFIG\":{\"shop\":{\"shopid\":52784309,\"username\":\"shopee_mart\"},\"header\":{\"bg_color\":\"#066bc8\"}},\"MMS_IMAGE_DOMAIN\":{\"AR\":\"down-ar.img.susercontent.com\",\"BR\":\"down-br.img.susercontent.com\",\"CL\":\"down-cl.img.susercontent.com\",\"CO\":\"down-co.img.susercontent.com\",\"ES\":\"down-es.img.susercontent.com\",\"FR\":\"down-fr.img.susercontent.com\",\"ID\":\"down-id.img.susercontent.com\",\"IN\":\"down-in.img.susercontent.com\",\"MX\":\"down-mx.img.susercontent.com\",\"MY\":\"down-my.img.susercontent.com\",\"PH\":\"down-ph.img.susercontent.com\",\"PL\":\"down-pl.img.susercontent.com\",\"SG\":\"down-sg.img.susercontent.com\",\"TH\":\"down-th.img.susercontent.com\",\"TW\":\"down-tw.img.susercontent.com\",\"VN\":\"down-vn.img.susercontent.com\"},\"PB_CONFIG\":{\"disable_ssr_mode\":true,\"enable-languages-blocking\":false,\"enable-locales-blocking\":false,\"enable-path-blocking\":false,\"enable-platform-blocking\":false,\"pb-support-languages\":[\"id\",\"en\"],\"pb-support-locales\":[\"ID\"],\"pb-support-path-prefixes\":[\"/m/test-pb\",\"/m/sfdriver-kamissiaga-240823\",\"/m/sfdriver-jumatdisiplin-250823\",\"/m/tosgeneralsfdriver\",\"/m/generaleduhub-dhlk101\",\"/m/Big-Promo-telco\",\"/m/spaywallet-succedmigrationinfo\",\"/m/informasi-biaya-penarikan-dana-food\",\"/m/spaymigration-unconnectedmultiaccount-eduphaseII-100823\",\"/m/tutorialdeklarasimitra-100522\",\"/m/spxstackinglaunch-jabodetabek-180823\",\"/m/toshub\",\"/m/shopee-xpress-instant-merchant-app-dummy\",\"/m/sfdriver-spaylater-cashback20\",\"/m/buka-rekening-seabank-merchant\",\"/m/WD-Limit-SPay-SFood\",\"/m/jumbo-cashback\",\"/m/garansi-shopee-id\",\"/m/sfdriver-jumatdisiplin-201023\",\"/m/Huawei-Matepad-11-Papermatte-teaser-2023\",\"/m/shopee-garansi-ori\",\"/m/tentang-cod-cekdulu\",\"/m/sfdriver-specialbonuspointjkt-251023\"],\"pb-support-platforms\":[\"rw\"]},\"PLATFORM_STATIC_TOGGLE\":{\"Api_Fu_Hook\":{\"CMTCOL\":100,\"CMTMART\":100,\"CMTMICS\":100,\"DISCNTCOIN\":100,\"FlashSale\":100,\"IdentityRelationShip\":100,\"MPBuyerOrder\":100,\"MPI\":100,\"OPACRM\":100,\"PDP\":100,\"PromotionPS\":100,\"Rating\":100,\"Recommendation\":100,\"Search\":100,\"SeoRelatedlink\":100,\"Shop\":100,\"Traffic\":100},\"EXPERIMENTS_PROXY\":0,\"R18\":0,\"SINGLETON_BRIDGE\":{\"default\":50,\"return\":100,\"verify\":50},\"USE_LATEST_SFU\":0},\"SAP\":[{\"p\":0,\"v\":\"2.18.174\"},{\"p\":100,\"v\":\"2.18.182\"}],\"SECURITY_REFRESH_INTERVAL\":{\"#\":\"3 hours\",\"interval\":180},\"TRANSIFY_COLLECTION_MAPPING\":{\"en-live-10\":1711593842,\"en-live-100\":1711593842,\"en-live-101\":1711593842,\"en-live-102\":1711593842,\"en-live-107\":1711593842,\"en-live-108\":1711593842,\"en-live-111\":1713411021,\"en-live-113\":1727319134,\"en-live-118\":1727071384,\"en-live-128\":1711593842,\"en-live-129\":1711593842,\"en-live-131\":1711593842,\"en-live-132\":1711593842,\"en-live-136\":1711593842,\"en-live-138\":1711593842,\"en-live-14\":1720593153,\"en-live-140\":1711593842,\"en-live-141\":1711593842,\"en-live-143\":1711593842,\"en-live-145\":1711593842,\"en-live-147\":1711593842,\"en-live-148\":1613634051,\"en-live-15\":1711593842,\"en-live-151\":1711593842,\"en-live-155\":1711593842,\"en-live-158\":1711593842,\"en-live-16\":1720435035,\"en-live-166\":1711593842,\"en-live-167\":1711593842,\"en-live-17\":1726468997,\"en-live-18\":1711593842,\"en-live-184\":1599448355,\"en-live-189\":1711593842,\"en-live-20\":1711593842,\"en-live-204\":1721727953,\"en-live-206\":1711593842,\"en-live-209\":1711593842,\"en-live-21\":1711593842,\"en-live-213\":1641889752,\"en-live-214\":1726220591,\"en-live-223\":1711593842,\"en-live-224\":1711593842,\"en-live-231\":1711593842,\"en-live-235\":1726027126,\"en-live-239\":1727841460,\"en-live-242\":1711593842,\"en-live-243\":1727057597,\"en-live-246\":1711593842,\"en-live-254\":1711593842,\"en-live-255\":1711593842,\"en-live-256\":1711593842,\"en-live-257\":1711593842,\"en-live-258\":1711593842,\"en-live-263\":1711593842,\"en-live-265\":1711593842,\"en-live-268\":1711593842,\"en-live-27\":1711593842,\"en-live-277\":1711593842,\"en-live-28\":1727951419,\"en-live-283\":1711593842,\"en-live-287\":1711593842,\"en-live-29\":1711593842,\"en-live-290\":1711593842,\"en-live-292\":1711593842,\"en-live-294\":1711593842,\"en-live-297\":1711593842,\"en-live-30\":1720667280,\"en-live-300\":1711593842,\"en-live-301\":1711593842,\"en-live-303\":1711593842,\"en-live-306\":1711593842,\"en-live-31\":1725501436,\"en-live-310\":1711593842,\"en-live-311\":1622803477,\"en-live-314\":1719489288,\"en-live-318\":1711593842,\"en-live-32\":1711593842,\"en-live-321\":1711593842,\"en-live-326\":1711593842,\"en-live-33\":1711593842,\"en-live-330\":1711593842,\"en-live-340\":1711593842,\"en-live-343\":1711593842,\"en-live-345\":1711593842,\"en-live-348\":1711593842,\"en-live-350\":1711593842,\"en-live-354\":1711593842,\"en-live-355\":1711593842,\"en-live-360\":1711593842,\"en-live-361\":1711593842,\"en-live-362\":1711593842,\"en-live-363\":1711593842,\"en-live-368\":1634095524,\"en-live-378\":1711593842,\"en-live-379\":1711593842,\"en-live-380\":1711593842,\"en-live-389\":1724035056,\"en-live-392\":1719489444,\"en-live-397\":1713250113,\"en-live-40\":1711593842,\"en-live-406\":1711593842,\"en-live-409\":1711593842,\"en-live-42\":1711593842,\"en-live-422\":1711593842,\"en-live-426\":1711593842,\"en-live-43\":1719382973,\"en-live-432\":1711593842,\"en-live-436\":1720593494,\"en-live-445\":1711593842,\"en-live-453\":1715053867,\"en-live-457\":1711593842,\"en-live-463\":1711593842,\"en-live-47\":1711593842,\"en-live-474\":1680167455,\"en-live-476\":1711593842,\"en-live-477\":1711593842,\"en-live-478\":1711593842,\"en-live-484\":1711593842,\"en-live-490\":1714613892,\"en-live-507\":1711593842,\"en-live-509\":1711593842,\"en-live-515\":1711593842,\"en-live-520\":1711593842,\"en-live-521\":1711593842,\"en-live-522\":1693471233,\"en-live-523\":1711593842,\"en-live-524\":1711593842,\"en-live-525\":1711593842,\"en-live-528\":1711593842,\"en-live-530\":1726027081,\"en-live-531\":1711593842,\"en-live-532\":1711593842,\"en-live-535\":1711593842,\"en-live-538\":1711593842,\"en-live-545\":1711593842,\"en-live-561\":1711593842,\"en-live-573\":1727319239,\"en-live-577\":1711593842,\"en-live-578\":1711593842,\"en-live-590\":1711593842,\"en-live-601\":1711593842,\"en-live-607\":1704252531,\"en-live-611\":1726135838,\"en-live-630\":1711593842,\"en-live-649\":1711593842,\"en-live-652\":1711593842,\"en-live-654\":1727431633,\"en-live-656\":1711593842,\"en-live-660\":1717055759,\"en-live-670\":1720605842,\"en-live-673\":1722933413,\"en-live-688\":1727840909,\"en-live-7\":1647843523,\"en-live-73\":1711593842,\"en-live-76\":1643359987,\"en-live-8\":1727147006,\"en-live-83\":1711593842,\"en-live-85\":1711593842,\"en-live-9\":1727411755,\"zh-hans-live-10\":1711593842,\"zh-hans-live-100\":1711593842,\"zh-hans-live-101\":1711593842,\"zh-hans-live-102\":1711593842,\"zh-hans-live-107\":1711593842,\"zh-hans-live-108\":1711593842,\"zh-hans-live-111\":1713411021,\"zh-hans-live-113\":1727319134,\"zh-hans-live-118\":1727071384,\"zh-hans-live-128\":1711593842,\"zh-hans-live-129\":1711593842,\"zh-hans-live-131\":1711593842,\"zh-hans-live-132\":1711593842,\"zh-hans-live-136\":1711593842,\"zh-hans-live-138\":1711593842,\"zh-hans-live-14\":1720593153,\"zh-hans-live-140\":1711593842,\"zh-hans-live-141\":1711593842,\"zh-hans-live-143\":1711593842,\"zh-hans-live-145\":1711593842,\"zh-hans-live-147\":1711593842,\"zh-hans-live-148\":1613634051,\"zh-hans-live-15\":1711593842,\"zh-hans-live-151\":1711593842,\"zh-hans-live-155\":1711593842,\"zh-hans-live-158\":1711593842,\"zh-hans-live-16\":1720435035,\"zh-hans-live-166\":1711593842,\"zh-hans-live-167\":1711593842,\"zh-hans-live-17\":1726468997,\"zh-hans-live-18\":1711593842,\"zh-hans-live-184\":1599448355,\"zh-hans-live-189\":1711593842,\"zh-hans-live-20\":1711593842,\"zh-hans-live-204\":1721727953,\"zh-hans-live-206\":1711593842,\"zh-hans-live-209\":1711593842,\"zh-hans-live-21\":1711593842,\"zh-hans-live-213\":1641889752,\"zh-hans-live-214\":1726220591,\"zh-hans-live-223\":1711593842,\"zh-hans-live-224\":1711593842,\"zh-hans-live-231\":1711593842,\"zh-hans-live-235\":1726027126,\"zh-hans-live-239\":1727841460,\"zh-hans-live-242\":1711593842,\"zh-hans-live-243\":1727057597,\"zh-hans-live-246\":1711593842,\"zh-hans-live-254\":1711593842,\"zh-hans-live-255\":1711593842,\"zh-hans-live-256\":1711593842,\"zh-hans-live-257\":1711593842,\"zh-hans-live-258\":1711593842,\"zh-hans-live-263\":1711593842,\"zh-hans-live-265\":1711593842,\"zh-hans-live-268\":1711593842,\"zh-hans-live-27\":1711593842,\"zh-hans-live-277\":1711593842,\"zh-hans-live-28\":1727951419,\"zh-hans-live-283\":1711593842,\"zh-hans-live-287\":1711593842,\"zh-hans-live-29\":1711593842,\"zh-hans-live-290\":1711593842,\"zh-hans-live-292\":1711593842,\"zh-hans-live-294\":1711593842,\"zh-hans-live-297\":1711593842,\"zh-hans-live-30\":1720667280,\"zh-hans-live-300\":1711593842,\"zh-hans-live-301\":1711593842,\"zh-hans-live-303\":1711593842,\"zh-hans-live-306\":1711593842,\"zh-hans-live-31\":1725501436,\"zh-hans-live-310\":1711593842,\"zh-hans-live-314\":1719489288,\"zh-hans-live-318\":1711593842,\"zh-hans-live-32\":1711593842,\"zh-hans-live-321\":1711593842,\"zh-hans-live-326\":1711593842,\"zh-hans-live-33\":1711593842,\"zh-hans-live-330\":1711593842,\"zh-hans-live-340\":1711593842,\"zh-hans-live-343\":1711593842,\"zh-hans-live-345\":1711593842,\"zh-hans-live-348\":1711593842,\"zh-hans-live-350\":1711593842,\"zh-hans-live-354\":1711593842,\"zh-hans-live-355\":1711593842,\"zh-hans-live-360\":1711593842,\"zh-hans-live-361\":1711593842,\"zh-hans-live-362\":1711593842,\"zh-hans-live-363\":1711593842,\"zh-hans-live-368\":1634095524,\"zh-hans-live-378\":1711593842,\"zh-hans-live-379\":1711593842,\"zh-hans-live-380\":1711593842,\"zh-hans-live-389\":1724035056,\"zh-hans-live-392\":1713510122,\"zh-hans-live-397\":1713250113,\"zh-hans-live-40\":1711593842,\"zh-hans-live-406\":1711593842,\"zh-hans-live-409\":1711593842,\"zh-hans-live-42\":1711593842,\"zh-hans-live-422\":1711593842,\"zh-hans-live-426\":1711593842,\"zh-hans-live-43\":1719382973,\"zh-hans-live-432\":1711593842,\"zh-hans-live-436\":1720593494,\"zh-hans-live-445\":1711593842,\"zh-hans-live-453\":1715053867,\"zh-hans-live-457\":1711593842,\"zh-hans-live-463\":1711593842,\"zh-hans-live-47\":1711593842,\"zh-hans-live-474\":1680167455,\"zh-hans-live-476\":1711593842,\"zh-hans-live-477\":1711593842,\"zh-hans-live-478\":1711593842,\"zh-hans-live-484\":1711593842,\"zh-hans-live-490\":1714613892,\"zh-hans-live-507\":1711593842,\"zh-hans-live-509\":1711593842,\"zh-hans-live-515\":1711593842,\"zh-hans-live-520\":1711593842,\"zh-hans-live-521\":1711593842,\"zh-hans-live-522\":1693471233,\"zh-hans-live-523\":1711593842,\"zh-hans-live-524\":1711593842,\"zh-hans-live-525\":1711593842,\"zh-hans-live-528\":1711593842,\"zh-hans-live-530\":1726027081,\"zh-hans-live-531\":1711593842,\"zh-hans-live-532\":1711593842,\"zh-hans-live-535\":1711593842,\"zh-hans-live-538\":1711593842,\"zh-hans-live-545\":1711593842,\"zh-hans-live-561\":1711593842,\"zh-hans-live-573\":1727319239,\"zh-hans-live-577\":1711593842,\"zh-hans-live-578\":1711593842,\"zh-hans-live-590\":1711593842,\"zh-hans-live-601\":1711593842,\"zh-hans-live-607\":1704252531,\"zh-hans-live-611\":1726135838,\"zh-hans-live-630\":1711593842,\"zh-hans-live-649\":1711593842,\"zh-hans-live-652\":1711593842,\"zh-hans-live-654\":1727431633,\"zh-hans-live-656\":1711593842,\"zh-hans-live-660\":1717055759,\"zh-hans-live-670\":1720605842,\"zh-hans-live-673\":1722933413,\"zh-hans-live-688\":1727840909,\"zh-hans-live-7\":1647843523,\"zh-hans-live-73\":1711593842,\"zh-hans-live-76\":1643359987,\"zh-hans-live-8\":1727147006,\"zh-hans-live-83\":1711593842,\"zh-hans-live-85\":1711593842,\"zh-hans-live-9\":1727411755,\"ms-live-10\":1711593842,\"ms-live-100\":1711593842,\"ms-live-101\":1711593842,\"ms-live-102\":1711593842,\"ms-live-107\":1711593842,\"ms-live-108\":1711593842,\"ms-live-111\":1713411021,\"ms-live-113\":1727319134,\"ms-live-118\":1727071384,\"ms-live-128\":1711593842,\"ms-live-129\":1711593842,\"ms-live-131\":1711593842,\"ms-live-132\":1711593842,\"ms-live-136\":1711593842,\"ms-live-138\":1711593842,\"ms-live-14\":1720593153,\"ms-live-140\":1711593842,\"ms-live-141\":1711593842,\"ms-live-143\":1711593842,\"ms-live-145\":1711593842,\"ms-live-147\":1711593842,\"ms-live-148\":1613634051,\"ms-live-15\":1711593842,\"ms-live-151\":1711593842,\"ms-live-155\":1711593842,\"ms-live-158\":1711593842,\"ms-live-16\":1720435035,\"ms-live-166\":1711593842,\"ms-live-167\":1711593842,\"ms-live-17\":1726468997,\"ms-live-18\":1711593842,\"ms-live-184\":1599448355,\"ms-live-189\":1711593842,\"ms-live-20\":1711593842,\"ms-live-204\":1721727953,\"ms-live-206\":1711593842,\"ms-live-209\":1711593842,\"ms-live-21\":1711593842,\"ms-live-213\":1641889752,\"ms-live-214\":1726220591,\"ms-live-223\":1711593842,\"ms-live-224\":1711593842,\"ms-live-231\":1711593842,\"ms-live-235\":1726027126,\"ms-live-239\":1727841460,\"ms-live-242\":1711593842,\"ms-live-243\":1727057597,\"ms-live-246\":1711593842,\"ms-live-254\":1711593842,\"ms-live-255\":1711593842,\"ms-live-256\":1711593842,\"ms-live-257\":1711593842,\"ms-live-258\":1711593842,\"ms-live-263\":1711593842,\"ms-live-265\":1711593842,\"ms-live-268\":1711593842,\"ms-live-27\":1711593842,\"ms-live-277\":1711593842,\"ms-live-28\":1727951419,\"ms-live-283\":1711593842,\"ms-live-287\":1711593842,\"ms-live-29\":1711593842,\"ms-live-290\":1711593842,\"ms-live-292\":1711593842,\"ms-live-294\":1711593842,\"ms-live-297\":1711593842,\"ms-live-30\":1720667280,\"ms-live-300\":1711593842,\"ms-live-301\":1711593842,\"ms-live-303\":1711593842,\"ms-live-306\":1711593842,\"ms-live-31\":1725501436,\"ms-live-310\":1711593842,\"ms-live-314\":1719489288,\"ms-live-318\":1711593842,\"ms-live-32\":1711593842,\"ms-live-321\":1711593842,\"ms-live-326\":1711593842,\"ms-live-33\":1711593842,\"ms-live-330\":1711593842,\"ms-live-340\":1711593842,\"ms-live-343\":1711593842,\"ms-live-345\":1711593842,\"ms-live-348\":1711593842,\"ms-live-350\":1711593842,\"ms-live-354\":1711593842,\"ms-live-355\":1711593842,\"ms-live-360\":1711593842,\"ms-live-361\":1711593842,\"ms-live-362\":1711593842,\"ms-live-363\":1711593842,\"ms-live-368\":1634095524,\"ms-live-378\":1711593842,\"ms-live-379\":1711593842,\"ms-live-380\":1711593842,\"ms-live-389\":1724035056,\"ms-live-392\":1713510122,\"ms-live-397\":1713250113,\"ms-live-40\":1711593842,\"ms-live-406\":1711593842,\"ms-live-409\":1711593842,\"ms-live-42\":1711593842,\"ms-live-422\":1711593842,\"ms-live-426\":1711593842,\"ms-live-43\":1719382973,\"ms-live-432\":1711593842,\"ms-live-436\":1720593494,\"ms-live-445\":1711593842,\"ms-live-453\":1715053867,\"ms-live-457\":1711593842,\"ms-live-463\":1711593842,\"ms-live-47\":1711593842,\"ms-live-474\":1680167455,\"ms-live-476\":1711593842,\"ms-live-477\":1711593842,\"ms-live-478\":1711593842,\"ms-live-484\":1711593842,\"ms-live-490\":1714613892,\"ms-live-507\":1711593842,\"ms-live-509\":1711593842,\"ms-live-515\":1711593842,\"ms-live-520\":1711593842,\"ms-live-521\":1711593842,\"ms-live-522\":1693471233,\"ms-live-523\":1711593842,\"ms-live-524\":1711593842,\"ms-live-525\":1711593842,\"ms-live-528\":1711593842,\"ms-live-530\":1726027081,\"ms-live-531\":1711593842,\"ms-live-532\":1711593842,\"ms-live-535\":1711593842,\"ms-live-538\":1711593842,\"ms-live-545\":1711593842,\"ms-live-561\":1711593842,\"ms-live-573\":1727319239,\"ms-live-577\":1711593842,\"ms-live-578\":1711593842,\"ms-live-590\":1711593842,\"ms-live-601\":1711593842,\"ms-live-607\":1704252531,\"ms-live-611\":1726135838,\"ms-live-630\":1711593842,\"ms-live-649\":1711593842,\"ms-live-652\":1711593842,\"ms-live-654\":1727431633,\"ms-live-656\":1711593842,\"ms-live-660\":1717055759,\"ms-live-670\":1720605842,\"ms-live-673\":1722933413,\"ms-live-688\":1727840909,\"ms-live-7\":1647843523,\"ms-live-73\":1711593842,\"ms-live-76\":1643359987,\"ms-live-8\":1727147006,\"ms-live-83\":1711593842,\"ms-live-85\":1711593842,\"ms-live-9\":1727411755},\"USER_STATIC_TOGGLE\":{\"af_sap_sdk\":true,\"af_sap_legacy\":false,\"use_anti_crawler_api_protection_sdk\":true,\"context_action_account_v2\":false,\"standalone_security_sdk\":true,\"standalone_fetch_utils\":true,\"fetch_account_v2\":false,\"fetch_account_v4\":true,\"account_info_sync_fetch_server_pc\":true,\"account_info_sync_fetch_server_rw\":true,\"account_info_sync_fetch_server_lite\":true,\"account_info_sync_fetch_client_pc\":true,\"account_info_sync_fetch_client_rw\":true,\"account_info_sync_fetch_client_lite\":true,\"account_redux_invalid_server_state_report_pc\":false,\"account_redux_invalid_server_state_report_rw\":false,\"account_redux_invalid_server_state_report_lite\":false,\"signup_otp_zalo_web\":false,\"login_otp_zalo_web\":false,\"authentication_bind_otp_zalo_web\":false,\"otp_shared_service_otp_zalo_web\":false,\"phone_number_format_v2\":true,\"identity_and_account_micro_app_pilot_test\":false},\"VOUCHER_CARD_MANIFEST\":{\"live\":\"vouchercard-v0.23.0\"}};\\n</script>\\n<script>!function(){if(self.document){var e=self.document.createElement(\"script\"),t=\"noModule\"in e,n=t;Object.defineProperty(self,\"SUPPORT_MODULE\",{get:function(){return n},configurable:!1,enumerable:!1}),!t&&\"onbeforeload\"in e&&(self.document.addEventListener(\"beforeload\",(function(t){if(t.target===e)n=!0;else if(!t.target.hasAttribute(\"nomodule\")||!n)return;t.preventDefault()}),!0),e.type=\"module\",e.src=\".\",self.document.head.appendChild(e),e.remove())}}();</script>\\n<script>!function(){var A=[\"lossy\",\"lossless\",\"alpha\",\"animation\"];function t(A,t){var n=new Image;n.onload=function(){var o=n.width>0&&n.height>0;t(A,o)},n.onerror=function(){t(A,!1)},n.src=\"data:image/webp;base64,\"+{lossy:\"UklGRiIAAABXRUJQVlA4IBYAAAAwAQCdASoBAAEADsD+JaQAA3AAAAAA\",lossless:\"UklGRhoAAABXRUJQVlA4TA0AAAAvAAAAEAcQERGIiP4HAA==\",alpha:\"UklGRkoAAABXRUJQVlA4WAoAAAAQAAAAAAAAAAAAQUxQSAwAAAARBxAR/Q9ERP8DAABWUDggGAAAABQBAJ0BKgEAAQAAAP4AAA3AAP7mtQAAAA==\",animation:\"UklGRlIAAABXRUJQVlA4WAoAAAASAAAAAAAAAAAAQU5JTQYAAAD/////AABBTk1GJgAAAAAAAAAAAAAAAAAAAGQAAABWUDhMDQAAAC8AAAAQBxAREYiI/gcA\"}[A]}function n(t,n){var o=function(t){var n={};if(!t||1!==t.length)return n;for(var o=parseInt(t,16).toString(2);o.length<4;)o=\"0\"+o;for(var s=0;s<A.length;s++)n[A[s]]=\"1\"===o[s];return n}(sessionStorage.getItem(\"shopee_webp_support\"));o[t]=n,sessionStorage.setItem(\"shopee_webp_support\",function(t){var n=\"0000\";if(!(t instanceof Object))return n;for(var o=0;o<A.length;o++)!0===t[A[o]]&&(n=n.substring(0,o)+\"1\"+n.substring(o+1));return parseInt(n,2).toString(16)}(o))}function o(A,t){try{n(A,t)}catch(A){}}sessionStorage.getItem(\"shopee_webp_support\")||(t(\"lossy\",o),t(\"lossless\",o),t(\"alpha\",o),t(\"animation\",o))}();</script>\\n<script nomodule src=\"https://deo.shopeemobile.com/shopee/shopee-mobilemall-live-sg/assets/polyfill-legacy.7612ae616d5fbe1c.legacy.js\"></script>\\n<script>!function(){var t=/^\\\\/(?:supermarket|cart|checkout|search)(?:\\\\/|$)/,e=document&&document.querySelector(\\'script[type^=\"text/shopee-short-url-checked\"]\\'),o=!(!e||\"1\"!==e.textContent),a=location&&location.origin||\"\";function n(){document&&document.body&&(document.body.style.visibility=\"visible\")}var r=\"\";function i(e){var o=function(t){var e=document.createElement(\"a\");return e.href=t,{pathname:e.pathname,hash:e.hash,search:e.search,protocol:e.protocol}}(e),i=o.pathname,s=o.hash,c=i.replace(/\\\\/+$/,\"\");if(r!==c&&(r=c,\"/\"!==i&&!function(e){return t.test(e)}(i)&&function(t){return 1===t.split(\"/\").filter(Boolean).length}(i)&&i.length<256&&\"\"===s&&0===i.lastIndexOf(\"/\"))){document&&document.body&&(document.body.style.visibility=\"hidden\"),setTimeout(n,5e3);var h=new XMLHttpRequest;h.open(\"GET\",a+\"/api/v4/pages/is_short_url/?path=\"+i.replace(\"/\",\"\")),h.setRequestHeader(\"Content-Type\",\"application/json\"),h.setRequestHeader(\"Accept\",\"application/json\"),h.onreadystatechange=function(){if(4===this.readyState)if(200===this.status){var t=JSON.parse(this.responseText);t&&t.data&&t.data.url?(console.log(\"Redirecting via short url to: res.data.url\"),location.href=t.data.url):n()}else n()},h.send()}}var s=window.history.pushState;window.history.pushState=function(){var t=arguments[2];t&&i(t),s.apply(history,arguments)};var c=window.history.replaceState;window.history.replaceState=function(){var t=arguments[2];t&&i(t),c.apply(history,arguments)},o||i(location.href)}();</script>\\n<script>\"loading\"in HTMLImageElement.prototype?document.addEventListener(\"DOMContentLoaded\",(function(){document.querySelectorAll(\"img[loading].lazyload\").forEach((function(e){e.dataset.src&&(e.src=e.dataset.src),e.dataset.srcset&&(e.srcset=e.dataset.srcset);var t=e.parentElement;if(t&&\"PICTURE\"===t.nodeName)for(var s=t.getElementsByTagName(\"source\"),a=0;a<s.length;a++)s[a].dataset.src&&(s[a].src=s[a].dataset.src),s[a].dataset.srcset&&(s[a].srcset=s[a].dataset.srcset)}))})):document.write(\\'<script type=\"text/javascript\" src=\"https://deo.shopeemobile.com/shopee/shopee-mobilemall-live-sg/assets/polyfill.d86e5ceef3caefa1.js\"><\\\\/script>\\')</script><script>\"IntersectionObserver\"in window&&\"IntersectionObserverEntry\"in window&&\"intersectionRatio\"in window.IntersectionObserverEntry.prototype&&\"isIntersecting\"in window.IntersectionObserverEntry.prototype||document.write(\\'<script type=\"text/javascript\" src=\"https://deo.shopeemobile.com/shopee/shopee-mobilemall-live-sg/assets/polyfill.37d33e36663e9727.js\"><\\\\/script>\\')</script><script>window.MutationObserver||document.write(\\'<script type=\"text/javascript\" src=\"https://deo.shopeemobile.com/shopee/shopee-mobilemall-live-sg/assets/polyfill.6d66a9f4abfc0453.js\"><\\\\/script>\\')</script><script>!function(){var e=document.createElement(\"div\").style;e.setProperty&&e.setProperty(\"--x\",\"x\"),e.getPropertyValue&&\"x\"===e.getPropertyValue(\"--x\")||(document.write(\\'<script type=\"text/javascript\" src=\"https://deo.shopeemobile.com/shopee/shopee-mobilemall-live-sg/assets/polyfill.12d3a15b20d9bd8d.js\"><\\\\/script>\\'),document.write(\"<script>window.cssVars({preserveVars:!0,watch:!0});<\\\\/script>\"))}()</script>\\n<script src=\"https://deo.shopeemobile.com/shopee/shopee-trackingsdk-live-sg/index.js\"></script>\\n<script id=\"gtm-script\" data-locale=\"my\" data-gtm-id=\"GTM-WJZQSJF\" data-delay-load=\"true\">!function(t,e,a,n){t[n]=[];var o=[\"PL\",\"ES\",\"BR\"].indexOf(__LOCALE__)>=0,r=o?\"denied\":\"granted\";!function(){dataLayer.push(arguments)}(\"consent\",\"default\",{consent_analytical:r,consent_functional:r,consent_advertising:r,consent_thirdparty_google:r,consent_thirdparty_tiktok:r,wait_for_update:o?15e3:0});var d=document.currentScript||document.getElementById(\"gtm-script\");if(d){var i=d.getAttribute(\"data-locale\"),c=d.getAttribute(\"data-gtm-id\"),s=d.getAttribute(\"data-delay-load\"),u=\"\",g=0;s&&(u=\"delay\",g=5e3),t[n]=t[n]||[];var m=Date.now(),_={\"gtm.start\":m,event:\"gtm.js\",country:i};u&&(_.userGroup=u),t[n].push(_);var l=!1;t.__shopeeLoadGTM=function(){l||(l=!0,g=Math.max(0,Math.min(g,g-(Date.now()-m))),setTimeout((function(){var t=e.getElementsByTagName(a)[0],n=e.createElement(a);n.async=!0,n.src=\"https://www.googletagmanager.com/gtm.js?id=\"+c,t.parentNode.insertBefore(n,t)}),g))},o||t.__shopeeLoadGTM()}}(window,document,\"script\",\"dataLayer\");</script>\\n<script>!function(t,_){try{var r=localStorage,a=(location.search.match(/(?:\\\\?|&)__react=(17|18)(?:&|$)/)||[])[1];a&&r.setItem(t,a);var e=r.getItem(t);if(\"17\"!==e){var c=__ASSETS__.PLATFORM_STATIC_TOGGLE.R18;if(\"18\"!==e&&100!==c){if(!c)return;var i=(self.__r18=self.__r18||document.cookie||\" \").split(\"SPC_F=\")[1].split(\";\")[0].slice(-2);for(t=0,r=0;r<i.length;r+=1)t=Math.imul(31,t)+i.charCodeAt(r)|0;if((t=Math.abs(t)%100)>=c)return}var o=(c=window)[_]=c[_]||{};o.react=o[\"react-dom\"]=\"18.3.1\"}}catch(a){}}(\"__RV\",\"__MF_OVERRIDE__\");</script>\\n<script>var spt=[]</script>\\n<link href=\"https://deo.shopeemobile.com/shopee/shopee-mobilemall-live-sg/assets/bundle.19f542ce019c3599.css\" data-modern=\"true\" rel=\"stylesheet\">\\n<link rel=\"manifest\" href=\"/mobilemall-assets/assets/manifest.d08c13e4fd1bf1b5ddc5b7933dc779fa.json\" /><meta name=\"mobile-web-app-capable\" content=\"yes\" /><meta name=\"apple-touch-fullscreen\" content=\"yes\" /><meta name=\"apple-mobile-web-app-title\" content=\"Shopee\" /><meta name=\"apple-mobile-web-app-capable\" content=\"yes\" /><meta name=\"apple-mobile-web-app-status-bar-style\" content=\"default\" /><link rel=\"apple-touch-icon\" size=\"120x120\" href=\"https://deo.shopeemobile.com/shopee/shopee-mobilemall-live-sg/assets/ios_icon_120x120.9c9cd4366011639d86dcf03856866b39.png\" /><link rel=\"apple-touch-icon\" size=\"180x180\" href=\"https://deo.shopeemobile.com/shopee/shopee-mobilemall-live-sg/assets/ios_icon_180x180.350d4cdc7ba40b87541691005bda74c5.png\" /><link rel=\"apple-touch-startup-image\" media=\"(device-width: 320px) and (device-height: 568px) and (-webkit-device-pixel-ratio: 2)\" href=\"https://deo.shopeemobile.com/shopee/shopee-mobilemall-live-sg/assets/ios_splash_screen_640x1136.44f3b1919faea215b1e8a8f33bc85eb2.png\" /><link rel=\"apple-touch-startup-image\" media=\"(device-width: 375px) and (device-height: 667px) and (-webkit-device-pixel-ratio: 2)\" href=\"https://deo.shopeemobile.com/shopee/shopee-mobilemall-live-sg/assets/ios_splash_screen_750x1334.e7f516f762373cc6c316d37455600b8a.png\" /><link rel=\"apple-touch-startup-image\" media=\"(device-width: 621px) and (device-height: 1104px) and (-webkit-device-pixel-ratio: 3)\" href=\"https://deo.shopeemobile.com/shopee/shopee-mobilemall-live-sg/assets/ios_splash_screen_1242x2208.0030ddfcb47d1a8f7f34ea1f488e063d.png\" /><link rel=\"apple-touch-startup-image\" media=\"(device-width: 375px) and (device-height: 812px) and (-webkit-device-pixel-ratio: 3)\" href=\"https://deo.shopeemobile.com/shopee/shopee-mobilemall-live-sg/assets/ios_splash_screen_1125x2436.d03df48b337e7e7f19d94203a800123b.png\" /><link rel=\"apple-touch-startup-image\" media=\"(device-width: 414px) and (device-height: 896px) and (-webkit-device-pixel-ratio: 2)\" href=\"https://deo.shopeemobile.com/shopee/shopee-mobilemall-live-sg/assets/ios_splash_screen_828x1792.848d89109908599fcf6edf6e0b7c6cde.png\" /><link rel=\"apple-touch-startup-image\" media=\"(device-width: 414px) and (device-height: 896px) and (-webkit-device-pixel-ratio: 3)\" href=\"https://deo.shopeemobile.com/shopee/shopee-mobilemall-live-sg/assets/ios_splash_screen_1242x2688.806794fa2096fd0d63f138f9380033ab.png\" /><link rel=\"apple-touch-startup-image\" media=\"(device-width: 360px) and (device-height: 780px) and (-webkit-device-pixel-ratio: 3)\" href=\"https://deo.shopeemobile.com/shopee/shopee-mobilemall-live-sg/assets/ios_splash_screen_1080x2340.b159e955714fc4bfcee0415d7a196559.png\" /><link rel=\"apple-touch-startup-image\" media=\"(device-width: 390px) and (device-height: 844px) and (-webkit-device-pixel-ratio: 3)\" href=\"https://deo.shopeemobile.com/shopee/shopee-mobilemall-live-sg/assets/ios_splash_screen_1170x2532.7d66e217dfb6824abb4829a8c0092554.png\" /><link rel=\"apple-touch-startup-image\" media=\"(device-width: 428px) and (device-height: 926px) and (-webkit-device-pixel-ratio: 3)\" href=\"https://deo.shopeemobile.com/shopee/shopee-mobilemall-live-sg/assets/ios_splash_screen_1284x2778.91b92b6b72c0355991793e6f3bf45eaf.png\" /><script type=\"text/shopee-page-manifest\">{\"mobilemall-productdetailspage\":\"https://deo.shopeemobile.com/shopee/stm-sg-live/32698/asset-MY-live.bd140a695b5453298e6598e8cea9186d.json\",\"mobilemall-cart\":\"https://deo.shopeemobile.com/shopee/stm-sg-live/2280/asset-MY-live.4f3f0e988ffae351e4c31d9f2c9f9be4.json\",\"mobilemall-paymentfe\":\"https://deo.shopeemobile.com/shopee/stm-sg-live/3039/asset-MY-live.cf241ade2326e984eda0b1075e07a327.json\",\"mobilemall-coinsrewardpage\":\"https://deo.shopeemobile.com/shopee/stm-sg-live/4959/asset-MY-live.2ff49cecc0e7fdd19edeacd8578c596d.json\",\"mobilemall-shop\":\"https://deo.shopeemobile.com/shopee/stm-sg-live/5054/asset-MY-live.09216b2f6a20561a9901dae97824618b.json\",\"mobilemall-chatbroadcast\":\"https://deo.shopeemobile.com/shopee/stm-sg-live/5252/asset-MY-live.b48c584e5d9cda0fdda524eaa1f9868b.json\",\"mobilemall-return\":\"https://deo.shopeemobile.com/shopee/stm-sg-live/5562/asset-MY-live.47e2b1a35627a8a50106062fbd3c8e3c.json\",\"mobilemall-flashsale\":\"https://deo.shopeemobile.com/shopee/stm-sg-live/7750/asset-MY-live.9a1ea2021421806a0bfcb6763e328572.json\",\"mobilemall-orderlist\":\"https://deo.shopeemobile.com/shopee/stm-sg-live/7879/asset-MY-live.6ee94380b8552424d7d70185ec51ea9d.json\",\"mobilemall-bundledeal\":\"https://deo.shopeemobile.com/shopee/stm-sg-live/13330/asset-MY-live.b1f0031c8726278787ce5a14b5901a90.json\",\"mobilemall-sclp\":\"https://deo.shopeemobile.com/shopee/stm-sg-live/15043/asset-MY-live.830349f08c022e73215588e7a8bfb0f7.json\",\"mobilemall-dailycheckin\":[\"https://deo.shopeemobile.com/shopee/shopee-mobilemall-live-sg/dailycheckin/main.2e43265fd22729a621e3.css\",\"https://deo.shopeemobile.com/shopee/shopee-mobilemall-live-sg/dailycheckin/main.e712e0b9244cf974c1ef.js\"],\"mobilemall-addondeal-aod\":\"https://deo.shopeemobile.com/shopee/stm-sg-live/16948/asset-MY-live.20d869dff326787ce8172279212aff6c.json\",\"mobilemall-addondeal-pwg\":\"https://deo.shopeemobile.com/shopee/stm-sg-live/17344/asset-MY-live.e170f48ef931109f0d84647c7a838a22.json\",\"mobilemall-addondeal-pwp\":\"https://deo.shopeemobile.com/shopee/stm-sg-live/17542/asset-MY-live.f8fff65c20dd3ca0139efc072b93fc56.json\",\"mobilemall-brandsale\":\"https://deo.shopeemobile.com/shopee/stm-sg-live/17811/asset-MY-live.06b6bb4e2162a0c0b0f68c9228fc1edf.json\",\"mobilemall-flashsaleentrance\":\"https://deo.shopeemobile.com/shopee/stm-sg-live/17874/asset-MY-live.9c85115b67e8f6042b7d368b5289c76b.json\",\"mobilemall-brandsaleentrance\":\"https://deo.shopeemobile.com/shopee/stm-sg-live/17942/asset-MY-live.b58d8a96402ddaaf0bb1441382fead86.json\",\"mobilemall-smartflashsale\":\"https://deo.shopeemobile.com/shopee/stm-sg-live/18008/asset-MY-live.528e47fd2f9a8f86392cdc7afa8bc641.json\",\"mobilemall-smartflashsaleentrance\":\"https://deo.shopeemobile.com/shopee/stm-sg-live/18088/asset-MY-live.2ebb9d577c9438ac7452da260117e591.json\",\"mobilemall-shopcustompage\":\"https://deo.shopeemobile.com/shopee/stm-sg-live/18885/asset-MY-live.bc00d1f18598f07f53eda3e4b3c09968.json\",\"mobilemall-useraccount\":\"https://deo.shopeemobile.com/shopee/stm-sg-live/22265/asset-MY-live.6b65232879cc49671f7a0afa4c1fbbd5.json\",\"mobilemall-rcmd-cart-ymal\":\"https://deo.shopeemobile.com/shopee/stm-sg-live/23207/asset-MY-live.3ddc0c174a3861cfe518f14a78573499.json\",\"mobilemall-platformvouchers\":\"https://deo.shopeemobile.com/shopee/stm-sg-live/23657/asset-MY-live.7b9a3805bb5c36cf521d647dc88ed834.json\",\"mobilemall-shopvouchers\":\"https://deo.shopeemobile.com/shopee/stm-sg-live/23830/asset-MY-live.7c5cf380bb12473f6fad3724ef9ff7e1.json\",\"mobilemall-sellervouchercard\":\"https://deo.shopeemobile.com/shopee/stm-sg-live/23925/asset-MY-live.a393f9c409e8fd51b0046f7c5f9d436b.json\",\"mobilemall-pdpvoucherdrawer\":\"https://deo.shopeemobile.com/shopee/stm-sg-live/24016/asset-MY-live.6165e07ed803002450ccfe7309b6878c.json\",\"mobilemall-sellervoucher\":\"https://deo.shopeemobile.com/shopee/stm-sg-live/24105/asset-MY-live.23daf81c45a76e7e93045810bf6b68bc.json\",\"mobilemall-voucherpromotiontext\":\"https://deo.shopeemobile.com/shopee/stm-sg-live/24192/asset-MY-live.12afbf44d5bffc4b4ffecfba614edfb7.json\",\"mobilemall-pagedpvoucherredemption\":\"https://deo.shopeemobile.com/shopee/stm-sg-live/24283/asset-MY-live.a6658d67813fb692b773780c9d6119d9.json\",\"mobilemall-shoppagesellervoucherpreview\":\"https://deo.shopeemobile.com/shopee/stm-sg-live/24372/asset-MY-live.bef1769baf4945fc83f47d3d309dbded.json\",\"mobilemall-micrositepage\":\"https://deo.shopeemobile.com/shopee/stm-sg-live/25716/asset-MY-live.02f1abb2f625e023d6c47be88fa86a9a.json\",\"mobilemall-formmanagement\":\"https://deo.shopeemobile.com/shopee/stm-sg-live/32363/asset-MY-live.a1b4b80f2430f1771fd217ebe3142d3a.json\",\"mobilemall-coins\":\"https://deo.shopeemobile.com/shopee/stm-sg-live/32619/asset-MY-live.90144d74f202f3bc5790c3be5086d242.json\",\"mobilemall-rcmd-flash-sale-sold-out-page\":\"https://deo.shopeemobile.com/shopee/stm-sg-live/33183/asset-MY-live.179453caa8569a3f1ea0a596037c37aa.json\",\"mobilemall-returnevidence\":\"https://deo.shopeemobile.com/shopee/stm-sg-live/34335/asset-MY-live.0fd9695da576e9e299c8ae8c627058f0.json\",\"mobilemall-rcmd-category-module\":\"https://deo.shopeemobile.com/shopee/stm-sg-live/34662/asset-MY-live.5c9fd9aceca2df99fd5eadcac0b2328c.json\",\"mobilemall-martcategorylistpage\":\"https://deo.shopeemobile.com/shopee/stm-sg-live/35105/asset-MY-live.3148b50f3b58149dfbceb1124d893b21.json\",\"mobilemall-rcmd-pdp-ftss\":\"https://deo.shopeemobile.com/shopee/stm-sg-live/35491/asset-MY-live.95989f45829492d084b1dd8bcc038f59.json\",\"mobilemall-rcmd-pdp-ymal\":\"https://deo.shopeemobile.com/shopee/stm-sg-live/35683/asset-MY-live.459799d9166bfc65687116f3fe4d8a1e.json\",\"mobilemall-checkout\":\"https://deo.shopeemobile.com/shopee/stm-sg-live/36180/asset-MY-live.9deec4ea305f5f6ed0b21e162ce1feca.json\",\"mobilemall-mart-categorylandingpage\":\"https://deo.shopeemobile.com/shopee/stm-sg-live/36450/asset-MY-live.a413b09c244624bbcc2276ed8ff45505.json\",\"mobilemall-mart-dealspage\":\"https://deo.shopeemobile.com/shopee/stm-sg-live/36547/asset-MY-live.336f7a389af0d157b90c3ec78afa3174.json\",\"mobilemall-mart-homepage\":\"https://deo.shopeemobile.com/shopee/stm-sg-live/36644/asset-MY-live.934660d61ec7220151d26134ceb7622b.json\",\"mobilemall-rcmd-mart-recommendation-module\":\"https://deo.shopeemobile.com/shopee/stm-sg-live/39152/asset-MY-live.fcafef9dbc3c383f8176b81e9b975332.json\",\"mobilemall-malllanding\":\"https://deo.shopeemobile.com/shopee/stm-sg-live/39335/asset-MY-live.6e529275ae5080fdd3d4bb7504e03559.json\",\"mobilemall-mallbrands\":\"https://deo.shopeemobile.com/shopee/stm-sg-live/39468/asset-MY-live.c95d8827c9971e4632252611cf8523e4.json\",\"mobilemall-mallcategories\":\"https://deo.shopeemobile.com/shopee/stm-sg-live/39536/asset-MY-live.8267ff1b25a65fa88d3442b2ba466e2f.json\",\"mobilemall-rcmd-mart-buy-again-module\":\"https://deo.shopeemobile.com/shopee/stm-sg-live/39916/asset-MY-live.3f77bf63dab601d5a397d070137f2f55.json\",\"mobilemall-rcmd-mart-buy-again-page\":\"https://deo.shopeemobile.com/shopee/stm-sg-live/40018/asset-MY-live.c3eb95592c3a63d2a968c37481b98cfc.json\",\"mobilemall-rcmd-pdp-ftss-page\":\"https://deo.shopeemobile.com/shopee/stm-sg-live/40574/asset-MY-live.e3081d2e19a562aea6d9377c292e13f1.json\",\"mobilemall-rcmd-home-top-products-module\":\"https://deo.shopeemobile.com/shopee/stm-sg-live/40770/asset-MY-live.f5619991d5b29e08632bd7287925e28c.json\",\"mobilemall-rcmd-home-top-products-page\":\"https://deo.shopeemobile.com/shopee/stm-sg-live/40858/asset-MY-live.3e4cea2c92cf9ea74f19b65b99b97a9e.json\",\"mobilemall-pageitemrating\":\"https://deo.shopeemobile.com/shopee/stm-sg-live/41267/asset-MY-live.d1153df039ab367c4038d77c9d5e2a52.json\",\"mobilemall-pageratingreport\":\"https://deo.shopeemobile.com/shopee/stm-sg-live/41396/asset-MY-live.c3a0b2d106b59f48dd236d289f08ca07.json\",\"mobilemall-pagereplyrating\":\"https://deo.shopeemobile.com/shopee/stm-sg-live/41487/asset-MY-live.94a5e1d7081a26514a309cbfcb86d52d.json\",\"mobilemall-pageshoprating\":\"https://deo.shopeemobile.com/shopee/stm-sg-live/41583/asset-MY-live.66317d18622a0163b79de4e5055cbed5.json\",\"mobilemall-rcmd-featured-collections-page\":\"https://deo.shopeemobile.com/shopee/stm-sg-live/41764/asset-MY-live.d50ebb84073201ac16d1e97aadab3bf7.json\",\"mobilemall-welcomepackage\":\"https://deo.shopeemobile.com/shopee/stm-sg-live/41868/asset-MY-live.e8b2ec06241b8bd127537c1076484adc.json\",\"mobilemall-productrating\":\"https://deo.shopeemobile.com/shopee/stm-sg-live/42062/asset-MY-live.9c649257a6033d5480ca79b89b1c5d17.json\",\"mobilemall-mart-navigation-bar\":\"https://deo.shopeemobile.com/shopee/stm-sg-live/42252/asset-MY-live.5ebb7bb189d3e4679c1d530ff459d18a.json\",\"mobilemall-mart-voucherlandingpage\":\"https://deo.shopeemobile.com/shopee/stm-sg-live/42530/asset-MY-live.80feaf96ca5273ac4902435bb8a2e5f7.json\",\"mobilemall-rcmd-fsp-page\":\"https://deo.shopeemobile.com/shopee/stm-sg-live/42825/asset-MY-live.3992a5db43d5ecf8b88a701267a1b031.json\",\"mobilemall-rcmd-featured-collections-module\":\"https://deo.shopeemobile.com/shopee/stm-sg-live/43012/asset-MY-live.6468a235dde4c0d44046e0355eeb5839.json\",\"user-microfe-identity-mobile-demo-1\":\"https://deo.shopeemobile.com/shopee/stm-sg-live/50228/asset-MY-live.179920c52e49a507923debd4e9dedb66.json\",\"user-microfe-identity-mobile-demo-2\":\"https://deo.shopeemobile.com/shopee/stm-sg-live/50319/asset-MY-live.22cec27482aacf8952b783522c5395c6.json\",\"user-microfe-identity-mobile-noti-email-subscription-center\":\"https://deo.shopeemobile.com/shopee/stm-sg-live/51078/asset-MY-live.bd12b6f6d295a3bcec6060b713341024.json\",\"mobilemall-anticrawler\":\"https://deo.shopeemobile.com/shopee/stm-sg-live/51276/asset-MY-live.da4c48542100c5af1ea5b8d289391f11.json\",\"mobilemall-captcha\":\"https://deo.shopeemobile.com/shopee/stm-sg-live/51750/asset-MY-live.37ae8922b07adab2384569530858949f.json\",\"mobilemall-invoicepage\":\"https://deo.shopeemobile.com/shopee/stm-sg-live/52037/asset-MY-live.e74595e80cd568cdd5dfd861294cc5cb.json\",\"mobilemall-captchapopup\":\"https://deo.shopeemobile.com/shopee/stm-sg-live/52134/asset-MY-live.0b750bd4c3a1792ee1b6a5c55bbdc946.json\",\"mobilemall-dd-landing-page\":\"https://deo.shopeemobile.com/shopee/stm-sg-live/52661/asset-MY-live.611398ad5aa8228e8c9dc21f5e896ffa.json\",\"mobilemall-dd-home-module\":\"https://deo.shopeemobile.com/shopee/stm-sg-live/52644/asset-MY-live.ce84c33028cc9551b36ac05d0cba4626.json\",\"mobilemall-rcmd-mall-just-for-you-module\":\"https://deo.shopeemobile.com/shopee/stm-sg-live/53306/asset-MY-live.1cb1b96def4dbb4fee09a3f7b53f36ee.json\",\"mobilemall-rcmd-mall-just-for-you-page\":\"https://deo.shopeemobile.com/shopee/stm-sg-live/53380/asset-MY-live.745cec340f95f20f430de00f62eba38d.json\",\"mobilemall-collectionfe-productcollection\":\"https://deo.shopeemobile.com/shopee/stm-sg-live/53971/asset-MY-live.f8f523c19fc2507d4b60d833b0985c31.json\",\"mobilemall-collectionfe-product-clp\":\"https://deo.shopeemobile.com/shopee/stm-sg-live/54156/asset-MY-live.7ff141cc344a99735eb311d90bcbb1f4.json\",\"mobilemall-collectionfe-shop-clp\":\"https://deo.shopeemobile.com/shopee/stm-sg-live/54252/asset-MY-live.5e58e91aa63853bf152583bf64eaa444.json\",\"mobilemall-collectionfe-entry-clp\":\"https://deo.shopeemobile.com/shopee/stm-sg-live/54346/asset-MY-live.bbb4936a38c6e04ef3d42c79f631bef9.json\",\"mobilemall-collectionfe-allcampaigns\":\"https://deo.shopeemobile.com/shopee/stm-sg-live/54534/asset-MY-live.92563bf0832fdef8893945b981e351e6.json\",\"mobilemall-antifraudverifyqr\":\"https://deo.shopeemobile.com/shopee/stm-sg-live/54636/asset-MY-live.e9913db378802bd4b2a501763b07b960.json\",\"mobilemall-antifraudverifylink\":\"https://deo.shopeemobile.com/shopee/stm-sg-live/54729/asset-MY-live.bb831ea8c3f507ad3d896b4e461e7273.json\",\"mobilemall-antifraudivs\":\"https://deo.shopeemobile.com/shopee/stm-sg-live/54974/asset-MY-live.3306b27a26f31f37a12e3db6142d311a.json\",\"mobilemall-antifraudverifyemaillink\":\"https://deo.shopeemobile.com/shopee/stm-sg-live/55356/asset-MY-live.e505a1eaf39721618eec22dac83b6ccf.json\",\"mobilemall-antifraudverifylinkreceiver\":\"https://deo.shopeemobile.com/shopee/stm-sg-live/57293/asset-MY-live.5acffcc54c5626a6e5481902652d6cc3.json\",\"mobilemall-antifraudverifyemaillinkreceiver\":\"https://deo.shopeemobile.com/shopee/stm-sg-live/57325/asset-MY-live.e444d51479b034c993557699793fb207.json\",\"mobilemall-categoryfe\":\"https://deo.shopeemobile.com/shopee/stm-sg-live/57436/asset-MY-live.00babce036a82cb2b3f7480e35a59e03.json\",\"mobilemall-search-intermediate-page\":\"https://deo.shopeemobile.com/shopee/stm-sg-live/59260/asset-MY-live.fadcac49c82cbac581dc54baadf790e1.json\",\"mobilemall-homepagefe\":\"https://deo.shopeemobile.com/shopee/stm-sg-live/59735/asset-MY-live.440636c097210363748dd8d9f0819cf0.json\",\"mobilemall-seo-brand-page\":\"https://deo.shopeemobile.com/shopee/stm-sg-live/60207/asset-MY-live.e30ff0aa2a3709cae2df502e1e27a8c5.json\",\"mobilemall-search-mart-page\":\"https://deo.shopeemobile.com/shopee/stm-sg-live/60408/asset-MY-live.f08bb497bc352b5e968f1724003f9fc6.json\",\"mobilemall-micrositefe\":\"https://deo.shopeemobile.com/shopee/stm-sg-live/60701/asset-MY-live.d7a2f01bfdf4eb36c5089e5de5b55cbf.json\",\"mobilemall-search-result-page\":\"https://deo.shopeemobile.com/shopee/stm-sg-live/60898/asset-MY-live.fb02c790c1173654645ef5781216e791.json\",\"mobilemall-flashsalesoldout\":\"https://deo.shopeemobile.com/shopee/stm-sg-live/31297/asset-MY-live.1fd83ba1cddc7aef269a0e8cf309ad96.json\",\"mobilemall-rcmd-pdp-hot-sales\":\"https://deo.shopeemobile.com/shopee/stm-sg-live/43698/asset-MY-live.8242d684a6a3767a78b986e283c4ab66.json\",\"mobilemall-search-srp-user\":\"https://deo.shopeemobile.com/shopee/stm-sg-live/44443/asset-MY-live.4d8d603e8c1d9d678514efb83ff265f4.json\",\"mobilemall-search-user-page\":\"https://deo.shopeemobile.com/shopee/stm-sg-live/44640/asset-MY-live.4d81e2a90bdfbba628c8ddc04749e668.json\",\"VOUCHER_CARD_MANIFEST\":{\"live\":\"vouchercard-v0.23.0\"},\"mobilemall-rcmd-home-top-products-list-page\":\"https://deo.shopeemobile.com/shopee/stm-sg-live/45153/asset-MY-live.28136d412cc76900cb48712bbc4fa128.json\",\"user-microfe-account-mobile-demo\":\"https://deo.shopeemobile.com/shopee/stm-sg-live/48974/asset-MY-live.201967f0a55547c21ddd123d6fd4b763.json\",\"mobilemall-antifrauderror\":\"https://deo.shopeemobile.com/shopee/stm-sg-live/47279/asset-MY-live.29e33ce73031e763ae4e0adf3aa18cf6.json\",\"user-microfe-account-mobile-demo-2\":\"https://deo.shopeemobile.com/shopee/stm-sg-live/50021/asset-MY-live.0d9c8e57dba1f448f047449a060bd71d.json\",\"mobilemall-vouchermartlandingpage\":\"https://deo.shopeemobile.com/shopee/stm-sg-live/49458/asset-MY-live.949c6a32cd078ab91e995a040523c724.json\",\"mobilemall-rcmd-featured-collections-list-page\":\"https://deo.shopeemobile.com/shopee/stm-sg-live/49259/asset-MY-live.0fd1cf9c34785ae46072448335c54904.json\",\"mobilemall-vouchermarthomepage\":\"https://deo.shopeemobile.com/shopee/stm-sg-live/49359/asset-MY-live.ca3534d68cfe5e5e05b8a23ddd9d2c4a.json\",\"user-microfe-account-mobile-verify-account-seller-main-sub\":{\"version\":1,\"assets\":{},\"metaAppDetails\":{},\"legacy\":{\"js\":[\"https://deo.shopeemobile.com/shopee/shopee-mobilemall-live-sg/account/runtime.53c3113a1ea614c315d2.legacy.js\",\"https://deo.shopeemobile.com/shopee/shopee-mobilemall-live-sg/account/vendor.5d496b5c0d2b8ecdeabe.legacy.js\",\"https://deo.shopeemobile.com/shopee/shopee-mobilemall-live-sg/account/common.3734297579a17e8f2244.legacy.js\",\"https://deo.shopeemobile.com/shopee/shopee-mobilemall-live-sg/account/user-microfe-account-mobile-verify-account-seller-main-sub.b3c7974f3fdb58a2bbed.legacy.js\"],\"css\":[\"https://deo.shopeemobile.com/shopee/shopee-mobilemall-live-sg/account/user-microfe-account-mobile-verify-account-seller-main-sub.bbb1d0e27bfc7c86c4f3.legacy.css\"]},\"modern\":{\"js\":[\"https://deo.shopeemobile.com/shopee/shopee-mobilemall-live-sg/account/runtime.573c879220897f938a18.js\",\"https://deo.shopeemobile.com/shopee/shopee-mobilemall-live-sg/account/vendor.66e4b9dec33c7f8327b9.js\",\"https://deo.shopeemobile.com/shopee/shopee-mobilemall-live-sg/account/common.04988afbc0f5ae2f58e8.js\",\"https://deo.shopeemobile.com/shopee/shopee-mobilemall-live-sg/account/user-microfe-account-mobile-verify-account-seller-main-sub.b12fc0d3e8cf23714083.js\"],\"css\":[\"https://deo.shopeemobile.com/shopee/shopee-mobilemall-live-sg/account/user-microfe-account-mobile-verify-account-seller-main-sub.9234ae22c31f99d9f43c.css\"]}},\"mobilemall-checkout-norevamp\":\"https://deo.shopeemobile.com/shopee/stm-sg-live/62535/asset-MY-live.2938ec7ee30e53629b09f893d41940c3.json\",\"mobilemall-pagebuilder\":\"https://deo.shopeemobile.com/shopee/stm-sg-live/62337/asset-MY-live.77b882279605ff1cbe8716632d2d0c65.json\",\"mobilemall-ordersuccess\":\"https://deo.shopeemobile.com/shopee/stm-sg-live/63129/asset-MY-live.89810bdc0bfb7f820c90b91f1224e5a7.json\",\"pcmall-externalcheckout\":\"https://deo.shopeemobile.com/shopee/stm-sg-live/63270/asset-MY-live.6966b04e7b1dde97d269971a23294714.json\",\"mobilemall-pdpshopvouchersection\":\"https://deo.shopeemobile.com/shopee/stm-sg-live/63338/asset-MY-live.bc35fd6fc255885536dfc513125733a9.json\",\"mobilemall-homepage\":\"https://deo.shopeemobile.com/shopee/stm-sg-live/23389/asset-MY-live.febb2957413789e6f2166adb9b62c720.json\",\"mobilemall-ebcomponents-quiz\":\"https://deo.shopeemobile.com/shopee/stm-sg-live//30727/asset-MY-live.002b3bfea767b61a6be1ad3a263ed227.json\",\"mobilemall-ebcomponents-mb\":\"https://deo.shopeemobile.com/shopee/stm-sg-live//34525/asset-MY-live.77e74854023c2a50ed4fc5c21af5a3a0.json\",\"mobilemall-ebcomponents-voting\":\"https://deo.shopeemobile.com/shopee/stm-sg-live//31903/asset-MY-live.abab29ae04158ca94199d850a54032b2.json\",\"mobilemall-returnlegacy\":\"https://deo.shopeemobile.com/shopee/stm-sg-live//51563/asset-MY-live.67b7f26b6241ff05af372570819425a5.json\",\"mobilemall-returnrequestissue\":\"https://deo.shopeemobile.com/shopee/stm-sg-live/50419/asset-MY-live.79a990876fdbfe474f855b6e7fcb583b.json\",\"mobilemall-returnrequestsummary\":\"https://deo.shopeemobile.com/shopee/stm-sg-live/50595/asset-MY-live.730393f042ed4345cecfbe597b82e77c.json\",\"mobilemall-returnrequestitemselect\":\"https://deo.shopeemobile.com/shopee/stm-sg-live/50504/asset-MY-live.b75484ebf435b4a6cc65f8a8c5770817.json\",\"mobilemall-returndetail\":{\"version\":1,\"assets\":{\"TRANSIFY_COLLECTION_MAPPING\":{\"en-live-9\":1724309440,\"en-us-live-9\":1724309440,\"es-ar-live-9\":1724309440,\"es-cl-live-9\":1724309440,\"es-co-live-9\":1724309440,\"es-es-live-9\":1724309440,\"es-mx-live-9\":1724309440,\"fil-live-9\":1724309440,\"fr-live-9\":1724309440,\"hi-live-9\":1724309440,\"id-live-9\":1724309440,\"ms-my-live-9\":1724309440,\"pl-live-9\":1724309440,\"pt-br-live-9\":1724309440,\"th-live-9\":1724309440,\"vi-live-9\":1724309440,\"zh-hans-live-9\":1724309440,\"zh-hant-live-9\":1724309440}},\"metaAppDetails\":{\"sentryDsn\":\"https://37df41a9eafc429585b01c3771b4af54@o468184.ingest.sentry.io/5882147\"},\"legacy\":{\"js\":[\"https://deo.shopeemobile.com/shopee/shopee-mobilemall-live-sg/returndetail/mobilemall-returndetail.9a9d4f6ee4f60dc5e28c.legacy.js\",\"https://deo.shopeemobile.com/shopee/modules-federation/live/0/shopee__settings/2.2.0.legacy.js\",\"https://deo.shopeemobile.com/shopee/modules-federation/live/0/shopee__language/1.1.19.legacy.js\",\"https://deo.shopeemobile.com/shopee/modules-federation/live/0/shopee__language/2.2.0.legacy.js\",\"https://deo.shopeemobile.com/shopee/modules-federation/live/0/shopee__domain/3.1.5.legacy.js\",\"https://deo.shopeemobile.com/shopee/modules-federation/live/0/shopee_common__time/2.3.2.legacy.js\",\"https://deo.shopeemobile.com/shopee/modules-federation/live/0/shopee_common__currency/4.0.2.legacy.js\"],\"css\":[\"https://deo.shopeemobile.com/shopee/shopee-mobilemall-live-sg/returndetail/mobilemall-returndetail.d4c2f7112dd31fedf6c0.legacy.css\"]},\"modern\":{\"js\":[\"https://deo.shopeemobile.com/shopee/shopee-mobilemall-live-sg/returndetail/mobilemall-returndetail.f38fa261966ba924b12e.js\",\"https://deo.shopeemobile.com/shopee/modules-federation/live/0/shopee__settings/2.2.0.js\",\"https://deo.shopeemobile.com/shopee/modules-federation/live/0/shopee__language/1.1.19.js\",\"https://deo.shopeemobile.com/shopee/modules-federation/live/0/shopee__domain/3.1.5.js\",\"https://deo.shopeemobile.com/shopee/modules-federation/live/0/shopee__language/2.2.0.js\",\"https://deo.shopeemobile.com/shopee/modules-federation/live/0/shopee_common__time/2.3.2.js\",\"https://deo.shopeemobile.com/shopee/modules-federation/live/0/shopee_common__currency/4.0.2.js\"],\"css\":[\"https://deo.shopeemobile.com/shopee/shopee-mobilemall-live-sg/returndetail/mobilemall-returndetail.8e9babdb10e4893e6922.css\"]}},\"mobilemall-pagebuilderplatform\":\"https://deo.shopeemobile.com/shopee/stm-sg-live/63438/asset-MY-live.775157e577cce6745c8bba78e2f2b741.json\",\"mobilemall-pagebuilderimages-imagecollection\":\"https://deo.shopeemobile.com/shopee/stm-sg-live/64648/asset-MY-live.34304a075d60be64722fab854ce296fa.json\",\"mobilemall-pagebuilderimages-oneimage\":\"https://deo.shopeemobile.com/shopee/stm-sg-live/64683/asset-MY-live.68510d6d31211ffd3f773d42445a7f8d.json\",\"mobilemall-pagebuilderimages-campaigncalendar\":\"https://deo.shopeemobile.com/shopee/stm-sg-live/64843/asset-MY-live.1a38aaf966c25ea5cc64c48639cc86ba.json\",\"mobilemall-pagebuilderimages-videocollections\":\"https://deo.shopeemobile.com/shopee/stm-sg-live/64901/asset-MY-live.24a91308620718158de9b6506b180201.json\",\"mobilemall-pagebuilderimages-livestream\":\"https://deo.shopeemobile.com/shopee/stm-sg-live/64977/asset-MY-live.0b399662452f9c23ef6628df51eb1436.json\",\"mobilemall-pagebuildervouchers-vouchergrid\":\"https://deo.shopeemobile.com/shopee/stm-sg-live/65608/asset-MY-live.264d50a922eebf90231998066f10cadb.json\",\"mobilemall-pagebuildervouchers-spfsv\":\"https://deo.shopeemobile.com/shopee/stm-sg-live/65740/asset-MY-live.28d2fe850f5a2a0c74582acb67636147.json\",\"mobilemall-pagebuildervouchers-opv\":\"https://deo.shopeemobile.com/shopee/stm-sg-live/65866/asset-MY-live.7dde5a29df1f3da83706a105f8894fe5.json\",\"mobilemall-pagebuilderwidgets-gap\":\"https://deo.shopeemobile.com/shopee/stm-sg-live/67322/asset-MY-live.10ff2b2552036f0d89c7e49de183366c.json\",\"mobilemall-pagebuilderwidgets-header\":\"https://deo.shopeemobile.com/shopee/stm-sg-live/67371/asset-MY-live.fde2282e2034e60873f881d9700aa57d.json\",\"mobilemall-pagebuildervouchers-vouchergroup\":\"https://deo.shopeemobile.com/shopee/stm-sg-live/65671/asset-MY-live.97490c2ccdbefb699456990290924a49.json\",\"mobilemall-pagebuilderwidgets-ctabutton\":\"https://deo.shopeemobile.com/shopee/stm-sg-live/67482/asset-MY-live.9e29e05bd9153b5b7f5fae6e10de17dd.json\",\"mobilemall-pagebuilderwidgets-anchortab\":\"https://deo.shopeemobile.com/shopee/stm-sg-live/67569/asset-MY-live.87828f67dd3ef115c3ade45ffe5f60b5.json\",\"mobilemall-pagebuilderwidgets-text\":\"https://deo.shopeemobile.com/shopee/stm-sg-live/67661/asset-MY-live.4c48ee07bf7939047d4368012ce4045f.json\",\"mobilemall-pagebuilderwidgets-iframe\":\"https://deo.shopeemobile.com/shopee/stm-sg-live/67772/asset-MY-live.eec2611c5bc66b00189ab413328affe7.json\",\"mobilemall-pagebuilderwidgets-countdowntimmer\":\"https://deo.shopeemobile.com/shopee/stm-sg-live/67859/asset-MY-live.58860117792da5848a650fc9537abf3b.json\",\"mobilemall-pagebuilderwidgets-backtotop\":\"https://deo.shopeemobile.com/shopee/stm-sg-live/67960/asset-MY-live.58baeb3f8f048c7eae940730d0ef051e.json\",\"mobilemall-pagebuilderwidgets-snp\":\"https://deo.shopeemobile.com/shopee/stm-sg-live/68048/asset-MY-live.98437cca8af10bd19e419c8f0b4a9520.json\",\"mobilemall-pagebuilderproducts-productcollection\":\"https://deo.shopeemobile.com/shopee/stm-sg-live/68911/asset-MY-live.0765ff4f8837a71c70f22ac80edfb3a0.json\",\"mobilemall-pagebuilderproducts-waterfall\":\"https://deo.shopeemobile.com/shopee/stm-sg-live/69004/asset-MY-live.f8028b55decf4cf6f1b7ae3871f35ef7.json\",\"mobilemall-pagebuilderproducts-itemrcmd\":\"https://deo.shopeemobile.com/shopee/stm-sg-live/69103/asset-MY-live.790c53b01da6f1c865251c8cf95dfc99.json\",\"mobilemall--pagebuilderproducts-topproduct\":\"https://deo.shopeemobile.com/shopee/stm-sg-live/69229/asset-MY-live.d4ebcf5e93ae116fb4b91883a8841361.json\",\"mobilemall-pagebuilderproducts-individualproduct\":\"https://deo.shopeemobile.com/shopee/stm-sg-live/69299/asset-MY-live.1868415f3110d520c6c61120d0d0f44a.json\",\"mobilemall-pagebuilderproducts-collectiongroup\":\"https://deo.shopeemobile.com/shopee/stm-sg-live/69392/asset-MY-live.605d6eb89c74e07a31400230f8eac902.json\",\"mobilemall-pagebuildershops-shopcollection\":\"https://deo.shopeemobile.com/shopee/stm-sg-live/69927/asset-MY-live.a089ddce53a9cb04d5bba0f866780815.json\",\"mobilemall-pagebuildershops-shoprcmd\":\"https://deo.shopeemobile.com/shopee/stm-sg-live/69964/asset-MY-live.72c580922b64ebb7ceefc25c27386c82.json\",\"mobilemall-pagebuildermalls-brandlist\":\"https://deo.shopeemobile.com/shopee/stm-sg-live/70778/asset-MY-live.dde1eac0d03e5d891271024274a679f7.json\",\"mobilemall-pagebuildermalls-brandforyou\":\"https://deo.shopeemobile.com/shopee/stm-sg-live/70832/asset-MY-live.0db9f44f1659b7b336a8e87f5e9e4673.json\",\"mobilemall-pagebuilderopencomponents-flashsale\":\"https://deo.shopeemobile.com/shopee/stm-sg-live/71336/asset-MY-live.5d1079d15f3e0ce1619f2732a42da3e9.json\",\"mobilemall-pagebuilderopencomponents-mallflashsale\":\"https://deo.shopeemobile.com/shopee/stm-sg-live/71406/asset-MY-live.3f254c462ec2b73bdc4b101ba33efdc6.json\",\"mobilemall-pagebuilderwidgets-categorydirectory\":\"https://deo.shopeemobile.com/shopee/stm-sg-live/71692/asset-MY-live.0192c156d06272990940c62202d7ddf9.json\",\"mobilemall-pagebuildermalls-carouselbanner\":\"https://deo.shopeemobile.com/shopee/stm-sg-live/71887/asset-MY-live.c9d6ea212d9907e82bf0f37da2bed43a.json\",\"mobilemall-pagebuildermalls-popupbanner\":\"https://deo.shopeemobile.com/shopee/stm-sg-live/71982/asset-MY-live.66b2c6afead92e577908ce3857d9ba26.json\",\"mobilemall-pagebuilderopencomponents-addondeal\":\"https://deo.shopeemobile.com/shopee/stm-sg-live/72286/asset-MY-live.b08f110e299080e1261416f89e951f1d.json\",\"mobilemall-pagebuilderwidgets-categorycircle\":\"https://deo.shopeemobile.com/shopee/stm-sg-live/71607/asset-MY-live.f581c410cfc4a65b9f0e3c7586293d01.json\",\"mobilemall-pagebuilderopencomponents-bundledeal\":\"https://deo.shopeemobile.com/shopee/stm-sg-live/72453/asset-MY-live.192734cb23e77a78e7a30e22f798cb4b.json\",\"mobilemall-pagebuilderopencomponents-ppc\":\"https://deo.shopeemobile.com/shopee/stm-sg-live/72560/asset-MY-live.bd042627a83443ea9163c6d866aef232.json\",\"mobilemall-pagebuilderopencomponents-ppt\":\"https://deo.shopeemobile.com/shopee/stm-sg-live/72657/asset-MY-live.4bb07afe9c67c35c18a20f3500ef8df2.json\",\"mobilemall-pagebuildermalls-category\":\"https://deo.shopeemobile.com/shopee/stm-sg-live/76067/asset-MY-live.3950291dab8999f02709425215ac9396.json\",\"mobilemall-pagebuildermalls-brandoftheweek\":\"https://deo.shopeemobile.com/shopee/stm-sg-live/76117/asset-MY-live.52da1c089bb2c0c5414baad48a0128ab.json\",\"mobilemall-pagebuildermalls-mallsquare\":\"https://deo.shopeemobile.com/shopee/stm-sg-live/76210/asset-MY-live.25a1d64e8abce85e59d095d253c5608f.json\",\"mobilemall-pagebuildermalls-usp\":\"https://deo.shopeemobile.com/shopee/stm-sg-live/76330/asset-MY-live.3f80cc5cc46c3fc9b1ac0361ad85bba1.json\",\"mobilemall-pagebuildermalls-rcmd\":\"https://deo.shopeemobile.com/shopee/stm-sg-live/76462/asset-MY-live.2e40630043b72345f3fc76a34849f3f9.json\"}</script></head>\\n<body>\\n<noscript>\\n<iframe src=\"//www.googletagmanager.com/ns.html?id=GTM-WJZQSJF\" height=\"0\" width=\"0\" style=\"display:none;visibility:hidden\"></iframe>\\n</noscript>\\n<div class=\"app-shell\">\\n<style>@keyframes movement{from{transform:translateY(2px)}50%{transform:translateY(-2px)}to{transform:translateY(2px)}}.spinner circle{animation:.4s movement linear infinite}.spinner circle:nth-child(2){animation-delay:.1s}.spinner circle:nth-child(3){animation-delay:.2s}</style>\\n<svg class=\"spinner\" style=\"position:fixed;top:50%;left:50%;transform:translateX(-50%) translateY(-50%)\" width=\"34\" height=\"12\" viewBox=\"-1 0 33 12\">\\n<circle class=\"loading-dot\" cx=\"4\" cy=\"6\" r=\"4\" fill=\"#ee4d2d\"></circle>\\n<circle class=\"loading-dot\" cx=\"16\" cy=\"6\" r=\"4\" fill=\"#ee4d2d\"></circle>\\n<circle class=\"loading-dot\" cx=\"28\" cy=\"6\" r=\"4\" fill=\"#ee4d2d\"></circle>\\n</svg>\\n</div>\\n<div id=\"app\"></div>\\n<div id=\"modal\"></div>\\n<noscript>Please enable JavaScript on your browser.</noscript>\\n<script type=\"module\" src=\"https://deo.shopeemobile.com/shopee/shopee-mobilemall-live-sg/assets/webpack-runtime.c133fa731ec10363.js\"></script>\\n<script type=\"module\" src=\"https://deo.shopeemobile.com/shopee/shopee-mobilemall-live-sg/assets/entry-modules.5bd1171b3f730470.js\"></script>\\n<script type=\"module\" src=\"https://deo.shopeemobile.com/shopee/shopee-mobilemall-live-sg/assets/bundle.46a522b2c8aa853b.js\"></script>\\n<script type=\"module\" src=\"https://deo.shopeemobile.com/shopee/shopee-mobilemall-live-sg/assets/modules.820277b09a31a2f9.js\"></script>\\n<script nomodule>function loadStyleLink(e){var t=document.head||document.getElementsByTagName(\"head\")[0],l=document.createElement(\"link\");l.rel=\"stylesheet\",l.type=\"text/css\",l.href=e,t.appendChild(l)}if(!SUPPORT_MODULE){for(var links=[\"https://deo.shopeemobile.com/shopee/shopee-mobilemall-live-sg/assets/bundle.35ed3e1c66481921.legacy.css\"],i=0;i<links.length;i++)try{loadStyleLink(links[i])}catch(e){}try{document.querySelectorAll(\"[data-modern]\").forEach((function(e){e.remove()}))}catch(e){}}</script><script defer=\"defer\" nomodule src=\"https://deo.shopeemobile.com/shopee/shopee-mobilemall-live-sg/assets/webpack-runtime.6634a2f1430b8edb.legacy.js\"></script><script defer=\"defer\" nomodule src=\"https://deo.shopeemobile.com/shopee/shopee-mobilemall-live-sg/assets/entry-modules.8ee30eb4227b6a6f.legacy.js\"></script><script defer=\"defer\" nomodule src=\"https://deo.shopeemobile.com/shopee/shopee-mobilemall-live-sg/assets/modules.698e9bca1fdbd226.legacy.js\"></script><script defer=\"defer\" nomodule src=\"https://deo.shopeemobile.com/shopee/shopee-mobilemall-live-sg/assets/bundle.e5ea419736329b19.legacy.js\"></script></body>\\n</html>\\n'\n"
     ]
    }
   ],
   "source": [
    "url_get = 'https://shopee.com.my/search?'\n",
    "payload = {\"keyword\":\"dashcam\"}\n",
    "r = requests.get(url_get, params=payload)\n",
    "print(r.url)\n",
    "print(r.status_code)\n",
    "print(r.content)"
   ]
  },
  {
   "cell_type": "code",
   "execution_count": 6,
   "metadata": {},
   "outputs": [],
   "source": [
    "#base_url = 'https://shopee.com.my/search?keyword=dashcam&trackingId=searchhint-1728046904-ce774037-8250-11ef-8e22-3ea6d88eabcb'\n",
    "#base_url = 'https://shopee.com.my/shop/13377506/search?page=0&sortBy=sales'\n",
    "base_url = 'https://www.lazada.com.my/tag/dashcam/?spm=a2o4k.homepage.search.d_go&q=dashcam&catalog_redirect_tag=true'\n",
    "chrome_options = Options()\n",
    "\n",
    "# set chrome driver options to disable any popup's from the website\n",
    "# to find local path for chrome profile, open chrome browser\n",
    "# and in the address bar type, \"chrome://version\"\n",
    "chrome_options.add_argument('disable-notifications')\n",
    "chrome_options.add_argument('--disable-infobars')\n",
    "chrome_options.add_argument('start-maximized')\n",
    "chrome_options.add_argument('user-data-dir=C:\\\\Users\\\\1\\\\AppData\\\\Local\\\\Google\\\\Chrome\\\\User Data\\\\Default')\n",
    "# To disable the message, \"Chrome is being controlled by automated test software\"\n",
    "chrome_options.add_argument(\"disable-infobars\")\n",
    "# Pass the argument 1 to allow and 2 to block\n",
    "chrome_options.add_experimental_option(\"prefs\", { \n",
    "    \"profile.default_content_setting_values.notifications\": 2\n",
    "    })\n",
    "# invoke the webdriver\n",
    "chrome_service = Service(executable_path = r\"C:\\Users\\1\\OneDrive\\Desktop\\Personal Matter\\Data Analytics Learning\\Self Exploration Project\\chromedriver-win64\\chromedriver.exe\")\n",
    "browser = webdriver.Chrome(service = chrome_service, options = chrome_options)\n",
    "browser.get(base_url)\n",
    "delay = 5 #seconds"
   ]
  },
  {
   "cell_type": "code",
   "execution_count": 7,
   "metadata": {},
   "outputs": [
    {
     "name": "stdout",
     "output_type": "stream",
     "text": [
      "Page is ready\n",
      "DOSEN S50 Driving Recorder Front interior Rear Three lens onboard Dashcam car front and rear 360 HD 1080P Rear camera night vision dual view DVR Driving video Recorder 行车记录器\n",
      "DOSNE A1 Driving Recorder Front interior Rear Wifi 3 lenses Dashcam car front and rear 360 4.0 inch large screen HD 1080P Rear camera night vision dual view DVR Driving video Recorder 行车记录器\n",
      "DOSEN A1 wireless Driving Recorder Front interior Rear Three lens onboard Dashcam car front and rear 360 4.0 inch large screen HD 1080P Rear camera night vision dual view DVR Driving video Recorder Wifi 行车记录器\n",
      "DOSNE Wifi 行车记录仪 24 Hours Record 1080P FHD wifi 3 Camera Dashcam for Car Front + Interior + Back / Rear Dash Cam Night Vision Parking Mode Car DVR Driving video Recorder 行车记录器\n",
      "70mai Dashcam A200 Dual Channel 1080P Full HD+ HDR | 24H Parking Surveillance\n",
      "TYZONG 24H Record FHD 3 Camera Dashcam for Car Front + Interior + Back / Rear Dash Cam Night Vision Parking Mode Car DVR Driving video Recorder\n",
      "DDPAI N1 Dual Dashcam DUAL-CHANNEL Smart Monitor Assistant NightVIS 1296P\n",
      "V380 PRO 行车记录仪 Wifi 24 Hours Record 1080P FHD 3 Camera Dashcam for Car Front + Interior + Back / Rear Dash Cam Night Vision Parking Mode Car DVR Driving video Recorder 行车记录器\n",
      "2024 10.26\" Dash Cam 4K 2160P Rearview Camera Carplay & Android Auto GPS Navigation with Voice Control Car DVR BT FM Monitor\n",
      "FHD Wifi GPS Dash Cam 24h Parking Monitor Night Vision Front Rear Camera Car Dashcam Video Recorder\n",
      "Car Camera Recorder HD Car Dash Camera USB Front DVR Camera Dash Cam Car Recorder\n",
      "[WIFI VERSION] ROADCAM WIFI X3 Budget Dash Cam Dual Channel Recording 1080P Full HD\n",
      "Hd Tachograph Is Suitable for Automatic Cycle Recording of Vehicle DVR of Various Models\n",
      "70mai A500s 2K Car Dashcam Pro Plus+\n",
      "SHIP IN 24 Hours!!! 4 inch Car Recorder Dash Cam 1440P Dual lens HD Driving Recorder/HD Night Vision/DVR Parking Monitor\n",
      "【Shipping From Malaysia】4\" Screen 1080P Dash Cam Front+Interior+Rear Car Driving Recorder Suction Cup Mount\n",
      "4K Dual Dash Cam Car Dashcam 1080P HD Car Camera Recorder Car View Cam Front Back Auto Driving Recorder Interior Recorder Video Cam Night Vision\n",
      "[Ready-Stock] DVR Car Camera Recorder Dashcam Car Dash Cam Front And Rear 1080P Driving Recorder Wifi Car View Cam 行车记录仪\n",
      "[OFFICIAL] 70mai A500S Dashcam PRO PLUS+ Car Recorder 1944P Rear Cam GPS App Control Night Vision Dual Vision A500\n",
      "4.0 inch Dash cam Dual Lens front and rear for Car DVR Driver Recorder  HD 1080P 170° wide loop recording touch screen car camera HD screen Dashcam 行车记录仪\n",
      "Car DVR Dash Camera USB Front and Rear Dual Lens Video Recorder 720P AHD Reverse Cam Night Vision with ADAS For Android Player\n",
      "Dashcam Car Camera 4.0 Inch (Front/Inside/Rear) DVR Dash Cam Car Camera Video Recorder Night Vision Camcorder\n",
      "[English] 70mai A400 Car Recorder Dash Cam QHD 1440P Front Cam Night Vision 145 FOV WDR App Control Smart\n",
      "70mai A400 Car Recorder Front Dash Cam QHD 1440P Night Vision 145 FOV WDR App Control Smart\n",
      "CLEARANCE ADAS HD Dash Cam USB Car DVR Starlight Night Vision Driving Recorder GPS Player Compatible With Android 4.0 And Above\n",
      "Aitemay Car DVR Camera G30 Full HD 1080P 120 Degree Dashcam Video Recorder Night Vision G-Sensor Motion Detection Dash Camera\n",
      "Car Rear View Camara Dash Cam Reverse Camera Night Backup Parking Monitor Vision HD 1080P Camera 170° I4X6\n",
      "[New Launch] 70mai A510 Dash Cam Dual Vision Car Recorder with GPS ADAS [Add-on 4G Hardwire Kit]\n",
      "HD013 2K HD WIFI dashcam for car 4\" inch 2 Lens front and rear dash cam Car camera Recorder night vision App Control DVR行车记录器\n",
      "HOMEKING | FREE 64GB Memory Card 3 in 1 Dash Cam Car Camera DVR HD 1080P 170 Wide Angle Cycle Recorder G-Sensor 3 IN 1 Dashcam\n",
      "SAFECAM A38 Three-Channel Dashcam Triple Lens 1080P Full HD, Front + Inner + Rear Dashcam 3 Inch Screen 24-H Time Lapse\n",
      "SouthOcean 24H Record 1080P GPS Dashcam for Car Dash Cam Dual Camera Front & Back With Night Vision WDR APP DVR Mini Car Camera Recorder\n",
      "70mai Dashcam A200 Dual Channel 1080P Full HD Resolution + HDR |  APPs Control | 24H Parking Surveillance\n",
      "[FREE INSTALLATION] TRAPO i-SIGHT T350 2K Dashcam\n",
      "AZDOME M17PRO 1296P Full HD Dual Channel Front & Rear DashCam Night Vision ADAS App Control Car Camera Driving Recorder\n",
      "&lt;1080MP&gt; FULL HD Car Camera Full Wide Angle RecordingVideo LIVE\n",
      "1080P FULL HD Mirror Car Dash Cam Front & Back Video DVR Camera\n",
      "*PARKING MODE* 24 Hours Recording Car Recorder Dashcam CCTV KERETA\n",
      "South Ocean 24H Record 4 Channel WiFi Built-in GPS Dashcam FHD 1080P Front Left Right Rear With Infrared Night Vision Car Dash Cam\n",
      "【8.8 Mesti Beli】 BuzzTech 10 Inch Touch Screen Dash Cam Car DVR Mirror Video Recorder Car Dual Lens Recorder Dash Camera 行车记录仪\n",
      "RM135.80\n",
      "RM79.80\n",
      "RM78.49\n",
      "RM79.80\n",
      "RM249.00\n",
      "RM71.82\n",
      "RM179.00\n",
      "RM79.80\n",
      "RM75.20\n",
      "RM85.00\n",
      "RM31.84\n",
      "RM99.00\n",
      "RM35.14\n",
      "RM345.51\n",
      "RM99.00\n",
      "RM59.00\n",
      "RM59.75\n",
      "RM62.90\n",
      "RM389.00\n",
      "RM62.90\n",
      "RM34.87\n",
      "RM50.00\n",
      "RM266.10\n",
      "RM299.00\n",
      "RM32.00\n",
      "RM24.25\n",
      "RM15.59\n",
      "RM429.00\n",
      "RM69.90\n",
      "RM75.36\n",
      "RM119.00\n",
      "RM89.00\n",
      "RM259.00\n",
      "RM219.00\n",
      "RM151.00\n",
      "RM27.55\n",
      "RM59.88\n",
      "RM25.55\n",
      "RM269.90\n",
      "RM138.80\n"
     ]
    }
   ],
   "source": [
    "item_cost, item_init_cost, item_loc = [],[],[]\n",
    "item_name, items_sold, discount_percent = [], [], []\n",
    "while True:\n",
    "    try:\n",
    "        WebDriverWait(browser, delay)\n",
    "        print (\"Page is ready\")\n",
    "        sleep(5)\n",
    "        html = browser.execute_script(\"return document.getElementsByTagName('html')[0].innerHTML\")\n",
    "        #print(html)\n",
    "        soup = BeautifulSoup(html, \"html.parser\")\n",
    "\n",
    "        # find_all() returns an array of elements. \n",
    "        # We have to go through all of them and select that one you are need. And than call get_text()\n",
    "        for item_n in soup.find_all('div', class_='RfADt'):\n",
    "            print(item_n.get_text())\n",
    "            item_name.append(item_n.text)\n",
    "\n",
    "        # find the price of items\n",
    "        for item_c in soup.find_all('span', class_='ooOxS'):\n",
    "            print(item_c.get_text())\n",
    "            item_cost.append(item_c.text)\n",
    "\n",
    "        # find initial item cost\n",
    "        #for item_ic in soup.find_all('div', class_ = '_1w9jLI QbH7Ig U90Nhh'):\n",
    "        #    print(item_ic.get_text())\n",
    "        #    item_init_cost.append(item_ic.text)\n",
    "        \n",
    "        # find total number of items sold/month\n",
    "        for items_s in soup.find_all('div',class_ = '1cEkb'):\n",
    "            print(items_s.get_text())\n",
    "            items_sold.append(items_s.text)\n",
    "\n",
    "        # find item discount percent\n",
    "        #for dp in soup.find_all('span', class_ = 'percent'):\n",
    "        #    print(dp.get_text())\n",
    "        #    discount_percent.append(dp.text)\n",
    "\n",
    "        # find item location\n",
    "        #for il in soup.find_all('div', class_ = '_3amru2'):\n",
    "        #    print(il.get_text())\n",
    "        #    item_loc.append(il.text)\n",
    "\n",
    "        break # it will break from the loop once the specific element will be present. \n",
    "    except TimeoutException:\n",
    "        print (\"Loading took too much time!-Try again\")"
   ]
  },
  {
   "cell_type": "code",
   "execution_count": 12,
   "metadata": {},
   "outputs": [],
   "source": [
    "rows = zip(item_name,item_cost,items_sold)"
   ]
  },
  {
   "cell_type": "code",
   "execution_count": 13,
   "metadata": {},
   "outputs": [],
   "source": [
    "import csv\n",
    "newFilePath = 'lazada_item_list.csv'\n",
    "with open(newFilePath, \"w\") as f:\n",
    "    writer = csv.writer(f)\n",
    "    for row in rows:\n",
    "        writer.writerow(row)"
   ]
  },
  {
   "cell_type": "code",
   "execution_count": 10,
   "metadata": {},
   "outputs": [],
   "source": [
    "# close the automated browser\n",
    "browser.close()"
   ]
  },
  {
   "cell_type": "code",
   "execution_count": null,
   "metadata": {},
   "outputs": [],
   "source": []
  }
 ],
 "metadata": {
  "kernelspec": {
   "display_name": "Python 3",
   "language": "python",
   "name": "python3"
  },
  "language_info": {
   "codemirror_mode": {
    "name": "ipython",
    "version": 3
   },
   "file_extension": ".py",
   "mimetype": "text/x-python",
   "name": "python",
   "nbconvert_exporter": "python",
   "pygments_lexer": "ipython3",
   "version": "3.11.9"
  }
 },
 "nbformat": 4,
 "nbformat_minor": 2
}
