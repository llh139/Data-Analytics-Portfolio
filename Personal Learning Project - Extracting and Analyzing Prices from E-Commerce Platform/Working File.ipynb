{
 "cells": [
  {
   "cell_type": "code",
   "execution_count": 1,
   "metadata": {},
   "outputs": [],
   "source": [
    "#%pip install requests\n",
    "#%pip install bs4"
   ]
  },
  {
   "cell_type": "code",
   "execution_count": 1,
   "metadata": {},
   "outputs": [],
   "source": [
    "from bs4 import BeautifulSoup # type: ignore\n",
    "import requests # type: ignore\n",
    "import pandas as pd # type: ignore\n",
    "import urllib.parse\n",
    "#import os\n",
    "#from PIL import Image\n",
    "#from IPython.display import IFrame"
   ]
  },
  {
   "cell_type": "code",
   "execution_count": 2,
   "metadata": {},
   "outputs": [],
   "source": [
    "import numpy as np"
   ]
  },
  {
   "cell_type": "code",
   "execution_count": 2,
   "metadata": {},
   "outputs": [],
   "source": [
    "#%pip install selenium"
   ]
  },
  {
   "cell_type": "code",
   "execution_count": 3,
   "metadata": {},
   "outputs": [],
   "source": [
    "from selenium import webdriver # type: ignore\n",
    "from selenium.webdriver.chrome.options import Options # type: ignore\n",
    "from selenium.webdriver.chrome.service import Service # type: ignore\n",
    "from selenium.webdriver.support.ui import WebDriverWait # type: ignore\n",
    "from selenium.common.exceptions import TimeoutException # type: ignore\n",
    "from time import sleep"
   ]
  },
  {
   "cell_type": "code",
   "execution_count": 3,
   "metadata": {},
   "outputs": [],
   "source": [
    "#url_get = 'https://shopee.com.my/search?'\n",
    "#payload = {\"keyword\":\"dashcam\"}\n",
    "#r = requests.get(url_get, params=payload)\n",
    "#print(r.url)\n",
    "#print(r.status_code)\n",
    "#print(r.content)"
   ]
  },
  {
   "cell_type": "code",
   "execution_count": 6,
   "metadata": {},
   "outputs": [],
   "source": [
    "#base_url = 'https://shopee.com.my/search?keyword=dashcam&trackingId=searchhint-1728046904-ce774037-8250-11ef-8e22-3ea6d88eabcb'\n",
    "#base_url = 'https://shopee.com.my/shop/13377506/search?page=0&sortBy=sales'\n",
    "#base_url = 'https://www.lazada.com.my/tag/dashcam/?spm=a2o4k.homepage.search.d_go&q=dashcam&catalog_redirect_tag=true'\n",
    "base_url = 'https://www.lazada.com.my/tag/dashcam/?catalog_redirect_tag=true&page=1&q=dashcam&spm=a2o4k.homepage.search.d_go'\n",
    "chrome_options = Options()\n",
    "\n",
    "# set chrome driver options to disable any popup's from the website\n",
    "# to find local path for chrome profile, open chrome browser\n",
    "# and in the address bar type, \"chrome://version\"\n",
    "chrome_options.add_argument('disable-notifications')\n",
    "chrome_options.add_argument('--disable-infobars')\n",
    "chrome_options.add_argument('start-maximized')\n",
    "chrome_options.add_argument('user-data-dir=C:\\\\Users\\\\1\\\\AppData\\\\Local\\\\Google\\\\Chrome\\\\User Data\\\\Default')\n",
    "# To disable the message, \"Chrome is being controlled by automated test software\"\n",
    "chrome_options.add_argument(\"disable-infobars\")\n",
    "# Pass the argument 1 to allow and 2 to block\n",
    "chrome_options.add_experimental_option(\"prefs\", { \n",
    "    \"profile.default_content_setting_values.notifications\": 2\n",
    "    })\n",
    "# invoke the webdriver\n",
    "chrome_service = Service(executable_path = r\"C:\\Users\\1\\OneDrive\\Desktop\\Personal Matter\\Data Analytics Learning\\Self Exploration Project\\chromedriver-win64\\chromedriver.exe\")\n",
    "browser = webdriver.Chrome(service = chrome_service, options = chrome_options)\n",
    "\n",
    "#browser.get(base_url)\n",
    "\n",
    "delay = 5 #seconds"
   ]
  },
  {
   "cell_type": "code",
   "execution_count": 9,
   "metadata": {},
   "outputs": [
    {
     "name": "stdout",
     "output_type": "stream",
     "text": [
      "Page  1  is ready\n",
      "Page  2  is ready\n",
      "Page  3  is ready\n",
      "Page  4  is ready\n",
      "Page  5  is ready\n",
      "Page  6  is ready\n",
      "Page  7  is ready\n",
      "Page  8  is ready\n",
      "Page  9  is ready\n",
      "Page  10  is ready\n",
      "Page  11  is ready\n",
      "Page  12  is ready\n",
      "Page  13  is ready\n",
      "Page  14  is ready\n",
      "Page  15  is ready\n",
      "Page  16  is ready\n",
      "Page  17  is ready\n",
      "Page  18  is ready\n",
      "Page  19  is ready\n",
      "Page  20  is ready\n",
      "Page  21  is ready\n",
      "Page  22  is ready\n",
      "Page  23  is ready\n",
      "Page  24  is ready\n",
      "Page  25  is ready\n",
      "Page  26  is ready\n",
      "Page  27  is ready\n",
      "Page  28  is ready\n",
      "Page  29  is ready\n",
      "Page  30  is ready\n"
     ]
    }
   ],
   "source": [
    "item_cost, item_init_cost, item_loc = [],[],[]\n",
    "item_name, items_sold, discount_percent = [], [], []\n",
    "\n",
    "for i in range(30):\n",
    "    page_num = i + 1\n",
    "    base_url = 'https://www.lazada.com.my/tag/dashcam/?catalog_redirect_tag=true&page=' + str(page_num) + '&q=dashcam&spm=a2o4k.homepage.search.d_go'\n",
    "    browser.get(base_url)\n",
    "    \n",
    "    while True:\n",
    "        try:\n",
    "            WebDriverWait(browser, delay)\n",
    "            print (\"Page \", str(page_num), \" is ready\")\n",
    "            sleep(5)\n",
    "            html = browser.execute_script(\"return document.getElementsByTagName('html')[0].innerHTML\")\n",
    "            #print(html)\n",
    "            soup = BeautifulSoup(html, \"html.parser\")\n",
    "\n",
    "            # find_all() returns an array of elements. \n",
    "            # We have to go through all of them and select that one you are need. And than call get_text()\n",
    "            for item_n in soup.find_all('div', class_='RfADt'):\n",
    "                #print(item_n.get_text())\n",
    "                item_name.append(item_n.text)\n",
    "\n",
    "            # find the price of items\n",
    "            for item_c in soup.find_all('span', class_='ooOxS'):\n",
    "                #print(item_c.get_text())\n",
    "                item_cost.append(item_c.text)\n",
    "\n",
    "            # find initial item cost\n",
    "            #for item_ic in soup.find_all('div', class_ = '_1w9jLI QbH7Ig U90Nhh'):\n",
    "            #    print(item_ic.get_text())\n",
    "            #    item_init_cost.append(item_ic.text)\n",
    "            \n",
    "            # find total number of items sold/month\n",
    "            for items_s in soup.find_all('span',class_ = '_1cEkb'):\n",
    "                #print(items_s.get_text())\n",
    "                items_sold.append(items_s.text)\n",
    "\n",
    "            # find item discount percent\n",
    "            for dp in soup.find_all('span', class_ = 'ic-dynamic-badge ic-dynamic-badge-text ic-dynamic-badge-120015 ic-dynamic-group-2'):\n",
    "                #print(dp.get_text())\n",
    "                discount_percent.append(dp.text)\n",
    "\n",
    "            # find item location\n",
    "            #for il in soup.find_all('div', class_ = '_3amru2'):\n",
    "            #    print(il.get_text())\n",
    "            #    item_loc.append(il.text)\n",
    "\n",
    "            break # it will break from the loop once the specific element will be present. \n",
    "        except TimeoutException:\n",
    "            print (\"Loading took too much time!-Try again\")\n",
    "\n",
    "# close the automated browser\n",
    "browser.close()"
   ]
  },
  {
   "cell_type": "code",
   "execution_count": 10,
   "metadata": {},
   "outputs": [],
   "source": [
    "#rows = zip(item_name, item_cost, discount_percent, items_sold)"
   ]
  },
  {
   "cell_type": "code",
   "execution_count": 10,
   "metadata": {},
   "outputs": [],
   "source": [
    "import csv\n",
    "newFilePath = 'lazada_item_list.csv'\n",
    "#with open(newFilePath, \"w\") as f:\n",
    "#    writer = csv.writer(f)\n",
    "#    for row in rows:\n",
    "#        writer.writerow(row)"
   ]
  },
  {
   "cell_type": "code",
   "execution_count": 35,
   "metadata": {},
   "outputs": [
    {
     "name": "stdout",
     "output_type": "stream",
     "text": [
      "product_name          object\n",
      "price_RM             float64\n",
      "discount_percent       int64\n",
      "quantity_sold          int64\n",
      "original_price_RM    float64\n",
      "dtype: object\n"
     ]
    },
    {
     "data": {
      "text/html": [
       "<div>\n",
       "<style scoped>\n",
       "    .dataframe tbody tr th:only-of-type {\n",
       "        vertical-align: middle;\n",
       "    }\n",
       "\n",
       "    .dataframe tbody tr th {\n",
       "        vertical-align: top;\n",
       "    }\n",
       "\n",
       "    .dataframe thead th {\n",
       "        text-align: right;\n",
       "    }\n",
       "</style>\n",
       "<table border=\"1\" class=\"dataframe\">\n",
       "  <thead>\n",
       "    <tr style=\"text-align: right;\">\n",
       "      <th></th>\n",
       "      <th>product_name</th>\n",
       "      <th>price_RM</th>\n",
       "      <th>discount_percent</th>\n",
       "      <th>quantity_sold</th>\n",
       "      <th>original_price_RM</th>\n",
       "    </tr>\n",
       "  </thead>\n",
       "  <tbody>\n",
       "    <tr>\n",
       "      <th>0</th>\n",
       "      <td>DOSEN S50 Driving Recorder Front interior Rear...</td>\n",
       "      <td>135.80</td>\n",
       "      <td>50</td>\n",
       "      <td>228</td>\n",
       "      <td>271.60</td>\n",
       "    </tr>\n",
       "    <tr>\n",
       "      <th>1</th>\n",
       "      <td>DOSNE A1 Driving Recorder Front interior Rear ...</td>\n",
       "      <td>79.80</td>\n",
       "      <td>43</td>\n",
       "      <td>323</td>\n",
       "      <td>140.00</td>\n",
       "    </tr>\n",
       "    <tr>\n",
       "      <th>2</th>\n",
       "      <td>DOSNE Wifi 行车记录仪 24 Hours Record 1080P FHD wif...</td>\n",
       "      <td>79.80</td>\n",
       "      <td>43</td>\n",
       "      <td>341</td>\n",
       "      <td>140.00</td>\n",
       "    </tr>\n",
       "    <tr>\n",
       "      <th>3</th>\n",
       "      <td>DOSEN A1 wireless Driving Recorder Front inter...</td>\n",
       "      <td>78.49</td>\n",
       "      <td>61</td>\n",
       "      <td>31000</td>\n",
       "      <td>201.26</td>\n",
       "    </tr>\n",
       "    <tr>\n",
       "      <th>4</th>\n",
       "      <td>70mai Dashcam A200 Dual Channel 1080P Full HD+...</td>\n",
       "      <td>249.00</td>\n",
       "      <td>19</td>\n",
       "      <td>16000</td>\n",
       "      <td>307.41</td>\n",
       "    </tr>\n",
       "  </tbody>\n",
       "</table>\n",
       "</div>"
      ],
      "text/plain": [
       "                                        product_name  price_RM  \\\n",
       "0  DOSEN S50 Driving Recorder Front interior Rear...    135.80   \n",
       "1  DOSNE A1 Driving Recorder Front interior Rear ...     79.80   \n",
       "2  DOSNE Wifi 行车记录仪 24 Hours Record 1080P FHD wif...     79.80   \n",
       "3  DOSEN A1 wireless Driving Recorder Front inter...     78.49   \n",
       "4  70mai Dashcam A200 Dual Channel 1080P Full HD+...    249.00   \n",
       "\n",
       "   discount_percent  quantity_sold  original_price_RM  \n",
       "0                50            228             271.60  \n",
       "1                43            323             140.00  \n",
       "2                43            341             140.00  \n",
       "3                61          31000             201.26  \n",
       "4                19          16000             307.41  "
      ]
     },
     "execution_count": 35,
     "metadata": {},
     "output_type": "execute_result"
    }
   ],
   "source": [
    "df = pd.DataFrame(columns= ['product_name', 'price_RM', 'discount_percent', 'quantity_sold'])\n",
    "df['product_name'] = pd.Series(item_name)\n",
    "df['price_RM'] = pd.Series(item_cost)\n",
    "df['discount_percent'] = pd.Series(discount_percent)\n",
    "df['quantity_sold'] = pd.Series(items_sold)\n",
    "\n",
    "df['price_RM'] = df['price_RM'].replace(['RM', \",\"], '', regex=True)\n",
    "df['price_RM'] = df['price_RM'].astype(float)\n",
    "\n",
    "df['discount_percent'] = df['discount_percent'].replace(to_replace=np.nan, value='Voucher save 0%')\n",
    "df['discount_percent'] = df['discount_percent'].replace(to_replace=\"Voucher save \", value=\"\", regex=True)\n",
    "df['discount_percent'] = df['discount_percent'].replace(to_replace=\"%\", value=\"\", regex=True)\n",
    "df['discount_percent'] = df['discount_percent'].astype(int)\n",
    "\n",
    "df['original_price_RM'] = df['price_RM'] / (1 - (df['discount_percent'] / 100))\n",
    "df['original_price_RM'] = df['original_price_RM'].round(2)\n",
    "df['original_price_RM'] = df['original_price_RM'].astype(float)\n",
    "\n",
    "df['quantity_sold'] = df['quantity_sold'].replace(' sold', '', regex=True)\n",
    "df['quantity_sold'] = df['quantity_sold'].replace('K', '000', regex=True)\n",
    "df['quantity_sold'] = df['quantity_sold'].replace(np.nan, '0')\n",
    "df['quantity_sold'] = df['quantity_sold'].astype(str).str.replace(\".\", \"\")\n",
    "df['quantity_sold'] = df['quantity_sold'].astype(int)\n",
    "\n",
    "print(df.dtypes)\n",
    "df.head()"
   ]
  },
  {
   "cell_type": "code",
   "execution_count": 36,
   "metadata": {},
   "outputs": [],
   "source": [
    "df.to_csv(newFilePath)"
   ]
  },
  {
   "cell_type": "code",
   "execution_count": null,
   "metadata": {},
   "outputs": [],
   "source": []
  }
 ],
 "metadata": {
  "kernelspec": {
   "display_name": "Python 3",
   "language": "python",
   "name": "python3"
  },
  "language_info": {
   "codemirror_mode": {
    "name": "ipython",
    "version": 3
   },
   "file_extension": ".py",
   "mimetype": "text/x-python",
   "name": "python",
   "nbconvert_exporter": "python",
   "pygments_lexer": "ipython3",
   "version": "3.11.9"
  }
 },
 "nbformat": 4,
 "nbformat_minor": 2
}
