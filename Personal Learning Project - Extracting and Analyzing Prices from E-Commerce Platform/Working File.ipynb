{
 "cells": [
  {
   "cell_type": "code",
   "execution_count": 1,
   "metadata": {},
   "outputs": [],
   "source": [
    "#%pip install requests\n",
    "#%pip install bs4"
   ]
  },
  {
   "cell_type": "code",
   "execution_count": 1,
   "metadata": {},
   "outputs": [],
   "source": [
    "from bs4 import BeautifulSoup # type: ignore\n",
    "import requests # type: ignore\n",
    "import pandas as pd # type: ignore\n",
    "import urllib.parse\n",
    "#import os\n",
    "#from PIL import Image\n",
    "#from IPython.display import IFrame"
   ]
  },
  {
   "cell_type": "code",
   "execution_count": 2,
   "metadata": {},
   "outputs": [],
   "source": [
    "import numpy as np"
   ]
  },
  {
   "cell_type": "code",
   "execution_count": 4,
   "metadata": {},
   "outputs": [],
   "source": [
    "#%pip install selenium"
   ]
  },
  {
   "cell_type": "code",
   "execution_count": 5,
   "metadata": {},
   "outputs": [],
   "source": [
    "from selenium import webdriver # type: ignore\n",
    "from selenium.webdriver.chrome.options import Options # type: ignore\n",
    "from selenium.webdriver.chrome.service import Service # type: ignore\n",
    "from selenium.webdriver.support.ui import WebDriverWait # type: ignore\n",
    "from selenium.common.exceptions import TimeoutException # type: ignore\n",
    "from time import sleep"
   ]
  },
  {
   "cell_type": "code",
   "execution_count": 6,
   "metadata": {},
   "outputs": [],
   "source": [
    "#url_get = 'https://shopee.com.my/search?'\n",
    "#payload = {\"keyword\":\"dashcam\"}\n",
    "#r = requests.get(url_get, params=payload)\n",
    "#print(r.url)\n",
    "#print(r.status_code)\n",
    "#print(r.content)"
   ]
  },
  {
   "cell_type": "code",
   "execution_count": 7,
   "metadata": {},
   "outputs": [],
   "source": [
    "#base_url = 'https://shopee.com.my/search?keyword=dashcam&trackingId=searchhint-1728046904-ce774037-8250-11ef-8e22-3ea6d88eabcb'\n",
    "#base_url = 'https://shopee.com.my/shop/13377506/search?page=0&sortBy=sales'\n",
    "#base_url = 'https://www.lazada.com.my/tag/dashcam/?spm=a2o4k.homepage.search.d_go&q=dashcam&catalog_redirect_tag=true'\n",
    "chrome_options = Options()\n",
    "\n",
    "# set chrome driver options to disable any popup's from the website\n",
    "# to find local path for chrome profile, open chrome browser\n",
    "# and in the address bar type, \"chrome://version\"\n",
    "chrome_options.add_argument('disable-notifications')\n",
    "chrome_options.add_argument('--disable-infobars')\n",
    "chrome_options.add_argument('start-maximized')\n",
    "chrome_options.add_argument('user-data-dir=C:\\\\Users\\\\1\\\\AppData\\\\Local\\\\Google\\\\Chrome\\\\User Data\\\\Default')\n",
    "# To disable the message, \"Chrome is being controlled by automated test software\"\n",
    "chrome_options.add_argument(\"disable-infobars\")\n",
    "# Pass the argument 1 to allow and 2 to block\n",
    "chrome_options.add_experimental_option(\"prefs\", { \n",
    "    \"profile.default_content_setting_values.notifications\": 2\n",
    "    })\n",
    "# invoke the webdriver\n",
    "chrome_service = Service(executable_path = r\"C:\\Users\\1\\OneDrive\\Desktop\\Personal Matter\\Data Analytics Learning\\Self Exploration Project\\chromedriver-win64\\chromedriver.exe\")\n",
    "browser = webdriver.Chrome(service = chrome_service, options = chrome_options)\n",
    "\n",
    "#browser.get(base_url)\n",
    "\n",
    "delay = 5 #seconds"
   ]
  },
  {
   "cell_type": "code",
   "execution_count": 17,
   "metadata": {},
   "outputs": [],
   "source": [
    "item_cost, storage = [], []\n",
    "item_name, items_sold, discount_percent = [], [], []\n",
    "\n",
    "brand = ['70mai', 'dosen', 'xiaomi',\n",
    "         'motorola', 'tyzong', 'ddpai',\n",
    "         'kamatto', 'buzztech', 'ekleva',\n",
    "         'azdome', 'pioneer', 'safecam',\n",
    "         'southocean', 'mohawk', 'kangzog',\n",
    "         'red horse', 'xushidz', 'ettro',\n",
    "         'asawin', 'akeeyo', 'azdome',\n",
    "         'seicane', 'blueskysea', 'stapon',\n",
    "         'aitemay', 'viofo', 'podofo',\n",
    "         'vtopek', 'cooldin', 'janedream',\n",
    "         'dahua', 'finevu', 'kawa',\n",
    "         'mr.ho', 'tiesfong', 'alphine',\n",
    "         'evean', 'grandnavi', 'botslab',\n",
    "         'e-ace', 'ezonetronics', 'gnet',\n",
    "         'acceo', 'pony', 'hikvision',\n",
    "         'homeking']\n",
    "\n",
    "brand_less_count = []"
   ]
  },
  {
   "cell_type": "code",
   "execution_count": null,
   "metadata": {},
   "outputs": [],
   "source": [
    "# Get Storages available from the side panel which dont need access page by page\n",
    "base_url = 'https://www.lazada.com.my/tag/dashcam/?catalog_redirect_tag=true&page=1&q=dashcam&spm=a2o4k.homepage.search.d_go'\n",
    "\n",
    "browser.get(base_url)\n",
    "WebDriverWait(browser, delay)\n",
    "sleep(5)\n",
    "html = browser.execute_script(\"return document.getElementsByTagName('html')[0].innerHTML\")\n",
    "soup = BeautifulSoup(html, \"html.parser\")\n",
    "\n",
    "# Storage\n",
    "for item_n in soup.find_all('div', class_='_9xWFp'):\n",
    "    if item_n.text == 'Storage Capacity':\n",
    "        for options in soup.findChildren('span'):\n",
    "            storage.append(options.text)"
   ]
  },
  {
   "cell_type": "code",
   "execution_count": 8,
   "metadata": {},
   "outputs": [
    {
     "name": "stdout",
     "output_type": "stream",
     "text": [
      "Page  1  is ready\n",
      "Page  2  is ready\n",
      "Page  3  is ready\n",
      "Page  4  is ready\n",
      "Page  5  is ready\n",
      "Page  6  is ready\n",
      "Page  7  is ready\n",
      "Page  8  is ready\n",
      "Page  9  is ready\n",
      "Page  10  is ready\n",
      "Page  11  is ready\n",
      "Page  12  is ready\n",
      "Page  13  is ready\n",
      "Page  14  is ready\n",
      "Page  15  is ready\n",
      "Page  16  is ready\n",
      "Page  17  is ready\n",
      "Page  18  is ready\n",
      "Page  19  is ready\n",
      "Page  20  is ready\n",
      "Page  21  is ready\n",
      "Page  22  is ready\n",
      "Page  23  is ready\n",
      "Page  24  is ready\n",
      "Page  25  is ready\n",
      "Page  26  is ready\n",
      "Page  27  is ready\n",
      "Page  28  is ready\n",
      "Page  29  is ready\n",
      "Page  30  is ready\n",
      "Page  31  is ready\n",
      "Page  32  is ready\n",
      "Page  33  is ready\n",
      "Page  34  is ready\n",
      "Page  35  is ready\n",
      "Page  36  is ready\n",
      "Page  37  is ready\n",
      "Page  38  is ready\n",
      "Page  39  is ready\n",
      "Page  40  is ready\n"
     ]
    }
   ],
   "source": [
    "# Names, Prices, Discount %, Quantity Sold\n",
    "for i in range(40):\n",
    "    page_num = i + 1\n",
    "    base_url = 'https://www.lazada.com.my/tag/dashcam/?catalog_redirect_tag=true&page=' + str(page_num) + '&q=dashcam&spm=a2o4k.homepage.search.d_go'\n",
    "    browser.get(base_url)\n",
    "    \n",
    "    while True:\n",
    "        try:\n",
    "            WebDriverWait(browser, delay)\n",
    "            print (\"Page \", str(page_num), \" is ready\")\n",
    "            sleep(5)\n",
    "            html = browser.execute_script(\"return document.getElementsByTagName('html')[0].innerHTML\")\n",
    "            #print(html)\n",
    "            soup = BeautifulSoup(html, \"html.parser\")\n",
    "\n",
    "            # find_all() returns an array of elements. \n",
    "            # We have to go through all of them and select that one you are need. And than call get_text()\n",
    "            for item_n in soup.find_all('div', class_='RfADt'):\n",
    "                item_name.append(item_n.text)\n",
    "\n",
    "            # find the price of items\n",
    "            for item_c in soup.find_all('span', class_='ooOxS'):\n",
    "                item_cost.append(item_c.text)\n",
    "\n",
    "            \n",
    "            # find total number of items sold/month\n",
    "            for items_s in soup.find_all('span',class_ = '_1cEkb'):\n",
    "                items_sold.append(items_s.text)\n",
    "\n",
    "            # find item discount percent\n",
    "            for dp in soup.find_all('span', class_ = 'ic-dynamic-badge ic-dynamic-badge-text ic-dynamic-badge-120015 ic-dynamic-group-2'):\n",
    "                discount_percent.append(dp.text)\n",
    "\n",
    "            break # it will break from the loop once the specific element will be present. \n",
    "        except TimeoutException:\n",
    "            print (\"Loading took too much time!-Try again\")\n",
    "\n",
    "# close the automated browser\n",
    "browser.close()"
   ]
  },
  {
   "cell_type": "code",
   "execution_count": 9,
   "metadata": {},
   "outputs": [],
   "source": [
    "# find initial item cost\n",
    "#for item_ic in soup.find_all('div', class_ = '_1w9jLI QbH7Ig U90Nhh'):\n",
    "#    print(item_ic.get_text())\n",
    "#    item_init_cost.append(item_ic.text)\n",
    "\n",
    "# find item location\n",
    "#for il in soup.find_all('div', class_ = '_3amru2'):\n",
    "#    print(il.get_text())\n",
    "#    item_loc.append(il.text)\n",
    "\n",
    "#rows = zip(item_name, item_cost, discount_percent, items_sold)"
   ]
  },
  {
   "cell_type": "code",
   "execution_count": 5,
   "metadata": {},
   "outputs": [],
   "source": [
    "#import csv\n",
    "newFilePath1 = 'lazada_item_list_1600.csv'\n",
    "newFilePath2 = 'lazada_item_list_800.csv'\n",
    "#with open(newFilePath, \"w\") as f:\n",
    "#    writer = csv.writer(f)\n",
    "#    for row in rows:\n",
    "#        writer.writerow(row)"
   ]
  },
  {
   "cell_type": "code",
   "execution_count": 11,
   "metadata": {},
   "outputs": [
    {
     "name": "stdout",
     "output_type": "stream",
     "text": [
      "product_name          object\n",
      "price_RM             float64\n",
      "discount_percent       int64\n",
      "quantity_sold          int64\n",
      "original_price_RM    float64\n",
      "dtype: object\n"
     ]
    },
    {
     "data": {
      "text/html": [
       "<div>\n",
       "<style scoped>\n",
       "    .dataframe tbody tr th:only-of-type {\n",
       "        vertical-align: middle;\n",
       "    }\n",
       "\n",
       "    .dataframe tbody tr th {\n",
       "        vertical-align: top;\n",
       "    }\n",
       "\n",
       "    .dataframe thead th {\n",
       "        text-align: right;\n",
       "    }\n",
       "</style>\n",
       "<table border=\"1\" class=\"dataframe\">\n",
       "  <thead>\n",
       "    <tr style=\"text-align: right;\">\n",
       "      <th></th>\n",
       "      <th>product_name</th>\n",
       "      <th>price_RM</th>\n",
       "      <th>discount_percent</th>\n",
       "      <th>quantity_sold</th>\n",
       "      <th>original_price_RM</th>\n",
       "    </tr>\n",
       "  </thead>\n",
       "  <tbody>\n",
       "    <tr>\n",
       "      <th>0</th>\n",
       "      <td>DOSEN S50 Driving Recorder Front interior Rear...</td>\n",
       "      <td>135.80</td>\n",
       "      <td>50</td>\n",
       "      <td>228</td>\n",
       "      <td>271.60</td>\n",
       "    </tr>\n",
       "    <tr>\n",
       "      <th>1</th>\n",
       "      <td>DOSNE A1 Driving Recorder Front interior Rear ...</td>\n",
       "      <td>79.80</td>\n",
       "      <td>43</td>\n",
       "      <td>323</td>\n",
       "      <td>140.00</td>\n",
       "    </tr>\n",
       "    <tr>\n",
       "      <th>2</th>\n",
       "      <td>DOSNE Wifi 行车记录仪 24 Hours Record 1080P FHD wif...</td>\n",
       "      <td>79.80</td>\n",
       "      <td>43</td>\n",
       "      <td>341</td>\n",
       "      <td>140.00</td>\n",
       "    </tr>\n",
       "    <tr>\n",
       "      <th>3</th>\n",
       "      <td>DOSEN A1 wireless Driving Recorder Front inter...</td>\n",
       "      <td>79.66</td>\n",
       "      <td>60</td>\n",
       "      <td>31000</td>\n",
       "      <td>199.15</td>\n",
       "    </tr>\n",
       "    <tr>\n",
       "      <th>4</th>\n",
       "      <td>DOSEN 24 Hours Record 1080P FHD Wifi 3 Camera ...</td>\n",
       "      <td>79.66</td>\n",
       "      <td>58</td>\n",
       "      <td>60000</td>\n",
       "      <td>189.67</td>\n",
       "    </tr>\n",
       "  </tbody>\n",
       "</table>\n",
       "</div>"
      ],
      "text/plain": [
       "                                        product_name  price_RM  \\\n",
       "0  DOSEN S50 Driving Recorder Front interior Rear...    135.80   \n",
       "1  DOSNE A1 Driving Recorder Front interior Rear ...     79.80   \n",
       "2  DOSNE Wifi 行车记录仪 24 Hours Record 1080P FHD wif...     79.80   \n",
       "3  DOSEN A1 wireless Driving Recorder Front inter...     79.66   \n",
       "4  DOSEN 24 Hours Record 1080P FHD Wifi 3 Camera ...     79.66   \n",
       "\n",
       "   discount_percent  quantity_sold  original_price_RM  \n",
       "0                50            228             271.60  \n",
       "1                43            323             140.00  \n",
       "2                43            341             140.00  \n",
       "3                60          31000             199.15  \n",
       "4                58          60000             189.67  "
      ]
     },
     "execution_count": 11,
     "metadata": {},
     "output_type": "execute_result"
    }
   ],
   "source": [
    "df = pd.DataFrame(columns= ['product_name', 'price_RM', 'discount_percent', 'quantity_sold']) #, 'brand', 'storage'\n",
    "df['product_name'] = pd.Series(item_name)\n",
    "df['price_RM'] = pd.Series(item_cost)\n",
    "df['discount_percent'] = pd.Series(discount_percent)\n",
    "df['quantity_sold'] = pd.Series(items_sold)\n",
    "\n",
    "df['price_RM'] = df['price_RM'].replace(['RM', \",\"], '', regex=True)\n",
    "df['price_RM'] = df['price_RM'].astype(float)\n",
    "\n",
    "df['discount_percent'] = df['discount_percent'].replace(to_replace=np.nan, value='Voucher save 0%')\n",
    "df['discount_percent'] = df['discount_percent'].replace(to_replace=\"Voucher save \", value=\"\", regex=True)\n",
    "df['discount_percent'] = df['discount_percent'].replace(to_replace=\"%\", value=\"\", regex=True)\n",
    "df['discount_percent'] = df['discount_percent'].astype(int)\n",
    "\n",
    "df['original_price_RM'] = df['price_RM'] / (1 - (df['discount_percent'] / 100))\n",
    "df['original_price_RM'] = df['original_price_RM'].round(2)\n",
    "df['original_price_RM'] = df['original_price_RM'].astype(float)\n",
    "\n",
    "df['quantity_sold'] = df['quantity_sold'].replace(' sold', '', regex=True)\n",
    "df['quantity_sold'] = df['quantity_sold'].replace('K', '000', regex=True)\n",
    "df['quantity_sold'] = df['quantity_sold'].replace(np.nan, '0')\n",
    "df['quantity_sold'] = df['quantity_sold'].astype(str).str.replace(\".\", \"\")\n",
    "df['quantity_sold'] = df['quantity_sold'].astype(int)\n",
    "\n",
    "print(df.dtypes)\n",
    "df.head()"
   ]
  },
  {
   "cell_type": "code",
   "execution_count": 25,
   "metadata": {},
   "outputs": [
    {
     "data": {
      "text/html": [
       "<div>\n",
       "<style scoped>\n",
       "    .dataframe tbody tr th:only-of-type {\n",
       "        vertical-align: middle;\n",
       "    }\n",
       "\n",
       "    .dataframe tbody tr th {\n",
       "        vertical-align: top;\n",
       "    }\n",
       "\n",
       "    .dataframe thead th {\n",
       "        text-align: right;\n",
       "    }\n",
       "</style>\n",
       "<table border=\"1\" class=\"dataframe\">\n",
       "  <thead>\n",
       "    <tr style=\"text-align: right;\">\n",
       "      <th></th>\n",
       "      <th>product_name</th>\n",
       "      <th>price_RM</th>\n",
       "      <th>discount_percent</th>\n",
       "      <th>quantity_sold</th>\n",
       "      <th>original_price_RM</th>\n",
       "    </tr>\n",
       "  </thead>\n",
       "  <tbody>\n",
       "    <tr>\n",
       "      <th>795</th>\n",
       "      <td>Dashcam Car Reverse Image Video Recorder G-sen...</td>\n",
       "      <td>77.07</td>\n",
       "      <td>58</td>\n",
       "      <td>36</td>\n",
       "      <td>183.50</td>\n",
       "    </tr>\n",
       "    <tr>\n",
       "      <th>796</th>\n",
       "      <td>4K 3840*2160P Dash Cam Mini WIFI GPS Car DVR C...</td>\n",
       "      <td>203.32</td>\n",
       "      <td>29</td>\n",
       "      <td>52</td>\n",
       "      <td>286.37</td>\n",
       "    </tr>\n",
       "    <tr>\n",
       "      <th>797</th>\n",
       "      <td>4K 2160P Single Len Car DVR Dash Cam Rear View...</td>\n",
       "      <td>77.35</td>\n",
       "      <td>8</td>\n",
       "      <td>7</td>\n",
       "      <td>84.08</td>\n",
       "    </tr>\n",
       "    <tr>\n",
       "      <th>798</th>\n",
       "      <td>3-Channel Car DVR 1080P Dash Cam for Cars WIFI...</td>\n",
       "      <td>53.65</td>\n",
       "      <td>33</td>\n",
       "      <td>123</td>\n",
       "      <td>80.07</td>\n",
       "    </tr>\n",
       "    <tr>\n",
       "      <th>799</th>\n",
       "      <td>Car DVR 10.26 Inch Dash Cam 4K 2160P Carplay A...</td>\n",
       "      <td>324.96</td>\n",
       "      <td>23</td>\n",
       "      <td>22</td>\n",
       "      <td>422.03</td>\n",
       "    </tr>\n",
       "  </tbody>\n",
       "</table>\n",
       "</div>"
      ],
      "text/plain": [
       "                                          product_name  price_RM  \\\n",
       "795  Dashcam Car Reverse Image Video Recorder G-sen...     77.07   \n",
       "796  4K 3840*2160P Dash Cam Mini WIFI GPS Car DVR C...    203.32   \n",
       "797  4K 2160P Single Len Car DVR Dash Cam Rear View...     77.35   \n",
       "798  3-Channel Car DVR 1080P Dash Cam for Cars WIFI...     53.65   \n",
       "799  Car DVR 10.26 Inch Dash Cam 4K 2160P Carplay A...    324.96   \n",
       "\n",
       "     discount_percent  quantity_sold  original_price_RM  \n",
       "795                58             36             183.50  \n",
       "796                29             52             286.37  \n",
       "797                 8              7              84.08  \n",
       "798                33            123              80.07  \n",
       "799                23             22             422.03  "
      ]
     },
     "execution_count": 25,
     "metadata": {},
     "output_type": "execute_result"
    }
   ],
   "source": [
    "df_800 = df[df.index < 800]\n",
    "df_800.tail()"
   ]
  },
  {
   "cell_type": "code",
   "execution_count": 18,
   "metadata": {},
   "outputs": [],
   "source": [
    "# Exporting csv after extracting data from lazada and done wrangling\n",
    "#df.to_csv(newFilePath1)\n",
    "#df_800.to_csv(newFilePath2)"
   ]
  },
  {
   "cell_type": "code",
   "execution_count": 22,
   "metadata": {},
   "outputs": [
    {
     "data": {
      "text/html": [
       "<div>\n",
       "<style scoped>\n",
       "    .dataframe tbody tr th:only-of-type {\n",
       "        vertical-align: middle;\n",
       "    }\n",
       "\n",
       "    .dataframe tbody tr th {\n",
       "        vertical-align: top;\n",
       "    }\n",
       "\n",
       "    .dataframe thead th {\n",
       "        text-align: right;\n",
       "    }\n",
       "</style>\n",
       "<table border=\"1\" class=\"dataframe\">\n",
       "  <thead>\n",
       "    <tr style=\"text-align: right;\">\n",
       "      <th></th>\n",
       "      <th>price_RM</th>\n",
       "      <th>discount_percent</th>\n",
       "      <th>quantity_sold</th>\n",
       "      <th>original_price_RM</th>\n",
       "    </tr>\n",
       "  </thead>\n",
       "  <tbody>\n",
       "    <tr>\n",
       "      <th>count</th>\n",
       "      <td>1600.000000</td>\n",
       "      <td>1600.000000</td>\n",
       "      <td>1600.000000</td>\n",
       "      <td>1600.000000</td>\n",
       "    </tr>\n",
       "    <tr>\n",
       "      <th>mean</th>\n",
       "      <td>193.504081</td>\n",
       "      <td>20.348125</td>\n",
       "      <td>2574.877500</td>\n",
       "      <td>272.563656</td>\n",
       "    </tr>\n",
       "    <tr>\n",
       "      <th>std</th>\n",
       "      <td>179.614480</td>\n",
       "      <td>23.956745</td>\n",
       "      <td>16652.662283</td>\n",
       "      <td>315.422734</td>\n",
       "    </tr>\n",
       "    <tr>\n",
       "      <th>min</th>\n",
       "      <td>3.000000</td>\n",
       "      <td>0.000000</td>\n",
       "      <td>0.000000</td>\n",
       "      <td>3.610000</td>\n",
       "    </tr>\n",
       "    <tr>\n",
       "      <th>25%</th>\n",
       "      <td>73.090000</td>\n",
       "      <td>0.000000</td>\n",
       "      <td>0.000000</td>\n",
       "      <td>89.900000</td>\n",
       "    </tr>\n",
       "    <tr>\n",
       "      <th>50%</th>\n",
       "      <td>130.905000</td>\n",
       "      <td>3.000000</td>\n",
       "      <td>6.000000</td>\n",
       "      <td>181.365000</td>\n",
       "    </tr>\n",
       "    <tr>\n",
       "      <th>75%</th>\n",
       "      <td>256.762500</td>\n",
       "      <td>42.000000</td>\n",
       "      <td>32.250000</td>\n",
       "      <td>335.827500</td>\n",
       "    </tr>\n",
       "    <tr>\n",
       "      <th>max</th>\n",
       "      <td>1679.000000</td>\n",
       "      <td>88.000000</td>\n",
       "      <td>240000.000000</td>\n",
       "      <td>4825.000000</td>\n",
       "    </tr>\n",
       "  </tbody>\n",
       "</table>\n",
       "</div>"
      ],
      "text/plain": [
       "          price_RM  discount_percent  quantity_sold  original_price_RM\n",
       "count  1600.000000       1600.000000    1600.000000        1600.000000\n",
       "mean    193.504081         20.348125    2574.877500         272.563656\n",
       "std     179.614480         23.956745   16652.662283         315.422734\n",
       "min       3.000000          0.000000       0.000000           3.610000\n",
       "25%      73.090000          0.000000       0.000000          89.900000\n",
       "50%     130.905000          3.000000       6.000000         181.365000\n",
       "75%     256.762500         42.000000      32.250000         335.827500\n",
       "max    1679.000000         88.000000  240000.000000        4825.000000"
      ]
     },
     "execution_count": 22,
     "metadata": {},
     "output_type": "execute_result"
    }
   ],
   "source": [
    "df.describe()"
   ]
  },
  {
   "cell_type": "code",
   "execution_count": 7,
   "metadata": {},
   "outputs": [],
   "source": [
    "df_800 = pd.read_csv(newFilePath2)\n",
    "df_800.drop('Unnamed: 0', axis=1, inplace=True)"
   ]
  },
  {
   "cell_type": "code",
   "execution_count": 8,
   "metadata": {},
   "outputs": [
    {
     "data": {
      "text/html": [
       "<div>\n",
       "<style scoped>\n",
       "    .dataframe tbody tr th:only-of-type {\n",
       "        vertical-align: middle;\n",
       "    }\n",
       "\n",
       "    .dataframe tbody tr th {\n",
       "        vertical-align: top;\n",
       "    }\n",
       "\n",
       "    .dataframe thead th {\n",
       "        text-align: right;\n",
       "    }\n",
       "</style>\n",
       "<table border=\"1\" class=\"dataframe\">\n",
       "  <thead>\n",
       "    <tr style=\"text-align: right;\">\n",
       "      <th></th>\n",
       "      <th>price_RM</th>\n",
       "      <th>discount_percent</th>\n",
       "      <th>quantity_sold</th>\n",
       "      <th>original_price_RM</th>\n",
       "    </tr>\n",
       "  </thead>\n",
       "  <tbody>\n",
       "    <tr>\n",
       "      <th>count</th>\n",
       "      <td>800.000000</td>\n",
       "      <td>800.0000</td>\n",
       "      <td>800.000000</td>\n",
       "      <td>800.000000</td>\n",
       "    </tr>\n",
       "    <tr>\n",
       "      <th>mean</th>\n",
       "      <td>180.858662</td>\n",
       "      <td>40.2975</td>\n",
       "      <td>5042.862500</td>\n",
       "      <td>338.062050</td>\n",
       "    </tr>\n",
       "    <tr>\n",
       "      <th>std</th>\n",
       "      <td>176.130551</td>\n",
       "      <td>18.4089</td>\n",
       "      <td>23208.097778</td>\n",
       "      <td>396.385338</td>\n",
       "    </tr>\n",
       "    <tr>\n",
       "      <th>min</th>\n",
       "      <td>3.000000</td>\n",
       "      <td>1.0000</td>\n",
       "      <td>5.000000</td>\n",
       "      <td>3.610000</td>\n",
       "    </tr>\n",
       "    <tr>\n",
       "      <th>25%</th>\n",
       "      <td>68.915000</td>\n",
       "      <td>27.0000</td>\n",
       "      <td>11.000000</td>\n",
       "      <td>118.012500</td>\n",
       "    </tr>\n",
       "    <tr>\n",
       "      <th>50%</th>\n",
       "      <td>119.180000</td>\n",
       "      <td>42.0000</td>\n",
       "      <td>27.000000</td>\n",
       "      <td>215.215000</td>\n",
       "    </tr>\n",
       "    <tr>\n",
       "      <th>75%</th>\n",
       "      <td>239.000000</td>\n",
       "      <td>53.0000</td>\n",
       "      <td>167.000000</td>\n",
       "      <td>422.837500</td>\n",
       "    </tr>\n",
       "    <tr>\n",
       "      <th>max</th>\n",
       "      <td>1679.000000</td>\n",
       "      <td>88.0000</td>\n",
       "      <td>240000.000000</td>\n",
       "      <td>4825.000000</td>\n",
       "    </tr>\n",
       "  </tbody>\n",
       "</table>\n",
       "</div>"
      ],
      "text/plain": [
       "          price_RM  discount_percent  quantity_sold  original_price_RM\n",
       "count   800.000000          800.0000     800.000000         800.000000\n",
       "mean    180.858662           40.2975    5042.862500         338.062050\n",
       "std     176.130551           18.4089   23208.097778         396.385338\n",
       "min       3.000000            1.0000       5.000000           3.610000\n",
       "25%      68.915000           27.0000      11.000000         118.012500\n",
       "50%     119.180000           42.0000      27.000000         215.215000\n",
       "75%     239.000000           53.0000     167.000000         422.837500\n",
       "max    1679.000000           88.0000  240000.000000        4825.000000"
      ]
     },
     "execution_count": 8,
     "metadata": {},
     "output_type": "execute_result"
    }
   ],
   "source": [
    "df_800.describe()"
   ]
  },
  {
   "cell_type": "code",
   "execution_count": 9,
   "metadata": {},
   "outputs": [
    {
     "data": {
      "text/html": [
       "<div>\n",
       "<style scoped>\n",
       "    .dataframe tbody tr th:only-of-type {\n",
       "        vertical-align: middle;\n",
       "    }\n",
       "\n",
       "    .dataframe tbody tr th {\n",
       "        vertical-align: top;\n",
       "    }\n",
       "\n",
       "    .dataframe thead th {\n",
       "        text-align: right;\n",
       "    }\n",
       "</style>\n",
       "<table border=\"1\" class=\"dataframe\">\n",
       "  <thead>\n",
       "    <tr style=\"text-align: right;\">\n",
       "      <th></th>\n",
       "      <th>product_name</th>\n",
       "      <th>price_RM</th>\n",
       "      <th>discount_percent</th>\n",
       "      <th>quantity_sold</th>\n",
       "      <th>original_price_RM</th>\n",
       "      <th>brand</th>\n",
       "    </tr>\n",
       "  </thead>\n",
       "  <tbody>\n",
       "    <tr>\n",
       "      <th>0</th>\n",
       "      <td>DOSEN S50 Driving Recorder Front interior Rear...</td>\n",
       "      <td>135.80</td>\n",
       "      <td>50</td>\n",
       "      <td>228</td>\n",
       "      <td>271.60</td>\n",
       "      <td>dosen</td>\n",
       "    </tr>\n",
       "    <tr>\n",
       "      <th>1</th>\n",
       "      <td>DOSNE A1 Driving Recorder Front interior Rear ...</td>\n",
       "      <td>79.80</td>\n",
       "      <td>43</td>\n",
       "      <td>323</td>\n",
       "      <td>140.00</td>\n",
       "      <td>dosen</td>\n",
       "    </tr>\n",
       "    <tr>\n",
       "      <th>2</th>\n",
       "      <td>DOSNE Wifi 行车记录仪 24 Hours Record 1080P FHD wif...</td>\n",
       "      <td>79.80</td>\n",
       "      <td>43</td>\n",
       "      <td>341</td>\n",
       "      <td>140.00</td>\n",
       "      <td>dosen</td>\n",
       "    </tr>\n",
       "    <tr>\n",
       "      <th>3</th>\n",
       "      <td>DOSEN A1 wireless Driving Recorder Front inter...</td>\n",
       "      <td>79.66</td>\n",
       "      <td>60</td>\n",
       "      <td>31000</td>\n",
       "      <td>199.15</td>\n",
       "      <td>dosen</td>\n",
       "    </tr>\n",
       "    <tr>\n",
       "      <th>4</th>\n",
       "      <td>DOSEN 24 Hours Record 1080P FHD Wifi 3 Camera ...</td>\n",
       "      <td>79.66</td>\n",
       "      <td>58</td>\n",
       "      <td>60000</td>\n",
       "      <td>189.67</td>\n",
       "      <td>dosen</td>\n",
       "    </tr>\n",
       "  </tbody>\n",
       "</table>\n",
       "</div>"
      ],
      "text/plain": [
       "                                        product_name  price_RM  \\\n",
       "0  DOSEN S50 Driving Recorder Front interior Rear...    135.80   \n",
       "1  DOSNE A1 Driving Recorder Front interior Rear ...     79.80   \n",
       "2  DOSNE Wifi 行车记录仪 24 Hours Record 1080P FHD wif...     79.80   \n",
       "3  DOSEN A1 wireless Driving Recorder Front inter...     79.66   \n",
       "4  DOSEN 24 Hours Record 1080P FHD Wifi 3 Camera ...     79.66   \n",
       "\n",
       "   discount_percent  quantity_sold  original_price_RM  brand  \n",
       "0                50            228             271.60  dosen  \n",
       "1                43            323             140.00  dosen  \n",
       "2                43            341             140.00  dosen  \n",
       "3                60          31000             199.15  dosen  \n",
       "4                58          60000             189.67  dosen  "
      ]
     },
     "execution_count": 9,
     "metadata": {},
     "output_type": "execute_result"
    }
   ],
   "source": [
    "df_800.head()"
   ]
  },
  {
   "cell_type": "code",
   "execution_count": 64,
   "metadata": {},
   "outputs": [
    {
     "data": {
      "text/html": [
       "<div>\n",
       "<style scoped>\n",
       "    .dataframe tbody tr th:only-of-type {\n",
       "        vertical-align: middle;\n",
       "    }\n",
       "\n",
       "    .dataframe tbody tr th {\n",
       "        vertical-align: top;\n",
       "    }\n",
       "\n",
       "    .dataframe thead th {\n",
       "        text-align: right;\n",
       "    }\n",
       "</style>\n",
       "<table border=\"1\" class=\"dataframe\">\n",
       "  <thead>\n",
       "    <tr style=\"text-align: right;\">\n",
       "      <th></th>\n",
       "      <th>product_name</th>\n",
       "      <th>price_RM</th>\n",
       "      <th>discount_percent</th>\n",
       "      <th>quantity_sold</th>\n",
       "      <th>original_price_RM</th>\n",
       "      <th>brand</th>\n",
       "    </tr>\n",
       "  </thead>\n",
       "  <tbody>\n",
       "    <tr>\n",
       "      <th>0</th>\n",
       "      <td>DOSEN S50 Driving Recorder Front interior Rear...</td>\n",
       "      <td>135.80</td>\n",
       "      <td>50</td>\n",
       "      <td>228</td>\n",
       "      <td>271.60</td>\n",
       "      <td>dosen</td>\n",
       "    </tr>\n",
       "    <tr>\n",
       "      <th>1</th>\n",
       "      <td>DOSNE A1 Driving Recorder Front interior Rear ...</td>\n",
       "      <td>79.80</td>\n",
       "      <td>43</td>\n",
       "      <td>323</td>\n",
       "      <td>140.00</td>\n",
       "      <td>dosen</td>\n",
       "    </tr>\n",
       "    <tr>\n",
       "      <th>2</th>\n",
       "      <td>DOSNE Wifi 行车记录仪 24 Hours Record 1080P FHD wif...</td>\n",
       "      <td>79.80</td>\n",
       "      <td>43</td>\n",
       "      <td>341</td>\n",
       "      <td>140.00</td>\n",
       "      <td>dosen</td>\n",
       "    </tr>\n",
       "    <tr>\n",
       "      <th>3</th>\n",
       "      <td>DOSEN A1 wireless Driving Recorder Front inter...</td>\n",
       "      <td>79.66</td>\n",
       "      <td>60</td>\n",
       "      <td>31000</td>\n",
       "      <td>199.15</td>\n",
       "      <td>dosen</td>\n",
       "    </tr>\n",
       "    <tr>\n",
       "      <th>4</th>\n",
       "      <td>DOSEN 24 Hours Record 1080P FHD Wifi 3 Camera ...</td>\n",
       "      <td>79.66</td>\n",
       "      <td>58</td>\n",
       "      <td>60000</td>\n",
       "      <td>189.67</td>\n",
       "      <td>dosen</td>\n",
       "    </tr>\n",
       "  </tbody>\n",
       "</table>\n",
       "</div>"
      ],
      "text/plain": [
       "                                        product_name  price_RM  \\\n",
       "0  DOSEN S50 Driving Recorder Front interior Rear...    135.80   \n",
       "1  DOSNE A1 Driving Recorder Front interior Rear ...     79.80   \n",
       "2  DOSNE Wifi 行车记录仪 24 Hours Record 1080P FHD wif...     79.80   \n",
       "3  DOSEN A1 wireless Driving Recorder Front inter...     79.66   \n",
       "4  DOSEN 24 Hours Record 1080P FHD Wifi 3 Camera ...     79.66   \n",
       "\n",
       "   discount_percent  quantity_sold  original_price_RM  brand  \n",
       "0                50            228             271.60  dosen  \n",
       "1                43            323             140.00  dosen  \n",
       "2                43            341             140.00  dosen  \n",
       "3                60          31000             199.15  dosen  \n",
       "4                58          60000             189.67  dosen  "
      ]
     },
     "execution_count": 64,
     "metadata": {},
     "output_type": "execute_result"
    }
   ],
   "source": [
    "# extracting brand name\n",
    "product_name_list = df_800['product_name'].astype(str).str.lower()\n",
    "brand_name_list = []\n",
    "for entry in product_name_list:\n",
    "    for brand_name in brand:\n",
    "        if entry.find(brand_name) != -1:\n",
    "            brand_name_list.append(brand_name)\n",
    "            break\n",
    "        elif (entry.find(brand_name) == -1) & (brand_name == 'southocean'): # special case for southocean (contain space between h and o)\n",
    "            if entry.find('south ocean') != -1:\n",
    "                brand_name_list.append(brand_name)\n",
    "                break\n",
    "        elif (entry.find(brand_name) == -1) & (brand_name == 'dosen'): # special case for dosen (type error as dosne)\n",
    "            if entry.find('dosne') != -1:\n",
    "                brand_name_list.append(brand_name)\n",
    "                break\n",
    "        elif (entry.find(brand_name) == -1) & (brand_name == 'kangzog'): # special case for kangzog (type error as kzngzog)\n",
    "            if entry.find('kzngzog') != -1:\n",
    "                brand_name_list.append(brand_name)\n",
    "                break\n",
    "        elif (entry.find(brand_name) == -1) & (brand_name == 'botslab'): # special case for botslab (type error as bostlab)\n",
    "            if entry.find('bostlab') != -1:\n",
    "                brand_name_list.append(brand_name)\n",
    "                break\n",
    "        elif (entry.find(brand_name) == -1) & (brand_name == 'homeking'): # not matching any -> other\n",
    "            brand_name_list.append('other/unstated')\n",
    "\n",
    "df_800['brand'] = pd.Series(brand_name_list)\n",
    "df_800.head()"
   ]
  },
  {
   "cell_type": "code",
   "execution_count": 65,
   "metadata": {},
   "outputs": [
    {
     "data": {
      "text/html": [
       "<div>\n",
       "<style scoped>\n",
       "    .dataframe tbody tr th:only-of-type {\n",
       "        vertical-align: middle;\n",
       "    }\n",
       "\n",
       "    .dataframe tbody tr th {\n",
       "        vertical-align: top;\n",
       "    }\n",
       "\n",
       "    .dataframe thead th {\n",
       "        text-align: right;\n",
       "    }\n",
       "</style>\n",
       "<table border=\"1\" class=\"dataframe\">\n",
       "  <thead>\n",
       "    <tr style=\"text-align: right;\">\n",
       "      <th></th>\n",
       "      <th>brand</th>\n",
       "      <th>count</th>\n",
       "    </tr>\n",
       "  </thead>\n",
       "  <tbody>\n",
       "    <tr>\n",
       "      <th>0</th>\n",
       "      <td>70mai</td>\n",
       "      <td>122</td>\n",
       "    </tr>\n",
       "    <tr>\n",
       "      <th>1</th>\n",
       "      <td>acceo</td>\n",
       "      <td>3</td>\n",
       "    </tr>\n",
       "    <tr>\n",
       "      <th>2</th>\n",
       "      <td>aitemay</td>\n",
       "      <td>4</td>\n",
       "    </tr>\n",
       "    <tr>\n",
       "      <th>3</th>\n",
       "      <td>akeeyo</td>\n",
       "      <td>1</td>\n",
       "    </tr>\n",
       "    <tr>\n",
       "      <th>4</th>\n",
       "      <td>asawin</td>\n",
       "      <td>18</td>\n",
       "    </tr>\n",
       "    <tr>\n",
       "      <th>5</th>\n",
       "      <td>azdome</td>\n",
       "      <td>13</td>\n",
       "    </tr>\n",
       "    <tr>\n",
       "      <th>6</th>\n",
       "      <td>blueskysea</td>\n",
       "      <td>1</td>\n",
       "    </tr>\n",
       "    <tr>\n",
       "      <th>7</th>\n",
       "      <td>botslab</td>\n",
       "      <td>5</td>\n",
       "    </tr>\n",
       "    <tr>\n",
       "      <th>8</th>\n",
       "      <td>buzztech</td>\n",
       "      <td>3</td>\n",
       "    </tr>\n",
       "    <tr>\n",
       "      <th>9</th>\n",
       "      <td>cooldin</td>\n",
       "      <td>2</td>\n",
       "    </tr>\n",
       "    <tr>\n",
       "      <th>10</th>\n",
       "      <td>dahua</td>\n",
       "      <td>2</td>\n",
       "    </tr>\n",
       "    <tr>\n",
       "      <th>11</th>\n",
       "      <td>ddpai</td>\n",
       "      <td>32</td>\n",
       "    </tr>\n",
       "    <tr>\n",
       "      <th>12</th>\n",
       "      <td>dosen</td>\n",
       "      <td>8</td>\n",
       "    </tr>\n",
       "    <tr>\n",
       "      <th>13</th>\n",
       "      <td>e-ace</td>\n",
       "      <td>7</td>\n",
       "    </tr>\n",
       "    <tr>\n",
       "      <th>14</th>\n",
       "      <td>ekleva</td>\n",
       "      <td>97</td>\n",
       "    </tr>\n",
       "    <tr>\n",
       "      <th>15</th>\n",
       "      <td>ettro</td>\n",
       "      <td>8</td>\n",
       "    </tr>\n",
       "    <tr>\n",
       "      <th>16</th>\n",
       "      <td>evean</td>\n",
       "      <td>2</td>\n",
       "    </tr>\n",
       "    <tr>\n",
       "      <th>17</th>\n",
       "      <td>ezonetronics</td>\n",
       "      <td>2</td>\n",
       "    </tr>\n",
       "    <tr>\n",
       "      <th>18</th>\n",
       "      <td>finevu</td>\n",
       "      <td>1</td>\n",
       "    </tr>\n",
       "    <tr>\n",
       "      <th>19</th>\n",
       "      <td>gnet</td>\n",
       "      <td>4</td>\n",
       "    </tr>\n",
       "    <tr>\n",
       "      <th>20</th>\n",
       "      <td>grandnavi</td>\n",
       "      <td>1</td>\n",
       "    </tr>\n",
       "    <tr>\n",
       "      <th>21</th>\n",
       "      <td>hikvision</td>\n",
       "      <td>2</td>\n",
       "    </tr>\n",
       "    <tr>\n",
       "      <th>22</th>\n",
       "      <td>homeking</td>\n",
       "      <td>1</td>\n",
       "    </tr>\n",
       "    <tr>\n",
       "      <th>23</th>\n",
       "      <td>janedream</td>\n",
       "      <td>1</td>\n",
       "    </tr>\n",
       "    <tr>\n",
       "      <th>24</th>\n",
       "      <td>kamatto</td>\n",
       "      <td>1</td>\n",
       "    </tr>\n",
       "    <tr>\n",
       "      <th>25</th>\n",
       "      <td>kangzog</td>\n",
       "      <td>2</td>\n",
       "    </tr>\n",
       "    <tr>\n",
       "      <th>26</th>\n",
       "      <td>kawa</td>\n",
       "      <td>5</td>\n",
       "    </tr>\n",
       "    <tr>\n",
       "      <th>27</th>\n",
       "      <td>mohawk</td>\n",
       "      <td>2</td>\n",
       "    </tr>\n",
       "    <tr>\n",
       "      <th>28</th>\n",
       "      <td>motorola</td>\n",
       "      <td>1</td>\n",
       "    </tr>\n",
       "    <tr>\n",
       "      <th>29</th>\n",
       "      <td>mr.ho</td>\n",
       "      <td>1</td>\n",
       "    </tr>\n",
       "    <tr>\n",
       "      <th>30</th>\n",
       "      <td>other/unstated</td>\n",
       "      <td>400</td>\n",
       "    </tr>\n",
       "    <tr>\n",
       "      <th>31</th>\n",
       "      <td>pioneer</td>\n",
       "      <td>5</td>\n",
       "    </tr>\n",
       "    <tr>\n",
       "      <th>32</th>\n",
       "      <td>podofo</td>\n",
       "      <td>2</td>\n",
       "    </tr>\n",
       "    <tr>\n",
       "      <th>33</th>\n",
       "      <td>pony</td>\n",
       "      <td>2</td>\n",
       "    </tr>\n",
       "    <tr>\n",
       "      <th>34</th>\n",
       "      <td>red horse</td>\n",
       "      <td>4</td>\n",
       "    </tr>\n",
       "    <tr>\n",
       "      <th>35</th>\n",
       "      <td>safecam</td>\n",
       "      <td>8</td>\n",
       "    </tr>\n",
       "    <tr>\n",
       "      <th>36</th>\n",
       "      <td>seicane</td>\n",
       "      <td>2</td>\n",
       "    </tr>\n",
       "    <tr>\n",
       "      <th>37</th>\n",
       "      <td>southocean</td>\n",
       "      <td>6</td>\n",
       "    </tr>\n",
       "    <tr>\n",
       "      <th>38</th>\n",
       "      <td>stapon</td>\n",
       "      <td>6</td>\n",
       "    </tr>\n",
       "    <tr>\n",
       "      <th>39</th>\n",
       "      <td>tiesfong</td>\n",
       "      <td>3</td>\n",
       "    </tr>\n",
       "    <tr>\n",
       "      <th>40</th>\n",
       "      <td>tyzong</td>\n",
       "      <td>1</td>\n",
       "    </tr>\n",
       "    <tr>\n",
       "      <th>41</th>\n",
       "      <td>viofo</td>\n",
       "      <td>1</td>\n",
       "    </tr>\n",
       "    <tr>\n",
       "      <th>42</th>\n",
       "      <td>vtopek</td>\n",
       "      <td>1</td>\n",
       "    </tr>\n",
       "    <tr>\n",
       "      <th>43</th>\n",
       "      <td>xiaomi</td>\n",
       "      <td>6</td>\n",
       "    </tr>\n",
       "    <tr>\n",
       "      <th>44</th>\n",
       "      <td>xushidz</td>\n",
       "      <td>1</td>\n",
       "    </tr>\n",
       "  </tbody>\n",
       "</table>\n",
       "</div>"
      ],
      "text/plain": [
       "             brand  count\n",
       "0            70mai    122\n",
       "1            acceo      3\n",
       "2          aitemay      4\n",
       "3           akeeyo      1\n",
       "4           asawin     18\n",
       "5           azdome     13\n",
       "6       blueskysea      1\n",
       "7          botslab      5\n",
       "8         buzztech      3\n",
       "9          cooldin      2\n",
       "10           dahua      2\n",
       "11           ddpai     32\n",
       "12           dosen      8\n",
       "13           e-ace      7\n",
       "14          ekleva     97\n",
       "15           ettro      8\n",
       "16           evean      2\n",
       "17    ezonetronics      2\n",
       "18          finevu      1\n",
       "19            gnet      4\n",
       "20       grandnavi      1\n",
       "21       hikvision      2\n",
       "22        homeking      1\n",
       "23       janedream      1\n",
       "24         kamatto      1\n",
       "25         kangzog      2\n",
       "26            kawa      5\n",
       "27          mohawk      2\n",
       "28        motorola      1\n",
       "29           mr.ho      1\n",
       "30  other/unstated    400\n",
       "31         pioneer      5\n",
       "32          podofo      2\n",
       "33            pony      2\n",
       "34       red horse      4\n",
       "35         safecam      8\n",
       "36         seicane      2\n",
       "37      southocean      6\n",
       "38          stapon      6\n",
       "39        tiesfong      3\n",
       "40          tyzong      1\n",
       "41           viofo      1\n",
       "42          vtopek      1\n",
       "43          xiaomi      6\n",
       "44         xushidz      1"
      ]
     },
     "execution_count": 65,
     "metadata": {},
     "output_type": "execute_result"
    }
   ],
   "source": [
    "df_800_brand_count = pd.DataFrame(df_800.groupby('brand')['product_name'].count().reset_index())\n",
    "df_800_brand_count.columns = 'brand', 'count'\n",
    "df_800_brand_count"
   ]
  },
  {
   "cell_type": "code",
   "execution_count": 66,
   "metadata": {},
   "outputs": [
    {
     "data": {
      "text/plain": [
       "['akeeyo',\n",
       " 'blueskysea',\n",
       " 'finevu',\n",
       " 'grandnavi',\n",
       " 'homeking',\n",
       " 'janedream',\n",
       " 'kamatto',\n",
       " 'motorola',\n",
       " 'mr.ho',\n",
       " 'tyzong',\n",
       " 'viofo',\n",
       " 'vtopek',\n",
       " 'xushidz']"
      ]
     },
     "execution_count": 66,
     "metadata": {},
     "output_type": "execute_result"
    }
   ],
   "source": [
    "# Get the list of brands with count = 1\n",
    "brand_less_count = list(df_800_brand_count['brand'][df_800_brand_count['count'] == 1])\n",
    "brand_less_count"
   ]
  },
  {
   "cell_type": "code",
   "execution_count": 67,
   "metadata": {},
   "outputs": [
    {
     "name": "stderr",
     "output_type": "stream",
     "text": [
      "C:\\Users\\1\\AppData\\Local\\Temp\\ipykernel_36180\\3087892703.py:3: FutureWarning:\n",
      "\n",
      "A value is trying to be set on a copy of a DataFrame or Series through chained assignment using an inplace method.\n",
      "The behavior will change in pandas 3.0. This inplace method will never work because the intermediate object on which we are setting values always behaves as a copy.\n",
      "\n",
      "For example, when doing 'df[col].method(value, inplace=True)', try using 'df.method({col: value}, inplace=True)' or df[col] = df[col].method(value) instead, to perform the operation inplace on the original object.\n",
      "\n",
      "\n",
      "\n"
     ]
    },
    {
     "data": {
      "text/html": [
       "<div>\n",
       "<style scoped>\n",
       "    .dataframe tbody tr th:only-of-type {\n",
       "        vertical-align: middle;\n",
       "    }\n",
       "\n",
       "    .dataframe tbody tr th {\n",
       "        vertical-align: top;\n",
       "    }\n",
       "\n",
       "    .dataframe thead th {\n",
       "        text-align: right;\n",
       "    }\n",
       "</style>\n",
       "<table border=\"1\" class=\"dataframe\">\n",
       "  <thead>\n",
       "    <tr style=\"text-align: right;\">\n",
       "      <th></th>\n",
       "      <th>product_name</th>\n",
       "      <th>price_RM</th>\n",
       "      <th>discount_percent</th>\n",
       "      <th>quantity_sold</th>\n",
       "      <th>original_price_RM</th>\n",
       "      <th>brand</th>\n",
       "    </tr>\n",
       "  </thead>\n",
       "  <tbody>\n",
       "    <tr>\n",
       "      <th>0</th>\n",
       "      <td>DOSEN S50 Driving Recorder Front interior Rear...</td>\n",
       "      <td>135.80</td>\n",
       "      <td>50</td>\n",
       "      <td>228</td>\n",
       "      <td>271.60</td>\n",
       "      <td>dosen</td>\n",
       "    </tr>\n",
       "    <tr>\n",
       "      <th>1</th>\n",
       "      <td>DOSNE A1 Driving Recorder Front interior Rear ...</td>\n",
       "      <td>79.80</td>\n",
       "      <td>43</td>\n",
       "      <td>323</td>\n",
       "      <td>140.00</td>\n",
       "      <td>dosen</td>\n",
       "    </tr>\n",
       "    <tr>\n",
       "      <th>2</th>\n",
       "      <td>DOSNE Wifi 行车记录仪 24 Hours Record 1080P FHD wif...</td>\n",
       "      <td>79.80</td>\n",
       "      <td>43</td>\n",
       "      <td>341</td>\n",
       "      <td>140.00</td>\n",
       "      <td>dosen</td>\n",
       "    </tr>\n",
       "    <tr>\n",
       "      <th>3</th>\n",
       "      <td>DOSEN A1 wireless Driving Recorder Front inter...</td>\n",
       "      <td>79.66</td>\n",
       "      <td>60</td>\n",
       "      <td>31000</td>\n",
       "      <td>199.15</td>\n",
       "      <td>dosen</td>\n",
       "    </tr>\n",
       "    <tr>\n",
       "      <th>4</th>\n",
       "      <td>DOSEN 24 Hours Record 1080P FHD Wifi 3 Camera ...</td>\n",
       "      <td>79.66</td>\n",
       "      <td>58</td>\n",
       "      <td>60000</td>\n",
       "      <td>189.67</td>\n",
       "      <td>dosen</td>\n",
       "    </tr>\n",
       "  </tbody>\n",
       "</table>\n",
       "</div>"
      ],
      "text/plain": [
       "                                        product_name  price_RM  \\\n",
       "0  DOSEN S50 Driving Recorder Front interior Rear...    135.80   \n",
       "1  DOSNE A1 Driving Recorder Front interior Rear ...     79.80   \n",
       "2  DOSNE Wifi 行车记录仪 24 Hours Record 1080P FHD wif...     79.80   \n",
       "3  DOSEN A1 wireless Driving Recorder Front inter...     79.66   \n",
       "4  DOSEN 24 Hours Record 1080P FHD Wifi 3 Camera ...     79.66   \n",
       "\n",
       "   discount_percent  quantity_sold  original_price_RM  brand  \n",
       "0                50            228             271.60  dosen  \n",
       "1                43            323             140.00  dosen  \n",
       "2                43            341             140.00  dosen  \n",
       "3                60          31000             199.15  dosen  \n",
       "4                58          60000             189.67  dosen  "
      ]
     },
     "execution_count": 67,
     "metadata": {},
     "output_type": "execute_result"
    }
   ],
   "source": [
    "# update in dataframe by Categorize brand with only 1 count to other\n",
    "for brand_name in brand_less_count:\n",
    "    df_800['brand'].replace(brand_name, 'other/unstated', inplace=True)\n",
    "\n",
    "df_800.head()"
   ]
  },
  {
   "cell_type": "code",
   "execution_count": 68,
   "metadata": {},
   "outputs": [],
   "source": [
    "# export to csv\n",
    "df_800.to_csv(newFilePath2)"
   ]
  },
  {
   "cell_type": "code",
   "execution_count": 69,
   "metadata": {},
   "outputs": [
    {
     "data": {
      "text/html": [
       "<div>\n",
       "<style scoped>\n",
       "    .dataframe tbody tr th:only-of-type {\n",
       "        vertical-align: middle;\n",
       "    }\n",
       "\n",
       "    .dataframe tbody tr th {\n",
       "        vertical-align: top;\n",
       "    }\n",
       "\n",
       "    .dataframe thead th {\n",
       "        text-align: right;\n",
       "    }\n",
       "</style>\n",
       "<table border=\"1\" class=\"dataframe\">\n",
       "  <thead>\n",
       "    <tr style=\"text-align: right;\">\n",
       "      <th></th>\n",
       "      <th>brand</th>\n",
       "      <th>count</th>\n",
       "    </tr>\n",
       "  </thead>\n",
       "  <tbody>\n",
       "    <tr>\n",
       "      <th>0</th>\n",
       "      <td>70mai</td>\n",
       "      <td>122</td>\n",
       "    </tr>\n",
       "    <tr>\n",
       "      <th>1</th>\n",
       "      <td>acceo</td>\n",
       "      <td>3</td>\n",
       "    </tr>\n",
       "    <tr>\n",
       "      <th>2</th>\n",
       "      <td>aitemay</td>\n",
       "      <td>4</td>\n",
       "    </tr>\n",
       "    <tr>\n",
       "      <th>3</th>\n",
       "      <td>asawin</td>\n",
       "      <td>18</td>\n",
       "    </tr>\n",
       "    <tr>\n",
       "      <th>4</th>\n",
       "      <td>azdome</td>\n",
       "      <td>13</td>\n",
       "    </tr>\n",
       "    <tr>\n",
       "      <th>5</th>\n",
       "      <td>botslab</td>\n",
       "      <td>5</td>\n",
       "    </tr>\n",
       "    <tr>\n",
       "      <th>6</th>\n",
       "      <td>buzztech</td>\n",
       "      <td>3</td>\n",
       "    </tr>\n",
       "    <tr>\n",
       "      <th>7</th>\n",
       "      <td>cooldin</td>\n",
       "      <td>2</td>\n",
       "    </tr>\n",
       "    <tr>\n",
       "      <th>8</th>\n",
       "      <td>dahua</td>\n",
       "      <td>2</td>\n",
       "    </tr>\n",
       "    <tr>\n",
       "      <th>9</th>\n",
       "      <td>ddpai</td>\n",
       "      <td>32</td>\n",
       "    </tr>\n",
       "    <tr>\n",
       "      <th>10</th>\n",
       "      <td>dosen</td>\n",
       "      <td>8</td>\n",
       "    </tr>\n",
       "    <tr>\n",
       "      <th>11</th>\n",
       "      <td>e-ace</td>\n",
       "      <td>7</td>\n",
       "    </tr>\n",
       "    <tr>\n",
       "      <th>12</th>\n",
       "      <td>ekleva</td>\n",
       "      <td>97</td>\n",
       "    </tr>\n",
       "    <tr>\n",
       "      <th>13</th>\n",
       "      <td>ettro</td>\n",
       "      <td>8</td>\n",
       "    </tr>\n",
       "    <tr>\n",
       "      <th>14</th>\n",
       "      <td>evean</td>\n",
       "      <td>2</td>\n",
       "    </tr>\n",
       "    <tr>\n",
       "      <th>15</th>\n",
       "      <td>ezonetronics</td>\n",
       "      <td>2</td>\n",
       "    </tr>\n",
       "    <tr>\n",
       "      <th>16</th>\n",
       "      <td>gnet</td>\n",
       "      <td>4</td>\n",
       "    </tr>\n",
       "    <tr>\n",
       "      <th>17</th>\n",
       "      <td>hikvision</td>\n",
       "      <td>2</td>\n",
       "    </tr>\n",
       "    <tr>\n",
       "      <th>18</th>\n",
       "      <td>kangzog</td>\n",
       "      <td>2</td>\n",
       "    </tr>\n",
       "    <tr>\n",
       "      <th>19</th>\n",
       "      <td>kawa</td>\n",
       "      <td>5</td>\n",
       "    </tr>\n",
       "    <tr>\n",
       "      <th>20</th>\n",
       "      <td>mohawk</td>\n",
       "      <td>2</td>\n",
       "    </tr>\n",
       "    <tr>\n",
       "      <th>21</th>\n",
       "      <td>other/unstated</td>\n",
       "      <td>413</td>\n",
       "    </tr>\n",
       "    <tr>\n",
       "      <th>22</th>\n",
       "      <td>pioneer</td>\n",
       "      <td>5</td>\n",
       "    </tr>\n",
       "    <tr>\n",
       "      <th>23</th>\n",
       "      <td>podofo</td>\n",
       "      <td>2</td>\n",
       "    </tr>\n",
       "    <tr>\n",
       "      <th>24</th>\n",
       "      <td>pony</td>\n",
       "      <td>2</td>\n",
       "    </tr>\n",
       "    <tr>\n",
       "      <th>25</th>\n",
       "      <td>red horse</td>\n",
       "      <td>4</td>\n",
       "    </tr>\n",
       "    <tr>\n",
       "      <th>26</th>\n",
       "      <td>safecam</td>\n",
       "      <td>8</td>\n",
       "    </tr>\n",
       "    <tr>\n",
       "      <th>27</th>\n",
       "      <td>seicane</td>\n",
       "      <td>2</td>\n",
       "    </tr>\n",
       "    <tr>\n",
       "      <th>28</th>\n",
       "      <td>southocean</td>\n",
       "      <td>6</td>\n",
       "    </tr>\n",
       "    <tr>\n",
       "      <th>29</th>\n",
       "      <td>stapon</td>\n",
       "      <td>6</td>\n",
       "    </tr>\n",
       "    <tr>\n",
       "      <th>30</th>\n",
       "      <td>tiesfong</td>\n",
       "      <td>3</td>\n",
       "    </tr>\n",
       "    <tr>\n",
       "      <th>31</th>\n",
       "      <td>xiaomi</td>\n",
       "      <td>6</td>\n",
       "    </tr>\n",
       "  </tbody>\n",
       "</table>\n",
       "</div>"
      ],
      "text/plain": [
       "             brand  count\n",
       "0            70mai    122\n",
       "1            acceo      3\n",
       "2          aitemay      4\n",
       "3           asawin     18\n",
       "4           azdome     13\n",
       "5          botslab      5\n",
       "6         buzztech      3\n",
       "7          cooldin      2\n",
       "8            dahua      2\n",
       "9            ddpai     32\n",
       "10           dosen      8\n",
       "11           e-ace      7\n",
       "12          ekleva     97\n",
       "13           ettro      8\n",
       "14           evean      2\n",
       "15    ezonetronics      2\n",
       "16            gnet      4\n",
       "17       hikvision      2\n",
       "18         kangzog      2\n",
       "19            kawa      5\n",
       "20          mohawk      2\n",
       "21  other/unstated    413\n",
       "22         pioneer      5\n",
       "23          podofo      2\n",
       "24            pony      2\n",
       "25       red horse      4\n",
       "26         safecam      8\n",
       "27         seicane      2\n",
       "28      southocean      6\n",
       "29          stapon      6\n",
       "30        tiesfong      3\n",
       "31          xiaomi      6"
      ]
     },
     "execution_count": 69,
     "metadata": {},
     "output_type": "execute_result"
    }
   ],
   "source": [
    "# Refresh the dataframe that excludes brand_less_count for later dataframes merging\n",
    "df_800_brand_count = pd.DataFrame(df_800.groupby('brand')['product_name'].count().reset_index())\n",
    "df_800_brand_count.columns = 'brand', 'count'\n",
    "df_800_brand_count"
   ]
  },
  {
   "cell_type": "code",
   "execution_count": 70,
   "metadata": {},
   "outputs": [
    {
     "data": {
      "text/html": [
       "<div>\n",
       "<style scoped>\n",
       "    .dataframe tbody tr th:only-of-type {\n",
       "        vertical-align: middle;\n",
       "    }\n",
       "\n",
       "    .dataframe tbody tr th {\n",
       "        vertical-align: top;\n",
       "    }\n",
       "\n",
       "    .dataframe thead th {\n",
       "        text-align: right;\n",
       "    }\n",
       "</style>\n",
       "<table border=\"1\" class=\"dataframe\">\n",
       "  <thead>\n",
       "    <tr style=\"text-align: right;\">\n",
       "      <th></th>\n",
       "      <th>brand</th>\n",
       "      <th>average_price_RM</th>\n",
       "      <th>average_discount_%</th>\n",
       "      <th>average_quantity_sold</th>\n",
       "      <th>total_quantity_sold</th>\n",
       "      <th>count</th>\n",
       "    </tr>\n",
       "  </thead>\n",
       "  <tbody>\n",
       "    <tr>\n",
       "      <th>0</th>\n",
       "      <td>70mai</td>\n",
       "      <td>587.478361</td>\n",
       "      <td>42.590164</td>\n",
       "      <td>8041.721311</td>\n",
       "      <td>981090</td>\n",
       "      <td>122</td>\n",
       "    </tr>\n",
       "    <tr>\n",
       "      <th>1</th>\n",
       "      <td>acceo</td>\n",
       "      <td>372.020000</td>\n",
       "      <td>31.666667</td>\n",
       "      <td>49.333333</td>\n",
       "      <td>148</td>\n",
       "      <td>3</td>\n",
       "    </tr>\n",
       "    <tr>\n",
       "      <th>2</th>\n",
       "      <td>aitemay</td>\n",
       "      <td>162.387500</td>\n",
       "      <td>66.750000</td>\n",
       "      <td>26.500000</td>\n",
       "      <td>106</td>\n",
       "      <td>4</td>\n",
       "    </tr>\n",
       "    <tr>\n",
       "      <th>3</th>\n",
       "      <td>asawin</td>\n",
       "      <td>285.299444</td>\n",
       "      <td>36.666667</td>\n",
       "      <td>2633.722222</td>\n",
       "      <td>47407</td>\n",
       "      <td>18</td>\n",
       "    </tr>\n",
       "    <tr>\n",
       "      <th>4</th>\n",
       "      <td>azdome</td>\n",
       "      <td>482.328462</td>\n",
       "      <td>37.923077</td>\n",
       "      <td>175.384615</td>\n",
       "      <td>2280</td>\n",
       "      <td>13</td>\n",
       "    </tr>\n",
       "  </tbody>\n",
       "</table>\n",
       "</div>"
      ],
      "text/plain": [
       "     brand  average_price_RM  average_discount_%  average_quantity_sold  \\\n",
       "0    70mai        587.478361           42.590164            8041.721311   \n",
       "1    acceo        372.020000           31.666667              49.333333   \n",
       "2  aitemay        162.387500           66.750000              26.500000   \n",
       "3   asawin        285.299444           36.666667            2633.722222   \n",
       "4   azdome        482.328462           37.923077             175.384615   \n",
       "\n",
       "   total_quantity_sold  count  \n",
       "0               981090    122  \n",
       "1                  148      3  \n",
       "2                  106      4  \n",
       "3                47407     18  \n",
       "4                 2280     13  "
      ]
     },
     "execution_count": 70,
     "metadata": {},
     "output_type": "execute_result"
    }
   ],
   "source": [
    "df_800_group_by_brand = pd.DataFrame(df_800.groupby('brand')[['original_price_RM', 'discount_percent', 'quantity_sold']].mean().reset_index())\n",
    "df_800_group_by_brand.rename(columns={'original_price_RM': 'average_price_RM',\n",
    "                                      'discount_percent': 'average_discount_%',\n",
    "                                      'quantity_sold': 'average_quantity_sold'}, inplace=True)\n",
    "\n",
    "df_800_tqs_group_by_brand = pd.DataFrame(df_800.groupby('brand')['quantity_sold'].sum().reset_index())\n",
    "df_800_tqs_group_by_brand.rename(columns={'quantity_sold': 'total_quantity_sold'}, inplace=True)\n",
    "\n",
    "df_800_group_by_brand = pd.merge(df_800_group_by_brand, df_800_tqs_group_by_brand)\n",
    "df_800_group_by_brand = pd.merge(df_800_group_by_brand, df_800_brand_count)\n",
    "\n",
    "df_800_group_by_brand.head()"
   ]
  },
  {
   "cell_type": "code",
   "execution_count": 71,
   "metadata": {},
   "outputs": [
    {
     "data": {
      "text/plain": [
       "(413, 6)"
      ]
     },
     "execution_count": 71,
     "metadata": {},
     "output_type": "execute_result"
    }
   ],
   "source": [
    "df_800_other = df_800[df_800['brand'] == 'other/unstated']\n",
    "df_800_other.shape"
   ]
  },
  {
   "cell_type": "code",
   "execution_count": 29,
   "metadata": {},
   "outputs": [],
   "source": [
    "import matplotlib.pyplot as plt\n",
    "import plotly.express as px\n",
    "import plotly.graph_objects as go\n",
    "%matplotlib inline"
   ]
  },
  {
   "cell_type": "code",
   "execution_count": 24,
   "metadata": {},
   "outputs": [
    {
     "data": {
      "application/vnd.plotly.v1+json": {
       "config": {
        "plotlyServerURL": "https://plot.ly"
       },
       "data": [
        {
         "type": "box",
         "y": [
          271.6,
          140,
          140,
          199.15,
          189.67,
          167.02,
          307.41,
          268.72,
          298.33,
          313.33,
          425.26,
          156.25,
          612.28,
          122.92,
          37.97,
          32.53,
          864.44,
          272.5,
          178.2,
          137.76,
          194.57,
          118.52,
          1966.67,
          73.95,
          177.08,
          893.75,
          225.41,
          360.61,
          109.88,
          146.28,
          275.53,
          446.94,
          164.13,
          37.74,
          41.21,
          4825,
          162.82,
          995.65,
          23.75,
          567.37,
          8.02,
          1375.44,
          91.02,
          80.34,
          42.38,
          65.09,
          194.52,
          115.48,
          15.13,
          113.71,
          498.72,
          324.42,
          225.49,
          72.3,
          130.86,
          220,
          149.77,
          578.48,
          664.44,
          65.82,
          742.3,
          234.38,
          219.27,
          1343.48,
          45.08,
          338.22,
          106.96,
          149.7,
          180.39,
          479.65,
          62.59,
          191.28,
          112.74,
          83.43,
          182.63,
          548,
          228.85,
          181.36,
          78.33,
          709.62,
          88.67,
          215.22,
          94.84,
          145.11,
          117.27,
          221.43,
          31.94,
          144.56,
          96.36,
          139.8,
          775.56,
          124.32,
          37.9,
          255.56,
          37.12,
          39.89,
          250.1,
          99.85,
          179.55,
          155.95,
          146.72,
          98.39,
          137.5,
          572.5,
          116.16,
          516.6,
          1098,
          72.47,
          47.21,
          25.97,
          179.6,
          71.03,
          243.33,
          166.46,
          250,
          645.1,
          197.2,
          115.72,
          636.96,
          58.84,
          241.82,
          160.56,
          79.62,
          719.44,
          148.76,
          86.93,
          923.88,
          1036.67,
          323.91,
          138,
          177.56,
          67.06,
          70.56,
          185.43,
          353.33,
          58.62,
          44.27,
          695.24,
          845,
          246.4,
          123.39,
          607.25,
          3.61,
          269.7,
          7.58,
          262.08,
          155.45,
          99.24,
          900.78,
          43.99,
          20.44,
          118.62,
          530.23,
          763.83,
          153.12,
          87.2,
          109.09,
          213.26,
          80.82,
          65.34,
          420,
          42.75,
          30.26,
          50.09,
          840.91,
          236,
          355.56,
          110.1,
          114.81,
          168.09,
          247.73,
          73.53,
          573.7,
          62.73,
          143.37,
          143.23,
          1164.67,
          167.99,
          683.56,
          227.88,
          359.1,
          189.32,
          479.4,
          172.5,
          149.81,
          998.15,
          72.94,
          178,
          200.98,
          473.98,
          242,
          247.86,
          463.38,
          42.25,
          156.42,
          738.89,
          273.88,
          207.36,
          107.66,
          79.69,
          323.64,
          171.32,
          197.5,
          117,
          187.54,
          1173.48,
          81.65,
          265.33,
          71.08,
          406.12,
          1100,
          153.41,
          116.41,
          1194.53,
          76.3,
          333.87,
          477.27,
          1030.65,
          152.59,
          258.83,
          138,
          164.63,
          616.36,
          432.56,
          107.54,
          110.84,
          85.42,
          279.24,
          232.81,
          219.38,
          221.72,
          37.38,
          1045.24,
          40.13,
          895.92,
          497,
          149.12,
          181.37,
          68.74,
          386.36,
          110,
          69.09,
          90.4,
          185,
          168.42,
          65.06,
          280.8,
          331.67,
          172.73,
          336.84,
          74.1,
          651.57,
          164.59,
          81.95,
          160.23,
          597.07,
          179.49,
          136.31,
          297.73,
          176.79,
          222.22,
          139.84,
          236.96,
          346.51,
          36.27,
          831.94,
          199.32,
          215.21,
          620.27,
          148.95,
          551.85,
          2911.76,
          122.24,
          219.6,
          1068.75,
          59.58,
          791,
          145.27,
          236.08,
          30.12,
          405.81,
          121.85,
          73.97,
          215,
          130.36,
          497.92,
          184.81,
          993.33,
          130.22,
          127.45,
          106.02,
          151.16,
          139.81,
          480.83,
          1249.25,
          174.14,
          286.67,
          58.31,
          1408.16,
          235.59,
          855.11,
          119.28,
          157,
          368.52,
          791.67,
          1108,
          1210.64,
          252.5,
          140.82,
          545.8,
          315.36,
          486.9,
          269.84,
          153.77,
          1358.33,
          86.89,
          21.91,
          18.64,
          215.28,
          168.38,
          356.59,
          89.29,
          830.56,
          172.31,
          185.49,
          134.02,
          625.25,
          297.01,
          798.67,
          191.67,
          213.35,
          491.47,
          542.42,
          36.33,
          149.02,
          171.66,
          40.63,
          231.67,
          2087.34,
          242.14,
          167.92,
          167.55,
          461.36,
          86.76,
          230.41,
          207.07,
          174.42,
          539.08,
          85.58,
          336.51,
          955.67,
          193.02,
          429.04,
          938.26,
          204.27,
          354.36,
          1157.95,
          617.97,
          170.1,
          500,
          909.06,
          371.64,
          89,
          167.62,
          187.25,
          195.1,
          356.23,
          662.22,
          354.52,
          659.15,
          618,
          57.2,
          287.91,
          979.98,
          128.79,
          107.95,
          167.86,
          487.76,
          1222.22,
          142,
          196.88,
          742.42,
          1324.63,
          37.54,
          71.51,
          90.14,
          1014.75,
          235.48,
          1127.78,
          40.7,
          75.3,
          86.88,
          372.73,
          626.92,
          313.7,
          84.48,
          166.93,
          107.18,
          1178,
          444.83,
          170.11,
          49.87,
          86.77,
          258.62,
          2025,
          686.67,
          872.5,
          274.12,
          305.97,
          452.73,
          282.95,
          106.43,
          196.53,
          84.94,
          293.62,
          252.54,
          702.66,
          444.58,
          43.58,
          162.48,
          153.45,
          59.46,
          400,
          235.71,
          224.49,
          513.64,
          154.55,
          1788.16,
          163.79,
          115.35,
          289.53,
          210.59,
          488.24,
          276.01,
          363.37,
          130.29,
          496.15,
          237.62,
          304.23,
          93.89,
          8.67,
          43.73,
          22.84,
          60.24,
          239.62,
          1458,
          507.02,
          226.67,
          1057.58,
          94.52,
          257.58,
          85.89,
          90.62,
          323.75,
          81.79,
          117.84,
          130.61,
          120.27,
          269.49,
          115.58,
          53.38,
          44.59,
          200.59,
          81.32,
          940.38,
          4663.89,
          373.15,
          580.03,
          185.14,
          298.57,
          680.61,
          105.37,
          76.77,
          278.49,
          102.99,
          195.63,
          1121.88,
          591.84,
          568.35,
          601.47,
          91.87,
          70.25,
          47.51,
          161.22,
          1518.75,
          840.18,
          941.82,
          282.3,
          70.51,
          133.32,
          216.88,
          673.02,
          101.61,
          684.77,
          485.09,
          248.95,
          186.38,
          185.9,
          389.86,
          635.29,
          368.31,
          195.93,
          357.73,
          404.94,
          490.94,
          130.88,
          1087.97,
          625.34,
          294.87,
          867.5,
          2697.78,
          953.93,
          105.08,
          429.9,
          948.78,
          397.78,
          88.39,
          253.37,
          159.57,
          647.84,
          39.8,
          61.68,
          145.59,
          52.34,
          287.5,
          230.16,
          56.82,
          91.13,
          109.32,
          459.62,
          209.61,
          284.48,
          147.46,
          353.62,
          710.05,
          118.07,
          252.72,
          580.36,
          117.8,
          704.56,
          905.61,
          239.38,
          415,
          375.55,
          150.62,
          706.47,
          187.67,
          356.87,
          341.1,
          226.13,
          117.7,
          570.13,
          286.53,
          172.6,
          1108.38,
          347.95,
          252.08,
          325.83,
          470.96,
          255.94,
          66.47,
          119.86,
          98.05,
          125,
          568.64,
          225.59,
          142,
          22.69,
          153.61,
          225,
          203.72,
          292.55,
          121.93,
          503.74,
          137.37,
          472.3,
          380.16,
          678.34,
          1125.79,
          116.06,
          1030,
          387.19,
          624,
          78.57,
          358.46,
          475.23,
          552.04,
          524,
          331.04,
          266.45,
          274.49,
          618.99,
          282.61,
          383.58,
          324.75,
          184.5,
          108.89,
          513.16,
          364,
          506.04,
          320.34,
          121.11,
          330.43,
          398,
          151.11,
          89.86,
          997.47,
          243.67,
          160.54,
          315.45,
          347.46,
          180.56,
          322.21,
          163.78,
          104.78,
          510.64,
          535.82,
          72.64,
          98.26,
          300.91,
          321.64,
          288.91,
          496.25,
          180.32,
          63.11,
          246.58,
          810.1,
          670.31,
          259.67,
          1433.79,
          296,
          323.27,
          262.37,
          309.21,
          238.26,
          455.89,
          239.41,
          375.38,
          358.5,
          696,
          382.5,
          58.4,
          111.56,
          90.95,
          375,
          200,
          581.69,
          76.7,
          775.29,
          337.5,
          246,
          129.96,
          411.97,
          32.75,
          199.87,
          88.75,
          237.18,
          529.48,
          176.93,
          655.1,
          183.86,
          300.74,
          278.83,
          221.79,
          162.98,
          392.09,
          238.35,
          109.06,
          196.44,
          602.83,
          489.47,
          362.39,
          94.15,
          213.45,
          180.86,
          153.33,
          349.26,
          186.35,
          399.78,
          116.57,
          314.55,
          81.02,
          165.22,
          85.07,
          131.78,
          800,
          233.83,
          282.93,
          262.82,
          905.41,
          287.38,
          191.4,
          237.87,
          672.28,
          461.68,
          86.79,
          166,
          73.48,
          484.85,
          166.56,
          842.43,
          74.81,
          786.49,
          173.28,
          195.65,
          69.28,
          396.92,
          73.81,
          431.02,
          38.43,
          1056.84,
          628.95,
          170.16,
          854.67,
          229.42,
          211,
          193.41,
          79.16,
          210,
          192,
          23.87,
          52.64,
          55.93,
          100.37,
          107,
          103.51,
          195.65,
          69.14,
          230.92,
          145.18,
          51.96,
          248.65,
          128.87,
          724.6,
          112.09,
          130.4,
          646.18,
          173.01,
          122.47,
          249.8,
          174.23,
          226.83,
          510.77,
          62.05,
          67.28,
          304.75,
          58.33,
          118.29,
          173.27,
          484.63,
          350.23,
          515.31,
          142.1,
          458,
          602.14,
          41.66,
          257.23,
          87.65,
          425.51,
          155.83,
          204.26,
          63.16,
          44.36,
          485,
          30.53,
          278.79,
          394.19,
          139.13,
          161.36,
          75.68,
          692.05,
          181.23,
          282.8,
          75.15,
          296,
          161.8,
          439.27,
          247.5,
          433.42,
          234.3,
          602.19,
          41.29,
          120.92,
          58.81,
          203.23,
          195,
          317.49,
          86.74,
          330.23,
          405.48,
          616.49,
          913.79,
          375.91,
          196.12,
          151.62,
          183.5,
          286.37,
          84.08,
          80.07,
          422.03
         ]
        }
       ],
       "layout": {
        "template": {
         "data": {
          "bar": [
           {
            "error_x": {
             "color": "#2a3f5f"
            },
            "error_y": {
             "color": "#2a3f5f"
            },
            "marker": {
             "line": {
              "color": "#E5ECF6",
              "width": 0.5
             },
             "pattern": {
              "fillmode": "overlay",
              "size": 10,
              "solidity": 0.2
             }
            },
            "type": "bar"
           }
          ],
          "barpolar": [
           {
            "marker": {
             "line": {
              "color": "#E5ECF6",
              "width": 0.5
             },
             "pattern": {
              "fillmode": "overlay",
              "size": 10,
              "solidity": 0.2
             }
            },
            "type": "barpolar"
           }
          ],
          "carpet": [
           {
            "aaxis": {
             "endlinecolor": "#2a3f5f",
             "gridcolor": "white",
             "linecolor": "white",
             "minorgridcolor": "white",
             "startlinecolor": "#2a3f5f"
            },
            "baxis": {
             "endlinecolor": "#2a3f5f",
             "gridcolor": "white",
             "linecolor": "white",
             "minorgridcolor": "white",
             "startlinecolor": "#2a3f5f"
            },
            "type": "carpet"
           }
          ],
          "choropleth": [
           {
            "colorbar": {
             "outlinewidth": 0,
             "ticks": ""
            },
            "type": "choropleth"
           }
          ],
          "contour": [
           {
            "colorbar": {
             "outlinewidth": 0,
             "ticks": ""
            },
            "colorscale": [
             [
              0,
              "#0d0887"
             ],
             [
              0.1111111111111111,
              "#46039f"
             ],
             [
              0.2222222222222222,
              "#7201a8"
             ],
             [
              0.3333333333333333,
              "#9c179e"
             ],
             [
              0.4444444444444444,
              "#bd3786"
             ],
             [
              0.5555555555555556,
              "#d8576b"
             ],
             [
              0.6666666666666666,
              "#ed7953"
             ],
             [
              0.7777777777777778,
              "#fb9f3a"
             ],
             [
              0.8888888888888888,
              "#fdca26"
             ],
             [
              1,
              "#f0f921"
             ]
            ],
            "type": "contour"
           }
          ],
          "contourcarpet": [
           {
            "colorbar": {
             "outlinewidth": 0,
             "ticks": ""
            },
            "type": "contourcarpet"
           }
          ],
          "heatmap": [
           {
            "colorbar": {
             "outlinewidth": 0,
             "ticks": ""
            },
            "colorscale": [
             [
              0,
              "#0d0887"
             ],
             [
              0.1111111111111111,
              "#46039f"
             ],
             [
              0.2222222222222222,
              "#7201a8"
             ],
             [
              0.3333333333333333,
              "#9c179e"
             ],
             [
              0.4444444444444444,
              "#bd3786"
             ],
             [
              0.5555555555555556,
              "#d8576b"
             ],
             [
              0.6666666666666666,
              "#ed7953"
             ],
             [
              0.7777777777777778,
              "#fb9f3a"
             ],
             [
              0.8888888888888888,
              "#fdca26"
             ],
             [
              1,
              "#f0f921"
             ]
            ],
            "type": "heatmap"
           }
          ],
          "heatmapgl": [
           {
            "colorbar": {
             "outlinewidth": 0,
             "ticks": ""
            },
            "colorscale": [
             [
              0,
              "#0d0887"
             ],
             [
              0.1111111111111111,
              "#46039f"
             ],
             [
              0.2222222222222222,
              "#7201a8"
             ],
             [
              0.3333333333333333,
              "#9c179e"
             ],
             [
              0.4444444444444444,
              "#bd3786"
             ],
             [
              0.5555555555555556,
              "#d8576b"
             ],
             [
              0.6666666666666666,
              "#ed7953"
             ],
             [
              0.7777777777777778,
              "#fb9f3a"
             ],
             [
              0.8888888888888888,
              "#fdca26"
             ],
             [
              1,
              "#f0f921"
             ]
            ],
            "type": "heatmapgl"
           }
          ],
          "histogram": [
           {
            "marker": {
             "pattern": {
              "fillmode": "overlay",
              "size": 10,
              "solidity": 0.2
             }
            },
            "type": "histogram"
           }
          ],
          "histogram2d": [
           {
            "colorbar": {
             "outlinewidth": 0,
             "ticks": ""
            },
            "colorscale": [
             [
              0,
              "#0d0887"
             ],
             [
              0.1111111111111111,
              "#46039f"
             ],
             [
              0.2222222222222222,
              "#7201a8"
             ],
             [
              0.3333333333333333,
              "#9c179e"
             ],
             [
              0.4444444444444444,
              "#bd3786"
             ],
             [
              0.5555555555555556,
              "#d8576b"
             ],
             [
              0.6666666666666666,
              "#ed7953"
             ],
             [
              0.7777777777777778,
              "#fb9f3a"
             ],
             [
              0.8888888888888888,
              "#fdca26"
             ],
             [
              1,
              "#f0f921"
             ]
            ],
            "type": "histogram2d"
           }
          ],
          "histogram2dcontour": [
           {
            "colorbar": {
             "outlinewidth": 0,
             "ticks": ""
            },
            "colorscale": [
             [
              0,
              "#0d0887"
             ],
             [
              0.1111111111111111,
              "#46039f"
             ],
             [
              0.2222222222222222,
              "#7201a8"
             ],
             [
              0.3333333333333333,
              "#9c179e"
             ],
             [
              0.4444444444444444,
              "#bd3786"
             ],
             [
              0.5555555555555556,
              "#d8576b"
             ],
             [
              0.6666666666666666,
              "#ed7953"
             ],
             [
              0.7777777777777778,
              "#fb9f3a"
             ],
             [
              0.8888888888888888,
              "#fdca26"
             ],
             [
              1,
              "#f0f921"
             ]
            ],
            "type": "histogram2dcontour"
           }
          ],
          "mesh3d": [
           {
            "colorbar": {
             "outlinewidth": 0,
             "ticks": ""
            },
            "type": "mesh3d"
           }
          ],
          "parcoords": [
           {
            "line": {
             "colorbar": {
              "outlinewidth": 0,
              "ticks": ""
             }
            },
            "type": "parcoords"
           }
          ],
          "pie": [
           {
            "automargin": true,
            "type": "pie"
           }
          ],
          "scatter": [
           {
            "fillpattern": {
             "fillmode": "overlay",
             "size": 10,
             "solidity": 0.2
            },
            "type": "scatter"
           }
          ],
          "scatter3d": [
           {
            "line": {
             "colorbar": {
              "outlinewidth": 0,
              "ticks": ""
             }
            },
            "marker": {
             "colorbar": {
              "outlinewidth": 0,
              "ticks": ""
             }
            },
            "type": "scatter3d"
           }
          ],
          "scattercarpet": [
           {
            "marker": {
             "colorbar": {
              "outlinewidth": 0,
              "ticks": ""
             }
            },
            "type": "scattercarpet"
           }
          ],
          "scattergeo": [
           {
            "marker": {
             "colorbar": {
              "outlinewidth": 0,
              "ticks": ""
             }
            },
            "type": "scattergeo"
           }
          ],
          "scattergl": [
           {
            "marker": {
             "colorbar": {
              "outlinewidth": 0,
              "ticks": ""
             }
            },
            "type": "scattergl"
           }
          ],
          "scattermapbox": [
           {
            "marker": {
             "colorbar": {
              "outlinewidth": 0,
              "ticks": ""
             }
            },
            "type": "scattermapbox"
           }
          ],
          "scatterpolar": [
           {
            "marker": {
             "colorbar": {
              "outlinewidth": 0,
              "ticks": ""
             }
            },
            "type": "scatterpolar"
           }
          ],
          "scatterpolargl": [
           {
            "marker": {
             "colorbar": {
              "outlinewidth": 0,
              "ticks": ""
             }
            },
            "type": "scatterpolargl"
           }
          ],
          "scatterternary": [
           {
            "marker": {
             "colorbar": {
              "outlinewidth": 0,
              "ticks": ""
             }
            },
            "type": "scatterternary"
           }
          ],
          "surface": [
           {
            "colorbar": {
             "outlinewidth": 0,
             "ticks": ""
            },
            "colorscale": [
             [
              0,
              "#0d0887"
             ],
             [
              0.1111111111111111,
              "#46039f"
             ],
             [
              0.2222222222222222,
              "#7201a8"
             ],
             [
              0.3333333333333333,
              "#9c179e"
             ],
             [
              0.4444444444444444,
              "#bd3786"
             ],
             [
              0.5555555555555556,
              "#d8576b"
             ],
             [
              0.6666666666666666,
              "#ed7953"
             ],
             [
              0.7777777777777778,
              "#fb9f3a"
             ],
             [
              0.8888888888888888,
              "#fdca26"
             ],
             [
              1,
              "#f0f921"
             ]
            ],
            "type": "surface"
           }
          ],
          "table": [
           {
            "cells": {
             "fill": {
              "color": "#EBF0F8"
             },
             "line": {
              "color": "white"
             }
            },
            "header": {
             "fill": {
              "color": "#C8D4E3"
             },
             "line": {
              "color": "white"
             }
            },
            "type": "table"
           }
          ]
         },
         "layout": {
          "annotationdefaults": {
           "arrowcolor": "#2a3f5f",
           "arrowhead": 0,
           "arrowwidth": 1
          },
          "autotypenumbers": "strict",
          "coloraxis": {
           "colorbar": {
            "outlinewidth": 0,
            "ticks": ""
           }
          },
          "colorscale": {
           "diverging": [
            [
             0,
             "#8e0152"
            ],
            [
             0.1,
             "#c51b7d"
            ],
            [
             0.2,
             "#de77ae"
            ],
            [
             0.3,
             "#f1b6da"
            ],
            [
             0.4,
             "#fde0ef"
            ],
            [
             0.5,
             "#f7f7f7"
            ],
            [
             0.6,
             "#e6f5d0"
            ],
            [
             0.7,
             "#b8e186"
            ],
            [
             0.8,
             "#7fbc41"
            ],
            [
             0.9,
             "#4d9221"
            ],
            [
             1,
             "#276419"
            ]
           ],
           "sequential": [
            [
             0,
             "#0d0887"
            ],
            [
             0.1111111111111111,
             "#46039f"
            ],
            [
             0.2222222222222222,
             "#7201a8"
            ],
            [
             0.3333333333333333,
             "#9c179e"
            ],
            [
             0.4444444444444444,
             "#bd3786"
            ],
            [
             0.5555555555555556,
             "#d8576b"
            ],
            [
             0.6666666666666666,
             "#ed7953"
            ],
            [
             0.7777777777777778,
             "#fb9f3a"
            ],
            [
             0.8888888888888888,
             "#fdca26"
            ],
            [
             1,
             "#f0f921"
            ]
           ],
           "sequentialminus": [
            [
             0,
             "#0d0887"
            ],
            [
             0.1111111111111111,
             "#46039f"
            ],
            [
             0.2222222222222222,
             "#7201a8"
            ],
            [
             0.3333333333333333,
             "#9c179e"
            ],
            [
             0.4444444444444444,
             "#bd3786"
            ],
            [
             0.5555555555555556,
             "#d8576b"
            ],
            [
             0.6666666666666666,
             "#ed7953"
            ],
            [
             0.7777777777777778,
             "#fb9f3a"
            ],
            [
             0.8888888888888888,
             "#fdca26"
            ],
            [
             1,
             "#f0f921"
            ]
           ]
          },
          "colorway": [
           "#636efa",
           "#EF553B",
           "#00cc96",
           "#ab63fa",
           "#FFA15A",
           "#19d3f3",
           "#FF6692",
           "#B6E880",
           "#FF97FF",
           "#FECB52"
          ],
          "font": {
           "color": "#2a3f5f"
          },
          "geo": {
           "bgcolor": "white",
           "lakecolor": "white",
           "landcolor": "#E5ECF6",
           "showlakes": true,
           "showland": true,
           "subunitcolor": "white"
          },
          "hoverlabel": {
           "align": "left"
          },
          "hovermode": "closest",
          "mapbox": {
           "style": "light"
          },
          "paper_bgcolor": "white",
          "plot_bgcolor": "#E5ECF6",
          "polar": {
           "angularaxis": {
            "gridcolor": "white",
            "linecolor": "white",
            "ticks": ""
           },
           "bgcolor": "#E5ECF6",
           "radialaxis": {
            "gridcolor": "white",
            "linecolor": "white",
            "ticks": ""
           }
          },
          "scene": {
           "xaxis": {
            "backgroundcolor": "#E5ECF6",
            "gridcolor": "white",
            "gridwidth": 2,
            "linecolor": "white",
            "showbackground": true,
            "ticks": "",
            "zerolinecolor": "white"
           },
           "yaxis": {
            "backgroundcolor": "#E5ECF6",
            "gridcolor": "white",
            "gridwidth": 2,
            "linecolor": "white",
            "showbackground": true,
            "ticks": "",
            "zerolinecolor": "white"
           },
           "zaxis": {
            "backgroundcolor": "#E5ECF6",
            "gridcolor": "white",
            "gridwidth": 2,
            "linecolor": "white",
            "showbackground": true,
            "ticks": "",
            "zerolinecolor": "white"
           }
          },
          "shapedefaults": {
           "line": {
            "color": "#2a3f5f"
           }
          },
          "ternary": {
           "aaxis": {
            "gridcolor": "white",
            "linecolor": "white",
            "ticks": ""
           },
           "baxis": {
            "gridcolor": "white",
            "linecolor": "white",
            "ticks": ""
           },
           "bgcolor": "#E5ECF6",
           "caxis": {
            "gridcolor": "white",
            "linecolor": "white",
            "ticks": ""
           }
          },
          "title": {
           "x": 0.05
          },
          "xaxis": {
           "automargin": true,
           "gridcolor": "white",
           "linecolor": "white",
           "ticks": "",
           "title": {
            "standoff": 15
           },
           "zerolinecolor": "white",
           "zerolinewidth": 2
          },
          "yaxis": {
           "automargin": true,
           "gridcolor": "white",
           "linecolor": "white",
           "ticks": "",
           "title": {
            "standoff": 15
           },
           "zerolinecolor": "white",
           "zerolinewidth": 2
          }
         }
        },
        "title": {
         "text": "<b>Dashcam Price Distribution</b>"
        },
        "yaxis": {
         "title": {
          "text": "Price (RM)"
         }
        }
       }
      }
     },
     "metadata": {},
     "output_type": "display_data"
    }
   ],
   "source": [
    "# Checking dashcam price distribution in boxplot\n",
    "fig1 = go.Figure()\n",
    "fig1.add_trace(go.Box(y=df_800['original_price_RM']))\n",
    "fig1.update_layout(title_text='<b>Dashcam Price Distribution</b>')\n",
    "fig1.update_yaxes(title_text='Price (RM)')\n",
    "\n",
    "fig1.show()"
   ]
  },
  {
   "cell_type": "code",
   "execution_count": 25,
   "metadata": {},
   "outputs": [
    {
     "data": {
      "application/vnd.plotly.v1+json": {
       "config": {
        "plotlyServerURL": "https://plot.ly"
       },
       "data": [
        {
         "nbinsx": 64,
         "type": "histogram",
         "x": [
          271.6,
          140,
          140,
          199.15,
          189.67,
          167.02,
          307.41,
          268.72,
          298.33,
          313.33,
          425.26,
          156.25,
          612.28,
          122.92,
          37.97,
          32.53,
          864.44,
          272.5,
          178.2,
          137.76,
          194.57,
          118.52,
          1966.67,
          73.95,
          177.08,
          893.75,
          225.41,
          360.61,
          109.88,
          146.28,
          275.53,
          446.94,
          164.13,
          37.74,
          41.21,
          4825,
          162.82,
          995.65,
          23.75,
          567.37,
          8.02,
          1375.44,
          91.02,
          80.34,
          42.38,
          65.09,
          194.52,
          115.48,
          15.13,
          113.71,
          498.72,
          324.42,
          225.49,
          72.3,
          130.86,
          220,
          149.77,
          578.48,
          664.44,
          65.82,
          742.3,
          234.38,
          219.27,
          1343.48,
          45.08,
          338.22,
          106.96,
          149.7,
          180.39,
          479.65,
          62.59,
          191.28,
          112.74,
          83.43,
          182.63,
          548,
          228.85,
          181.36,
          78.33,
          709.62,
          88.67,
          215.22,
          94.84,
          145.11,
          117.27,
          221.43,
          31.94,
          144.56,
          96.36,
          139.8,
          775.56,
          124.32,
          37.9,
          255.56,
          37.12,
          39.89,
          250.1,
          99.85,
          179.55,
          155.95,
          146.72,
          98.39,
          137.5,
          572.5,
          116.16,
          516.6,
          1098,
          72.47,
          47.21,
          25.97,
          179.6,
          71.03,
          243.33,
          166.46,
          250,
          645.1,
          197.2,
          115.72,
          636.96,
          58.84,
          241.82,
          160.56,
          79.62,
          719.44,
          148.76,
          86.93,
          923.88,
          1036.67,
          323.91,
          138,
          177.56,
          67.06,
          70.56,
          185.43,
          353.33,
          58.62,
          44.27,
          695.24,
          845,
          246.4,
          123.39,
          607.25,
          3.61,
          269.7,
          7.58,
          262.08,
          155.45,
          99.24,
          900.78,
          43.99,
          20.44,
          118.62,
          530.23,
          763.83,
          153.12,
          87.2,
          109.09,
          213.26,
          80.82,
          65.34,
          420,
          42.75,
          30.26,
          50.09,
          840.91,
          236,
          355.56,
          110.1,
          114.81,
          168.09,
          247.73,
          73.53,
          573.7,
          62.73,
          143.37,
          143.23,
          1164.67,
          167.99,
          683.56,
          227.88,
          359.1,
          189.32,
          479.4,
          172.5,
          149.81,
          998.15,
          72.94,
          178,
          200.98,
          473.98,
          242,
          247.86,
          463.38,
          42.25,
          156.42,
          738.89,
          273.88,
          207.36,
          107.66,
          79.69,
          323.64,
          171.32,
          197.5,
          117,
          187.54,
          1173.48,
          81.65,
          265.33,
          71.08,
          406.12,
          1100,
          153.41,
          116.41,
          1194.53,
          76.3,
          333.87,
          477.27,
          1030.65,
          152.59,
          258.83,
          138,
          164.63,
          616.36,
          432.56,
          107.54,
          110.84,
          85.42,
          279.24,
          232.81,
          219.38,
          221.72,
          37.38,
          1045.24,
          40.13,
          895.92,
          497,
          149.12,
          181.37,
          68.74,
          386.36,
          110,
          69.09,
          90.4,
          185,
          168.42,
          65.06,
          280.8,
          331.67,
          172.73,
          336.84,
          74.1,
          651.57,
          164.59,
          81.95,
          160.23,
          597.07,
          179.49,
          136.31,
          297.73,
          176.79,
          222.22,
          139.84,
          236.96,
          346.51,
          36.27,
          831.94,
          199.32,
          215.21,
          620.27,
          148.95,
          551.85,
          2911.76,
          122.24,
          219.6,
          1068.75,
          59.58,
          791,
          145.27,
          236.08,
          30.12,
          405.81,
          121.85,
          73.97,
          215,
          130.36,
          497.92,
          184.81,
          993.33,
          130.22,
          127.45,
          106.02,
          151.16,
          139.81,
          480.83,
          1249.25,
          174.14,
          286.67,
          58.31,
          1408.16,
          235.59,
          855.11,
          119.28,
          157,
          368.52,
          791.67,
          1108,
          1210.64,
          252.5,
          140.82,
          545.8,
          315.36,
          486.9,
          269.84,
          153.77,
          1358.33,
          86.89,
          21.91,
          18.64,
          215.28,
          168.38,
          356.59,
          89.29,
          830.56,
          172.31,
          185.49,
          134.02,
          625.25,
          297.01,
          798.67,
          191.67,
          213.35,
          491.47,
          542.42,
          36.33,
          149.02,
          171.66,
          40.63,
          231.67,
          2087.34,
          242.14,
          167.92,
          167.55,
          461.36,
          86.76,
          230.41,
          207.07,
          174.42,
          539.08,
          85.58,
          336.51,
          955.67,
          193.02,
          429.04,
          938.26,
          204.27,
          354.36,
          1157.95,
          617.97,
          170.1,
          500,
          909.06,
          371.64,
          89,
          167.62,
          187.25,
          195.1,
          356.23,
          662.22,
          354.52,
          659.15,
          618,
          57.2,
          287.91,
          979.98,
          128.79,
          107.95,
          167.86,
          487.76,
          1222.22,
          142,
          196.88,
          742.42,
          1324.63,
          37.54,
          71.51,
          90.14,
          1014.75,
          235.48,
          1127.78,
          40.7,
          75.3,
          86.88,
          372.73,
          626.92,
          313.7,
          84.48,
          166.93,
          107.18,
          1178,
          444.83,
          170.11,
          49.87,
          86.77,
          258.62,
          2025,
          686.67,
          872.5,
          274.12,
          305.97,
          452.73,
          282.95,
          106.43,
          196.53,
          84.94,
          293.62,
          252.54,
          702.66,
          444.58,
          43.58,
          162.48,
          153.45,
          59.46,
          400,
          235.71,
          224.49,
          513.64,
          154.55,
          1788.16,
          163.79,
          115.35,
          289.53,
          210.59,
          488.24,
          276.01,
          363.37,
          130.29,
          496.15,
          237.62,
          304.23,
          93.89,
          8.67,
          43.73,
          22.84,
          60.24,
          239.62,
          1458,
          507.02,
          226.67,
          1057.58,
          94.52,
          257.58,
          85.89,
          90.62,
          323.75,
          81.79,
          117.84,
          130.61,
          120.27,
          269.49,
          115.58,
          53.38,
          44.59,
          200.59,
          81.32,
          940.38,
          4663.89,
          373.15,
          580.03,
          185.14,
          298.57,
          680.61,
          105.37,
          76.77,
          278.49,
          102.99,
          195.63,
          1121.88,
          591.84,
          568.35,
          601.47,
          91.87,
          70.25,
          47.51,
          161.22,
          1518.75,
          840.18,
          941.82,
          282.3,
          70.51,
          133.32,
          216.88,
          673.02,
          101.61,
          684.77,
          485.09,
          248.95,
          186.38,
          185.9,
          389.86,
          635.29,
          368.31,
          195.93,
          357.73,
          404.94,
          490.94,
          130.88,
          1087.97,
          625.34,
          294.87,
          867.5,
          2697.78,
          953.93,
          105.08,
          429.9,
          948.78,
          397.78,
          88.39,
          253.37,
          159.57,
          647.84,
          39.8,
          61.68,
          145.59,
          52.34,
          287.5,
          230.16,
          56.82,
          91.13,
          109.32,
          459.62,
          209.61,
          284.48,
          147.46,
          353.62,
          710.05,
          118.07,
          252.72,
          580.36,
          117.8,
          704.56,
          905.61,
          239.38,
          415,
          375.55,
          150.62,
          706.47,
          187.67,
          356.87,
          341.1,
          226.13,
          117.7,
          570.13,
          286.53,
          172.6,
          1108.38,
          347.95,
          252.08,
          325.83,
          470.96,
          255.94,
          66.47,
          119.86,
          98.05,
          125,
          568.64,
          225.59,
          142,
          22.69,
          153.61,
          225,
          203.72,
          292.55,
          121.93,
          503.74,
          137.37,
          472.3,
          380.16,
          678.34,
          1125.79,
          116.06,
          1030,
          387.19,
          624,
          78.57,
          358.46,
          475.23,
          552.04,
          524,
          331.04,
          266.45,
          274.49,
          618.99,
          282.61,
          383.58,
          324.75,
          184.5,
          108.89,
          513.16,
          364,
          506.04,
          320.34,
          121.11,
          330.43,
          398,
          151.11,
          89.86,
          997.47,
          243.67,
          160.54,
          315.45,
          347.46,
          180.56,
          322.21,
          163.78,
          104.78,
          510.64,
          535.82,
          72.64,
          98.26,
          300.91,
          321.64,
          288.91,
          496.25,
          180.32,
          63.11,
          246.58,
          810.1,
          670.31,
          259.67,
          1433.79,
          296,
          323.27,
          262.37,
          309.21,
          238.26,
          455.89,
          239.41,
          375.38,
          358.5,
          696,
          382.5,
          58.4,
          111.56,
          90.95,
          375,
          200,
          581.69,
          76.7,
          775.29,
          337.5,
          246,
          129.96,
          411.97,
          32.75,
          199.87,
          88.75,
          237.18,
          529.48,
          176.93,
          655.1,
          183.86,
          300.74,
          278.83,
          221.79,
          162.98,
          392.09,
          238.35,
          109.06,
          196.44,
          602.83,
          489.47,
          362.39,
          94.15,
          213.45,
          180.86,
          153.33,
          349.26,
          186.35,
          399.78,
          116.57,
          314.55,
          81.02,
          165.22,
          85.07,
          131.78,
          800,
          233.83,
          282.93,
          262.82,
          905.41,
          287.38,
          191.4,
          237.87,
          672.28,
          461.68,
          86.79,
          166,
          73.48,
          484.85,
          166.56,
          842.43,
          74.81,
          786.49,
          173.28,
          195.65,
          69.28,
          396.92,
          73.81,
          431.02,
          38.43,
          1056.84,
          628.95,
          170.16,
          854.67,
          229.42,
          211,
          193.41,
          79.16,
          210,
          192,
          23.87,
          52.64,
          55.93,
          100.37,
          107,
          103.51,
          195.65,
          69.14,
          230.92,
          145.18,
          51.96,
          248.65,
          128.87,
          724.6,
          112.09,
          130.4,
          646.18,
          173.01,
          122.47,
          249.8,
          174.23,
          226.83,
          510.77,
          62.05,
          67.28,
          304.75,
          58.33,
          118.29,
          173.27,
          484.63,
          350.23,
          515.31,
          142.1,
          458,
          602.14,
          41.66,
          257.23,
          87.65,
          425.51,
          155.83,
          204.26,
          63.16,
          44.36,
          485,
          30.53,
          278.79,
          394.19,
          139.13,
          161.36,
          75.68,
          692.05,
          181.23,
          282.8,
          75.15,
          296,
          161.8,
          439.27,
          247.5,
          433.42,
          234.3,
          602.19,
          41.29,
          120.92,
          58.81,
          203.23,
          195,
          317.49,
          86.74,
          330.23,
          405.48,
          616.49,
          913.79,
          375.91,
          196.12,
          151.62,
          183.5,
          286.37,
          84.08,
          80.07,
          422.03
         ]
        }
       ],
       "layout": {
        "template": {
         "data": {
          "bar": [
           {
            "error_x": {
             "color": "#2a3f5f"
            },
            "error_y": {
             "color": "#2a3f5f"
            },
            "marker": {
             "line": {
              "color": "#E5ECF6",
              "width": 0.5
             },
             "pattern": {
              "fillmode": "overlay",
              "size": 10,
              "solidity": 0.2
             }
            },
            "type": "bar"
           }
          ],
          "barpolar": [
           {
            "marker": {
             "line": {
              "color": "#E5ECF6",
              "width": 0.5
             },
             "pattern": {
              "fillmode": "overlay",
              "size": 10,
              "solidity": 0.2
             }
            },
            "type": "barpolar"
           }
          ],
          "carpet": [
           {
            "aaxis": {
             "endlinecolor": "#2a3f5f",
             "gridcolor": "white",
             "linecolor": "white",
             "minorgridcolor": "white",
             "startlinecolor": "#2a3f5f"
            },
            "baxis": {
             "endlinecolor": "#2a3f5f",
             "gridcolor": "white",
             "linecolor": "white",
             "minorgridcolor": "white",
             "startlinecolor": "#2a3f5f"
            },
            "type": "carpet"
           }
          ],
          "choropleth": [
           {
            "colorbar": {
             "outlinewidth": 0,
             "ticks": ""
            },
            "type": "choropleth"
           }
          ],
          "contour": [
           {
            "colorbar": {
             "outlinewidth": 0,
             "ticks": ""
            },
            "colorscale": [
             [
              0,
              "#0d0887"
             ],
             [
              0.1111111111111111,
              "#46039f"
             ],
             [
              0.2222222222222222,
              "#7201a8"
             ],
             [
              0.3333333333333333,
              "#9c179e"
             ],
             [
              0.4444444444444444,
              "#bd3786"
             ],
             [
              0.5555555555555556,
              "#d8576b"
             ],
             [
              0.6666666666666666,
              "#ed7953"
             ],
             [
              0.7777777777777778,
              "#fb9f3a"
             ],
             [
              0.8888888888888888,
              "#fdca26"
             ],
             [
              1,
              "#f0f921"
             ]
            ],
            "type": "contour"
           }
          ],
          "contourcarpet": [
           {
            "colorbar": {
             "outlinewidth": 0,
             "ticks": ""
            },
            "type": "contourcarpet"
           }
          ],
          "heatmap": [
           {
            "colorbar": {
             "outlinewidth": 0,
             "ticks": ""
            },
            "colorscale": [
             [
              0,
              "#0d0887"
             ],
             [
              0.1111111111111111,
              "#46039f"
             ],
             [
              0.2222222222222222,
              "#7201a8"
             ],
             [
              0.3333333333333333,
              "#9c179e"
             ],
             [
              0.4444444444444444,
              "#bd3786"
             ],
             [
              0.5555555555555556,
              "#d8576b"
             ],
             [
              0.6666666666666666,
              "#ed7953"
             ],
             [
              0.7777777777777778,
              "#fb9f3a"
             ],
             [
              0.8888888888888888,
              "#fdca26"
             ],
             [
              1,
              "#f0f921"
             ]
            ],
            "type": "heatmap"
           }
          ],
          "heatmapgl": [
           {
            "colorbar": {
             "outlinewidth": 0,
             "ticks": ""
            },
            "colorscale": [
             [
              0,
              "#0d0887"
             ],
             [
              0.1111111111111111,
              "#46039f"
             ],
             [
              0.2222222222222222,
              "#7201a8"
             ],
             [
              0.3333333333333333,
              "#9c179e"
             ],
             [
              0.4444444444444444,
              "#bd3786"
             ],
             [
              0.5555555555555556,
              "#d8576b"
             ],
             [
              0.6666666666666666,
              "#ed7953"
             ],
             [
              0.7777777777777778,
              "#fb9f3a"
             ],
             [
              0.8888888888888888,
              "#fdca26"
             ],
             [
              1,
              "#f0f921"
             ]
            ],
            "type": "heatmapgl"
           }
          ],
          "histogram": [
           {
            "marker": {
             "pattern": {
              "fillmode": "overlay",
              "size": 10,
              "solidity": 0.2
             }
            },
            "type": "histogram"
           }
          ],
          "histogram2d": [
           {
            "colorbar": {
             "outlinewidth": 0,
             "ticks": ""
            },
            "colorscale": [
             [
              0,
              "#0d0887"
             ],
             [
              0.1111111111111111,
              "#46039f"
             ],
             [
              0.2222222222222222,
              "#7201a8"
             ],
             [
              0.3333333333333333,
              "#9c179e"
             ],
             [
              0.4444444444444444,
              "#bd3786"
             ],
             [
              0.5555555555555556,
              "#d8576b"
             ],
             [
              0.6666666666666666,
              "#ed7953"
             ],
             [
              0.7777777777777778,
              "#fb9f3a"
             ],
             [
              0.8888888888888888,
              "#fdca26"
             ],
             [
              1,
              "#f0f921"
             ]
            ],
            "type": "histogram2d"
           }
          ],
          "histogram2dcontour": [
           {
            "colorbar": {
             "outlinewidth": 0,
             "ticks": ""
            },
            "colorscale": [
             [
              0,
              "#0d0887"
             ],
             [
              0.1111111111111111,
              "#46039f"
             ],
             [
              0.2222222222222222,
              "#7201a8"
             ],
             [
              0.3333333333333333,
              "#9c179e"
             ],
             [
              0.4444444444444444,
              "#bd3786"
             ],
             [
              0.5555555555555556,
              "#d8576b"
             ],
             [
              0.6666666666666666,
              "#ed7953"
             ],
             [
              0.7777777777777778,
              "#fb9f3a"
             ],
             [
              0.8888888888888888,
              "#fdca26"
             ],
             [
              1,
              "#f0f921"
             ]
            ],
            "type": "histogram2dcontour"
           }
          ],
          "mesh3d": [
           {
            "colorbar": {
             "outlinewidth": 0,
             "ticks": ""
            },
            "type": "mesh3d"
           }
          ],
          "parcoords": [
           {
            "line": {
             "colorbar": {
              "outlinewidth": 0,
              "ticks": ""
             }
            },
            "type": "parcoords"
           }
          ],
          "pie": [
           {
            "automargin": true,
            "type": "pie"
           }
          ],
          "scatter": [
           {
            "fillpattern": {
             "fillmode": "overlay",
             "size": 10,
             "solidity": 0.2
            },
            "type": "scatter"
           }
          ],
          "scatter3d": [
           {
            "line": {
             "colorbar": {
              "outlinewidth": 0,
              "ticks": ""
             }
            },
            "marker": {
             "colorbar": {
              "outlinewidth": 0,
              "ticks": ""
             }
            },
            "type": "scatter3d"
           }
          ],
          "scattercarpet": [
           {
            "marker": {
             "colorbar": {
              "outlinewidth": 0,
              "ticks": ""
             }
            },
            "type": "scattercarpet"
           }
          ],
          "scattergeo": [
           {
            "marker": {
             "colorbar": {
              "outlinewidth": 0,
              "ticks": ""
             }
            },
            "type": "scattergeo"
           }
          ],
          "scattergl": [
           {
            "marker": {
             "colorbar": {
              "outlinewidth": 0,
              "ticks": ""
             }
            },
            "type": "scattergl"
           }
          ],
          "scattermapbox": [
           {
            "marker": {
             "colorbar": {
              "outlinewidth": 0,
              "ticks": ""
             }
            },
            "type": "scattermapbox"
           }
          ],
          "scatterpolar": [
           {
            "marker": {
             "colorbar": {
              "outlinewidth": 0,
              "ticks": ""
             }
            },
            "type": "scatterpolar"
           }
          ],
          "scatterpolargl": [
           {
            "marker": {
             "colorbar": {
              "outlinewidth": 0,
              "ticks": ""
             }
            },
            "type": "scatterpolargl"
           }
          ],
          "scatterternary": [
           {
            "marker": {
             "colorbar": {
              "outlinewidth": 0,
              "ticks": ""
             }
            },
            "type": "scatterternary"
           }
          ],
          "surface": [
           {
            "colorbar": {
             "outlinewidth": 0,
             "ticks": ""
            },
            "colorscale": [
             [
              0,
              "#0d0887"
             ],
             [
              0.1111111111111111,
              "#46039f"
             ],
             [
              0.2222222222222222,
              "#7201a8"
             ],
             [
              0.3333333333333333,
              "#9c179e"
             ],
             [
              0.4444444444444444,
              "#bd3786"
             ],
             [
              0.5555555555555556,
              "#d8576b"
             ],
             [
              0.6666666666666666,
              "#ed7953"
             ],
             [
              0.7777777777777778,
              "#fb9f3a"
             ],
             [
              0.8888888888888888,
              "#fdca26"
             ],
             [
              1,
              "#f0f921"
             ]
            ],
            "type": "surface"
           }
          ],
          "table": [
           {
            "cells": {
             "fill": {
              "color": "#EBF0F8"
             },
             "line": {
              "color": "white"
             }
            },
            "header": {
             "fill": {
              "color": "#C8D4E3"
             },
             "line": {
              "color": "white"
             }
            },
            "type": "table"
           }
          ]
         },
         "layout": {
          "annotationdefaults": {
           "arrowcolor": "#2a3f5f",
           "arrowhead": 0,
           "arrowwidth": 1
          },
          "autotypenumbers": "strict",
          "coloraxis": {
           "colorbar": {
            "outlinewidth": 0,
            "ticks": ""
           }
          },
          "colorscale": {
           "diverging": [
            [
             0,
             "#8e0152"
            ],
            [
             0.1,
             "#c51b7d"
            ],
            [
             0.2,
             "#de77ae"
            ],
            [
             0.3,
             "#f1b6da"
            ],
            [
             0.4,
             "#fde0ef"
            ],
            [
             0.5,
             "#f7f7f7"
            ],
            [
             0.6,
             "#e6f5d0"
            ],
            [
             0.7,
             "#b8e186"
            ],
            [
             0.8,
             "#7fbc41"
            ],
            [
             0.9,
             "#4d9221"
            ],
            [
             1,
             "#276419"
            ]
           ],
           "sequential": [
            [
             0,
             "#0d0887"
            ],
            [
             0.1111111111111111,
             "#46039f"
            ],
            [
             0.2222222222222222,
             "#7201a8"
            ],
            [
             0.3333333333333333,
             "#9c179e"
            ],
            [
             0.4444444444444444,
             "#bd3786"
            ],
            [
             0.5555555555555556,
             "#d8576b"
            ],
            [
             0.6666666666666666,
             "#ed7953"
            ],
            [
             0.7777777777777778,
             "#fb9f3a"
            ],
            [
             0.8888888888888888,
             "#fdca26"
            ],
            [
             1,
             "#f0f921"
            ]
           ],
           "sequentialminus": [
            [
             0,
             "#0d0887"
            ],
            [
             0.1111111111111111,
             "#46039f"
            ],
            [
             0.2222222222222222,
             "#7201a8"
            ],
            [
             0.3333333333333333,
             "#9c179e"
            ],
            [
             0.4444444444444444,
             "#bd3786"
            ],
            [
             0.5555555555555556,
             "#d8576b"
            ],
            [
             0.6666666666666666,
             "#ed7953"
            ],
            [
             0.7777777777777778,
             "#fb9f3a"
            ],
            [
             0.8888888888888888,
             "#fdca26"
            ],
            [
             1,
             "#f0f921"
            ]
           ]
          },
          "colorway": [
           "#636efa",
           "#EF553B",
           "#00cc96",
           "#ab63fa",
           "#FFA15A",
           "#19d3f3",
           "#FF6692",
           "#B6E880",
           "#FF97FF",
           "#FECB52"
          ],
          "font": {
           "color": "#2a3f5f"
          },
          "geo": {
           "bgcolor": "white",
           "lakecolor": "white",
           "landcolor": "#E5ECF6",
           "showlakes": true,
           "showland": true,
           "subunitcolor": "white"
          },
          "hoverlabel": {
           "align": "left"
          },
          "hovermode": "closest",
          "mapbox": {
           "style": "light"
          },
          "paper_bgcolor": "white",
          "plot_bgcolor": "#E5ECF6",
          "polar": {
           "angularaxis": {
            "gridcolor": "white",
            "linecolor": "white",
            "ticks": ""
           },
           "bgcolor": "#E5ECF6",
           "radialaxis": {
            "gridcolor": "white",
            "linecolor": "white",
            "ticks": ""
           }
          },
          "scene": {
           "xaxis": {
            "backgroundcolor": "#E5ECF6",
            "gridcolor": "white",
            "gridwidth": 2,
            "linecolor": "white",
            "showbackground": true,
            "ticks": "",
            "zerolinecolor": "white"
           },
           "yaxis": {
            "backgroundcolor": "#E5ECF6",
            "gridcolor": "white",
            "gridwidth": 2,
            "linecolor": "white",
            "showbackground": true,
            "ticks": "",
            "zerolinecolor": "white"
           },
           "zaxis": {
            "backgroundcolor": "#E5ECF6",
            "gridcolor": "white",
            "gridwidth": 2,
            "linecolor": "white",
            "showbackground": true,
            "ticks": "",
            "zerolinecolor": "white"
           }
          },
          "shapedefaults": {
           "line": {
            "color": "#2a3f5f"
           }
          },
          "ternary": {
           "aaxis": {
            "gridcolor": "white",
            "linecolor": "white",
            "ticks": ""
           },
           "baxis": {
            "gridcolor": "white",
            "linecolor": "white",
            "ticks": ""
           },
           "bgcolor": "#E5ECF6",
           "caxis": {
            "gridcolor": "white",
            "linecolor": "white",
            "ticks": ""
           }
          },
          "title": {
           "x": 0.05
          },
          "xaxis": {
           "automargin": true,
           "gridcolor": "white",
           "linecolor": "white",
           "ticks": "",
           "title": {
            "standoff": 15
           },
           "zerolinecolor": "white",
           "zerolinewidth": 2
          },
          "yaxis": {
           "automargin": true,
           "gridcolor": "white",
           "linecolor": "white",
           "ticks": "",
           "title": {
            "standoff": 15
           },
           "zerolinecolor": "white",
           "zerolinewidth": 2
          }
         }
        },
        "title": {
         "text": "<b>Dashcam Price Distribution</b>"
        },
        "xaxis": {
         "title": {
          "text": "Price (RM)"
         }
        },
        "yaxis": {
         "title": {
          "text": "Count"
         }
        }
       }
      }
     },
     "metadata": {},
     "output_type": "display_data"
    }
   ],
   "source": [
    "# Checking dashcam price distribution in histogram\n",
    "fig2 = go.Figure()\n",
    "fig2.add_trace(go.Histogram(x=df_800['original_price_RM'], nbinsx=64))\n",
    "fig2.update_layout(title_text='<b>Dashcam Price Distribution</b>')\n",
    "fig2.update_xaxes(title_text='Price (RM)')\n",
    "fig2.update_yaxes(title_text=\"Count\")\n",
    "\n",
    "fig2.show()"
   ]
  },
  {
   "cell_type": "code",
   "execution_count": 52,
   "metadata": {},
   "outputs": [
    {
     "data": {
      "application/vnd.plotly.v1+json": {
       "config": {
        "plotlyServerURL": "https://plot.ly"
       },
       "data": [
        {
         "histfunc": "avg",
         "nbinsx": 64,
         "type": "histogram",
         "x": [
          271.6,
          140,
          140,
          199.15,
          189.67,
          167.02,
          307.41,
          268.72,
          298.33,
          313.33,
          425.26,
          156.25,
          612.28,
          122.92,
          37.97,
          32.53,
          864.44,
          272.5,
          178.2,
          137.76,
          194.57,
          118.52,
          1966.67,
          73.95,
          177.08,
          893.75,
          225.41,
          360.61,
          109.88,
          146.28,
          275.53,
          446.94,
          164.13,
          37.74,
          41.21,
          4825,
          162.82,
          995.65,
          23.75,
          567.37,
          8.02,
          1375.44,
          91.02,
          80.34,
          42.38,
          65.09,
          194.52,
          115.48,
          15.13,
          113.71,
          498.72,
          324.42,
          225.49,
          72.3,
          130.86,
          220,
          149.77,
          578.48,
          664.44,
          65.82,
          742.3,
          234.38,
          219.27,
          1343.48,
          45.08,
          338.22,
          106.96,
          149.7,
          180.39,
          479.65,
          62.59,
          191.28,
          112.74,
          83.43,
          182.63,
          548,
          228.85,
          181.36,
          78.33,
          709.62,
          88.67,
          215.22,
          94.84,
          145.11,
          117.27,
          221.43,
          31.94,
          144.56,
          96.36,
          139.8,
          775.56,
          124.32,
          37.9,
          255.56,
          37.12,
          39.89,
          250.1,
          99.85,
          179.55,
          155.95,
          146.72,
          98.39,
          137.5,
          572.5,
          116.16,
          516.6,
          1098,
          72.47,
          47.21,
          25.97,
          179.6,
          71.03,
          243.33,
          166.46,
          250,
          645.1,
          197.2,
          115.72,
          636.96,
          58.84,
          241.82,
          160.56,
          79.62,
          719.44,
          148.76,
          86.93,
          923.88,
          1036.67,
          323.91,
          138,
          177.56,
          67.06,
          70.56,
          185.43,
          353.33,
          58.62,
          44.27,
          695.24,
          845,
          246.4,
          123.39,
          607.25,
          3.61,
          269.7,
          7.58,
          262.08,
          155.45,
          99.24,
          900.78,
          43.99,
          20.44,
          118.62,
          530.23,
          763.83,
          153.12,
          87.2,
          109.09,
          213.26,
          80.82,
          65.34,
          420,
          42.75,
          30.26,
          50.09,
          840.91,
          236,
          355.56,
          110.1,
          114.81,
          168.09,
          247.73,
          73.53,
          573.7,
          62.73,
          143.37,
          143.23,
          1164.67,
          167.99,
          683.56,
          227.88,
          359.1,
          189.32,
          479.4,
          172.5,
          149.81,
          998.15,
          72.94,
          178,
          200.98,
          473.98,
          242,
          247.86,
          463.38,
          42.25,
          156.42,
          738.89,
          273.88,
          207.36,
          107.66,
          79.69,
          323.64,
          171.32,
          197.5,
          117,
          187.54,
          1173.48,
          81.65,
          265.33,
          71.08,
          406.12,
          1100,
          153.41,
          116.41,
          1194.53,
          76.3,
          333.87,
          477.27,
          1030.65,
          152.59,
          258.83,
          138,
          164.63,
          616.36,
          432.56,
          107.54,
          110.84,
          85.42,
          279.24,
          232.81,
          219.38,
          221.72,
          37.38,
          1045.24,
          40.13,
          895.92,
          497,
          149.12,
          181.37,
          68.74,
          386.36,
          110,
          69.09,
          90.4,
          185,
          168.42,
          65.06,
          280.8,
          331.67,
          172.73,
          336.84,
          74.1,
          651.57,
          164.59,
          81.95,
          160.23,
          597.07,
          179.49,
          136.31,
          297.73,
          176.79,
          222.22,
          139.84,
          236.96,
          346.51,
          36.27,
          831.94,
          199.32,
          215.21,
          620.27,
          148.95,
          551.85,
          2911.76,
          122.24,
          219.6,
          1068.75,
          59.58,
          791,
          145.27,
          236.08,
          30.12,
          405.81,
          121.85,
          73.97,
          215,
          130.36,
          497.92,
          184.81,
          993.33,
          130.22,
          127.45,
          106.02,
          151.16,
          139.81,
          480.83,
          1249.25,
          174.14,
          286.67,
          58.31,
          1408.16,
          235.59,
          855.11,
          119.28,
          157,
          368.52,
          791.67,
          1108,
          1210.64,
          252.5,
          140.82,
          545.8,
          315.36,
          486.9,
          269.84,
          153.77,
          1358.33,
          86.89,
          21.91,
          18.64,
          215.28,
          168.38,
          356.59,
          89.29,
          830.56,
          172.31,
          185.49,
          134.02,
          625.25,
          297.01,
          798.67,
          191.67,
          213.35,
          491.47,
          542.42,
          36.33,
          149.02,
          171.66,
          40.63,
          231.67,
          2087.34,
          242.14,
          167.92,
          167.55,
          461.36,
          86.76,
          230.41,
          207.07,
          174.42,
          539.08,
          85.58,
          336.51,
          955.67,
          193.02,
          429.04,
          938.26,
          204.27,
          354.36,
          1157.95,
          617.97,
          170.1,
          500,
          909.06,
          371.64,
          89,
          167.62,
          187.25,
          195.1,
          356.23,
          662.22,
          354.52,
          659.15,
          618,
          57.2,
          287.91,
          979.98,
          128.79,
          107.95,
          167.86,
          487.76,
          1222.22,
          142,
          196.88,
          742.42,
          1324.63,
          37.54,
          71.51,
          90.14,
          1014.75,
          235.48,
          1127.78,
          40.7,
          75.3,
          86.88,
          372.73,
          626.92,
          313.7,
          84.48,
          166.93,
          107.18,
          1178,
          444.83,
          170.11,
          49.87,
          86.77,
          258.62,
          2025,
          686.67,
          872.5,
          274.12,
          305.97,
          452.73,
          282.95,
          106.43,
          196.53,
          84.94,
          293.62,
          252.54,
          702.66,
          444.58,
          43.58,
          162.48,
          153.45,
          59.46,
          400,
          235.71,
          224.49,
          513.64,
          154.55,
          1788.16,
          163.79,
          115.35,
          289.53,
          210.59,
          488.24,
          276.01,
          363.37,
          130.29,
          496.15,
          237.62,
          304.23,
          93.89,
          8.67,
          43.73,
          22.84,
          60.24,
          239.62,
          1458,
          507.02,
          226.67,
          1057.58,
          94.52,
          257.58,
          85.89,
          90.62,
          323.75,
          81.79,
          117.84,
          130.61,
          120.27,
          269.49,
          115.58,
          53.38,
          44.59,
          200.59,
          81.32,
          940.38,
          4663.89,
          373.15,
          580.03,
          185.14,
          298.57,
          680.61,
          105.37,
          76.77,
          278.49,
          102.99,
          195.63,
          1121.88,
          591.84,
          568.35,
          601.47,
          91.87,
          70.25,
          47.51,
          161.22,
          1518.75,
          840.18,
          941.82,
          282.3,
          70.51,
          133.32,
          216.88,
          673.02,
          101.61,
          684.77,
          485.09,
          248.95,
          186.38,
          185.9,
          389.86,
          635.29,
          368.31,
          195.93,
          357.73,
          404.94,
          490.94,
          130.88,
          1087.97,
          625.34,
          294.87,
          867.5,
          2697.78,
          953.93,
          105.08,
          429.9,
          948.78,
          397.78,
          88.39,
          253.37,
          159.57,
          647.84,
          39.8,
          61.68,
          145.59,
          52.34,
          287.5,
          230.16,
          56.82,
          91.13,
          109.32,
          459.62,
          209.61,
          284.48,
          147.46,
          353.62,
          710.05,
          118.07,
          252.72,
          580.36,
          117.8,
          704.56,
          905.61,
          239.38,
          415,
          375.55,
          150.62,
          706.47,
          187.67,
          356.87,
          341.1,
          226.13,
          117.7,
          570.13,
          286.53,
          172.6,
          1108.38,
          347.95,
          252.08,
          325.83,
          470.96,
          255.94,
          66.47,
          119.86,
          98.05,
          125,
          568.64,
          225.59,
          142,
          22.69,
          153.61,
          225,
          203.72,
          292.55,
          121.93,
          503.74,
          137.37,
          472.3,
          380.16,
          678.34,
          1125.79,
          116.06,
          1030,
          387.19,
          624,
          78.57,
          358.46,
          475.23,
          552.04,
          524,
          331.04,
          266.45,
          274.49,
          618.99,
          282.61,
          383.58,
          324.75,
          184.5,
          108.89,
          513.16,
          364,
          506.04,
          320.34,
          121.11,
          330.43,
          398,
          151.11,
          89.86,
          997.47,
          243.67,
          160.54,
          315.45,
          347.46,
          180.56,
          322.21,
          163.78,
          104.78,
          510.64,
          535.82,
          72.64,
          98.26,
          300.91,
          321.64,
          288.91,
          496.25,
          180.32,
          63.11,
          246.58,
          810.1,
          670.31,
          259.67,
          1433.79,
          296,
          323.27,
          262.37,
          309.21,
          238.26,
          455.89,
          239.41,
          375.38,
          358.5,
          696,
          382.5,
          58.4,
          111.56,
          90.95,
          375,
          200,
          581.69,
          76.7,
          775.29,
          337.5,
          246,
          129.96,
          411.97,
          32.75,
          199.87,
          88.75,
          237.18,
          529.48,
          176.93,
          655.1,
          183.86,
          300.74,
          278.83,
          221.79,
          162.98,
          392.09,
          238.35,
          109.06,
          196.44,
          602.83,
          489.47,
          362.39,
          94.15,
          213.45,
          180.86,
          153.33,
          349.26,
          186.35,
          399.78,
          116.57,
          314.55,
          81.02,
          165.22,
          85.07,
          131.78,
          800,
          233.83,
          282.93,
          262.82,
          905.41,
          287.38,
          191.4,
          237.87,
          672.28,
          461.68,
          86.79,
          166,
          73.48,
          484.85,
          166.56,
          842.43,
          74.81,
          786.49,
          173.28,
          195.65,
          69.28,
          396.92,
          73.81,
          431.02,
          38.43,
          1056.84,
          628.95,
          170.16,
          854.67,
          229.42,
          211,
          193.41,
          79.16,
          210,
          192,
          23.87,
          52.64,
          55.93,
          100.37,
          107,
          103.51,
          195.65,
          69.14,
          230.92,
          145.18,
          51.96,
          248.65,
          128.87,
          724.6,
          112.09,
          130.4,
          646.18,
          173.01,
          122.47,
          249.8,
          174.23,
          226.83,
          510.77,
          62.05,
          67.28,
          304.75,
          58.33,
          118.29,
          173.27,
          484.63,
          350.23,
          515.31,
          142.1,
          458,
          602.14,
          41.66,
          257.23,
          87.65,
          425.51,
          155.83,
          204.26,
          63.16,
          44.36,
          485,
          30.53,
          278.79,
          394.19,
          139.13,
          161.36,
          75.68,
          692.05,
          181.23,
          282.8,
          75.15,
          296,
          161.8,
          439.27,
          247.5,
          433.42,
          234.3,
          602.19,
          41.29,
          120.92,
          58.81,
          203.23,
          195,
          317.49,
          86.74,
          330.23,
          405.48,
          616.49,
          913.79,
          375.91,
          196.12,
          151.62,
          183.5,
          286.37,
          84.08,
          80.07,
          422.03
         ],
         "y": [
          228,
          323,
          341,
          31000,
          60000,
          21000,
          16000,
          647,
          323,
          15,
          33,
          164000,
          205000,
          14,
          38,
          817,
          174000,
          339,
          156000,
          78,
          13,
          60,
          14000,
          125,
          38000,
          10000,
          207,
          7,
          22000,
          33,
          32000,
          135,
          655,
          6,
          19,
          62000,
          466,
          479,
          846,
          46000,
          18,
          205000,
          65000,
          110,
          148,
          243,
          109,
          47,
          158,
          81,
          20000,
          51,
          38,
          323,
          51,
          17000,
          77000,
          59,
          171000,
          97,
          194,
          13,
          272,
          179,
          176,
          21,
          326,
          146,
          15000,
          297,
          280,
          11000,
          19000,
          15000,
          67,
          450,
          20000,
          147000,
          24,
          110,
          26,
          6,
          22,
          21000,
          27,
          59,
          28,
          180,
          30000,
          192,
          560,
          33,
          117,
          23000,
          11,
          12,
          39,
          14,
          113,
          118,
          39,
          15000,
          15,
          55,
          20,
          21000,
          5,
          10,
          237,
          160,
          32000,
          19,
          48,
          68,
          33000,
          13,
          542,
          10000,
          320,
          10,
          14000,
          66,
          14,
          228,
          12000,
          449,
          17,
          36,
          8,
          794,
          66,
          48,
          439,
          13,
          12,
          29,
          52000,
          65,
          41000,
          563,
          18,
          256,
          10,
          6,
          38,
          304,
          121,
          78,
          12,
          59,
          25,
          10,
          41,
          12,
          41,
          85,
          85,
          227,
          88,
          32000,
          33,
          17000,
          441,
          228,
          418,
          13000,
          26,
          9,
          58,
          5,
          164,
          6,
          12,
          13000,
          14000,
          22000,
          18,
          24000,
          6,
          372,
          396,
          279,
          106,
          13,
          97,
          98,
          348,
          181,
          416,
          10,
          30,
          151,
          21,
          151,
          248,
          34,
          197,
          74000,
          124,
          49,
          203,
          100,
          17,
          51,
          34000,
          88,
          26,
          124,
          188,
          11,
          45000,
          318,
          12,
          6,
          63000,
          27,
          123,
          16,
          298,
          19,
          122,
          74,
          77,
          51,
          18,
          98,
          45,
          10,
          149,
          291,
          261,
          63,
          283,
          38,
          5,
          12,
          11,
          157000,
          240000,
          15,
          140,
          5,
          8,
          11,
          270,
          798,
          288,
          10,
          225,
          67,
          129,
          21,
          275,
          569,
          17000,
          950,
          16,
          37,
          10,
          92,
          11,
          16,
          343,
          39,
          83000,
          92,
          10,
          49,
          914,
          7,
          6,
          595,
          118,
          8,
          982,
          10,
          119,
          16,
          14,
          5,
          22,
          11,
          6,
          90,
          110,
          7,
          76,
          27,
          537,
          39,
          19,
          6,
          377,
          901,
          6,
          885,
          248,
          19,
          6,
          30,
          14,
          12,
          368,
          12,
          12,
          8,
          351,
          16,
          5,
          18,
          15,
          18,
          6,
          39,
          15,
          116,
          28,
          15,
          12,
          11,
          38,
          13,
          34000,
          710,
          233,
          20,
          148,
          39,
          19,
          11000,
          282,
          20,
          375,
          6,
          5,
          188,
          6,
          15,
          601,
          93,
          307,
          10,
          807,
          12,
          136000,
          6,
          17000,
          58,
          27,
          61,
          58,
          40,
          46,
          62,
          24000,
          20,
          13,
          11,
          13,
          26,
          14,
          402,
          930,
          410,
          7,
          341,
          12,
          7,
          24,
          11,
          30,
          461,
          51,
          25,
          139,
          8,
          21,
          13,
          11,
          663,
          28,
          11,
          10,
          8,
          19,
          5,
          22,
          5,
          12,
          5,
          12,
          85,
          5,
          8,
          31,
          629,
          667,
          35000,
          305,
          14000,
          24000,
          30,
          278,
          25,
          171000,
          41,
          8,
          16,
          7,
          98,
          95,
          21,
          10,
          9,
          6,
          8,
          420,
          8,
          24,
          7,
          202,
          94,
          17,
          11,
          19,
          28,
          23,
          9,
          565,
          9,
          11,
          40,
          61,
          7,
          694,
          238,
          355,
          13,
          5,
          7,
          7,
          5,
          18000,
          11,
          14000,
          203,
          74,
          410,
          96,
          9,
          8,
          85,
          6,
          5,
          16000,
          24,
          242,
          16,
          14,
          7,
          9,
          9,
          54,
          10,
          5,
          11,
          57,
          37,
          15,
          8,
          8,
          733,
          626,
          8,
          9,
          16,
          14,
          5,
          815,
          7,
          17,
          5,
          5,
          41,
          83,
          26,
          27,
          293,
          210,
          6,
          12000,
          19,
          71,
          5,
          34,
          12,
          47,
          10,
          12,
          53,
          5,
          6,
          42,
          251,
          37,
          32,
          9,
          11,
          11,
          48,
          13,
          126,
          5,
          37,
          14,
          6,
          5,
          12,
          5,
          646,
          10,
          5,
          5,
          69000,
          123,
          43,
          23,
          178,
          32,
          30,
          10,
          13,
          91,
          34,
          16,
          29,
          8,
          14,
          8,
          102000,
          36,
          18,
          60,
          140,
          12,
          231,
          13,
          46,
          5,
          9,
          16,
          339,
          5,
          5,
          6,
          6,
          11,
          26,
          5,
          9,
          14,
          15,
          7,
          5,
          20,
          738,
          6,
          49,
          35,
          24,
          42,
          116,
          5,
          21,
          11,
          36,
          16,
          6,
          7,
          59,
          5,
          28,
          11,
          7,
          6,
          10,
          5,
          5,
          702,
          407,
          18,
          128,
          8,
          44,
          77,
          225,
          412,
          58,
          12,
          251,
          10,
          11,
          5,
          120000,
          12,
          9,
          37,
          35,
          5,
          7,
          40,
          25,
          7,
          6,
          100,
          6,
          58,
          20,
          184,
          306,
          6,
          45,
          18,
          16,
          126,
          6,
          22,
          13,
          22,
          11,
          12,
          6,
          5,
          54,
          582,
          28,
          253,
          9,
          11,
          26,
          41,
          14,
          20,
          12,
          6,
          10,
          24,
          44,
          5,
          21,
          23,
          23,
          9,
          19,
          32000,
          8,
          13,
          11,
          31,
          23,
          16,
          28,
          6,
          19,
          6,
          34,
          74,
          16,
          8,
          10,
          13,
          39,
          6,
          22,
          25,
          22,
          181,
          6,
          107,
          7,
          10,
          8,
          6,
          96000,
          76,
          31,
          20,
          257,
          26,
          984,
          44,
          14,
          17,
          34,
          13,
          28,
          12,
          8,
          6,
          7,
          12,
          8,
          9,
          8,
          71,
          14,
          32,
          17,
          8,
          9,
          9,
          12,
          20,
          30,
          6,
          6,
          13,
          27,
          7,
          18,
          9,
          12,
          6,
          10,
          11,
          14,
          67,
          29,
          13,
          23,
          6,
          5,
          18,
          11,
          118,
          8,
          17,
          33,
          21000,
          6,
          8,
          8,
          8,
          10,
          29,
          23,
          19,
          20,
          9,
          5,
          132,
          16,
          6,
          877,
          19,
          7,
          15,
          19,
          12,
          6,
          239,
          28,
          39,
          9,
          7,
          314,
          25,
          61,
          12000,
          6,
          8,
          13,
          10,
          6,
          23,
          13,
          8,
          6,
          161,
          18,
          63,
          9,
          37,
          6,
          6,
          7,
          10,
          7,
          6,
          9,
          14,
          30,
          127,
          105,
          614,
          36,
          52,
          7,
          123,
          22,
          10,
          7,
          22,
          12,
          48000,
          16,
          25,
          6,
          13,
          25,
          39,
          12,
          14,
          27,
          9,
          27,
          9,
          5,
          33,
          18,
          68,
          32000,
          9,
          76,
          39,
          7,
          94,
          19,
          126,
          7,
          5,
          7,
          72,
          550,
          474,
          796,
          11,
          9,
          12,
          13,
          6,
          11,
          77,
          5,
          10,
          7,
          216,
          13,
          42,
          18,
          153,
          8,
          9,
          62,
          10,
          29,
          14,
          14,
          5,
          8,
          9,
          20,
          23,
          7,
          184,
          312,
          22,
          17,
          6,
          10,
          26,
          12,
          145,
          15,
          11,
          37,
          5,
          20,
          813,
          7,
          6,
          28,
          11,
          37,
          137,
          11,
          13,
          28,
          69,
          33,
          0,
          0,
          0,
          0,
          0,
          0,
          0,
          0,
          0,
          0,
          0,
          0,
          0,
          0,
          0,
          0,
          0,
          0,
          0,
          0,
          0,
          0,
          0,
          0,
          0,
          0,
          0,
          0,
          0,
          0,
          0,
          0,
          0,
          0,
          0,
          0,
          0,
          0,
          0,
          0,
          0,
          0,
          0,
          0,
          0,
          0,
          0,
          0,
          0,
          0,
          0,
          0,
          0,
          0,
          0,
          0,
          0,
          0,
          0,
          0,
          0,
          0,
          0,
          0,
          0,
          0,
          0,
          0,
          0,
          0,
          0,
          0,
          0,
          0,
          0,
          0,
          0,
          0,
          0,
          0,
          0,
          0,
          0,
          0,
          0,
          0,
          0,
          0,
          0,
          0,
          0,
          0,
          0,
          0,
          0,
          0,
          0,
          0,
          0,
          0,
          0,
          0,
          0,
          0,
          0,
          0,
          0,
          0,
          0,
          0,
          0,
          0,
          0,
          0,
          0,
          0,
          0,
          0,
          0,
          0,
          0,
          0,
          0,
          0,
          0,
          0,
          0,
          0,
          0,
          0,
          0,
          0,
          0,
          0,
          0,
          0,
          0,
          0,
          0,
          0,
          0,
          0,
          0,
          0,
          0,
          0,
          0,
          0,
          0,
          0,
          0,
          0,
          0,
          0,
          0,
          0,
          0,
          0,
          0,
          0,
          0,
          0,
          0,
          0,
          0,
          0,
          0,
          0,
          0,
          0,
          0,
          0,
          0,
          0,
          0,
          0,
          0,
          0,
          0,
          0,
          0,
          0,
          0,
          0,
          0,
          0,
          0,
          0,
          0,
          0,
          0,
          0,
          0,
          0,
          0,
          0,
          0,
          0,
          0,
          0,
          0,
          0,
          0,
          0,
          0,
          0,
          0,
          0,
          0,
          0,
          0,
          0,
          0,
          0,
          0,
          0,
          0,
          0,
          0,
          0,
          0,
          0,
          0,
          0,
          0,
          0,
          0,
          0,
          0,
          0,
          0,
          0,
          0,
          0,
          0,
          0,
          0,
          0,
          0,
          0,
          0,
          0,
          0,
          0,
          0,
          0,
          0,
          0,
          0,
          0,
          0,
          0,
          0,
          0,
          0,
          0,
          0,
          0,
          0,
          0,
          0,
          0,
          0,
          0,
          0,
          0,
          0,
          0,
          0,
          0,
          0,
          0,
          0,
          0,
          0,
          0,
          0,
          0,
          0,
          0,
          0,
          0,
          0,
          0,
          0,
          0,
          0,
          0,
          0,
          0,
          0,
          0,
          0,
          0,
          0,
          0,
          0,
          0,
          0,
          0,
          0,
          0,
          0,
          0,
          0,
          0,
          0,
          0,
          0,
          0,
          0,
          0,
          0,
          0,
          0,
          0,
          0,
          0,
          0,
          0,
          0,
          0,
          0,
          0,
          0,
          0,
          0,
          0,
          0,
          0,
          0,
          0,
          0,
          0,
          0,
          0,
          0,
          0,
          0,
          0,
          0,
          0,
          0,
          0,
          0,
          0,
          0,
          0,
          0,
          0,
          0,
          0,
          0,
          0,
          0,
          0,
          0,
          0,
          0,
          0,
          0,
          0,
          0,
          0,
          0,
          0,
          0,
          0,
          0,
          0,
          0,
          0,
          0,
          0,
          0,
          0,
          0,
          0,
          0,
          0,
          0,
          0,
          0,
          0,
          0,
          0,
          0,
          0,
          0,
          0,
          0,
          0,
          0,
          0,
          0,
          0,
          0,
          0,
          0,
          0,
          0,
          0,
          0,
          0,
          0,
          0,
          0,
          0,
          0,
          0,
          0,
          0,
          0,
          0,
          0,
          0,
          0,
          0,
          0,
          0,
          0,
          0,
          0,
          0,
          0,
          0,
          0,
          0,
          0,
          0,
          0,
          0,
          0,
          0,
          0,
          0,
          0,
          0,
          0,
          0,
          0,
          0,
          0,
          0,
          0,
          0,
          0,
          0,
          0,
          0,
          0,
          0,
          0,
          0,
          0,
          0,
          0,
          0,
          0,
          0,
          0,
          0,
          0,
          0,
          0,
          0,
          0,
          0,
          0,
          0,
          0,
          0,
          0,
          0,
          0,
          0,
          0,
          0,
          0,
          0,
          0,
          0,
          0,
          0,
          0,
          0,
          0,
          0,
          0,
          0,
          0,
          0,
          0,
          0,
          0,
          0,
          0,
          0,
          0,
          0,
          0,
          0,
          0,
          0,
          0,
          0,
          0,
          0,
          0,
          0,
          0,
          0,
          0,
          0,
          0,
          0,
          0,
          0,
          0,
          0,
          0,
          0,
          0,
          0,
          0,
          0,
          0,
          0,
          0,
          0,
          0,
          0,
          0,
          0,
          0,
          0,
          0,
          0,
          0,
          0,
          0,
          0,
          0,
          0,
          0,
          0,
          0,
          0,
          0,
          0,
          0,
          0,
          0,
          0,
          0,
          0,
          0,
          0,
          0,
          0,
          0,
          0,
          0,
          0,
          0,
          0,
          0,
          0,
          0,
          0,
          0,
          0,
          0,
          0,
          0,
          0,
          0,
          0,
          0,
          0,
          0,
          0,
          0,
          0,
          0,
          0,
          0,
          0,
          0,
          0,
          0,
          0,
          0,
          0,
          0,
          0,
          0,
          0,
          0,
          0,
          0,
          0,
          0,
          0,
          0,
          0,
          0,
          0,
          0,
          0,
          0,
          0,
          0,
          0,
          0,
          0,
          0,
          0,
          0,
          0,
          0,
          0,
          0,
          0,
          0,
          0,
          0,
          0,
          0,
          0,
          0,
          0,
          0,
          0,
          0,
          0,
          0,
          0,
          0,
          0,
          0,
          0,
          0,
          0,
          0,
          0,
          0,
          0,
          0,
          0,
          0,
          0,
          0,
          0,
          0,
          0,
          0,
          0,
          0,
          0,
          0,
          0,
          0,
          0,
          0,
          0,
          0,
          0,
          0,
          0,
          0,
          0,
          0,
          0,
          0,
          0,
          0,
          0,
          0,
          0,
          0,
          0,
          0,
          0,
          0,
          0,
          0,
          0,
          0,
          0,
          0,
          0,
          0,
          0,
          0,
          0,
          0,
          0,
          0,
          0,
          0,
          0,
          0,
          0,
          0,
          0,
          0,
          0,
          0,
          0
         ]
        }
       ],
       "layout": {
        "template": {
         "data": {
          "bar": [
           {
            "error_x": {
             "color": "#2a3f5f"
            },
            "error_y": {
             "color": "#2a3f5f"
            },
            "marker": {
             "line": {
              "color": "#E5ECF6",
              "width": 0.5
             },
             "pattern": {
              "fillmode": "overlay",
              "size": 10,
              "solidity": 0.2
             }
            },
            "type": "bar"
           }
          ],
          "barpolar": [
           {
            "marker": {
             "line": {
              "color": "#E5ECF6",
              "width": 0.5
             },
             "pattern": {
              "fillmode": "overlay",
              "size": 10,
              "solidity": 0.2
             }
            },
            "type": "barpolar"
           }
          ],
          "carpet": [
           {
            "aaxis": {
             "endlinecolor": "#2a3f5f",
             "gridcolor": "white",
             "linecolor": "white",
             "minorgridcolor": "white",
             "startlinecolor": "#2a3f5f"
            },
            "baxis": {
             "endlinecolor": "#2a3f5f",
             "gridcolor": "white",
             "linecolor": "white",
             "minorgridcolor": "white",
             "startlinecolor": "#2a3f5f"
            },
            "type": "carpet"
           }
          ],
          "choropleth": [
           {
            "colorbar": {
             "outlinewidth": 0,
             "ticks": ""
            },
            "type": "choropleth"
           }
          ],
          "contour": [
           {
            "colorbar": {
             "outlinewidth": 0,
             "ticks": ""
            },
            "colorscale": [
             [
              0,
              "#0d0887"
             ],
             [
              0.1111111111111111,
              "#46039f"
             ],
             [
              0.2222222222222222,
              "#7201a8"
             ],
             [
              0.3333333333333333,
              "#9c179e"
             ],
             [
              0.4444444444444444,
              "#bd3786"
             ],
             [
              0.5555555555555556,
              "#d8576b"
             ],
             [
              0.6666666666666666,
              "#ed7953"
             ],
             [
              0.7777777777777778,
              "#fb9f3a"
             ],
             [
              0.8888888888888888,
              "#fdca26"
             ],
             [
              1,
              "#f0f921"
             ]
            ],
            "type": "contour"
           }
          ],
          "contourcarpet": [
           {
            "colorbar": {
             "outlinewidth": 0,
             "ticks": ""
            },
            "type": "contourcarpet"
           }
          ],
          "heatmap": [
           {
            "colorbar": {
             "outlinewidth": 0,
             "ticks": ""
            },
            "colorscale": [
             [
              0,
              "#0d0887"
             ],
             [
              0.1111111111111111,
              "#46039f"
             ],
             [
              0.2222222222222222,
              "#7201a8"
             ],
             [
              0.3333333333333333,
              "#9c179e"
             ],
             [
              0.4444444444444444,
              "#bd3786"
             ],
             [
              0.5555555555555556,
              "#d8576b"
             ],
             [
              0.6666666666666666,
              "#ed7953"
             ],
             [
              0.7777777777777778,
              "#fb9f3a"
             ],
             [
              0.8888888888888888,
              "#fdca26"
             ],
             [
              1,
              "#f0f921"
             ]
            ],
            "type": "heatmap"
           }
          ],
          "heatmapgl": [
           {
            "colorbar": {
             "outlinewidth": 0,
             "ticks": ""
            },
            "colorscale": [
             [
              0,
              "#0d0887"
             ],
             [
              0.1111111111111111,
              "#46039f"
             ],
             [
              0.2222222222222222,
              "#7201a8"
             ],
             [
              0.3333333333333333,
              "#9c179e"
             ],
             [
              0.4444444444444444,
              "#bd3786"
             ],
             [
              0.5555555555555556,
              "#d8576b"
             ],
             [
              0.6666666666666666,
              "#ed7953"
             ],
             [
              0.7777777777777778,
              "#fb9f3a"
             ],
             [
              0.8888888888888888,
              "#fdca26"
             ],
             [
              1,
              "#f0f921"
             ]
            ],
            "type": "heatmapgl"
           }
          ],
          "histogram": [
           {
            "marker": {
             "pattern": {
              "fillmode": "overlay",
              "size": 10,
              "solidity": 0.2
             }
            },
            "type": "histogram"
           }
          ],
          "histogram2d": [
           {
            "colorbar": {
             "outlinewidth": 0,
             "ticks": ""
            },
            "colorscale": [
             [
              0,
              "#0d0887"
             ],
             [
              0.1111111111111111,
              "#46039f"
             ],
             [
              0.2222222222222222,
              "#7201a8"
             ],
             [
              0.3333333333333333,
              "#9c179e"
             ],
             [
              0.4444444444444444,
              "#bd3786"
             ],
             [
              0.5555555555555556,
              "#d8576b"
             ],
             [
              0.6666666666666666,
              "#ed7953"
             ],
             [
              0.7777777777777778,
              "#fb9f3a"
             ],
             [
              0.8888888888888888,
              "#fdca26"
             ],
             [
              1,
              "#f0f921"
             ]
            ],
            "type": "histogram2d"
           }
          ],
          "histogram2dcontour": [
           {
            "colorbar": {
             "outlinewidth": 0,
             "ticks": ""
            },
            "colorscale": [
             [
              0,
              "#0d0887"
             ],
             [
              0.1111111111111111,
              "#46039f"
             ],
             [
              0.2222222222222222,
              "#7201a8"
             ],
             [
              0.3333333333333333,
              "#9c179e"
             ],
             [
              0.4444444444444444,
              "#bd3786"
             ],
             [
              0.5555555555555556,
              "#d8576b"
             ],
             [
              0.6666666666666666,
              "#ed7953"
             ],
             [
              0.7777777777777778,
              "#fb9f3a"
             ],
             [
              0.8888888888888888,
              "#fdca26"
             ],
             [
              1,
              "#f0f921"
             ]
            ],
            "type": "histogram2dcontour"
           }
          ],
          "mesh3d": [
           {
            "colorbar": {
             "outlinewidth": 0,
             "ticks": ""
            },
            "type": "mesh3d"
           }
          ],
          "parcoords": [
           {
            "line": {
             "colorbar": {
              "outlinewidth": 0,
              "ticks": ""
             }
            },
            "type": "parcoords"
           }
          ],
          "pie": [
           {
            "automargin": true,
            "type": "pie"
           }
          ],
          "scatter": [
           {
            "fillpattern": {
             "fillmode": "overlay",
             "size": 10,
             "solidity": 0.2
            },
            "type": "scatter"
           }
          ],
          "scatter3d": [
           {
            "line": {
             "colorbar": {
              "outlinewidth": 0,
              "ticks": ""
             }
            },
            "marker": {
             "colorbar": {
              "outlinewidth": 0,
              "ticks": ""
             }
            },
            "type": "scatter3d"
           }
          ],
          "scattercarpet": [
           {
            "marker": {
             "colorbar": {
              "outlinewidth": 0,
              "ticks": ""
             }
            },
            "type": "scattercarpet"
           }
          ],
          "scattergeo": [
           {
            "marker": {
             "colorbar": {
              "outlinewidth": 0,
              "ticks": ""
             }
            },
            "type": "scattergeo"
           }
          ],
          "scattergl": [
           {
            "marker": {
             "colorbar": {
              "outlinewidth": 0,
              "ticks": ""
             }
            },
            "type": "scattergl"
           }
          ],
          "scattermapbox": [
           {
            "marker": {
             "colorbar": {
              "outlinewidth": 0,
              "ticks": ""
             }
            },
            "type": "scattermapbox"
           }
          ],
          "scatterpolar": [
           {
            "marker": {
             "colorbar": {
              "outlinewidth": 0,
              "ticks": ""
             }
            },
            "type": "scatterpolar"
           }
          ],
          "scatterpolargl": [
           {
            "marker": {
             "colorbar": {
              "outlinewidth": 0,
              "ticks": ""
             }
            },
            "type": "scatterpolargl"
           }
          ],
          "scatterternary": [
           {
            "marker": {
             "colorbar": {
              "outlinewidth": 0,
              "ticks": ""
             }
            },
            "type": "scatterternary"
           }
          ],
          "surface": [
           {
            "colorbar": {
             "outlinewidth": 0,
             "ticks": ""
            },
            "colorscale": [
             [
              0,
              "#0d0887"
             ],
             [
              0.1111111111111111,
              "#46039f"
             ],
             [
              0.2222222222222222,
              "#7201a8"
             ],
             [
              0.3333333333333333,
              "#9c179e"
             ],
             [
              0.4444444444444444,
              "#bd3786"
             ],
             [
              0.5555555555555556,
              "#d8576b"
             ],
             [
              0.6666666666666666,
              "#ed7953"
             ],
             [
              0.7777777777777778,
              "#fb9f3a"
             ],
             [
              0.8888888888888888,
              "#fdca26"
             ],
             [
              1,
              "#f0f921"
             ]
            ],
            "type": "surface"
           }
          ],
          "table": [
           {
            "cells": {
             "fill": {
              "color": "#EBF0F8"
             },
             "line": {
              "color": "white"
             }
            },
            "header": {
             "fill": {
              "color": "#C8D4E3"
             },
             "line": {
              "color": "white"
             }
            },
            "type": "table"
           }
          ]
         },
         "layout": {
          "annotationdefaults": {
           "arrowcolor": "#2a3f5f",
           "arrowhead": 0,
           "arrowwidth": 1
          },
          "autotypenumbers": "strict",
          "coloraxis": {
           "colorbar": {
            "outlinewidth": 0,
            "ticks": ""
           }
          },
          "colorscale": {
           "diverging": [
            [
             0,
             "#8e0152"
            ],
            [
             0.1,
             "#c51b7d"
            ],
            [
             0.2,
             "#de77ae"
            ],
            [
             0.3,
             "#f1b6da"
            ],
            [
             0.4,
             "#fde0ef"
            ],
            [
             0.5,
             "#f7f7f7"
            ],
            [
             0.6,
             "#e6f5d0"
            ],
            [
             0.7,
             "#b8e186"
            ],
            [
             0.8,
             "#7fbc41"
            ],
            [
             0.9,
             "#4d9221"
            ],
            [
             1,
             "#276419"
            ]
           ],
           "sequential": [
            [
             0,
             "#0d0887"
            ],
            [
             0.1111111111111111,
             "#46039f"
            ],
            [
             0.2222222222222222,
             "#7201a8"
            ],
            [
             0.3333333333333333,
             "#9c179e"
            ],
            [
             0.4444444444444444,
             "#bd3786"
            ],
            [
             0.5555555555555556,
             "#d8576b"
            ],
            [
             0.6666666666666666,
             "#ed7953"
            ],
            [
             0.7777777777777778,
             "#fb9f3a"
            ],
            [
             0.8888888888888888,
             "#fdca26"
            ],
            [
             1,
             "#f0f921"
            ]
           ],
           "sequentialminus": [
            [
             0,
             "#0d0887"
            ],
            [
             0.1111111111111111,
             "#46039f"
            ],
            [
             0.2222222222222222,
             "#7201a8"
            ],
            [
             0.3333333333333333,
             "#9c179e"
            ],
            [
             0.4444444444444444,
             "#bd3786"
            ],
            [
             0.5555555555555556,
             "#d8576b"
            ],
            [
             0.6666666666666666,
             "#ed7953"
            ],
            [
             0.7777777777777778,
             "#fb9f3a"
            ],
            [
             0.8888888888888888,
             "#fdca26"
            ],
            [
             1,
             "#f0f921"
            ]
           ]
          },
          "colorway": [
           "#636efa",
           "#EF553B",
           "#00cc96",
           "#ab63fa",
           "#FFA15A",
           "#19d3f3",
           "#FF6692",
           "#B6E880",
           "#FF97FF",
           "#FECB52"
          ],
          "font": {
           "color": "#2a3f5f"
          },
          "geo": {
           "bgcolor": "white",
           "lakecolor": "white",
           "landcolor": "#E5ECF6",
           "showlakes": true,
           "showland": true,
           "subunitcolor": "white"
          },
          "hoverlabel": {
           "align": "left"
          },
          "hovermode": "closest",
          "mapbox": {
           "style": "light"
          },
          "paper_bgcolor": "white",
          "plot_bgcolor": "#E5ECF6",
          "polar": {
           "angularaxis": {
            "gridcolor": "white",
            "linecolor": "white",
            "ticks": ""
           },
           "bgcolor": "#E5ECF6",
           "radialaxis": {
            "gridcolor": "white",
            "linecolor": "white",
            "ticks": ""
           }
          },
          "scene": {
           "xaxis": {
            "backgroundcolor": "#E5ECF6",
            "gridcolor": "white",
            "gridwidth": 2,
            "linecolor": "white",
            "showbackground": true,
            "ticks": "",
            "zerolinecolor": "white"
           },
           "yaxis": {
            "backgroundcolor": "#E5ECF6",
            "gridcolor": "white",
            "gridwidth": 2,
            "linecolor": "white",
            "showbackground": true,
            "ticks": "",
            "zerolinecolor": "white"
           },
           "zaxis": {
            "backgroundcolor": "#E5ECF6",
            "gridcolor": "white",
            "gridwidth": 2,
            "linecolor": "white",
            "showbackground": true,
            "ticks": "",
            "zerolinecolor": "white"
           }
          },
          "shapedefaults": {
           "line": {
            "color": "#2a3f5f"
           }
          },
          "ternary": {
           "aaxis": {
            "gridcolor": "white",
            "linecolor": "white",
            "ticks": ""
           },
           "baxis": {
            "gridcolor": "white",
            "linecolor": "white",
            "ticks": ""
           },
           "bgcolor": "#E5ECF6",
           "caxis": {
            "gridcolor": "white",
            "linecolor": "white",
            "ticks": ""
           }
          },
          "title": {
           "x": 0.05
          },
          "xaxis": {
           "automargin": true,
           "gridcolor": "white",
           "linecolor": "white",
           "ticks": "",
           "title": {
            "standoff": 15
           },
           "zerolinecolor": "white",
           "zerolinewidth": 2
          },
          "yaxis": {
           "automargin": true,
           "gridcolor": "white",
           "linecolor": "white",
           "ticks": "",
           "title": {
            "standoff": 15
           },
           "zerolinecolor": "white",
           "zerolinewidth": 2
          }
         }
        },
        "title": {
         "text": "<b>Dashcam Price vs Average Quantity Sold Distribution</b>"
        },
        "xaxis": {
         "title": {
          "text": "Price (RM)"
         }
        },
        "yaxis": {
         "title": {
          "text": "Average Quantity Sold"
         }
        }
       }
      }
     },
     "metadata": {},
     "output_type": "display_data"
    }
   ],
   "source": [
    "# Checking dashcam price vs quantity sold distribution in histogram\n",
    "fig2_1 = go.Figure()\n",
    "fig2_1.add_trace(go.Histogram(histfunc='avg', x=df_800['original_price_RM'], y=df['quantity_sold'], nbinsx=64))\n",
    "fig2_1.update_layout(title_text='<b>Dashcam Price vs Average Quantity Sold Distribution</b>')\n",
    "fig2_1.update_xaxes(title_text=\"Price (RM)\")\n",
    "fig2_1.update_yaxes(title_text=\"Average Quantity Sold\")\n",
    "\n",
    "fig2_1.show()"
   ]
  },
  {
   "cell_type": "code",
   "execution_count": 26,
   "metadata": {},
   "outputs": [
    {
     "data": {
      "application/vnd.plotly.v1+json": {
       "config": {
        "plotlyServerURL": "https://plot.ly"
       },
       "data": [
        {
         "mode": "markers",
         "type": "scatter",
         "x": [
          271.6,
          140,
          140,
          199.15,
          189.67,
          167.02,
          307.41,
          268.72,
          298.33,
          313.33,
          425.26,
          156.25,
          612.28,
          122.92,
          37.97,
          32.53,
          864.44,
          272.5,
          178.2,
          137.76,
          194.57,
          118.52,
          1966.67,
          73.95,
          177.08,
          893.75,
          225.41,
          360.61,
          109.88,
          146.28,
          275.53,
          446.94,
          164.13,
          37.74,
          41.21,
          4825,
          162.82,
          995.65,
          23.75,
          567.37,
          8.02,
          1375.44,
          91.02,
          80.34,
          42.38,
          65.09,
          194.52,
          115.48,
          15.13,
          113.71,
          498.72,
          324.42,
          225.49,
          72.3,
          130.86,
          220,
          149.77,
          578.48,
          664.44,
          65.82,
          742.3,
          234.38,
          219.27,
          1343.48,
          45.08,
          338.22,
          106.96,
          149.7,
          180.39,
          479.65,
          62.59,
          191.28,
          112.74,
          83.43,
          182.63,
          548,
          228.85,
          181.36,
          78.33,
          709.62,
          88.67,
          215.22,
          94.84,
          145.11,
          117.27,
          221.43,
          31.94,
          144.56,
          96.36,
          139.8,
          775.56,
          124.32,
          37.9,
          255.56,
          37.12,
          39.89,
          250.1,
          99.85,
          179.55,
          155.95,
          146.72,
          98.39,
          137.5,
          572.5,
          116.16,
          516.6,
          1098,
          72.47,
          47.21,
          25.97,
          179.6,
          71.03,
          243.33,
          166.46,
          250,
          645.1,
          197.2,
          115.72,
          636.96,
          58.84,
          241.82,
          160.56,
          79.62,
          719.44,
          148.76,
          86.93,
          923.88,
          1036.67,
          323.91,
          138,
          177.56,
          67.06,
          70.56,
          185.43,
          353.33,
          58.62,
          44.27,
          695.24,
          845,
          246.4,
          123.39,
          607.25,
          3.61,
          269.7,
          7.58,
          262.08,
          155.45,
          99.24,
          900.78,
          43.99,
          20.44,
          118.62,
          530.23,
          763.83,
          153.12,
          87.2,
          109.09,
          213.26,
          80.82,
          65.34,
          420,
          42.75,
          30.26,
          50.09,
          840.91,
          236,
          355.56,
          110.1,
          114.81,
          168.09,
          247.73,
          73.53,
          573.7,
          62.73,
          143.37,
          143.23,
          1164.67,
          167.99,
          683.56,
          227.88,
          359.1,
          189.32,
          479.4,
          172.5,
          149.81,
          998.15,
          72.94,
          178,
          200.98,
          473.98,
          242,
          247.86,
          463.38,
          42.25,
          156.42,
          738.89,
          273.88,
          207.36,
          107.66,
          79.69,
          323.64,
          171.32,
          197.5,
          117,
          187.54,
          1173.48,
          81.65,
          265.33,
          71.08,
          406.12,
          1100,
          153.41,
          116.41,
          1194.53,
          76.3,
          333.87,
          477.27,
          1030.65,
          152.59,
          258.83,
          138,
          164.63,
          616.36,
          432.56,
          107.54,
          110.84,
          85.42,
          279.24,
          232.81,
          219.38,
          221.72,
          37.38,
          1045.24,
          40.13,
          895.92,
          497,
          149.12,
          181.37,
          68.74,
          386.36,
          110,
          69.09,
          90.4,
          185,
          168.42,
          65.06,
          280.8,
          331.67,
          172.73,
          336.84,
          74.1,
          651.57,
          164.59,
          81.95,
          160.23,
          597.07,
          179.49,
          136.31,
          297.73,
          176.79,
          222.22,
          139.84,
          236.96,
          346.51,
          36.27,
          831.94,
          199.32,
          215.21,
          620.27,
          148.95,
          551.85,
          2911.76,
          122.24,
          219.6,
          1068.75,
          59.58,
          791,
          145.27,
          236.08,
          30.12,
          405.81,
          121.85,
          73.97,
          215,
          130.36,
          497.92,
          184.81,
          993.33,
          130.22,
          127.45,
          106.02,
          151.16,
          139.81,
          480.83,
          1249.25,
          174.14,
          286.67,
          58.31,
          1408.16,
          235.59,
          855.11,
          119.28,
          157,
          368.52,
          791.67,
          1108,
          1210.64,
          252.5,
          140.82,
          545.8,
          315.36,
          486.9,
          269.84,
          153.77,
          1358.33,
          86.89,
          21.91,
          18.64,
          215.28,
          168.38,
          356.59,
          89.29,
          830.56,
          172.31,
          185.49,
          134.02,
          625.25,
          297.01,
          798.67,
          191.67,
          213.35,
          491.47,
          542.42,
          36.33,
          149.02,
          171.66,
          40.63,
          231.67,
          2087.34,
          242.14,
          167.92,
          167.55,
          461.36,
          86.76,
          230.41,
          207.07,
          174.42,
          539.08,
          85.58,
          336.51,
          955.67,
          193.02,
          429.04,
          938.26,
          204.27,
          354.36,
          1157.95,
          617.97,
          170.1,
          500,
          909.06,
          371.64,
          89,
          167.62,
          187.25,
          195.1,
          356.23,
          662.22,
          354.52,
          659.15,
          618,
          57.2,
          287.91,
          979.98,
          128.79,
          107.95,
          167.86,
          487.76,
          1222.22,
          142,
          196.88,
          742.42,
          1324.63,
          37.54,
          71.51,
          90.14,
          1014.75,
          235.48,
          1127.78,
          40.7,
          75.3,
          86.88,
          372.73,
          626.92,
          313.7,
          84.48,
          166.93,
          107.18,
          1178,
          444.83,
          170.11,
          49.87,
          86.77,
          258.62,
          2025,
          686.67,
          872.5,
          274.12,
          305.97,
          452.73,
          282.95,
          106.43,
          196.53,
          84.94,
          293.62,
          252.54,
          702.66,
          444.58,
          43.58,
          162.48,
          153.45,
          59.46,
          400,
          235.71,
          224.49,
          513.64,
          154.55,
          1788.16,
          163.79,
          115.35,
          289.53,
          210.59,
          488.24,
          276.01,
          363.37,
          130.29,
          496.15,
          237.62,
          304.23,
          93.89,
          8.67,
          43.73,
          22.84,
          60.24,
          239.62,
          1458,
          507.02,
          226.67,
          1057.58,
          94.52,
          257.58,
          85.89,
          90.62,
          323.75,
          81.79,
          117.84,
          130.61,
          120.27,
          269.49,
          115.58,
          53.38,
          44.59,
          200.59,
          81.32,
          940.38,
          4663.89,
          373.15,
          580.03,
          185.14,
          298.57,
          680.61,
          105.37,
          76.77,
          278.49,
          102.99,
          195.63,
          1121.88,
          591.84,
          568.35,
          601.47,
          91.87,
          70.25,
          47.51,
          161.22,
          1518.75,
          840.18,
          941.82,
          282.3,
          70.51,
          133.32,
          216.88,
          673.02,
          101.61,
          684.77,
          485.09,
          248.95,
          186.38,
          185.9,
          389.86,
          635.29,
          368.31,
          195.93,
          357.73,
          404.94,
          490.94,
          130.88,
          1087.97,
          625.34,
          294.87,
          867.5,
          2697.78,
          953.93,
          105.08,
          429.9,
          948.78,
          397.78,
          88.39,
          253.37,
          159.57,
          647.84,
          39.8,
          61.68,
          145.59,
          52.34,
          287.5,
          230.16,
          56.82,
          91.13,
          109.32,
          459.62,
          209.61,
          284.48,
          147.46,
          353.62,
          710.05,
          118.07,
          252.72,
          580.36,
          117.8,
          704.56,
          905.61,
          239.38,
          415,
          375.55,
          150.62,
          706.47,
          187.67,
          356.87,
          341.1,
          226.13,
          117.7,
          570.13,
          286.53,
          172.6,
          1108.38,
          347.95,
          252.08,
          325.83,
          470.96,
          255.94,
          66.47,
          119.86,
          98.05,
          125,
          568.64,
          225.59,
          142,
          22.69,
          153.61,
          225,
          203.72,
          292.55,
          121.93,
          503.74,
          137.37,
          472.3,
          380.16,
          678.34,
          1125.79,
          116.06,
          1030,
          387.19,
          624,
          78.57,
          358.46,
          475.23,
          552.04,
          524,
          331.04,
          266.45,
          274.49,
          618.99,
          282.61,
          383.58,
          324.75,
          184.5,
          108.89,
          513.16,
          364,
          506.04,
          320.34,
          121.11,
          330.43,
          398,
          151.11,
          89.86,
          997.47,
          243.67,
          160.54,
          315.45,
          347.46,
          180.56,
          322.21,
          163.78,
          104.78,
          510.64,
          535.82,
          72.64,
          98.26,
          300.91,
          321.64,
          288.91,
          496.25,
          180.32,
          63.11,
          246.58,
          810.1,
          670.31,
          259.67,
          1433.79,
          296,
          323.27,
          262.37,
          309.21,
          238.26,
          455.89,
          239.41,
          375.38,
          358.5,
          696,
          382.5,
          58.4,
          111.56,
          90.95,
          375,
          200,
          581.69,
          76.7,
          775.29,
          337.5,
          246,
          129.96,
          411.97,
          32.75,
          199.87,
          88.75,
          237.18,
          529.48,
          176.93,
          655.1,
          183.86,
          300.74,
          278.83,
          221.79,
          162.98,
          392.09,
          238.35,
          109.06,
          196.44,
          602.83,
          489.47,
          362.39,
          94.15,
          213.45,
          180.86,
          153.33,
          349.26,
          186.35,
          399.78,
          116.57,
          314.55,
          81.02,
          165.22,
          85.07,
          131.78,
          800,
          233.83,
          282.93,
          262.82,
          905.41,
          287.38,
          191.4,
          237.87,
          672.28,
          461.68,
          86.79,
          166,
          73.48,
          484.85,
          166.56,
          842.43,
          74.81,
          786.49,
          173.28,
          195.65,
          69.28,
          396.92,
          73.81,
          431.02,
          38.43,
          1056.84,
          628.95,
          170.16,
          854.67,
          229.42,
          211,
          193.41,
          79.16,
          210,
          192,
          23.87,
          52.64,
          55.93,
          100.37,
          107,
          103.51,
          195.65,
          69.14,
          230.92,
          145.18,
          51.96,
          248.65,
          128.87,
          724.6,
          112.09,
          130.4,
          646.18,
          173.01,
          122.47,
          249.8,
          174.23,
          226.83,
          510.77,
          62.05,
          67.28,
          304.75,
          58.33,
          118.29,
          173.27,
          484.63,
          350.23,
          515.31,
          142.1,
          458,
          602.14,
          41.66,
          257.23,
          87.65,
          425.51,
          155.83,
          204.26,
          63.16,
          44.36,
          485,
          30.53,
          278.79,
          394.19,
          139.13,
          161.36,
          75.68,
          692.05,
          181.23,
          282.8,
          75.15,
          296,
          161.8,
          439.27,
          247.5,
          433.42,
          234.3,
          602.19,
          41.29,
          120.92,
          58.81,
          203.23,
          195,
          317.49,
          86.74,
          330.23,
          405.48,
          616.49,
          913.79,
          375.91,
          196.12,
          151.62,
          183.5,
          286.37,
          84.08,
          80.07,
          422.03
         ],
         "y": [
          228,
          323,
          341,
          31000,
          60000,
          21000,
          16000,
          647,
          323,
          15,
          33,
          164000,
          205000,
          14,
          38,
          817,
          174000,
          339,
          156000,
          78,
          13,
          60,
          14000,
          125,
          38000,
          10000,
          207,
          7,
          22000,
          33,
          32000,
          135,
          655,
          6,
          19,
          62000,
          466,
          479,
          846,
          46000,
          18,
          205000,
          65000,
          110,
          148,
          243,
          109,
          47,
          158,
          81,
          20000,
          51,
          38,
          323,
          51,
          17000,
          77000,
          59,
          171000,
          97,
          194,
          13,
          272,
          179,
          176,
          21,
          326,
          146,
          15000,
          297,
          280,
          11000,
          19000,
          15000,
          67,
          450,
          20000,
          147000,
          24,
          110,
          26,
          6,
          22,
          21000,
          27,
          59,
          28,
          180,
          30000,
          192,
          560,
          33,
          117,
          23000,
          11,
          12,
          39,
          14,
          113,
          118,
          39,
          15000,
          15,
          55,
          20,
          21000,
          5,
          10,
          237,
          160,
          32000,
          19,
          48,
          68,
          33000,
          13,
          542,
          10000,
          320,
          10,
          14000,
          66,
          14,
          228,
          12000,
          449,
          17,
          36,
          8,
          794,
          66,
          48,
          439,
          13,
          12,
          29,
          52000,
          65,
          41000,
          563,
          18,
          256,
          10,
          6,
          38,
          304,
          121,
          78,
          12,
          59,
          25,
          10,
          41,
          12,
          41,
          85,
          85,
          227,
          88,
          32000,
          33,
          17000,
          441,
          228,
          418,
          13000,
          26,
          9,
          58,
          5,
          164,
          6,
          12,
          13000,
          14000,
          22000,
          18,
          24000,
          6,
          372,
          396,
          279,
          106,
          13,
          97,
          98,
          348,
          181,
          416,
          10,
          30,
          151,
          21,
          151,
          248,
          34,
          197,
          74000,
          124,
          49,
          203,
          100,
          17,
          51,
          34000,
          88,
          26,
          124,
          188,
          11,
          45000,
          318,
          12,
          6,
          63000,
          27,
          123,
          16,
          298,
          19,
          122,
          74,
          77,
          51,
          18,
          98,
          45,
          10,
          149,
          291,
          261,
          63,
          283,
          38,
          5,
          12,
          11,
          157000,
          240000,
          15,
          140,
          5,
          8,
          11,
          270,
          798,
          288,
          10,
          225,
          67,
          129,
          21,
          275,
          569,
          17000,
          950,
          16,
          37,
          10,
          92,
          11,
          16,
          343,
          39,
          83000,
          92,
          10,
          49,
          914,
          7,
          6,
          595,
          118,
          8,
          982,
          10,
          119,
          16,
          14,
          5,
          22,
          11,
          6,
          90,
          110,
          7,
          76,
          27,
          537,
          39,
          19,
          6,
          377,
          901,
          6,
          885,
          248,
          19,
          6,
          30,
          14,
          12,
          368,
          12,
          12,
          8,
          351,
          16,
          5,
          18,
          15,
          18,
          6,
          39,
          15,
          116,
          28,
          15,
          12,
          11,
          38,
          13,
          34000,
          710,
          233,
          20,
          148,
          39,
          19,
          11000,
          282,
          20,
          375,
          6,
          5,
          188,
          6,
          15,
          601,
          93,
          307,
          10,
          807,
          12,
          136000,
          6,
          17000,
          58,
          27,
          61,
          58,
          40,
          46,
          62,
          24000,
          20,
          13,
          11,
          13,
          26,
          14,
          402,
          930,
          410,
          7,
          341,
          12,
          7,
          24,
          11,
          30,
          461,
          51,
          25,
          139,
          8,
          21,
          13,
          11,
          663,
          28,
          11,
          10,
          8,
          19,
          5,
          22,
          5,
          12,
          5,
          12,
          85,
          5,
          8,
          31,
          629,
          667,
          35000,
          305,
          14000,
          24000,
          30,
          278,
          25,
          171000,
          41,
          8,
          16,
          7,
          98,
          95,
          21,
          10,
          9,
          6,
          8,
          420,
          8,
          24,
          7,
          202,
          94,
          17,
          11,
          19,
          28,
          23,
          9,
          565,
          9,
          11,
          40,
          61,
          7,
          694,
          238,
          355,
          13,
          5,
          7,
          7,
          5,
          18000,
          11,
          14000,
          203,
          74,
          410,
          96,
          9,
          8,
          85,
          6,
          5,
          16000,
          24,
          242,
          16,
          14,
          7,
          9,
          9,
          54,
          10,
          5,
          11,
          57,
          37,
          15,
          8,
          8,
          733,
          626,
          8,
          9,
          16,
          14,
          5,
          815,
          7,
          17,
          5,
          5,
          41,
          83,
          26,
          27,
          293,
          210,
          6,
          12000,
          19,
          71,
          5,
          34,
          12,
          47,
          10,
          12,
          53,
          5,
          6,
          42,
          251,
          37,
          32,
          9,
          11,
          11,
          48,
          13,
          126,
          5,
          37,
          14,
          6,
          5,
          12,
          5,
          646,
          10,
          5,
          5,
          69000,
          123,
          43,
          23,
          178,
          32,
          30,
          10,
          13,
          91,
          34,
          16,
          29,
          8,
          14,
          8,
          102000,
          36,
          18,
          60,
          140,
          12,
          231,
          13,
          46,
          5,
          9,
          16,
          339,
          5,
          5,
          6,
          6,
          11,
          26,
          5,
          9,
          14,
          15,
          7,
          5,
          20,
          738,
          6,
          49,
          35,
          24,
          42,
          116,
          5,
          21,
          11,
          36,
          16,
          6,
          7,
          59,
          5,
          28,
          11,
          7,
          6,
          10,
          5,
          5,
          702,
          407,
          18,
          128,
          8,
          44,
          77,
          225,
          412,
          58,
          12,
          251,
          10,
          11,
          5,
          120000,
          12,
          9,
          37,
          35,
          5,
          7,
          40,
          25,
          7,
          6,
          100,
          6,
          58,
          20,
          184,
          306,
          6,
          45,
          18,
          16,
          126,
          6,
          22,
          13,
          22,
          11,
          12,
          6,
          5,
          54,
          582,
          28,
          253,
          9,
          11,
          26,
          41,
          14,
          20,
          12,
          6,
          10,
          24,
          44,
          5,
          21,
          23,
          23,
          9,
          19,
          32000,
          8,
          13,
          11,
          31,
          23,
          16,
          28,
          6,
          19,
          6,
          34,
          74,
          16,
          8,
          10,
          13,
          39,
          6,
          22,
          25,
          22,
          181,
          6,
          107,
          7,
          10,
          8,
          6,
          96000,
          76,
          31,
          20,
          257,
          26,
          984,
          44,
          14,
          17,
          34,
          13,
          28,
          12,
          8,
          6,
          7,
          12,
          8,
          9,
          8,
          71,
          14,
          32,
          17,
          8,
          9,
          9,
          12,
          20,
          30,
          6,
          6,
          13,
          27,
          7,
          18,
          9,
          12,
          6,
          10,
          11,
          14,
          67,
          29,
          13,
          23,
          6,
          5,
          18,
          11,
          118,
          8,
          17,
          33,
          21000,
          6,
          8,
          8,
          8,
          10,
          29,
          23,
          19,
          20,
          9,
          5,
          132,
          16,
          6,
          877,
          19,
          7,
          15,
          19,
          12,
          6,
          239,
          28,
          39,
          9,
          7,
          314,
          25,
          61,
          12000,
          6,
          8,
          13,
          10,
          6,
          23,
          13,
          8,
          6,
          161,
          18,
          63,
          9,
          37,
          6,
          6,
          7,
          10,
          7,
          6,
          9,
          14,
          30,
          127,
          105,
          614,
          36,
          52,
          7,
          123,
          22
         ]
        }
       ],
       "layout": {
        "template": {
         "data": {
          "bar": [
           {
            "error_x": {
             "color": "#2a3f5f"
            },
            "error_y": {
             "color": "#2a3f5f"
            },
            "marker": {
             "line": {
              "color": "#E5ECF6",
              "width": 0.5
             },
             "pattern": {
              "fillmode": "overlay",
              "size": 10,
              "solidity": 0.2
             }
            },
            "type": "bar"
           }
          ],
          "barpolar": [
           {
            "marker": {
             "line": {
              "color": "#E5ECF6",
              "width": 0.5
             },
             "pattern": {
              "fillmode": "overlay",
              "size": 10,
              "solidity": 0.2
             }
            },
            "type": "barpolar"
           }
          ],
          "carpet": [
           {
            "aaxis": {
             "endlinecolor": "#2a3f5f",
             "gridcolor": "white",
             "linecolor": "white",
             "minorgridcolor": "white",
             "startlinecolor": "#2a3f5f"
            },
            "baxis": {
             "endlinecolor": "#2a3f5f",
             "gridcolor": "white",
             "linecolor": "white",
             "minorgridcolor": "white",
             "startlinecolor": "#2a3f5f"
            },
            "type": "carpet"
           }
          ],
          "choropleth": [
           {
            "colorbar": {
             "outlinewidth": 0,
             "ticks": ""
            },
            "type": "choropleth"
           }
          ],
          "contour": [
           {
            "colorbar": {
             "outlinewidth": 0,
             "ticks": ""
            },
            "colorscale": [
             [
              0,
              "#0d0887"
             ],
             [
              0.1111111111111111,
              "#46039f"
             ],
             [
              0.2222222222222222,
              "#7201a8"
             ],
             [
              0.3333333333333333,
              "#9c179e"
             ],
             [
              0.4444444444444444,
              "#bd3786"
             ],
             [
              0.5555555555555556,
              "#d8576b"
             ],
             [
              0.6666666666666666,
              "#ed7953"
             ],
             [
              0.7777777777777778,
              "#fb9f3a"
             ],
             [
              0.8888888888888888,
              "#fdca26"
             ],
             [
              1,
              "#f0f921"
             ]
            ],
            "type": "contour"
           }
          ],
          "contourcarpet": [
           {
            "colorbar": {
             "outlinewidth": 0,
             "ticks": ""
            },
            "type": "contourcarpet"
           }
          ],
          "heatmap": [
           {
            "colorbar": {
             "outlinewidth": 0,
             "ticks": ""
            },
            "colorscale": [
             [
              0,
              "#0d0887"
             ],
             [
              0.1111111111111111,
              "#46039f"
             ],
             [
              0.2222222222222222,
              "#7201a8"
             ],
             [
              0.3333333333333333,
              "#9c179e"
             ],
             [
              0.4444444444444444,
              "#bd3786"
             ],
             [
              0.5555555555555556,
              "#d8576b"
             ],
             [
              0.6666666666666666,
              "#ed7953"
             ],
             [
              0.7777777777777778,
              "#fb9f3a"
             ],
             [
              0.8888888888888888,
              "#fdca26"
             ],
             [
              1,
              "#f0f921"
             ]
            ],
            "type": "heatmap"
           }
          ],
          "heatmapgl": [
           {
            "colorbar": {
             "outlinewidth": 0,
             "ticks": ""
            },
            "colorscale": [
             [
              0,
              "#0d0887"
             ],
             [
              0.1111111111111111,
              "#46039f"
             ],
             [
              0.2222222222222222,
              "#7201a8"
             ],
             [
              0.3333333333333333,
              "#9c179e"
             ],
             [
              0.4444444444444444,
              "#bd3786"
             ],
             [
              0.5555555555555556,
              "#d8576b"
             ],
             [
              0.6666666666666666,
              "#ed7953"
             ],
             [
              0.7777777777777778,
              "#fb9f3a"
             ],
             [
              0.8888888888888888,
              "#fdca26"
             ],
             [
              1,
              "#f0f921"
             ]
            ],
            "type": "heatmapgl"
           }
          ],
          "histogram": [
           {
            "marker": {
             "pattern": {
              "fillmode": "overlay",
              "size": 10,
              "solidity": 0.2
             }
            },
            "type": "histogram"
           }
          ],
          "histogram2d": [
           {
            "colorbar": {
             "outlinewidth": 0,
             "ticks": ""
            },
            "colorscale": [
             [
              0,
              "#0d0887"
             ],
             [
              0.1111111111111111,
              "#46039f"
             ],
             [
              0.2222222222222222,
              "#7201a8"
             ],
             [
              0.3333333333333333,
              "#9c179e"
             ],
             [
              0.4444444444444444,
              "#bd3786"
             ],
             [
              0.5555555555555556,
              "#d8576b"
             ],
             [
              0.6666666666666666,
              "#ed7953"
             ],
             [
              0.7777777777777778,
              "#fb9f3a"
             ],
             [
              0.8888888888888888,
              "#fdca26"
             ],
             [
              1,
              "#f0f921"
             ]
            ],
            "type": "histogram2d"
           }
          ],
          "histogram2dcontour": [
           {
            "colorbar": {
             "outlinewidth": 0,
             "ticks": ""
            },
            "colorscale": [
             [
              0,
              "#0d0887"
             ],
             [
              0.1111111111111111,
              "#46039f"
             ],
             [
              0.2222222222222222,
              "#7201a8"
             ],
             [
              0.3333333333333333,
              "#9c179e"
             ],
             [
              0.4444444444444444,
              "#bd3786"
             ],
             [
              0.5555555555555556,
              "#d8576b"
             ],
             [
              0.6666666666666666,
              "#ed7953"
             ],
             [
              0.7777777777777778,
              "#fb9f3a"
             ],
             [
              0.8888888888888888,
              "#fdca26"
             ],
             [
              1,
              "#f0f921"
             ]
            ],
            "type": "histogram2dcontour"
           }
          ],
          "mesh3d": [
           {
            "colorbar": {
             "outlinewidth": 0,
             "ticks": ""
            },
            "type": "mesh3d"
           }
          ],
          "parcoords": [
           {
            "line": {
             "colorbar": {
              "outlinewidth": 0,
              "ticks": ""
             }
            },
            "type": "parcoords"
           }
          ],
          "pie": [
           {
            "automargin": true,
            "type": "pie"
           }
          ],
          "scatter": [
           {
            "fillpattern": {
             "fillmode": "overlay",
             "size": 10,
             "solidity": 0.2
            },
            "type": "scatter"
           }
          ],
          "scatter3d": [
           {
            "line": {
             "colorbar": {
              "outlinewidth": 0,
              "ticks": ""
             }
            },
            "marker": {
             "colorbar": {
              "outlinewidth": 0,
              "ticks": ""
             }
            },
            "type": "scatter3d"
           }
          ],
          "scattercarpet": [
           {
            "marker": {
             "colorbar": {
              "outlinewidth": 0,
              "ticks": ""
             }
            },
            "type": "scattercarpet"
           }
          ],
          "scattergeo": [
           {
            "marker": {
             "colorbar": {
              "outlinewidth": 0,
              "ticks": ""
             }
            },
            "type": "scattergeo"
           }
          ],
          "scattergl": [
           {
            "marker": {
             "colorbar": {
              "outlinewidth": 0,
              "ticks": ""
             }
            },
            "type": "scattergl"
           }
          ],
          "scattermapbox": [
           {
            "marker": {
             "colorbar": {
              "outlinewidth": 0,
              "ticks": ""
             }
            },
            "type": "scattermapbox"
           }
          ],
          "scatterpolar": [
           {
            "marker": {
             "colorbar": {
              "outlinewidth": 0,
              "ticks": ""
             }
            },
            "type": "scatterpolar"
           }
          ],
          "scatterpolargl": [
           {
            "marker": {
             "colorbar": {
              "outlinewidth": 0,
              "ticks": ""
             }
            },
            "type": "scatterpolargl"
           }
          ],
          "scatterternary": [
           {
            "marker": {
             "colorbar": {
              "outlinewidth": 0,
              "ticks": ""
             }
            },
            "type": "scatterternary"
           }
          ],
          "surface": [
           {
            "colorbar": {
             "outlinewidth": 0,
             "ticks": ""
            },
            "colorscale": [
             [
              0,
              "#0d0887"
             ],
             [
              0.1111111111111111,
              "#46039f"
             ],
             [
              0.2222222222222222,
              "#7201a8"
             ],
             [
              0.3333333333333333,
              "#9c179e"
             ],
             [
              0.4444444444444444,
              "#bd3786"
             ],
             [
              0.5555555555555556,
              "#d8576b"
             ],
             [
              0.6666666666666666,
              "#ed7953"
             ],
             [
              0.7777777777777778,
              "#fb9f3a"
             ],
             [
              0.8888888888888888,
              "#fdca26"
             ],
             [
              1,
              "#f0f921"
             ]
            ],
            "type": "surface"
           }
          ],
          "table": [
           {
            "cells": {
             "fill": {
              "color": "#EBF0F8"
             },
             "line": {
              "color": "white"
             }
            },
            "header": {
             "fill": {
              "color": "#C8D4E3"
             },
             "line": {
              "color": "white"
             }
            },
            "type": "table"
           }
          ]
         },
         "layout": {
          "annotationdefaults": {
           "arrowcolor": "#2a3f5f",
           "arrowhead": 0,
           "arrowwidth": 1
          },
          "autotypenumbers": "strict",
          "coloraxis": {
           "colorbar": {
            "outlinewidth": 0,
            "ticks": ""
           }
          },
          "colorscale": {
           "diverging": [
            [
             0,
             "#8e0152"
            ],
            [
             0.1,
             "#c51b7d"
            ],
            [
             0.2,
             "#de77ae"
            ],
            [
             0.3,
             "#f1b6da"
            ],
            [
             0.4,
             "#fde0ef"
            ],
            [
             0.5,
             "#f7f7f7"
            ],
            [
             0.6,
             "#e6f5d0"
            ],
            [
             0.7,
             "#b8e186"
            ],
            [
             0.8,
             "#7fbc41"
            ],
            [
             0.9,
             "#4d9221"
            ],
            [
             1,
             "#276419"
            ]
           ],
           "sequential": [
            [
             0,
             "#0d0887"
            ],
            [
             0.1111111111111111,
             "#46039f"
            ],
            [
             0.2222222222222222,
             "#7201a8"
            ],
            [
             0.3333333333333333,
             "#9c179e"
            ],
            [
             0.4444444444444444,
             "#bd3786"
            ],
            [
             0.5555555555555556,
             "#d8576b"
            ],
            [
             0.6666666666666666,
             "#ed7953"
            ],
            [
             0.7777777777777778,
             "#fb9f3a"
            ],
            [
             0.8888888888888888,
             "#fdca26"
            ],
            [
             1,
             "#f0f921"
            ]
           ],
           "sequentialminus": [
            [
             0,
             "#0d0887"
            ],
            [
             0.1111111111111111,
             "#46039f"
            ],
            [
             0.2222222222222222,
             "#7201a8"
            ],
            [
             0.3333333333333333,
             "#9c179e"
            ],
            [
             0.4444444444444444,
             "#bd3786"
            ],
            [
             0.5555555555555556,
             "#d8576b"
            ],
            [
             0.6666666666666666,
             "#ed7953"
            ],
            [
             0.7777777777777778,
             "#fb9f3a"
            ],
            [
             0.8888888888888888,
             "#fdca26"
            ],
            [
             1,
             "#f0f921"
            ]
           ]
          },
          "colorway": [
           "#636efa",
           "#EF553B",
           "#00cc96",
           "#ab63fa",
           "#FFA15A",
           "#19d3f3",
           "#FF6692",
           "#B6E880",
           "#FF97FF",
           "#FECB52"
          ],
          "font": {
           "color": "#2a3f5f"
          },
          "geo": {
           "bgcolor": "white",
           "lakecolor": "white",
           "landcolor": "#E5ECF6",
           "showlakes": true,
           "showland": true,
           "subunitcolor": "white"
          },
          "hoverlabel": {
           "align": "left"
          },
          "hovermode": "closest",
          "mapbox": {
           "style": "light"
          },
          "paper_bgcolor": "white",
          "plot_bgcolor": "#E5ECF6",
          "polar": {
           "angularaxis": {
            "gridcolor": "white",
            "linecolor": "white",
            "ticks": ""
           },
           "bgcolor": "#E5ECF6",
           "radialaxis": {
            "gridcolor": "white",
            "linecolor": "white",
            "ticks": ""
           }
          },
          "scene": {
           "xaxis": {
            "backgroundcolor": "#E5ECF6",
            "gridcolor": "white",
            "gridwidth": 2,
            "linecolor": "white",
            "showbackground": true,
            "ticks": "",
            "zerolinecolor": "white"
           },
           "yaxis": {
            "backgroundcolor": "#E5ECF6",
            "gridcolor": "white",
            "gridwidth": 2,
            "linecolor": "white",
            "showbackground": true,
            "ticks": "",
            "zerolinecolor": "white"
           },
           "zaxis": {
            "backgroundcolor": "#E5ECF6",
            "gridcolor": "white",
            "gridwidth": 2,
            "linecolor": "white",
            "showbackground": true,
            "ticks": "",
            "zerolinecolor": "white"
           }
          },
          "shapedefaults": {
           "line": {
            "color": "#2a3f5f"
           }
          },
          "ternary": {
           "aaxis": {
            "gridcolor": "white",
            "linecolor": "white",
            "ticks": ""
           },
           "baxis": {
            "gridcolor": "white",
            "linecolor": "white",
            "ticks": ""
           },
           "bgcolor": "#E5ECF6",
           "caxis": {
            "gridcolor": "white",
            "linecolor": "white",
            "ticks": ""
           }
          },
          "title": {
           "x": 0.05
          },
          "xaxis": {
           "automargin": true,
           "gridcolor": "white",
           "linecolor": "white",
           "ticks": "",
           "title": {
            "standoff": 15
           },
           "zerolinecolor": "white",
           "zerolinewidth": 2
          },
          "yaxis": {
           "automargin": true,
           "gridcolor": "white",
           "linecolor": "white",
           "ticks": "",
           "title": {
            "standoff": 15
           },
           "zerolinecolor": "white",
           "zerolinewidth": 2
          }
         }
        },
        "title": {
         "text": "<b>Dashcam Price vs Quantity Sold on Lazada</b>"
        },
        "xaxis": {
         "title": {
          "text": "Price (RM)"
         }
        },
        "yaxis": {
         "title": {
          "text": "Quantity Sold"
         }
        }
       }
      }
     },
     "metadata": {},
     "output_type": "display_data"
    }
   ],
   "source": [
    "# Checking correlation between price and sales\n",
    "fig3 = go.Figure()\n",
    "fig3.add_trace(go.Scatter(x=df_800['original_price_RM'], y=df_800['quantity_sold'], mode='markers'))\n",
    "fig3.update_layout(title_text='<b>Dashcam Price vs Quantity Sold on Lazada</b>')\n",
    "fig3.update_xaxes(title_text=\"Price (RM)\")\n",
    "fig3.update_yaxes(title_text=\"Quantity Sold\")\n",
    "\n",
    "fig3.show()"
   ]
  },
  {
   "cell_type": "code",
   "execution_count": 27,
   "metadata": {},
   "outputs": [
    {
     "data": {
      "application/vnd.plotly.v1+json": {
       "config": {
        "plotlyServerURL": "https://plot.ly"
       },
       "data": [
        {
         "mode": "markers",
         "type": "scatter",
         "x": [
          50,
          43,
          43,
          60,
          58,
          57,
          19,
          53,
          40,
          76,
          10,
          52,
          43,
          52,
          13,
          27,
          55,
          60,
          50,
          42,
          8,
          73,
          67,
          19,
          52,
          52,
          66,
          67,
          19,
          57,
          6,
          51,
          8,
          27,
          38,
          88,
          40,
          77,
          20,
          5,
          54,
          75,
          42,
          13,
          35,
          45,
          79,
          79,
          22,
          72,
          22,
          14,
          49,
          13,
          42,
          65,
          56,
          54,
          55,
          33,
          53,
          19,
          70,
          77,
          39,
          77,
          31,
          60,
          49,
          23,
          14,
          53,
          38,
          51,
          24,
          50,
          48,
          56,
          51,
          48,
          10,
          54,
          37,
          53,
          45,
          30,
          38,
          52,
          20,
          50,
          55,
          26,
          8,
          64,
          58,
          21,
          51,
          35,
          56,
          58,
          39,
          72,
          10,
          60,
          45,
          53,
          50,
          55,
          42,
          5,
          50,
          3,
          22,
          50,
          66,
          49,
          50,
          31,
          48,
          31,
          67,
          19,
          21,
          64,
          59,
          42,
          33,
          67,
          54,
          50,
          45,
          5,
          46,
          65,
          55,
          53,
          38,
          34,
          80,
          50,
          51,
          31,
          17,
          67,
          34,
          76,
          27,
          34,
          45,
          21,
          32,
          20,
          57,
          53,
          36,
          50,
          54,
          50,
          35,
          36,
          55,
          49,
          20,
          45,
          78,
          75,
          55,
          71,
          46,
          53,
          56,
          32,
          77,
          23,
          17,
          13,
          58,
          27,
          27,
          31,
          32,
          6,
          50,
          20,
          48,
          46,
          15,
          50,
          59,
          53,
          55,
          44,
          29,
          29,
          55,
          46,
          15,
          47,
          14,
          58,
          72,
          47,
          60,
          50,
          63,
          77,
          17,
          25,
          17,
          51,
          41,
          59,
          36,
          34,
          77,
          38,
          78,
          38,
          46,
          53,
          50,
          59,
          45,
          50,
          35,
          17,
          55,
          55,
          36,
          47,
          50,
          50,
          58,
          21,
          51,
          60,
          43,
          62,
          13,
          78,
          10,
          67,
          50,
          20,
          62,
          17,
          70,
          70,
          45,
          62,
          49,
          11,
          15,
          41,
          57,
          30,
          30,
          32,
          78,
          44,
          3,
          7,
          54,
          57,
          5,
          28,
          62,
          29,
          38,
          43,
          46,
          66,
          51,
          75,
          52,
          50,
          58,
          45,
          3,
          17,
          14,
          54,
          27,
          40,
          44,
          52,
          73,
          70,
          54,
          53,
          46,
          57,
          47,
          28,
          64,
          15,
          55,
          36,
          51,
          41,
          53,
          17,
          30,
          46,
          52,
          50,
          53,
          64,
          39,
          45,
          30,
          16,
          43,
          30,
          64,
          56,
          32,
          27,
          50,
          42,
          78,
          15,
          64,
          36,
          9,
          18,
          1,
          33,
          25,
          64,
          48,
          13,
          67,
          19,
          17,
          50,
          18,
          40,
          21,
          35,
          47,
          47,
          56,
          32,
          54,
          59,
          64,
          13,
          62,
          37,
          70,
          57,
          46,
          69,
          11,
          64,
          62,
          66,
          3,
          67,
          67,
          42,
          35,
          74,
          60,
          49,
          53,
          55,
          69,
          29,
          50,
          40,
          47,
          50,
          34,
          12,
          31,
          51,
          64,
          50,
          4,
          67,
          57,
          50,
          18,
          28,
          39,
          38,
          46,
          14,
          50,
          50,
          45,
          74,
          27,
          31,
          26,
          34,
          50,
          48,
          13,
          21,
          44,
          42,
          64,
          55,
          60,
          40,
          33,
          45,
          12,
          42,
          22,
          64,
          35,
          41,
          11,
          17,
          29,
          27,
          42,
          52,
          67,
          58,
          51,
          34,
          45,
          24,
          42,
          21,
          14,
          15,
          49,
          28,
          30,
          31,
          48,
          39,
          29,
          5,
          25,
          37,
          20,
          28,
          66,
          50,
          11,
          70,
          67,
          27,
          67,
          38,
          36,
          20,
          5,
          44,
          34,
          26,
          41,
          23,
          4,
          26,
          9,
          13,
          48,
          64,
          48,
          36,
          6,
          30,
          49,
          27,
          35,
          7,
          29,
          18,
          68,
          2,
          21,
          32,
          40,
          3,
          19,
          51,
          52,
          67,
          45,
          40,
          1,
          25,
          12,
          37,
          38,
          30,
          56,
          19,
          50,
          61,
          4,
          49,
          58,
          73,
          3,
          19,
          66,
          32,
          60,
          38,
          31,
          60,
          73,
          55,
          41,
          28,
          59,
          55,
          23,
          51,
          53,
          50,
          51,
          66,
          32,
          17,
          48,
          37,
          35,
          17,
          27,
          48,
          28,
          42,
          41,
          53,
          44,
          19,
          60,
          44,
          50,
          50,
          51,
          45,
          40,
          40,
          23,
          43,
          57,
          38,
          27,
          32,
          14,
          23,
          30,
          3,
          50,
          45,
          22,
          31,
          46,
          33,
          55,
          42,
          41,
          49,
          50,
          39,
          55,
          46,
          3,
          56,
          68,
          25,
          40,
          77,
          25,
          10,
          17,
          38,
          47,
          38,
          70,
          38,
          25,
          4,
          44,
          35,
          50,
          50,
          31,
          51,
          55,
          21,
          31,
          47,
          41,
          60,
          35,
          50,
          10,
          50,
          41,
          25,
          31,
          50,
          55,
          26,
          21,
          40,
          44,
          56,
          37,
          64,
          61,
          68,
          50,
          53,
          33,
          13,
          30,
          67,
          20,
          33,
          56,
          50,
          9,
          41,
          14,
          36,
          30,
          61,
          37,
          48,
          48,
          67,
          5,
          55,
          30,
          35,
          28,
          50,
          66,
          50,
          48,
          42,
          48,
          36,
          29,
          17,
          15,
          72,
          50,
          49,
          70,
          5,
          45,
          36,
          22,
          56,
          41,
          51,
          44,
          50,
          16,
          22,
          57,
          57,
          25,
          21,
          30,
          36,
          43,
          51,
          34,
          40,
          27,
          40,
          19,
          49,
          51,
          33,
          38,
          50,
          55,
          32,
          50,
          54,
          53,
          59,
          22,
          26,
          47,
          35,
          48,
          47,
          53,
          19,
          50,
          27,
          34,
          32,
          58,
          4,
          63,
          32,
          8,
          42,
          35,
          36,
          45,
          30,
          42,
          62,
          27,
          67,
          47,
          20,
          13,
          19,
          51,
          26,
          33,
          30,
          42,
          37,
          36,
          20,
          8,
          50,
          48,
          51,
          47,
          29,
          38,
          43,
          25,
          40,
          32,
          33,
          11,
          1,
          22,
          47,
          53,
          44,
          24,
          41,
          42,
          42,
          55,
          38,
          18,
          33,
          16,
          50,
          51,
          17,
          29,
          14,
          37,
          29,
          61,
          21,
          45,
          20,
          5,
          67,
          14,
          48,
          58,
          3,
          12,
          36,
          41,
          27,
          50,
          4,
          9,
          50,
          33,
          60,
          68,
          11,
          4,
          3,
          7,
          36,
          24,
          13,
          57,
          12,
          3,
          42,
          32,
          5,
          50,
          58,
          29,
          8,
          33,
          23
         ],
         "y": [
          228,
          323,
          341,
          31000,
          60000,
          21000,
          16000,
          647,
          323,
          15,
          33,
          164000,
          205000,
          14,
          38,
          817,
          174000,
          339,
          156000,
          78,
          13,
          60,
          14000,
          125,
          38000,
          10000,
          207,
          7,
          22000,
          33,
          32000,
          135,
          655,
          6,
          19,
          62000,
          466,
          479,
          846,
          46000,
          18,
          205000,
          65000,
          110,
          148,
          243,
          109,
          47,
          158,
          81,
          20000,
          51,
          38,
          323,
          51,
          17000,
          77000,
          59,
          171000,
          97,
          194,
          13,
          272,
          179,
          176,
          21,
          326,
          146,
          15000,
          297,
          280,
          11000,
          19000,
          15000,
          67,
          450,
          20000,
          147000,
          24,
          110,
          26,
          6,
          22,
          21000,
          27,
          59,
          28,
          180,
          30000,
          192,
          560,
          33,
          117,
          23000,
          11,
          12,
          39,
          14,
          113,
          118,
          39,
          15000,
          15,
          55,
          20,
          21000,
          5,
          10,
          237,
          160,
          32000,
          19,
          48,
          68,
          33000,
          13,
          542,
          10000,
          320,
          10,
          14000,
          66,
          14,
          228,
          12000,
          449,
          17,
          36,
          8,
          794,
          66,
          48,
          439,
          13,
          12,
          29,
          52000,
          65,
          41000,
          563,
          18,
          256,
          10,
          6,
          38,
          304,
          121,
          78,
          12,
          59,
          25,
          10,
          41,
          12,
          41,
          85,
          85,
          227,
          88,
          32000,
          33,
          17000,
          441,
          228,
          418,
          13000,
          26,
          9,
          58,
          5,
          164,
          6,
          12,
          13000,
          14000,
          22000,
          18,
          24000,
          6,
          372,
          396,
          279,
          106,
          13,
          97,
          98,
          348,
          181,
          416,
          10,
          30,
          151,
          21,
          151,
          248,
          34,
          197,
          74000,
          124,
          49,
          203,
          100,
          17,
          51,
          34000,
          88,
          26,
          124,
          188,
          11,
          45000,
          318,
          12,
          6,
          63000,
          27,
          123,
          16,
          298,
          19,
          122,
          74,
          77,
          51,
          18,
          98,
          45,
          10,
          149,
          291,
          261,
          63,
          283,
          38,
          5,
          12,
          11,
          157000,
          240000,
          15,
          140,
          5,
          8,
          11,
          270,
          798,
          288,
          10,
          225,
          67,
          129,
          21,
          275,
          569,
          17000,
          950,
          16,
          37,
          10,
          92,
          11,
          16,
          343,
          39,
          83000,
          92,
          10,
          49,
          914,
          7,
          6,
          595,
          118,
          8,
          982,
          10,
          119,
          16,
          14,
          5,
          22,
          11,
          6,
          90,
          110,
          7,
          76,
          27,
          537,
          39,
          19,
          6,
          377,
          901,
          6,
          885,
          248,
          19,
          6,
          30,
          14,
          12,
          368,
          12,
          12,
          8,
          351,
          16,
          5,
          18,
          15,
          18,
          6,
          39,
          15,
          116,
          28,
          15,
          12,
          11,
          38,
          13,
          34000,
          710,
          233,
          20,
          148,
          39,
          19,
          11000,
          282,
          20,
          375,
          6,
          5,
          188,
          6,
          15,
          601,
          93,
          307,
          10,
          807,
          12,
          136000,
          6,
          17000,
          58,
          27,
          61,
          58,
          40,
          46,
          62,
          24000,
          20,
          13,
          11,
          13,
          26,
          14,
          402,
          930,
          410,
          7,
          341,
          12,
          7,
          24,
          11,
          30,
          461,
          51,
          25,
          139,
          8,
          21,
          13,
          11,
          663,
          28,
          11,
          10,
          8,
          19,
          5,
          22,
          5,
          12,
          5,
          12,
          85,
          5,
          8,
          31,
          629,
          667,
          35000,
          305,
          14000,
          24000,
          30,
          278,
          25,
          171000,
          41,
          8,
          16,
          7,
          98,
          95,
          21,
          10,
          9,
          6,
          8,
          420,
          8,
          24,
          7,
          202,
          94,
          17,
          11,
          19,
          28,
          23,
          9,
          565,
          9,
          11,
          40,
          61,
          7,
          694,
          238,
          355,
          13,
          5,
          7,
          7,
          5,
          18000,
          11,
          14000,
          203,
          74,
          410,
          96,
          9,
          8,
          85,
          6,
          5,
          16000,
          24,
          242,
          16,
          14,
          7,
          9,
          9,
          54,
          10,
          5,
          11,
          57,
          37,
          15,
          8,
          8,
          733,
          626,
          8,
          9,
          16,
          14,
          5,
          815,
          7,
          17,
          5,
          5,
          41,
          83,
          26,
          27,
          293,
          210,
          6,
          12000,
          19,
          71,
          5,
          34,
          12,
          47,
          10,
          12,
          53,
          5,
          6,
          42,
          251,
          37,
          32,
          9,
          11,
          11,
          48,
          13,
          126,
          5,
          37,
          14,
          6,
          5,
          12,
          5,
          646,
          10,
          5,
          5,
          69000,
          123,
          43,
          23,
          178,
          32,
          30,
          10,
          13,
          91,
          34,
          16,
          29,
          8,
          14,
          8,
          102000,
          36,
          18,
          60,
          140,
          12,
          231,
          13,
          46,
          5,
          9,
          16,
          339,
          5,
          5,
          6,
          6,
          11,
          26,
          5,
          9,
          14,
          15,
          7,
          5,
          20,
          738,
          6,
          49,
          35,
          24,
          42,
          116,
          5,
          21,
          11,
          36,
          16,
          6,
          7,
          59,
          5,
          28,
          11,
          7,
          6,
          10,
          5,
          5,
          702,
          407,
          18,
          128,
          8,
          44,
          77,
          225,
          412,
          58,
          12,
          251,
          10,
          11,
          5,
          120000,
          12,
          9,
          37,
          35,
          5,
          7,
          40,
          25,
          7,
          6,
          100,
          6,
          58,
          20,
          184,
          306,
          6,
          45,
          18,
          16,
          126,
          6,
          22,
          13,
          22,
          11,
          12,
          6,
          5,
          54,
          582,
          28,
          253,
          9,
          11,
          26,
          41,
          14,
          20,
          12,
          6,
          10,
          24,
          44,
          5,
          21,
          23,
          23,
          9,
          19,
          32000,
          8,
          13,
          11,
          31,
          23,
          16,
          28,
          6,
          19,
          6,
          34,
          74,
          16,
          8,
          10,
          13,
          39,
          6,
          22,
          25,
          22,
          181,
          6,
          107,
          7,
          10,
          8,
          6,
          96000,
          76,
          31,
          20,
          257,
          26,
          984,
          44,
          14,
          17,
          34,
          13,
          28,
          12,
          8,
          6,
          7,
          12,
          8,
          9,
          8,
          71,
          14,
          32,
          17,
          8,
          9,
          9,
          12,
          20,
          30,
          6,
          6,
          13,
          27,
          7,
          18,
          9,
          12,
          6,
          10,
          11,
          14,
          67,
          29,
          13,
          23,
          6,
          5,
          18,
          11,
          118,
          8,
          17,
          33,
          21000,
          6,
          8,
          8,
          8,
          10,
          29,
          23,
          19,
          20,
          9,
          5,
          132,
          16,
          6,
          877,
          19,
          7,
          15,
          19,
          12,
          6,
          239,
          28,
          39,
          9,
          7,
          314,
          25,
          61,
          12000,
          6,
          8,
          13,
          10,
          6,
          23,
          13,
          8,
          6,
          161,
          18,
          63,
          9,
          37,
          6,
          6,
          7,
          10,
          7,
          6,
          9,
          14,
          30,
          127,
          105,
          614,
          36,
          52,
          7,
          123,
          22
         ]
        }
       ],
       "layout": {
        "template": {
         "data": {
          "bar": [
           {
            "error_x": {
             "color": "#2a3f5f"
            },
            "error_y": {
             "color": "#2a3f5f"
            },
            "marker": {
             "line": {
              "color": "#E5ECF6",
              "width": 0.5
             },
             "pattern": {
              "fillmode": "overlay",
              "size": 10,
              "solidity": 0.2
             }
            },
            "type": "bar"
           }
          ],
          "barpolar": [
           {
            "marker": {
             "line": {
              "color": "#E5ECF6",
              "width": 0.5
             },
             "pattern": {
              "fillmode": "overlay",
              "size": 10,
              "solidity": 0.2
             }
            },
            "type": "barpolar"
           }
          ],
          "carpet": [
           {
            "aaxis": {
             "endlinecolor": "#2a3f5f",
             "gridcolor": "white",
             "linecolor": "white",
             "minorgridcolor": "white",
             "startlinecolor": "#2a3f5f"
            },
            "baxis": {
             "endlinecolor": "#2a3f5f",
             "gridcolor": "white",
             "linecolor": "white",
             "minorgridcolor": "white",
             "startlinecolor": "#2a3f5f"
            },
            "type": "carpet"
           }
          ],
          "choropleth": [
           {
            "colorbar": {
             "outlinewidth": 0,
             "ticks": ""
            },
            "type": "choropleth"
           }
          ],
          "contour": [
           {
            "colorbar": {
             "outlinewidth": 0,
             "ticks": ""
            },
            "colorscale": [
             [
              0,
              "#0d0887"
             ],
             [
              0.1111111111111111,
              "#46039f"
             ],
             [
              0.2222222222222222,
              "#7201a8"
             ],
             [
              0.3333333333333333,
              "#9c179e"
             ],
             [
              0.4444444444444444,
              "#bd3786"
             ],
             [
              0.5555555555555556,
              "#d8576b"
             ],
             [
              0.6666666666666666,
              "#ed7953"
             ],
             [
              0.7777777777777778,
              "#fb9f3a"
             ],
             [
              0.8888888888888888,
              "#fdca26"
             ],
             [
              1,
              "#f0f921"
             ]
            ],
            "type": "contour"
           }
          ],
          "contourcarpet": [
           {
            "colorbar": {
             "outlinewidth": 0,
             "ticks": ""
            },
            "type": "contourcarpet"
           }
          ],
          "heatmap": [
           {
            "colorbar": {
             "outlinewidth": 0,
             "ticks": ""
            },
            "colorscale": [
             [
              0,
              "#0d0887"
             ],
             [
              0.1111111111111111,
              "#46039f"
             ],
             [
              0.2222222222222222,
              "#7201a8"
             ],
             [
              0.3333333333333333,
              "#9c179e"
             ],
             [
              0.4444444444444444,
              "#bd3786"
             ],
             [
              0.5555555555555556,
              "#d8576b"
             ],
             [
              0.6666666666666666,
              "#ed7953"
             ],
             [
              0.7777777777777778,
              "#fb9f3a"
             ],
             [
              0.8888888888888888,
              "#fdca26"
             ],
             [
              1,
              "#f0f921"
             ]
            ],
            "type": "heatmap"
           }
          ],
          "heatmapgl": [
           {
            "colorbar": {
             "outlinewidth": 0,
             "ticks": ""
            },
            "colorscale": [
             [
              0,
              "#0d0887"
             ],
             [
              0.1111111111111111,
              "#46039f"
             ],
             [
              0.2222222222222222,
              "#7201a8"
             ],
             [
              0.3333333333333333,
              "#9c179e"
             ],
             [
              0.4444444444444444,
              "#bd3786"
             ],
             [
              0.5555555555555556,
              "#d8576b"
             ],
             [
              0.6666666666666666,
              "#ed7953"
             ],
             [
              0.7777777777777778,
              "#fb9f3a"
             ],
             [
              0.8888888888888888,
              "#fdca26"
             ],
             [
              1,
              "#f0f921"
             ]
            ],
            "type": "heatmapgl"
           }
          ],
          "histogram": [
           {
            "marker": {
             "pattern": {
              "fillmode": "overlay",
              "size": 10,
              "solidity": 0.2
             }
            },
            "type": "histogram"
           }
          ],
          "histogram2d": [
           {
            "colorbar": {
             "outlinewidth": 0,
             "ticks": ""
            },
            "colorscale": [
             [
              0,
              "#0d0887"
             ],
             [
              0.1111111111111111,
              "#46039f"
             ],
             [
              0.2222222222222222,
              "#7201a8"
             ],
             [
              0.3333333333333333,
              "#9c179e"
             ],
             [
              0.4444444444444444,
              "#bd3786"
             ],
             [
              0.5555555555555556,
              "#d8576b"
             ],
             [
              0.6666666666666666,
              "#ed7953"
             ],
             [
              0.7777777777777778,
              "#fb9f3a"
             ],
             [
              0.8888888888888888,
              "#fdca26"
             ],
             [
              1,
              "#f0f921"
             ]
            ],
            "type": "histogram2d"
           }
          ],
          "histogram2dcontour": [
           {
            "colorbar": {
             "outlinewidth": 0,
             "ticks": ""
            },
            "colorscale": [
             [
              0,
              "#0d0887"
             ],
             [
              0.1111111111111111,
              "#46039f"
             ],
             [
              0.2222222222222222,
              "#7201a8"
             ],
             [
              0.3333333333333333,
              "#9c179e"
             ],
             [
              0.4444444444444444,
              "#bd3786"
             ],
             [
              0.5555555555555556,
              "#d8576b"
             ],
             [
              0.6666666666666666,
              "#ed7953"
             ],
             [
              0.7777777777777778,
              "#fb9f3a"
             ],
             [
              0.8888888888888888,
              "#fdca26"
             ],
             [
              1,
              "#f0f921"
             ]
            ],
            "type": "histogram2dcontour"
           }
          ],
          "mesh3d": [
           {
            "colorbar": {
             "outlinewidth": 0,
             "ticks": ""
            },
            "type": "mesh3d"
           }
          ],
          "parcoords": [
           {
            "line": {
             "colorbar": {
              "outlinewidth": 0,
              "ticks": ""
             }
            },
            "type": "parcoords"
           }
          ],
          "pie": [
           {
            "automargin": true,
            "type": "pie"
           }
          ],
          "scatter": [
           {
            "fillpattern": {
             "fillmode": "overlay",
             "size": 10,
             "solidity": 0.2
            },
            "type": "scatter"
           }
          ],
          "scatter3d": [
           {
            "line": {
             "colorbar": {
              "outlinewidth": 0,
              "ticks": ""
             }
            },
            "marker": {
             "colorbar": {
              "outlinewidth": 0,
              "ticks": ""
             }
            },
            "type": "scatter3d"
           }
          ],
          "scattercarpet": [
           {
            "marker": {
             "colorbar": {
              "outlinewidth": 0,
              "ticks": ""
             }
            },
            "type": "scattercarpet"
           }
          ],
          "scattergeo": [
           {
            "marker": {
             "colorbar": {
              "outlinewidth": 0,
              "ticks": ""
             }
            },
            "type": "scattergeo"
           }
          ],
          "scattergl": [
           {
            "marker": {
             "colorbar": {
              "outlinewidth": 0,
              "ticks": ""
             }
            },
            "type": "scattergl"
           }
          ],
          "scattermapbox": [
           {
            "marker": {
             "colorbar": {
              "outlinewidth": 0,
              "ticks": ""
             }
            },
            "type": "scattermapbox"
           }
          ],
          "scatterpolar": [
           {
            "marker": {
             "colorbar": {
              "outlinewidth": 0,
              "ticks": ""
             }
            },
            "type": "scatterpolar"
           }
          ],
          "scatterpolargl": [
           {
            "marker": {
             "colorbar": {
              "outlinewidth": 0,
              "ticks": ""
             }
            },
            "type": "scatterpolargl"
           }
          ],
          "scatterternary": [
           {
            "marker": {
             "colorbar": {
              "outlinewidth": 0,
              "ticks": ""
             }
            },
            "type": "scatterternary"
           }
          ],
          "surface": [
           {
            "colorbar": {
             "outlinewidth": 0,
             "ticks": ""
            },
            "colorscale": [
             [
              0,
              "#0d0887"
             ],
             [
              0.1111111111111111,
              "#46039f"
             ],
             [
              0.2222222222222222,
              "#7201a8"
             ],
             [
              0.3333333333333333,
              "#9c179e"
             ],
             [
              0.4444444444444444,
              "#bd3786"
             ],
             [
              0.5555555555555556,
              "#d8576b"
             ],
             [
              0.6666666666666666,
              "#ed7953"
             ],
             [
              0.7777777777777778,
              "#fb9f3a"
             ],
             [
              0.8888888888888888,
              "#fdca26"
             ],
             [
              1,
              "#f0f921"
             ]
            ],
            "type": "surface"
           }
          ],
          "table": [
           {
            "cells": {
             "fill": {
              "color": "#EBF0F8"
             },
             "line": {
              "color": "white"
             }
            },
            "header": {
             "fill": {
              "color": "#C8D4E3"
             },
             "line": {
              "color": "white"
             }
            },
            "type": "table"
           }
          ]
         },
         "layout": {
          "annotationdefaults": {
           "arrowcolor": "#2a3f5f",
           "arrowhead": 0,
           "arrowwidth": 1
          },
          "autotypenumbers": "strict",
          "coloraxis": {
           "colorbar": {
            "outlinewidth": 0,
            "ticks": ""
           }
          },
          "colorscale": {
           "diverging": [
            [
             0,
             "#8e0152"
            ],
            [
             0.1,
             "#c51b7d"
            ],
            [
             0.2,
             "#de77ae"
            ],
            [
             0.3,
             "#f1b6da"
            ],
            [
             0.4,
             "#fde0ef"
            ],
            [
             0.5,
             "#f7f7f7"
            ],
            [
             0.6,
             "#e6f5d0"
            ],
            [
             0.7,
             "#b8e186"
            ],
            [
             0.8,
             "#7fbc41"
            ],
            [
             0.9,
             "#4d9221"
            ],
            [
             1,
             "#276419"
            ]
           ],
           "sequential": [
            [
             0,
             "#0d0887"
            ],
            [
             0.1111111111111111,
             "#46039f"
            ],
            [
             0.2222222222222222,
             "#7201a8"
            ],
            [
             0.3333333333333333,
             "#9c179e"
            ],
            [
             0.4444444444444444,
             "#bd3786"
            ],
            [
             0.5555555555555556,
             "#d8576b"
            ],
            [
             0.6666666666666666,
             "#ed7953"
            ],
            [
             0.7777777777777778,
             "#fb9f3a"
            ],
            [
             0.8888888888888888,
             "#fdca26"
            ],
            [
             1,
             "#f0f921"
            ]
           ],
           "sequentialminus": [
            [
             0,
             "#0d0887"
            ],
            [
             0.1111111111111111,
             "#46039f"
            ],
            [
             0.2222222222222222,
             "#7201a8"
            ],
            [
             0.3333333333333333,
             "#9c179e"
            ],
            [
             0.4444444444444444,
             "#bd3786"
            ],
            [
             0.5555555555555556,
             "#d8576b"
            ],
            [
             0.6666666666666666,
             "#ed7953"
            ],
            [
             0.7777777777777778,
             "#fb9f3a"
            ],
            [
             0.8888888888888888,
             "#fdca26"
            ],
            [
             1,
             "#f0f921"
            ]
           ]
          },
          "colorway": [
           "#636efa",
           "#EF553B",
           "#00cc96",
           "#ab63fa",
           "#FFA15A",
           "#19d3f3",
           "#FF6692",
           "#B6E880",
           "#FF97FF",
           "#FECB52"
          ],
          "font": {
           "color": "#2a3f5f"
          },
          "geo": {
           "bgcolor": "white",
           "lakecolor": "white",
           "landcolor": "#E5ECF6",
           "showlakes": true,
           "showland": true,
           "subunitcolor": "white"
          },
          "hoverlabel": {
           "align": "left"
          },
          "hovermode": "closest",
          "mapbox": {
           "style": "light"
          },
          "paper_bgcolor": "white",
          "plot_bgcolor": "#E5ECF6",
          "polar": {
           "angularaxis": {
            "gridcolor": "white",
            "linecolor": "white",
            "ticks": ""
           },
           "bgcolor": "#E5ECF6",
           "radialaxis": {
            "gridcolor": "white",
            "linecolor": "white",
            "ticks": ""
           }
          },
          "scene": {
           "xaxis": {
            "backgroundcolor": "#E5ECF6",
            "gridcolor": "white",
            "gridwidth": 2,
            "linecolor": "white",
            "showbackground": true,
            "ticks": "",
            "zerolinecolor": "white"
           },
           "yaxis": {
            "backgroundcolor": "#E5ECF6",
            "gridcolor": "white",
            "gridwidth": 2,
            "linecolor": "white",
            "showbackground": true,
            "ticks": "",
            "zerolinecolor": "white"
           },
           "zaxis": {
            "backgroundcolor": "#E5ECF6",
            "gridcolor": "white",
            "gridwidth": 2,
            "linecolor": "white",
            "showbackground": true,
            "ticks": "",
            "zerolinecolor": "white"
           }
          },
          "shapedefaults": {
           "line": {
            "color": "#2a3f5f"
           }
          },
          "ternary": {
           "aaxis": {
            "gridcolor": "white",
            "linecolor": "white",
            "ticks": ""
           },
           "baxis": {
            "gridcolor": "white",
            "linecolor": "white",
            "ticks": ""
           },
           "bgcolor": "#E5ECF6",
           "caxis": {
            "gridcolor": "white",
            "linecolor": "white",
            "ticks": ""
           }
          },
          "title": {
           "x": 0.05
          },
          "xaxis": {
           "automargin": true,
           "gridcolor": "white",
           "linecolor": "white",
           "ticks": "",
           "title": {
            "standoff": 15
           },
           "zerolinecolor": "white",
           "zerolinewidth": 2
          },
          "yaxis": {
           "automargin": true,
           "gridcolor": "white",
           "linecolor": "white",
           "ticks": "",
           "title": {
            "standoff": 15
           },
           "zerolinecolor": "white",
           "zerolinewidth": 2
          }
         }
        },
        "title": {
         "text": "<b>Dashcam Discount % vs Quantity Sold on Lazada</b>"
        },
        "xaxis": {
         "title": {
          "text": "Discount %"
         }
        },
        "yaxis": {
         "title": {
          "text": "Quantity Sold"
         }
        }
       }
      }
     },
     "metadata": {},
     "output_type": "display_data"
    }
   ],
   "source": [
    "# Checking correlation between discount and sales\n",
    "fig4 = go.Figure()\n",
    "fig4.add_trace(go.Scatter(x=df_800['discount_percent'], y=df_800['quantity_sold'], mode='markers'))\n",
    "fig4.update_layout(title_text='<b>Dashcam Discount % vs Quantity Sold on Lazada</b>')\n",
    "fig4.update_xaxes(title_text=\"Discount %\")\n",
    "fig4.update_yaxes(title_text=\"Quantity Sold\")\n",
    "\n",
    "fig4.show()"
   ]
  },
  {
   "cell_type": "code",
   "execution_count": 20,
   "metadata": {},
   "outputs": [
    {
     "data": {
      "text/html": [
       "<div>\n",
       "<style scoped>\n",
       "    .dataframe tbody tr th:only-of-type {\n",
       "        vertical-align: middle;\n",
       "    }\n",
       "\n",
       "    .dataframe tbody tr th {\n",
       "        vertical-align: top;\n",
       "    }\n",
       "\n",
       "    .dataframe thead th {\n",
       "        text-align: right;\n",
       "    }\n",
       "</style>\n",
       "<table border=\"1\" class=\"dataframe\">\n",
       "  <thead>\n",
       "    <tr style=\"text-align: right;\">\n",
       "      <th></th>\n",
       "      <th>product_name</th>\n",
       "      <th>price_RM</th>\n",
       "      <th>discount_percent</th>\n",
       "      <th>quantity_sold</th>\n",
       "      <th>original_price_RM</th>\n",
       "      <th>brand</th>\n",
       "    </tr>\n",
       "  </thead>\n",
       "  <tbody>\n",
       "    <tr>\n",
       "      <th>754</th>\n",
       "      <td>Ezonetronics cheap 9.35 Full Touch Screen HD M...</td>\n",
       "      <td>295.05</td>\n",
       "      <td>51</td>\n",
       "      <td>19</td>\n",
       "      <td>602.14</td>\n",
       "      <td>ezonetronics</td>\n",
       "    </tr>\n",
       "    <tr>\n",
       "      <th>770</th>\n",
       "      <td>[NEW] 70mai A810 4K Dash Cam Dual Vision Car R...</td>\n",
       "      <td>609.00</td>\n",
       "      <td>12</td>\n",
       "      <td>8</td>\n",
       "      <td>692.05</td>\n",
       "      <td>70mai</td>\n",
       "    </tr>\n",
       "    <tr>\n",
       "      <th>780</th>\n",
       "      <td>EKLEVA 3 Channel WiFi Dash Cam For Cars DVR Ca...</td>\n",
       "      <td>192.70</td>\n",
       "      <td>68</td>\n",
       "      <td>63</td>\n",
       "      <td>602.19</td>\n",
       "      <td>ekleva</td>\n",
       "    </tr>\n",
       "    <tr>\n",
       "      <th>790</th>\n",
       "      <td>DDPAI Z40 1994P Front n Rear DashCam Recorder ...</td>\n",
       "      <td>598.00</td>\n",
       "      <td>3</td>\n",
       "      <td>14</td>\n",
       "      <td>616.49</td>\n",
       "      <td>ddpai</td>\n",
       "    </tr>\n",
       "    <tr>\n",
       "      <th>791</th>\n",
       "      <td>IROAD DASH CAM TX-1 FULL HD WITH TOUCH SCREEN</td>\n",
       "      <td>530.00</td>\n",
       "      <td>42</td>\n",
       "      <td>30</td>\n",
       "      <td>913.79</td>\n",
       "      <td>other/unstated</td>\n",
       "    </tr>\n",
       "  </tbody>\n",
       "</table>\n",
       "</div>"
      ],
      "text/plain": [
       "                                          product_name  price_RM  \\\n",
       "754  Ezonetronics cheap 9.35 Full Touch Screen HD M...    295.05   \n",
       "770  [NEW] 70mai A810 4K Dash Cam Dual Vision Car R...    609.00   \n",
       "780  EKLEVA 3 Channel WiFi Dash Cam For Cars DVR Ca...    192.70   \n",
       "790  DDPAI Z40 1994P Front n Rear DashCam Recorder ...    598.00   \n",
       "791      IROAD DASH CAM TX-1 FULL HD WITH TOUCH SCREEN    530.00   \n",
       "\n",
       "     discount_percent  quantity_sold  original_price_RM           brand  \n",
       "754                51             19             602.14    ezonetronics  \n",
       "770                12              8             692.05           70mai  \n",
       "780                68             63             602.19          ekleva  \n",
       "790                 3             14             616.49           ddpai  \n",
       "791                42             30             913.79  other/unstated  "
      ]
     },
     "execution_count": 20,
     "metadata": {},
     "output_type": "execute_result"
    }
   ],
   "source": [
    "df_above_500 = df_800[df_800['original_price_RM'] >= 500]\n",
    "df_above_500.tail()"
   ]
  },
  {
   "cell_type": "code",
   "execution_count": 29,
   "metadata": {},
   "outputs": [
    {
     "data": {
      "application/vnd.plotly.v1+json": {
       "config": {
        "plotlyServerURL": "https://plot.ly"
       },
       "data": [
        {
         "mode": "markers",
         "type": "scatter",
         "x": [
          43,
          55,
          67,
          52,
          88,
          77,
          5,
          75,
          54,
          55,
          53,
          77,
          50,
          48,
          55,
          60,
          53,
          50,
          49,
          48,
          64,
          33,
          67,
          34,
          80,
          31,
          45,
          57,
          53,
          78,
          77,
          58,
          27,
          46,
          46,
          77,
          41,
          34,
          38,
          45,
          58,
          51,
          11,
          30,
          28,
          38,
          46,
          66,
          52,
          58,
          70,
          64,
          51,
          53,
          52,
          50,
          53,
          45,
          64,
          64,
          1,
          25,
          67,
          21,
          13,
          70,
          69,
          62,
          66,
          67,
          67,
          55,
          29,
          50,
          50,
          64,
          67,
          57,
          39,
          46,
          74,
          50,
          64,
          55,
          60,
          11,
          34,
          24,
          50,
          11,
          67,
          48,
          64,
          36,
          49,
          68,
          2,
          21,
          32,
          52,
          67,
          45,
          37,
          30,
          49,
          60,
          38,
          60,
          73,
          55,
          59,
          50,
          44,
          44,
          50,
          51,
          43,
          23,
          50,
          50,
          77,
          38,
          47,
          70,
          25,
          50,
          50,
          21,
          50,
          50,
          21,
          53,
          33,
          14,
          36,
          61,
          50,
          29,
          15,
          56,
          51,
          36,
          54,
          26,
          47,
          58,
          63,
          42,
          62,
          67,
          43,
          32,
          53,
          33,
          51,
          12,
          68,
          3,
          42
         ],
         "y": [
          205000,
          174000,
          14000,
          10000,
          62000,
          479,
          46000,
          205000,
          59,
          171000,
          194,
          179,
          450,
          110,
          560,
          55,
          21000,
          5,
          13,
          320,
          228,
          17,
          36,
          65,
          41000,
          256,
          12,
          41,
          12,
          418,
          12,
          18,
          6,
          98,
          34,
          88,
          45000,
          6,
          16,
          77,
          283,
          5,
          21,
          950,
          92,
          914,
          6,
          595,
          982,
          119,
          27,
          6,
          6,
          14,
          12,
          8,
          351,
          18,
          15,
          34000,
          148,
          19,
          375,
          601,
          58,
          58,
          62,
          13,
          11,
          26,
          14,
          7,
          11,
          30,
          25,
          11,
          11,
          10,
          22,
          12,
          8,
          305,
          171000,
          41,
          8,
          420,
          28,
          9,
          203,
          74,
          96,
          5,
          11,
          37,
          8,
          14,
          5,
          815,
          7,
          83,
          26,
          27,
          19,
          5,
          53,
          9,
          11,
          48,
          13,
          126,
          14,
          646,
          16,
          14,
          102000,
          36,
          231,
          339,
          6,
          20,
          21,
          6,
          7,
          5,
          11,
          5,
          5,
          128,
          58,
          251,
          37,
          6,
          58,
          22,
          13,
          11,
          26,
          24,
          5,
          11,
          23,
          10,
          31,
          984,
          34,
          12,
          9,
          9,
          12,
          30,
          11,
          17,
          8,
          16,
          19,
          8,
          63,
          14,
          30
         ]
        }
       ],
       "layout": {
        "template": {
         "data": {
          "bar": [
           {
            "error_x": {
             "color": "#2a3f5f"
            },
            "error_y": {
             "color": "#2a3f5f"
            },
            "marker": {
             "line": {
              "color": "#E5ECF6",
              "width": 0.5
             },
             "pattern": {
              "fillmode": "overlay",
              "size": 10,
              "solidity": 0.2
             }
            },
            "type": "bar"
           }
          ],
          "barpolar": [
           {
            "marker": {
             "line": {
              "color": "#E5ECF6",
              "width": 0.5
             },
             "pattern": {
              "fillmode": "overlay",
              "size": 10,
              "solidity": 0.2
             }
            },
            "type": "barpolar"
           }
          ],
          "carpet": [
           {
            "aaxis": {
             "endlinecolor": "#2a3f5f",
             "gridcolor": "white",
             "linecolor": "white",
             "minorgridcolor": "white",
             "startlinecolor": "#2a3f5f"
            },
            "baxis": {
             "endlinecolor": "#2a3f5f",
             "gridcolor": "white",
             "linecolor": "white",
             "minorgridcolor": "white",
             "startlinecolor": "#2a3f5f"
            },
            "type": "carpet"
           }
          ],
          "choropleth": [
           {
            "colorbar": {
             "outlinewidth": 0,
             "ticks": ""
            },
            "type": "choropleth"
           }
          ],
          "contour": [
           {
            "colorbar": {
             "outlinewidth": 0,
             "ticks": ""
            },
            "colorscale": [
             [
              0,
              "#0d0887"
             ],
             [
              0.1111111111111111,
              "#46039f"
             ],
             [
              0.2222222222222222,
              "#7201a8"
             ],
             [
              0.3333333333333333,
              "#9c179e"
             ],
             [
              0.4444444444444444,
              "#bd3786"
             ],
             [
              0.5555555555555556,
              "#d8576b"
             ],
             [
              0.6666666666666666,
              "#ed7953"
             ],
             [
              0.7777777777777778,
              "#fb9f3a"
             ],
             [
              0.8888888888888888,
              "#fdca26"
             ],
             [
              1,
              "#f0f921"
             ]
            ],
            "type": "contour"
           }
          ],
          "contourcarpet": [
           {
            "colorbar": {
             "outlinewidth": 0,
             "ticks": ""
            },
            "type": "contourcarpet"
           }
          ],
          "heatmap": [
           {
            "colorbar": {
             "outlinewidth": 0,
             "ticks": ""
            },
            "colorscale": [
             [
              0,
              "#0d0887"
             ],
             [
              0.1111111111111111,
              "#46039f"
             ],
             [
              0.2222222222222222,
              "#7201a8"
             ],
             [
              0.3333333333333333,
              "#9c179e"
             ],
             [
              0.4444444444444444,
              "#bd3786"
             ],
             [
              0.5555555555555556,
              "#d8576b"
             ],
             [
              0.6666666666666666,
              "#ed7953"
             ],
             [
              0.7777777777777778,
              "#fb9f3a"
             ],
             [
              0.8888888888888888,
              "#fdca26"
             ],
             [
              1,
              "#f0f921"
             ]
            ],
            "type": "heatmap"
           }
          ],
          "heatmapgl": [
           {
            "colorbar": {
             "outlinewidth": 0,
             "ticks": ""
            },
            "colorscale": [
             [
              0,
              "#0d0887"
             ],
             [
              0.1111111111111111,
              "#46039f"
             ],
             [
              0.2222222222222222,
              "#7201a8"
             ],
             [
              0.3333333333333333,
              "#9c179e"
             ],
             [
              0.4444444444444444,
              "#bd3786"
             ],
             [
              0.5555555555555556,
              "#d8576b"
             ],
             [
              0.6666666666666666,
              "#ed7953"
             ],
             [
              0.7777777777777778,
              "#fb9f3a"
             ],
             [
              0.8888888888888888,
              "#fdca26"
             ],
             [
              1,
              "#f0f921"
             ]
            ],
            "type": "heatmapgl"
           }
          ],
          "histogram": [
           {
            "marker": {
             "pattern": {
              "fillmode": "overlay",
              "size": 10,
              "solidity": 0.2
             }
            },
            "type": "histogram"
           }
          ],
          "histogram2d": [
           {
            "colorbar": {
             "outlinewidth": 0,
             "ticks": ""
            },
            "colorscale": [
             [
              0,
              "#0d0887"
             ],
             [
              0.1111111111111111,
              "#46039f"
             ],
             [
              0.2222222222222222,
              "#7201a8"
             ],
             [
              0.3333333333333333,
              "#9c179e"
             ],
             [
              0.4444444444444444,
              "#bd3786"
             ],
             [
              0.5555555555555556,
              "#d8576b"
             ],
             [
              0.6666666666666666,
              "#ed7953"
             ],
             [
              0.7777777777777778,
              "#fb9f3a"
             ],
             [
              0.8888888888888888,
              "#fdca26"
             ],
             [
              1,
              "#f0f921"
             ]
            ],
            "type": "histogram2d"
           }
          ],
          "histogram2dcontour": [
           {
            "colorbar": {
             "outlinewidth": 0,
             "ticks": ""
            },
            "colorscale": [
             [
              0,
              "#0d0887"
             ],
             [
              0.1111111111111111,
              "#46039f"
             ],
             [
              0.2222222222222222,
              "#7201a8"
             ],
             [
              0.3333333333333333,
              "#9c179e"
             ],
             [
              0.4444444444444444,
              "#bd3786"
             ],
             [
              0.5555555555555556,
              "#d8576b"
             ],
             [
              0.6666666666666666,
              "#ed7953"
             ],
             [
              0.7777777777777778,
              "#fb9f3a"
             ],
             [
              0.8888888888888888,
              "#fdca26"
             ],
             [
              1,
              "#f0f921"
             ]
            ],
            "type": "histogram2dcontour"
           }
          ],
          "mesh3d": [
           {
            "colorbar": {
             "outlinewidth": 0,
             "ticks": ""
            },
            "type": "mesh3d"
           }
          ],
          "parcoords": [
           {
            "line": {
             "colorbar": {
              "outlinewidth": 0,
              "ticks": ""
             }
            },
            "type": "parcoords"
           }
          ],
          "pie": [
           {
            "automargin": true,
            "type": "pie"
           }
          ],
          "scatter": [
           {
            "fillpattern": {
             "fillmode": "overlay",
             "size": 10,
             "solidity": 0.2
            },
            "type": "scatter"
           }
          ],
          "scatter3d": [
           {
            "line": {
             "colorbar": {
              "outlinewidth": 0,
              "ticks": ""
             }
            },
            "marker": {
             "colorbar": {
              "outlinewidth": 0,
              "ticks": ""
             }
            },
            "type": "scatter3d"
           }
          ],
          "scattercarpet": [
           {
            "marker": {
             "colorbar": {
              "outlinewidth": 0,
              "ticks": ""
             }
            },
            "type": "scattercarpet"
           }
          ],
          "scattergeo": [
           {
            "marker": {
             "colorbar": {
              "outlinewidth": 0,
              "ticks": ""
             }
            },
            "type": "scattergeo"
           }
          ],
          "scattergl": [
           {
            "marker": {
             "colorbar": {
              "outlinewidth": 0,
              "ticks": ""
             }
            },
            "type": "scattergl"
           }
          ],
          "scattermapbox": [
           {
            "marker": {
             "colorbar": {
              "outlinewidth": 0,
              "ticks": ""
             }
            },
            "type": "scattermapbox"
           }
          ],
          "scatterpolar": [
           {
            "marker": {
             "colorbar": {
              "outlinewidth": 0,
              "ticks": ""
             }
            },
            "type": "scatterpolar"
           }
          ],
          "scatterpolargl": [
           {
            "marker": {
             "colorbar": {
              "outlinewidth": 0,
              "ticks": ""
             }
            },
            "type": "scatterpolargl"
           }
          ],
          "scatterternary": [
           {
            "marker": {
             "colorbar": {
              "outlinewidth": 0,
              "ticks": ""
             }
            },
            "type": "scatterternary"
           }
          ],
          "surface": [
           {
            "colorbar": {
             "outlinewidth": 0,
             "ticks": ""
            },
            "colorscale": [
             [
              0,
              "#0d0887"
             ],
             [
              0.1111111111111111,
              "#46039f"
             ],
             [
              0.2222222222222222,
              "#7201a8"
             ],
             [
              0.3333333333333333,
              "#9c179e"
             ],
             [
              0.4444444444444444,
              "#bd3786"
             ],
             [
              0.5555555555555556,
              "#d8576b"
             ],
             [
              0.6666666666666666,
              "#ed7953"
             ],
             [
              0.7777777777777778,
              "#fb9f3a"
             ],
             [
              0.8888888888888888,
              "#fdca26"
             ],
             [
              1,
              "#f0f921"
             ]
            ],
            "type": "surface"
           }
          ],
          "table": [
           {
            "cells": {
             "fill": {
              "color": "#EBF0F8"
             },
             "line": {
              "color": "white"
             }
            },
            "header": {
             "fill": {
              "color": "#C8D4E3"
             },
             "line": {
              "color": "white"
             }
            },
            "type": "table"
           }
          ]
         },
         "layout": {
          "annotationdefaults": {
           "arrowcolor": "#2a3f5f",
           "arrowhead": 0,
           "arrowwidth": 1
          },
          "autotypenumbers": "strict",
          "coloraxis": {
           "colorbar": {
            "outlinewidth": 0,
            "ticks": ""
           }
          },
          "colorscale": {
           "diverging": [
            [
             0,
             "#8e0152"
            ],
            [
             0.1,
             "#c51b7d"
            ],
            [
             0.2,
             "#de77ae"
            ],
            [
             0.3,
             "#f1b6da"
            ],
            [
             0.4,
             "#fde0ef"
            ],
            [
             0.5,
             "#f7f7f7"
            ],
            [
             0.6,
             "#e6f5d0"
            ],
            [
             0.7,
             "#b8e186"
            ],
            [
             0.8,
             "#7fbc41"
            ],
            [
             0.9,
             "#4d9221"
            ],
            [
             1,
             "#276419"
            ]
           ],
           "sequential": [
            [
             0,
             "#0d0887"
            ],
            [
             0.1111111111111111,
             "#46039f"
            ],
            [
             0.2222222222222222,
             "#7201a8"
            ],
            [
             0.3333333333333333,
             "#9c179e"
            ],
            [
             0.4444444444444444,
             "#bd3786"
            ],
            [
             0.5555555555555556,
             "#d8576b"
            ],
            [
             0.6666666666666666,
             "#ed7953"
            ],
            [
             0.7777777777777778,
             "#fb9f3a"
            ],
            [
             0.8888888888888888,
             "#fdca26"
            ],
            [
             1,
             "#f0f921"
            ]
           ],
           "sequentialminus": [
            [
             0,
             "#0d0887"
            ],
            [
             0.1111111111111111,
             "#46039f"
            ],
            [
             0.2222222222222222,
             "#7201a8"
            ],
            [
             0.3333333333333333,
             "#9c179e"
            ],
            [
             0.4444444444444444,
             "#bd3786"
            ],
            [
             0.5555555555555556,
             "#d8576b"
            ],
            [
             0.6666666666666666,
             "#ed7953"
            ],
            [
             0.7777777777777778,
             "#fb9f3a"
            ],
            [
             0.8888888888888888,
             "#fdca26"
            ],
            [
             1,
             "#f0f921"
            ]
           ]
          },
          "colorway": [
           "#636efa",
           "#EF553B",
           "#00cc96",
           "#ab63fa",
           "#FFA15A",
           "#19d3f3",
           "#FF6692",
           "#B6E880",
           "#FF97FF",
           "#FECB52"
          ],
          "font": {
           "color": "#2a3f5f"
          },
          "geo": {
           "bgcolor": "white",
           "lakecolor": "white",
           "landcolor": "#E5ECF6",
           "showlakes": true,
           "showland": true,
           "subunitcolor": "white"
          },
          "hoverlabel": {
           "align": "left"
          },
          "hovermode": "closest",
          "mapbox": {
           "style": "light"
          },
          "paper_bgcolor": "white",
          "plot_bgcolor": "#E5ECF6",
          "polar": {
           "angularaxis": {
            "gridcolor": "white",
            "linecolor": "white",
            "ticks": ""
           },
           "bgcolor": "#E5ECF6",
           "radialaxis": {
            "gridcolor": "white",
            "linecolor": "white",
            "ticks": ""
           }
          },
          "scene": {
           "xaxis": {
            "backgroundcolor": "#E5ECF6",
            "gridcolor": "white",
            "gridwidth": 2,
            "linecolor": "white",
            "showbackground": true,
            "ticks": "",
            "zerolinecolor": "white"
           },
           "yaxis": {
            "backgroundcolor": "#E5ECF6",
            "gridcolor": "white",
            "gridwidth": 2,
            "linecolor": "white",
            "showbackground": true,
            "ticks": "",
            "zerolinecolor": "white"
           },
           "zaxis": {
            "backgroundcolor": "#E5ECF6",
            "gridcolor": "white",
            "gridwidth": 2,
            "linecolor": "white",
            "showbackground": true,
            "ticks": "",
            "zerolinecolor": "white"
           }
          },
          "shapedefaults": {
           "line": {
            "color": "#2a3f5f"
           }
          },
          "ternary": {
           "aaxis": {
            "gridcolor": "white",
            "linecolor": "white",
            "ticks": ""
           },
           "baxis": {
            "gridcolor": "white",
            "linecolor": "white",
            "ticks": ""
           },
           "bgcolor": "#E5ECF6",
           "caxis": {
            "gridcolor": "white",
            "linecolor": "white",
            "ticks": ""
           }
          },
          "title": {
           "x": 0.05
          },
          "xaxis": {
           "automargin": true,
           "gridcolor": "white",
           "linecolor": "white",
           "ticks": "",
           "title": {
            "standoff": 15
           },
           "zerolinecolor": "white",
           "zerolinewidth": 2
          },
          "yaxis": {
           "automargin": true,
           "gridcolor": "white",
           "linecolor": "white",
           "ticks": "",
           "title": {
            "standoff": 15
           },
           "zerolinecolor": "white",
           "zerolinewidth": 2
          }
         }
        },
        "title": {
         "text": "<b>Dashcam (> RM 500) Discount % vs Quantity Sold on Lazada</b>"
        },
        "xaxis": {
         "title": {
          "text": "Discount %"
         }
        },
        "yaxis": {
         "title": {
          "text": "Quantity Sold"
         }
        }
       }
      }
     },
     "metadata": {},
     "output_type": "display_data"
    }
   ],
   "source": [
    "# Checking correlation between discount and sales for dashcam above RM 500\n",
    "fig5 = go.Figure()\n",
    "fig5.add_trace(go.Scatter(x=df_above_500['discount_percent'], y=df_above_500['quantity_sold'], mode='markers'))\n",
    "fig5.update_layout(title_text='<b>Dashcam (> RM 500) Discount % vs Quantity Sold on Lazada</b>')\n",
    "fig5.update_xaxes(title_text=\"Discount %\")\n",
    "fig5.update_yaxes(title_text=\"Quantity Sold\")\n",
    "\n",
    "fig5.show()"
   ]
  },
  {
   "cell_type": "code",
   "execution_count": 72,
   "metadata": {},
   "outputs": [
    {
     "data": {
      "application/vnd.plotly.v1+json": {
       "config": {
        "plotlyServerURL": "https://plot.ly"
       },
       "data": [
        {
         "showlegend": false,
         "type": "bar",
         "x": [
          "other/unstated",
          "70mai",
          "ekleva",
          "ddpai",
          "asawin",
          "azdome",
          "dosen",
          "ettro",
          "safecam",
          "e-ace",
          "stapon",
          "xiaomi",
          "southocean",
          "botslab",
          "kawa",
          "pioneer",
          "red horse",
          "gnet",
          "aitemay",
          "tiesfong",
          "buzztech",
          "acceo",
          "dahua",
          "cooldin",
          "ezonetronics",
          "evean",
          "hikvision",
          "kangzog",
          "podofo",
          "mohawk",
          "seicane",
          "pony"
         ],
         "y": [
          413,
          122,
          97,
          32,
          18,
          13,
          8,
          8,
          8,
          7,
          6,
          6,
          6,
          5,
          5,
          5,
          4,
          4,
          4,
          3,
          3,
          3,
          2,
          2,
          2,
          2,
          2,
          2,
          2,
          2,
          2,
          2
         ]
        }
       ],
       "layout": {
        "template": {
         "data": {
          "bar": [
           {
            "error_x": {
             "color": "#2a3f5f"
            },
            "error_y": {
             "color": "#2a3f5f"
            },
            "marker": {
             "line": {
              "color": "#E5ECF6",
              "width": 0.5
             },
             "pattern": {
              "fillmode": "overlay",
              "size": 10,
              "solidity": 0.2
             }
            },
            "type": "bar"
           }
          ],
          "barpolar": [
           {
            "marker": {
             "line": {
              "color": "#E5ECF6",
              "width": 0.5
             },
             "pattern": {
              "fillmode": "overlay",
              "size": 10,
              "solidity": 0.2
             }
            },
            "type": "barpolar"
           }
          ],
          "carpet": [
           {
            "aaxis": {
             "endlinecolor": "#2a3f5f",
             "gridcolor": "white",
             "linecolor": "white",
             "minorgridcolor": "white",
             "startlinecolor": "#2a3f5f"
            },
            "baxis": {
             "endlinecolor": "#2a3f5f",
             "gridcolor": "white",
             "linecolor": "white",
             "minorgridcolor": "white",
             "startlinecolor": "#2a3f5f"
            },
            "type": "carpet"
           }
          ],
          "choropleth": [
           {
            "colorbar": {
             "outlinewidth": 0,
             "ticks": ""
            },
            "type": "choropleth"
           }
          ],
          "contour": [
           {
            "colorbar": {
             "outlinewidth": 0,
             "ticks": ""
            },
            "colorscale": [
             [
              0,
              "#0d0887"
             ],
             [
              0.1111111111111111,
              "#46039f"
             ],
             [
              0.2222222222222222,
              "#7201a8"
             ],
             [
              0.3333333333333333,
              "#9c179e"
             ],
             [
              0.4444444444444444,
              "#bd3786"
             ],
             [
              0.5555555555555556,
              "#d8576b"
             ],
             [
              0.6666666666666666,
              "#ed7953"
             ],
             [
              0.7777777777777778,
              "#fb9f3a"
             ],
             [
              0.8888888888888888,
              "#fdca26"
             ],
             [
              1,
              "#f0f921"
             ]
            ],
            "type": "contour"
           }
          ],
          "contourcarpet": [
           {
            "colorbar": {
             "outlinewidth": 0,
             "ticks": ""
            },
            "type": "contourcarpet"
           }
          ],
          "heatmap": [
           {
            "colorbar": {
             "outlinewidth": 0,
             "ticks": ""
            },
            "colorscale": [
             [
              0,
              "#0d0887"
             ],
             [
              0.1111111111111111,
              "#46039f"
             ],
             [
              0.2222222222222222,
              "#7201a8"
             ],
             [
              0.3333333333333333,
              "#9c179e"
             ],
             [
              0.4444444444444444,
              "#bd3786"
             ],
             [
              0.5555555555555556,
              "#d8576b"
             ],
             [
              0.6666666666666666,
              "#ed7953"
             ],
             [
              0.7777777777777778,
              "#fb9f3a"
             ],
             [
              0.8888888888888888,
              "#fdca26"
             ],
             [
              1,
              "#f0f921"
             ]
            ],
            "type": "heatmap"
           }
          ],
          "heatmapgl": [
           {
            "colorbar": {
             "outlinewidth": 0,
             "ticks": ""
            },
            "colorscale": [
             [
              0,
              "#0d0887"
             ],
             [
              0.1111111111111111,
              "#46039f"
             ],
             [
              0.2222222222222222,
              "#7201a8"
             ],
             [
              0.3333333333333333,
              "#9c179e"
             ],
             [
              0.4444444444444444,
              "#bd3786"
             ],
             [
              0.5555555555555556,
              "#d8576b"
             ],
             [
              0.6666666666666666,
              "#ed7953"
             ],
             [
              0.7777777777777778,
              "#fb9f3a"
             ],
             [
              0.8888888888888888,
              "#fdca26"
             ],
             [
              1,
              "#f0f921"
             ]
            ],
            "type": "heatmapgl"
           }
          ],
          "histogram": [
           {
            "marker": {
             "pattern": {
              "fillmode": "overlay",
              "size": 10,
              "solidity": 0.2
             }
            },
            "type": "histogram"
           }
          ],
          "histogram2d": [
           {
            "colorbar": {
             "outlinewidth": 0,
             "ticks": ""
            },
            "colorscale": [
             [
              0,
              "#0d0887"
             ],
             [
              0.1111111111111111,
              "#46039f"
             ],
             [
              0.2222222222222222,
              "#7201a8"
             ],
             [
              0.3333333333333333,
              "#9c179e"
             ],
             [
              0.4444444444444444,
              "#bd3786"
             ],
             [
              0.5555555555555556,
              "#d8576b"
             ],
             [
              0.6666666666666666,
              "#ed7953"
             ],
             [
              0.7777777777777778,
              "#fb9f3a"
             ],
             [
              0.8888888888888888,
              "#fdca26"
             ],
             [
              1,
              "#f0f921"
             ]
            ],
            "type": "histogram2d"
           }
          ],
          "histogram2dcontour": [
           {
            "colorbar": {
             "outlinewidth": 0,
             "ticks": ""
            },
            "colorscale": [
             [
              0,
              "#0d0887"
             ],
             [
              0.1111111111111111,
              "#46039f"
             ],
             [
              0.2222222222222222,
              "#7201a8"
             ],
             [
              0.3333333333333333,
              "#9c179e"
             ],
             [
              0.4444444444444444,
              "#bd3786"
             ],
             [
              0.5555555555555556,
              "#d8576b"
             ],
             [
              0.6666666666666666,
              "#ed7953"
             ],
             [
              0.7777777777777778,
              "#fb9f3a"
             ],
             [
              0.8888888888888888,
              "#fdca26"
             ],
             [
              1,
              "#f0f921"
             ]
            ],
            "type": "histogram2dcontour"
           }
          ],
          "mesh3d": [
           {
            "colorbar": {
             "outlinewidth": 0,
             "ticks": ""
            },
            "type": "mesh3d"
           }
          ],
          "parcoords": [
           {
            "line": {
             "colorbar": {
              "outlinewidth": 0,
              "ticks": ""
             }
            },
            "type": "parcoords"
           }
          ],
          "pie": [
           {
            "automargin": true,
            "type": "pie"
           }
          ],
          "scatter": [
           {
            "fillpattern": {
             "fillmode": "overlay",
             "size": 10,
             "solidity": 0.2
            },
            "type": "scatter"
           }
          ],
          "scatter3d": [
           {
            "line": {
             "colorbar": {
              "outlinewidth": 0,
              "ticks": ""
             }
            },
            "marker": {
             "colorbar": {
              "outlinewidth": 0,
              "ticks": ""
             }
            },
            "type": "scatter3d"
           }
          ],
          "scattercarpet": [
           {
            "marker": {
             "colorbar": {
              "outlinewidth": 0,
              "ticks": ""
             }
            },
            "type": "scattercarpet"
           }
          ],
          "scattergeo": [
           {
            "marker": {
             "colorbar": {
              "outlinewidth": 0,
              "ticks": ""
             }
            },
            "type": "scattergeo"
           }
          ],
          "scattergl": [
           {
            "marker": {
             "colorbar": {
              "outlinewidth": 0,
              "ticks": ""
             }
            },
            "type": "scattergl"
           }
          ],
          "scattermapbox": [
           {
            "marker": {
             "colorbar": {
              "outlinewidth": 0,
              "ticks": ""
             }
            },
            "type": "scattermapbox"
           }
          ],
          "scatterpolar": [
           {
            "marker": {
             "colorbar": {
              "outlinewidth": 0,
              "ticks": ""
             }
            },
            "type": "scatterpolar"
           }
          ],
          "scatterpolargl": [
           {
            "marker": {
             "colorbar": {
              "outlinewidth": 0,
              "ticks": ""
             }
            },
            "type": "scatterpolargl"
           }
          ],
          "scatterternary": [
           {
            "marker": {
             "colorbar": {
              "outlinewidth": 0,
              "ticks": ""
             }
            },
            "type": "scatterternary"
           }
          ],
          "surface": [
           {
            "colorbar": {
             "outlinewidth": 0,
             "ticks": ""
            },
            "colorscale": [
             [
              0,
              "#0d0887"
             ],
             [
              0.1111111111111111,
              "#46039f"
             ],
             [
              0.2222222222222222,
              "#7201a8"
             ],
             [
              0.3333333333333333,
              "#9c179e"
             ],
             [
              0.4444444444444444,
              "#bd3786"
             ],
             [
              0.5555555555555556,
              "#d8576b"
             ],
             [
              0.6666666666666666,
              "#ed7953"
             ],
             [
              0.7777777777777778,
              "#fb9f3a"
             ],
             [
              0.8888888888888888,
              "#fdca26"
             ],
             [
              1,
              "#f0f921"
             ]
            ],
            "type": "surface"
           }
          ],
          "table": [
           {
            "cells": {
             "fill": {
              "color": "#EBF0F8"
             },
             "line": {
              "color": "white"
             }
            },
            "header": {
             "fill": {
              "color": "#C8D4E3"
             },
             "line": {
              "color": "white"
             }
            },
            "type": "table"
           }
          ]
         },
         "layout": {
          "annotationdefaults": {
           "arrowcolor": "#2a3f5f",
           "arrowhead": 0,
           "arrowwidth": 1
          },
          "autotypenumbers": "strict",
          "coloraxis": {
           "colorbar": {
            "outlinewidth": 0,
            "ticks": ""
           }
          },
          "colorscale": {
           "diverging": [
            [
             0,
             "#8e0152"
            ],
            [
             0.1,
             "#c51b7d"
            ],
            [
             0.2,
             "#de77ae"
            ],
            [
             0.3,
             "#f1b6da"
            ],
            [
             0.4,
             "#fde0ef"
            ],
            [
             0.5,
             "#f7f7f7"
            ],
            [
             0.6,
             "#e6f5d0"
            ],
            [
             0.7,
             "#b8e186"
            ],
            [
             0.8,
             "#7fbc41"
            ],
            [
             0.9,
             "#4d9221"
            ],
            [
             1,
             "#276419"
            ]
           ],
           "sequential": [
            [
             0,
             "#0d0887"
            ],
            [
             0.1111111111111111,
             "#46039f"
            ],
            [
             0.2222222222222222,
             "#7201a8"
            ],
            [
             0.3333333333333333,
             "#9c179e"
            ],
            [
             0.4444444444444444,
             "#bd3786"
            ],
            [
             0.5555555555555556,
             "#d8576b"
            ],
            [
             0.6666666666666666,
             "#ed7953"
            ],
            [
             0.7777777777777778,
             "#fb9f3a"
            ],
            [
             0.8888888888888888,
             "#fdca26"
            ],
            [
             1,
             "#f0f921"
            ]
           ],
           "sequentialminus": [
            [
             0,
             "#0d0887"
            ],
            [
             0.1111111111111111,
             "#46039f"
            ],
            [
             0.2222222222222222,
             "#7201a8"
            ],
            [
             0.3333333333333333,
             "#9c179e"
            ],
            [
             0.4444444444444444,
             "#bd3786"
            ],
            [
             0.5555555555555556,
             "#d8576b"
            ],
            [
             0.6666666666666666,
             "#ed7953"
            ],
            [
             0.7777777777777778,
             "#fb9f3a"
            ],
            [
             0.8888888888888888,
             "#fdca26"
            ],
            [
             1,
             "#f0f921"
            ]
           ]
          },
          "colorway": [
           "#636efa",
           "#EF553B",
           "#00cc96",
           "#ab63fa",
           "#FFA15A",
           "#19d3f3",
           "#FF6692",
           "#B6E880",
           "#FF97FF",
           "#FECB52"
          ],
          "font": {
           "color": "#2a3f5f"
          },
          "geo": {
           "bgcolor": "white",
           "lakecolor": "white",
           "landcolor": "#E5ECF6",
           "showlakes": true,
           "showland": true,
           "subunitcolor": "white"
          },
          "hoverlabel": {
           "align": "left"
          },
          "hovermode": "closest",
          "mapbox": {
           "style": "light"
          },
          "paper_bgcolor": "white",
          "plot_bgcolor": "#E5ECF6",
          "polar": {
           "angularaxis": {
            "gridcolor": "white",
            "linecolor": "white",
            "ticks": ""
           },
           "bgcolor": "#E5ECF6",
           "radialaxis": {
            "gridcolor": "white",
            "linecolor": "white",
            "ticks": ""
           }
          },
          "scene": {
           "xaxis": {
            "backgroundcolor": "#E5ECF6",
            "gridcolor": "white",
            "gridwidth": 2,
            "linecolor": "white",
            "showbackground": true,
            "ticks": "",
            "zerolinecolor": "white"
           },
           "yaxis": {
            "backgroundcolor": "#E5ECF6",
            "gridcolor": "white",
            "gridwidth": 2,
            "linecolor": "white",
            "showbackground": true,
            "ticks": "",
            "zerolinecolor": "white"
           },
           "zaxis": {
            "backgroundcolor": "#E5ECF6",
            "gridcolor": "white",
            "gridwidth": 2,
            "linecolor": "white",
            "showbackground": true,
            "ticks": "",
            "zerolinecolor": "white"
           }
          },
          "shapedefaults": {
           "line": {
            "color": "#2a3f5f"
           }
          },
          "ternary": {
           "aaxis": {
            "gridcolor": "white",
            "linecolor": "white",
            "ticks": ""
           },
           "baxis": {
            "gridcolor": "white",
            "linecolor": "white",
            "ticks": ""
           },
           "bgcolor": "#E5ECF6",
           "caxis": {
            "gridcolor": "white",
            "linecolor": "white",
            "ticks": ""
           }
          },
          "title": {
           "x": 0.05
          },
          "xaxis": {
           "automargin": true,
           "gridcolor": "white",
           "linecolor": "white",
           "ticks": "",
           "title": {
            "standoff": 15
           },
           "zerolinecolor": "white",
           "zerolinewidth": 2
          },
          "yaxis": {
           "automargin": true,
           "gridcolor": "white",
           "linecolor": "white",
           "ticks": "",
           "title": {
            "standoff": 15
           },
           "zerolinecolor": "white",
           "zerolinewidth": 2
          }
         }
        },
        "title": {
         "text": "<b>Dashcam Brands on Lazada</b>"
        },
        "xaxis": {
         "title": {
          "text": "Brands"
         }
        },
        "yaxis": {
         "title": {
          "text": "Count"
         }
        }
       }
      }
     },
     "metadata": {},
     "output_type": "display_data"
    }
   ],
   "source": [
    "df_800_group_by_brand.sort_values('count', ascending=False, inplace=True)\n",
    "\n",
    "fig6 = go.Figure()\n",
    "fig6.add_trace(go.Bar(x=df_800_group_by_brand['brand'],\n",
    "                      y=df_800_group_by_brand['count'],\n",
    "                      showlegend=False))\n",
    "\n",
    "fig6.update_layout(title_text='<b>Dashcam Brands on Lazada</b>')\n",
    "fig6.update_xaxes(title_text='Brands')\n",
    "fig6.update_yaxes(title_text='Count')\n",
    "\n",
    "fig6.show()\n"
   ]
  },
  {
   "cell_type": "code",
   "execution_count": 31,
   "metadata": {},
   "outputs": [],
   "source": [
    "from plotly.subplots import make_subplots # type: ignore"
   ]
  },
  {
   "cell_type": "code",
   "execution_count": 73,
   "metadata": {},
   "outputs": [
    {
     "data": {
      "application/vnd.plotly.v1+json": {
       "config": {
        "plotlyServerURL": "https://plot.ly"
       },
       "data": [
        {
         "marker": {
          "cornerradius": 12
         },
         "name": "Total Quantity Sold",
         "type": "bar",
         "x": [
          "other/unstated",
          "70mai",
          "ekleva",
          "ettro",
          "kangzog",
          "botslab",
          "dosen",
          "ddpai",
          "southocean",
          "asawin",
          "safecam",
          "red horse",
          "e-ace",
          "azdome",
          "gnet",
          "tiesfong",
          "pioneer",
          "stapon",
          "kawa",
          "buzztech",
          "acceo",
          "cooldin",
          "xiaomi",
          "aitemay",
          "dahua",
          "hikvision",
          "podofo",
          "mohawk",
          "evean",
          "pony",
          "seicane",
          "ezonetronics"
         ],
         "xaxis": "x",
         "y": [
          2022689,
          981090,
          214374,
          164113,
          147032,
          120150,
          106170,
          78425,
          72198,
          47407,
          41479,
          16529,
          15009,
          2280,
          1010,
          953,
          923,
          882,
          552,
          155,
          148,
          132,
          127,
          106,
          93,
          74,
          44,
          34,
          32,
          30,
          26,
          24
         ],
         "yaxis": "y"
        },
        {
         "mode": "lines+markers",
         "name": "Average Price(RM)",
         "type": "scatter",
         "x": [
          "other/unstated",
          "70mai",
          "ekleva",
          "ettro",
          "kangzog",
          "botslab",
          "dosen",
          "ddpai",
          "southocean",
          "asawin",
          "safecam",
          "red horse",
          "e-ace",
          "azdome",
          "gnet",
          "tiesfong",
          "pioneer",
          "stapon",
          "kawa",
          "buzztech",
          "acceo",
          "cooldin",
          "xiaomi",
          "aitemay",
          "dahua",
          "hikvision",
          "podofo",
          "mohawk",
          "evean",
          "pony",
          "seicane",
          "ezonetronics"
         ],
         "xaxis": "x",
         "y": [
          217.91360774818403,
          587.4783606557377,
          454.6460824742268,
          154.17000000000002,
          145.34,
          706.8,
          191.6525,
          427.6925,
          316.09499999999997,
          285.2994444444445,
          447.2025,
          130.485,
          274.30285714285714,
          482.32846153846157,
          2191.405,
          836.4366666666666,
          345.02200000000005,
          77.045,
          353.182,
          162.64666666666668,
          372.02,
          184.905,
          304.3666666666667,
          162.3875,
          248.8,
          515.08,
          101.955,
          439.595,
          144.485,
          179.16,
          746.69,
          324.825
         ],
         "yaxis": "y2"
        }
       ],
       "layout": {
        "legend": {
         "orientation": "h",
         "x": 0.94,
         "xanchor": "right",
         "y": 1,
         "yanchor": "bottom"
        },
        "template": {
         "data": {
          "bar": [
           {
            "error_x": {
             "color": "#2a3f5f"
            },
            "error_y": {
             "color": "#2a3f5f"
            },
            "marker": {
             "line": {
              "color": "#E5ECF6",
              "width": 0.5
             },
             "pattern": {
              "fillmode": "overlay",
              "size": 10,
              "solidity": 0.2
             }
            },
            "type": "bar"
           }
          ],
          "barpolar": [
           {
            "marker": {
             "line": {
              "color": "#E5ECF6",
              "width": 0.5
             },
             "pattern": {
              "fillmode": "overlay",
              "size": 10,
              "solidity": 0.2
             }
            },
            "type": "barpolar"
           }
          ],
          "carpet": [
           {
            "aaxis": {
             "endlinecolor": "#2a3f5f",
             "gridcolor": "white",
             "linecolor": "white",
             "minorgridcolor": "white",
             "startlinecolor": "#2a3f5f"
            },
            "baxis": {
             "endlinecolor": "#2a3f5f",
             "gridcolor": "white",
             "linecolor": "white",
             "minorgridcolor": "white",
             "startlinecolor": "#2a3f5f"
            },
            "type": "carpet"
           }
          ],
          "choropleth": [
           {
            "colorbar": {
             "outlinewidth": 0,
             "ticks": ""
            },
            "type": "choropleth"
           }
          ],
          "contour": [
           {
            "colorbar": {
             "outlinewidth": 0,
             "ticks": ""
            },
            "colorscale": [
             [
              0,
              "#0d0887"
             ],
             [
              0.1111111111111111,
              "#46039f"
             ],
             [
              0.2222222222222222,
              "#7201a8"
             ],
             [
              0.3333333333333333,
              "#9c179e"
             ],
             [
              0.4444444444444444,
              "#bd3786"
             ],
             [
              0.5555555555555556,
              "#d8576b"
             ],
             [
              0.6666666666666666,
              "#ed7953"
             ],
             [
              0.7777777777777778,
              "#fb9f3a"
             ],
             [
              0.8888888888888888,
              "#fdca26"
             ],
             [
              1,
              "#f0f921"
             ]
            ],
            "type": "contour"
           }
          ],
          "contourcarpet": [
           {
            "colorbar": {
             "outlinewidth": 0,
             "ticks": ""
            },
            "type": "contourcarpet"
           }
          ],
          "heatmap": [
           {
            "colorbar": {
             "outlinewidth": 0,
             "ticks": ""
            },
            "colorscale": [
             [
              0,
              "#0d0887"
             ],
             [
              0.1111111111111111,
              "#46039f"
             ],
             [
              0.2222222222222222,
              "#7201a8"
             ],
             [
              0.3333333333333333,
              "#9c179e"
             ],
             [
              0.4444444444444444,
              "#bd3786"
             ],
             [
              0.5555555555555556,
              "#d8576b"
             ],
             [
              0.6666666666666666,
              "#ed7953"
             ],
             [
              0.7777777777777778,
              "#fb9f3a"
             ],
             [
              0.8888888888888888,
              "#fdca26"
             ],
             [
              1,
              "#f0f921"
             ]
            ],
            "type": "heatmap"
           }
          ],
          "heatmapgl": [
           {
            "colorbar": {
             "outlinewidth": 0,
             "ticks": ""
            },
            "colorscale": [
             [
              0,
              "#0d0887"
             ],
             [
              0.1111111111111111,
              "#46039f"
             ],
             [
              0.2222222222222222,
              "#7201a8"
             ],
             [
              0.3333333333333333,
              "#9c179e"
             ],
             [
              0.4444444444444444,
              "#bd3786"
             ],
             [
              0.5555555555555556,
              "#d8576b"
             ],
             [
              0.6666666666666666,
              "#ed7953"
             ],
             [
              0.7777777777777778,
              "#fb9f3a"
             ],
             [
              0.8888888888888888,
              "#fdca26"
             ],
             [
              1,
              "#f0f921"
             ]
            ],
            "type": "heatmapgl"
           }
          ],
          "histogram": [
           {
            "marker": {
             "pattern": {
              "fillmode": "overlay",
              "size": 10,
              "solidity": 0.2
             }
            },
            "type": "histogram"
           }
          ],
          "histogram2d": [
           {
            "colorbar": {
             "outlinewidth": 0,
             "ticks": ""
            },
            "colorscale": [
             [
              0,
              "#0d0887"
             ],
             [
              0.1111111111111111,
              "#46039f"
             ],
             [
              0.2222222222222222,
              "#7201a8"
             ],
             [
              0.3333333333333333,
              "#9c179e"
             ],
             [
              0.4444444444444444,
              "#bd3786"
             ],
             [
              0.5555555555555556,
              "#d8576b"
             ],
             [
              0.6666666666666666,
              "#ed7953"
             ],
             [
              0.7777777777777778,
              "#fb9f3a"
             ],
             [
              0.8888888888888888,
              "#fdca26"
             ],
             [
              1,
              "#f0f921"
             ]
            ],
            "type": "histogram2d"
           }
          ],
          "histogram2dcontour": [
           {
            "colorbar": {
             "outlinewidth": 0,
             "ticks": ""
            },
            "colorscale": [
             [
              0,
              "#0d0887"
             ],
             [
              0.1111111111111111,
              "#46039f"
             ],
             [
              0.2222222222222222,
              "#7201a8"
             ],
             [
              0.3333333333333333,
              "#9c179e"
             ],
             [
              0.4444444444444444,
              "#bd3786"
             ],
             [
              0.5555555555555556,
              "#d8576b"
             ],
             [
              0.6666666666666666,
              "#ed7953"
             ],
             [
              0.7777777777777778,
              "#fb9f3a"
             ],
             [
              0.8888888888888888,
              "#fdca26"
             ],
             [
              1,
              "#f0f921"
             ]
            ],
            "type": "histogram2dcontour"
           }
          ],
          "mesh3d": [
           {
            "colorbar": {
             "outlinewidth": 0,
             "ticks": ""
            },
            "type": "mesh3d"
           }
          ],
          "parcoords": [
           {
            "line": {
             "colorbar": {
              "outlinewidth": 0,
              "ticks": ""
             }
            },
            "type": "parcoords"
           }
          ],
          "pie": [
           {
            "automargin": true,
            "type": "pie"
           }
          ],
          "scatter": [
           {
            "fillpattern": {
             "fillmode": "overlay",
             "size": 10,
             "solidity": 0.2
            },
            "type": "scatter"
           }
          ],
          "scatter3d": [
           {
            "line": {
             "colorbar": {
              "outlinewidth": 0,
              "ticks": ""
             }
            },
            "marker": {
             "colorbar": {
              "outlinewidth": 0,
              "ticks": ""
             }
            },
            "type": "scatter3d"
           }
          ],
          "scattercarpet": [
           {
            "marker": {
             "colorbar": {
              "outlinewidth": 0,
              "ticks": ""
             }
            },
            "type": "scattercarpet"
           }
          ],
          "scattergeo": [
           {
            "marker": {
             "colorbar": {
              "outlinewidth": 0,
              "ticks": ""
             }
            },
            "type": "scattergeo"
           }
          ],
          "scattergl": [
           {
            "marker": {
             "colorbar": {
              "outlinewidth": 0,
              "ticks": ""
             }
            },
            "type": "scattergl"
           }
          ],
          "scattermapbox": [
           {
            "marker": {
             "colorbar": {
              "outlinewidth": 0,
              "ticks": ""
             }
            },
            "type": "scattermapbox"
           }
          ],
          "scatterpolar": [
           {
            "marker": {
             "colorbar": {
              "outlinewidth": 0,
              "ticks": ""
             }
            },
            "type": "scatterpolar"
           }
          ],
          "scatterpolargl": [
           {
            "marker": {
             "colorbar": {
              "outlinewidth": 0,
              "ticks": ""
             }
            },
            "type": "scatterpolargl"
           }
          ],
          "scatterternary": [
           {
            "marker": {
             "colorbar": {
              "outlinewidth": 0,
              "ticks": ""
             }
            },
            "type": "scatterternary"
           }
          ],
          "surface": [
           {
            "colorbar": {
             "outlinewidth": 0,
             "ticks": ""
            },
            "colorscale": [
             [
              0,
              "#0d0887"
             ],
             [
              0.1111111111111111,
              "#46039f"
             ],
             [
              0.2222222222222222,
              "#7201a8"
             ],
             [
              0.3333333333333333,
              "#9c179e"
             ],
             [
              0.4444444444444444,
              "#bd3786"
             ],
             [
              0.5555555555555556,
              "#d8576b"
             ],
             [
              0.6666666666666666,
              "#ed7953"
             ],
             [
              0.7777777777777778,
              "#fb9f3a"
             ],
             [
              0.8888888888888888,
              "#fdca26"
             ],
             [
              1,
              "#f0f921"
             ]
            ],
            "type": "surface"
           }
          ],
          "table": [
           {
            "cells": {
             "fill": {
              "color": "#EBF0F8"
             },
             "line": {
              "color": "white"
             }
            },
            "header": {
             "fill": {
              "color": "#C8D4E3"
             },
             "line": {
              "color": "white"
             }
            },
            "type": "table"
           }
          ]
         },
         "layout": {
          "annotationdefaults": {
           "arrowcolor": "#2a3f5f",
           "arrowhead": 0,
           "arrowwidth": 1
          },
          "autotypenumbers": "strict",
          "coloraxis": {
           "colorbar": {
            "outlinewidth": 0,
            "ticks": ""
           }
          },
          "colorscale": {
           "diverging": [
            [
             0,
             "#8e0152"
            ],
            [
             0.1,
             "#c51b7d"
            ],
            [
             0.2,
             "#de77ae"
            ],
            [
             0.3,
             "#f1b6da"
            ],
            [
             0.4,
             "#fde0ef"
            ],
            [
             0.5,
             "#f7f7f7"
            ],
            [
             0.6,
             "#e6f5d0"
            ],
            [
             0.7,
             "#b8e186"
            ],
            [
             0.8,
             "#7fbc41"
            ],
            [
             0.9,
             "#4d9221"
            ],
            [
             1,
             "#276419"
            ]
           ],
           "sequential": [
            [
             0,
             "#0d0887"
            ],
            [
             0.1111111111111111,
             "#46039f"
            ],
            [
             0.2222222222222222,
             "#7201a8"
            ],
            [
             0.3333333333333333,
             "#9c179e"
            ],
            [
             0.4444444444444444,
             "#bd3786"
            ],
            [
             0.5555555555555556,
             "#d8576b"
            ],
            [
             0.6666666666666666,
             "#ed7953"
            ],
            [
             0.7777777777777778,
             "#fb9f3a"
            ],
            [
             0.8888888888888888,
             "#fdca26"
            ],
            [
             1,
             "#f0f921"
            ]
           ],
           "sequentialminus": [
            [
             0,
             "#0d0887"
            ],
            [
             0.1111111111111111,
             "#46039f"
            ],
            [
             0.2222222222222222,
             "#7201a8"
            ],
            [
             0.3333333333333333,
             "#9c179e"
            ],
            [
             0.4444444444444444,
             "#bd3786"
            ],
            [
             0.5555555555555556,
             "#d8576b"
            ],
            [
             0.6666666666666666,
             "#ed7953"
            ],
            [
             0.7777777777777778,
             "#fb9f3a"
            ],
            [
             0.8888888888888888,
             "#fdca26"
            ],
            [
             1,
             "#f0f921"
            ]
           ]
          },
          "colorway": [
           "#636efa",
           "#EF553B",
           "#00cc96",
           "#ab63fa",
           "#FFA15A",
           "#19d3f3",
           "#FF6692",
           "#B6E880",
           "#FF97FF",
           "#FECB52"
          ],
          "font": {
           "color": "#2a3f5f"
          },
          "geo": {
           "bgcolor": "white",
           "lakecolor": "white",
           "landcolor": "#E5ECF6",
           "showlakes": true,
           "showland": true,
           "subunitcolor": "white"
          },
          "hoverlabel": {
           "align": "left"
          },
          "hovermode": "closest",
          "mapbox": {
           "style": "light"
          },
          "paper_bgcolor": "white",
          "plot_bgcolor": "#E5ECF6",
          "polar": {
           "angularaxis": {
            "gridcolor": "white",
            "linecolor": "white",
            "ticks": ""
           },
           "bgcolor": "#E5ECF6",
           "radialaxis": {
            "gridcolor": "white",
            "linecolor": "white",
            "ticks": ""
           }
          },
          "scene": {
           "xaxis": {
            "backgroundcolor": "#E5ECF6",
            "gridcolor": "white",
            "gridwidth": 2,
            "linecolor": "white",
            "showbackground": true,
            "ticks": "",
            "zerolinecolor": "white"
           },
           "yaxis": {
            "backgroundcolor": "#E5ECF6",
            "gridcolor": "white",
            "gridwidth": 2,
            "linecolor": "white",
            "showbackground": true,
            "ticks": "",
            "zerolinecolor": "white"
           },
           "zaxis": {
            "backgroundcolor": "#E5ECF6",
            "gridcolor": "white",
            "gridwidth": 2,
            "linecolor": "white",
            "showbackground": true,
            "ticks": "",
            "zerolinecolor": "white"
           }
          },
          "shapedefaults": {
           "line": {
            "color": "#2a3f5f"
           }
          },
          "ternary": {
           "aaxis": {
            "gridcolor": "white",
            "linecolor": "white",
            "ticks": ""
           },
           "baxis": {
            "gridcolor": "white",
            "linecolor": "white",
            "ticks": ""
           },
           "bgcolor": "#E5ECF6",
           "caxis": {
            "gridcolor": "white",
            "linecolor": "white",
            "ticks": ""
           }
          },
          "title": {
           "x": 0.05
          },
          "xaxis": {
           "automargin": true,
           "gridcolor": "white",
           "linecolor": "white",
           "ticks": "",
           "title": {
            "standoff": 15
           },
           "zerolinecolor": "white",
           "zerolinewidth": 2
          },
          "yaxis": {
           "automargin": true,
           "gridcolor": "white",
           "linecolor": "white",
           "ticks": "",
           "title": {
            "standoff": 15
           },
           "zerolinecolor": "white",
           "zerolinewidth": 2
          }
         }
        },
        "title": {
         "text": "<b>Average Price and Total Quantity Sold by Brands</b>"
        },
        "xaxis": {
         "anchor": "y",
         "domain": [
          0,
          0.94
         ],
         "title": {
          "text": "Brand"
         }
        },
        "yaxis": {
         "anchor": "x",
         "domain": [
          0,
          1
         ],
         "title": {
          "text": "Total Quantity Sold"
         }
        },
        "yaxis2": {
         "anchor": "x",
         "overlaying": "y",
         "side": "right",
         "title": {
          "text": "Average Price (RM)"
         }
        }
       }
      }
     },
     "metadata": {},
     "output_type": "display_data"
    }
   ],
   "source": [
    "df_800_group_by_brand.sort_values('total_quantity_sold', ascending=False, inplace=True)\n",
    "\n",
    "fig7 = make_subplots(specs=[[{\"secondary_y\": True}]])\n",
    "\n",
    "fig7.add_trace(go.Bar(x=df_800_group_by_brand['brand'],\n",
    "                      y=df_800_group_by_brand['total_quantity_sold'],\n",
    "                      name='Total Quantity Sold',\n",
    "                      marker=dict(cornerradius=12)),\n",
    "                      secondary_y=False)\n",
    "\n",
    "fig7.add_trace(go.Scatter(x=df_800_group_by_brand['brand'],\n",
    "                      y=df_800_group_by_brand['average_price_RM'],\n",
    "                      mode='lines+markers',\n",
    "                      name='Average Price(RM)'),\n",
    "                      secondary_y=True)\n",
    "\n",
    "fig7.update_layout(\n",
    "    title_text=\"<b>Average Price and Total Quantity Sold by Brands</b>\",\n",
    "    legend=dict(orientation=\"h\",\n",
    "                      yanchor=\"bottom\",\n",
    "                      y=1,\n",
    "                      xanchor=\"right\",\n",
    "                      x=0.94))\n",
    "\n",
    "fig7.update_xaxes(title_text='Brand')\n",
    "fig7.update_yaxes(title_text='Total Quantity Sold', secondary_y=False)\n",
    "fig7.update_yaxes(title_text='Average Price (RM)', secondary_y=True)\n",
    "\n",
    "fig7.show()"
   ]
  },
  {
   "cell_type": "code",
   "execution_count": 81,
   "metadata": {},
   "outputs": [
    {
     "data": {
      "application/vnd.plotly.v1+json": {
       "config": {
        "plotlyServerURL": "https://plot.ly"
       },
       "data": [
        {
         "nbinsx": 64,
         "showlegend": false,
         "type": "histogram",
         "x": [
          271.6,
          140,
          140,
          199.15,
          189.67,
          167.02,
          307.41,
          268.72,
          298.33,
          313.33,
          425.26,
          156.25,
          612.28,
          122.92,
          37.97,
          32.53,
          864.44,
          272.5,
          178.2,
          137.76,
          194.57,
          118.52,
          1966.67,
          73.95,
          177.08,
          893.75,
          225.41,
          360.61,
          109.88,
          146.28,
          275.53,
          446.94,
          164.13,
          37.74,
          41.21,
          4825,
          162.82,
          995.65,
          23.75,
          567.37,
          8.02,
          1375.44,
          91.02,
          80.34,
          42.38,
          65.09,
          194.52,
          115.48,
          15.13,
          113.71,
          498.72,
          324.42,
          225.49,
          72.3,
          130.86,
          220,
          149.77,
          578.48,
          664.44,
          65.82,
          742.3,
          234.38,
          219.27,
          1343.48,
          45.08,
          338.22,
          106.96,
          149.7,
          180.39,
          479.65,
          62.59,
          191.28,
          112.74,
          83.43,
          182.63,
          548,
          228.85,
          181.36,
          78.33,
          709.62,
          88.67,
          215.22,
          94.84,
          145.11,
          117.27,
          221.43,
          31.94,
          144.56,
          96.36,
          139.8,
          775.56,
          124.32,
          37.9,
          255.56,
          37.12,
          39.89,
          250.1,
          99.85,
          179.55,
          155.95,
          146.72,
          98.39,
          137.5,
          572.5,
          116.16,
          516.6,
          1098,
          72.47,
          47.21,
          25.97,
          179.6,
          71.03,
          243.33,
          166.46,
          250,
          645.1,
          197.2,
          115.72,
          636.96,
          58.84,
          241.82,
          160.56,
          79.62,
          719.44,
          148.76,
          86.93,
          923.88,
          1036.67,
          323.91,
          138,
          177.56,
          67.06,
          70.56,
          185.43,
          353.33,
          58.62,
          44.27,
          695.24,
          845,
          246.4,
          123.39,
          607.25,
          3.61,
          269.7,
          7.58,
          262.08,
          155.45,
          99.24,
          900.78,
          43.99,
          20.44,
          118.62,
          530.23,
          763.83,
          153.12,
          87.2,
          109.09,
          213.26,
          80.82,
          65.34,
          420,
          42.75,
          30.26,
          50.09,
          840.91,
          236,
          355.56,
          110.1,
          114.81,
          168.09,
          247.73,
          73.53,
          573.7,
          62.73,
          143.37,
          143.23,
          1164.67,
          167.99,
          683.56,
          227.88,
          359.1,
          189.32,
          479.4,
          172.5,
          149.81,
          998.15,
          72.94,
          178,
          200.98,
          473.98,
          242,
          247.86,
          463.38,
          42.25,
          156.42,
          738.89,
          273.88,
          207.36,
          107.66,
          79.69,
          323.64,
          171.32,
          197.5,
          117,
          187.54,
          1173.48,
          81.65,
          265.33,
          71.08,
          406.12,
          1100,
          153.41,
          116.41,
          1194.53,
          76.3,
          333.87,
          477.27,
          1030.65,
          152.59,
          258.83,
          138,
          164.63,
          616.36,
          432.56,
          107.54,
          110.84,
          85.42,
          279.24,
          232.81,
          219.38,
          221.72,
          37.38,
          1045.24,
          40.13,
          895.92,
          497,
          149.12,
          181.37,
          68.74,
          386.36,
          110,
          69.09,
          90.4,
          185,
          168.42,
          65.06,
          280.8,
          331.67,
          172.73,
          336.84,
          74.1,
          651.57,
          164.59,
          81.95,
          160.23,
          597.07,
          179.49,
          136.31,
          297.73,
          176.79,
          222.22,
          139.84,
          236.96,
          346.51,
          36.27,
          831.94,
          199.32,
          215.21,
          620.27,
          148.95,
          551.85,
          2911.76,
          122.24,
          219.6,
          1068.75,
          59.58,
          791,
          145.27,
          236.08,
          30.12,
          405.81,
          121.85,
          73.97,
          215,
          130.36,
          497.92,
          184.81,
          993.33,
          130.22,
          127.45,
          106.02,
          151.16,
          139.81,
          480.83,
          1249.25,
          174.14,
          286.67,
          58.31,
          1408.16,
          235.59,
          855.11,
          119.28,
          157,
          368.52,
          791.67,
          1108,
          1210.64,
          252.5,
          140.82,
          545.8,
          315.36,
          486.9,
          269.84,
          153.77,
          1358.33,
          86.89,
          21.91,
          18.64,
          215.28,
          168.38,
          356.59,
          89.29,
          830.56,
          172.31,
          185.49,
          134.02,
          625.25,
          297.01,
          798.67,
          191.67,
          213.35,
          491.47,
          542.42,
          36.33,
          149.02,
          171.66,
          40.63,
          231.67,
          2087.34,
          242.14,
          167.92,
          167.55,
          461.36,
          86.76,
          230.41,
          207.07,
          174.42,
          539.08,
          85.58,
          336.51,
          955.67,
          193.02,
          429.04,
          938.26,
          204.27,
          354.36,
          1157.95,
          617.97,
          170.1,
          500,
          909.06,
          371.64,
          89,
          167.62,
          187.25,
          195.1,
          356.23,
          662.22,
          354.52,
          659.15,
          618,
          57.2,
          287.91,
          979.98,
          128.79,
          107.95,
          167.86,
          487.76,
          1222.22,
          142,
          196.88,
          742.42,
          1324.63,
          37.54,
          71.51,
          90.14,
          1014.75,
          235.48,
          1127.78,
          40.7,
          75.3,
          86.88,
          372.73,
          626.92,
          313.7,
          84.48,
          166.93,
          107.18,
          1178,
          444.83,
          170.11,
          49.87,
          86.77,
          258.62,
          2025,
          686.67,
          872.5,
          274.12,
          305.97,
          452.73,
          282.95,
          106.43,
          196.53,
          84.94,
          293.62,
          252.54,
          702.66,
          444.58,
          43.58,
          162.48,
          153.45,
          59.46,
          400,
          235.71,
          224.49,
          513.64,
          154.55,
          1788.16,
          163.79,
          115.35,
          289.53,
          210.59,
          488.24,
          276.01,
          363.37,
          130.29,
          496.15,
          237.62,
          304.23,
          93.89,
          8.67,
          43.73,
          22.84,
          60.24,
          239.62,
          1458,
          507.02,
          226.67,
          1057.58,
          94.52,
          257.58,
          85.89,
          90.62,
          323.75,
          81.79,
          117.84,
          130.61,
          120.27,
          269.49,
          115.58,
          53.38,
          44.59,
          200.59,
          81.32,
          940.38,
          4663.89,
          373.15,
          580.03,
          185.14,
          298.57,
          680.61,
          105.37,
          76.77,
          278.49,
          102.99,
          195.63,
          1121.88,
          591.84,
          568.35,
          601.47,
          91.87,
          70.25,
          47.51,
          161.22,
          1518.75,
          840.18,
          941.82,
          282.3,
          70.51,
          133.32,
          216.88,
          673.02,
          101.61,
          684.77,
          485.09,
          248.95,
          186.38,
          185.9,
          389.86,
          635.29,
          368.31,
          195.93,
          357.73,
          404.94,
          490.94,
          130.88,
          1087.97,
          625.34,
          294.87,
          867.5,
          2697.78,
          953.93,
          105.08,
          429.9,
          948.78,
          397.78,
          88.39,
          253.37,
          159.57,
          647.84,
          39.8,
          61.68,
          145.59,
          52.34,
          287.5,
          230.16,
          56.82,
          91.13,
          109.32,
          459.62,
          209.61,
          284.48,
          147.46,
          353.62,
          710.05,
          118.07,
          252.72,
          580.36,
          117.8,
          704.56,
          905.61,
          239.38,
          415,
          375.55,
          150.62,
          706.47,
          187.67,
          356.87,
          341.1,
          226.13,
          117.7,
          570.13,
          286.53,
          172.6,
          1108.38,
          347.95,
          252.08,
          325.83,
          470.96,
          255.94,
          66.47,
          119.86,
          98.05,
          125,
          568.64,
          225.59,
          142,
          22.69,
          153.61,
          225,
          203.72,
          292.55,
          121.93,
          503.74,
          137.37,
          472.3,
          380.16,
          678.34,
          1125.79,
          116.06,
          1030,
          387.19,
          624,
          78.57,
          358.46,
          475.23,
          552.04,
          524,
          331.04,
          266.45,
          274.49,
          618.99,
          282.61,
          383.58,
          324.75,
          184.5,
          108.89,
          513.16,
          364,
          506.04,
          320.34,
          121.11,
          330.43,
          398,
          151.11,
          89.86,
          997.47,
          243.67,
          160.54,
          315.45,
          347.46,
          180.56,
          322.21,
          163.78,
          104.78,
          510.64,
          535.82,
          72.64,
          98.26,
          300.91,
          321.64,
          288.91,
          496.25,
          180.32,
          63.11,
          246.58,
          810.1,
          670.31,
          259.67,
          1433.79,
          296,
          323.27,
          262.37,
          309.21,
          238.26,
          455.89,
          239.41,
          375.38,
          358.5,
          696,
          382.5,
          58.4,
          111.56,
          90.95,
          375,
          200,
          581.69,
          76.7,
          775.29,
          337.5,
          246,
          129.96,
          411.97,
          32.75,
          199.87,
          88.75,
          237.18,
          529.48,
          176.93,
          655.1,
          183.86,
          300.74,
          278.83,
          221.79,
          162.98,
          392.09,
          238.35,
          109.06,
          196.44,
          602.83,
          489.47,
          362.39,
          94.15,
          213.45,
          180.86,
          153.33,
          349.26,
          186.35,
          399.78,
          116.57,
          314.55,
          81.02,
          165.22,
          85.07,
          131.78,
          800,
          233.83,
          282.93,
          262.82,
          905.41,
          287.38,
          191.4,
          237.87,
          672.28,
          461.68,
          86.79,
          166,
          73.48,
          484.85,
          166.56,
          842.43,
          74.81,
          786.49,
          173.28,
          195.65,
          69.28,
          396.92,
          73.81,
          431.02,
          38.43,
          1056.84,
          628.95,
          170.16,
          854.67,
          229.42,
          211,
          193.41,
          79.16,
          210,
          192,
          23.87,
          52.64,
          55.93,
          100.37,
          107,
          103.51,
          195.65,
          69.14,
          230.92,
          145.18,
          51.96,
          248.65,
          128.87,
          724.6,
          112.09,
          130.4,
          646.18,
          173.01,
          122.47,
          249.8,
          174.23,
          226.83,
          510.77,
          62.05,
          67.28,
          304.75,
          58.33,
          118.29,
          173.27,
          484.63,
          350.23,
          515.31,
          142.1,
          458,
          602.14,
          41.66,
          257.23,
          87.65,
          425.51,
          155.83,
          204.26,
          63.16,
          44.36,
          485,
          30.53,
          278.79,
          394.19,
          139.13,
          161.36,
          75.68,
          692.05,
          181.23,
          282.8,
          75.15,
          296,
          161.8,
          439.27,
          247.5,
          433.42,
          234.3,
          602.19,
          41.29,
          120.92,
          58.81,
          203.23,
          195,
          317.49,
          86.74,
          330.23,
          405.48,
          616.49,
          913.79,
          375.91,
          196.12,
          151.62,
          183.5,
          286.37,
          84.08,
          80.07,
          422.03
         ],
         "xaxis": "x",
         "yaxis": "y"
        },
        {
         "histfunc": "sum",
         "nbinsx": 64,
         "showlegend": false,
         "type": "histogram",
         "x": [
          271.6,
          140,
          140,
          199.15,
          189.67,
          167.02,
          307.41,
          268.72,
          298.33,
          313.33,
          425.26,
          156.25,
          612.28,
          122.92,
          37.97,
          32.53,
          864.44,
          272.5,
          178.2,
          137.76,
          194.57,
          118.52,
          1966.67,
          73.95,
          177.08,
          893.75,
          225.41,
          360.61,
          109.88,
          146.28,
          275.53,
          446.94,
          164.13,
          37.74,
          41.21,
          4825,
          162.82,
          995.65,
          23.75,
          567.37,
          8.02,
          1375.44,
          91.02,
          80.34,
          42.38,
          65.09,
          194.52,
          115.48,
          15.13,
          113.71,
          498.72,
          324.42,
          225.49,
          72.3,
          130.86,
          220,
          149.77,
          578.48,
          664.44,
          65.82,
          742.3,
          234.38,
          219.27,
          1343.48,
          45.08,
          338.22,
          106.96,
          149.7,
          180.39,
          479.65,
          62.59,
          191.28,
          112.74,
          83.43,
          182.63,
          548,
          228.85,
          181.36,
          78.33,
          709.62,
          88.67,
          215.22,
          94.84,
          145.11,
          117.27,
          221.43,
          31.94,
          144.56,
          96.36,
          139.8,
          775.56,
          124.32,
          37.9,
          255.56,
          37.12,
          39.89,
          250.1,
          99.85,
          179.55,
          155.95,
          146.72,
          98.39,
          137.5,
          572.5,
          116.16,
          516.6,
          1098,
          72.47,
          47.21,
          25.97,
          179.6,
          71.03,
          243.33,
          166.46,
          250,
          645.1,
          197.2,
          115.72,
          636.96,
          58.84,
          241.82,
          160.56,
          79.62,
          719.44,
          148.76,
          86.93,
          923.88,
          1036.67,
          323.91,
          138,
          177.56,
          67.06,
          70.56,
          185.43,
          353.33,
          58.62,
          44.27,
          695.24,
          845,
          246.4,
          123.39,
          607.25,
          3.61,
          269.7,
          7.58,
          262.08,
          155.45,
          99.24,
          900.78,
          43.99,
          20.44,
          118.62,
          530.23,
          763.83,
          153.12,
          87.2,
          109.09,
          213.26,
          80.82,
          65.34,
          420,
          42.75,
          30.26,
          50.09,
          840.91,
          236,
          355.56,
          110.1,
          114.81,
          168.09,
          247.73,
          73.53,
          573.7,
          62.73,
          143.37,
          143.23,
          1164.67,
          167.99,
          683.56,
          227.88,
          359.1,
          189.32,
          479.4,
          172.5,
          149.81,
          998.15,
          72.94,
          178,
          200.98,
          473.98,
          242,
          247.86,
          463.38,
          42.25,
          156.42,
          738.89,
          273.88,
          207.36,
          107.66,
          79.69,
          323.64,
          171.32,
          197.5,
          117,
          187.54,
          1173.48,
          81.65,
          265.33,
          71.08,
          406.12,
          1100,
          153.41,
          116.41,
          1194.53,
          76.3,
          333.87,
          477.27,
          1030.65,
          152.59,
          258.83,
          138,
          164.63,
          616.36,
          432.56,
          107.54,
          110.84,
          85.42,
          279.24,
          232.81,
          219.38,
          221.72,
          37.38,
          1045.24,
          40.13,
          895.92,
          497,
          149.12,
          181.37,
          68.74,
          386.36,
          110,
          69.09,
          90.4,
          185,
          168.42,
          65.06,
          280.8,
          331.67,
          172.73,
          336.84,
          74.1,
          651.57,
          164.59,
          81.95,
          160.23,
          597.07,
          179.49,
          136.31,
          297.73,
          176.79,
          222.22,
          139.84,
          236.96,
          346.51,
          36.27,
          831.94,
          199.32,
          215.21,
          620.27,
          148.95,
          551.85,
          2911.76,
          122.24,
          219.6,
          1068.75,
          59.58,
          791,
          145.27,
          236.08,
          30.12,
          405.81,
          121.85,
          73.97,
          215,
          130.36,
          497.92,
          184.81,
          993.33,
          130.22,
          127.45,
          106.02,
          151.16,
          139.81,
          480.83,
          1249.25,
          174.14,
          286.67,
          58.31,
          1408.16,
          235.59,
          855.11,
          119.28,
          157,
          368.52,
          791.67,
          1108,
          1210.64,
          252.5,
          140.82,
          545.8,
          315.36,
          486.9,
          269.84,
          153.77,
          1358.33,
          86.89,
          21.91,
          18.64,
          215.28,
          168.38,
          356.59,
          89.29,
          830.56,
          172.31,
          185.49,
          134.02,
          625.25,
          297.01,
          798.67,
          191.67,
          213.35,
          491.47,
          542.42,
          36.33,
          149.02,
          171.66,
          40.63,
          231.67,
          2087.34,
          242.14,
          167.92,
          167.55,
          461.36,
          86.76,
          230.41,
          207.07,
          174.42,
          539.08,
          85.58,
          336.51,
          955.67,
          193.02,
          429.04,
          938.26,
          204.27,
          354.36,
          1157.95,
          617.97,
          170.1,
          500,
          909.06,
          371.64,
          89,
          167.62,
          187.25,
          195.1,
          356.23,
          662.22,
          354.52,
          659.15,
          618,
          57.2,
          287.91,
          979.98,
          128.79,
          107.95,
          167.86,
          487.76,
          1222.22,
          142,
          196.88,
          742.42,
          1324.63,
          37.54,
          71.51,
          90.14,
          1014.75,
          235.48,
          1127.78,
          40.7,
          75.3,
          86.88,
          372.73,
          626.92,
          313.7,
          84.48,
          166.93,
          107.18,
          1178,
          444.83,
          170.11,
          49.87,
          86.77,
          258.62,
          2025,
          686.67,
          872.5,
          274.12,
          305.97,
          452.73,
          282.95,
          106.43,
          196.53,
          84.94,
          293.62,
          252.54,
          702.66,
          444.58,
          43.58,
          162.48,
          153.45,
          59.46,
          400,
          235.71,
          224.49,
          513.64,
          154.55,
          1788.16,
          163.79,
          115.35,
          289.53,
          210.59,
          488.24,
          276.01,
          363.37,
          130.29,
          496.15,
          237.62,
          304.23,
          93.89,
          8.67,
          43.73,
          22.84,
          60.24,
          239.62,
          1458,
          507.02,
          226.67,
          1057.58,
          94.52,
          257.58,
          85.89,
          90.62,
          323.75,
          81.79,
          117.84,
          130.61,
          120.27,
          269.49,
          115.58,
          53.38,
          44.59,
          200.59,
          81.32,
          940.38,
          4663.89,
          373.15,
          580.03,
          185.14,
          298.57,
          680.61,
          105.37,
          76.77,
          278.49,
          102.99,
          195.63,
          1121.88,
          591.84,
          568.35,
          601.47,
          91.87,
          70.25,
          47.51,
          161.22,
          1518.75,
          840.18,
          941.82,
          282.3,
          70.51,
          133.32,
          216.88,
          673.02,
          101.61,
          684.77,
          485.09,
          248.95,
          186.38,
          185.9,
          389.86,
          635.29,
          368.31,
          195.93,
          357.73,
          404.94,
          490.94,
          130.88,
          1087.97,
          625.34,
          294.87,
          867.5,
          2697.78,
          953.93,
          105.08,
          429.9,
          948.78,
          397.78,
          88.39,
          253.37,
          159.57,
          647.84,
          39.8,
          61.68,
          145.59,
          52.34,
          287.5,
          230.16,
          56.82,
          91.13,
          109.32,
          459.62,
          209.61,
          284.48,
          147.46,
          353.62,
          710.05,
          118.07,
          252.72,
          580.36,
          117.8,
          704.56,
          905.61,
          239.38,
          415,
          375.55,
          150.62,
          706.47,
          187.67,
          356.87,
          341.1,
          226.13,
          117.7,
          570.13,
          286.53,
          172.6,
          1108.38,
          347.95,
          252.08,
          325.83,
          470.96,
          255.94,
          66.47,
          119.86,
          98.05,
          125,
          568.64,
          225.59,
          142,
          22.69,
          153.61,
          225,
          203.72,
          292.55,
          121.93,
          503.74,
          137.37,
          472.3,
          380.16,
          678.34,
          1125.79,
          116.06,
          1030,
          387.19,
          624,
          78.57,
          358.46,
          475.23,
          552.04,
          524,
          331.04,
          266.45,
          274.49,
          618.99,
          282.61,
          383.58,
          324.75,
          184.5,
          108.89,
          513.16,
          364,
          506.04,
          320.34,
          121.11,
          330.43,
          398,
          151.11,
          89.86,
          997.47,
          243.67,
          160.54,
          315.45,
          347.46,
          180.56,
          322.21,
          163.78,
          104.78,
          510.64,
          535.82,
          72.64,
          98.26,
          300.91,
          321.64,
          288.91,
          496.25,
          180.32,
          63.11,
          246.58,
          810.1,
          670.31,
          259.67,
          1433.79,
          296,
          323.27,
          262.37,
          309.21,
          238.26,
          455.89,
          239.41,
          375.38,
          358.5,
          696,
          382.5,
          58.4,
          111.56,
          90.95,
          375,
          200,
          581.69,
          76.7,
          775.29,
          337.5,
          246,
          129.96,
          411.97,
          32.75,
          199.87,
          88.75,
          237.18,
          529.48,
          176.93,
          655.1,
          183.86,
          300.74,
          278.83,
          221.79,
          162.98,
          392.09,
          238.35,
          109.06,
          196.44,
          602.83,
          489.47,
          362.39,
          94.15,
          213.45,
          180.86,
          153.33,
          349.26,
          186.35,
          399.78,
          116.57,
          314.55,
          81.02,
          165.22,
          85.07,
          131.78,
          800,
          233.83,
          282.93,
          262.82,
          905.41,
          287.38,
          191.4,
          237.87,
          672.28,
          461.68,
          86.79,
          166,
          73.48,
          484.85,
          166.56,
          842.43,
          74.81,
          786.49,
          173.28,
          195.65,
          69.28,
          396.92,
          73.81,
          431.02,
          38.43,
          1056.84,
          628.95,
          170.16,
          854.67,
          229.42,
          211,
          193.41,
          79.16,
          210,
          192,
          23.87,
          52.64,
          55.93,
          100.37,
          107,
          103.51,
          195.65,
          69.14,
          230.92,
          145.18,
          51.96,
          248.65,
          128.87,
          724.6,
          112.09,
          130.4,
          646.18,
          173.01,
          122.47,
          249.8,
          174.23,
          226.83,
          510.77,
          62.05,
          67.28,
          304.75,
          58.33,
          118.29,
          173.27,
          484.63,
          350.23,
          515.31,
          142.1,
          458,
          602.14,
          41.66,
          257.23,
          87.65,
          425.51,
          155.83,
          204.26,
          63.16,
          44.36,
          485,
          30.53,
          278.79,
          394.19,
          139.13,
          161.36,
          75.68,
          692.05,
          181.23,
          282.8,
          75.15,
          296,
          161.8,
          439.27,
          247.5,
          433.42,
          234.3,
          602.19,
          41.29,
          120.92,
          58.81,
          203.23,
          195,
          317.49,
          86.74,
          330.23,
          405.48,
          616.49,
          913.79,
          375.91,
          196.12,
          151.62,
          183.5,
          286.37,
          84.08,
          80.07,
          422.03
         ],
         "xaxis": "x2",
         "y": [
          228,
          323,
          341,
          31000,
          60000,
          21000,
          16000,
          647,
          323,
          15,
          33,
          164000,
          205000,
          14,
          38,
          817,
          174000,
          339,
          156000,
          78,
          13,
          60,
          14000,
          125,
          38000,
          10000,
          207,
          7,
          22000,
          33,
          32000,
          135,
          655,
          6,
          19,
          62000,
          466,
          479,
          846,
          46000,
          18,
          205000,
          65000,
          110,
          148,
          243,
          109,
          47,
          158,
          81,
          20000,
          51,
          38,
          323,
          51,
          17000,
          77000,
          59,
          171000,
          97,
          194,
          13,
          272,
          179,
          176,
          21,
          326,
          146,
          15000,
          297,
          280,
          11000,
          19000,
          15000,
          67,
          450,
          20000,
          147000,
          24,
          110,
          26,
          6,
          22,
          21000,
          27,
          59,
          28,
          180,
          30000,
          192,
          560,
          33,
          117,
          23000,
          11,
          12,
          39,
          14,
          113,
          118,
          39,
          15000,
          15,
          55,
          20,
          21000,
          5,
          10,
          237,
          160,
          32000,
          19,
          48,
          68,
          33000,
          13,
          542,
          10000,
          320,
          10,
          14000,
          66,
          14,
          228,
          12000,
          449,
          17,
          36,
          8,
          794,
          66,
          48,
          439,
          13,
          12,
          29,
          52000,
          65,
          41000,
          563,
          18,
          256,
          10,
          6,
          38,
          304,
          121,
          78,
          12,
          59,
          25,
          10,
          41,
          12,
          41,
          85,
          85,
          227,
          88,
          32000,
          33,
          17000,
          441,
          228,
          418,
          13000,
          26,
          9,
          58,
          5,
          164,
          6,
          12,
          13000,
          14000,
          22000,
          18,
          24000,
          6,
          372,
          396,
          279,
          106,
          13,
          97,
          98,
          348,
          181,
          416,
          10,
          30,
          151,
          21,
          151,
          248,
          34,
          197,
          74000,
          124,
          49,
          203,
          100,
          17,
          51,
          34000,
          88,
          26,
          124,
          188,
          11,
          45000,
          318,
          12,
          6,
          63000,
          27,
          123,
          16,
          298,
          19,
          122,
          74,
          77,
          51,
          18,
          98,
          45,
          10,
          149,
          291,
          261,
          63,
          283,
          38,
          5,
          12,
          11,
          157000,
          240000,
          15,
          140,
          5,
          8,
          11,
          270,
          798,
          288,
          10,
          225,
          67,
          129,
          21,
          275,
          569,
          17000,
          950,
          16,
          37,
          10,
          92,
          11,
          16,
          343,
          39,
          83000,
          92,
          10,
          49,
          914,
          7,
          6,
          595,
          118,
          8,
          982,
          10,
          119,
          16,
          14,
          5,
          22,
          11,
          6,
          90,
          110,
          7,
          76,
          27,
          537,
          39,
          19,
          6,
          377,
          901,
          6,
          885,
          248,
          19,
          6,
          30,
          14,
          12,
          368,
          12,
          12,
          8,
          351,
          16,
          5,
          18,
          15,
          18,
          6,
          39,
          15,
          116,
          28,
          15,
          12,
          11,
          38,
          13,
          34000,
          710,
          233,
          20,
          148,
          39,
          19,
          11000,
          282,
          20,
          375,
          6,
          5,
          188,
          6,
          15,
          601,
          93,
          307,
          10,
          807,
          12,
          136000,
          6,
          17000,
          58,
          27,
          61,
          58,
          40,
          46,
          62,
          24000,
          20,
          13,
          11,
          13,
          26,
          14,
          402,
          930,
          410,
          7,
          341,
          12,
          7,
          24,
          11,
          30,
          461,
          51,
          25,
          139,
          8,
          21,
          13,
          11,
          663,
          28,
          11,
          10,
          8,
          19,
          5,
          22,
          5,
          12,
          5,
          12,
          85,
          5,
          8,
          31,
          629,
          667,
          35000,
          305,
          14000,
          24000,
          30,
          278,
          25,
          171000,
          41,
          8,
          16,
          7,
          98,
          95,
          21,
          10,
          9,
          6,
          8,
          420,
          8,
          24,
          7,
          202,
          94,
          17,
          11,
          19,
          28,
          23,
          9,
          565,
          9,
          11,
          40,
          61,
          7,
          694,
          238,
          355,
          13,
          5,
          7,
          7,
          5,
          18000,
          11,
          14000,
          203,
          74,
          410,
          96,
          9,
          8,
          85,
          6,
          5,
          16000,
          24,
          242,
          16,
          14,
          7,
          9,
          9,
          54,
          10,
          5,
          11,
          57,
          37,
          15,
          8,
          8,
          733,
          626,
          8,
          9,
          16,
          14,
          5,
          815,
          7,
          17,
          5,
          5,
          41,
          83,
          26,
          27,
          293,
          210,
          6,
          12000,
          19,
          71,
          5,
          34,
          12,
          47,
          10,
          12,
          53,
          5,
          6,
          42,
          251,
          37,
          32,
          9,
          11,
          11,
          48,
          13,
          126,
          5,
          37,
          14,
          6,
          5,
          12,
          5,
          646,
          10,
          5,
          5,
          69000,
          123,
          43,
          23,
          178,
          32,
          30,
          10,
          13,
          91,
          34,
          16,
          29,
          8,
          14,
          8,
          102000,
          36,
          18,
          60,
          140,
          12,
          231,
          13,
          46,
          5,
          9,
          16,
          339,
          5,
          5,
          6,
          6,
          11,
          26,
          5,
          9,
          14,
          15,
          7,
          5,
          20,
          738,
          6,
          49,
          35,
          24,
          42,
          116,
          5,
          21,
          11,
          36,
          16,
          6,
          7,
          59,
          5,
          28,
          11,
          7,
          6,
          10,
          5,
          5,
          702,
          407,
          18,
          128,
          8,
          44,
          77,
          225,
          412,
          58,
          12,
          251,
          10,
          11,
          5,
          120000,
          12,
          9,
          37,
          35,
          5,
          7,
          40,
          25,
          7,
          6,
          100,
          6,
          58,
          20,
          184,
          306,
          6,
          45,
          18,
          16,
          126,
          6,
          22,
          13,
          22,
          11,
          12,
          6,
          5,
          54,
          582,
          28,
          253,
          9,
          11,
          26,
          41,
          14,
          20,
          12,
          6,
          10,
          24,
          44,
          5,
          21,
          23,
          23,
          9,
          19,
          32000,
          8,
          13,
          11,
          31,
          23,
          16,
          28,
          6,
          19,
          6,
          34,
          74,
          16,
          8,
          10,
          13,
          39,
          6,
          22,
          25,
          22,
          181,
          6,
          107,
          7,
          10,
          8,
          6,
          96000,
          76,
          31,
          20,
          257,
          26,
          984,
          44,
          14,
          17,
          34,
          13,
          28,
          12,
          8,
          6,
          7,
          12,
          8,
          9,
          8,
          71,
          14,
          32,
          17,
          8,
          9,
          9,
          12,
          20,
          30,
          6,
          6,
          13,
          27,
          7,
          18,
          9,
          12,
          6,
          10,
          11,
          14,
          67,
          29,
          13,
          23,
          6,
          5,
          18,
          11,
          118,
          8,
          17,
          33,
          21000,
          6,
          8,
          8,
          8,
          10,
          29,
          23,
          19,
          20,
          9,
          5,
          132,
          16,
          6,
          877,
          19,
          7,
          15,
          19,
          12,
          6,
          239,
          28,
          39,
          9,
          7,
          314,
          25,
          61,
          12000,
          6,
          8,
          13,
          10,
          6,
          23,
          13,
          8,
          6,
          161,
          18,
          63,
          9,
          37,
          6,
          6,
          7,
          10,
          7,
          6,
          9,
          14,
          30,
          127,
          105,
          614,
          36,
          52,
          7,
          123,
          22
         ],
         "yaxis": "y2"
        }
       ],
       "layout": {
        "annotations": [
         {
          "font": {
           "size": 16
          },
          "showarrow": false,
          "text": "<b>Dashcam Price Distribution</b>",
          "x": 0.225,
          "xanchor": "center",
          "xref": "paper",
          "y": 1,
          "yanchor": "bottom",
          "yref": "paper"
         },
         {
          "font": {
           "size": 16
          },
          "showarrow": false,
          "text": "<b>Dashcam Price vs Total Quantity Sold Distribution</b>",
          "x": 0.775,
          "xanchor": "center",
          "xref": "paper",
          "y": 1,
          "yanchor": "bottom",
          "yref": "paper"
         }
        ],
        "autosize": false,
        "height": 500,
        "margin": {
         "b": 50,
         "l": 100,
         "r": 150,
         "t": 150
        },
        "template": {
         "data": {
          "bar": [
           {
            "error_x": {
             "color": "#2a3f5f"
            },
            "error_y": {
             "color": "#2a3f5f"
            },
            "marker": {
             "line": {
              "color": "#E5ECF6",
              "width": 0.5
             },
             "pattern": {
              "fillmode": "overlay",
              "size": 10,
              "solidity": 0.2
             }
            },
            "type": "bar"
           }
          ],
          "barpolar": [
           {
            "marker": {
             "line": {
              "color": "#E5ECF6",
              "width": 0.5
             },
             "pattern": {
              "fillmode": "overlay",
              "size": 10,
              "solidity": 0.2
             }
            },
            "type": "barpolar"
           }
          ],
          "carpet": [
           {
            "aaxis": {
             "endlinecolor": "#2a3f5f",
             "gridcolor": "white",
             "linecolor": "white",
             "minorgridcolor": "white",
             "startlinecolor": "#2a3f5f"
            },
            "baxis": {
             "endlinecolor": "#2a3f5f",
             "gridcolor": "white",
             "linecolor": "white",
             "minorgridcolor": "white",
             "startlinecolor": "#2a3f5f"
            },
            "type": "carpet"
           }
          ],
          "choropleth": [
           {
            "colorbar": {
             "outlinewidth": 0,
             "ticks": ""
            },
            "type": "choropleth"
           }
          ],
          "contour": [
           {
            "colorbar": {
             "outlinewidth": 0,
             "ticks": ""
            },
            "colorscale": [
             [
              0,
              "#0d0887"
             ],
             [
              0.1111111111111111,
              "#46039f"
             ],
             [
              0.2222222222222222,
              "#7201a8"
             ],
             [
              0.3333333333333333,
              "#9c179e"
             ],
             [
              0.4444444444444444,
              "#bd3786"
             ],
             [
              0.5555555555555556,
              "#d8576b"
             ],
             [
              0.6666666666666666,
              "#ed7953"
             ],
             [
              0.7777777777777778,
              "#fb9f3a"
             ],
             [
              0.8888888888888888,
              "#fdca26"
             ],
             [
              1,
              "#f0f921"
             ]
            ],
            "type": "contour"
           }
          ],
          "contourcarpet": [
           {
            "colorbar": {
             "outlinewidth": 0,
             "ticks": ""
            },
            "type": "contourcarpet"
           }
          ],
          "heatmap": [
           {
            "colorbar": {
             "outlinewidth": 0,
             "ticks": ""
            },
            "colorscale": [
             [
              0,
              "#0d0887"
             ],
             [
              0.1111111111111111,
              "#46039f"
             ],
             [
              0.2222222222222222,
              "#7201a8"
             ],
             [
              0.3333333333333333,
              "#9c179e"
             ],
             [
              0.4444444444444444,
              "#bd3786"
             ],
             [
              0.5555555555555556,
              "#d8576b"
             ],
             [
              0.6666666666666666,
              "#ed7953"
             ],
             [
              0.7777777777777778,
              "#fb9f3a"
             ],
             [
              0.8888888888888888,
              "#fdca26"
             ],
             [
              1,
              "#f0f921"
             ]
            ],
            "type": "heatmap"
           }
          ],
          "heatmapgl": [
           {
            "colorbar": {
             "outlinewidth": 0,
             "ticks": ""
            },
            "colorscale": [
             [
              0,
              "#0d0887"
             ],
             [
              0.1111111111111111,
              "#46039f"
             ],
             [
              0.2222222222222222,
              "#7201a8"
             ],
             [
              0.3333333333333333,
              "#9c179e"
             ],
             [
              0.4444444444444444,
              "#bd3786"
             ],
             [
              0.5555555555555556,
              "#d8576b"
             ],
             [
              0.6666666666666666,
              "#ed7953"
             ],
             [
              0.7777777777777778,
              "#fb9f3a"
             ],
             [
              0.8888888888888888,
              "#fdca26"
             ],
             [
              1,
              "#f0f921"
             ]
            ],
            "type": "heatmapgl"
           }
          ],
          "histogram": [
           {
            "marker": {
             "pattern": {
              "fillmode": "overlay",
              "size": 10,
              "solidity": 0.2
             }
            },
            "type": "histogram"
           }
          ],
          "histogram2d": [
           {
            "colorbar": {
             "outlinewidth": 0,
             "ticks": ""
            },
            "colorscale": [
             [
              0,
              "#0d0887"
             ],
             [
              0.1111111111111111,
              "#46039f"
             ],
             [
              0.2222222222222222,
              "#7201a8"
             ],
             [
              0.3333333333333333,
              "#9c179e"
             ],
             [
              0.4444444444444444,
              "#bd3786"
             ],
             [
              0.5555555555555556,
              "#d8576b"
             ],
             [
              0.6666666666666666,
              "#ed7953"
             ],
             [
              0.7777777777777778,
              "#fb9f3a"
             ],
             [
              0.8888888888888888,
              "#fdca26"
             ],
             [
              1,
              "#f0f921"
             ]
            ],
            "type": "histogram2d"
           }
          ],
          "histogram2dcontour": [
           {
            "colorbar": {
             "outlinewidth": 0,
             "ticks": ""
            },
            "colorscale": [
             [
              0,
              "#0d0887"
             ],
             [
              0.1111111111111111,
              "#46039f"
             ],
             [
              0.2222222222222222,
              "#7201a8"
             ],
             [
              0.3333333333333333,
              "#9c179e"
             ],
             [
              0.4444444444444444,
              "#bd3786"
             ],
             [
              0.5555555555555556,
              "#d8576b"
             ],
             [
              0.6666666666666666,
              "#ed7953"
             ],
             [
              0.7777777777777778,
              "#fb9f3a"
             ],
             [
              0.8888888888888888,
              "#fdca26"
             ],
             [
              1,
              "#f0f921"
             ]
            ],
            "type": "histogram2dcontour"
           }
          ],
          "mesh3d": [
           {
            "colorbar": {
             "outlinewidth": 0,
             "ticks": ""
            },
            "type": "mesh3d"
           }
          ],
          "parcoords": [
           {
            "line": {
             "colorbar": {
              "outlinewidth": 0,
              "ticks": ""
             }
            },
            "type": "parcoords"
           }
          ],
          "pie": [
           {
            "automargin": true,
            "type": "pie"
           }
          ],
          "scatter": [
           {
            "fillpattern": {
             "fillmode": "overlay",
             "size": 10,
             "solidity": 0.2
            },
            "type": "scatter"
           }
          ],
          "scatter3d": [
           {
            "line": {
             "colorbar": {
              "outlinewidth": 0,
              "ticks": ""
             }
            },
            "marker": {
             "colorbar": {
              "outlinewidth": 0,
              "ticks": ""
             }
            },
            "type": "scatter3d"
           }
          ],
          "scattercarpet": [
           {
            "marker": {
             "colorbar": {
              "outlinewidth": 0,
              "ticks": ""
             }
            },
            "type": "scattercarpet"
           }
          ],
          "scattergeo": [
           {
            "marker": {
             "colorbar": {
              "outlinewidth": 0,
              "ticks": ""
             }
            },
            "type": "scattergeo"
           }
          ],
          "scattergl": [
           {
            "marker": {
             "colorbar": {
              "outlinewidth": 0,
              "ticks": ""
             }
            },
            "type": "scattergl"
           }
          ],
          "scattermapbox": [
           {
            "marker": {
             "colorbar": {
              "outlinewidth": 0,
              "ticks": ""
             }
            },
            "type": "scattermapbox"
           }
          ],
          "scatterpolar": [
           {
            "marker": {
             "colorbar": {
              "outlinewidth": 0,
              "ticks": ""
             }
            },
            "type": "scatterpolar"
           }
          ],
          "scatterpolargl": [
           {
            "marker": {
             "colorbar": {
              "outlinewidth": 0,
              "ticks": ""
             }
            },
            "type": "scatterpolargl"
           }
          ],
          "scatterternary": [
           {
            "marker": {
             "colorbar": {
              "outlinewidth": 0,
              "ticks": ""
             }
            },
            "type": "scatterternary"
           }
          ],
          "surface": [
           {
            "colorbar": {
             "outlinewidth": 0,
             "ticks": ""
            },
            "colorscale": [
             [
              0,
              "#0d0887"
             ],
             [
              0.1111111111111111,
              "#46039f"
             ],
             [
              0.2222222222222222,
              "#7201a8"
             ],
             [
              0.3333333333333333,
              "#9c179e"
             ],
             [
              0.4444444444444444,
              "#bd3786"
             ],
             [
              0.5555555555555556,
              "#d8576b"
             ],
             [
              0.6666666666666666,
              "#ed7953"
             ],
             [
              0.7777777777777778,
              "#fb9f3a"
             ],
             [
              0.8888888888888888,
              "#fdca26"
             ],
             [
              1,
              "#f0f921"
             ]
            ],
            "type": "surface"
           }
          ],
          "table": [
           {
            "cells": {
             "fill": {
              "color": "#EBF0F8"
             },
             "line": {
              "color": "white"
             }
            },
            "header": {
             "fill": {
              "color": "#C8D4E3"
             },
             "line": {
              "color": "white"
             }
            },
            "type": "table"
           }
          ]
         },
         "layout": {
          "annotationdefaults": {
           "arrowcolor": "#2a3f5f",
           "arrowhead": 0,
           "arrowwidth": 1
          },
          "autotypenumbers": "strict",
          "coloraxis": {
           "colorbar": {
            "outlinewidth": 0,
            "ticks": ""
           }
          },
          "colorscale": {
           "diverging": [
            [
             0,
             "#8e0152"
            ],
            [
             0.1,
             "#c51b7d"
            ],
            [
             0.2,
             "#de77ae"
            ],
            [
             0.3,
             "#f1b6da"
            ],
            [
             0.4,
             "#fde0ef"
            ],
            [
             0.5,
             "#f7f7f7"
            ],
            [
             0.6,
             "#e6f5d0"
            ],
            [
             0.7,
             "#b8e186"
            ],
            [
             0.8,
             "#7fbc41"
            ],
            [
             0.9,
             "#4d9221"
            ],
            [
             1,
             "#276419"
            ]
           ],
           "sequential": [
            [
             0,
             "#0d0887"
            ],
            [
             0.1111111111111111,
             "#46039f"
            ],
            [
             0.2222222222222222,
             "#7201a8"
            ],
            [
             0.3333333333333333,
             "#9c179e"
            ],
            [
             0.4444444444444444,
             "#bd3786"
            ],
            [
             0.5555555555555556,
             "#d8576b"
            ],
            [
             0.6666666666666666,
             "#ed7953"
            ],
            [
             0.7777777777777778,
             "#fb9f3a"
            ],
            [
             0.8888888888888888,
             "#fdca26"
            ],
            [
             1,
             "#f0f921"
            ]
           ],
           "sequentialminus": [
            [
             0,
             "#0d0887"
            ],
            [
             0.1111111111111111,
             "#46039f"
            ],
            [
             0.2222222222222222,
             "#7201a8"
            ],
            [
             0.3333333333333333,
             "#9c179e"
            ],
            [
             0.4444444444444444,
             "#bd3786"
            ],
            [
             0.5555555555555556,
             "#d8576b"
            ],
            [
             0.6666666666666666,
             "#ed7953"
            ],
            [
             0.7777777777777778,
             "#fb9f3a"
            ],
            [
             0.8888888888888888,
             "#fdca26"
            ],
            [
             1,
             "#f0f921"
            ]
           ]
          },
          "colorway": [
           "#636efa",
           "#EF553B",
           "#00cc96",
           "#ab63fa",
           "#FFA15A",
           "#19d3f3",
           "#FF6692",
           "#B6E880",
           "#FF97FF",
           "#FECB52"
          ],
          "font": {
           "color": "#2a3f5f"
          },
          "geo": {
           "bgcolor": "white",
           "lakecolor": "white",
           "landcolor": "#E5ECF6",
           "showlakes": true,
           "showland": true,
           "subunitcolor": "white"
          },
          "hoverlabel": {
           "align": "left"
          },
          "hovermode": "closest",
          "mapbox": {
           "style": "light"
          },
          "paper_bgcolor": "white",
          "plot_bgcolor": "#E5ECF6",
          "polar": {
           "angularaxis": {
            "gridcolor": "white",
            "linecolor": "white",
            "ticks": ""
           },
           "bgcolor": "#E5ECF6",
           "radialaxis": {
            "gridcolor": "white",
            "linecolor": "white",
            "ticks": ""
           }
          },
          "scene": {
           "xaxis": {
            "backgroundcolor": "#E5ECF6",
            "gridcolor": "white",
            "gridwidth": 2,
            "linecolor": "white",
            "showbackground": true,
            "ticks": "",
            "zerolinecolor": "white"
           },
           "yaxis": {
            "backgroundcolor": "#E5ECF6",
            "gridcolor": "white",
            "gridwidth": 2,
            "linecolor": "white",
            "showbackground": true,
            "ticks": "",
            "zerolinecolor": "white"
           },
           "zaxis": {
            "backgroundcolor": "#E5ECF6",
            "gridcolor": "white",
            "gridwidth": 2,
            "linecolor": "white",
            "showbackground": true,
            "ticks": "",
            "zerolinecolor": "white"
           }
          },
          "shapedefaults": {
           "line": {
            "color": "#2a3f5f"
           }
          },
          "ternary": {
           "aaxis": {
            "gridcolor": "white",
            "linecolor": "white",
            "ticks": ""
           },
           "baxis": {
            "gridcolor": "white",
            "linecolor": "white",
            "ticks": ""
           },
           "bgcolor": "#E5ECF6",
           "caxis": {
            "gridcolor": "white",
            "linecolor": "white",
            "ticks": ""
           }
          },
          "title": {
           "x": 0.05
          },
          "xaxis": {
           "automargin": true,
           "gridcolor": "white",
           "linecolor": "white",
           "ticks": "",
           "title": {
            "standoff": 15
           },
           "zerolinecolor": "white",
           "zerolinewidth": 2
          },
          "yaxis": {
           "automargin": true,
           "gridcolor": "white",
           "linecolor": "white",
           "ticks": "",
           "title": {
            "standoff": 15
           },
           "zerolinecolor": "white",
           "zerolinewidth": 2
          }
         }
        },
        "width": 1200,
        "xaxis": {
         "anchor": "y",
         "domain": [
          0,
          0.45
         ],
         "title": {
          "text": "Price (RM)"
         }
        },
        "xaxis2": {
         "anchor": "y2",
         "domain": [
          0.55,
          1
         ],
         "title": {
          "text": "Price (RM)"
         }
        },
        "yaxis": {
         "anchor": "x",
         "domain": [
          0,
          1
         ],
         "title": {
          "text": "Count"
         }
        },
        "yaxis2": {
         "anchor": "x2",
         "domain": [
          0,
          1
         ],
         "title": {
          "text": "Total Quantity Sold"
         }
        }
       }
      }
     },
     "metadata": {},
     "output_type": "display_data"
    }
   ],
   "source": [
    "# Dashboard\n",
    "dashfig1_2 = make_subplots(\n",
    "    rows=1, cols=2,\n",
    "    subplot_titles=(\"<b>Dashcam Price Distribution</b>\",\n",
    "                    \"<b>Dashcam Price vs Total Quantity Sold Distribution</b>\"))\n",
    "\n",
    "dashfig1_2.add_trace(go.Histogram(x=df_800['original_price_RM'],\n",
    "                                  nbinsx=64,\n",
    "                                  showlegend=False),\n",
    "                                  row=1,\n",
    "                                  col=1)\n",
    "dashfig1_2.add_trace(go.Histogram(histfunc='sum',\n",
    "                                  x=df_800['original_price_RM'],\n",
    "                                  y=df_800['quantity_sold'],\n",
    "                                  nbinsx=64,\n",
    "                                  showlegend=False),\n",
    "                                  row=1,\n",
    "                                  col=2)\n",
    "\n",
    "dashfig1_2.update_layout(autosize=False,\n",
    "                      width=1200,\n",
    "                      height=500,\n",
    "                      margin=dict(l=100, r=150, b=50, t=150))\n",
    "\n",
    "dashfig1_2.update_xaxes(title_text=\"Price (RM)\", row=1, col=1)\n",
    "dashfig1_2.update_xaxes(title_text='Price (RM)', row=1, col=2)\n",
    "\n",
    "dashfig1_2.update_yaxes(title_text=\"Count\", row=1, col=1)\n",
    "dashfig1_2.update_yaxes(title_text=\"Total Quantity Sold\", row=1, col=2)\n",
    "\n",
    "dashfig1_2.show()"
   ]
  },
  {
   "cell_type": "code",
   "execution_count": 78,
   "metadata": {},
   "outputs": [
    {
     "data": {
      "application/vnd.plotly.v1+json": {
       "config": {
        "plotlyServerURL": "https://plot.ly"
       },
       "data": [
        {
         "marker": {
          "opacity": 0.7
         },
         "mode": "markers",
         "showlegend": false,
         "type": "scatter",
         "x": [
          271.6,
          140,
          140,
          199.15,
          189.67,
          167.02,
          307.41,
          268.72,
          298.33,
          313.33,
          425.26,
          156.25,
          612.28,
          122.92,
          37.97,
          32.53,
          864.44,
          272.5,
          178.2,
          137.76,
          194.57,
          118.52,
          1966.67,
          73.95,
          177.08,
          893.75,
          225.41,
          360.61,
          109.88,
          146.28,
          275.53,
          446.94,
          164.13,
          37.74,
          41.21,
          4825,
          162.82,
          995.65,
          23.75,
          567.37,
          8.02,
          1375.44,
          91.02,
          80.34,
          42.38,
          65.09,
          194.52,
          115.48,
          15.13,
          113.71,
          498.72,
          324.42,
          225.49,
          72.3,
          130.86,
          220,
          149.77,
          578.48,
          664.44,
          65.82,
          742.3,
          234.38,
          219.27,
          1343.48,
          45.08,
          338.22,
          106.96,
          149.7,
          180.39,
          479.65,
          62.59,
          191.28,
          112.74,
          83.43,
          182.63,
          548,
          228.85,
          181.36,
          78.33,
          709.62,
          88.67,
          215.22,
          94.84,
          145.11,
          117.27,
          221.43,
          31.94,
          144.56,
          96.36,
          139.8,
          775.56,
          124.32,
          37.9,
          255.56,
          37.12,
          39.89,
          250.1,
          99.85,
          179.55,
          155.95,
          146.72,
          98.39,
          137.5,
          572.5,
          116.16,
          516.6,
          1098,
          72.47,
          47.21,
          25.97,
          179.6,
          71.03,
          243.33,
          166.46,
          250,
          645.1,
          197.2,
          115.72,
          636.96,
          58.84,
          241.82,
          160.56,
          79.62,
          719.44,
          148.76,
          86.93,
          923.88,
          1036.67,
          323.91,
          138,
          177.56,
          67.06,
          70.56,
          185.43,
          353.33,
          58.62,
          44.27,
          695.24,
          845,
          246.4,
          123.39,
          607.25,
          3.61,
          269.7,
          7.58,
          262.08,
          155.45,
          99.24,
          900.78,
          43.99,
          20.44,
          118.62,
          530.23,
          763.83,
          153.12,
          87.2,
          109.09,
          213.26,
          80.82,
          65.34,
          420,
          42.75,
          30.26,
          50.09,
          840.91,
          236,
          355.56,
          110.1,
          114.81,
          168.09,
          247.73,
          73.53,
          573.7,
          62.73,
          143.37,
          143.23,
          1164.67,
          167.99,
          683.56,
          227.88,
          359.1,
          189.32,
          479.4,
          172.5,
          149.81,
          998.15,
          72.94,
          178,
          200.98,
          473.98,
          242,
          247.86,
          463.38,
          42.25,
          156.42,
          738.89,
          273.88,
          207.36,
          107.66,
          79.69,
          323.64,
          171.32,
          197.5,
          117,
          187.54,
          1173.48,
          81.65,
          265.33,
          71.08,
          406.12,
          1100,
          153.41,
          116.41,
          1194.53,
          76.3,
          333.87,
          477.27,
          1030.65,
          152.59,
          258.83,
          138,
          164.63,
          616.36,
          432.56,
          107.54,
          110.84,
          85.42,
          279.24,
          232.81,
          219.38,
          221.72,
          37.38,
          1045.24,
          40.13,
          895.92,
          497,
          149.12,
          181.37,
          68.74,
          386.36,
          110,
          69.09,
          90.4,
          185,
          168.42,
          65.06,
          280.8,
          331.67,
          172.73,
          336.84,
          74.1,
          651.57,
          164.59,
          81.95,
          160.23,
          597.07,
          179.49,
          136.31,
          297.73,
          176.79,
          222.22,
          139.84,
          236.96,
          346.51,
          36.27,
          831.94,
          199.32,
          215.21,
          620.27,
          148.95,
          551.85,
          2911.76,
          122.24,
          219.6,
          1068.75,
          59.58,
          791,
          145.27,
          236.08,
          30.12,
          405.81,
          121.85,
          73.97,
          215,
          130.36,
          497.92,
          184.81,
          993.33,
          130.22,
          127.45,
          106.02,
          151.16,
          139.81,
          480.83,
          1249.25,
          174.14,
          286.67,
          58.31,
          1408.16,
          235.59,
          855.11,
          119.28,
          157,
          368.52,
          791.67,
          1108,
          1210.64,
          252.5,
          140.82,
          545.8,
          315.36,
          486.9,
          269.84,
          153.77,
          1358.33,
          86.89,
          21.91,
          18.64,
          215.28,
          168.38,
          356.59,
          89.29,
          830.56,
          172.31,
          185.49,
          134.02,
          625.25,
          297.01,
          798.67,
          191.67,
          213.35,
          491.47,
          542.42,
          36.33,
          149.02,
          171.66,
          40.63,
          231.67,
          2087.34,
          242.14,
          167.92,
          167.55,
          461.36,
          86.76,
          230.41,
          207.07,
          174.42,
          539.08,
          85.58,
          336.51,
          955.67,
          193.02,
          429.04,
          938.26,
          204.27,
          354.36,
          1157.95,
          617.97,
          170.1,
          500,
          909.06,
          371.64,
          89,
          167.62,
          187.25,
          195.1,
          356.23,
          662.22,
          354.52,
          659.15,
          618,
          57.2,
          287.91,
          979.98,
          128.79,
          107.95,
          167.86,
          487.76,
          1222.22,
          142,
          196.88,
          742.42,
          1324.63,
          37.54,
          71.51,
          90.14,
          1014.75,
          235.48,
          1127.78,
          40.7,
          75.3,
          86.88,
          372.73,
          626.92,
          313.7,
          84.48,
          166.93,
          107.18,
          1178,
          444.83,
          170.11,
          49.87,
          86.77,
          258.62,
          2025,
          686.67,
          872.5,
          274.12,
          305.97,
          452.73,
          282.95,
          106.43,
          196.53,
          84.94,
          293.62,
          252.54,
          702.66,
          444.58,
          43.58,
          162.48,
          153.45,
          59.46,
          400,
          235.71,
          224.49,
          513.64,
          154.55,
          1788.16,
          163.79,
          115.35,
          289.53,
          210.59,
          488.24,
          276.01,
          363.37,
          130.29,
          496.15,
          237.62,
          304.23,
          93.89,
          8.67,
          43.73,
          22.84,
          60.24,
          239.62,
          1458,
          507.02,
          226.67,
          1057.58,
          94.52,
          257.58,
          85.89,
          90.62,
          323.75,
          81.79,
          117.84,
          130.61,
          120.27,
          269.49,
          115.58,
          53.38,
          44.59,
          200.59,
          81.32,
          940.38,
          4663.89,
          373.15,
          580.03,
          185.14,
          298.57,
          680.61,
          105.37,
          76.77,
          278.49,
          102.99,
          195.63,
          1121.88,
          591.84,
          568.35,
          601.47,
          91.87,
          70.25,
          47.51,
          161.22,
          1518.75,
          840.18,
          941.82,
          282.3,
          70.51,
          133.32,
          216.88,
          673.02,
          101.61,
          684.77,
          485.09,
          248.95,
          186.38,
          185.9,
          389.86,
          635.29,
          368.31,
          195.93,
          357.73,
          404.94,
          490.94,
          130.88,
          1087.97,
          625.34,
          294.87,
          867.5,
          2697.78,
          953.93,
          105.08,
          429.9,
          948.78,
          397.78,
          88.39,
          253.37,
          159.57,
          647.84,
          39.8,
          61.68,
          145.59,
          52.34,
          287.5,
          230.16,
          56.82,
          91.13,
          109.32,
          459.62,
          209.61,
          284.48,
          147.46,
          353.62,
          710.05,
          118.07,
          252.72,
          580.36,
          117.8,
          704.56,
          905.61,
          239.38,
          415,
          375.55,
          150.62,
          706.47,
          187.67,
          356.87,
          341.1,
          226.13,
          117.7,
          570.13,
          286.53,
          172.6,
          1108.38,
          347.95,
          252.08,
          325.83,
          470.96,
          255.94,
          66.47,
          119.86,
          98.05,
          125,
          568.64,
          225.59,
          142,
          22.69,
          153.61,
          225,
          203.72,
          292.55,
          121.93,
          503.74,
          137.37,
          472.3,
          380.16,
          678.34,
          1125.79,
          116.06,
          1030,
          387.19,
          624,
          78.57,
          358.46,
          475.23,
          552.04,
          524,
          331.04,
          266.45,
          274.49,
          618.99,
          282.61,
          383.58,
          324.75,
          184.5,
          108.89,
          513.16,
          364,
          506.04,
          320.34,
          121.11,
          330.43,
          398,
          151.11,
          89.86,
          997.47,
          243.67,
          160.54,
          315.45,
          347.46,
          180.56,
          322.21,
          163.78,
          104.78,
          510.64,
          535.82,
          72.64,
          98.26,
          300.91,
          321.64,
          288.91,
          496.25,
          180.32,
          63.11,
          246.58,
          810.1,
          670.31,
          259.67,
          1433.79,
          296,
          323.27,
          262.37,
          309.21,
          238.26,
          455.89,
          239.41,
          375.38,
          358.5,
          696,
          382.5,
          58.4,
          111.56,
          90.95,
          375,
          200,
          581.69,
          76.7,
          775.29,
          337.5,
          246,
          129.96,
          411.97,
          32.75,
          199.87,
          88.75,
          237.18,
          529.48,
          176.93,
          655.1,
          183.86,
          300.74,
          278.83,
          221.79,
          162.98,
          392.09,
          238.35,
          109.06,
          196.44,
          602.83,
          489.47,
          362.39,
          94.15,
          213.45,
          180.86,
          153.33,
          349.26,
          186.35,
          399.78,
          116.57,
          314.55,
          81.02,
          165.22,
          85.07,
          131.78,
          800,
          233.83,
          282.93,
          262.82,
          905.41,
          287.38,
          191.4,
          237.87,
          672.28,
          461.68,
          86.79,
          166,
          73.48,
          484.85,
          166.56,
          842.43,
          74.81,
          786.49,
          173.28,
          195.65,
          69.28,
          396.92,
          73.81,
          431.02,
          38.43,
          1056.84,
          628.95,
          170.16,
          854.67,
          229.42,
          211,
          193.41,
          79.16,
          210,
          192,
          23.87,
          52.64,
          55.93,
          100.37,
          107,
          103.51,
          195.65,
          69.14,
          230.92,
          145.18,
          51.96,
          248.65,
          128.87,
          724.6,
          112.09,
          130.4,
          646.18,
          173.01,
          122.47,
          249.8,
          174.23,
          226.83,
          510.77,
          62.05,
          67.28,
          304.75,
          58.33,
          118.29,
          173.27,
          484.63,
          350.23,
          515.31,
          142.1,
          458,
          602.14,
          41.66,
          257.23,
          87.65,
          425.51,
          155.83,
          204.26,
          63.16,
          44.36,
          485,
          30.53,
          278.79,
          394.19,
          139.13,
          161.36,
          75.68,
          692.05,
          181.23,
          282.8,
          75.15,
          296,
          161.8,
          439.27,
          247.5,
          433.42,
          234.3,
          602.19,
          41.29,
          120.92,
          58.81,
          203.23,
          195,
          317.49,
          86.74,
          330.23,
          405.48,
          616.49,
          913.79,
          375.91,
          196.12,
          151.62,
          183.5,
          286.37,
          84.08,
          80.07,
          422.03
         ],
         "xaxis": "x",
         "y": [
          228,
          323,
          341,
          31000,
          60000,
          21000,
          16000,
          647,
          323,
          15,
          33,
          164000,
          205000,
          14,
          38,
          817,
          174000,
          339,
          156000,
          78,
          13,
          60,
          14000,
          125,
          38000,
          10000,
          207,
          7,
          22000,
          33,
          32000,
          135,
          655,
          6,
          19,
          62000,
          466,
          479,
          846,
          46000,
          18,
          205000,
          65000,
          110,
          148,
          243,
          109,
          47,
          158,
          81,
          20000,
          51,
          38,
          323,
          51,
          17000,
          77000,
          59,
          171000,
          97,
          194,
          13,
          272,
          179,
          176,
          21,
          326,
          146,
          15000,
          297,
          280,
          11000,
          19000,
          15000,
          67,
          450,
          20000,
          147000,
          24,
          110,
          26,
          6,
          22,
          21000,
          27,
          59,
          28,
          180,
          30000,
          192,
          560,
          33,
          117,
          23000,
          11,
          12,
          39,
          14,
          113,
          118,
          39,
          15000,
          15,
          55,
          20,
          21000,
          5,
          10,
          237,
          160,
          32000,
          19,
          48,
          68,
          33000,
          13,
          542,
          10000,
          320,
          10,
          14000,
          66,
          14,
          228,
          12000,
          449,
          17,
          36,
          8,
          794,
          66,
          48,
          439,
          13,
          12,
          29,
          52000,
          65,
          41000,
          563,
          18,
          256,
          10,
          6,
          38,
          304,
          121,
          78,
          12,
          59,
          25,
          10,
          41,
          12,
          41,
          85,
          85,
          227,
          88,
          32000,
          33,
          17000,
          441,
          228,
          418,
          13000,
          26,
          9,
          58,
          5,
          164,
          6,
          12,
          13000,
          14000,
          22000,
          18,
          24000,
          6,
          372,
          396,
          279,
          106,
          13,
          97,
          98,
          348,
          181,
          416,
          10,
          30,
          151,
          21,
          151,
          248,
          34,
          197,
          74000,
          124,
          49,
          203,
          100,
          17,
          51,
          34000,
          88,
          26,
          124,
          188,
          11,
          45000,
          318,
          12,
          6,
          63000,
          27,
          123,
          16,
          298,
          19,
          122,
          74,
          77,
          51,
          18,
          98,
          45,
          10,
          149,
          291,
          261,
          63,
          283,
          38,
          5,
          12,
          11,
          157000,
          240000,
          15,
          140,
          5,
          8,
          11,
          270,
          798,
          288,
          10,
          225,
          67,
          129,
          21,
          275,
          569,
          17000,
          950,
          16,
          37,
          10,
          92,
          11,
          16,
          343,
          39,
          83000,
          92,
          10,
          49,
          914,
          7,
          6,
          595,
          118,
          8,
          982,
          10,
          119,
          16,
          14,
          5,
          22,
          11,
          6,
          90,
          110,
          7,
          76,
          27,
          537,
          39,
          19,
          6,
          377,
          901,
          6,
          885,
          248,
          19,
          6,
          30,
          14,
          12,
          368,
          12,
          12,
          8,
          351,
          16,
          5,
          18,
          15,
          18,
          6,
          39,
          15,
          116,
          28,
          15,
          12,
          11,
          38,
          13,
          34000,
          710,
          233,
          20,
          148,
          39,
          19,
          11000,
          282,
          20,
          375,
          6,
          5,
          188,
          6,
          15,
          601,
          93,
          307,
          10,
          807,
          12,
          136000,
          6,
          17000,
          58,
          27,
          61,
          58,
          40,
          46,
          62,
          24000,
          20,
          13,
          11,
          13,
          26,
          14,
          402,
          930,
          410,
          7,
          341,
          12,
          7,
          24,
          11,
          30,
          461,
          51,
          25,
          139,
          8,
          21,
          13,
          11,
          663,
          28,
          11,
          10,
          8,
          19,
          5,
          22,
          5,
          12,
          5,
          12,
          85,
          5,
          8,
          31,
          629,
          667,
          35000,
          305,
          14000,
          24000,
          30,
          278,
          25,
          171000,
          41,
          8,
          16,
          7,
          98,
          95,
          21,
          10,
          9,
          6,
          8,
          420,
          8,
          24,
          7,
          202,
          94,
          17,
          11,
          19,
          28,
          23,
          9,
          565,
          9,
          11,
          40,
          61,
          7,
          694,
          238,
          355,
          13,
          5,
          7,
          7,
          5,
          18000,
          11,
          14000,
          203,
          74,
          410,
          96,
          9,
          8,
          85,
          6,
          5,
          16000,
          24,
          242,
          16,
          14,
          7,
          9,
          9,
          54,
          10,
          5,
          11,
          57,
          37,
          15,
          8,
          8,
          733,
          626,
          8,
          9,
          16,
          14,
          5,
          815,
          7,
          17,
          5,
          5,
          41,
          83,
          26,
          27,
          293,
          210,
          6,
          12000,
          19,
          71,
          5,
          34,
          12,
          47,
          10,
          12,
          53,
          5,
          6,
          42,
          251,
          37,
          32,
          9,
          11,
          11,
          48,
          13,
          126,
          5,
          37,
          14,
          6,
          5,
          12,
          5,
          646,
          10,
          5,
          5,
          69000,
          123,
          43,
          23,
          178,
          32,
          30,
          10,
          13,
          91,
          34,
          16,
          29,
          8,
          14,
          8,
          102000,
          36,
          18,
          60,
          140,
          12,
          231,
          13,
          46,
          5,
          9,
          16,
          339,
          5,
          5,
          6,
          6,
          11,
          26,
          5,
          9,
          14,
          15,
          7,
          5,
          20,
          738,
          6,
          49,
          35,
          24,
          42,
          116,
          5,
          21,
          11,
          36,
          16,
          6,
          7,
          59,
          5,
          28,
          11,
          7,
          6,
          10,
          5,
          5,
          702,
          407,
          18,
          128,
          8,
          44,
          77,
          225,
          412,
          58,
          12,
          251,
          10,
          11,
          5,
          120000,
          12,
          9,
          37,
          35,
          5,
          7,
          40,
          25,
          7,
          6,
          100,
          6,
          58,
          20,
          184,
          306,
          6,
          45,
          18,
          16,
          126,
          6,
          22,
          13,
          22,
          11,
          12,
          6,
          5,
          54,
          582,
          28,
          253,
          9,
          11,
          26,
          41,
          14,
          20,
          12,
          6,
          10,
          24,
          44,
          5,
          21,
          23,
          23,
          9,
          19,
          32000,
          8,
          13,
          11,
          31,
          23,
          16,
          28,
          6,
          19,
          6,
          34,
          74,
          16,
          8,
          10,
          13,
          39,
          6,
          22,
          25,
          22,
          181,
          6,
          107,
          7,
          10,
          8,
          6,
          96000,
          76,
          31,
          20,
          257,
          26,
          984,
          44,
          14,
          17,
          34,
          13,
          28,
          12,
          8,
          6,
          7,
          12,
          8,
          9,
          8,
          71,
          14,
          32,
          17,
          8,
          9,
          9,
          12,
          20,
          30,
          6,
          6,
          13,
          27,
          7,
          18,
          9,
          12,
          6,
          10,
          11,
          14,
          67,
          29,
          13,
          23,
          6,
          5,
          18,
          11,
          118,
          8,
          17,
          33,
          21000,
          6,
          8,
          8,
          8,
          10,
          29,
          23,
          19,
          20,
          9,
          5,
          132,
          16,
          6,
          877,
          19,
          7,
          15,
          19,
          12,
          6,
          239,
          28,
          39,
          9,
          7,
          314,
          25,
          61,
          12000,
          6,
          8,
          13,
          10,
          6,
          23,
          13,
          8,
          6,
          161,
          18,
          63,
          9,
          37,
          6,
          6,
          7,
          10,
          7,
          6,
          9,
          14,
          30,
          127,
          105,
          614,
          36,
          52,
          7,
          123,
          22
         ],
         "yaxis": "y"
        },
        {
         "marker": {
          "opacity": 0.7
         },
         "mode": "markers",
         "showlegend": false,
         "type": "scatter",
         "x": [
          50,
          43,
          43,
          60,
          58,
          57,
          19,
          53,
          40,
          76,
          10,
          52,
          43,
          52,
          13,
          27,
          55,
          60,
          50,
          42,
          8,
          73,
          67,
          19,
          52,
          52,
          66,
          67,
          19,
          57,
          6,
          51,
          8,
          27,
          38,
          88,
          40,
          77,
          20,
          5,
          54,
          75,
          42,
          13,
          35,
          45,
          79,
          79,
          22,
          72,
          22,
          14,
          49,
          13,
          42,
          65,
          56,
          54,
          55,
          33,
          53,
          19,
          70,
          77,
          39,
          77,
          31,
          60,
          49,
          23,
          14,
          53,
          38,
          51,
          24,
          50,
          48,
          56,
          51,
          48,
          10,
          54,
          37,
          53,
          45,
          30,
          38,
          52,
          20,
          50,
          55,
          26,
          8,
          64,
          58,
          21,
          51,
          35,
          56,
          58,
          39,
          72,
          10,
          60,
          45,
          53,
          50,
          55,
          42,
          5,
          50,
          3,
          22,
          50,
          66,
          49,
          50,
          31,
          48,
          31,
          67,
          19,
          21,
          64,
          59,
          42,
          33,
          67,
          54,
          50,
          45,
          5,
          46,
          65,
          55,
          53,
          38,
          34,
          80,
          50,
          51,
          31,
          17,
          67,
          34,
          76,
          27,
          34,
          45,
          21,
          32,
          20,
          57,
          53,
          36,
          50,
          54,
          50,
          35,
          36,
          55,
          49,
          20,
          45,
          78,
          75,
          55,
          71,
          46,
          53,
          56,
          32,
          77,
          23,
          17,
          13,
          58,
          27,
          27,
          31,
          32,
          6,
          50,
          20,
          48,
          46,
          15,
          50,
          59,
          53,
          55,
          44,
          29,
          29,
          55,
          46,
          15,
          47,
          14,
          58,
          72,
          47,
          60,
          50,
          63,
          77,
          17,
          25,
          17,
          51,
          41,
          59,
          36,
          34,
          77,
          38,
          78,
          38,
          46,
          53,
          50,
          59,
          45,
          50,
          35,
          17,
          55,
          55,
          36,
          47,
          50,
          50,
          58,
          21,
          51,
          60,
          43,
          62,
          13,
          78,
          10,
          67,
          50,
          20,
          62,
          17,
          70,
          70,
          45,
          62,
          49,
          11,
          15,
          41,
          57,
          30,
          30,
          32,
          78,
          44,
          3,
          7,
          54,
          57,
          5,
          28,
          62,
          29,
          38,
          43,
          46,
          66,
          51,
          75,
          52,
          50,
          58,
          45,
          3,
          17,
          14,
          54,
          27,
          40,
          44,
          52,
          73,
          70,
          54,
          53,
          46,
          57,
          47,
          28,
          64,
          15,
          55,
          36,
          51,
          41,
          53,
          17,
          30,
          46,
          52,
          50,
          53,
          64,
          39,
          45,
          30,
          16,
          43,
          30,
          64,
          56,
          32,
          27,
          50,
          42,
          78,
          15,
          64,
          36,
          9,
          18,
          1,
          33,
          25,
          64,
          48,
          13,
          67,
          19,
          17,
          50,
          18,
          40,
          21,
          35,
          47,
          47,
          56,
          32,
          54,
          59,
          64,
          13,
          62,
          37,
          70,
          57,
          46,
          69,
          11,
          64,
          62,
          66,
          3,
          67,
          67,
          42,
          35,
          74,
          60,
          49,
          53,
          55,
          69,
          29,
          50,
          40,
          47,
          50,
          34,
          12,
          31,
          51,
          64,
          50,
          4,
          67,
          57,
          50,
          18,
          28,
          39,
          38,
          46,
          14,
          50,
          50,
          45,
          74,
          27,
          31,
          26,
          34,
          50,
          48,
          13,
          21,
          44,
          42,
          64,
          55,
          60,
          40,
          33,
          45,
          12,
          42,
          22,
          64,
          35,
          41,
          11,
          17,
          29,
          27,
          42,
          52,
          67,
          58,
          51,
          34,
          45,
          24,
          42,
          21,
          14,
          15,
          49,
          28,
          30,
          31,
          48,
          39,
          29,
          5,
          25,
          37,
          20,
          28,
          66,
          50,
          11,
          70,
          67,
          27,
          67,
          38,
          36,
          20,
          5,
          44,
          34,
          26,
          41,
          23,
          4,
          26,
          9,
          13,
          48,
          64,
          48,
          36,
          6,
          30,
          49,
          27,
          35,
          7,
          29,
          18,
          68,
          2,
          21,
          32,
          40,
          3,
          19,
          51,
          52,
          67,
          45,
          40,
          1,
          25,
          12,
          37,
          38,
          30,
          56,
          19,
          50,
          61,
          4,
          49,
          58,
          73,
          3,
          19,
          66,
          32,
          60,
          38,
          31,
          60,
          73,
          55,
          41,
          28,
          59,
          55,
          23,
          51,
          53,
          50,
          51,
          66,
          32,
          17,
          48,
          37,
          35,
          17,
          27,
          48,
          28,
          42,
          41,
          53,
          44,
          19,
          60,
          44,
          50,
          50,
          51,
          45,
          40,
          40,
          23,
          43,
          57,
          38,
          27,
          32,
          14,
          23,
          30,
          3,
          50,
          45,
          22,
          31,
          46,
          33,
          55,
          42,
          41,
          49,
          50,
          39,
          55,
          46,
          3,
          56,
          68,
          25,
          40,
          77,
          25,
          10,
          17,
          38,
          47,
          38,
          70,
          38,
          25,
          4,
          44,
          35,
          50,
          50,
          31,
          51,
          55,
          21,
          31,
          47,
          41,
          60,
          35,
          50,
          10,
          50,
          41,
          25,
          31,
          50,
          55,
          26,
          21,
          40,
          44,
          56,
          37,
          64,
          61,
          68,
          50,
          53,
          33,
          13,
          30,
          67,
          20,
          33,
          56,
          50,
          9,
          41,
          14,
          36,
          30,
          61,
          37,
          48,
          48,
          67,
          5,
          55,
          30,
          35,
          28,
          50,
          66,
          50,
          48,
          42,
          48,
          36,
          29,
          17,
          15,
          72,
          50,
          49,
          70,
          5,
          45,
          36,
          22,
          56,
          41,
          51,
          44,
          50,
          16,
          22,
          57,
          57,
          25,
          21,
          30,
          36,
          43,
          51,
          34,
          40,
          27,
          40,
          19,
          49,
          51,
          33,
          38,
          50,
          55,
          32,
          50,
          54,
          53,
          59,
          22,
          26,
          47,
          35,
          48,
          47,
          53,
          19,
          50,
          27,
          34,
          32,
          58,
          4,
          63,
          32,
          8,
          42,
          35,
          36,
          45,
          30,
          42,
          62,
          27,
          67,
          47,
          20,
          13,
          19,
          51,
          26,
          33,
          30,
          42,
          37,
          36,
          20,
          8,
          50,
          48,
          51,
          47,
          29,
          38,
          43,
          25,
          40,
          32,
          33,
          11,
          1,
          22,
          47,
          53,
          44,
          24,
          41,
          42,
          42,
          55,
          38,
          18,
          33,
          16,
          50,
          51,
          17,
          29,
          14,
          37,
          29,
          61,
          21,
          45,
          20,
          5,
          67,
          14,
          48,
          58,
          3,
          12,
          36,
          41,
          27,
          50,
          4,
          9,
          50,
          33,
          60,
          68,
          11,
          4,
          3,
          7,
          36,
          24,
          13,
          57,
          12,
          3,
          42,
          32,
          5,
          50,
          58,
          29,
          8,
          33,
          23
         ],
         "xaxis": "x2",
         "y": [
          228,
          323,
          341,
          31000,
          60000,
          21000,
          16000,
          647,
          323,
          15,
          33,
          164000,
          205000,
          14,
          38,
          817,
          174000,
          339,
          156000,
          78,
          13,
          60,
          14000,
          125,
          38000,
          10000,
          207,
          7,
          22000,
          33,
          32000,
          135,
          655,
          6,
          19,
          62000,
          466,
          479,
          846,
          46000,
          18,
          205000,
          65000,
          110,
          148,
          243,
          109,
          47,
          158,
          81,
          20000,
          51,
          38,
          323,
          51,
          17000,
          77000,
          59,
          171000,
          97,
          194,
          13,
          272,
          179,
          176,
          21,
          326,
          146,
          15000,
          297,
          280,
          11000,
          19000,
          15000,
          67,
          450,
          20000,
          147000,
          24,
          110,
          26,
          6,
          22,
          21000,
          27,
          59,
          28,
          180,
          30000,
          192,
          560,
          33,
          117,
          23000,
          11,
          12,
          39,
          14,
          113,
          118,
          39,
          15000,
          15,
          55,
          20,
          21000,
          5,
          10,
          237,
          160,
          32000,
          19,
          48,
          68,
          33000,
          13,
          542,
          10000,
          320,
          10,
          14000,
          66,
          14,
          228,
          12000,
          449,
          17,
          36,
          8,
          794,
          66,
          48,
          439,
          13,
          12,
          29,
          52000,
          65,
          41000,
          563,
          18,
          256,
          10,
          6,
          38,
          304,
          121,
          78,
          12,
          59,
          25,
          10,
          41,
          12,
          41,
          85,
          85,
          227,
          88,
          32000,
          33,
          17000,
          441,
          228,
          418,
          13000,
          26,
          9,
          58,
          5,
          164,
          6,
          12,
          13000,
          14000,
          22000,
          18,
          24000,
          6,
          372,
          396,
          279,
          106,
          13,
          97,
          98,
          348,
          181,
          416,
          10,
          30,
          151,
          21,
          151,
          248,
          34,
          197,
          74000,
          124,
          49,
          203,
          100,
          17,
          51,
          34000,
          88,
          26,
          124,
          188,
          11,
          45000,
          318,
          12,
          6,
          63000,
          27,
          123,
          16,
          298,
          19,
          122,
          74,
          77,
          51,
          18,
          98,
          45,
          10,
          149,
          291,
          261,
          63,
          283,
          38,
          5,
          12,
          11,
          157000,
          240000,
          15,
          140,
          5,
          8,
          11,
          270,
          798,
          288,
          10,
          225,
          67,
          129,
          21,
          275,
          569,
          17000,
          950,
          16,
          37,
          10,
          92,
          11,
          16,
          343,
          39,
          83000,
          92,
          10,
          49,
          914,
          7,
          6,
          595,
          118,
          8,
          982,
          10,
          119,
          16,
          14,
          5,
          22,
          11,
          6,
          90,
          110,
          7,
          76,
          27,
          537,
          39,
          19,
          6,
          377,
          901,
          6,
          885,
          248,
          19,
          6,
          30,
          14,
          12,
          368,
          12,
          12,
          8,
          351,
          16,
          5,
          18,
          15,
          18,
          6,
          39,
          15,
          116,
          28,
          15,
          12,
          11,
          38,
          13,
          34000,
          710,
          233,
          20,
          148,
          39,
          19,
          11000,
          282,
          20,
          375,
          6,
          5,
          188,
          6,
          15,
          601,
          93,
          307,
          10,
          807,
          12,
          136000,
          6,
          17000,
          58,
          27,
          61,
          58,
          40,
          46,
          62,
          24000,
          20,
          13,
          11,
          13,
          26,
          14,
          402,
          930,
          410,
          7,
          341,
          12,
          7,
          24,
          11,
          30,
          461,
          51,
          25,
          139,
          8,
          21,
          13,
          11,
          663,
          28,
          11,
          10,
          8,
          19,
          5,
          22,
          5,
          12,
          5,
          12,
          85,
          5,
          8,
          31,
          629,
          667,
          35000,
          305,
          14000,
          24000,
          30,
          278,
          25,
          171000,
          41,
          8,
          16,
          7,
          98,
          95,
          21,
          10,
          9,
          6,
          8,
          420,
          8,
          24,
          7,
          202,
          94,
          17,
          11,
          19,
          28,
          23,
          9,
          565,
          9,
          11,
          40,
          61,
          7,
          694,
          238,
          355,
          13,
          5,
          7,
          7,
          5,
          18000,
          11,
          14000,
          203,
          74,
          410,
          96,
          9,
          8,
          85,
          6,
          5,
          16000,
          24,
          242,
          16,
          14,
          7,
          9,
          9,
          54,
          10,
          5,
          11,
          57,
          37,
          15,
          8,
          8,
          733,
          626,
          8,
          9,
          16,
          14,
          5,
          815,
          7,
          17,
          5,
          5,
          41,
          83,
          26,
          27,
          293,
          210,
          6,
          12000,
          19,
          71,
          5,
          34,
          12,
          47,
          10,
          12,
          53,
          5,
          6,
          42,
          251,
          37,
          32,
          9,
          11,
          11,
          48,
          13,
          126,
          5,
          37,
          14,
          6,
          5,
          12,
          5,
          646,
          10,
          5,
          5,
          69000,
          123,
          43,
          23,
          178,
          32,
          30,
          10,
          13,
          91,
          34,
          16,
          29,
          8,
          14,
          8,
          102000,
          36,
          18,
          60,
          140,
          12,
          231,
          13,
          46,
          5,
          9,
          16,
          339,
          5,
          5,
          6,
          6,
          11,
          26,
          5,
          9,
          14,
          15,
          7,
          5,
          20,
          738,
          6,
          49,
          35,
          24,
          42,
          116,
          5,
          21,
          11,
          36,
          16,
          6,
          7,
          59,
          5,
          28,
          11,
          7,
          6,
          10,
          5,
          5,
          702,
          407,
          18,
          128,
          8,
          44,
          77,
          225,
          412,
          58,
          12,
          251,
          10,
          11,
          5,
          120000,
          12,
          9,
          37,
          35,
          5,
          7,
          40,
          25,
          7,
          6,
          100,
          6,
          58,
          20,
          184,
          306,
          6,
          45,
          18,
          16,
          126,
          6,
          22,
          13,
          22,
          11,
          12,
          6,
          5,
          54,
          582,
          28,
          253,
          9,
          11,
          26,
          41,
          14,
          20,
          12,
          6,
          10,
          24,
          44,
          5,
          21,
          23,
          23,
          9,
          19,
          32000,
          8,
          13,
          11,
          31,
          23,
          16,
          28,
          6,
          19,
          6,
          34,
          74,
          16,
          8,
          10,
          13,
          39,
          6,
          22,
          25,
          22,
          181,
          6,
          107,
          7,
          10,
          8,
          6,
          96000,
          76,
          31,
          20,
          257,
          26,
          984,
          44,
          14,
          17,
          34,
          13,
          28,
          12,
          8,
          6,
          7,
          12,
          8,
          9,
          8,
          71,
          14,
          32,
          17,
          8,
          9,
          9,
          12,
          20,
          30,
          6,
          6,
          13,
          27,
          7,
          18,
          9,
          12,
          6,
          10,
          11,
          14,
          67,
          29,
          13,
          23,
          6,
          5,
          18,
          11,
          118,
          8,
          17,
          33,
          21000,
          6,
          8,
          8,
          8,
          10,
          29,
          23,
          19,
          20,
          9,
          5,
          132,
          16,
          6,
          877,
          19,
          7,
          15,
          19,
          12,
          6,
          239,
          28,
          39,
          9,
          7,
          314,
          25,
          61,
          12000,
          6,
          8,
          13,
          10,
          6,
          23,
          13,
          8,
          6,
          161,
          18,
          63,
          9,
          37,
          6,
          6,
          7,
          10,
          7,
          6,
          9,
          14,
          30,
          127,
          105,
          614,
          36,
          52,
          7,
          123,
          22
         ],
         "yaxis": "y2"
        }
       ],
       "layout": {
        "annotations": [
         {
          "font": {
           "size": 16
          },
          "showarrow": false,
          "text": "<b>Dashcam Price vs Quantity Sold</b>",
          "x": 0.225,
          "xanchor": "center",
          "xref": "paper",
          "y": 1,
          "yanchor": "bottom",
          "yref": "paper"
         },
         {
          "font": {
           "size": 16
          },
          "showarrow": false,
          "text": "<b>Dashcam Discount % vs Quantity Sold</b>",
          "x": 0.775,
          "xanchor": "center",
          "xref": "paper",
          "y": 1,
          "yanchor": "bottom",
          "yref": "paper"
         }
        ],
        "autosize": false,
        "height": 500,
        "margin": {
         "b": 100,
         "l": 100,
         "r": 150,
         "t": 100
        },
        "template": {
         "data": {
          "bar": [
           {
            "error_x": {
             "color": "#2a3f5f"
            },
            "error_y": {
             "color": "#2a3f5f"
            },
            "marker": {
             "line": {
              "color": "#E5ECF6",
              "width": 0.5
             },
             "pattern": {
              "fillmode": "overlay",
              "size": 10,
              "solidity": 0.2
             }
            },
            "type": "bar"
           }
          ],
          "barpolar": [
           {
            "marker": {
             "line": {
              "color": "#E5ECF6",
              "width": 0.5
             },
             "pattern": {
              "fillmode": "overlay",
              "size": 10,
              "solidity": 0.2
             }
            },
            "type": "barpolar"
           }
          ],
          "carpet": [
           {
            "aaxis": {
             "endlinecolor": "#2a3f5f",
             "gridcolor": "white",
             "linecolor": "white",
             "minorgridcolor": "white",
             "startlinecolor": "#2a3f5f"
            },
            "baxis": {
             "endlinecolor": "#2a3f5f",
             "gridcolor": "white",
             "linecolor": "white",
             "minorgridcolor": "white",
             "startlinecolor": "#2a3f5f"
            },
            "type": "carpet"
           }
          ],
          "choropleth": [
           {
            "colorbar": {
             "outlinewidth": 0,
             "ticks": ""
            },
            "type": "choropleth"
           }
          ],
          "contour": [
           {
            "colorbar": {
             "outlinewidth": 0,
             "ticks": ""
            },
            "colorscale": [
             [
              0,
              "#0d0887"
             ],
             [
              0.1111111111111111,
              "#46039f"
             ],
             [
              0.2222222222222222,
              "#7201a8"
             ],
             [
              0.3333333333333333,
              "#9c179e"
             ],
             [
              0.4444444444444444,
              "#bd3786"
             ],
             [
              0.5555555555555556,
              "#d8576b"
             ],
             [
              0.6666666666666666,
              "#ed7953"
             ],
             [
              0.7777777777777778,
              "#fb9f3a"
             ],
             [
              0.8888888888888888,
              "#fdca26"
             ],
             [
              1,
              "#f0f921"
             ]
            ],
            "type": "contour"
           }
          ],
          "contourcarpet": [
           {
            "colorbar": {
             "outlinewidth": 0,
             "ticks": ""
            },
            "type": "contourcarpet"
           }
          ],
          "heatmap": [
           {
            "colorbar": {
             "outlinewidth": 0,
             "ticks": ""
            },
            "colorscale": [
             [
              0,
              "#0d0887"
             ],
             [
              0.1111111111111111,
              "#46039f"
             ],
             [
              0.2222222222222222,
              "#7201a8"
             ],
             [
              0.3333333333333333,
              "#9c179e"
             ],
             [
              0.4444444444444444,
              "#bd3786"
             ],
             [
              0.5555555555555556,
              "#d8576b"
             ],
             [
              0.6666666666666666,
              "#ed7953"
             ],
             [
              0.7777777777777778,
              "#fb9f3a"
             ],
             [
              0.8888888888888888,
              "#fdca26"
             ],
             [
              1,
              "#f0f921"
             ]
            ],
            "type": "heatmap"
           }
          ],
          "heatmapgl": [
           {
            "colorbar": {
             "outlinewidth": 0,
             "ticks": ""
            },
            "colorscale": [
             [
              0,
              "#0d0887"
             ],
             [
              0.1111111111111111,
              "#46039f"
             ],
             [
              0.2222222222222222,
              "#7201a8"
             ],
             [
              0.3333333333333333,
              "#9c179e"
             ],
             [
              0.4444444444444444,
              "#bd3786"
             ],
             [
              0.5555555555555556,
              "#d8576b"
             ],
             [
              0.6666666666666666,
              "#ed7953"
             ],
             [
              0.7777777777777778,
              "#fb9f3a"
             ],
             [
              0.8888888888888888,
              "#fdca26"
             ],
             [
              1,
              "#f0f921"
             ]
            ],
            "type": "heatmapgl"
           }
          ],
          "histogram": [
           {
            "marker": {
             "pattern": {
              "fillmode": "overlay",
              "size": 10,
              "solidity": 0.2
             }
            },
            "type": "histogram"
           }
          ],
          "histogram2d": [
           {
            "colorbar": {
             "outlinewidth": 0,
             "ticks": ""
            },
            "colorscale": [
             [
              0,
              "#0d0887"
             ],
             [
              0.1111111111111111,
              "#46039f"
             ],
             [
              0.2222222222222222,
              "#7201a8"
             ],
             [
              0.3333333333333333,
              "#9c179e"
             ],
             [
              0.4444444444444444,
              "#bd3786"
             ],
             [
              0.5555555555555556,
              "#d8576b"
             ],
             [
              0.6666666666666666,
              "#ed7953"
             ],
             [
              0.7777777777777778,
              "#fb9f3a"
             ],
             [
              0.8888888888888888,
              "#fdca26"
             ],
             [
              1,
              "#f0f921"
             ]
            ],
            "type": "histogram2d"
           }
          ],
          "histogram2dcontour": [
           {
            "colorbar": {
             "outlinewidth": 0,
             "ticks": ""
            },
            "colorscale": [
             [
              0,
              "#0d0887"
             ],
             [
              0.1111111111111111,
              "#46039f"
             ],
             [
              0.2222222222222222,
              "#7201a8"
             ],
             [
              0.3333333333333333,
              "#9c179e"
             ],
             [
              0.4444444444444444,
              "#bd3786"
             ],
             [
              0.5555555555555556,
              "#d8576b"
             ],
             [
              0.6666666666666666,
              "#ed7953"
             ],
             [
              0.7777777777777778,
              "#fb9f3a"
             ],
             [
              0.8888888888888888,
              "#fdca26"
             ],
             [
              1,
              "#f0f921"
             ]
            ],
            "type": "histogram2dcontour"
           }
          ],
          "mesh3d": [
           {
            "colorbar": {
             "outlinewidth": 0,
             "ticks": ""
            },
            "type": "mesh3d"
           }
          ],
          "parcoords": [
           {
            "line": {
             "colorbar": {
              "outlinewidth": 0,
              "ticks": ""
             }
            },
            "type": "parcoords"
           }
          ],
          "pie": [
           {
            "automargin": true,
            "type": "pie"
           }
          ],
          "scatter": [
           {
            "fillpattern": {
             "fillmode": "overlay",
             "size": 10,
             "solidity": 0.2
            },
            "type": "scatter"
           }
          ],
          "scatter3d": [
           {
            "line": {
             "colorbar": {
              "outlinewidth": 0,
              "ticks": ""
             }
            },
            "marker": {
             "colorbar": {
              "outlinewidth": 0,
              "ticks": ""
             }
            },
            "type": "scatter3d"
           }
          ],
          "scattercarpet": [
           {
            "marker": {
             "colorbar": {
              "outlinewidth": 0,
              "ticks": ""
             }
            },
            "type": "scattercarpet"
           }
          ],
          "scattergeo": [
           {
            "marker": {
             "colorbar": {
              "outlinewidth": 0,
              "ticks": ""
             }
            },
            "type": "scattergeo"
           }
          ],
          "scattergl": [
           {
            "marker": {
             "colorbar": {
              "outlinewidth": 0,
              "ticks": ""
             }
            },
            "type": "scattergl"
           }
          ],
          "scattermapbox": [
           {
            "marker": {
             "colorbar": {
              "outlinewidth": 0,
              "ticks": ""
             }
            },
            "type": "scattermapbox"
           }
          ],
          "scatterpolar": [
           {
            "marker": {
             "colorbar": {
              "outlinewidth": 0,
              "ticks": ""
             }
            },
            "type": "scatterpolar"
           }
          ],
          "scatterpolargl": [
           {
            "marker": {
             "colorbar": {
              "outlinewidth": 0,
              "ticks": ""
             }
            },
            "type": "scatterpolargl"
           }
          ],
          "scatterternary": [
           {
            "marker": {
             "colorbar": {
              "outlinewidth": 0,
              "ticks": ""
             }
            },
            "type": "scatterternary"
           }
          ],
          "surface": [
           {
            "colorbar": {
             "outlinewidth": 0,
             "ticks": ""
            },
            "colorscale": [
             [
              0,
              "#0d0887"
             ],
             [
              0.1111111111111111,
              "#46039f"
             ],
             [
              0.2222222222222222,
              "#7201a8"
             ],
             [
              0.3333333333333333,
              "#9c179e"
             ],
             [
              0.4444444444444444,
              "#bd3786"
             ],
             [
              0.5555555555555556,
              "#d8576b"
             ],
             [
              0.6666666666666666,
              "#ed7953"
             ],
             [
              0.7777777777777778,
              "#fb9f3a"
             ],
             [
              0.8888888888888888,
              "#fdca26"
             ],
             [
              1,
              "#f0f921"
             ]
            ],
            "type": "surface"
           }
          ],
          "table": [
           {
            "cells": {
             "fill": {
              "color": "#EBF0F8"
             },
             "line": {
              "color": "white"
             }
            },
            "header": {
             "fill": {
              "color": "#C8D4E3"
             },
             "line": {
              "color": "white"
             }
            },
            "type": "table"
           }
          ]
         },
         "layout": {
          "annotationdefaults": {
           "arrowcolor": "#2a3f5f",
           "arrowhead": 0,
           "arrowwidth": 1
          },
          "autotypenumbers": "strict",
          "coloraxis": {
           "colorbar": {
            "outlinewidth": 0,
            "ticks": ""
           }
          },
          "colorscale": {
           "diverging": [
            [
             0,
             "#8e0152"
            ],
            [
             0.1,
             "#c51b7d"
            ],
            [
             0.2,
             "#de77ae"
            ],
            [
             0.3,
             "#f1b6da"
            ],
            [
             0.4,
             "#fde0ef"
            ],
            [
             0.5,
             "#f7f7f7"
            ],
            [
             0.6,
             "#e6f5d0"
            ],
            [
             0.7,
             "#b8e186"
            ],
            [
             0.8,
             "#7fbc41"
            ],
            [
             0.9,
             "#4d9221"
            ],
            [
             1,
             "#276419"
            ]
           ],
           "sequential": [
            [
             0,
             "#0d0887"
            ],
            [
             0.1111111111111111,
             "#46039f"
            ],
            [
             0.2222222222222222,
             "#7201a8"
            ],
            [
             0.3333333333333333,
             "#9c179e"
            ],
            [
             0.4444444444444444,
             "#bd3786"
            ],
            [
             0.5555555555555556,
             "#d8576b"
            ],
            [
             0.6666666666666666,
             "#ed7953"
            ],
            [
             0.7777777777777778,
             "#fb9f3a"
            ],
            [
             0.8888888888888888,
             "#fdca26"
            ],
            [
             1,
             "#f0f921"
            ]
           ],
           "sequentialminus": [
            [
             0,
             "#0d0887"
            ],
            [
             0.1111111111111111,
             "#46039f"
            ],
            [
             0.2222222222222222,
             "#7201a8"
            ],
            [
             0.3333333333333333,
             "#9c179e"
            ],
            [
             0.4444444444444444,
             "#bd3786"
            ],
            [
             0.5555555555555556,
             "#d8576b"
            ],
            [
             0.6666666666666666,
             "#ed7953"
            ],
            [
             0.7777777777777778,
             "#fb9f3a"
            ],
            [
             0.8888888888888888,
             "#fdca26"
            ],
            [
             1,
             "#f0f921"
            ]
           ]
          },
          "colorway": [
           "#636efa",
           "#EF553B",
           "#00cc96",
           "#ab63fa",
           "#FFA15A",
           "#19d3f3",
           "#FF6692",
           "#B6E880",
           "#FF97FF",
           "#FECB52"
          ],
          "font": {
           "color": "#2a3f5f"
          },
          "geo": {
           "bgcolor": "white",
           "lakecolor": "white",
           "landcolor": "#E5ECF6",
           "showlakes": true,
           "showland": true,
           "subunitcolor": "white"
          },
          "hoverlabel": {
           "align": "left"
          },
          "hovermode": "closest",
          "mapbox": {
           "style": "light"
          },
          "paper_bgcolor": "white",
          "plot_bgcolor": "#E5ECF6",
          "polar": {
           "angularaxis": {
            "gridcolor": "white",
            "linecolor": "white",
            "ticks": ""
           },
           "bgcolor": "#E5ECF6",
           "radialaxis": {
            "gridcolor": "white",
            "linecolor": "white",
            "ticks": ""
           }
          },
          "scene": {
           "xaxis": {
            "backgroundcolor": "#E5ECF6",
            "gridcolor": "white",
            "gridwidth": 2,
            "linecolor": "white",
            "showbackground": true,
            "ticks": "",
            "zerolinecolor": "white"
           },
           "yaxis": {
            "backgroundcolor": "#E5ECF6",
            "gridcolor": "white",
            "gridwidth": 2,
            "linecolor": "white",
            "showbackground": true,
            "ticks": "",
            "zerolinecolor": "white"
           },
           "zaxis": {
            "backgroundcolor": "#E5ECF6",
            "gridcolor": "white",
            "gridwidth": 2,
            "linecolor": "white",
            "showbackground": true,
            "ticks": "",
            "zerolinecolor": "white"
           }
          },
          "shapedefaults": {
           "line": {
            "color": "#2a3f5f"
           }
          },
          "ternary": {
           "aaxis": {
            "gridcolor": "white",
            "linecolor": "white",
            "ticks": ""
           },
           "baxis": {
            "gridcolor": "white",
            "linecolor": "white",
            "ticks": ""
           },
           "bgcolor": "#E5ECF6",
           "caxis": {
            "gridcolor": "white",
            "linecolor": "white",
            "ticks": ""
           }
          },
          "title": {
           "x": 0.05
          },
          "xaxis": {
           "automargin": true,
           "gridcolor": "white",
           "linecolor": "white",
           "ticks": "",
           "title": {
            "standoff": 15
           },
           "zerolinecolor": "white",
           "zerolinewidth": 2
          },
          "yaxis": {
           "automargin": true,
           "gridcolor": "white",
           "linecolor": "white",
           "ticks": "",
           "title": {
            "standoff": 15
           },
           "zerolinecolor": "white",
           "zerolinewidth": 2
          }
         }
        },
        "width": 1200,
        "xaxis": {
         "anchor": "y",
         "domain": [
          0,
          0.45
         ],
         "title": {
          "text": "Price (RM)"
         }
        },
        "xaxis2": {
         "anchor": "y2",
         "domain": [
          0.55,
          1
         ],
         "title": {
          "text": "Discount %"
         }
        },
        "yaxis": {
         "anchor": "x",
         "domain": [
          0,
          1
         ],
         "title": {
          "text": "Quantity Sold"
         }
        },
        "yaxis2": {
         "anchor": "x2",
         "domain": [
          0,
          1
         ],
         "title": {
          "text": "Quantity Sold"
         }
        }
       }
      }
     },
     "metadata": {},
     "output_type": "display_data"
    }
   ],
   "source": [
    "dashfig3_4 = make_subplots(\n",
    "    rows=1, cols=2,\n",
    "    subplot_titles=(\"<b>Dashcam Price vs Quantity Sold</b>\",\n",
    "                    \"<b>Dashcam Discount % vs Quantity Sold</b>\"))\n",
    "\n",
    "dashfig3_4.add_trace(go.Scatter(x=df_800['original_price_RM'],\n",
    "                                y=df_800['quantity_sold'],\n",
    "                                mode='markers',\n",
    "                                marker=dict(opacity=0.7),\n",
    "                                showlegend=False),\n",
    "                                row=1,\n",
    "                                col=1)\n",
    "dashfig3_4.add_trace(go.Scatter(x=df_800['discount_percent'],\n",
    "                                y=df_800['quantity_sold'],\n",
    "                                mode='markers',\n",
    "                                marker=dict(opacity=0.7),\n",
    "                                showlegend=False),\n",
    "                                row=1,\n",
    "                                col=2)\n",
    "\n",
    "dashfig3_4.update_layout(autosize=False,\n",
    "                      width=1200,\n",
    "                      height=500,\n",
    "                      margin=dict(l=100, r=150, b=100, t=100))\n",
    "\n",
    "dashfig3_4.update_xaxes(title_text=\"Price (RM)\", row=1, col=1)\n",
    "dashfig3_4.update_xaxes(title_text=\"Discount %\", row=1, col=2)\n",
    "\n",
    "dashfig3_4.update_yaxes(title_text=\"Quantity Sold\", row=1, col=1)\n",
    "dashfig3_4.update_yaxes(title_text=\"Quantity Sold\", row=1, col=2)\n",
    "\n",
    "dashfig3_4.show()"
   ]
  },
  {
   "cell_type": "code",
   "execution_count": 74,
   "metadata": {},
   "outputs": [
    {
     "data": {
      "application/vnd.plotly.v1+json": {
       "config": {
        "plotlyServerURL": "https://plot.ly"
       },
       "data": [
        {
         "marker": {
          "cornerradius": 12
         },
         "name": "Brand Count",
         "type": "bar",
         "x": [
          "other/unstated",
          "70mai",
          "ekleva",
          "ddpai",
          "asawin",
          "azdome",
          "ettro",
          "dosen",
          "safecam",
          "e-ace",
          "southocean",
          "stapon",
          "xiaomi",
          "kawa",
          "pioneer",
          "botslab",
          "aitemay",
          "gnet",
          "red horse",
          "tiesfong",
          "acceo",
          "buzztech",
          "kangzog",
          "cooldin",
          "dahua",
          "hikvision",
          "podofo",
          "mohawk",
          "evean",
          "pony",
          "seicane",
          "ezonetronics"
         ],
         "xaxis": "x",
         "y": [
          413,
          122,
          97,
          32,
          18,
          13,
          8,
          8,
          8,
          7,
          6,
          6,
          6,
          5,
          5,
          5,
          4,
          4,
          4,
          3,
          3,
          3,
          2,
          2,
          2,
          2,
          2,
          2,
          2,
          2,
          2,
          2
         ],
         "yaxis": "y"
        },
        {
         "mode": "lines+markers",
         "name": "Average Price(RM)",
         "type": "scatter",
         "x": [
          "other/unstated",
          "70mai",
          "ekleva",
          "ddpai",
          "asawin",
          "azdome",
          "ettro",
          "dosen",
          "safecam",
          "e-ace",
          "southocean",
          "stapon",
          "xiaomi",
          "kawa",
          "pioneer",
          "botslab",
          "aitemay",
          "gnet",
          "red horse",
          "tiesfong",
          "acceo",
          "buzztech",
          "kangzog",
          "cooldin",
          "dahua",
          "hikvision",
          "podofo",
          "mohawk",
          "evean",
          "pony",
          "seicane",
          "ezonetronics"
         ],
         "xaxis": "x",
         "y": [
          217.91360774818403,
          587.4783606557377,
          454.6460824742268,
          427.6925,
          285.2994444444445,
          482.32846153846157,
          154.17000000000002,
          191.6525,
          447.2025,
          274.30285714285714,
          316.09499999999997,
          77.045,
          304.3666666666667,
          353.182,
          345.02200000000005,
          706.8,
          162.3875,
          2191.405,
          130.485,
          836.4366666666666,
          372.02,
          162.64666666666668,
          145.34,
          184.905,
          248.8,
          515.08,
          101.955,
          439.595,
          144.485,
          179.16,
          746.69,
          324.825
         ],
         "yaxis": "y2"
        },
        {
         "marker": {
          "cornerradius": 12
         },
         "name": "Average Discount %",
         "type": "bar",
         "x": [
          "other/unstated",
          "70mai",
          "ekleva",
          "ettro",
          "kangzog",
          "botslab",
          "dosen",
          "ddpai",
          "southocean",
          "asawin",
          "safecam",
          "red horse",
          "e-ace",
          "azdome",
          "gnet",
          "tiesfong",
          "pioneer",
          "stapon",
          "kawa",
          "buzztech",
          "acceo",
          "cooldin",
          "xiaomi",
          "aitemay",
          "dahua",
          "hikvision",
          "podofo",
          "mohawk",
          "evean",
          "pony",
          "seicane",
          "ezonetronics"
         ],
         "xaxis": "x2",
         "y": [
          39.99273607748184,
          42.59016393442623,
          40.34020618556701,
          42.25,
          41.5,
          53.6,
          52.625,
          33.96875,
          41.333333333333336,
          36.666666666666664,
          49,
          24,
          37.714285714285715,
          37.92307692307692,
          41.25,
          51.666666666666664,
          43.8,
          31.666666666666668,
          36.2,
          37.666666666666664,
          31.666666666666668,
          50.5,
          35.666666666666664,
          66.75,
          21,
          45.5,
          44.5,
          17,
          28,
          40.5,
          49.5,
          35
         ],
         "yaxis": "y3"
        },
        {
         "mode": "lines+markers",
         "name": "Total Quantity Sold",
         "type": "scatter",
         "x": [
          "other/unstated",
          "70mai",
          "ekleva",
          "ettro",
          "kangzog",
          "botslab",
          "dosen",
          "ddpai",
          "southocean",
          "asawin",
          "safecam",
          "red horse",
          "e-ace",
          "azdome",
          "gnet",
          "tiesfong",
          "pioneer",
          "stapon",
          "kawa",
          "buzztech",
          "acceo",
          "cooldin",
          "xiaomi",
          "aitemay",
          "dahua",
          "hikvision",
          "podofo",
          "mohawk",
          "evean",
          "pony",
          "seicane",
          "ezonetronics"
         ],
         "xaxis": "x2",
         "y": [
          2022689,
          981090,
          214374,
          164113,
          147032,
          120150,
          106170,
          78425,
          72198,
          47407,
          41479,
          16529,
          15009,
          2280,
          1010,
          953,
          923,
          882,
          552,
          155,
          148,
          132,
          127,
          106,
          93,
          74,
          44,
          34,
          32,
          30,
          26,
          24
         ],
         "yaxis": "y4"
        }
       ],
       "layout": {
        "annotations": [
         {
          "font": {
           "size": 16
          },
          "showarrow": false,
          "text": "<b>Product Count & Average Price by Brand</b>",
          "x": 0.185,
          "xanchor": "center",
          "xref": "paper",
          "y": 1,
          "yanchor": "bottom",
          "yref": "paper"
         },
         {
          "font": {
           "size": 16
          },
          "showarrow": false,
          "text": "<b>Average Discount % vs Total Quantity Sold by Brand</b>",
          "x": 0.7550000000000001,
          "xanchor": "center",
          "xref": "paper",
          "y": 1,
          "yanchor": "bottom",
          "yref": "paper"
         }
        ],
        "autosize": false,
        "height": 500,
        "legend": {
         "orientation": "h",
         "x": 1,
         "xanchor": "right",
         "y": 1.12,
         "yanchor": "bottom"
        },
        "margin": {
         "b": 150,
         "l": 100,
         "r": 150,
         "t": 50
        },
        "template": {
         "data": {
          "bar": [
           {
            "error_x": {
             "color": "#2a3f5f"
            },
            "error_y": {
             "color": "#2a3f5f"
            },
            "marker": {
             "line": {
              "color": "#E5ECF6",
              "width": 0.5
             },
             "pattern": {
              "fillmode": "overlay",
              "size": 10,
              "solidity": 0.2
             }
            },
            "type": "bar"
           }
          ],
          "barpolar": [
           {
            "marker": {
             "line": {
              "color": "#E5ECF6",
              "width": 0.5
             },
             "pattern": {
              "fillmode": "overlay",
              "size": 10,
              "solidity": 0.2
             }
            },
            "type": "barpolar"
           }
          ],
          "carpet": [
           {
            "aaxis": {
             "endlinecolor": "#2a3f5f",
             "gridcolor": "white",
             "linecolor": "white",
             "minorgridcolor": "white",
             "startlinecolor": "#2a3f5f"
            },
            "baxis": {
             "endlinecolor": "#2a3f5f",
             "gridcolor": "white",
             "linecolor": "white",
             "minorgridcolor": "white",
             "startlinecolor": "#2a3f5f"
            },
            "type": "carpet"
           }
          ],
          "choropleth": [
           {
            "colorbar": {
             "outlinewidth": 0,
             "ticks": ""
            },
            "type": "choropleth"
           }
          ],
          "contour": [
           {
            "colorbar": {
             "outlinewidth": 0,
             "ticks": ""
            },
            "colorscale": [
             [
              0,
              "#0d0887"
             ],
             [
              0.1111111111111111,
              "#46039f"
             ],
             [
              0.2222222222222222,
              "#7201a8"
             ],
             [
              0.3333333333333333,
              "#9c179e"
             ],
             [
              0.4444444444444444,
              "#bd3786"
             ],
             [
              0.5555555555555556,
              "#d8576b"
             ],
             [
              0.6666666666666666,
              "#ed7953"
             ],
             [
              0.7777777777777778,
              "#fb9f3a"
             ],
             [
              0.8888888888888888,
              "#fdca26"
             ],
             [
              1,
              "#f0f921"
             ]
            ],
            "type": "contour"
           }
          ],
          "contourcarpet": [
           {
            "colorbar": {
             "outlinewidth": 0,
             "ticks": ""
            },
            "type": "contourcarpet"
           }
          ],
          "heatmap": [
           {
            "colorbar": {
             "outlinewidth": 0,
             "ticks": ""
            },
            "colorscale": [
             [
              0,
              "#0d0887"
             ],
             [
              0.1111111111111111,
              "#46039f"
             ],
             [
              0.2222222222222222,
              "#7201a8"
             ],
             [
              0.3333333333333333,
              "#9c179e"
             ],
             [
              0.4444444444444444,
              "#bd3786"
             ],
             [
              0.5555555555555556,
              "#d8576b"
             ],
             [
              0.6666666666666666,
              "#ed7953"
             ],
             [
              0.7777777777777778,
              "#fb9f3a"
             ],
             [
              0.8888888888888888,
              "#fdca26"
             ],
             [
              1,
              "#f0f921"
             ]
            ],
            "type": "heatmap"
           }
          ],
          "heatmapgl": [
           {
            "colorbar": {
             "outlinewidth": 0,
             "ticks": ""
            },
            "colorscale": [
             [
              0,
              "#0d0887"
             ],
             [
              0.1111111111111111,
              "#46039f"
             ],
             [
              0.2222222222222222,
              "#7201a8"
             ],
             [
              0.3333333333333333,
              "#9c179e"
             ],
             [
              0.4444444444444444,
              "#bd3786"
             ],
             [
              0.5555555555555556,
              "#d8576b"
             ],
             [
              0.6666666666666666,
              "#ed7953"
             ],
             [
              0.7777777777777778,
              "#fb9f3a"
             ],
             [
              0.8888888888888888,
              "#fdca26"
             ],
             [
              1,
              "#f0f921"
             ]
            ],
            "type": "heatmapgl"
           }
          ],
          "histogram": [
           {
            "marker": {
             "pattern": {
              "fillmode": "overlay",
              "size": 10,
              "solidity": 0.2
             }
            },
            "type": "histogram"
           }
          ],
          "histogram2d": [
           {
            "colorbar": {
             "outlinewidth": 0,
             "ticks": ""
            },
            "colorscale": [
             [
              0,
              "#0d0887"
             ],
             [
              0.1111111111111111,
              "#46039f"
             ],
             [
              0.2222222222222222,
              "#7201a8"
             ],
             [
              0.3333333333333333,
              "#9c179e"
             ],
             [
              0.4444444444444444,
              "#bd3786"
             ],
             [
              0.5555555555555556,
              "#d8576b"
             ],
             [
              0.6666666666666666,
              "#ed7953"
             ],
             [
              0.7777777777777778,
              "#fb9f3a"
             ],
             [
              0.8888888888888888,
              "#fdca26"
             ],
             [
              1,
              "#f0f921"
             ]
            ],
            "type": "histogram2d"
           }
          ],
          "histogram2dcontour": [
           {
            "colorbar": {
             "outlinewidth": 0,
             "ticks": ""
            },
            "colorscale": [
             [
              0,
              "#0d0887"
             ],
             [
              0.1111111111111111,
              "#46039f"
             ],
             [
              0.2222222222222222,
              "#7201a8"
             ],
             [
              0.3333333333333333,
              "#9c179e"
             ],
             [
              0.4444444444444444,
              "#bd3786"
             ],
             [
              0.5555555555555556,
              "#d8576b"
             ],
             [
              0.6666666666666666,
              "#ed7953"
             ],
             [
              0.7777777777777778,
              "#fb9f3a"
             ],
             [
              0.8888888888888888,
              "#fdca26"
             ],
             [
              1,
              "#f0f921"
             ]
            ],
            "type": "histogram2dcontour"
           }
          ],
          "mesh3d": [
           {
            "colorbar": {
             "outlinewidth": 0,
             "ticks": ""
            },
            "type": "mesh3d"
           }
          ],
          "parcoords": [
           {
            "line": {
             "colorbar": {
              "outlinewidth": 0,
              "ticks": ""
             }
            },
            "type": "parcoords"
           }
          ],
          "pie": [
           {
            "automargin": true,
            "type": "pie"
           }
          ],
          "scatter": [
           {
            "fillpattern": {
             "fillmode": "overlay",
             "size": 10,
             "solidity": 0.2
            },
            "type": "scatter"
           }
          ],
          "scatter3d": [
           {
            "line": {
             "colorbar": {
              "outlinewidth": 0,
              "ticks": ""
             }
            },
            "marker": {
             "colorbar": {
              "outlinewidth": 0,
              "ticks": ""
             }
            },
            "type": "scatter3d"
           }
          ],
          "scattercarpet": [
           {
            "marker": {
             "colorbar": {
              "outlinewidth": 0,
              "ticks": ""
             }
            },
            "type": "scattercarpet"
           }
          ],
          "scattergeo": [
           {
            "marker": {
             "colorbar": {
              "outlinewidth": 0,
              "ticks": ""
             }
            },
            "type": "scattergeo"
           }
          ],
          "scattergl": [
           {
            "marker": {
             "colorbar": {
              "outlinewidth": 0,
              "ticks": ""
             }
            },
            "type": "scattergl"
           }
          ],
          "scattermapbox": [
           {
            "marker": {
             "colorbar": {
              "outlinewidth": 0,
              "ticks": ""
             }
            },
            "type": "scattermapbox"
           }
          ],
          "scatterpolar": [
           {
            "marker": {
             "colorbar": {
              "outlinewidth": 0,
              "ticks": ""
             }
            },
            "type": "scatterpolar"
           }
          ],
          "scatterpolargl": [
           {
            "marker": {
             "colorbar": {
              "outlinewidth": 0,
              "ticks": ""
             }
            },
            "type": "scatterpolargl"
           }
          ],
          "scatterternary": [
           {
            "marker": {
             "colorbar": {
              "outlinewidth": 0,
              "ticks": ""
             }
            },
            "type": "scatterternary"
           }
          ],
          "surface": [
           {
            "colorbar": {
             "outlinewidth": 0,
             "ticks": ""
            },
            "colorscale": [
             [
              0,
              "#0d0887"
             ],
             [
              0.1111111111111111,
              "#46039f"
             ],
             [
              0.2222222222222222,
              "#7201a8"
             ],
             [
              0.3333333333333333,
              "#9c179e"
             ],
             [
              0.4444444444444444,
              "#bd3786"
             ],
             [
              0.5555555555555556,
              "#d8576b"
             ],
             [
              0.6666666666666666,
              "#ed7953"
             ],
             [
              0.7777777777777778,
              "#fb9f3a"
             ],
             [
              0.8888888888888888,
              "#fdca26"
             ],
             [
              1,
              "#f0f921"
             ]
            ],
            "type": "surface"
           }
          ],
          "table": [
           {
            "cells": {
             "fill": {
              "color": "#EBF0F8"
             },
             "line": {
              "color": "white"
             }
            },
            "header": {
             "fill": {
              "color": "#C8D4E3"
             },
             "line": {
              "color": "white"
             }
            },
            "type": "table"
           }
          ]
         },
         "layout": {
          "annotationdefaults": {
           "arrowcolor": "#2a3f5f",
           "arrowhead": 0,
           "arrowwidth": 1
          },
          "autotypenumbers": "strict",
          "coloraxis": {
           "colorbar": {
            "outlinewidth": 0,
            "ticks": ""
           }
          },
          "colorscale": {
           "diverging": [
            [
             0,
             "#8e0152"
            ],
            [
             0.1,
             "#c51b7d"
            ],
            [
             0.2,
             "#de77ae"
            ],
            [
             0.3,
             "#f1b6da"
            ],
            [
             0.4,
             "#fde0ef"
            ],
            [
             0.5,
             "#f7f7f7"
            ],
            [
             0.6,
             "#e6f5d0"
            ],
            [
             0.7,
             "#b8e186"
            ],
            [
             0.8,
             "#7fbc41"
            ],
            [
             0.9,
             "#4d9221"
            ],
            [
             1,
             "#276419"
            ]
           ],
           "sequential": [
            [
             0,
             "#0d0887"
            ],
            [
             0.1111111111111111,
             "#46039f"
            ],
            [
             0.2222222222222222,
             "#7201a8"
            ],
            [
             0.3333333333333333,
             "#9c179e"
            ],
            [
             0.4444444444444444,
             "#bd3786"
            ],
            [
             0.5555555555555556,
             "#d8576b"
            ],
            [
             0.6666666666666666,
             "#ed7953"
            ],
            [
             0.7777777777777778,
             "#fb9f3a"
            ],
            [
             0.8888888888888888,
             "#fdca26"
            ],
            [
             1,
             "#f0f921"
            ]
           ],
           "sequentialminus": [
            [
             0,
             "#0d0887"
            ],
            [
             0.1111111111111111,
             "#46039f"
            ],
            [
             0.2222222222222222,
             "#7201a8"
            ],
            [
             0.3333333333333333,
             "#9c179e"
            ],
            [
             0.4444444444444444,
             "#bd3786"
            ],
            [
             0.5555555555555556,
             "#d8576b"
            ],
            [
             0.6666666666666666,
             "#ed7953"
            ],
            [
             0.7777777777777778,
             "#fb9f3a"
            ],
            [
             0.8888888888888888,
             "#fdca26"
            ],
            [
             1,
             "#f0f921"
            ]
           ]
          },
          "colorway": [
           "#636efa",
           "#EF553B",
           "#00cc96",
           "#ab63fa",
           "#FFA15A",
           "#19d3f3",
           "#FF6692",
           "#B6E880",
           "#FF97FF",
           "#FECB52"
          ],
          "font": {
           "color": "#2a3f5f"
          },
          "geo": {
           "bgcolor": "white",
           "lakecolor": "white",
           "landcolor": "#E5ECF6",
           "showlakes": true,
           "showland": true,
           "subunitcolor": "white"
          },
          "hoverlabel": {
           "align": "left"
          },
          "hovermode": "closest",
          "mapbox": {
           "style": "light"
          },
          "paper_bgcolor": "white",
          "plot_bgcolor": "#E5ECF6",
          "polar": {
           "angularaxis": {
            "gridcolor": "white",
            "linecolor": "white",
            "ticks": ""
           },
           "bgcolor": "#E5ECF6",
           "radialaxis": {
            "gridcolor": "white",
            "linecolor": "white",
            "ticks": ""
           }
          },
          "scene": {
           "xaxis": {
            "backgroundcolor": "#E5ECF6",
            "gridcolor": "white",
            "gridwidth": 2,
            "linecolor": "white",
            "showbackground": true,
            "ticks": "",
            "zerolinecolor": "white"
           },
           "yaxis": {
            "backgroundcolor": "#E5ECF6",
            "gridcolor": "white",
            "gridwidth": 2,
            "linecolor": "white",
            "showbackground": true,
            "ticks": "",
            "zerolinecolor": "white"
           },
           "zaxis": {
            "backgroundcolor": "#E5ECF6",
            "gridcolor": "white",
            "gridwidth": 2,
            "linecolor": "white",
            "showbackground": true,
            "ticks": "",
            "zerolinecolor": "white"
           }
          },
          "shapedefaults": {
           "line": {
            "color": "#2a3f5f"
           }
          },
          "ternary": {
           "aaxis": {
            "gridcolor": "white",
            "linecolor": "white",
            "ticks": ""
           },
           "baxis": {
            "gridcolor": "white",
            "linecolor": "white",
            "ticks": ""
           },
           "bgcolor": "#E5ECF6",
           "caxis": {
            "gridcolor": "white",
            "linecolor": "white",
            "ticks": ""
           }
          },
          "title": {
           "x": 0.05
          },
          "xaxis": {
           "automargin": true,
           "gridcolor": "white",
           "linecolor": "white",
           "ticks": "",
           "title": {
            "standoff": 15
           },
           "zerolinecolor": "white",
           "zerolinewidth": 2
          },
          "yaxis": {
           "automargin": true,
           "gridcolor": "white",
           "linecolor": "white",
           "ticks": "",
           "title": {
            "standoff": 15
           },
           "zerolinecolor": "white",
           "zerolinewidth": 2
          }
         }
        },
        "width": 1200,
        "xaxis": {
         "anchor": "y",
         "domain": [
          0,
          0.37
         ],
         "title": {
          "text": "Brand"
         }
        },
        "xaxis2": {
         "anchor": "y3",
         "domain": [
          0.5700000000000001,
          0.9400000000000001
         ],
         "title": {
          "text": "Brand"
         }
        },
        "yaxis": {
         "anchor": "x",
         "domain": [
          0,
          1
         ],
         "title": {
          "text": "Count"
         }
        },
        "yaxis2": {
         "anchor": "x",
         "overlaying": "y",
         "side": "right",
         "title": {
          "text": "Average Price (RM)"
         }
        },
        "yaxis3": {
         "anchor": "x2",
         "domain": [
          0,
          1
         ],
         "title": {
          "text": "Average Discount %"
         }
        },
        "yaxis4": {
         "anchor": "x2",
         "overlaying": "y3",
         "side": "right",
         "title": {
          "text": "Total Quantity Sold"
         }
        }
       }
      }
     },
     "metadata": {},
     "output_type": "display_data"
    }
   ],
   "source": [
    "dashfig5_6 = make_subplots(\n",
    "    rows=1, cols=2,\n",
    "    subplot_titles=(\"<b>Product Count & Average Price by Brand</b>\",\n",
    "                    \"<b>Average Discount % vs Total Quantity Sold by Brand</b>\"),\n",
    "    specs=[[{\"secondary_y\": True}, {\"secondary_y\": True}]])\n",
    "\n",
    "# Hierarchy Chart/Hierarchy Bubble/Wordcloud of Dashcam Brands\n",
    "df_800_group_by_brand.sort_values('count', ascending=False, inplace=True)\n",
    "dashfig5_6.add_trace(go.Bar(x=df_800_group_by_brand['brand'],\n",
    "                      y=df_800_group_by_brand['count'],\n",
    "                      name='Brand Count',\n",
    "                      marker=dict(cornerradius=12)),\n",
    "                      secondary_y=False,\n",
    "                      col=1,\n",
    "                      row=1)\n",
    "\n",
    "dashfig5_6.add_trace(go.Scatter(x=df_800_group_by_brand['brand'],\n",
    "                      y=df_800_group_by_brand['average_price_RM'],\n",
    "                      mode='lines+markers',\n",
    "                      name='Average Price(RM)'),\n",
    "                      secondary_y=True,\n",
    "                      row=1,\n",
    "                      col=1)\n",
    "\n",
    "# Average Price and Quantity Sold of Brands\n",
    "df_800_group_by_brand.sort_values('total_quantity_sold', ascending=False, inplace=True)\n",
    "dashfig5_6.add_trace(go.Bar(x=df_800_group_by_brand['brand'],\n",
    "                      y=df_800_group_by_brand['average_discount_%'],\n",
    "                      name='Average Discount %',\n",
    "                      marker=dict(cornerradius=12)),\n",
    "                      secondary_y=False,\n",
    "                      row=1,\n",
    "                      col=2)\n",
    "\n",
    "dashfig5_6.add_trace(go.Scatter(x=df_800_group_by_brand['brand'],\n",
    "                      y=df_800_group_by_brand['total_quantity_sold'],\n",
    "                      mode='lines+markers',\n",
    "                      name='Total Quantity Sold'),\n",
    "                      secondary_y=True,\n",
    "                      row=1,\n",
    "                      col=2)\n",
    "\n",
    "dashfig5_6.update_layout(\n",
    "    legend=dict(orientation=\"h\",\n",
    "                yanchor=\"bottom\",\n",
    "                y=1.12,\n",
    "                xanchor=\"right\",\n",
    "                x=1),\n",
    "    autosize=False,\n",
    "    width=1200,\n",
    "    height=500,\n",
    "    margin=dict(l=100, r=150, b=150, t=50))\n",
    "\n",
    "dashfig5_6.update_xaxes(title_text='Brand', row=1, col=1)\n",
    "dashfig5_6.update_xaxes(title_text='Brand', row=1, col=2)\n",
    "\n",
    "dashfig5_6.update_yaxes(title_text='Count', secondary_y=False, row=1, col=1)\n",
    "dashfig5_6.update_yaxes(title_text='Average Price (RM)', secondary_y=True, row=1, col=1)\n",
    "dashfig5_6.update_yaxes(title_text='Average Discount %', secondary_y=False, row=1, col=2)\n",
    "dashfig5_6.update_yaxes(title_text='Total Quantity Sold', secondary_y=True, row=1, col=2)\n",
    "\n",
    "dashfig5_6.show()"
   ]
  },
  {
   "cell_type": "code",
   "execution_count": 82,
   "metadata": {},
   "outputs": [],
   "source": [
    "dashfigs = [dashfig1_2, dashfig3_4, dashfig5_6]\n",
    "\n",
    "dashboard = open(\"Dashcam Prices on Lazada Dashboard.html\", \"w\")\n",
    "dashboard.write(\"<html><body>\" + \"\\n\")\n",
    "dashboard.write(\"<head> <link href='https://fonts.googleapis.com/css?family=Open Sans' rel='stylesheet'>\" + \"\\n\")\n",
    "dashboard.write(\"<link href='styles.css' rel='stylesheet'></head>\" + \"\\n\")\n",
    "dashboard.write(\"<h1>Dashcam Prices on Lazada</h1>\" + \"\\n\")\n",
    "dashboard.write(\"<p1>Sample taken: first 800 from product search result with keyword 'dashcam' on Lazada</p1>\" + \"\\n\")\n",
    "for fig in dashfigs:\n",
    "    dashboard.write(fig.to_html(full_html=False, include_plotlyjs='cdn') + \"\\n\")\n",
    "dashboard.write(\"<p2>this project is for personal learning purpose only</p2>\" + \"\\n\")\n",
    "dashboard.write(\"</body></html>\")\n",
    "dashboard.close()"
   ]
  },
  {
   "cell_type": "code",
   "execution_count": null,
   "metadata": {},
   "outputs": [],
   "source": []
  }
 ],
 "metadata": {
  "kernelspec": {
   "display_name": "Python 3",
   "language": "python",
   "name": "python3"
  },
  "language_info": {
   "codemirror_mode": {
    "name": "ipython",
    "version": 3
   },
   "file_extension": ".py",
   "mimetype": "text/x-python",
   "name": "python",
   "nbconvert_exporter": "python",
   "pygments_lexer": "ipython3",
   "version": "3.11.9"
  }
 },
 "nbformat": 4,
 "nbformat_minor": 2
}
