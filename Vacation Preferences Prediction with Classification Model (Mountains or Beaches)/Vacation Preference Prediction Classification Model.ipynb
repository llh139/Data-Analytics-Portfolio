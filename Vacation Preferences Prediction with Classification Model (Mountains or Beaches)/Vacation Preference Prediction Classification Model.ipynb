{
 "cells": [
  {
   "cell_type": "code",
   "execution_count": 74,
   "metadata": {},
   "outputs": [],
   "source": [
    "import pandas as pd\n",
    "import numpy as np\n",
    "import matplotlib.pyplot as plt\n",
    "\n",
    "from sklearn.preprocessing import MinMaxScaler\n",
    "from sklearn.model_selection import train_test_split, KFold, cross_val_score\n",
    "from sklearn.feature_selection import VarianceThreshold, SelectKBest, f_classif, RFE\n",
    "\n",
    "from sklearn.linear_model import LogisticRegression\n",
    "from sklearn.tree import DecisionTreeClassifier\n",
    "from sklearn.neighbors import KNeighborsClassifier\n",
    "\n",
    "from sklearn.metrics import accuracy_score, roc_curve, confusion_matrix, roc_auc_score, classification_report"
   ]
  },
  {
   "cell_type": "code",
   "execution_count": 45,
   "metadata": {},
   "outputs": [
    {
     "data": {
      "text/html": [
       "<div>\n",
       "<style scoped>\n",
       "    .dataframe tbody tr th:only-of-type {\n",
       "        vertical-align: middle;\n",
       "    }\n",
       "\n",
       "    .dataframe tbody tr th {\n",
       "        vertical-align: top;\n",
       "    }\n",
       "\n",
       "    .dataframe thead th {\n",
       "        text-align: right;\n",
       "    }\n",
       "</style>\n",
       "<table border=\"1\" class=\"dataframe\">\n",
       "  <thead>\n",
       "    <tr style=\"text-align: right;\">\n",
       "      <th></th>\n",
       "      <th>Age</th>\n",
       "      <th>Gender</th>\n",
       "      <th>Income</th>\n",
       "      <th>Education_Level</th>\n",
       "      <th>Travel_Frequency</th>\n",
       "      <th>Preferred_Activities</th>\n",
       "      <th>Vacation_Budget</th>\n",
       "      <th>Location</th>\n",
       "      <th>Proximity_to_Mountains</th>\n",
       "      <th>Proximity_to_Beaches</th>\n",
       "      <th>Favorite_Season</th>\n",
       "      <th>Pets</th>\n",
       "      <th>Environmental_Concerns</th>\n",
       "      <th>Preference</th>\n",
       "    </tr>\n",
       "  </thead>\n",
       "  <tbody>\n",
       "    <tr>\n",
       "      <th>0</th>\n",
       "      <td>56</td>\n",
       "      <td>male</td>\n",
       "      <td>71477</td>\n",
       "      <td>bachelor</td>\n",
       "      <td>9</td>\n",
       "      <td>skiing</td>\n",
       "      <td>2477</td>\n",
       "      <td>urban</td>\n",
       "      <td>175</td>\n",
       "      <td>267</td>\n",
       "      <td>summer</td>\n",
       "      <td>0</td>\n",
       "      <td>1</td>\n",
       "      <td>1</td>\n",
       "    </tr>\n",
       "    <tr>\n",
       "      <th>1</th>\n",
       "      <td>69</td>\n",
       "      <td>male</td>\n",
       "      <td>88740</td>\n",
       "      <td>master</td>\n",
       "      <td>1</td>\n",
       "      <td>swimming</td>\n",
       "      <td>4777</td>\n",
       "      <td>suburban</td>\n",
       "      <td>228</td>\n",
       "      <td>190</td>\n",
       "      <td>fall</td>\n",
       "      <td>0</td>\n",
       "      <td>1</td>\n",
       "      <td>0</td>\n",
       "    </tr>\n",
       "    <tr>\n",
       "      <th>2</th>\n",
       "      <td>46</td>\n",
       "      <td>female</td>\n",
       "      <td>46562</td>\n",
       "      <td>master</td>\n",
       "      <td>0</td>\n",
       "      <td>skiing</td>\n",
       "      <td>1469</td>\n",
       "      <td>urban</td>\n",
       "      <td>71</td>\n",
       "      <td>280</td>\n",
       "      <td>winter</td>\n",
       "      <td>0</td>\n",
       "      <td>0</td>\n",
       "      <td>1</td>\n",
       "    </tr>\n",
       "    <tr>\n",
       "      <th>3</th>\n",
       "      <td>32</td>\n",
       "      <td>non-binary</td>\n",
       "      <td>99044</td>\n",
       "      <td>high school</td>\n",
       "      <td>6</td>\n",
       "      <td>hiking</td>\n",
       "      <td>1482</td>\n",
       "      <td>rural</td>\n",
       "      <td>31</td>\n",
       "      <td>255</td>\n",
       "      <td>summer</td>\n",
       "      <td>1</td>\n",
       "      <td>0</td>\n",
       "      <td>1</td>\n",
       "    </tr>\n",
       "    <tr>\n",
       "      <th>4</th>\n",
       "      <td>60</td>\n",
       "      <td>female</td>\n",
       "      <td>106583</td>\n",
       "      <td>high school</td>\n",
       "      <td>5</td>\n",
       "      <td>sunbathing</td>\n",
       "      <td>516</td>\n",
       "      <td>suburban</td>\n",
       "      <td>23</td>\n",
       "      <td>151</td>\n",
       "      <td>winter</td>\n",
       "      <td>1</td>\n",
       "      <td>1</td>\n",
       "      <td>0</td>\n",
       "    </tr>\n",
       "  </tbody>\n",
       "</table>\n",
       "</div>"
      ],
      "text/plain": [
       "   Age      Gender  Income Education_Level  Travel_Frequency  \\\n",
       "0   56        male   71477        bachelor                 9   \n",
       "1   69        male   88740          master                 1   \n",
       "2   46      female   46562          master                 0   \n",
       "3   32  non-binary   99044     high school                 6   \n",
       "4   60      female  106583     high school                 5   \n",
       "\n",
       "  Preferred_Activities  Vacation_Budget  Location  Proximity_to_Mountains  \\\n",
       "0               skiing             2477     urban                     175   \n",
       "1             swimming             4777  suburban                     228   \n",
       "2               skiing             1469     urban                      71   \n",
       "3               hiking             1482     rural                      31   \n",
       "4           sunbathing              516  suburban                      23   \n",
       "\n",
       "   Proximity_to_Beaches Favorite_Season  Pets  Environmental_Concerns  \\\n",
       "0                   267          summer     0                       1   \n",
       "1                   190            fall     0                       1   \n",
       "2                   280          winter     0                       0   \n",
       "3                   255          summer     1                       0   \n",
       "4                   151          winter     1                       1   \n",
       "\n",
       "   Preference  \n",
       "0           1  \n",
       "1           0  \n",
       "2           1  \n",
       "3           1  \n",
       "4           0  "
      ]
     },
     "execution_count": 45,
     "metadata": {},
     "output_type": "execute_result"
    }
   ],
   "source": [
    "df = pd.read_csv('mountains_vs_beaches_preferences.csv')\n",
    "df.head()"
   ]
  },
  {
   "cell_type": "markdown",
   "metadata": {},
   "source": [
    "**Inspecting dataset**"
   ]
  },
  {
   "cell_type": "code",
   "execution_count": 9,
   "metadata": {},
   "outputs": [
    {
     "name": "stdout",
     "output_type": "stream",
     "text": [
      "(52444, 14)\n"
     ]
    }
   ],
   "source": [
    "print(df.shape)"
   ]
  },
  {
   "cell_type": "code",
   "execution_count": 16,
   "metadata": {},
   "outputs": [
    {
     "name": "stdout",
     "output_type": "stream",
     "text": [
      "Age                        int64\n",
      "Gender                    object\n",
      "Income                     int64\n",
      "Education_Level           object\n",
      "Travel_Frequency           int64\n",
      "Preferred_Activities      object\n",
      "Vacation_Budget            int64\n",
      "Location                  object\n",
      "Proximity_to_Mountains     int64\n",
      "Proximity_to_Beaches       int64\n",
      "Favorite_Season           object\n",
      "Pets                       int64\n",
      "Environmental_Concerns     int64\n",
      "Preference                 int64\n",
      "dtype: object\n"
     ]
    }
   ],
   "source": [
    "print(df.dtypes)"
   ]
  },
  {
   "cell_type": "code",
   "execution_count": 6,
   "metadata": {},
   "outputs": [
    {
     "data": {
      "text/html": [
       "<div>\n",
       "<style scoped>\n",
       "    .dataframe tbody tr th:only-of-type {\n",
       "        vertical-align: middle;\n",
       "    }\n",
       "\n",
       "    .dataframe tbody tr th {\n",
       "        vertical-align: top;\n",
       "    }\n",
       "\n",
       "    .dataframe thead th {\n",
       "        text-align: right;\n",
       "    }\n",
       "</style>\n",
       "<table border=\"1\" class=\"dataframe\">\n",
       "  <thead>\n",
       "    <tr style=\"text-align: right;\">\n",
       "      <th></th>\n",
       "      <th>Age</th>\n",
       "      <th>Gender</th>\n",
       "      <th>Income</th>\n",
       "      <th>Education_Level</th>\n",
       "      <th>Travel_Frequency</th>\n",
       "      <th>Preferred_Activities</th>\n",
       "      <th>Vacation_Budget</th>\n",
       "      <th>Location</th>\n",
       "      <th>Proximity_to_Mountains</th>\n",
       "      <th>Proximity_to_Beaches</th>\n",
       "      <th>Favorite_Season</th>\n",
       "      <th>Pets</th>\n",
       "      <th>Environmental_Concerns</th>\n",
       "      <th>Preference</th>\n",
       "    </tr>\n",
       "  </thead>\n",
       "  <tbody>\n",
       "  </tbody>\n",
       "</table>\n",
       "</div>"
      ],
      "text/plain": [
       "Empty DataFrame\n",
       "Columns: [Age, Gender, Income, Education_Level, Travel_Frequency, Preferred_Activities, Vacation_Budget, Location, Proximity_to_Mountains, Proximity_to_Beaches, Favorite_Season, Pets, Environmental_Concerns, Preference]\n",
       "Index: []"
      ]
     },
     "execution_count": 6,
     "metadata": {},
     "output_type": "execute_result"
    }
   ],
   "source": [
    "df[df.duplicated]"
   ]
  },
  {
   "cell_type": "code",
   "execution_count": 7,
   "metadata": {},
   "outputs": [
    {
     "data": {
      "text/plain": [
       "Age                       0.0\n",
       "Gender                    0.0\n",
       "Income                    0.0\n",
       "Education_Level           0.0\n",
       "Travel_Frequency          0.0\n",
       "Preferred_Activities      0.0\n",
       "Vacation_Budget           0.0\n",
       "Location                  0.0\n",
       "Proximity_to_Mountains    0.0\n",
       "Proximity_to_Beaches      0.0\n",
       "Favorite_Season           0.0\n",
       "Pets                      0.0\n",
       "Environmental_Concerns    0.0\n",
       "Preference                0.0\n",
       "dtype: float64"
      ]
     },
     "execution_count": 7,
     "metadata": {},
     "output_type": "execute_result"
    }
   ],
   "source": [
    "df.isnull().mean().sort_values()"
   ]
  },
  {
   "cell_type": "code",
   "execution_count": 22,
   "metadata": {},
   "outputs": [
    {
     "data": {
      "text/plain": [
       "Preference\n",
       "0    39296\n",
       "1    13148\n",
       "Name: count, dtype: int64"
      ]
     },
     "execution_count": 22,
     "metadata": {},
     "output_type": "execute_result"
    }
   ],
   "source": [
    "df['Preference'].value_counts()"
   ]
  },
  {
   "cell_type": "code",
   "execution_count": 79,
   "metadata": {},
   "outputs": [],
   "source": [
    "# the target class is unbalance, accuracy score is not suitable to evaluate the data model"
   ]
  },
  {
   "cell_type": "code",
   "execution_count": 25,
   "metadata": {},
   "outputs": [
    {
     "name": "stdout",
     "output_type": "stream",
     "text": [
      "Gender\n",
      "female        17638\n",
      "male          17522\n",
      "non-binary    17284\n",
      "Name: count, dtype: int64 \n",
      "\n",
      "Education_Level\n",
      "doctorate      13293\n",
      "bachelor       13127\n",
      "high school    13072\n",
      "master         12952\n",
      "Name: count, dtype: int64 \n",
      "\n",
      "Preferred_Activities\n",
      "sunbathing    13221\n",
      "skiing        13167\n",
      "hiking        13102\n",
      "swimming      12954\n",
      "Name: count, dtype: int64 \n",
      "\n",
      "Location\n",
      "suburban    17503\n",
      "urban       17476\n",
      "rural       17465\n",
      "Name: count, dtype: int64 \n",
      "\n",
      "Favorite_Season\n",
      "summer    13303\n",
      "fall      13170\n",
      "winter    13019\n",
      "spring    12952\n",
      "Name: count, dtype: int64 \n",
      "\n",
      "['Gender', 'Education_Level', 'Preferred_Activities', 'Location', 'Favorite_Season']\n"
     ]
    }
   ],
   "source": [
    "categorical_features = []\n",
    "for column in df.columns:\n",
    "    if df[column].dtype == object:\n",
    "        print(df[column].value_counts(), '\\n')\n",
    "        categorical_features.append(column)\n",
    "\n",
    "print(categorical_features)"
   ]
  },
  {
   "cell_type": "markdown",
   "metadata": {},
   "source": [
    "**Feature Engineering**"
   ]
  },
  {
   "cell_type": "markdown",
   "metadata": {},
   "source": [
    "One-hot encoding categorical features"
   ]
  },
  {
   "cell_type": "code",
   "execution_count": 46,
   "metadata": {},
   "outputs": [
    {
     "data": {
      "text/html": [
       "<div>\n",
       "<style scoped>\n",
       "    .dataframe tbody tr th:only-of-type {\n",
       "        vertical-align: middle;\n",
       "    }\n",
       "\n",
       "    .dataframe tbody tr th {\n",
       "        vertical-align: top;\n",
       "    }\n",
       "\n",
       "    .dataframe thead th {\n",
       "        text-align: right;\n",
       "    }\n",
       "</style>\n",
       "<table border=\"1\" class=\"dataframe\">\n",
       "  <thead>\n",
       "    <tr style=\"text-align: right;\">\n",
       "      <th></th>\n",
       "      <th>Age</th>\n",
       "      <th>Income</th>\n",
       "      <th>Travel_Frequency</th>\n",
       "      <th>Vacation_Budget</th>\n",
       "      <th>Proximity_to_Mountains</th>\n",
       "      <th>Proximity_to_Beaches</th>\n",
       "      <th>Pets</th>\n",
       "      <th>Environmental_Concerns</th>\n",
       "      <th>Preference</th>\n",
       "      <th>female</th>\n",
       "      <th>...</th>\n",
       "      <th>doctorate</th>\n",
       "      <th>high school</th>\n",
       "      <th>hiking</th>\n",
       "      <th>skiing</th>\n",
       "      <th>sunbathing</th>\n",
       "      <th>rural</th>\n",
       "      <th>suburban</th>\n",
       "      <th>fall</th>\n",
       "      <th>spring</th>\n",
       "      <th>summer</th>\n",
       "    </tr>\n",
       "  </thead>\n",
       "  <tbody>\n",
       "    <tr>\n",
       "      <th>0</th>\n",
       "      <td>56</td>\n",
       "      <td>71477</td>\n",
       "      <td>9</td>\n",
       "      <td>2477</td>\n",
       "      <td>175</td>\n",
       "      <td>267</td>\n",
       "      <td>0</td>\n",
       "      <td>1</td>\n",
       "      <td>1</td>\n",
       "      <td>False</td>\n",
       "      <td>...</td>\n",
       "      <td>False</td>\n",
       "      <td>False</td>\n",
       "      <td>False</td>\n",
       "      <td>True</td>\n",
       "      <td>False</td>\n",
       "      <td>False</td>\n",
       "      <td>False</td>\n",
       "      <td>False</td>\n",
       "      <td>False</td>\n",
       "      <td>True</td>\n",
       "    </tr>\n",
       "    <tr>\n",
       "      <th>1</th>\n",
       "      <td>69</td>\n",
       "      <td>88740</td>\n",
       "      <td>1</td>\n",
       "      <td>4777</td>\n",
       "      <td>228</td>\n",
       "      <td>190</td>\n",
       "      <td>0</td>\n",
       "      <td>1</td>\n",
       "      <td>0</td>\n",
       "      <td>False</td>\n",
       "      <td>...</td>\n",
       "      <td>False</td>\n",
       "      <td>False</td>\n",
       "      <td>False</td>\n",
       "      <td>False</td>\n",
       "      <td>False</td>\n",
       "      <td>False</td>\n",
       "      <td>True</td>\n",
       "      <td>True</td>\n",
       "      <td>False</td>\n",
       "      <td>False</td>\n",
       "    </tr>\n",
       "    <tr>\n",
       "      <th>2</th>\n",
       "      <td>46</td>\n",
       "      <td>46562</td>\n",
       "      <td>0</td>\n",
       "      <td>1469</td>\n",
       "      <td>71</td>\n",
       "      <td>280</td>\n",
       "      <td>0</td>\n",
       "      <td>0</td>\n",
       "      <td>1</td>\n",
       "      <td>True</td>\n",
       "      <td>...</td>\n",
       "      <td>False</td>\n",
       "      <td>False</td>\n",
       "      <td>False</td>\n",
       "      <td>True</td>\n",
       "      <td>False</td>\n",
       "      <td>False</td>\n",
       "      <td>False</td>\n",
       "      <td>False</td>\n",
       "      <td>False</td>\n",
       "      <td>False</td>\n",
       "    </tr>\n",
       "    <tr>\n",
       "      <th>3</th>\n",
       "      <td>32</td>\n",
       "      <td>99044</td>\n",
       "      <td>6</td>\n",
       "      <td>1482</td>\n",
       "      <td>31</td>\n",
       "      <td>255</td>\n",
       "      <td>1</td>\n",
       "      <td>0</td>\n",
       "      <td>1</td>\n",
       "      <td>False</td>\n",
       "      <td>...</td>\n",
       "      <td>False</td>\n",
       "      <td>True</td>\n",
       "      <td>True</td>\n",
       "      <td>False</td>\n",
       "      <td>False</td>\n",
       "      <td>True</td>\n",
       "      <td>False</td>\n",
       "      <td>False</td>\n",
       "      <td>False</td>\n",
       "      <td>True</td>\n",
       "    </tr>\n",
       "    <tr>\n",
       "      <th>4</th>\n",
       "      <td>60</td>\n",
       "      <td>106583</td>\n",
       "      <td>5</td>\n",
       "      <td>516</td>\n",
       "      <td>23</td>\n",
       "      <td>151</td>\n",
       "      <td>1</td>\n",
       "      <td>1</td>\n",
       "      <td>0</td>\n",
       "      <td>True</td>\n",
       "      <td>...</td>\n",
       "      <td>False</td>\n",
       "      <td>True</td>\n",
       "      <td>False</td>\n",
       "      <td>False</td>\n",
       "      <td>True</td>\n",
       "      <td>False</td>\n",
       "      <td>True</td>\n",
       "      <td>False</td>\n",
       "      <td>False</td>\n",
       "      <td>False</td>\n",
       "    </tr>\n",
       "  </tbody>\n",
       "</table>\n",
       "<p>5 rows × 22 columns</p>\n",
       "</div>"
      ],
      "text/plain": [
       "   Age  Income  Travel_Frequency  Vacation_Budget  Proximity_to_Mountains  \\\n",
       "0   56   71477                 9             2477                     175   \n",
       "1   69   88740                 1             4777                     228   \n",
       "2   46   46562                 0             1469                      71   \n",
       "3   32   99044                 6             1482                      31   \n",
       "4   60  106583                 5              516                      23   \n",
       "\n",
       "   Proximity_to_Beaches  Pets  Environmental_Concerns  Preference  female  \\\n",
       "0                   267     0                       1           1   False   \n",
       "1                   190     0                       1           0   False   \n",
       "2                   280     0                       0           1    True   \n",
       "3                   255     1                       0           1   False   \n",
       "4                   151     1                       1           0    True   \n",
       "\n",
       "   ...  doctorate  high school  hiking  skiing  sunbathing  rural  suburban  \\\n",
       "0  ...      False        False   False    True       False  False     False   \n",
       "1  ...      False        False   False   False       False  False      True   \n",
       "2  ...      False        False   False    True       False  False     False   \n",
       "3  ...      False         True    True   False       False   True     False   \n",
       "4  ...      False         True   False   False        True  False      True   \n",
       "\n",
       "    fall  spring  summer  \n",
       "0  False   False    True  \n",
       "1   True   False   False  \n",
       "2  False   False   False  \n",
       "3  False   False    True  \n",
       "4  False   False   False  \n",
       "\n",
       "[5 rows x 22 columns]"
      ]
     },
     "execution_count": 46,
     "metadata": {},
     "output_type": "execute_result"
    }
   ],
   "source": [
    "for feature in categorical_features:\n",
    "    binned = pd.get_dummies(df[feature])\n",
    "    binned = binned.drop(binned.columns[-1], axis=1) # drop the last dummy variable\n",
    "    df = df.join(binned)\n",
    "    df = df.drop(feature, axis=1)\n",
    "\n",
    "df.head()"
   ]
  },
  {
   "cell_type": "markdown",
   "metadata": {},
   "source": [
    "Detecting correlated features"
   ]
  },
  {
   "cell_type": "code",
   "execution_count": 4,
   "metadata": {},
   "outputs": [],
   "source": [
    "def correlatedFeatures(dataset, threshold):\n",
    "    \"\"\"\n",
    "    Function to detect correlated features\n",
    "\n",
    "    Input: df, correlation threshold\n",
    "    Return: Set of correlated features\n",
    "    \"\"\"\n",
    "    correlated_columns = set()\n",
    "    correlations = dataset.corr()\n",
    "    for i in range(len(correlations)):\n",
    "        for j in range(i):\n",
    "            if abs(correlations.iloc[i,j]) > threshold:\n",
    "                correlated_columns.add(correlations.columns[i])\n",
    "    return correlated_columns"
   ]
  },
  {
   "cell_type": "code",
   "execution_count": 38,
   "metadata": {},
   "outputs": [
    {
     "data": {
      "text/plain": [
       "set()"
      ]
     },
     "execution_count": 38,
     "metadata": {},
     "output_type": "execute_result"
    }
   ],
   "source": [
    "correlatedFeatures(df, 0.8)"
   ]
  },
  {
   "cell_type": "code",
   "execution_count": 78,
   "metadata": {},
   "outputs": [],
   "source": [
    "# no highly correlated feature (correlation index > 0.8)"
   ]
  },
  {
   "cell_type": "markdown",
   "metadata": {},
   "source": [
    "Detect low variance feature"
   ]
  },
  {
   "cell_type": "code",
   "execution_count": 47,
   "metadata": {},
   "outputs": [],
   "source": [
    "X = df.drop('Preference', axis=1)\n",
    "y = df['Preference']\n",
    "\n",
    "test_size = 0.33\n",
    "seed = 1\n",
    "\n",
    "scaler = MinMaxScaler(feature_range=(0,1))\n",
    "X_ = scaler.fit_transform(X)\n",
    "X = pd.DataFrame(X_, columns=X.columns)\n",
    "\n",
    "# X_train, X_test, y_train, y_test = train_test_split(X, y, test_size=test_size, random_state=seed)"
   ]
  },
  {
   "cell_type": "code",
   "execution_count": 48,
   "metadata": {},
   "outputs": [
    {
     "name": "stdout",
     "output_type": "stream",
     "text": [
      "Feature selection [ True  True  True  True  True  True  True  True  True  True  True  True\n",
      "  True  True  True  True  True  True  True  True  True]\n",
      "Selected features: ['Age', 'Income', 'Travel_Frequency', 'Vacation_Budget', 'Proximity_to_Mountains', 'Proximity_to_Beaches', 'Pets', 'Environmental_Concerns', 'female', 'male', 'bachelor', 'doctorate', 'high school', 'hiking', 'skiing', 'sunbathing', 'rural', 'suburban', 'fall', 'spring', 'summer']\n",
      "Removed features: []\n"
     ]
    }
   ],
   "source": [
    "sel = VarianceThreshold(threshold=(0.02))\n",
    "sel.fit(X)\n",
    "\n",
    "print(\"Feature selection\", sel.get_support())\n",
    "print(\"Selected features:\", list(X.columns[sel.get_support()]))\n",
    "print(\"Removed features:\", list(X.columns[~sel.get_support()]))"
   ]
  },
  {
   "cell_type": "code",
   "execution_count": 59,
   "metadata": {},
   "outputs": [],
   "source": [
    "# No low variance feature"
   ]
  },
  {
   "cell_type": "markdown",
   "metadata": {},
   "source": [
    "Select N strongly related features"
   ]
  },
  {
   "cell_type": "code",
   "execution_count": null,
   "metadata": {},
   "outputs": [
    {
     "name": "stdout",
     "output_type": "stream",
     "text": [
      "Feature selection [False False False False  True  True  True False False False False False\n",
      " False  True  True  True False False False False False]\n",
      "Feature scores [5.14017859e-02 4.71273080e-01 1.48076433e-01 1.18503220e+00\n",
      " 6.64591006e+03 6.62248368e+03 6.78676964e+00 1.11312611e-01\n",
      " 1.11145652e-02 1.20438195e-02 1.24567705e+00 5.87279430e+00\n",
      " 2.87310532e+00 6.54706890e+03 6.54840714e+03 6.66627340e+03\n",
      " 9.43073457e-01 1.49522702e-01 3.16304809e-01 1.55183457e-01\n",
      " 6.61878164e-01]\n",
      "Selected features: ['Proximity_to_Mountains', 'Proximity_to_Beaches', 'Pets', 'hiking', 'skiing', 'sunbathing']\n",
      "Removed features: ['Age', 'Income', 'Travel_Frequency', 'Vacation_Budget', 'Environmental_Concerns', 'female', 'male', 'bachelor', 'doctorate', 'high school', 'rural', 'suburban', 'fall', 'spring', 'summer']\n"
     ]
    }
   ],
   "source": [
    "kbest = SelectKBest(score_func=f_classif, k=6)\n",
    "kbest.fit(X, y)\n",
    "\n",
    "print(\"Feature selection\", kbest.get_support())\n",
    "print(\"Feature scores\", kbest.scores_)\n",
    "print(\"Selected features:\", list(X.columns[kbest.get_support()]))\n",
    "print(\"Removed features:\", list(X.columns[~kbest.get_support()]))"
   ]
  },
  {
   "cell_type": "code",
   "execution_count": 58,
   "metadata": {},
   "outputs": [
    {
     "data": {
      "text/plain": [
       "[<matplotlib.lines.Line2D at 0x22d09470810>]"
      ]
     },
     "execution_count": 58,
     "metadata": {},
     "output_type": "execute_result"
    },
    {
     "data": {
      "image/png": "[encoded data removed]",
      "text/plain": [
       "<Figure size 640x480 with 1 Axes>"
      ]
     },
     "metadata": {},
     "output_type": "display_data"
    }
   ],
   "source": [
    "test_result_df = pd.DataFrame(columns=['N', 'Score'])\n",
    "n_list = []\n",
    "score_list = []\n",
    "for n_best in range(3, 15):\n",
    "    kbest = SelectKBest(score_func=f_classif, k=n_best)\n",
    "    kbest.fit(X, y)\n",
    "    X_ = kbest.transform(X)\n",
    "    X_train, X_test, y_train, y_test = train_test_split(X_, y, test_size=test_size, random_state=seed)\n",
    "    model = LogisticRegression()\n",
    "    model.fit(X_train, y_train)\n",
    "    yhat = model.predict(X_test)\n",
    "    score = accuracy_score(y_pred=yhat, y_true=y_test)\n",
    "    # print(str(n_best), ': ', score)\n",
    "    n_list.append(n_best)\n",
    "    score_list.append(score)\n",
    "test_result_df['N'] = pd.Series(n_list)\n",
    "test_result_df['Score'] = pd.Series(score_list)\n",
    "plt.plot(test_result_df['N'], test_result_df['Score'])"
   ]
  },
  {
   "cell_type": "code",
   "execution_count": 80,
   "metadata": {},
   "outputs": [],
   "source": [
    "# since the performance increase is less obvious after N = 5, first 5 features which have the strongest relationship with the target are chosen"
   ]
  },
  {
   "cell_type": "markdown",
   "metadata": {},
   "source": [
    "**Building Classification Model**"
   ]
  },
  {
   "cell_type": "code",
   "execution_count": 86,
   "metadata": {},
   "outputs": [],
   "source": [
    "def plotRocAuc(model, X, y):\n",
    "    \"\"\" \n",
    "    Function to plot the ROC curve and display the AUC\n",
    "\n",
    "    Input: model, predictors, target\n",
    "    Return: None\n",
    "    \"\"\"\n",
    "    probabilities = model.predict_proba(X)\n",
    "    probabilities = probabilities[:, 1]  # keep probabilities for first class only\n",
    "        \n",
    "    # Compute the ROC curve\n",
    "    fpr, tpr, thresholds = roc_curve(y, probabilities)    \n",
    "    \n",
    "    # Plot the \"dumb model\" line\n",
    "    plt.plot([0, 1], [0, 1], linestyle='--')\n",
    "    \n",
    "    # Plot the model line\n",
    "    plt.plot(fpr, tpr, marker='.')\n",
    "    plt.text(0.75, 0.25, \"AUC: \" + str(round(roc_auc_score(y, probabilities), 6)))\n",
    "    \n",
    "    # show the plot\n",
    "    plt.show()"
   ]
  },
  {
   "cell_type": "code",
   "execution_count": 87,
   "metadata": {},
   "outputs": [
    {
     "name": "stdout",
     "output_type": "stream",
     "text": [
      "Selected features: ['Proximity_to_Mountains', 'Proximity_to_Beaches', 'hiking', 'skiing', 'sunbathing'] \n",
      "\n",
      "\n",
      "----------------------------------\n",
      "LogisticRegression\n",
      "----------------------------------\n",
      "Confusion matrix:\n",
      "[[13030     5]\n",
      " [   13  4259]]\n",
      "\n",
      "Accuracy: 0.998959958398336\n",
      "\n",
      "Classification report:\n",
      "              precision    recall  f1-score   support\n",
      "\n",
      "           0       1.00      1.00      1.00     13035\n",
      "           1       1.00      1.00      1.00      4272\n",
      "\n",
      "    accuracy                           1.00     17307\n",
      "   macro avg       1.00      1.00      1.00     17307\n",
      "weighted avg       1.00      1.00      1.00     17307\n",
      "\n",
      "\n",
      "ROC / AUC:\n"
     ]
    },
    {
     "data": {
      "image/png": "[encoded data removed]",
      "text/plain": [
       "<Figure size 640x480 with 1 Axes>"
      ]
     },
     "metadata": {},
     "output_type": "display_data"
    },
    {
     "name": "stdout",
     "output_type": "stream",
     "text": [
      "----------------------------------\n",
      "DecisionTreeClassifier\n",
      "----------------------------------\n",
      "Confusion matrix:\n",
      "[[12993    42]\n",
      " [   34  4238]]\n",
      "\n",
      "Accuracy: 0.9956087132374184\n",
      "\n",
      "Classification report:\n",
      "              precision    recall  f1-score   support\n",
      "\n",
      "           0       1.00      1.00      1.00     13035\n",
      "           1       0.99      0.99      0.99      4272\n",
      "\n",
      "    accuracy                           1.00     17307\n",
      "   macro avg       0.99      0.99      0.99     17307\n",
      "weighted avg       1.00      1.00      1.00     17307\n",
      "\n",
      "\n",
      "ROC / AUC:\n"
     ]
    },
    {
     "data": {
      "image/png": "[encoded data removed]",
      "text/plain": [
       "<Figure size 640x480 with 1 Axes>"
      ]
     },
     "metadata": {},
     "output_type": "display_data"
    },
    {
     "name": "stdout",
     "output_type": "stream",
     "text": [
      "----------------------------------\n",
      "KNeighborsClassifier\n",
      "----------------------------------\n",
      "Confusion matrix:\n",
      "[[13015    20]\n",
      " [   24  4248]]\n",
      "\n",
      "Accuracy: 0.9974576760848212\n",
      "\n",
      "Classification report:\n",
      "              precision    recall  f1-score   support\n",
      "\n",
      "           0       1.00      1.00      1.00     13035\n",
      "           1       1.00      0.99      0.99      4272\n",
      "\n",
      "    accuracy                           1.00     17307\n",
      "   macro avg       1.00      1.00      1.00     17307\n",
      "weighted avg       1.00      1.00      1.00     17307\n",
      "\n",
      "\n",
      "ROC / AUC:\n"
     ]
    },
    {
     "data": {
      "image/png": "[encoded data removed]",
      "text/plain": [
       "<Figure size 640x480 with 1 Axes>"
      ]
     },
     "metadata": {},
     "output_type": "display_data"
    }
   ],
   "source": [
    "kbest = SelectKBest(score_func=f_classif, k=5)\n",
    "kbest.fit(X, y)\n",
    "print(\"Selected features:\", list(X.columns[kbest.get_support()]), '\\n\\n')\n",
    "X_ = kbest.transform(X)\n",
    "X_train, X_test, y_train, y_test = train_test_split(X_, y, test_size=test_size, random_state=seed)\n",
    "\n",
    "models = [LogisticRegression(), DecisionTreeClassifier(), KNeighborsClassifier()]\n",
    "for model in models:\n",
    "    model.fit(X_train, y_train)\n",
    "    yhat = model.predict(X_test)\n",
    "    print(\"----------------------------------\")\n",
    "    print(type(model).__name__)\n",
    "    print(\"----------------------------------\")\n",
    "    print(\"Confusion matrix:\")\n",
    "    print(confusion_matrix(y_true=y_test, y_pred=yhat))\n",
    "\n",
    "    print(\"\\nAccuracy:\", accuracy_score(y_true=y_test, y_pred=yhat))\n",
    "\n",
    "    print(\"\\nClassification report:\")\n",
    "    print(classification_report(y_true=y_test, y_pred=yhat))\n",
    "\n",
    "    print(\"\\nROC / AUC:\")\n",
    "    plotRocAuc(model, X_test, y_test)"
   ]
  },
  {
   "cell_type": "code",
   "execution_count": 84,
   "metadata": {},
   "outputs": [],
   "source": [
    "# Logistic Regression is chosen because it has the least false classification in the confusion and highest AUC"
   ]
  },
  {
   "cell_type": "markdown",
   "metadata": {},
   "source": [
    "Further evaluation with cross validation"
   ]
  },
  {
   "cell_type": "code",
   "execution_count": 73,
   "metadata": {},
   "outputs": [
    {
     "name": "stdout",
     "output_type": "stream",
     "text": [
      "Selected features: ['Proximity_to_Mountains', 'Proximity_to_Beaches', 'hiking', 'skiing', 'sunbathing'] \n",
      "\n",
      "[0.99999037 0.99998705 1.         0.99997803 0.99999276]\n",
      "Mean: 0.9999896434768246\n",
      "Std: 7.2002173903723395e-06\n"
     ]
    }
   ],
   "source": [
    "model = LogisticRegression()\n",
    "\n",
    "kfold = KFold(n_splits=5, shuffle=True, random_state=seed)\n",
    "\n",
    "kbest = SelectKBest(score_func=f_classif, k=5)\n",
    "kbest.fit(X, y)\n",
    "print(\"Selected features:\", list(X.columns[kbest.get_support()]), '\\n')\n",
    "X_ = kbest.transform(X)\n",
    "\n",
    "# Train and evaluate multiple models using kfolds\n",
    "results = cross_val_score(model, X_, y, cv=kfold, scoring='roc_auc')\n",
    "print(results)\n",
    "print(\"Mean:\", results.mean())\n",
    "print(\"Std:\", results.std())"
   ]
  },
  {
   "cell_type": "code",
   "execution_count": 85,
   "metadata": {},
   "outputs": [],
   "source": [
    "# the model performs accurately and consistently with the average AUC = 0.99998964 with standard deviation < 0.000008"
   ]
  },
  {
   "cell_type": "code",
   "execution_count": 76,
   "metadata": {},
   "outputs": [],
   "source": [
    "# the model can be further tested with other datasets to further verify its biasness and comprehensiveness"
   ]
  },
  {
   "cell_type": "code",
   "execution_count": null,
   "metadata": {},
   "outputs": [],
   "source": []
  }
 ],
 "metadata": {
  "kernelspec": {
   "display_name": "Python 3",
   "language": "python",
   "name": "python3"
  },
  "language_info": {
   "codemirror_mode": {
    "name": "ipython",
    "version": 3
   },
   "file_extension": ".py",
   "mimetype": "text/x-python",
   "name": "python",
   "nbconvert_exporter": "python",
   "pygments_lexer": "ipython3",
   "version": "3.11.9"
  }
 },
 "nbformat": 4,
 "nbformat_minor": 2
}
