{
 "cells": [
  {
   "cell_type": "code",
   "execution_count": 2,
   "metadata": {},
   "outputs": [],
   "source": [
    "import pandas as pd # type: ignore\n",
    "import numpy as np # type: ignore"
   ]
  },
  {
   "cell_type": "code",
   "execution_count": 1,
   "metadata": {},
   "outputs": [],
   "source": [
    "import datetime\n",
    "import time\n",
    "from datetime import timedelta"
   ]
  },
  {
   "cell_type": "code",
   "execution_count": 3,
   "metadata": {},
   "outputs": [],
   "source": [
    "df_customer = pd.read_csv(\"user_info.csv\")\n",
    "df_platform_log = pd.read_csv(\"platform_visit_log.csv\")"
   ]
  },
  {
   "cell_type": "code",
   "execution_count": 4,
   "metadata": {},
   "outputs": [
    {
     "data": {
      "text/html": [
       "<div>\n",
       "<style scoped>\n",
       "    .dataframe tbody tr th:only-of-type {\n",
       "        vertical-align: middle;\n",
       "    }\n",
       "\n",
       "    .dataframe tbody tr th {\n",
       "        vertical-align: top;\n",
       "    }\n",
       "\n",
       "    .dataframe thead th {\n",
       "        text-align: right;\n",
       "    }\n",
       "</style>\n",
       "<table border=\"1\" class=\"dataframe\">\n",
       "  <thead>\n",
       "    <tr style=\"text-align: right;\">\n",
       "      <th></th>\n",
       "      <th>user_id</th>\n",
       "      <th>first_name</th>\n",
       "      <th>last_name</th>\n",
       "      <th>email</th>\n",
       "      <th>age</th>\n",
       "      <th>occupation</th>\n",
       "      <th>country</th>\n",
       "      <th>region</th>\n",
       "    </tr>\n",
       "  </thead>\n",
       "  <tbody>\n",
       "    <tr>\n",
       "      <th>0</th>\n",
       "      <td>KcBEKa</td>\n",
       "      <td>Ashley</td>\n",
       "      <td>Patterson</td>\n",
       "      <td>ashley27@example.com</td>\n",
       "      <td>44</td>\n",
       "      <td>Accountant</td>\n",
       "      <td>India</td>\n",
       "      <td>Asia</td>\n",
       "    </tr>\n",
       "    <tr>\n",
       "      <th>1</th>\n",
       "      <td>PZkcHF</td>\n",
       "      <td>Belinda</td>\n",
       "      <td>Harris</td>\n",
       "      <td>belinda42@example.com</td>\n",
       "      <td>19</td>\n",
       "      <td>Engineer</td>\n",
       "      <td>China</td>\n",
       "      <td>Asia</td>\n",
       "    </tr>\n",
       "    <tr>\n",
       "      <th>2</th>\n",
       "      <td>cA3iMw</td>\n",
       "      <td>Lisa</td>\n",
       "      <td>Colon</td>\n",
       "      <td>lisa49@example.com</td>\n",
       "      <td>41</td>\n",
       "      <td>Teacher</td>\n",
       "      <td>India</td>\n",
       "      <td>Asia</td>\n",
       "    </tr>\n",
       "    <tr>\n",
       "      <th>3</th>\n",
       "      <td>DlRtQx</td>\n",
       "      <td>Desiree</td>\n",
       "      <td>Martin</td>\n",
       "      <td>desiree18@example.com</td>\n",
       "      <td>44</td>\n",
       "      <td>Engineer</td>\n",
       "      <td>Australia</td>\n",
       "      <td>Oceania</td>\n",
       "    </tr>\n",
       "    <tr>\n",
       "      <th>4</th>\n",
       "      <td>NycLap</td>\n",
       "      <td>Abigail</td>\n",
       "      <td>Murphy</td>\n",
       "      <td>abigail18@example.com</td>\n",
       "      <td>27</td>\n",
       "      <td>Teacher</td>\n",
       "      <td>Brazil</td>\n",
       "      <td>South America</td>\n",
       "    </tr>\n",
       "  </tbody>\n",
       "</table>\n",
       "</div>"
      ],
      "text/plain": [
       "  user_id first_name  last_name                  email  age  occupation  \\\n",
       "0  KcBEKa     Ashley  Patterson   ashley27@example.com   44  Accountant   \n",
       "1  PZkcHF    Belinda     Harris  belinda42@example.com   19    Engineer   \n",
       "2  cA3iMw       Lisa      Colon     lisa49@example.com   41     Teacher   \n",
       "3  DlRtQx    Desiree     Martin  desiree18@example.com   44    Engineer   \n",
       "4  NycLap    Abigail     Murphy  abigail18@example.com   27     Teacher   \n",
       "\n",
       "     country         region  \n",
       "0      India           Asia  \n",
       "1      China           Asia  \n",
       "2      India           Asia  \n",
       "3  Australia        Oceania  \n",
       "4     Brazil  South America  "
      ]
     },
     "execution_count": 4,
     "metadata": {},
     "output_type": "execute_result"
    }
   ],
   "source": [
    "df_customer.head()"
   ]
  },
  {
   "cell_type": "code",
   "execution_count": 5,
   "metadata": {},
   "outputs": [
    {
     "data": {
      "text/plain": [
       "user_id       object\n",
       "first_name    object\n",
       "last_name     object\n",
       "email         object\n",
       "age            int64\n",
       "occupation    object\n",
       "country       object\n",
       "region        object\n",
       "dtype: object"
      ]
     },
     "execution_count": 5,
     "metadata": {},
     "output_type": "execute_result"
    }
   ],
   "source": [
    "df_customer.dtypes"
   ]
  },
  {
   "cell_type": "code",
   "execution_count": 6,
   "metadata": {},
   "outputs": [
    {
     "data": {
      "text/html": [
       "<div>\n",
       "<style scoped>\n",
       "    .dataframe tbody tr th:only-of-type {\n",
       "        vertical-align: middle;\n",
       "    }\n",
       "\n",
       "    .dataframe tbody tr th {\n",
       "        vertical-align: top;\n",
       "    }\n",
       "\n",
       "    .dataframe thead th {\n",
       "        text-align: right;\n",
       "    }\n",
       "</style>\n",
       "<table border=\"1\" class=\"dataframe\">\n",
       "  <thead>\n",
       "    <tr style=\"text-align: right;\">\n",
       "      <th></th>\n",
       "      <th>date</th>\n",
       "      <th>entry_time</th>\n",
       "      <th>exit_time</th>\n",
       "      <th>device</th>\n",
       "      <th>user_id</th>\n",
       "    </tr>\n",
       "  </thead>\n",
       "  <tbody>\n",
       "    <tr>\n",
       "      <th>0</th>\n",
       "      <td>2023-01-01</td>\n",
       "      <td>23:27:00</td>\n",
       "      <td>01:43:00</td>\n",
       "      <td>Mobile</td>\n",
       "      <td>wMUSKs</td>\n",
       "    </tr>\n",
       "    <tr>\n",
       "      <th>1</th>\n",
       "      <td>2023-01-01</td>\n",
       "      <td>22:20:00</td>\n",
       "      <td>01:11:00</td>\n",
       "      <td>Mobile</td>\n",
       "      <td>WXATdI</td>\n",
       "    </tr>\n",
       "    <tr>\n",
       "      <th>2</th>\n",
       "      <td>2023-01-01</td>\n",
       "      <td>16:49:00</td>\n",
       "      <td>19:30:00</td>\n",
       "      <td>Mobile</td>\n",
       "      <td>0BMmMt</td>\n",
       "    </tr>\n",
       "    <tr>\n",
       "      <th>3</th>\n",
       "      <td>2023-01-01</td>\n",
       "      <td>21:31:00</td>\n",
       "      <td>23:10:00</td>\n",
       "      <td>Desktop</td>\n",
       "      <td>kQP80l</td>\n",
       "    </tr>\n",
       "    <tr>\n",
       "      <th>4</th>\n",
       "      <td>2023-01-01</td>\n",
       "      <td>12:01:00</td>\n",
       "      <td>13:20:00</td>\n",
       "      <td>Tablet</td>\n",
       "      <td>HHiVlD</td>\n",
       "    </tr>\n",
       "  </tbody>\n",
       "</table>\n",
       "</div>"
      ],
      "text/plain": [
       "         date entry_time exit_time   device user_id\n",
       "0  2023-01-01   23:27:00  01:43:00   Mobile  wMUSKs\n",
       "1  2023-01-01   22:20:00  01:11:00   Mobile  WXATdI\n",
       "2  2023-01-01   16:49:00  19:30:00   Mobile  0BMmMt\n",
       "3  2023-01-01   21:31:00  23:10:00  Desktop  kQP80l\n",
       "4  2023-01-01   12:01:00  13:20:00   Tablet  HHiVlD"
      ]
     },
     "execution_count": 6,
     "metadata": {},
     "output_type": "execute_result"
    }
   ],
   "source": [
    "df_platform_log.head()"
   ]
  },
  {
   "cell_type": "code",
   "execution_count": 7,
   "metadata": {},
   "outputs": [
    {
     "data": {
      "text/plain": [
       "date          object\n",
       "entry_time    object\n",
       "exit_time     object\n",
       "device        object\n",
       "user_id       object\n",
       "dtype: object"
      ]
     },
     "execution_count": 7,
     "metadata": {},
     "output_type": "execute_result"
    }
   ],
   "source": [
    "df_platform_log.dtypes"
   ]
  },
  {
   "cell_type": "code",
   "execution_count": 4,
   "metadata": {},
   "outputs": [
    {
     "name": "stdout",
     "output_type": "stream",
     "text": [
      "date                 datetime64[ns]\n",
      "entry_time                   object\n",
      "exit_time                    object\n",
      "device                       object\n",
      "user_id                      object\n",
      "entry_time_month              int64\n",
      "entry_time_hour               int64\n",
      "active_period       timedelta64[ns]\n",
      "exit_time_hour                int64\n",
      "day_of_week                   int32\n",
      "dtype: object\n"
     ]
    },
    {
     "name": "stderr",
     "output_type": "stream",
     "text": [
      "C:\\Users\\1\\AppData\\Local\\Temp\\ipykernel_19216\\2578866466.py:25: FutureWarning: ChainedAssignmentError: behaviour will change in pandas 3.0!\n",
      "You are setting values through chained assignment. Currently this works in certain cases, but when using Copy-on-Write (which will become the default behaviour in pandas 3.0) this will never work to update the original DataFrame or Series, because the intermediate object on which we are setting values will behave as a copy.\n",
      "A typical example is when you are setting values in a column of a DataFrame, like:\n",
      "\n",
      "df[\"col\"][row_indexer] = value\n",
      "\n",
      "Use `df.loc[row_indexer, \"col\"] = values` instead, to perform the assignment in a single step and ensure this keeps updating the original `df`.\n",
      "\n",
      "See the caveats in the documentation: https://pandas.pydata.org/pandas-docs/stable/user_guide/indexing.html#returning-a-view-versus-a-copy\n",
      "\n",
      "  df_platform_log['active_period'][(df_platform_log['entry_time_hour'] > 20) & (df_platform_log['exit_time_hour'] < 4)] += time_change\n",
      "C:\\Users\\1\\AppData\\Local\\Temp\\ipykernel_19216\\2578866466.py:25: SettingWithCopyWarning: \n",
      "A value is trying to be set on a copy of a slice from a DataFrame\n",
      "\n",
      "See the caveats in the documentation: https://pandas.pydata.org/pandas-docs/stable/user_guide/indexing.html#returning-a-view-versus-a-copy\n",
      "  df_platform_log['active_period'][(df_platform_log['entry_time_hour'] > 20) & (df_platform_log['exit_time_hour'] < 4)] += time_change\n"
     ]
    },
    {
     "data": {
      "text/html": [
       "<div>\n",
       "<style scoped>\n",
       "    .dataframe tbody tr th:only-of-type {\n",
       "        vertical-align: middle;\n",
       "    }\n",
       "\n",
       "    .dataframe tbody tr th {\n",
       "        vertical-align: top;\n",
       "    }\n",
       "\n",
       "    .dataframe thead th {\n",
       "        text-align: right;\n",
       "    }\n",
       "</style>\n",
       "<table border=\"1\" class=\"dataframe\">\n",
       "  <thead>\n",
       "    <tr style=\"text-align: right;\">\n",
       "      <th></th>\n",
       "      <th>date</th>\n",
       "      <th>entry_time</th>\n",
       "      <th>exit_time</th>\n",
       "      <th>device</th>\n",
       "      <th>user_id</th>\n",
       "      <th>entry_time_month</th>\n",
       "      <th>entry_time_hour</th>\n",
       "      <th>active_period</th>\n",
       "      <th>exit_time_hour</th>\n",
       "      <th>day_of_week</th>\n",
       "    </tr>\n",
       "  </thead>\n",
       "  <tbody>\n",
       "    <tr>\n",
       "      <th>0</th>\n",
       "      <td>2023-01-01</td>\n",
       "      <td>23:27:00</td>\n",
       "      <td>01:43:00</td>\n",
       "      <td>Mobile</td>\n",
       "      <td>wMUSKs</td>\n",
       "      <td>1</td>\n",
       "      <td>23</td>\n",
       "      <td>0 days 02:16:00</td>\n",
       "      <td>1</td>\n",
       "      <td>6</td>\n",
       "    </tr>\n",
       "    <tr>\n",
       "      <th>1</th>\n",
       "      <td>2023-01-01</td>\n",
       "      <td>22:20:00</td>\n",
       "      <td>01:11:00</td>\n",
       "      <td>Mobile</td>\n",
       "      <td>WXATdI</td>\n",
       "      <td>1</td>\n",
       "      <td>22</td>\n",
       "      <td>0 days 02:51:00</td>\n",
       "      <td>1</td>\n",
       "      <td>6</td>\n",
       "    </tr>\n",
       "    <tr>\n",
       "      <th>2</th>\n",
       "      <td>2023-01-01</td>\n",
       "      <td>16:49:00</td>\n",
       "      <td>19:30:00</td>\n",
       "      <td>Mobile</td>\n",
       "      <td>0BMmMt</td>\n",
       "      <td>1</td>\n",
       "      <td>16</td>\n",
       "      <td>0 days 02:41:00</td>\n",
       "      <td>19</td>\n",
       "      <td>6</td>\n",
       "    </tr>\n",
       "    <tr>\n",
       "      <th>3</th>\n",
       "      <td>2023-01-01</td>\n",
       "      <td>21:31:00</td>\n",
       "      <td>23:10:00</td>\n",
       "      <td>Desktop</td>\n",
       "      <td>kQP80l</td>\n",
       "      <td>1</td>\n",
       "      <td>21</td>\n",
       "      <td>0 days 01:39:00</td>\n",
       "      <td>23</td>\n",
       "      <td>6</td>\n",
       "    </tr>\n",
       "    <tr>\n",
       "      <th>4</th>\n",
       "      <td>2023-01-01</td>\n",
       "      <td>12:01:00</td>\n",
       "      <td>13:20:00</td>\n",
       "      <td>Tablet</td>\n",
       "      <td>HHiVlD</td>\n",
       "      <td>1</td>\n",
       "      <td>12</td>\n",
       "      <td>0 days 01:19:00</td>\n",
       "      <td>13</td>\n",
       "      <td>6</td>\n",
       "    </tr>\n",
       "  </tbody>\n",
       "</table>\n",
       "</div>"
      ],
      "text/plain": [
       "        date entry_time exit_time   device user_id  entry_time_month  \\\n",
       "0 2023-01-01   23:27:00  01:43:00   Mobile  wMUSKs                 1   \n",
       "1 2023-01-01   22:20:00  01:11:00   Mobile  WXATdI                 1   \n",
       "2 2023-01-01   16:49:00  19:30:00   Mobile  0BMmMt                 1   \n",
       "3 2023-01-01   21:31:00  23:10:00  Desktop  kQP80l                 1   \n",
       "4 2023-01-01   12:01:00  13:20:00   Tablet  HHiVlD                 1   \n",
       "\n",
       "   entry_time_hour   active_period  exit_time_hour  day_of_week  \n",
       "0               23 0 days 02:16:00               1            6  \n",
       "1               22 0 days 02:51:00               1            6  \n",
       "2               16 0 days 02:41:00              19            6  \n",
       "3               21 0 days 01:39:00              23            6  \n",
       "4               12 0 days 01:19:00              13            6  "
      ]
     },
     "execution_count": 4,
     "metadata": {},
     "output_type": "execute_result"
    }
   ],
   "source": [
    "# Convert date to YYYY-MM-DD\n",
    "df_platform_log['date'] = pd.to_datetime(df_platform_log['date'])\n",
    "\n",
    "# Extract the month for each entry session\n",
    "df_platform_log['entry_time_month'] = df_platform_log['date'].dt.month\n",
    "df_platform_log['entry_time_month'] = df_platform_log['entry_time_month'].astype(int)\n",
    "\n",
    "# Convert entry time to datetime (YYYY-MM-DD HH:MM:SS)\n",
    "df_platform_log['entry_time'] = pd.to_datetime(df_platform_log['entry_time'], format='%H:%M:%S')\n",
    "\n",
    "# Extract the hour of the entry time for each session\n",
    "df_platform_log['entry_time_hour'] = df_platform_log['entry_time'].dt.strftime('%H')\n",
    "df_platform_log['entry_time_hour'] = df_platform_log['entry_time_hour'].astype(int)\n",
    "\n",
    "# Convert exit time to datetime (YYYY-MM-DD HH:MM:SS)\n",
    "df_platform_log['exit_time'] = pd.to_datetime(df_platform_log['exit_time'], format= '%H:%M:%S')\n",
    "\n",
    "# Get the session period\n",
    "df_platform_log['active_period'] = df_platform_log['exit_time'] - df_platform_log['entry_time']\n",
    "\n",
    "# Rectify the -1 day active period due to exit time after 00 hour\n",
    "time_change = datetime.timedelta(hours=24)\n",
    "df_platform_log['exit_time_hour'] = df_platform_log['exit_time'].dt.strftime('%H')\n",
    "df_platform_log['exit_time_hour'] = df_platform_log['exit_time_hour'].astype(int)\n",
    "df_platform_log['active_period'][(df_platform_log['entry_time_hour'] > 20) & (df_platform_log['exit_time_hour'] < 4)] += time_change\n",
    "\n",
    "# Covert the time related columns to HH:MM:SS\n",
    "df_platform_log['entry_time'] = df_platform_log['entry_time'].dt.time\n",
    "df_platform_log['exit_time'] = df_platform_log['exit_time'].dt.time\n",
    "#df_platform_log['active_period'] = pd.to_datetime(str(df_platform_log['active_period']))\n",
    "#df_platform_log['active_period'] = df_platform_log['active_period'].dt.time\n",
    "\n",
    "# Get the day of week for each session\n",
    "df_platform_log['day_of_week'] = df_platform_log['date'].dt.day_of_week\n",
    "#df_platform_log['day_of_week'] = df_platform_log['day_of_week'].astype(str)\n",
    "#df_platform_log['day_of_week'] = df_platform_log['day_of_week'].replace('0', 'Monday')\n",
    "#df_platform_log['day_of_week'] = df_platform_log['day_of_week'].replace('1', 'Tuesday')\n",
    "#df_platform_log['day_of_week'] = df_platform_log['day_of_week'].replace('2', 'Wednesday')\n",
    "#df_platform_log['day_of_week'] = df_platform_log['day_of_week'].replace('3', 'Thursday')\n",
    "#df_platform_log['day_of_week'] = df_platform_log['day_of_week'].replace('4', 'Friday')\n",
    "#df_platform_log['day_of_week'] = df_platform_log['day_of_week'].replace('5', 'Saturday')\n",
    "#df_platform_log['day_of_week'] = df_platform_log['day_of_week'].replace('6', 'Sunday')\n",
    "\n",
    "print(df_platform_log.dtypes)\n",
    "df_platform_log.head()"
   ]
  },
  {
   "cell_type": "code",
   "execution_count": 9,
   "metadata": {},
   "outputs": [
    {
     "data": {
      "text/html": [
       "<div>\n",
       "<style scoped>\n",
       "    .dataframe tbody tr th:only-of-type {\n",
       "        vertical-align: middle;\n",
       "    }\n",
       "\n",
       "    .dataframe tbody tr th {\n",
       "        vertical-align: top;\n",
       "    }\n",
       "\n",
       "    .dataframe thead th {\n",
       "        text-align: right;\n",
       "    }\n",
       "</style>\n",
       "<table border=\"1\" class=\"dataframe\">\n",
       "  <thead>\n",
       "    <tr style=\"text-align: right;\">\n",
       "      <th></th>\n",
       "      <th>Hour</th>\n",
       "      <th>Sessions</th>\n",
       "    </tr>\n",
       "  </thead>\n",
       "  <tbody>\n",
       "    <tr>\n",
       "      <th>0</th>\n",
       "      <td>7</td>\n",
       "      <td>225</td>\n",
       "    </tr>\n",
       "    <tr>\n",
       "      <th>1</th>\n",
       "      <td>8</td>\n",
       "      <td>190</td>\n",
       "    </tr>\n",
       "    <tr>\n",
       "      <th>2</th>\n",
       "      <td>9</td>\n",
       "      <td>197</td>\n",
       "    </tr>\n",
       "    <tr>\n",
       "      <th>3</th>\n",
       "      <td>10</td>\n",
       "      <td>206</td>\n",
       "    </tr>\n",
       "    <tr>\n",
       "      <th>4</th>\n",
       "      <td>11</td>\n",
       "      <td>208</td>\n",
       "    </tr>\n",
       "    <tr>\n",
       "      <th>5</th>\n",
       "      <td>12</td>\n",
       "      <td>218</td>\n",
       "    </tr>\n",
       "    <tr>\n",
       "      <th>6</th>\n",
       "      <td>13</td>\n",
       "      <td>201</td>\n",
       "    </tr>\n",
       "    <tr>\n",
       "      <th>7</th>\n",
       "      <td>14</td>\n",
       "      <td>225</td>\n",
       "    </tr>\n",
       "    <tr>\n",
       "      <th>8</th>\n",
       "      <td>15</td>\n",
       "      <td>193</td>\n",
       "    </tr>\n",
       "    <tr>\n",
       "      <th>9</th>\n",
       "      <td>16</td>\n",
       "      <td>189</td>\n",
       "    </tr>\n",
       "    <tr>\n",
       "      <th>10</th>\n",
       "      <td>17</td>\n",
       "      <td>205</td>\n",
       "    </tr>\n",
       "    <tr>\n",
       "      <th>11</th>\n",
       "      <td>18</td>\n",
       "      <td>181</td>\n",
       "    </tr>\n",
       "    <tr>\n",
       "      <th>12</th>\n",
       "      <td>19</td>\n",
       "      <td>414</td>\n",
       "    </tr>\n",
       "    <tr>\n",
       "      <th>13</th>\n",
       "      <td>20</td>\n",
       "      <td>380</td>\n",
       "    </tr>\n",
       "    <tr>\n",
       "      <th>14</th>\n",
       "      <td>21</td>\n",
       "      <td>384</td>\n",
       "    </tr>\n",
       "    <tr>\n",
       "      <th>15</th>\n",
       "      <td>22</td>\n",
       "      <td>370</td>\n",
       "    </tr>\n",
       "    <tr>\n",
       "      <th>16</th>\n",
       "      <td>23</td>\n",
       "      <td>425</td>\n",
       "    </tr>\n",
       "  </tbody>\n",
       "</table>\n",
       "</div>"
      ],
      "text/plain": [
       "    Hour  Sessions\n",
       "0      7       225\n",
       "1      8       190\n",
       "2      9       197\n",
       "3     10       206\n",
       "4     11       208\n",
       "5     12       218\n",
       "6     13       201\n",
       "7     14       225\n",
       "8     15       193\n",
       "9     16       189\n",
       "10    17       205\n",
       "11    18       181\n",
       "12    19       414\n",
       "13    20       380\n",
       "14    21       384\n",
       "15    22       370\n",
       "16    23       425"
      ]
     },
     "execution_count": 9,
     "metadata": {},
     "output_type": "execute_result"
    }
   ],
   "source": [
    "df_monthly_active = pd.DataFrame(df_platform_log.groupby('entry_time_month')['date'].count().reset_index())\n",
    "df_monthly_active.columns = 'Month', 'Sessions'\n",
    "\n",
    "df_daily_active = pd.DataFrame(df_platform_log.groupby('entry_time_hour')['date'].count().reset_index())\n",
    "df_daily_active.columns = 'Hour', 'Sessions'\n",
    "\n",
    "df_daily_active"
   ]
  },
  {
   "cell_type": "code",
   "execution_count": 10,
   "metadata": {},
   "outputs": [
    {
     "data": {
      "text/html": [
       "<div>\n",
       "<style scoped>\n",
       "    .dataframe tbody tr th:only-of-type {\n",
       "        vertical-align: middle;\n",
       "    }\n",
       "\n",
       "    .dataframe tbody tr th {\n",
       "        vertical-align: top;\n",
       "    }\n",
       "\n",
       "    .dataframe thead th {\n",
       "        text-align: right;\n",
       "    }\n",
       "</style>\n",
       "<table border=\"1\" class=\"dataframe\">\n",
       "  <thead>\n",
       "    <tr style=\"text-align: right;\">\n",
       "      <th></th>\n",
       "      <th>Month</th>\n",
       "      <th>Sessions</th>\n",
       "    </tr>\n",
       "  </thead>\n",
       "  <tbody>\n",
       "    <tr>\n",
       "      <th>0</th>\n",
       "      <td>1</td>\n",
       "      <td>353</td>\n",
       "    </tr>\n",
       "    <tr>\n",
       "      <th>1</th>\n",
       "      <td>2</td>\n",
       "      <td>357</td>\n",
       "    </tr>\n",
       "    <tr>\n",
       "      <th>2</th>\n",
       "      <td>3</td>\n",
       "      <td>382</td>\n",
       "    </tr>\n",
       "    <tr>\n",
       "      <th>3</th>\n",
       "      <td>4</td>\n",
       "      <td>369</td>\n",
       "    </tr>\n",
       "    <tr>\n",
       "      <th>4</th>\n",
       "      <td>5</td>\n",
       "      <td>336</td>\n",
       "    </tr>\n",
       "    <tr>\n",
       "      <th>5</th>\n",
       "      <td>6</td>\n",
       "      <td>381</td>\n",
       "    </tr>\n",
       "    <tr>\n",
       "      <th>6</th>\n",
       "      <td>7</td>\n",
       "      <td>380</td>\n",
       "    </tr>\n",
       "    <tr>\n",
       "      <th>7</th>\n",
       "      <td>8</td>\n",
       "      <td>362</td>\n",
       "    </tr>\n",
       "    <tr>\n",
       "      <th>8</th>\n",
       "      <td>9</td>\n",
       "      <td>353</td>\n",
       "    </tr>\n",
       "    <tr>\n",
       "      <th>9</th>\n",
       "      <td>10</td>\n",
       "      <td>393</td>\n",
       "    </tr>\n",
       "    <tr>\n",
       "      <th>10</th>\n",
       "      <td>11</td>\n",
       "      <td>368</td>\n",
       "    </tr>\n",
       "    <tr>\n",
       "      <th>11</th>\n",
       "      <td>12</td>\n",
       "      <td>377</td>\n",
       "    </tr>\n",
       "  </tbody>\n",
       "</table>\n",
       "</div>"
      ],
      "text/plain": [
       "    Month  Sessions\n",
       "0       1       353\n",
       "1       2       357\n",
       "2       3       382\n",
       "3       4       369\n",
       "4       5       336\n",
       "5       6       381\n",
       "6       7       380\n",
       "7       8       362\n",
       "8       9       353\n",
       "9      10       393\n",
       "10     11       368\n",
       "11     12       377"
      ]
     },
     "execution_count": 10,
     "metadata": {},
     "output_type": "execute_result"
    }
   ],
   "source": [
    "df_monthly_active"
   ]
  },
  {
   "cell_type": "code",
   "execution_count": 14,
   "metadata": {},
   "outputs": [],
   "source": [
    "def rename_day_of_week(df):\n",
    "    df['day_of_week'] = df['day_of_week'].replace(0, 'Monday')\n",
    "    df['day_of_week'] = df['day_of_week'].replace(1, 'Tuesday')\n",
    "    df['day_of_week'] = df['day_of_week'].replace(2, 'Wednesday')\n",
    "    df['day_of_week'] = df['day_of_week'].replace(3, 'Thursday')\n",
    "    df['day_of_week'] = df['day_of_week'].replace(4, 'Friday')\n",
    "    df['day_of_week'] = df['day_of_week'].replace(5, 'Saturday')\n",
    "    df['day_of_week'] = df['day_of_week'].replace(6, 'Sunday')\n",
    "    return df"
   ]
  },
  {
   "cell_type": "code",
   "execution_count": 42,
   "metadata": {},
   "outputs": [
    {
     "data": {
      "text/html": [
       "<div>\n",
       "<style scoped>\n",
       "    .dataframe tbody tr th:only-of-type {\n",
       "        vertical-align: middle;\n",
       "    }\n",
       "\n",
       "    .dataframe tbody tr th {\n",
       "        vertical-align: top;\n",
       "    }\n",
       "\n",
       "    .dataframe thead th {\n",
       "        text-align: right;\n",
       "    }\n",
       "</style>\n",
       "<table border=\"1\" class=\"dataframe\">\n",
       "  <thead>\n",
       "    <tr style=\"text-align: right;\">\n",
       "      <th></th>\n",
       "      <th>Day of Week</th>\n",
       "      <th>Sessions</th>\n",
       "    </tr>\n",
       "  </thead>\n",
       "  <tbody>\n",
       "    <tr>\n",
       "      <th>0</th>\n",
       "      <td>Monday</td>\n",
       "      <td>508</td>\n",
       "    </tr>\n",
       "    <tr>\n",
       "      <th>1</th>\n",
       "      <td>Tuesday</td>\n",
       "      <td>529</td>\n",
       "    </tr>\n",
       "    <tr>\n",
       "      <th>2</th>\n",
       "      <td>Wednesday</td>\n",
       "      <td>549</td>\n",
       "    </tr>\n",
       "    <tr>\n",
       "      <th>3</th>\n",
       "      <td>Thursday</td>\n",
       "      <td>502</td>\n",
       "    </tr>\n",
       "    <tr>\n",
       "      <th>4</th>\n",
       "      <td>Friday</td>\n",
       "      <td>517</td>\n",
       "    </tr>\n",
       "    <tr>\n",
       "      <th>5</th>\n",
       "      <td>Saturday</td>\n",
       "      <td>868</td>\n",
       "    </tr>\n",
       "    <tr>\n",
       "      <th>6</th>\n",
       "      <td>Sunday</td>\n",
       "      <td>938</td>\n",
       "    </tr>\n",
       "  </tbody>\n",
       "</table>\n",
       "</div>"
      ],
      "text/plain": [
       "  Day of Week  Sessions\n",
       "0      Monday       508\n",
       "1     Tuesday       529\n",
       "2   Wednesday       549\n",
       "3    Thursday       502\n",
       "4      Friday       517\n",
       "5    Saturday       868\n",
       "6      Sunday       938"
      ]
     },
     "execution_count": 42,
     "metadata": {},
     "output_type": "execute_result"
    }
   ],
   "source": [
    "df_dayofweek_active = pd.DataFrame(df_platform_log.groupby('day_of_week')['date'].count().reset_index())\n",
    "df_dayofweek_active.sort_values('day_of_week', ascending=True, inplace=True)\n",
    "df_dayofweek_active = rename_day_of_week(df_dayofweek_active)\n",
    "df_dayofweek_active.columns = 'Day of Week', 'Sessions'\n",
    "df_dayofweek_active"
   ]
  },
  {
   "cell_type": "code",
   "execution_count": 11,
   "metadata": {},
   "outputs": [
    {
     "data": {
      "text/html": [
       "<div>\n",
       "<style scoped>\n",
       "    .dataframe tbody tr th:only-of-type {\n",
       "        vertical-align: middle;\n",
       "    }\n",
       "\n",
       "    .dataframe tbody tr th {\n",
       "        vertical-align: top;\n",
       "    }\n",
       "\n",
       "    .dataframe thead th {\n",
       "        text-align: right;\n",
       "    }\n",
       "</style>\n",
       "<table border=\"1\" class=\"dataframe\">\n",
       "  <thead>\n",
       "    <tr style=\"text-align: right;\">\n",
       "      <th></th>\n",
       "      <th>region</th>\n",
       "      <th>count</th>\n",
       "    </tr>\n",
       "  </thead>\n",
       "  <tbody>\n",
       "    <tr>\n",
       "      <th>0</th>\n",
       "      <td>Asia</td>\n",
       "      <td>314</td>\n",
       "    </tr>\n",
       "    <tr>\n",
       "      <th>1</th>\n",
       "      <td>Europe</td>\n",
       "      <td>222</td>\n",
       "    </tr>\n",
       "    <tr>\n",
       "      <th>2</th>\n",
       "      <td>North America</td>\n",
       "      <td>234</td>\n",
       "    </tr>\n",
       "    <tr>\n",
       "      <th>3</th>\n",
       "      <td>Oceania</td>\n",
       "      <td>107</td>\n",
       "    </tr>\n",
       "    <tr>\n",
       "      <th>4</th>\n",
       "      <td>South America</td>\n",
       "      <td>123</td>\n",
       "    </tr>\n",
       "  </tbody>\n",
       "</table>\n",
       "</div>"
      ],
      "text/plain": [
       "          region  count\n",
       "0           Asia    314\n",
       "1         Europe    222\n",
       "2  North America    234\n",
       "3        Oceania    107\n",
       "4  South America    123"
      ]
     },
     "execution_count": 11,
     "metadata": {},
     "output_type": "execute_result"
    }
   ],
   "source": [
    "# Record of regions and its user number\n",
    "df_customer_region = df_customer.groupby('region')['user_id'].count().reset_index()\n",
    "#region_list = df_customer_region['region']\n",
    "#df_customer_region.insert(1, 'country', region_list)\n",
    "df_customer_region.columns = 'region', 'count' #'country',\n",
    "df_customer_region.sort_values('region', ascending=True, inplace=True)\n",
    "df_customer_region.head()"
   ]
  },
  {
   "cell_type": "code",
   "execution_count": 12,
   "metadata": {},
   "outputs": [
    {
     "data": {
      "text/html": [
       "<div>\n",
       "<style scoped>\n",
       "    .dataframe tbody tr th:only-of-type {\n",
       "        vertical-align: middle;\n",
       "    }\n",
       "\n",
       "    .dataframe tbody tr th {\n",
       "        vertical-align: top;\n",
       "    }\n",
       "\n",
       "    .dataframe thead th {\n",
       "        text-align: right;\n",
       "    }\n",
       "</style>\n",
       "<table border=\"1\" class=\"dataframe\">\n",
       "  <thead>\n",
       "    <tr style=\"text-align: right;\">\n",
       "      <th></th>\n",
       "      <th>region</th>\n",
       "      <th>country</th>\n",
       "    </tr>\n",
       "  </thead>\n",
       "  <tbody>\n",
       "    <tr>\n",
       "      <th>0</th>\n",
       "      <td>Asia</td>\n",
       "      <td>India</td>\n",
       "    </tr>\n",
       "    <tr>\n",
       "      <th>1</th>\n",
       "      <td>Asia</td>\n",
       "      <td>China</td>\n",
       "    </tr>\n",
       "    <tr>\n",
       "      <th>27</th>\n",
       "      <td>Asia</td>\n",
       "      <td>Japan</td>\n",
       "    </tr>\n",
       "    <tr>\n",
       "      <th>6</th>\n",
       "      <td>Europe</td>\n",
       "      <td>Germany</td>\n",
       "    </tr>\n",
       "    <tr>\n",
       "      <th>34</th>\n",
       "      <td>Europe</td>\n",
       "      <td>UK</td>\n",
       "    </tr>\n",
       "  </tbody>\n",
       "</table>\n",
       "</div>"
      ],
      "text/plain": [
       "    region  country\n",
       "0     Asia    India\n",
       "1     Asia    China\n",
       "27    Asia    Japan\n",
       "6   Europe  Germany\n",
       "34  Europe       UK"
      ]
     },
     "execution_count": 12,
     "metadata": {},
     "output_type": "execute_result"
    }
   ],
   "source": [
    "# Record of regions and its countries\n",
    "df_customer_region_country = df_customer[['region', 'country']]\n",
    "df_customer_region_country = df_customer_region_country.drop_duplicates(subset='country')\n",
    "df_customer_region_country.sort_values('region', ascending=True, inplace=True)\n",
    "df_customer_region_country.head()"
   ]
  },
  {
   "cell_type": "code",
   "execution_count": 13,
   "metadata": {},
   "outputs": [
    {
     "data": {
      "text/html": [
       "<div>\n",
       "<style scoped>\n",
       "    .dataframe tbody tr th:only-of-type {\n",
       "        vertical-align: middle;\n",
       "    }\n",
       "\n",
       "    .dataframe tbody tr th {\n",
       "        vertical-align: top;\n",
       "    }\n",
       "\n",
       "    .dataframe thead th {\n",
       "        text-align: right;\n",
       "    }\n",
       "</style>\n",
       "<table border=\"1\" class=\"dataframe\">\n",
       "  <thead>\n",
       "    <tr style=\"text-align: right;\">\n",
       "      <th></th>\n",
       "      <th>country</th>\n",
       "      <th>count</th>\n",
       "    </tr>\n",
       "  </thead>\n",
       "  <tbody>\n",
       "    <tr>\n",
       "      <th>0</th>\n",
       "      <td>Australia</td>\n",
       "      <td>107</td>\n",
       "    </tr>\n",
       "    <tr>\n",
       "      <th>1</th>\n",
       "      <td>Brazil</td>\n",
       "      <td>123</td>\n",
       "    </tr>\n",
       "    <tr>\n",
       "      <th>2</th>\n",
       "      <td>Canada</td>\n",
       "      <td>118</td>\n",
       "    </tr>\n",
       "    <tr>\n",
       "      <th>3</th>\n",
       "      <td>China</td>\n",
       "      <td>104</td>\n",
       "    </tr>\n",
       "    <tr>\n",
       "      <th>4</th>\n",
       "      <td>Germany</td>\n",
       "      <td>119</td>\n",
       "    </tr>\n",
       "  </tbody>\n",
       "</table>\n",
       "</div>"
      ],
      "text/plain": [
       "     country  count\n",
       "0  Australia    107\n",
       "1     Brazil    123\n",
       "2     Canada    118\n",
       "3      China    104\n",
       "4    Germany    119"
      ]
     },
     "execution_count": 13,
     "metadata": {},
     "output_type": "execute_result"
    }
   ],
   "source": [
    "# Record of countries and its user number\n",
    "df_customer_country = df_customer.groupby('country')['user_id'].count().reset_index()\n",
    "df_customer_country.columns = 'country', 'count'\n",
    "df_customer_country.head()"
   ]
  },
  {
   "cell_type": "code",
   "execution_count": 14,
   "metadata": {},
   "outputs": [
    {
     "name": "stdout",
     "output_type": "stream",
     "text": [
      "region     object\n",
      "country    object\n",
      "count       int64\n",
      "dtype: object\n"
     ]
    },
    {
     "data": {
      "text/html": [
       "<div>\n",
       "<style scoped>\n",
       "    .dataframe tbody tr th:only-of-type {\n",
       "        vertical-align: middle;\n",
       "    }\n",
       "\n",
       "    .dataframe tbody tr th {\n",
       "        vertical-align: top;\n",
       "    }\n",
       "\n",
       "    .dataframe thead th {\n",
       "        text-align: right;\n",
       "    }\n",
       "</style>\n",
       "<table border=\"1\" class=\"dataframe\">\n",
       "  <thead>\n",
       "    <tr style=\"text-align: right;\">\n",
       "      <th></th>\n",
       "      <th>region</th>\n",
       "      <th>country</th>\n",
       "      <th>count</th>\n",
       "    </tr>\n",
       "  </thead>\n",
       "  <tbody>\n",
       "    <tr>\n",
       "      <th>0</th>\n",
       "      <td>Asia</td>\n",
       "      <td>India</td>\n",
       "      <td>106</td>\n",
       "    </tr>\n",
       "    <tr>\n",
       "      <th>1</th>\n",
       "      <td>Asia</td>\n",
       "      <td>China</td>\n",
       "      <td>104</td>\n",
       "    </tr>\n",
       "    <tr>\n",
       "      <th>2</th>\n",
       "      <td>Asia</td>\n",
       "      <td>Japan</td>\n",
       "      <td>104</td>\n",
       "    </tr>\n",
       "    <tr>\n",
       "      <th>3</th>\n",
       "      <td>Europe</td>\n",
       "      <td>Germany</td>\n",
       "      <td>119</td>\n",
       "    </tr>\n",
       "    <tr>\n",
       "      <th>4</th>\n",
       "      <td>Europe</td>\n",
       "      <td>UK</td>\n",
       "      <td>103</td>\n",
       "    </tr>\n",
       "  </tbody>\n",
       "</table>\n",
       "</div>"
      ],
      "text/plain": [
       "   region  country  count\n",
       "0    Asia    India    106\n",
       "1    Asia    China    104\n",
       "2    Asia    Japan    104\n",
       "3  Europe  Germany    119\n",
       "4  Europe       UK    103"
      ]
     },
     "execution_count": 14,
     "metadata": {},
     "output_type": "execute_result"
    }
   ],
   "source": [
    "df_customer_region_country = pd.merge(df_customer_region_country, df_customer_country)\n",
    "#df_customer_region_country = pd.concat([df_customer_region_country, df_customer_region], ignore_index=True)\n",
    "#df_customer_region_country.sort_values('region', ascending=True, inplace=True)\n",
    "print(df_customer_region_country.dtypes)\n",
    "df_customer_region_country.head()"
   ]
  },
  {
   "cell_type": "code",
   "execution_count": 15,
   "metadata": {},
   "outputs": [],
   "source": [
    "# Creating hierarchical lists of parents, childrens and values of users' regions, countries and numbers for Sunburst chart\n",
    "\n",
    "parent_list = list(df_customer_region_country['region'])\n",
    "children_list = list(df_customer_region_country['country'])\n",
    "value_list = list(df_customer_region_country['count'])\n",
    "\n",
    "region_list = list(df_customer_region['region'])\n",
    "top_parent_list = []\n",
    "for region_number in region_list:\n",
    "    top_parent_list.append('')\n",
    "total_value_by_region = list(df_customer_region['count'])\n",
    "\n",
    "for parent in top_parent_list:\n",
    "    parent_list.append(parent)\n",
    "for children in region_list:\n",
    "    children_list.append(children)\n",
    "for value in total_value_by_region:\n",
    "    value_list.append(value)\n"
   ]
  },
  {
   "cell_type": "code",
   "execution_count": 16,
   "metadata": {},
   "outputs": [],
   "source": [
    "df_platform_log['active_period'] = df_platform_log['active_period'].dt.total_seconds() / 3600\n",
    "df_monday_activeperiod = df_platform_log['active_period'][df_platform_log['day_of_week'] == 0]\n",
    "df_tuesday_activeperiod = df_platform_log['active_period'][df_platform_log['day_of_week'] == 1]\n",
    "df_wednesday_activeperiod = df_platform_log['active_period'][df_platform_log['day_of_week'] == 2]\n",
    "df_thursday_activeperiod = df_platform_log['active_period'][df_platform_log['day_of_week'] == 3]\n",
    "df_friday_activeperiod = df_platform_log['active_period'][df_platform_log['day_of_week'] == 4]\n",
    "df_saturday_activeperiod = df_platform_log['active_period'][df_platform_log['day_of_week'] == 5]\n",
    "df_sunday_activeperiod = df_platform_log['active_period'][df_platform_log['day_of_week'] == 6]"
   ]
  },
  {
   "cell_type": "code",
   "execution_count": 15,
   "metadata": {},
   "outputs": [
    {
     "data": {
      "text/html": [
       "<div>\n",
       "<style scoped>\n",
       "    .dataframe tbody tr th:only-of-type {\n",
       "        vertical-align: middle;\n",
       "    }\n",
       "\n",
       "    .dataframe tbody tr th {\n",
       "        vertical-align: top;\n",
       "    }\n",
       "\n",
       "    .dataframe thead th {\n",
       "        text-align: right;\n",
       "    }\n",
       "</style>\n",
       "<table border=\"1\" class=\"dataframe\">\n",
       "  <thead>\n",
       "    <tr style=\"text-align: right;\">\n",
       "      <th></th>\n",
       "      <th>Day of Week</th>\n",
       "      <th>Average Active Period</th>\n",
       "    </tr>\n",
       "  </thead>\n",
       "  <tbody>\n",
       "    <tr>\n",
       "      <th>0</th>\n",
       "      <td>Monday</td>\n",
       "      <td>1.775427</td>\n",
       "    </tr>\n",
       "    <tr>\n",
       "      <th>1</th>\n",
       "      <td>Tuesday</td>\n",
       "      <td>1.726969</td>\n",
       "    </tr>\n",
       "    <tr>\n",
       "      <th>2</th>\n",
       "      <td>Wednesday</td>\n",
       "      <td>1.712629</td>\n",
       "    </tr>\n",
       "    <tr>\n",
       "      <th>3</th>\n",
       "      <td>Thursday</td>\n",
       "      <td>1.762151</td>\n",
       "    </tr>\n",
       "    <tr>\n",
       "      <th>4</th>\n",
       "      <td>Friday</td>\n",
       "      <td>1.686686</td>\n",
       "    </tr>\n",
       "    <tr>\n",
       "      <th>5</th>\n",
       "      <td>Saturday</td>\n",
       "      <td>1.755165</td>\n",
       "    </tr>\n",
       "    <tr>\n",
       "      <th>6</th>\n",
       "      <td>Sunday</td>\n",
       "      <td>1.741080</td>\n",
       "    </tr>\n",
       "  </tbody>\n",
       "</table>\n",
       "</div>"
      ],
      "text/plain": [
       "  Day of Week  Average Active Period\n",
       "0      Monday               1.775427\n",
       "1     Tuesday               1.726969\n",
       "2   Wednesday               1.712629\n",
       "3    Thursday               1.762151\n",
       "4      Friday               1.686686\n",
       "5    Saturday               1.755165\n",
       "6      Sunday               1.741080"
      ]
     },
     "execution_count": 15,
     "metadata": {},
     "output_type": "execute_result"
    }
   ],
   "source": [
    "df_dayofweek_activeperiod = df_platform_log.groupby('day_of_week')['active_period'].mean().reset_index()\n",
    "df_dayofweek_activeperiod = rename_day_of_week(df_dayofweek_activeperiod)\n",
    "df_dayofweek_activeperiod.columns = 'Day of Week', 'Average Active Period'\n",
    "df_dayofweek_activeperiod['Average Active Period'] = df_dayofweek_activeperiod['Average Active Period'].dt.total_seconds() / 3600\n",
    "df_dayofweek_activeperiod"
   ]
  },
  {
   "cell_type": "code",
   "execution_count": 8,
   "metadata": {},
   "outputs": [
    {
     "data": {
      "text/html": [
       "<div>\n",
       "<style scoped>\n",
       "    .dataframe tbody tr th:only-of-type {\n",
       "        vertical-align: middle;\n",
       "    }\n",
       "\n",
       "    .dataframe tbody tr th {\n",
       "        vertical-align: top;\n",
       "    }\n",
       "\n",
       "    .dataframe thead th {\n",
       "        text-align: right;\n",
       "    }\n",
       "</style>\n",
       "<table border=\"1\" class=\"dataframe\">\n",
       "  <thead>\n",
       "    <tr style=\"text-align: right;\">\n",
       "      <th></th>\n",
       "      <th>Device</th>\n",
       "      <th>Count</th>\n",
       "      <th>Average Active Period</th>\n",
       "    </tr>\n",
       "  </thead>\n",
       "  <tbody>\n",
       "    <tr>\n",
       "      <th>0</th>\n",
       "      <td>Desktop</td>\n",
       "      <td>1433</td>\n",
       "      <td>1.738521</td>\n",
       "    </tr>\n",
       "    <tr>\n",
       "      <th>1</th>\n",
       "      <td>Mobile</td>\n",
       "      <td>1516</td>\n",
       "      <td>1.722977</td>\n",
       "    </tr>\n",
       "    <tr>\n",
       "      <th>2</th>\n",
       "      <td>Tablet</td>\n",
       "      <td>1462</td>\n",
       "      <td>1.754868</td>\n",
       "    </tr>\n",
       "  </tbody>\n",
       "</table>\n",
       "</div>"
      ],
      "text/plain": [
       "    Device  Count  Average Active Period\n",
       "0  Desktop   1433               1.738521\n",
       "1   Mobile   1516               1.722977\n",
       "2   Tablet   1462               1.754868"
      ]
     },
     "execution_count": 8,
     "metadata": {},
     "output_type": "execute_result"
    }
   ],
   "source": [
    "df_device_count = pd.DataFrame(df_platform_log.groupby('device')['date'].count().reset_index())\n",
    "df_device_activeperiod = pd.DataFrame(df_platform_log.groupby('device')['active_period'].mean().reset_index())\n",
    "df_device = pd.merge(df_device_count, df_device_activeperiod)\n",
    "df_device.columns = 'Device', 'Count', 'Average Active Period'\n",
    "df_device['Average Active Period'] = df_device['Average Active Period'].dt.total_seconds() / 3600\n",
    "df_device\n"
   ]
  },
  {
   "cell_type": "code",
   "execution_count": 7,
   "metadata": {},
   "outputs": [
    {
     "data": {
      "text/plain": [
       "Device                            object\n",
       "Count                              int64\n",
       "Average Active Period    timedelta64[ns]\n",
       "dtype: object"
      ]
     },
     "execution_count": 7,
     "metadata": {},
     "output_type": "execute_result"
    }
   ],
   "source": [
    "df_device.dtypes"
   ]
  },
  {
   "cell_type": "code",
   "execution_count": 55,
   "metadata": {},
   "outputs": [],
   "source": [
    "df_desktop = df_platform_log['active_period'][df_platform_log['device'] == 'Desktop']\n",
    "df_mobile = df_platform_log['active_period'][df_platform_log['device'] == 'Mobile']\n",
    "df_tablet = df_platform_log['active_period'][df_platform_log['device'] == 'Tablet']"
   ]
  },
  {
   "cell_type": "code",
   "execution_count": 16,
   "metadata": {},
   "outputs": [],
   "source": [
    "# Charts:\n",
    "\n",
    "# User Demographic --------------------------------------\n",
    "# Total User in Plain Number\n",
    "# User Age Distribution in Histogram/Pie\n",
    "# User Occupation in Bar/Hierarchy/Pie/Wordcloud\n",
    "# User Nationality/Region in Bar/Hierarchy/Waffle/Pie/Choropleth/Wordcloud/Sunburst\n",
    "\n",
    "# Platform Activity -------------------------------------\n",
    "# Hourly Session in Line\n",
    "# Monthly Session in Line\n",
    "# Day of Week Session in Line\n",
    "# Day of Week vs Active Period in Line/Boxplot\n",
    "# Device Used in Bar/Hierarchy/Waffle/Pie/Wordcloud\n",
    "# Device Used vs Active Period in Bar/Boxplot"
   ]
  },
  {
   "cell_type": "code",
   "execution_count": 10,
   "metadata": {},
   "outputs": [],
   "source": [
    "import matplotlib.pyplot as plt\n",
    "import plotly.graph_objects as go\n",
    "%matplotlib inline"
   ]
  },
  {
   "cell_type": "code",
   "execution_count": 11,
   "metadata": {},
   "outputs": [],
   "source": [
    "from plotly.subplots import make_subplots # type: ignore"
   ]
  },
  {
   "cell_type": "code",
   "execution_count": 18,
   "metadata": {},
   "outputs": [
    {
     "data": {
      "text/html": [
       "<div>\n",
       "<style scoped>\n",
       "    .dataframe tbody tr th:only-of-type {\n",
       "        vertical-align: middle;\n",
       "    }\n",
       "\n",
       "    .dataframe tbody tr th {\n",
       "        vertical-align: top;\n",
       "    }\n",
       "\n",
       "    .dataframe thead th {\n",
       "        text-align: right;\n",
       "    }\n",
       "</style>\n",
       "<table border=\"1\" class=\"dataframe\">\n",
       "  <thead>\n",
       "    <tr style=\"text-align: right;\">\n",
       "      <th></th>\n",
       "      <th>user_id</th>\n",
       "      <th>first_name</th>\n",
       "      <th>last_name</th>\n",
       "      <th>email</th>\n",
       "      <th>age</th>\n",
       "      <th>occupation</th>\n",
       "      <th>country</th>\n",
       "      <th>region</th>\n",
       "    </tr>\n",
       "  </thead>\n",
       "  <tbody>\n",
       "    <tr>\n",
       "      <th>0</th>\n",
       "      <td>KcBEKa</td>\n",
       "      <td>Ashley</td>\n",
       "      <td>Patterson</td>\n",
       "      <td>ashley27@example.com</td>\n",
       "      <td>44</td>\n",
       "      <td>Accountant</td>\n",
       "      <td>India</td>\n",
       "      <td>Asia</td>\n",
       "    </tr>\n",
       "    <tr>\n",
       "      <th>1</th>\n",
       "      <td>PZkcHF</td>\n",
       "      <td>Belinda</td>\n",
       "      <td>Harris</td>\n",
       "      <td>belinda42@example.com</td>\n",
       "      <td>19</td>\n",
       "      <td>Engineer</td>\n",
       "      <td>China</td>\n",
       "      <td>Asia</td>\n",
       "    </tr>\n",
       "    <tr>\n",
       "      <th>2</th>\n",
       "      <td>cA3iMw</td>\n",
       "      <td>Lisa</td>\n",
       "      <td>Colon</td>\n",
       "      <td>lisa49@example.com</td>\n",
       "      <td>41</td>\n",
       "      <td>Teacher</td>\n",
       "      <td>India</td>\n",
       "      <td>Asia</td>\n",
       "    </tr>\n",
       "    <tr>\n",
       "      <th>3</th>\n",
       "      <td>DlRtQx</td>\n",
       "      <td>Desiree</td>\n",
       "      <td>Martin</td>\n",
       "      <td>desiree18@example.com</td>\n",
       "      <td>44</td>\n",
       "      <td>Engineer</td>\n",
       "      <td>Australia</td>\n",
       "      <td>Oceania</td>\n",
       "    </tr>\n",
       "    <tr>\n",
       "      <th>4</th>\n",
       "      <td>NycLap</td>\n",
       "      <td>Abigail</td>\n",
       "      <td>Murphy</td>\n",
       "      <td>abigail18@example.com</td>\n",
       "      <td>27</td>\n",
       "      <td>Teacher</td>\n",
       "      <td>Brazil</td>\n",
       "      <td>South America</td>\n",
       "    </tr>\n",
       "  </tbody>\n",
       "</table>\n",
       "</div>"
      ],
      "text/plain": [
       "  user_id first_name  last_name                  email  age  occupation  \\\n",
       "0  KcBEKa     Ashley  Patterson   ashley27@example.com   44  Accountant   \n",
       "1  PZkcHF    Belinda     Harris  belinda42@example.com   19    Engineer   \n",
       "2  cA3iMw       Lisa      Colon     lisa49@example.com   41     Teacher   \n",
       "3  DlRtQx    Desiree     Martin  desiree18@example.com   44    Engineer   \n",
       "4  NycLap    Abigail     Murphy  abigail18@example.com   27     Teacher   \n",
       "\n",
       "     country         region  \n",
       "0      India           Asia  \n",
       "1      China           Asia  \n",
       "2      India           Asia  \n",
       "3  Australia        Oceania  \n",
       "4     Brazil  South America  "
      ]
     },
     "execution_count": 18,
     "metadata": {},
     "output_type": "execute_result"
    }
   ],
   "source": [
    "df_customer.head()"
   ]
  },
  {
   "cell_type": "code",
   "execution_count": 19,
   "metadata": {},
   "outputs": [
    {
     "name": "stdout",
     "output_type": "stream",
     "text": [
      "Total User:  1000\n"
     ]
    }
   ],
   "source": [
    "total_user = df_customer.shape[0]\n",
    "print('Total User: ', total_user)"
   ]
  },
  {
   "cell_type": "code",
   "execution_count": 20,
   "metadata": {},
   "outputs": [
    {
     "data": {
      "application/vnd.plotly.v1+json": {
       "config": {
        "plotlyServerURL": "https://plot.ly"
       },
       "data": [
        {
         "showlegend": false,
         "type": "histogram",
         "x": [
          44,
          19,
          41,
          44,
          27,
          43,
          29,
          19,
          24,
          41,
          32,
          45,
          35,
          30,
          25,
          49,
          17,
          21,
          47,
          36,
          17,
          16,
          33,
          25,
          37,
          44,
          32,
          54,
          20,
          55,
          40,
          52,
          25,
          16,
          33,
          29,
          16,
          51,
          40,
          25,
          37,
          43,
          47,
          55,
          39,
          26,
          53,
          44,
          24,
          42,
          37,
          39,
          40,
          48,
          36,
          28,
          54,
          16,
          19,
          50,
          17,
          19,
          20,
          54,
          47,
          15,
          16,
          44,
          26,
          25,
          50,
          23,
          54,
          45,
          34,
          30,
          39,
          49,
          15,
          30,
          36,
          18,
          41,
          49,
          20,
          16,
          34,
          40,
          38,
          48,
          41,
          47,
          16,
          17,
          45,
          53,
          46,
          35,
          25,
          51,
          46,
          50,
          38,
          18,
          55,
          51,
          26,
          48,
          32,
          51,
          22,
          19,
          18,
          18,
          34,
          19,
          55,
          50,
          42,
          18,
          24,
          19,
          43,
          47,
          46,
          52,
          39,
          31,
          47,
          22,
          53,
          52,
          34,
          45,
          52,
          39,
          51,
          46,
          26,
          53,
          26,
          38,
          50,
          19,
          54,
          15,
          37,
          34,
          29,
          33,
          29,
          39,
          35,
          37,
          24,
          42,
          20,
          18,
          42,
          51,
          31,
          23,
          42,
          51,
          21,
          48,
          41,
          42,
          54,
          28,
          31,
          51,
          37,
          17,
          43,
          21,
          18,
          19,
          25,
          18,
          52,
          38,
          27,
          43,
          41,
          24,
          36,
          36,
          34,
          31,
          52,
          41,
          37,
          47,
          31,
          49,
          19,
          51,
          31,
          38,
          24,
          19,
          38,
          51,
          23,
          44,
          25,
          39,
          41,
          16,
          17,
          40,
          17,
          18,
          44,
          25,
          30,
          37,
          55,
          46,
          39,
          45,
          52,
          37,
          19,
          47,
          49,
          31,
          40,
          16,
          39,
          43,
          48,
          23,
          46,
          19,
          30,
          35,
          19,
          34,
          28,
          36,
          47,
          36,
          41,
          52,
          21,
          38,
          47,
          30,
          27,
          51,
          33,
          42,
          41,
          37,
          54,
          15,
          39,
          32,
          25,
          34,
          53,
          43,
          24,
          20,
          55,
          43,
          51,
          20,
          17,
          37,
          23,
          54,
          20,
          48,
          38,
          21,
          42,
          40,
          39,
          51,
          19,
          50,
          48,
          21,
          35,
          26,
          46,
          48,
          18,
          24,
          44,
          16,
          31,
          44,
          34,
          47,
          44,
          38,
          40,
          44,
          26,
          31,
          23,
          41,
          27,
          26,
          49,
          52,
          28,
          45,
          15,
          46,
          43,
          18,
          15,
          34,
          46,
          40,
          39,
          23,
          19,
          28,
          51,
          38,
          42,
          27,
          49,
          22,
          20,
          53,
          31,
          32,
          15,
          21,
          40,
          18,
          26,
          21,
          42,
          29,
          19,
          26,
          52,
          48,
          47,
          34,
          31,
          52,
          15,
          31,
          19,
          18,
          15,
          33,
          26,
          23,
          20,
          36,
          32,
          29,
          25,
          32,
          36,
          46,
          38,
          37,
          38,
          34,
          45,
          35,
          31,
          20,
          24,
          46,
          23,
          49,
          42,
          36,
          51,
          42,
          44,
          35,
          46,
          21,
          39,
          24,
          27,
          53,
          33,
          27,
          53,
          46,
          46,
          54,
          16,
          17,
          51,
          34,
          38,
          46,
          34,
          32,
          48,
          41,
          28,
          46,
          31,
          35,
          42,
          25,
          49,
          49,
          21,
          54,
          36,
          31,
          20,
          45,
          42,
          41,
          38,
          17,
          44,
          16,
          28,
          33,
          55,
          35,
          33,
          39,
          40,
          55,
          48,
          32,
          39,
          42,
          42,
          17,
          15,
          55,
          21,
          28,
          23,
          26,
          33,
          24,
          23,
          20,
          48,
          49,
          40,
          35,
          49,
          15,
          32,
          48,
          15,
          29,
          48,
          45,
          44,
          44,
          18,
          22,
          32,
          31,
          34,
          35,
          19,
          20,
          38,
          38,
          43,
          20,
          33,
          38,
          19,
          37,
          17,
          27,
          34,
          27,
          52,
          50,
          31,
          40,
          39,
          37,
          55,
          23,
          21,
          53,
          30,
          42,
          47,
          27,
          36,
          24,
          22,
          48,
          22,
          34,
          17,
          32,
          42,
          41,
          18,
          16,
          47,
          45,
          51,
          23,
          45,
          38,
          39,
          37,
          54,
          22,
          51,
          34,
          26,
          30,
          32,
          43,
          44,
          54,
          27,
          37,
          24,
          49,
          37,
          23,
          33,
          24,
          24,
          28,
          15,
          20,
          40,
          28,
          31,
          32,
          49,
          33,
          32,
          28,
          47,
          29,
          48,
          50,
          47,
          47,
          20,
          43,
          40,
          35,
          32,
          42,
          23,
          44,
          41,
          18,
          31,
          34,
          17,
          37,
          22,
          23,
          21,
          17,
          33,
          24,
          43,
          33,
          47,
          24,
          31,
          22,
          51,
          47,
          51,
          34,
          22,
          18,
          19,
          52,
          37,
          26,
          32,
          37,
          30,
          41,
          15,
          35,
          34,
          29,
          51,
          52,
          17,
          52,
          32,
          25,
          38,
          42,
          33,
          16,
          31,
          43,
          26,
          51,
          36,
          22,
          32,
          18,
          30,
          31,
          24,
          18,
          51,
          17,
          53,
          26,
          38,
          27,
          39,
          40,
          32,
          54,
          20,
          45,
          25,
          25,
          31,
          51,
          31,
          53,
          47,
          43,
          22,
          18,
          29,
          33,
          44,
          39,
          23,
          18,
          47,
          37,
          26,
          41,
          34,
          36,
          38,
          51,
          37,
          45,
          41,
          27,
          39,
          44,
          47,
          15,
          25,
          35,
          16,
          47,
          29,
          51,
          50,
          21,
          16,
          16,
          43,
          23,
          50,
          31,
          15,
          50,
          37,
          34,
          41,
          15,
          31,
          37,
          52,
          48,
          48,
          52,
          15,
          34,
          50,
          48,
          47,
          31,
          17,
          37,
          18,
          26,
          30,
          42,
          22,
          34,
          29,
          52,
          38,
          22,
          52,
          16,
          19,
          47,
          39,
          48,
          43,
          31,
          25,
          28,
          35,
          42,
          48,
          19,
          51,
          20,
          27,
          24,
          43,
          16,
          24,
          49,
          22,
          21,
          48,
          46,
          21,
          41,
          38,
          41,
          41,
          30,
          48,
          22,
          34,
          17,
          24,
          40,
          54,
          42,
          25,
          46,
          22,
          40,
          19,
          17,
          25,
          52,
          49,
          42,
          37,
          31,
          48,
          52,
          27,
          45,
          49,
          37,
          24,
          49,
          53,
          22,
          25,
          41,
          50,
          31,
          50,
          23,
          37,
          39,
          28,
          37,
          36,
          40,
          50,
          22,
          38,
          31,
          38,
          27,
          38,
          30,
          48,
          46,
          42,
          40,
          39,
          31,
          31,
          44,
          31,
          39,
          52,
          45,
          44,
          19,
          32,
          24,
          38,
          36,
          49,
          42,
          23,
          49,
          52,
          26,
          48,
          23,
          34,
          20,
          51,
          37,
          28,
          43,
          55,
          42,
          35,
          18,
          52,
          47,
          37,
          22,
          34,
          49,
          49,
          25,
          17,
          45,
          30,
          15,
          20,
          45,
          15,
          53,
          15,
          20,
          29,
          15,
          31,
          42,
          48,
          31,
          36,
          55,
          33,
          23,
          19,
          53,
          46,
          32,
          49,
          17,
          35,
          52,
          43,
          24,
          54,
          35,
          29,
          43,
          38,
          31,
          18,
          27,
          22,
          53,
          26,
          51,
          37,
          26,
          53,
          17,
          21,
          16,
          42,
          29,
          21,
          34,
          46,
          40,
          24,
          39,
          37,
          51,
          43,
          27,
          35,
          51,
          43,
          43,
          18,
          26,
          29,
          21,
          41,
          18,
          17,
          43,
          48,
          34,
          25,
          28,
          17,
          32,
          18,
          44,
          35,
          54,
          15,
          36,
          23,
          50,
          20,
          51,
          22,
          40,
          54,
          34,
          15,
          31,
          19,
          36,
          16,
          30,
          18,
          17,
          35,
          34,
          39,
          23,
          27,
          31,
          33,
          31,
          32,
          50,
          19,
          15,
          22,
          44,
          15,
          20,
          40,
          44,
          37,
          32,
          29,
          15,
          44,
          42,
          27,
          25,
          25,
          23,
          31,
          55,
          41,
          30,
          45,
          24,
          28,
          42,
          17,
          34,
          34,
          29,
          42,
          35,
          23,
          30,
          46,
          35,
          33,
          35,
          39,
          42,
          16,
          52,
          33,
          30,
          47,
          19,
          24,
          42,
          38,
          22,
          38,
          26,
          45,
          38,
          48,
          21
         ],
         "xbins": {
          "end": 55,
          "size": 4,
          "start": 15
         }
        }
       ],
       "layout": {
        "template": {
         "data": {
          "bar": [
           {
            "error_x": {
             "color": "#2a3f5f"
            },
            "error_y": {
             "color": "#2a3f5f"
            },
            "marker": {
             "line": {
              "color": "#E5ECF6",
              "width": 0.5
             },
             "pattern": {
              "fillmode": "overlay",
              "size": 10,
              "solidity": 0.2
             }
            },
            "type": "bar"
           }
          ],
          "barpolar": [
           {
            "marker": {
             "line": {
              "color": "#E5ECF6",
              "width": 0.5
             },
             "pattern": {
              "fillmode": "overlay",
              "size": 10,
              "solidity": 0.2
             }
            },
            "type": "barpolar"
           }
          ],
          "carpet": [
           {
            "aaxis": {
             "endlinecolor": "#2a3f5f",
             "gridcolor": "white",
             "linecolor": "white",
             "minorgridcolor": "white",
             "startlinecolor": "#2a3f5f"
            },
            "baxis": {
             "endlinecolor": "#2a3f5f",
             "gridcolor": "white",
             "linecolor": "white",
             "minorgridcolor": "white",
             "startlinecolor": "#2a3f5f"
            },
            "type": "carpet"
           }
          ],
          "choropleth": [
           {
            "colorbar": {
             "outlinewidth": 0,
             "ticks": ""
            },
            "type": "choropleth"
           }
          ],
          "contour": [
           {
            "colorbar": {
             "outlinewidth": 0,
             "ticks": ""
            },
            "colorscale": [
             [
              0,
              "#0d0887"
             ],
             [
              0.1111111111111111,
              "#46039f"
             ],
             [
              0.2222222222222222,
              "#7201a8"
             ],
             [
              0.3333333333333333,
              "#9c179e"
             ],
             [
              0.4444444444444444,
              "#bd3786"
             ],
             [
              0.5555555555555556,
              "#d8576b"
             ],
             [
              0.6666666666666666,
              "#ed7953"
             ],
             [
              0.7777777777777778,
              "#fb9f3a"
             ],
             [
              0.8888888888888888,
              "#fdca26"
             ],
             [
              1,
              "#f0f921"
             ]
            ],
            "type": "contour"
           }
          ],
          "contourcarpet": [
           {
            "colorbar": {
             "outlinewidth": 0,
             "ticks": ""
            },
            "type": "contourcarpet"
           }
          ],
          "heatmap": [
           {
            "colorbar": {
             "outlinewidth": 0,
             "ticks": ""
            },
            "colorscale": [
             [
              0,
              "#0d0887"
             ],
             [
              0.1111111111111111,
              "#46039f"
             ],
             [
              0.2222222222222222,
              "#7201a8"
             ],
             [
              0.3333333333333333,
              "#9c179e"
             ],
             [
              0.4444444444444444,
              "#bd3786"
             ],
             [
              0.5555555555555556,
              "#d8576b"
             ],
             [
              0.6666666666666666,
              "#ed7953"
             ],
             [
              0.7777777777777778,
              "#fb9f3a"
             ],
             [
              0.8888888888888888,
              "#fdca26"
             ],
             [
              1,
              "#f0f921"
             ]
            ],
            "type": "heatmap"
           }
          ],
          "heatmapgl": [
           {
            "colorbar": {
             "outlinewidth": 0,
             "ticks": ""
            },
            "colorscale": [
             [
              0,
              "#0d0887"
             ],
             [
              0.1111111111111111,
              "#46039f"
             ],
             [
              0.2222222222222222,
              "#7201a8"
             ],
             [
              0.3333333333333333,
              "#9c179e"
             ],
             [
              0.4444444444444444,
              "#bd3786"
             ],
             [
              0.5555555555555556,
              "#d8576b"
             ],
             [
              0.6666666666666666,
              "#ed7953"
             ],
             [
              0.7777777777777778,
              "#fb9f3a"
             ],
             [
              0.8888888888888888,
              "#fdca26"
             ],
             [
              1,
              "#f0f921"
             ]
            ],
            "type": "heatmapgl"
           }
          ],
          "histogram": [
           {
            "marker": {
             "pattern": {
              "fillmode": "overlay",
              "size": 10,
              "solidity": 0.2
             }
            },
            "type": "histogram"
           }
          ],
          "histogram2d": [
           {
            "colorbar": {
             "outlinewidth": 0,
             "ticks": ""
            },
            "colorscale": [
             [
              0,
              "#0d0887"
             ],
             [
              0.1111111111111111,
              "#46039f"
             ],
             [
              0.2222222222222222,
              "#7201a8"
             ],
             [
              0.3333333333333333,
              "#9c179e"
             ],
             [
              0.4444444444444444,
              "#bd3786"
             ],
             [
              0.5555555555555556,
              "#d8576b"
             ],
             [
              0.6666666666666666,
              "#ed7953"
             ],
             [
              0.7777777777777778,
              "#fb9f3a"
             ],
             [
              0.8888888888888888,
              "#fdca26"
             ],
             [
              1,
              "#f0f921"
             ]
            ],
            "type": "histogram2d"
           }
          ],
          "histogram2dcontour": [
           {
            "colorbar": {
             "outlinewidth": 0,
             "ticks": ""
            },
            "colorscale": [
             [
              0,
              "#0d0887"
             ],
             [
              0.1111111111111111,
              "#46039f"
             ],
             [
              0.2222222222222222,
              "#7201a8"
             ],
             [
              0.3333333333333333,
              "#9c179e"
             ],
             [
              0.4444444444444444,
              "#bd3786"
             ],
             [
              0.5555555555555556,
              "#d8576b"
             ],
             [
              0.6666666666666666,
              "#ed7953"
             ],
             [
              0.7777777777777778,
              "#fb9f3a"
             ],
             [
              0.8888888888888888,
              "#fdca26"
             ],
             [
              1,
              "#f0f921"
             ]
            ],
            "type": "histogram2dcontour"
           }
          ],
          "mesh3d": [
           {
            "colorbar": {
             "outlinewidth": 0,
             "ticks": ""
            },
            "type": "mesh3d"
           }
          ],
          "parcoords": [
           {
            "line": {
             "colorbar": {
              "outlinewidth": 0,
              "ticks": ""
             }
            },
            "type": "parcoords"
           }
          ],
          "pie": [
           {
            "automargin": true,
            "type": "pie"
           }
          ],
          "scatter": [
           {
            "fillpattern": {
             "fillmode": "overlay",
             "size": 10,
             "solidity": 0.2
            },
            "type": "scatter"
           }
          ],
          "scatter3d": [
           {
            "line": {
             "colorbar": {
              "outlinewidth": 0,
              "ticks": ""
             }
            },
            "marker": {
             "colorbar": {
              "outlinewidth": 0,
              "ticks": ""
             }
            },
            "type": "scatter3d"
           }
          ],
          "scattercarpet": [
           {
            "marker": {
             "colorbar": {
              "outlinewidth": 0,
              "ticks": ""
             }
            },
            "type": "scattercarpet"
           }
          ],
          "scattergeo": [
           {
            "marker": {
             "colorbar": {
              "outlinewidth": 0,
              "ticks": ""
             }
            },
            "type": "scattergeo"
           }
          ],
          "scattergl": [
           {
            "marker": {
             "colorbar": {
              "outlinewidth": 0,
              "ticks": ""
             }
            },
            "type": "scattergl"
           }
          ],
          "scattermapbox": [
           {
            "marker": {
             "colorbar": {
              "outlinewidth": 0,
              "ticks": ""
             }
            },
            "type": "scattermapbox"
           }
          ],
          "scatterpolar": [
           {
            "marker": {
             "colorbar": {
              "outlinewidth": 0,
              "ticks": ""
             }
            },
            "type": "scatterpolar"
           }
          ],
          "scatterpolargl": [
           {
            "marker": {
             "colorbar": {
              "outlinewidth": 0,
              "ticks": ""
             }
            },
            "type": "scatterpolargl"
           }
          ],
          "scatterternary": [
           {
            "marker": {
             "colorbar": {
              "outlinewidth": 0,
              "ticks": ""
             }
            },
            "type": "scatterternary"
           }
          ],
          "surface": [
           {
            "colorbar": {
             "outlinewidth": 0,
             "ticks": ""
            },
            "colorscale": [
             [
              0,
              "#0d0887"
             ],
             [
              0.1111111111111111,
              "#46039f"
             ],
             [
              0.2222222222222222,
              "#7201a8"
             ],
             [
              0.3333333333333333,
              "#9c179e"
             ],
             [
              0.4444444444444444,
              "#bd3786"
             ],
             [
              0.5555555555555556,
              "#d8576b"
             ],
             [
              0.6666666666666666,
              "#ed7953"
             ],
             [
              0.7777777777777778,
              "#fb9f3a"
             ],
             [
              0.8888888888888888,
              "#fdca26"
             ],
             [
              1,
              "#f0f921"
             ]
            ],
            "type": "surface"
           }
          ],
          "table": [
           {
            "cells": {
             "fill": {
              "color": "#EBF0F8"
             },
             "line": {
              "color": "white"
             }
            },
            "header": {
             "fill": {
              "color": "#C8D4E3"
             },
             "line": {
              "color": "white"
             }
            },
            "type": "table"
           }
          ]
         },
         "layout": {
          "annotationdefaults": {
           "arrowcolor": "#2a3f5f",
           "arrowhead": 0,
           "arrowwidth": 1
          },
          "autotypenumbers": "strict",
          "coloraxis": {
           "colorbar": {
            "outlinewidth": 0,
            "ticks": ""
           }
          },
          "colorscale": {
           "diverging": [
            [
             0,
             "#8e0152"
            ],
            [
             0.1,
             "#c51b7d"
            ],
            [
             0.2,
             "#de77ae"
            ],
            [
             0.3,
             "#f1b6da"
            ],
            [
             0.4,
             "#fde0ef"
            ],
            [
             0.5,
             "#f7f7f7"
            ],
            [
             0.6,
             "#e6f5d0"
            ],
            [
             0.7,
             "#b8e186"
            ],
            [
             0.8,
             "#7fbc41"
            ],
            [
             0.9,
             "#4d9221"
            ],
            [
             1,
             "#276419"
            ]
           ],
           "sequential": [
            [
             0,
             "#0d0887"
            ],
            [
             0.1111111111111111,
             "#46039f"
            ],
            [
             0.2222222222222222,
             "#7201a8"
            ],
            [
             0.3333333333333333,
             "#9c179e"
            ],
            [
             0.4444444444444444,
             "#bd3786"
            ],
            [
             0.5555555555555556,
             "#d8576b"
            ],
            [
             0.6666666666666666,
             "#ed7953"
            ],
            [
             0.7777777777777778,
             "#fb9f3a"
            ],
            [
             0.8888888888888888,
             "#fdca26"
            ],
            [
             1,
             "#f0f921"
            ]
           ],
           "sequentialminus": [
            [
             0,
             "#0d0887"
            ],
            [
             0.1111111111111111,
             "#46039f"
            ],
            [
             0.2222222222222222,
             "#7201a8"
            ],
            [
             0.3333333333333333,
             "#9c179e"
            ],
            [
             0.4444444444444444,
             "#bd3786"
            ],
            [
             0.5555555555555556,
             "#d8576b"
            ],
            [
             0.6666666666666666,
             "#ed7953"
            ],
            [
             0.7777777777777778,
             "#fb9f3a"
            ],
            [
             0.8888888888888888,
             "#fdca26"
            ],
            [
             1,
             "#f0f921"
            ]
           ]
          },
          "colorway": [
           "#636efa",
           "#EF553B",
           "#00cc96",
           "#ab63fa",
           "#FFA15A",
           "#19d3f3",
           "#FF6692",
           "#B6E880",
           "#FF97FF",
           "#FECB52"
          ],
          "font": {
           "color": "#2a3f5f"
          },
          "geo": {
           "bgcolor": "white",
           "lakecolor": "white",
           "landcolor": "#E5ECF6",
           "showlakes": true,
           "showland": true,
           "subunitcolor": "white"
          },
          "hoverlabel": {
           "align": "left"
          },
          "hovermode": "closest",
          "mapbox": {
           "style": "light"
          },
          "paper_bgcolor": "white",
          "plot_bgcolor": "#E5ECF6",
          "polar": {
           "angularaxis": {
            "gridcolor": "white",
            "linecolor": "white",
            "ticks": ""
           },
           "bgcolor": "#E5ECF6",
           "radialaxis": {
            "gridcolor": "white",
            "linecolor": "white",
            "ticks": ""
           }
          },
          "scene": {
           "xaxis": {
            "backgroundcolor": "#E5ECF6",
            "gridcolor": "white",
            "gridwidth": 2,
            "linecolor": "white",
            "showbackground": true,
            "ticks": "",
            "zerolinecolor": "white"
           },
           "yaxis": {
            "backgroundcolor": "#E5ECF6",
            "gridcolor": "white",
            "gridwidth": 2,
            "linecolor": "white",
            "showbackground": true,
            "ticks": "",
            "zerolinecolor": "white"
           },
           "zaxis": {
            "backgroundcolor": "#E5ECF6",
            "gridcolor": "white",
            "gridwidth": 2,
            "linecolor": "white",
            "showbackground": true,
            "ticks": "",
            "zerolinecolor": "white"
           }
          },
          "shapedefaults": {
           "line": {
            "color": "#2a3f5f"
           }
          },
          "ternary": {
           "aaxis": {
            "gridcolor": "white",
            "linecolor": "white",
            "ticks": ""
           },
           "baxis": {
            "gridcolor": "white",
            "linecolor": "white",
            "ticks": ""
           },
           "bgcolor": "#E5ECF6",
           "caxis": {
            "gridcolor": "white",
            "linecolor": "white",
            "ticks": ""
           }
          },
          "title": {
           "x": 0.05
          },
          "xaxis": {
           "automargin": true,
           "gridcolor": "white",
           "linecolor": "white",
           "ticks": "",
           "title": {
            "standoff": 15
           },
           "zerolinecolor": "white",
           "zerolinewidth": 2
          },
          "yaxis": {
           "automargin": true,
           "gridcolor": "white",
           "linecolor": "white",
           "ticks": "",
           "title": {
            "standoff": 15
           },
           "zerolinecolor": "white",
           "zerolinewidth": 2
          }
         }
        },
        "title": {
         "text": "<b>Online Learning Platform User Age Distribution</b>"
        },
        "xaxis": {
         "dtick": 4,
         "tick0": 15,
         "tickmode": "linear",
         "title": {
          "text": "Age"
         }
        },
        "yaxis": {
         "title": {
          "text": "Count"
         }
        }
       }
      }
     },
     "metadata": {},
     "output_type": "display_data"
    }
   ],
   "source": [
    "fig1 = go.Figure()\n",
    "count, bin_edges = np.histogram(df_customer['age'])\n",
    "fig1.add_trace(go.Histogram(x=df_customer['age'],\n",
    "                            xbins=dict(start=15, end=55, size=4),\n",
    "                            showlegend=False))\n",
    "fig1.update_layout(title_text='<b>Online Learning Platform User Age Distribution</b>',\n",
    "                   xaxis=dict(tickmode = 'linear',\n",
    "                            tick0 = 15,\n",
    "                            dtick = 4))\n",
    "fig1.update_xaxes(title_text='Age')\n",
    "fig1.update_yaxes(title_text='Count')\n",
    "fig1.show()"
   ]
  },
  {
   "cell_type": "code",
   "execution_count": 21,
   "metadata": {},
   "outputs": [
    {
     "data": {
      "application/vnd.plotly.v1+json": {
       "config": {
        "plotlyServerURL": "https://plot.ly"
       },
       "data": [
        {
         "hole": 0.6,
         "labels": [
          "Accountant",
          "Consultant",
          "Engineer",
          "Manager",
          "Software Developer",
          "Student",
          "Teacher"
         ],
         "pull": [
          0.05,
          0,
          0,
          0,
          0,
          0,
          0.05
         ],
         "showlegend": false,
         "textinfo": "label",
         "textposition": "outside",
         "type": "pie",
         "values": [
          167,
          126,
          145,
          147,
          124,
          127,
          164
         ]
        }
       ],
       "layout": {
        "template": {
         "data": {
          "bar": [
           {
            "error_x": {
             "color": "#2a3f5f"
            },
            "error_y": {
             "color": "#2a3f5f"
            },
            "marker": {
             "line": {
              "color": "#E5ECF6",
              "width": 0.5
             },
             "pattern": {
              "fillmode": "overlay",
              "size": 10,
              "solidity": 0.2
             }
            },
            "type": "bar"
           }
          ],
          "barpolar": [
           {
            "marker": {
             "line": {
              "color": "#E5ECF6",
              "width": 0.5
             },
             "pattern": {
              "fillmode": "overlay",
              "size": 10,
              "solidity": 0.2
             }
            },
            "type": "barpolar"
           }
          ],
          "carpet": [
           {
            "aaxis": {
             "endlinecolor": "#2a3f5f",
             "gridcolor": "white",
             "linecolor": "white",
             "minorgridcolor": "white",
             "startlinecolor": "#2a3f5f"
            },
            "baxis": {
             "endlinecolor": "#2a3f5f",
             "gridcolor": "white",
             "linecolor": "white",
             "minorgridcolor": "white",
             "startlinecolor": "#2a3f5f"
            },
            "type": "carpet"
           }
          ],
          "choropleth": [
           {
            "colorbar": {
             "outlinewidth": 0,
             "ticks": ""
            },
            "type": "choropleth"
           }
          ],
          "contour": [
           {
            "colorbar": {
             "outlinewidth": 0,
             "ticks": ""
            },
            "colorscale": [
             [
              0,
              "#0d0887"
             ],
             [
              0.1111111111111111,
              "#46039f"
             ],
             [
              0.2222222222222222,
              "#7201a8"
             ],
             [
              0.3333333333333333,
              "#9c179e"
             ],
             [
              0.4444444444444444,
              "#bd3786"
             ],
             [
              0.5555555555555556,
              "#d8576b"
             ],
             [
              0.6666666666666666,
              "#ed7953"
             ],
             [
              0.7777777777777778,
              "#fb9f3a"
             ],
             [
              0.8888888888888888,
              "#fdca26"
             ],
             [
              1,
              "#f0f921"
             ]
            ],
            "type": "contour"
           }
          ],
          "contourcarpet": [
           {
            "colorbar": {
             "outlinewidth": 0,
             "ticks": ""
            },
            "type": "contourcarpet"
           }
          ],
          "heatmap": [
           {
            "colorbar": {
             "outlinewidth": 0,
             "ticks": ""
            },
            "colorscale": [
             [
              0,
              "#0d0887"
             ],
             [
              0.1111111111111111,
              "#46039f"
             ],
             [
              0.2222222222222222,
              "#7201a8"
             ],
             [
              0.3333333333333333,
              "#9c179e"
             ],
             [
              0.4444444444444444,
              "#bd3786"
             ],
             [
              0.5555555555555556,
              "#d8576b"
             ],
             [
              0.6666666666666666,
              "#ed7953"
             ],
             [
              0.7777777777777778,
              "#fb9f3a"
             ],
             [
              0.8888888888888888,
              "#fdca26"
             ],
             [
              1,
              "#f0f921"
             ]
            ],
            "type": "heatmap"
           }
          ],
          "heatmapgl": [
           {
            "colorbar": {
             "outlinewidth": 0,
             "ticks": ""
            },
            "colorscale": [
             [
              0,
              "#0d0887"
             ],
             [
              0.1111111111111111,
              "#46039f"
             ],
             [
              0.2222222222222222,
              "#7201a8"
             ],
             [
              0.3333333333333333,
              "#9c179e"
             ],
             [
              0.4444444444444444,
              "#bd3786"
             ],
             [
              0.5555555555555556,
              "#d8576b"
             ],
             [
              0.6666666666666666,
              "#ed7953"
             ],
             [
              0.7777777777777778,
              "#fb9f3a"
             ],
             [
              0.8888888888888888,
              "#fdca26"
             ],
             [
              1,
              "#f0f921"
             ]
            ],
            "type": "heatmapgl"
           }
          ],
          "histogram": [
           {
            "marker": {
             "pattern": {
              "fillmode": "overlay",
              "size": 10,
              "solidity": 0.2
             }
            },
            "type": "histogram"
           }
          ],
          "histogram2d": [
           {
            "colorbar": {
             "outlinewidth": 0,
             "ticks": ""
            },
            "colorscale": [
             [
              0,
              "#0d0887"
             ],
             [
              0.1111111111111111,
              "#46039f"
             ],
             [
              0.2222222222222222,
              "#7201a8"
             ],
             [
              0.3333333333333333,
              "#9c179e"
             ],
             [
              0.4444444444444444,
              "#bd3786"
             ],
             [
              0.5555555555555556,
              "#d8576b"
             ],
             [
              0.6666666666666666,
              "#ed7953"
             ],
             [
              0.7777777777777778,
              "#fb9f3a"
             ],
             [
              0.8888888888888888,
              "#fdca26"
             ],
             [
              1,
              "#f0f921"
             ]
            ],
            "type": "histogram2d"
           }
          ],
          "histogram2dcontour": [
           {
            "colorbar": {
             "outlinewidth": 0,
             "ticks": ""
            },
            "colorscale": [
             [
              0,
              "#0d0887"
             ],
             [
              0.1111111111111111,
              "#46039f"
             ],
             [
              0.2222222222222222,
              "#7201a8"
             ],
             [
              0.3333333333333333,
              "#9c179e"
             ],
             [
              0.4444444444444444,
              "#bd3786"
             ],
             [
              0.5555555555555556,
              "#d8576b"
             ],
             [
              0.6666666666666666,
              "#ed7953"
             ],
             [
              0.7777777777777778,
              "#fb9f3a"
             ],
             [
              0.8888888888888888,
              "#fdca26"
             ],
             [
              1,
              "#f0f921"
             ]
            ],
            "type": "histogram2dcontour"
           }
          ],
          "mesh3d": [
           {
            "colorbar": {
             "outlinewidth": 0,
             "ticks": ""
            },
            "type": "mesh3d"
           }
          ],
          "parcoords": [
           {
            "line": {
             "colorbar": {
              "outlinewidth": 0,
              "ticks": ""
             }
            },
            "type": "parcoords"
           }
          ],
          "pie": [
           {
            "automargin": true,
            "type": "pie"
           }
          ],
          "scatter": [
           {
            "fillpattern": {
             "fillmode": "overlay",
             "size": 10,
             "solidity": 0.2
            },
            "type": "scatter"
           }
          ],
          "scatter3d": [
           {
            "line": {
             "colorbar": {
              "outlinewidth": 0,
              "ticks": ""
             }
            },
            "marker": {
             "colorbar": {
              "outlinewidth": 0,
              "ticks": ""
             }
            },
            "type": "scatter3d"
           }
          ],
          "scattercarpet": [
           {
            "marker": {
             "colorbar": {
              "outlinewidth": 0,
              "ticks": ""
             }
            },
            "type": "scattercarpet"
           }
          ],
          "scattergeo": [
           {
            "marker": {
             "colorbar": {
              "outlinewidth": 0,
              "ticks": ""
             }
            },
            "type": "scattergeo"
           }
          ],
          "scattergl": [
           {
            "marker": {
             "colorbar": {
              "outlinewidth": 0,
              "ticks": ""
             }
            },
            "type": "scattergl"
           }
          ],
          "scattermapbox": [
           {
            "marker": {
             "colorbar": {
              "outlinewidth": 0,
              "ticks": ""
             }
            },
            "type": "scattermapbox"
           }
          ],
          "scatterpolar": [
           {
            "marker": {
             "colorbar": {
              "outlinewidth": 0,
              "ticks": ""
             }
            },
            "type": "scatterpolar"
           }
          ],
          "scatterpolargl": [
           {
            "marker": {
             "colorbar": {
              "outlinewidth": 0,
              "ticks": ""
             }
            },
            "type": "scatterpolargl"
           }
          ],
          "scatterternary": [
           {
            "marker": {
             "colorbar": {
              "outlinewidth": 0,
              "ticks": ""
             }
            },
            "type": "scatterternary"
           }
          ],
          "surface": [
           {
            "colorbar": {
             "outlinewidth": 0,
             "ticks": ""
            },
            "colorscale": [
             [
              0,
              "#0d0887"
             ],
             [
              0.1111111111111111,
              "#46039f"
             ],
             [
              0.2222222222222222,
              "#7201a8"
             ],
             [
              0.3333333333333333,
              "#9c179e"
             ],
             [
              0.4444444444444444,
              "#bd3786"
             ],
             [
              0.5555555555555556,
              "#d8576b"
             ],
             [
              0.6666666666666666,
              "#ed7953"
             ],
             [
              0.7777777777777778,
              "#fb9f3a"
             ],
             [
              0.8888888888888888,
              "#fdca26"
             ],
             [
              1,
              "#f0f921"
             ]
            ],
            "type": "surface"
           }
          ],
          "table": [
           {
            "cells": {
             "fill": {
              "color": "#EBF0F8"
             },
             "line": {
              "color": "white"
             }
            },
            "header": {
             "fill": {
              "color": "#C8D4E3"
             },
             "line": {
              "color": "white"
             }
            },
            "type": "table"
           }
          ]
         },
         "layout": {
          "annotationdefaults": {
           "arrowcolor": "#2a3f5f",
           "arrowhead": 0,
           "arrowwidth": 1
          },
          "autotypenumbers": "strict",
          "coloraxis": {
           "colorbar": {
            "outlinewidth": 0,
            "ticks": ""
           }
          },
          "colorscale": {
           "diverging": [
            [
             0,
             "#8e0152"
            ],
            [
             0.1,
             "#c51b7d"
            ],
            [
             0.2,
             "#de77ae"
            ],
            [
             0.3,
             "#f1b6da"
            ],
            [
             0.4,
             "#fde0ef"
            ],
            [
             0.5,
             "#f7f7f7"
            ],
            [
             0.6,
             "#e6f5d0"
            ],
            [
             0.7,
             "#b8e186"
            ],
            [
             0.8,
             "#7fbc41"
            ],
            [
             0.9,
             "#4d9221"
            ],
            [
             1,
             "#276419"
            ]
           ],
           "sequential": [
            [
             0,
             "#0d0887"
            ],
            [
             0.1111111111111111,
             "#46039f"
            ],
            [
             0.2222222222222222,
             "#7201a8"
            ],
            [
             0.3333333333333333,
             "#9c179e"
            ],
            [
             0.4444444444444444,
             "#bd3786"
            ],
            [
             0.5555555555555556,
             "#d8576b"
            ],
            [
             0.6666666666666666,
             "#ed7953"
            ],
            [
             0.7777777777777778,
             "#fb9f3a"
            ],
            [
             0.8888888888888888,
             "#fdca26"
            ],
            [
             1,
             "#f0f921"
            ]
           ],
           "sequentialminus": [
            [
             0,
             "#0d0887"
            ],
            [
             0.1111111111111111,
             "#46039f"
            ],
            [
             0.2222222222222222,
             "#7201a8"
            ],
            [
             0.3333333333333333,
             "#9c179e"
            ],
            [
             0.4444444444444444,
             "#bd3786"
            ],
            [
             0.5555555555555556,
             "#d8576b"
            ],
            [
             0.6666666666666666,
             "#ed7953"
            ],
            [
             0.7777777777777778,
             "#fb9f3a"
            ],
            [
             0.8888888888888888,
             "#fdca26"
            ],
            [
             1,
             "#f0f921"
            ]
           ]
          },
          "colorway": [
           "#636efa",
           "#EF553B",
           "#00cc96",
           "#ab63fa",
           "#FFA15A",
           "#19d3f3",
           "#FF6692",
           "#B6E880",
           "#FF97FF",
           "#FECB52"
          ],
          "font": {
           "color": "#2a3f5f"
          },
          "geo": {
           "bgcolor": "white",
           "lakecolor": "white",
           "landcolor": "#E5ECF6",
           "showlakes": true,
           "showland": true,
           "subunitcolor": "white"
          },
          "hoverlabel": {
           "align": "left"
          },
          "hovermode": "closest",
          "mapbox": {
           "style": "light"
          },
          "paper_bgcolor": "white",
          "plot_bgcolor": "#E5ECF6",
          "polar": {
           "angularaxis": {
            "gridcolor": "white",
            "linecolor": "white",
            "ticks": ""
           },
           "bgcolor": "#E5ECF6",
           "radialaxis": {
            "gridcolor": "white",
            "linecolor": "white",
            "ticks": ""
           }
          },
          "scene": {
           "xaxis": {
            "backgroundcolor": "#E5ECF6",
            "gridcolor": "white",
            "gridwidth": 2,
            "linecolor": "white",
            "showbackground": true,
            "ticks": "",
            "zerolinecolor": "white"
           },
           "yaxis": {
            "backgroundcolor": "#E5ECF6",
            "gridcolor": "white",
            "gridwidth": 2,
            "linecolor": "white",
            "showbackground": true,
            "ticks": "",
            "zerolinecolor": "white"
           },
           "zaxis": {
            "backgroundcolor": "#E5ECF6",
            "gridcolor": "white",
            "gridwidth": 2,
            "linecolor": "white",
            "showbackground": true,
            "ticks": "",
            "zerolinecolor": "white"
           }
          },
          "shapedefaults": {
           "line": {
            "color": "#2a3f5f"
           }
          },
          "ternary": {
           "aaxis": {
            "gridcolor": "white",
            "linecolor": "white",
            "ticks": ""
           },
           "baxis": {
            "gridcolor": "white",
            "linecolor": "white",
            "ticks": ""
           },
           "bgcolor": "#E5ECF6",
           "caxis": {
            "gridcolor": "white",
            "linecolor": "white",
            "ticks": ""
           }
          },
          "title": {
           "x": 0.05
          },
          "xaxis": {
           "automargin": true,
           "gridcolor": "white",
           "linecolor": "white",
           "ticks": "",
           "title": {
            "standoff": 15
           },
           "zerolinecolor": "white",
           "zerolinewidth": 2
          },
          "yaxis": {
           "automargin": true,
           "gridcolor": "white",
           "linecolor": "white",
           "ticks": "",
           "title": {
            "standoff": 15
           },
           "zerolinecolor": "white",
           "zerolinewidth": 2
          }
         }
        },
        "title": {
         "text": "<b>User Occupation</b>"
        }
       }
      }
     },
     "metadata": {},
     "output_type": "display_data"
    }
   ],
   "source": [
    "df_customer_occupation = df_customer.groupby('occupation')['user_id'].count().reset_index()\n",
    "df_customer_occupation.columns = 'occupation', 'count'\n",
    "\n",
    "fig2 = go.Figure()\n",
    "fig2.add_trace(go.Pie(labels=df_customer_occupation['occupation'],\n",
    "                      values=df_customer_occupation['count'],\n",
    "                      hole=0.6,\n",
    "                      pull=[0.05, 0, 0, 0, 0, 0, 0.05],\n",
    "                      textposition='outside',\n",
    "                      textinfo='label',\n",
    "                      showlegend=False))\n",
    "fig2.update_layout(title_text='<b>User Occupation</b>')\n",
    "fig2.show()"
   ]
  },
  {
   "cell_type": "code",
   "execution_count": 22,
   "metadata": {},
   "outputs": [
    {
     "data": {
      "application/vnd.plotly.v1+json": {
       "config": {
        "plotlyServerURL": "https://plot.ly"
       },
       "data": [
        {
         "branchvalues": "total",
         "labels": [
          "India",
          "China",
          "Japan",
          "Germany",
          "UK",
          "Canada",
          "USA",
          "Australia",
          "Brazil",
          "Asia",
          "Europe",
          "North America",
          "Oceania",
          "South America"
         ],
         "parents": [
          "Asia",
          "Asia",
          "Asia",
          "Europe",
          "Europe",
          "North America",
          "North America",
          "Oceania",
          "South America",
          "",
          "",
          "",
          "",
          ""
         ],
         "type": "sunburst",
         "values": [
          106,
          104,
          104,
          119,
          103,
          118,
          116,
          107,
          123,
          314,
          222,
          234,
          107,
          123
         ]
        }
       ],
       "layout": {
        "margin": {
         "b": 0,
         "l": 0,
         "r": 0,
         "t": 0
        },
        "template": {
         "data": {
          "bar": [
           {
            "error_x": {
             "color": "#2a3f5f"
            },
            "error_y": {
             "color": "#2a3f5f"
            },
            "marker": {
             "line": {
              "color": "#E5ECF6",
              "width": 0.5
             },
             "pattern": {
              "fillmode": "overlay",
              "size": 10,
              "solidity": 0.2
             }
            },
            "type": "bar"
           }
          ],
          "barpolar": [
           {
            "marker": {
             "line": {
              "color": "#E5ECF6",
              "width": 0.5
             },
             "pattern": {
              "fillmode": "overlay",
              "size": 10,
              "solidity": 0.2
             }
            },
            "type": "barpolar"
           }
          ],
          "carpet": [
           {
            "aaxis": {
             "endlinecolor": "#2a3f5f",
             "gridcolor": "white",
             "linecolor": "white",
             "minorgridcolor": "white",
             "startlinecolor": "#2a3f5f"
            },
            "baxis": {
             "endlinecolor": "#2a3f5f",
             "gridcolor": "white",
             "linecolor": "white",
             "minorgridcolor": "white",
             "startlinecolor": "#2a3f5f"
            },
            "type": "carpet"
           }
          ],
          "choropleth": [
           {
            "colorbar": {
             "outlinewidth": 0,
             "ticks": ""
            },
            "type": "choropleth"
           }
          ],
          "contour": [
           {
            "colorbar": {
             "outlinewidth": 0,
             "ticks": ""
            },
            "colorscale": [
             [
              0,
              "#0d0887"
             ],
             [
              0.1111111111111111,
              "#46039f"
             ],
             [
              0.2222222222222222,
              "#7201a8"
             ],
             [
              0.3333333333333333,
              "#9c179e"
             ],
             [
              0.4444444444444444,
              "#bd3786"
             ],
             [
              0.5555555555555556,
              "#d8576b"
             ],
             [
              0.6666666666666666,
              "#ed7953"
             ],
             [
              0.7777777777777778,
              "#fb9f3a"
             ],
             [
              0.8888888888888888,
              "#fdca26"
             ],
             [
              1,
              "#f0f921"
             ]
            ],
            "type": "contour"
           }
          ],
          "contourcarpet": [
           {
            "colorbar": {
             "outlinewidth": 0,
             "ticks": ""
            },
            "type": "contourcarpet"
           }
          ],
          "heatmap": [
           {
            "colorbar": {
             "outlinewidth": 0,
             "ticks": ""
            },
            "colorscale": [
             [
              0,
              "#0d0887"
             ],
             [
              0.1111111111111111,
              "#46039f"
             ],
             [
              0.2222222222222222,
              "#7201a8"
             ],
             [
              0.3333333333333333,
              "#9c179e"
             ],
             [
              0.4444444444444444,
              "#bd3786"
             ],
             [
              0.5555555555555556,
              "#d8576b"
             ],
             [
              0.6666666666666666,
              "#ed7953"
             ],
             [
              0.7777777777777778,
              "#fb9f3a"
             ],
             [
              0.8888888888888888,
              "#fdca26"
             ],
             [
              1,
              "#f0f921"
             ]
            ],
            "type": "heatmap"
           }
          ],
          "heatmapgl": [
           {
            "colorbar": {
             "outlinewidth": 0,
             "ticks": ""
            },
            "colorscale": [
             [
              0,
              "#0d0887"
             ],
             [
              0.1111111111111111,
              "#46039f"
             ],
             [
              0.2222222222222222,
              "#7201a8"
             ],
             [
              0.3333333333333333,
              "#9c179e"
             ],
             [
              0.4444444444444444,
              "#bd3786"
             ],
             [
              0.5555555555555556,
              "#d8576b"
             ],
             [
              0.6666666666666666,
              "#ed7953"
             ],
             [
              0.7777777777777778,
              "#fb9f3a"
             ],
             [
              0.8888888888888888,
              "#fdca26"
             ],
             [
              1,
              "#f0f921"
             ]
            ],
            "type": "heatmapgl"
           }
          ],
          "histogram": [
           {
            "marker": {
             "pattern": {
              "fillmode": "overlay",
              "size": 10,
              "solidity": 0.2
             }
            },
            "type": "histogram"
           }
          ],
          "histogram2d": [
           {
            "colorbar": {
             "outlinewidth": 0,
             "ticks": ""
            },
            "colorscale": [
             [
              0,
              "#0d0887"
             ],
             [
              0.1111111111111111,
              "#46039f"
             ],
             [
              0.2222222222222222,
              "#7201a8"
             ],
             [
              0.3333333333333333,
              "#9c179e"
             ],
             [
              0.4444444444444444,
              "#bd3786"
             ],
             [
              0.5555555555555556,
              "#d8576b"
             ],
             [
              0.6666666666666666,
              "#ed7953"
             ],
             [
              0.7777777777777778,
              "#fb9f3a"
             ],
             [
              0.8888888888888888,
              "#fdca26"
             ],
             [
              1,
              "#f0f921"
             ]
            ],
            "type": "histogram2d"
           }
          ],
          "histogram2dcontour": [
           {
            "colorbar": {
             "outlinewidth": 0,
             "ticks": ""
            },
            "colorscale": [
             [
              0,
              "#0d0887"
             ],
             [
              0.1111111111111111,
              "#46039f"
             ],
             [
              0.2222222222222222,
              "#7201a8"
             ],
             [
              0.3333333333333333,
              "#9c179e"
             ],
             [
              0.4444444444444444,
              "#bd3786"
             ],
             [
              0.5555555555555556,
              "#d8576b"
             ],
             [
              0.6666666666666666,
              "#ed7953"
             ],
             [
              0.7777777777777778,
              "#fb9f3a"
             ],
             [
              0.8888888888888888,
              "#fdca26"
             ],
             [
              1,
              "#f0f921"
             ]
            ],
            "type": "histogram2dcontour"
           }
          ],
          "mesh3d": [
           {
            "colorbar": {
             "outlinewidth": 0,
             "ticks": ""
            },
            "type": "mesh3d"
           }
          ],
          "parcoords": [
           {
            "line": {
             "colorbar": {
              "outlinewidth": 0,
              "ticks": ""
             }
            },
            "type": "parcoords"
           }
          ],
          "pie": [
           {
            "automargin": true,
            "type": "pie"
           }
          ],
          "scatter": [
           {
            "fillpattern": {
             "fillmode": "overlay",
             "size": 10,
             "solidity": 0.2
            },
            "type": "scatter"
           }
          ],
          "scatter3d": [
           {
            "line": {
             "colorbar": {
              "outlinewidth": 0,
              "ticks": ""
             }
            },
            "marker": {
             "colorbar": {
              "outlinewidth": 0,
              "ticks": ""
             }
            },
            "type": "scatter3d"
           }
          ],
          "scattercarpet": [
           {
            "marker": {
             "colorbar": {
              "outlinewidth": 0,
              "ticks": ""
             }
            },
            "type": "scattercarpet"
           }
          ],
          "scattergeo": [
           {
            "marker": {
             "colorbar": {
              "outlinewidth": 0,
              "ticks": ""
             }
            },
            "type": "scattergeo"
           }
          ],
          "scattergl": [
           {
            "marker": {
             "colorbar": {
              "outlinewidth": 0,
              "ticks": ""
             }
            },
            "type": "scattergl"
           }
          ],
          "scattermapbox": [
           {
            "marker": {
             "colorbar": {
              "outlinewidth": 0,
              "ticks": ""
             }
            },
            "type": "scattermapbox"
           }
          ],
          "scatterpolar": [
           {
            "marker": {
             "colorbar": {
              "outlinewidth": 0,
              "ticks": ""
             }
            },
            "type": "scatterpolar"
           }
          ],
          "scatterpolargl": [
           {
            "marker": {
             "colorbar": {
              "outlinewidth": 0,
              "ticks": ""
             }
            },
            "type": "scatterpolargl"
           }
          ],
          "scatterternary": [
           {
            "marker": {
             "colorbar": {
              "outlinewidth": 0,
              "ticks": ""
             }
            },
            "type": "scatterternary"
           }
          ],
          "surface": [
           {
            "colorbar": {
             "outlinewidth": 0,
             "ticks": ""
            },
            "colorscale": [
             [
              0,
              "#0d0887"
             ],
             [
              0.1111111111111111,
              "#46039f"
             ],
             [
              0.2222222222222222,
              "#7201a8"
             ],
             [
              0.3333333333333333,
              "#9c179e"
             ],
             [
              0.4444444444444444,
              "#bd3786"
             ],
             [
              0.5555555555555556,
              "#d8576b"
             ],
             [
              0.6666666666666666,
              "#ed7953"
             ],
             [
              0.7777777777777778,
              "#fb9f3a"
             ],
             [
              0.8888888888888888,
              "#fdca26"
             ],
             [
              1,
              "#f0f921"
             ]
            ],
            "type": "surface"
           }
          ],
          "table": [
           {
            "cells": {
             "fill": {
              "color": "#EBF0F8"
             },
             "line": {
              "color": "white"
             }
            },
            "header": {
             "fill": {
              "color": "#C8D4E3"
             },
             "line": {
              "color": "white"
             }
            },
            "type": "table"
           }
          ]
         },
         "layout": {
          "annotationdefaults": {
           "arrowcolor": "#2a3f5f",
           "arrowhead": 0,
           "arrowwidth": 1
          },
          "autotypenumbers": "strict",
          "coloraxis": {
           "colorbar": {
            "outlinewidth": 0,
            "ticks": ""
           }
          },
          "colorscale": {
           "diverging": [
            [
             0,
             "#8e0152"
            ],
            [
             0.1,
             "#c51b7d"
            ],
            [
             0.2,
             "#de77ae"
            ],
            [
             0.3,
             "#f1b6da"
            ],
            [
             0.4,
             "#fde0ef"
            ],
            [
             0.5,
             "#f7f7f7"
            ],
            [
             0.6,
             "#e6f5d0"
            ],
            [
             0.7,
             "#b8e186"
            ],
            [
             0.8,
             "#7fbc41"
            ],
            [
             0.9,
             "#4d9221"
            ],
            [
             1,
             "#276419"
            ]
           ],
           "sequential": [
            [
             0,
             "#0d0887"
            ],
            [
             0.1111111111111111,
             "#46039f"
            ],
            [
             0.2222222222222222,
             "#7201a8"
            ],
            [
             0.3333333333333333,
             "#9c179e"
            ],
            [
             0.4444444444444444,
             "#bd3786"
            ],
            [
             0.5555555555555556,
             "#d8576b"
            ],
            [
             0.6666666666666666,
             "#ed7953"
            ],
            [
             0.7777777777777778,
             "#fb9f3a"
            ],
            [
             0.8888888888888888,
             "#fdca26"
            ],
            [
             1,
             "#f0f921"
            ]
           ],
           "sequentialminus": [
            [
             0,
             "#0d0887"
            ],
            [
             0.1111111111111111,
             "#46039f"
            ],
            [
             0.2222222222222222,
             "#7201a8"
            ],
            [
             0.3333333333333333,
             "#9c179e"
            ],
            [
             0.4444444444444444,
             "#bd3786"
            ],
            [
             0.5555555555555556,
             "#d8576b"
            ],
            [
             0.6666666666666666,
             "#ed7953"
            ],
            [
             0.7777777777777778,
             "#fb9f3a"
            ],
            [
             0.8888888888888888,
             "#fdca26"
            ],
            [
             1,
             "#f0f921"
            ]
           ]
          },
          "colorway": [
           "#636efa",
           "#EF553B",
           "#00cc96",
           "#ab63fa",
           "#FFA15A",
           "#19d3f3",
           "#FF6692",
           "#B6E880",
           "#FF97FF",
           "#FECB52"
          ],
          "font": {
           "color": "#2a3f5f"
          },
          "geo": {
           "bgcolor": "white",
           "lakecolor": "white",
           "landcolor": "#E5ECF6",
           "showlakes": true,
           "showland": true,
           "subunitcolor": "white"
          },
          "hoverlabel": {
           "align": "left"
          },
          "hovermode": "closest",
          "mapbox": {
           "style": "light"
          },
          "paper_bgcolor": "white",
          "plot_bgcolor": "#E5ECF6",
          "polar": {
           "angularaxis": {
            "gridcolor": "white",
            "linecolor": "white",
            "ticks": ""
           },
           "bgcolor": "#E5ECF6",
           "radialaxis": {
            "gridcolor": "white",
            "linecolor": "white",
            "ticks": ""
           }
          },
          "scene": {
           "xaxis": {
            "backgroundcolor": "#E5ECF6",
            "gridcolor": "white",
            "gridwidth": 2,
            "linecolor": "white",
            "showbackground": true,
            "ticks": "",
            "zerolinecolor": "white"
           },
           "yaxis": {
            "backgroundcolor": "#E5ECF6",
            "gridcolor": "white",
            "gridwidth": 2,
            "linecolor": "white",
            "showbackground": true,
            "ticks": "",
            "zerolinecolor": "white"
           },
           "zaxis": {
            "backgroundcolor": "#E5ECF6",
            "gridcolor": "white",
            "gridwidth": 2,
            "linecolor": "white",
            "showbackground": true,
            "ticks": "",
            "zerolinecolor": "white"
           }
          },
          "shapedefaults": {
           "line": {
            "color": "#2a3f5f"
           }
          },
          "ternary": {
           "aaxis": {
            "gridcolor": "white",
            "linecolor": "white",
            "ticks": ""
           },
           "baxis": {
            "gridcolor": "white",
            "linecolor": "white",
            "ticks": ""
           },
           "bgcolor": "#E5ECF6",
           "caxis": {
            "gridcolor": "white",
            "linecolor": "white",
            "ticks": ""
           }
          },
          "title": {
           "x": 0.05
          },
          "xaxis": {
           "automargin": true,
           "gridcolor": "white",
           "linecolor": "white",
           "ticks": "",
           "title": {
            "standoff": 15
           },
           "zerolinecolor": "white",
           "zerolinewidth": 2
          },
          "yaxis": {
           "automargin": true,
           "gridcolor": "white",
           "linecolor": "white",
           "ticks": "",
           "title": {
            "standoff": 15
           },
           "zerolinecolor": "white",
           "zerolinewidth": 2
          }
         }
        }
       }
      }
     },
     "metadata": {},
     "output_type": "display_data"
    }
   ],
   "source": [
    "fig3 = go.Figure(go.Sunburst(labels=children_list,\n",
    "                           parents=parent_list,\n",
    "                           values=value_list,\n",
    "                           branchvalues='total'))\n",
    "fig3.update_layout(margin = dict(t=0, l=0, r=0, b=0))\n",
    "fig3.show()"
   ]
  },
  {
   "cell_type": "code",
   "execution_count": 23,
   "metadata": {},
   "outputs": [
    {
     "data": {
      "application/vnd.plotly.v1+json": {
       "config": {
        "plotlyServerURL": "https://plot.ly"
       },
       "data": [
        {
         "mode": "lines+markers",
         "showlegend": false,
         "type": "scatter",
         "x": [
          7,
          8,
          9,
          10,
          11,
          12,
          13,
          14,
          15,
          16,
          17,
          18,
          19,
          20,
          21,
          22,
          23
         ],
         "y": [
          225,
          190,
          197,
          206,
          208,
          218,
          201,
          225,
          193,
          189,
          205,
          181,
          414,
          380,
          384,
          370,
          425
         ]
        }
       ],
       "layout": {
        "template": {
         "data": {
          "bar": [
           {
            "error_x": {
             "color": "#2a3f5f"
            },
            "error_y": {
             "color": "#2a3f5f"
            },
            "marker": {
             "line": {
              "color": "#E5ECF6",
              "width": 0.5
             },
             "pattern": {
              "fillmode": "overlay",
              "size": 10,
              "solidity": 0.2
             }
            },
            "type": "bar"
           }
          ],
          "barpolar": [
           {
            "marker": {
             "line": {
              "color": "#E5ECF6",
              "width": 0.5
             },
             "pattern": {
              "fillmode": "overlay",
              "size": 10,
              "solidity": 0.2
             }
            },
            "type": "barpolar"
           }
          ],
          "carpet": [
           {
            "aaxis": {
             "endlinecolor": "#2a3f5f",
             "gridcolor": "white",
             "linecolor": "white",
             "minorgridcolor": "white",
             "startlinecolor": "#2a3f5f"
            },
            "baxis": {
             "endlinecolor": "#2a3f5f",
             "gridcolor": "white",
             "linecolor": "white",
             "minorgridcolor": "white",
             "startlinecolor": "#2a3f5f"
            },
            "type": "carpet"
           }
          ],
          "choropleth": [
           {
            "colorbar": {
             "outlinewidth": 0,
             "ticks": ""
            },
            "type": "choropleth"
           }
          ],
          "contour": [
           {
            "colorbar": {
             "outlinewidth": 0,
             "ticks": ""
            },
            "colorscale": [
             [
              0,
              "#0d0887"
             ],
             [
              0.1111111111111111,
              "#46039f"
             ],
             [
              0.2222222222222222,
              "#7201a8"
             ],
             [
              0.3333333333333333,
              "#9c179e"
             ],
             [
              0.4444444444444444,
              "#bd3786"
             ],
             [
              0.5555555555555556,
              "#d8576b"
             ],
             [
              0.6666666666666666,
              "#ed7953"
             ],
             [
              0.7777777777777778,
              "#fb9f3a"
             ],
             [
              0.8888888888888888,
              "#fdca26"
             ],
             [
              1,
              "#f0f921"
             ]
            ],
            "type": "contour"
           }
          ],
          "contourcarpet": [
           {
            "colorbar": {
             "outlinewidth": 0,
             "ticks": ""
            },
            "type": "contourcarpet"
           }
          ],
          "heatmap": [
           {
            "colorbar": {
             "outlinewidth": 0,
             "ticks": ""
            },
            "colorscale": [
             [
              0,
              "#0d0887"
             ],
             [
              0.1111111111111111,
              "#46039f"
             ],
             [
              0.2222222222222222,
              "#7201a8"
             ],
             [
              0.3333333333333333,
              "#9c179e"
             ],
             [
              0.4444444444444444,
              "#bd3786"
             ],
             [
              0.5555555555555556,
              "#d8576b"
             ],
             [
              0.6666666666666666,
              "#ed7953"
             ],
             [
              0.7777777777777778,
              "#fb9f3a"
             ],
             [
              0.8888888888888888,
              "#fdca26"
             ],
             [
              1,
              "#f0f921"
             ]
            ],
            "type": "heatmap"
           }
          ],
          "heatmapgl": [
           {
            "colorbar": {
             "outlinewidth": 0,
             "ticks": ""
            },
            "colorscale": [
             [
              0,
              "#0d0887"
             ],
             [
              0.1111111111111111,
              "#46039f"
             ],
             [
              0.2222222222222222,
              "#7201a8"
             ],
             [
              0.3333333333333333,
              "#9c179e"
             ],
             [
              0.4444444444444444,
              "#bd3786"
             ],
             [
              0.5555555555555556,
              "#d8576b"
             ],
             [
              0.6666666666666666,
              "#ed7953"
             ],
             [
              0.7777777777777778,
              "#fb9f3a"
             ],
             [
              0.8888888888888888,
              "#fdca26"
             ],
             [
              1,
              "#f0f921"
             ]
            ],
            "type": "heatmapgl"
           }
          ],
          "histogram": [
           {
            "marker": {
             "pattern": {
              "fillmode": "overlay",
              "size": 10,
              "solidity": 0.2
             }
            },
            "type": "histogram"
           }
          ],
          "histogram2d": [
           {
            "colorbar": {
             "outlinewidth": 0,
             "ticks": ""
            },
            "colorscale": [
             [
              0,
              "#0d0887"
             ],
             [
              0.1111111111111111,
              "#46039f"
             ],
             [
              0.2222222222222222,
              "#7201a8"
             ],
             [
              0.3333333333333333,
              "#9c179e"
             ],
             [
              0.4444444444444444,
              "#bd3786"
             ],
             [
              0.5555555555555556,
              "#d8576b"
             ],
             [
              0.6666666666666666,
              "#ed7953"
             ],
             [
              0.7777777777777778,
              "#fb9f3a"
             ],
             [
              0.8888888888888888,
              "#fdca26"
             ],
             [
              1,
              "#f0f921"
             ]
            ],
            "type": "histogram2d"
           }
          ],
          "histogram2dcontour": [
           {
            "colorbar": {
             "outlinewidth": 0,
             "ticks": ""
            },
            "colorscale": [
             [
              0,
              "#0d0887"
             ],
             [
              0.1111111111111111,
              "#46039f"
             ],
             [
              0.2222222222222222,
              "#7201a8"
             ],
             [
              0.3333333333333333,
              "#9c179e"
             ],
             [
              0.4444444444444444,
              "#bd3786"
             ],
             [
              0.5555555555555556,
              "#d8576b"
             ],
             [
              0.6666666666666666,
              "#ed7953"
             ],
             [
              0.7777777777777778,
              "#fb9f3a"
             ],
             [
              0.8888888888888888,
              "#fdca26"
             ],
             [
              1,
              "#f0f921"
             ]
            ],
            "type": "histogram2dcontour"
           }
          ],
          "mesh3d": [
           {
            "colorbar": {
             "outlinewidth": 0,
             "ticks": ""
            },
            "type": "mesh3d"
           }
          ],
          "parcoords": [
           {
            "line": {
             "colorbar": {
              "outlinewidth": 0,
              "ticks": ""
             }
            },
            "type": "parcoords"
           }
          ],
          "pie": [
           {
            "automargin": true,
            "type": "pie"
           }
          ],
          "scatter": [
           {
            "fillpattern": {
             "fillmode": "overlay",
             "size": 10,
             "solidity": 0.2
            },
            "type": "scatter"
           }
          ],
          "scatter3d": [
           {
            "line": {
             "colorbar": {
              "outlinewidth": 0,
              "ticks": ""
             }
            },
            "marker": {
             "colorbar": {
              "outlinewidth": 0,
              "ticks": ""
             }
            },
            "type": "scatter3d"
           }
          ],
          "scattercarpet": [
           {
            "marker": {
             "colorbar": {
              "outlinewidth": 0,
              "ticks": ""
             }
            },
            "type": "scattercarpet"
           }
          ],
          "scattergeo": [
           {
            "marker": {
             "colorbar": {
              "outlinewidth": 0,
              "ticks": ""
             }
            },
            "type": "scattergeo"
           }
          ],
          "scattergl": [
           {
            "marker": {
             "colorbar": {
              "outlinewidth": 0,
              "ticks": ""
             }
            },
            "type": "scattergl"
           }
          ],
          "scattermapbox": [
           {
            "marker": {
             "colorbar": {
              "outlinewidth": 0,
              "ticks": ""
             }
            },
            "type": "scattermapbox"
           }
          ],
          "scatterpolar": [
           {
            "marker": {
             "colorbar": {
              "outlinewidth": 0,
              "ticks": ""
             }
            },
            "type": "scatterpolar"
           }
          ],
          "scatterpolargl": [
           {
            "marker": {
             "colorbar": {
              "outlinewidth": 0,
              "ticks": ""
             }
            },
            "type": "scatterpolargl"
           }
          ],
          "scatterternary": [
           {
            "marker": {
             "colorbar": {
              "outlinewidth": 0,
              "ticks": ""
             }
            },
            "type": "scatterternary"
           }
          ],
          "surface": [
           {
            "colorbar": {
             "outlinewidth": 0,
             "ticks": ""
            },
            "colorscale": [
             [
              0,
              "#0d0887"
             ],
             [
              0.1111111111111111,
              "#46039f"
             ],
             [
              0.2222222222222222,
              "#7201a8"
             ],
             [
              0.3333333333333333,
              "#9c179e"
             ],
             [
              0.4444444444444444,
              "#bd3786"
             ],
             [
              0.5555555555555556,
              "#d8576b"
             ],
             [
              0.6666666666666666,
              "#ed7953"
             ],
             [
              0.7777777777777778,
              "#fb9f3a"
             ],
             [
              0.8888888888888888,
              "#fdca26"
             ],
             [
              1,
              "#f0f921"
             ]
            ],
            "type": "surface"
           }
          ],
          "table": [
           {
            "cells": {
             "fill": {
              "color": "#EBF0F8"
             },
             "line": {
              "color": "white"
             }
            },
            "header": {
             "fill": {
              "color": "#C8D4E3"
             },
             "line": {
              "color": "white"
             }
            },
            "type": "table"
           }
          ]
         },
         "layout": {
          "annotationdefaults": {
           "arrowcolor": "#2a3f5f",
           "arrowhead": 0,
           "arrowwidth": 1
          },
          "autotypenumbers": "strict",
          "coloraxis": {
           "colorbar": {
            "outlinewidth": 0,
            "ticks": ""
           }
          },
          "colorscale": {
           "diverging": [
            [
             0,
             "#8e0152"
            ],
            [
             0.1,
             "#c51b7d"
            ],
            [
             0.2,
             "#de77ae"
            ],
            [
             0.3,
             "#f1b6da"
            ],
            [
             0.4,
             "#fde0ef"
            ],
            [
             0.5,
             "#f7f7f7"
            ],
            [
             0.6,
             "#e6f5d0"
            ],
            [
             0.7,
             "#b8e186"
            ],
            [
             0.8,
             "#7fbc41"
            ],
            [
             0.9,
             "#4d9221"
            ],
            [
             1,
             "#276419"
            ]
           ],
           "sequential": [
            [
             0,
             "#0d0887"
            ],
            [
             0.1111111111111111,
             "#46039f"
            ],
            [
             0.2222222222222222,
             "#7201a8"
            ],
            [
             0.3333333333333333,
             "#9c179e"
            ],
            [
             0.4444444444444444,
             "#bd3786"
            ],
            [
             0.5555555555555556,
             "#d8576b"
            ],
            [
             0.6666666666666666,
             "#ed7953"
            ],
            [
             0.7777777777777778,
             "#fb9f3a"
            ],
            [
             0.8888888888888888,
             "#fdca26"
            ],
            [
             1,
             "#f0f921"
            ]
           ],
           "sequentialminus": [
            [
             0,
             "#0d0887"
            ],
            [
             0.1111111111111111,
             "#46039f"
            ],
            [
             0.2222222222222222,
             "#7201a8"
            ],
            [
             0.3333333333333333,
             "#9c179e"
            ],
            [
             0.4444444444444444,
             "#bd3786"
            ],
            [
             0.5555555555555556,
             "#d8576b"
            ],
            [
             0.6666666666666666,
             "#ed7953"
            ],
            [
             0.7777777777777778,
             "#fb9f3a"
            ],
            [
             0.8888888888888888,
             "#fdca26"
            ],
            [
             1,
             "#f0f921"
            ]
           ]
          },
          "colorway": [
           "#636efa",
           "#EF553B",
           "#00cc96",
           "#ab63fa",
           "#FFA15A",
           "#19d3f3",
           "#FF6692",
           "#B6E880",
           "#FF97FF",
           "#FECB52"
          ],
          "font": {
           "color": "#2a3f5f"
          },
          "geo": {
           "bgcolor": "white",
           "lakecolor": "white",
           "landcolor": "#E5ECF6",
           "showlakes": true,
           "showland": true,
           "subunitcolor": "white"
          },
          "hoverlabel": {
           "align": "left"
          },
          "hovermode": "closest",
          "mapbox": {
           "style": "light"
          },
          "paper_bgcolor": "white",
          "plot_bgcolor": "#E5ECF6",
          "polar": {
           "angularaxis": {
            "gridcolor": "white",
            "linecolor": "white",
            "ticks": ""
           },
           "bgcolor": "#E5ECF6",
           "radialaxis": {
            "gridcolor": "white",
            "linecolor": "white",
            "ticks": ""
           }
          },
          "scene": {
           "xaxis": {
            "backgroundcolor": "#E5ECF6",
            "gridcolor": "white",
            "gridwidth": 2,
            "linecolor": "white",
            "showbackground": true,
            "ticks": "",
            "zerolinecolor": "white"
           },
           "yaxis": {
            "backgroundcolor": "#E5ECF6",
            "gridcolor": "white",
            "gridwidth": 2,
            "linecolor": "white",
            "showbackground": true,
            "ticks": "",
            "zerolinecolor": "white"
           },
           "zaxis": {
            "backgroundcolor": "#E5ECF6",
            "gridcolor": "white",
            "gridwidth": 2,
            "linecolor": "white",
            "showbackground": true,
            "ticks": "",
            "zerolinecolor": "white"
           }
          },
          "shapedefaults": {
           "line": {
            "color": "#2a3f5f"
           }
          },
          "ternary": {
           "aaxis": {
            "gridcolor": "white",
            "linecolor": "white",
            "ticks": ""
           },
           "baxis": {
            "gridcolor": "white",
            "linecolor": "white",
            "ticks": ""
           },
           "bgcolor": "#E5ECF6",
           "caxis": {
            "gridcolor": "white",
            "linecolor": "white",
            "ticks": ""
           }
          },
          "title": {
           "x": 0.05
          },
          "xaxis": {
           "automargin": true,
           "gridcolor": "white",
           "linecolor": "white",
           "ticks": "",
           "title": {
            "standoff": 15
           },
           "zerolinecolor": "white",
           "zerolinewidth": 2
          },
          "yaxis": {
           "automargin": true,
           "gridcolor": "white",
           "linecolor": "white",
           "ticks": "",
           "title": {
            "standoff": 15
           },
           "zerolinecolor": "white",
           "zerolinewidth": 2
          }
         }
        },
        "title": {
         "text": "<b>Activity by Hour in 2024</b>"
        },
        "xaxis": {
         "title": {
          "text": "Hour"
         }
        },
        "yaxis": {
         "title": {
          "text": "Activity Count"
         }
        }
       }
      }
     },
     "metadata": {},
     "output_type": "display_data"
    }
   ],
   "source": [
    "fig4 = go.Figure(go.Scatter(x=df_daily_active['Hour'],\n",
    "                            y=df_daily_active['Sessions'],\n",
    "                            mode='lines+markers',\n",
    "                            showlegend=False))\n",
    "fig4.update_layout(title_text='<b>Activity by Hour in 2024</b>')\n",
    "fig4.update_xaxes(title_text='Hour')\n",
    "fig4.update_yaxes(title_text='Activity Count')\n",
    "fig4.show()"
   ]
  },
  {
   "cell_type": "code",
   "execution_count": 24,
   "metadata": {},
   "outputs": [
    {
     "data": {
      "application/vnd.plotly.v1+json": {
       "config": {
        "plotlyServerURL": "https://plot.ly"
       },
       "data": [
        {
         "mode": "lines+markers",
         "showlegend": false,
         "type": "scatter",
         "x": [
          1,
          2,
          3,
          4,
          5,
          6,
          7,
          8,
          9,
          10,
          11,
          12
         ],
         "y": [
          353,
          357,
          382,
          369,
          336,
          381,
          380,
          362,
          353,
          393,
          368,
          377
         ]
        }
       ],
       "layout": {
        "template": {
         "data": {
          "bar": [
           {
            "error_x": {
             "color": "#2a3f5f"
            },
            "error_y": {
             "color": "#2a3f5f"
            },
            "marker": {
             "line": {
              "color": "#E5ECF6",
              "width": 0.5
             },
             "pattern": {
              "fillmode": "overlay",
              "size": 10,
              "solidity": 0.2
             }
            },
            "type": "bar"
           }
          ],
          "barpolar": [
           {
            "marker": {
             "line": {
              "color": "#E5ECF6",
              "width": 0.5
             },
             "pattern": {
              "fillmode": "overlay",
              "size": 10,
              "solidity": 0.2
             }
            },
            "type": "barpolar"
           }
          ],
          "carpet": [
           {
            "aaxis": {
             "endlinecolor": "#2a3f5f",
             "gridcolor": "white",
             "linecolor": "white",
             "minorgridcolor": "white",
             "startlinecolor": "#2a3f5f"
            },
            "baxis": {
             "endlinecolor": "#2a3f5f",
             "gridcolor": "white",
             "linecolor": "white",
             "minorgridcolor": "white",
             "startlinecolor": "#2a3f5f"
            },
            "type": "carpet"
           }
          ],
          "choropleth": [
           {
            "colorbar": {
             "outlinewidth": 0,
             "ticks": ""
            },
            "type": "choropleth"
           }
          ],
          "contour": [
           {
            "colorbar": {
             "outlinewidth": 0,
             "ticks": ""
            },
            "colorscale": [
             [
              0,
              "#0d0887"
             ],
             [
              0.1111111111111111,
              "#46039f"
             ],
             [
              0.2222222222222222,
              "#7201a8"
             ],
             [
              0.3333333333333333,
              "#9c179e"
             ],
             [
              0.4444444444444444,
              "#bd3786"
             ],
             [
              0.5555555555555556,
              "#d8576b"
             ],
             [
              0.6666666666666666,
              "#ed7953"
             ],
             [
              0.7777777777777778,
              "#fb9f3a"
             ],
             [
              0.8888888888888888,
              "#fdca26"
             ],
             [
              1,
              "#f0f921"
             ]
            ],
            "type": "contour"
           }
          ],
          "contourcarpet": [
           {
            "colorbar": {
             "outlinewidth": 0,
             "ticks": ""
            },
            "type": "contourcarpet"
           }
          ],
          "heatmap": [
           {
            "colorbar": {
             "outlinewidth": 0,
             "ticks": ""
            },
            "colorscale": [
             [
              0,
              "#0d0887"
             ],
             [
              0.1111111111111111,
              "#46039f"
             ],
             [
              0.2222222222222222,
              "#7201a8"
             ],
             [
              0.3333333333333333,
              "#9c179e"
             ],
             [
              0.4444444444444444,
              "#bd3786"
             ],
             [
              0.5555555555555556,
              "#d8576b"
             ],
             [
              0.6666666666666666,
              "#ed7953"
             ],
             [
              0.7777777777777778,
              "#fb9f3a"
             ],
             [
              0.8888888888888888,
              "#fdca26"
             ],
             [
              1,
              "#f0f921"
             ]
            ],
            "type": "heatmap"
           }
          ],
          "heatmapgl": [
           {
            "colorbar": {
             "outlinewidth": 0,
             "ticks": ""
            },
            "colorscale": [
             [
              0,
              "#0d0887"
             ],
             [
              0.1111111111111111,
              "#46039f"
             ],
             [
              0.2222222222222222,
              "#7201a8"
             ],
             [
              0.3333333333333333,
              "#9c179e"
             ],
             [
              0.4444444444444444,
              "#bd3786"
             ],
             [
              0.5555555555555556,
              "#d8576b"
             ],
             [
              0.6666666666666666,
              "#ed7953"
             ],
             [
              0.7777777777777778,
              "#fb9f3a"
             ],
             [
              0.8888888888888888,
              "#fdca26"
             ],
             [
              1,
              "#f0f921"
             ]
            ],
            "type": "heatmapgl"
           }
          ],
          "histogram": [
           {
            "marker": {
             "pattern": {
              "fillmode": "overlay",
              "size": 10,
              "solidity": 0.2
             }
            },
            "type": "histogram"
           }
          ],
          "histogram2d": [
           {
            "colorbar": {
             "outlinewidth": 0,
             "ticks": ""
            },
            "colorscale": [
             [
              0,
              "#0d0887"
             ],
             [
              0.1111111111111111,
              "#46039f"
             ],
             [
              0.2222222222222222,
              "#7201a8"
             ],
             [
              0.3333333333333333,
              "#9c179e"
             ],
             [
              0.4444444444444444,
              "#bd3786"
             ],
             [
              0.5555555555555556,
              "#d8576b"
             ],
             [
              0.6666666666666666,
              "#ed7953"
             ],
             [
              0.7777777777777778,
              "#fb9f3a"
             ],
             [
              0.8888888888888888,
              "#fdca26"
             ],
             [
              1,
              "#f0f921"
             ]
            ],
            "type": "histogram2d"
           }
          ],
          "histogram2dcontour": [
           {
            "colorbar": {
             "outlinewidth": 0,
             "ticks": ""
            },
            "colorscale": [
             [
              0,
              "#0d0887"
             ],
             [
              0.1111111111111111,
              "#46039f"
             ],
             [
              0.2222222222222222,
              "#7201a8"
             ],
             [
              0.3333333333333333,
              "#9c179e"
             ],
             [
              0.4444444444444444,
              "#bd3786"
             ],
             [
              0.5555555555555556,
              "#d8576b"
             ],
             [
              0.6666666666666666,
              "#ed7953"
             ],
             [
              0.7777777777777778,
              "#fb9f3a"
             ],
             [
              0.8888888888888888,
              "#fdca26"
             ],
             [
              1,
              "#f0f921"
             ]
            ],
            "type": "histogram2dcontour"
           }
          ],
          "mesh3d": [
           {
            "colorbar": {
             "outlinewidth": 0,
             "ticks": ""
            },
            "type": "mesh3d"
           }
          ],
          "parcoords": [
           {
            "line": {
             "colorbar": {
              "outlinewidth": 0,
              "ticks": ""
             }
            },
            "type": "parcoords"
           }
          ],
          "pie": [
           {
            "automargin": true,
            "type": "pie"
           }
          ],
          "scatter": [
           {
            "fillpattern": {
             "fillmode": "overlay",
             "size": 10,
             "solidity": 0.2
            },
            "type": "scatter"
           }
          ],
          "scatter3d": [
           {
            "line": {
             "colorbar": {
              "outlinewidth": 0,
              "ticks": ""
             }
            },
            "marker": {
             "colorbar": {
              "outlinewidth": 0,
              "ticks": ""
             }
            },
            "type": "scatter3d"
           }
          ],
          "scattercarpet": [
           {
            "marker": {
             "colorbar": {
              "outlinewidth": 0,
              "ticks": ""
             }
            },
            "type": "scattercarpet"
           }
          ],
          "scattergeo": [
           {
            "marker": {
             "colorbar": {
              "outlinewidth": 0,
              "ticks": ""
             }
            },
            "type": "scattergeo"
           }
          ],
          "scattergl": [
           {
            "marker": {
             "colorbar": {
              "outlinewidth": 0,
              "ticks": ""
             }
            },
            "type": "scattergl"
           }
          ],
          "scattermapbox": [
           {
            "marker": {
             "colorbar": {
              "outlinewidth": 0,
              "ticks": ""
             }
            },
            "type": "scattermapbox"
           }
          ],
          "scatterpolar": [
           {
            "marker": {
             "colorbar": {
              "outlinewidth": 0,
              "ticks": ""
             }
            },
            "type": "scatterpolar"
           }
          ],
          "scatterpolargl": [
           {
            "marker": {
             "colorbar": {
              "outlinewidth": 0,
              "ticks": ""
             }
            },
            "type": "scatterpolargl"
           }
          ],
          "scatterternary": [
           {
            "marker": {
             "colorbar": {
              "outlinewidth": 0,
              "ticks": ""
             }
            },
            "type": "scatterternary"
           }
          ],
          "surface": [
           {
            "colorbar": {
             "outlinewidth": 0,
             "ticks": ""
            },
            "colorscale": [
             [
              0,
              "#0d0887"
             ],
             [
              0.1111111111111111,
              "#46039f"
             ],
             [
              0.2222222222222222,
              "#7201a8"
             ],
             [
              0.3333333333333333,
              "#9c179e"
             ],
             [
              0.4444444444444444,
              "#bd3786"
             ],
             [
              0.5555555555555556,
              "#d8576b"
             ],
             [
              0.6666666666666666,
              "#ed7953"
             ],
             [
              0.7777777777777778,
              "#fb9f3a"
             ],
             [
              0.8888888888888888,
              "#fdca26"
             ],
             [
              1,
              "#f0f921"
             ]
            ],
            "type": "surface"
           }
          ],
          "table": [
           {
            "cells": {
             "fill": {
              "color": "#EBF0F8"
             },
             "line": {
              "color": "white"
             }
            },
            "header": {
             "fill": {
              "color": "#C8D4E3"
             },
             "line": {
              "color": "white"
             }
            },
            "type": "table"
           }
          ]
         },
         "layout": {
          "annotationdefaults": {
           "arrowcolor": "#2a3f5f",
           "arrowhead": 0,
           "arrowwidth": 1
          },
          "autotypenumbers": "strict",
          "coloraxis": {
           "colorbar": {
            "outlinewidth": 0,
            "ticks": ""
           }
          },
          "colorscale": {
           "diverging": [
            [
             0,
             "#8e0152"
            ],
            [
             0.1,
             "#c51b7d"
            ],
            [
             0.2,
             "#de77ae"
            ],
            [
             0.3,
             "#f1b6da"
            ],
            [
             0.4,
             "#fde0ef"
            ],
            [
             0.5,
             "#f7f7f7"
            ],
            [
             0.6,
             "#e6f5d0"
            ],
            [
             0.7,
             "#b8e186"
            ],
            [
             0.8,
             "#7fbc41"
            ],
            [
             0.9,
             "#4d9221"
            ],
            [
             1,
             "#276419"
            ]
           ],
           "sequential": [
            [
             0,
             "#0d0887"
            ],
            [
             0.1111111111111111,
             "#46039f"
            ],
            [
             0.2222222222222222,
             "#7201a8"
            ],
            [
             0.3333333333333333,
             "#9c179e"
            ],
            [
             0.4444444444444444,
             "#bd3786"
            ],
            [
             0.5555555555555556,
             "#d8576b"
            ],
            [
             0.6666666666666666,
             "#ed7953"
            ],
            [
             0.7777777777777778,
             "#fb9f3a"
            ],
            [
             0.8888888888888888,
             "#fdca26"
            ],
            [
             1,
             "#f0f921"
            ]
           ],
           "sequentialminus": [
            [
             0,
             "#0d0887"
            ],
            [
             0.1111111111111111,
             "#46039f"
            ],
            [
             0.2222222222222222,
             "#7201a8"
            ],
            [
             0.3333333333333333,
             "#9c179e"
            ],
            [
             0.4444444444444444,
             "#bd3786"
            ],
            [
             0.5555555555555556,
             "#d8576b"
            ],
            [
             0.6666666666666666,
             "#ed7953"
            ],
            [
             0.7777777777777778,
             "#fb9f3a"
            ],
            [
             0.8888888888888888,
             "#fdca26"
            ],
            [
             1,
             "#f0f921"
            ]
           ]
          },
          "colorway": [
           "#636efa",
           "#EF553B",
           "#00cc96",
           "#ab63fa",
           "#FFA15A",
           "#19d3f3",
           "#FF6692",
           "#B6E880",
           "#FF97FF",
           "#FECB52"
          ],
          "font": {
           "color": "#2a3f5f"
          },
          "geo": {
           "bgcolor": "white",
           "lakecolor": "white",
           "landcolor": "#E5ECF6",
           "showlakes": true,
           "showland": true,
           "subunitcolor": "white"
          },
          "hoverlabel": {
           "align": "left"
          },
          "hovermode": "closest",
          "mapbox": {
           "style": "light"
          },
          "paper_bgcolor": "white",
          "plot_bgcolor": "#E5ECF6",
          "polar": {
           "angularaxis": {
            "gridcolor": "white",
            "linecolor": "white",
            "ticks": ""
           },
           "bgcolor": "#E5ECF6",
           "radialaxis": {
            "gridcolor": "white",
            "linecolor": "white",
            "ticks": ""
           }
          },
          "scene": {
           "xaxis": {
            "backgroundcolor": "#E5ECF6",
            "gridcolor": "white",
            "gridwidth": 2,
            "linecolor": "white",
            "showbackground": true,
            "ticks": "",
            "zerolinecolor": "white"
           },
           "yaxis": {
            "backgroundcolor": "#E5ECF6",
            "gridcolor": "white",
            "gridwidth": 2,
            "linecolor": "white",
            "showbackground": true,
            "ticks": "",
            "zerolinecolor": "white"
           },
           "zaxis": {
            "backgroundcolor": "#E5ECF6",
            "gridcolor": "white",
            "gridwidth": 2,
            "linecolor": "white",
            "showbackground": true,
            "ticks": "",
            "zerolinecolor": "white"
           }
          },
          "shapedefaults": {
           "line": {
            "color": "#2a3f5f"
           }
          },
          "ternary": {
           "aaxis": {
            "gridcolor": "white",
            "linecolor": "white",
            "ticks": ""
           },
           "baxis": {
            "gridcolor": "white",
            "linecolor": "white",
            "ticks": ""
           },
           "bgcolor": "#E5ECF6",
           "caxis": {
            "gridcolor": "white",
            "linecolor": "white",
            "ticks": ""
           }
          },
          "title": {
           "x": 0.05
          },
          "xaxis": {
           "automargin": true,
           "gridcolor": "white",
           "linecolor": "white",
           "ticks": "",
           "title": {
            "standoff": 15
           },
           "zerolinecolor": "white",
           "zerolinewidth": 2
          },
          "yaxis": {
           "automargin": true,
           "gridcolor": "white",
           "linecolor": "white",
           "ticks": "",
           "title": {
            "standoff": 15
           },
           "zerolinecolor": "white",
           "zerolinewidth": 2
          }
         }
        },
        "title": {
         "text": "<b>Activity by Month in 2024</b>"
        },
        "xaxis": {
         "title": {
          "text": "Month"
         }
        },
        "yaxis": {
         "title": {
          "text": "Activity Count"
         }
        }
       }
      }
     },
     "metadata": {},
     "output_type": "display_data"
    }
   ],
   "source": [
    "fig4 = go.Figure(go.Scatter(x=df_monthly_active['Month'],\n",
    "                            y=df_monthly_active['Sessions'],\n",
    "                            mode='lines+markers',\n",
    "                            showlegend=False))\n",
    "fig4.update_layout(title_text='<b>Activity by Month in 2024</b>')\n",
    "fig4.update_xaxes(title_text='Month')\n",
    "fig4.update_yaxes(title_text='Activity Count')\n",
    "fig4.show()"
   ]
  },
  {
   "cell_type": "code",
   "execution_count": 36,
   "metadata": {},
   "outputs": [
    {
     "data": {
      "application/vnd.plotly.v1+json": {
       "config": {
        "plotlyServerURL": "https://plot.ly"
       },
       "data": [
        {
         "mode": "lines+markers",
         "showlegend": false,
         "type": "scatter",
         "x": [
          "Monday",
          "Tuesday",
          "Wednesday",
          "Thursday",
          "Friday",
          "Saturday",
          "Sunday"
         ],
         "y": [
          508,
          529,
          549,
          502,
          517,
          868,
          938
         ]
        }
       ],
       "layout": {
        "template": {
         "data": {
          "bar": [
           {
            "error_x": {
             "color": "#2a3f5f"
            },
            "error_y": {
             "color": "#2a3f5f"
            },
            "marker": {
             "line": {
              "color": "#E5ECF6",
              "width": 0.5
             },
             "pattern": {
              "fillmode": "overlay",
              "size": 10,
              "solidity": 0.2
             }
            },
            "type": "bar"
           }
          ],
          "barpolar": [
           {
            "marker": {
             "line": {
              "color": "#E5ECF6",
              "width": 0.5
             },
             "pattern": {
              "fillmode": "overlay",
              "size": 10,
              "solidity": 0.2
             }
            },
            "type": "barpolar"
           }
          ],
          "carpet": [
           {
            "aaxis": {
             "endlinecolor": "#2a3f5f",
             "gridcolor": "white",
             "linecolor": "white",
             "minorgridcolor": "white",
             "startlinecolor": "#2a3f5f"
            },
            "baxis": {
             "endlinecolor": "#2a3f5f",
             "gridcolor": "white",
             "linecolor": "white",
             "minorgridcolor": "white",
             "startlinecolor": "#2a3f5f"
            },
            "type": "carpet"
           }
          ],
          "choropleth": [
           {
            "colorbar": {
             "outlinewidth": 0,
             "ticks": ""
            },
            "type": "choropleth"
           }
          ],
          "contour": [
           {
            "colorbar": {
             "outlinewidth": 0,
             "ticks": ""
            },
            "colorscale": [
             [
              0,
              "#0d0887"
             ],
             [
              0.1111111111111111,
              "#46039f"
             ],
             [
              0.2222222222222222,
              "#7201a8"
             ],
             [
              0.3333333333333333,
              "#9c179e"
             ],
             [
              0.4444444444444444,
              "#bd3786"
             ],
             [
              0.5555555555555556,
              "#d8576b"
             ],
             [
              0.6666666666666666,
              "#ed7953"
             ],
             [
              0.7777777777777778,
              "#fb9f3a"
             ],
             [
              0.8888888888888888,
              "#fdca26"
             ],
             [
              1,
              "#f0f921"
             ]
            ],
            "type": "contour"
           }
          ],
          "contourcarpet": [
           {
            "colorbar": {
             "outlinewidth": 0,
             "ticks": ""
            },
            "type": "contourcarpet"
           }
          ],
          "heatmap": [
           {
            "colorbar": {
             "outlinewidth": 0,
             "ticks": ""
            },
            "colorscale": [
             [
              0,
              "#0d0887"
             ],
             [
              0.1111111111111111,
              "#46039f"
             ],
             [
              0.2222222222222222,
              "#7201a8"
             ],
             [
              0.3333333333333333,
              "#9c179e"
             ],
             [
              0.4444444444444444,
              "#bd3786"
             ],
             [
              0.5555555555555556,
              "#d8576b"
             ],
             [
              0.6666666666666666,
              "#ed7953"
             ],
             [
              0.7777777777777778,
              "#fb9f3a"
             ],
             [
              0.8888888888888888,
              "#fdca26"
             ],
             [
              1,
              "#f0f921"
             ]
            ],
            "type": "heatmap"
           }
          ],
          "heatmapgl": [
           {
            "colorbar": {
             "outlinewidth": 0,
             "ticks": ""
            },
            "colorscale": [
             [
              0,
              "#0d0887"
             ],
             [
              0.1111111111111111,
              "#46039f"
             ],
             [
              0.2222222222222222,
              "#7201a8"
             ],
             [
              0.3333333333333333,
              "#9c179e"
             ],
             [
              0.4444444444444444,
              "#bd3786"
             ],
             [
              0.5555555555555556,
              "#d8576b"
             ],
             [
              0.6666666666666666,
              "#ed7953"
             ],
             [
              0.7777777777777778,
              "#fb9f3a"
             ],
             [
              0.8888888888888888,
              "#fdca26"
             ],
             [
              1,
              "#f0f921"
             ]
            ],
            "type": "heatmapgl"
           }
          ],
          "histogram": [
           {
            "marker": {
             "pattern": {
              "fillmode": "overlay",
              "size": 10,
              "solidity": 0.2
             }
            },
            "type": "histogram"
           }
          ],
          "histogram2d": [
           {
            "colorbar": {
             "outlinewidth": 0,
             "ticks": ""
            },
            "colorscale": [
             [
              0,
              "#0d0887"
             ],
             [
              0.1111111111111111,
              "#46039f"
             ],
             [
              0.2222222222222222,
              "#7201a8"
             ],
             [
              0.3333333333333333,
              "#9c179e"
             ],
             [
              0.4444444444444444,
              "#bd3786"
             ],
             [
              0.5555555555555556,
              "#d8576b"
             ],
             [
              0.6666666666666666,
              "#ed7953"
             ],
             [
              0.7777777777777778,
              "#fb9f3a"
             ],
             [
              0.8888888888888888,
              "#fdca26"
             ],
             [
              1,
              "#f0f921"
             ]
            ],
            "type": "histogram2d"
           }
          ],
          "histogram2dcontour": [
           {
            "colorbar": {
             "outlinewidth": 0,
             "ticks": ""
            },
            "colorscale": [
             [
              0,
              "#0d0887"
             ],
             [
              0.1111111111111111,
              "#46039f"
             ],
             [
              0.2222222222222222,
              "#7201a8"
             ],
             [
              0.3333333333333333,
              "#9c179e"
             ],
             [
              0.4444444444444444,
              "#bd3786"
             ],
             [
              0.5555555555555556,
              "#d8576b"
             ],
             [
              0.6666666666666666,
              "#ed7953"
             ],
             [
              0.7777777777777778,
              "#fb9f3a"
             ],
             [
              0.8888888888888888,
              "#fdca26"
             ],
             [
              1,
              "#f0f921"
             ]
            ],
            "type": "histogram2dcontour"
           }
          ],
          "mesh3d": [
           {
            "colorbar": {
             "outlinewidth": 0,
             "ticks": ""
            },
            "type": "mesh3d"
           }
          ],
          "parcoords": [
           {
            "line": {
             "colorbar": {
              "outlinewidth": 0,
              "ticks": ""
             }
            },
            "type": "parcoords"
           }
          ],
          "pie": [
           {
            "automargin": true,
            "type": "pie"
           }
          ],
          "scatter": [
           {
            "fillpattern": {
             "fillmode": "overlay",
             "size": 10,
             "solidity": 0.2
            },
            "type": "scatter"
           }
          ],
          "scatter3d": [
           {
            "line": {
             "colorbar": {
              "outlinewidth": 0,
              "ticks": ""
             }
            },
            "marker": {
             "colorbar": {
              "outlinewidth": 0,
              "ticks": ""
             }
            },
            "type": "scatter3d"
           }
          ],
          "scattercarpet": [
           {
            "marker": {
             "colorbar": {
              "outlinewidth": 0,
              "ticks": ""
             }
            },
            "type": "scattercarpet"
           }
          ],
          "scattergeo": [
           {
            "marker": {
             "colorbar": {
              "outlinewidth": 0,
              "ticks": ""
             }
            },
            "type": "scattergeo"
           }
          ],
          "scattergl": [
           {
            "marker": {
             "colorbar": {
              "outlinewidth": 0,
              "ticks": ""
             }
            },
            "type": "scattergl"
           }
          ],
          "scattermapbox": [
           {
            "marker": {
             "colorbar": {
              "outlinewidth": 0,
              "ticks": ""
             }
            },
            "type": "scattermapbox"
           }
          ],
          "scatterpolar": [
           {
            "marker": {
             "colorbar": {
              "outlinewidth": 0,
              "ticks": ""
             }
            },
            "type": "scatterpolar"
           }
          ],
          "scatterpolargl": [
           {
            "marker": {
             "colorbar": {
              "outlinewidth": 0,
              "ticks": ""
             }
            },
            "type": "scatterpolargl"
           }
          ],
          "scatterternary": [
           {
            "marker": {
             "colorbar": {
              "outlinewidth": 0,
              "ticks": ""
             }
            },
            "type": "scatterternary"
           }
          ],
          "surface": [
           {
            "colorbar": {
             "outlinewidth": 0,
             "ticks": ""
            },
            "colorscale": [
             [
              0,
              "#0d0887"
             ],
             [
              0.1111111111111111,
              "#46039f"
             ],
             [
              0.2222222222222222,
              "#7201a8"
             ],
             [
              0.3333333333333333,
              "#9c179e"
             ],
             [
              0.4444444444444444,
              "#bd3786"
             ],
             [
              0.5555555555555556,
              "#d8576b"
             ],
             [
              0.6666666666666666,
              "#ed7953"
             ],
             [
              0.7777777777777778,
              "#fb9f3a"
             ],
             [
              0.8888888888888888,
              "#fdca26"
             ],
             [
              1,
              "#f0f921"
             ]
            ],
            "type": "surface"
           }
          ],
          "table": [
           {
            "cells": {
             "fill": {
              "color": "#EBF0F8"
             },
             "line": {
              "color": "white"
             }
            },
            "header": {
             "fill": {
              "color": "#C8D4E3"
             },
             "line": {
              "color": "white"
             }
            },
            "type": "table"
           }
          ]
         },
         "layout": {
          "annotationdefaults": {
           "arrowcolor": "#2a3f5f",
           "arrowhead": 0,
           "arrowwidth": 1
          },
          "autotypenumbers": "strict",
          "coloraxis": {
           "colorbar": {
            "outlinewidth": 0,
            "ticks": ""
           }
          },
          "colorscale": {
           "diverging": [
            [
             0,
             "#8e0152"
            ],
            [
             0.1,
             "#c51b7d"
            ],
            [
             0.2,
             "#de77ae"
            ],
            [
             0.3,
             "#f1b6da"
            ],
            [
             0.4,
             "#fde0ef"
            ],
            [
             0.5,
             "#f7f7f7"
            ],
            [
             0.6,
             "#e6f5d0"
            ],
            [
             0.7,
             "#b8e186"
            ],
            [
             0.8,
             "#7fbc41"
            ],
            [
             0.9,
             "#4d9221"
            ],
            [
             1,
             "#276419"
            ]
           ],
           "sequential": [
            [
             0,
             "#0d0887"
            ],
            [
             0.1111111111111111,
             "#46039f"
            ],
            [
             0.2222222222222222,
             "#7201a8"
            ],
            [
             0.3333333333333333,
             "#9c179e"
            ],
            [
             0.4444444444444444,
             "#bd3786"
            ],
            [
             0.5555555555555556,
             "#d8576b"
            ],
            [
             0.6666666666666666,
             "#ed7953"
            ],
            [
             0.7777777777777778,
             "#fb9f3a"
            ],
            [
             0.8888888888888888,
             "#fdca26"
            ],
            [
             1,
             "#f0f921"
            ]
           ],
           "sequentialminus": [
            [
             0,
             "#0d0887"
            ],
            [
             0.1111111111111111,
             "#46039f"
            ],
            [
             0.2222222222222222,
             "#7201a8"
            ],
            [
             0.3333333333333333,
             "#9c179e"
            ],
            [
             0.4444444444444444,
             "#bd3786"
            ],
            [
             0.5555555555555556,
             "#d8576b"
            ],
            [
             0.6666666666666666,
             "#ed7953"
            ],
            [
             0.7777777777777778,
             "#fb9f3a"
            ],
            [
             0.8888888888888888,
             "#fdca26"
            ],
            [
             1,
             "#f0f921"
            ]
           ]
          },
          "colorway": [
           "#636efa",
           "#EF553B",
           "#00cc96",
           "#ab63fa",
           "#FFA15A",
           "#19d3f3",
           "#FF6692",
           "#B6E880",
           "#FF97FF",
           "#FECB52"
          ],
          "font": {
           "color": "#2a3f5f"
          },
          "geo": {
           "bgcolor": "white",
           "lakecolor": "white",
           "landcolor": "#E5ECF6",
           "showlakes": true,
           "showland": true,
           "subunitcolor": "white"
          },
          "hoverlabel": {
           "align": "left"
          },
          "hovermode": "closest",
          "mapbox": {
           "style": "light"
          },
          "paper_bgcolor": "white",
          "plot_bgcolor": "#E5ECF6",
          "polar": {
           "angularaxis": {
            "gridcolor": "white",
            "linecolor": "white",
            "ticks": ""
           },
           "bgcolor": "#E5ECF6",
           "radialaxis": {
            "gridcolor": "white",
            "linecolor": "white",
            "ticks": ""
           }
          },
          "scene": {
           "xaxis": {
            "backgroundcolor": "#E5ECF6",
            "gridcolor": "white",
            "gridwidth": 2,
            "linecolor": "white",
            "showbackground": true,
            "ticks": "",
            "zerolinecolor": "white"
           },
           "yaxis": {
            "backgroundcolor": "#E5ECF6",
            "gridcolor": "white",
            "gridwidth": 2,
            "linecolor": "white",
            "showbackground": true,
            "ticks": "",
            "zerolinecolor": "white"
           },
           "zaxis": {
            "backgroundcolor": "#E5ECF6",
            "gridcolor": "white",
            "gridwidth": 2,
            "linecolor": "white",
            "showbackground": true,
            "ticks": "",
            "zerolinecolor": "white"
           }
          },
          "shapedefaults": {
           "line": {
            "color": "#2a3f5f"
           }
          },
          "ternary": {
           "aaxis": {
            "gridcolor": "white",
            "linecolor": "white",
            "ticks": ""
           },
           "baxis": {
            "gridcolor": "white",
            "linecolor": "white",
            "ticks": ""
           },
           "bgcolor": "#E5ECF6",
           "caxis": {
            "gridcolor": "white",
            "linecolor": "white",
            "ticks": ""
           }
          },
          "title": {
           "x": 0.05
          },
          "xaxis": {
           "automargin": true,
           "gridcolor": "white",
           "linecolor": "white",
           "ticks": "",
           "title": {
            "standoff": 15
           },
           "zerolinecolor": "white",
           "zerolinewidth": 2
          },
          "yaxis": {
           "automargin": true,
           "gridcolor": "white",
           "linecolor": "white",
           "ticks": "",
           "title": {
            "standoff": 15
           },
           "zerolinecolor": "white",
           "zerolinewidth": 2
          }
         }
        },
        "title": {
         "text": "<b>Activity by Day of Week in 2024</b>"
        },
        "xaxis": {
         "title": {
          "text": "Day of Week"
         }
        },
        "yaxis": {
         "title": {
          "text": "Activity Count"
         }
        }
       }
      }
     },
     "metadata": {},
     "output_type": "display_data"
    }
   ],
   "source": [
    "fig5 = go.Figure(go.Scatter(x=df_dayofweek_active['Day of Week'],\n",
    "                            y=df_dayofweek_active['Sessions'],\n",
    "                            mode='lines+markers',\n",
    "                            showlegend=False))\n",
    "fig5.update_layout(title_text='<b>Activity by Day of Week in 2024</b>')\n",
    "fig5.update_xaxes(title_text='Day of Week')\n",
    "fig5.update_yaxes(title_text='Activity Count')\n",
    "fig5.show()"
   ]
  },
  {
   "cell_type": "code",
   "execution_count": 18,
   "metadata": {},
   "outputs": [
    {
     "data": {
      "application/vnd.plotly.v1+json": {
       "config": {
        "plotlyServerURL": "https://plot.ly"
       },
       "data": [
        {
         "name": "Monday",
         "showlegend": false,
         "type": "box",
         "y": [
          0.8,
          0.5,
          1.1333333333333333,
          1.4,
          2.1166666666666667,
          2.15,
          2.4166666666666665,
          0.6166666666666667,
          1.3,
          1.5166666666666666,
          1.2833333333333334,
          2.85,
          1.8166666666666667,
          0.5,
          0.7833333333333333,
          2.9,
          1.4666666666666666,
          2.4,
          2.85,
          1.3333333333333333,
          2.7333333333333334,
          2.2333333333333334,
          0.5,
          2.466666666666667,
          2.1,
          1.9,
          2.183333333333333,
          2.283333333333333,
          2.05,
          2.3833333333333333,
          1.5833333333333333,
          1.3333333333333333,
          1.9333333333333333,
          2.5833333333333335,
          1.1666666666666667,
          0.75,
          2.85,
          1.4,
          1.8666666666666667,
          1.6,
          0.6166666666666667,
          0.7166666666666667,
          1.75,
          1.2666666666666666,
          2.05,
          1.8166666666666667,
          2.466666666666667,
          1.15,
          2.283333333333333,
          0.8333333333333334,
          2.7333333333333334,
          1.75,
          0.6,
          2.15,
          1.3666666666666667,
          0.9,
          1.45,
          1.25,
          2.966666666666667,
          2.3333333333333335,
          1.7833333333333334,
          1.8333333333333333,
          1.5166666666666666,
          2.533333333333333,
          2.6333333333333333,
          0.5333333333333333,
          0.7833333333333333,
          2.1,
          2.6,
          2.683333333333333,
          2.683333333333333,
          2.4,
          1.0166666666666666,
          1.25,
          2.3833333333333333,
          1.95,
          1.4166666666666667,
          2.9166666666666665,
          2.15,
          1.8,
          2.4166666666666665,
          1.3333333333333333,
          2.783333333333333,
          0.6,
          1.5666666666666667,
          2.55,
          2.7333333333333334,
          1.05,
          2.8666666666666667,
          0.8166666666666667,
          2.15,
          2.3833333333333333,
          1.3333333333333333,
          1.05,
          1.0833333333333333,
          2.95,
          2.8833333333333333,
          1.1,
          0.5166666666666667,
          2.4166666666666665,
          3,
          1.8666666666666667,
          2.566666666666667,
          2.183333333333333,
          1.7,
          0.9666666666666667,
          1,
          1.6833333333333333,
          2.433333333333333,
          0.6333333333333333,
          1.9333333333333333,
          1.4666666666666666,
          1.85,
          0.5333333333333333,
          0.6666666666666666,
          2.4833333333333334,
          1.8166666666666667,
          2.4166666666666665,
          1.2166666666666666,
          0.65,
          1.3,
          0.6833333333333333,
          1.1333333333333333,
          2.9833333333333334,
          0.5666666666666667,
          1.8166666666666667,
          1.95,
          0.5833333333333334,
          2.9,
          2.2333333333333334,
          1.6333333333333333,
          2,
          2.65,
          0.7,
          0.9666666666666667,
          1.0166666666666666,
          2.4,
          2.0833333333333335,
          2.8666666666666667,
          1.9833333333333334,
          2.716666666666667,
          0.6,
          2.0833333333333335,
          1.8333333333333333,
          2,
          1.3166666666666667,
          2.5833333333333335,
          2.716666666666667,
          1.9666666666666666,
          0.9,
          1.4666666666666666,
          2.6666666666666665,
          0.65,
          2.683333333333333,
          0.6833333333333333,
          2.1666666666666665,
          2.933333333333333,
          0.65,
          2.15,
          1.5833333333333333,
          2.15,
          0.7,
          2.466666666666667,
          2.783333333333333,
          0.7,
          1.1166666666666667,
          1.7666666666666666,
          1.15,
          0.7833333333333333,
          2.683333333333333,
          2.283333333333333,
          2.55,
          1.9833333333333334,
          1.7666666666666666,
          2.533333333333333,
          2.3833333333333333,
          1.25,
          2.6666666666666665,
          2.7666666666666666,
          1.8,
          0.9166666666666666,
          2.75,
          1.9166666666666667,
          1.5,
          0.8,
          0.6,
          1.15,
          0.9666666666666667,
          2.783333333333333,
          2.8833333333333333,
          2.9166666666666665,
          1.3,
          1.7166666666666666,
          1.3666666666666667,
          0.9166666666666666,
          0.8666666666666667,
          0.8166666666666667,
          1.5833333333333333,
          1.3166666666666667,
          1.6833333333333333,
          1.2833333333333334,
          1.95,
          2.35,
          1.9666666666666666,
          2.6166666666666667,
          2.933333333333333,
          1.85,
          2.9166666666666665,
          1.05,
          0.65,
          1.2166666666666666,
          1.6833333333333333,
          0.6833333333333333,
          0.9166666666666666,
          0.8,
          2.716666666666667,
          2.9,
          1.7,
          2.4166666666666665,
          2.8333333333333335,
          2.8,
          1.1166666666666667,
          1.75,
          1.45,
          1.3,
          2.683333333333333,
          1.15,
          2.55,
          2.216666666666667,
          2.5,
          0.75,
          2.433333333333333,
          0.7333333333333333,
          1.6,
          1.7166666666666666,
          1.5166666666666666,
          2.9833333333333334,
          2.2333333333333334,
          2.15,
          2.316666666666667,
          0.6833333333333333,
          2.2666666666666666,
          2.5833333333333335,
          2.716666666666667,
          2.8333333333333335,
          2.45,
          2.3833333333333333,
          2.5833333333333335,
          0.95,
          2.8,
          1.2833333333333334,
          2.566666666666667,
          0.8166666666666667,
          1.8666666666666667,
          2.35,
          2.4,
          2.5,
          2.316666666666667,
          2.8666666666666667,
          2.216666666666667,
          2.4,
          1.3166666666666667,
          2.35,
          2.066666666666667,
          2.566666666666667,
          2.85,
          1.5166666666666666,
          2.6166666666666667,
          2.2333333333333334,
          1.1833333333333333,
          1.9166666666666667,
          2.25,
          2.566666666666667,
          1.4166666666666667,
          2.183333333333333,
          1.8166666666666667,
          2.7333333333333334,
          2.7333333333333334,
          1.5166666666666666,
          2.1,
          2.8333333333333335,
          0.7333333333333333,
          2.0833333333333335,
          0.6166666666666667,
          2.216666666666667,
          2.216666666666667,
          0.8,
          1.1,
          0.95,
          1.0666666666666667,
          2.566666666666667,
          0.5,
          1.7666666666666666,
          2.8833333333333333,
          2.6,
          2.2666666666666666,
          1.45,
          1.3666666666666667,
          0.8833333333333333,
          2.933333333333333,
          1.5833333333333333,
          2.183333333333333,
          1.1666666666666667,
          1.8833333333333333,
          0.9666666666666667,
          2.933333333333333,
          1.9333333333333333,
          1.85,
          1.0666666666666667,
          2.033333333333333,
          2.566666666666667,
          0.8,
          2.7,
          1.7166666666666666,
          1.6666666666666667,
          2,
          2.816666666666667,
          0.65,
          1.4666666666666666,
          1.35,
          0.6666666666666666,
          1.3333333333333333,
          2.4833333333333334,
          1.4666666666666666,
          1.5,
          2.1333333333333333,
          1.8,
          2.5,
          1,
          2.783333333333333,
          1.1166666666666667,
          1.4166666666666667,
          2.316666666666667,
          2.1166666666666667,
          1.55,
          1.4166666666666667,
          1.0166666666666666,
          0.65,
          2.183333333333333,
          1.3333333333333333,
          1.6166666666666667,
          2.566666666666667,
          2.15,
          2.8,
          2.3833333333333333,
          2.8,
          0.85,
          1.85,
          1.8,
          1.0833333333333333,
          1.15,
          2.9166666666666665,
          2.3833333333333333,
          2.683333333333333,
          1.9166666666666667,
          1.7833333333333334,
          1.4,
          2.6333333333333333,
          1.3166666666666667,
          2.466666666666667,
          1.4666666666666666,
          2.183333333333333,
          1.2666666666666666,
          2.1166666666666667,
          0.75,
          1,
          2.05,
          1.25,
          1.3166666666666667,
          2.3666666666666667,
          1.5333333333333334,
          1.15,
          0.9833333333333333,
          1.0166666666666666,
          1.6833333333333333,
          1.35,
          0.5333333333333333,
          1.2166666666666666,
          2.75,
          1.05,
          1.95,
          0.6333333333333333,
          1.7166666666666666,
          2.7,
          1.0666666666666667,
          1.8166666666666667,
          0.75,
          1.7333333333333334,
          2.4833333333333334,
          1.5333333333333334,
          1.1166666666666667,
          2.783333333333333,
          2.8833333333333333,
          1.55,
          0.9166666666666666,
          1.85,
          1.0666666666666667,
          2.966666666666667,
          2.1333333333333333,
          2.783333333333333,
          0.75,
          0.6166666666666667,
          2.2,
          2.783333333333333,
          1.5666666666666667,
          1.3666666666666667,
          2.4166666666666665,
          0.6166666666666667,
          0.5166666666666667,
          1.8833333333333333,
          0.8,
          2.816666666666667,
          2.0833333333333335,
          0.6166666666666667,
          0.6166666666666667,
          1.9833333333333334,
          1.95,
          1.3,
          2.45,
          1.6,
          1.6,
          2.8666666666666667,
          1.4333333333333333,
          1.1333333333333333,
          0.65,
          1.5666666666666667,
          1.5833333333333333,
          1.95,
          1.7333333333333334,
          0.6,
          1.2,
          1.8666666666666667,
          0.6166666666666667,
          0.8,
          2.2666666666666666,
          1.5833333333333333,
          2.3333333333333335,
          1.55,
          1.3166666666666667,
          0.8666666666666667,
          1.9,
          1.95,
          2.15,
          2.7666666666666666,
          2.5833333333333335,
          2.2,
          1.45,
          1.05,
          1.3,
          2.9166666666666665,
          2.816666666666667,
          0.85,
          2.2666666666666666,
          2.9,
          1.6166666666666667,
          1.5333333333333334,
          1.0833333333333333,
          0.6166666666666667,
          0.6833333333333333,
          2.7,
          1.4,
          0.9833333333333333,
          1.5166666666666666,
          2.8,
          2.3833333333333333,
          2.033333333333333,
          1.2666666666666666,
          0.55,
          1.4166666666666667,
          0.9833333333333333,
          2.433333333333333,
          1.6666666666666667,
          2.25,
          1.8,
          2.2333333333333334,
          2.6333333333333333,
          2.316666666666667,
          0.6833333333333333,
          0.8666666666666667,
          2.683333333333333,
          2.3333333333333335,
          1.7666666666666666,
          0.85,
          2.4166666666666665,
          0.8166666666666667,
          1.45,
          2.3833333333333333,
          2.683333333333333,
          1.7166666666666666,
          1.4166666666666667,
          1.4,
          2.2,
          1.6333333333333333,
          0.55,
          1.9166666666666667,
          0.6,
          2.183333333333333,
          2.2333333333333334,
          1.9333333333333333,
          2.3833333333333333,
          1.15,
          1,
          2.25,
          1.6666666666666667,
          2.216666666666667,
          2.183333333333333,
          1.35,
          2.5
         ]
        },
        {
         "name": "Tuesday",
         "showlegend": false,
         "type": "box",
         "y": [
          1.9333333333333333,
          1.35,
          2.033333333333333,
          2.6333333333333333,
          1.4666666666666666,
          0.85,
          2.316666666666667,
          0.7666666666666667,
          3,
          0.65,
          2.1,
          2.6,
          2.7,
          2.033333333333333,
          2.6666666666666665,
          0.85,
          1.0333333333333334,
          2.6,
          2.283333333333333,
          2.15,
          1.9833333333333334,
          1.75,
          1.8333333333333333,
          1.3,
          0.5833333333333334,
          0.7166666666666667,
          2.9833333333333334,
          1.5666666666666667,
          3,
          2.05,
          2.7,
          2.0166666666666666,
          2.033333333333333,
          2.15,
          2.65,
          2.2666666666666666,
          0.8833333333333333,
          2.2666666666666666,
          2.1,
          1.8333333333333333,
          2.8333333333333335,
          0.6333333333333333,
          2.933333333333333,
          1.4333333333333333,
          1.6333333333333333,
          1.4833333333333334,
          1.0166666666666666,
          0.7833333333333333,
          1.1166666666666667,
          1.75,
          1.1666666666666667,
          1.7833333333333334,
          1.5666666666666667,
          1.0833333333333333,
          2.3333333333333335,
          2.4833333333333334,
          1.3,
          0.55,
          1.5833333333333333,
          2.933333333333333,
          1.5333333333333334,
          2.683333333333333,
          2.5833333333333335,
          2.7666666666666666,
          1.6333333333333333,
          1.7166666666666666,
          2.7333333333333334,
          0.9166666666666666,
          1.9666666666666666,
          2.85,
          1.1833333333333333,
          1.0333333333333334,
          1.95,
          0.85,
          2.7666666666666666,
          1.4166666666666667,
          0.9,
          1.3666666666666667,
          1.8833333333333333,
          2.466666666666667,
          0.55,
          0.9666666666666667,
          2.2333333333333334,
          1.6666666666666667,
          1.7,
          2.0166666666666666,
          0.9833333333333333,
          1.4,
          1.7666666666666666,
          1.5333333333333334,
          1.65,
          1.5,
          2.25,
          2.8333333333333335,
          2.1666666666666665,
          2.1333333333333333,
          2.566666666666667,
          0.8666666666666667,
          2.75,
          1.2333333333333334,
          1.0333333333333334,
          2.033333333333333,
          2.8833333333333333,
          1.1,
          0.7,
          0.7833333333333333,
          2.5,
          2.45,
          0.75,
          1.4666666666666666,
          1.6166666666666667,
          0.6833333333333333,
          0.5166666666666667,
          1.8,
          1.45,
          1.7166666666666666,
          1.1333333333333333,
          0.7666666666666667,
          2.316666666666667,
          1.8,
          2.433333333333333,
          0.6333333333333333,
          2.5,
          1.3833333333333333,
          2.5166666666666666,
          2.9,
          1.3333333333333333,
          1.4,
          1,
          1.0833333333333333,
          2.533333333333333,
          1.7666666666666666,
          1.45,
          2.7,
          0.6,
          2.816666666666667,
          1.5833333333333333,
          2.6333333333333333,
          0.65,
          1.5166666666666666,
          1.7166666666666666,
          1.25,
          1.7666666666666666,
          1.55,
          1.1,
          2.35,
          1.4333333333333333,
          1.3666666666666667,
          2.8333333333333335,
          1.1666666666666667,
          1.3333333333333333,
          1.1,
          2.0833333333333335,
          2.8333333333333335,
          1.0666666666666667,
          1.85,
          2.0166666666666666,
          2.4,
          1.15,
          2.15,
          0.5833333333333334,
          1.3666666666666667,
          2.15,
          1.2333333333333334,
          1.4833333333333334,
          2.5833333333333335,
          0.9,
          2.3833333333333333,
          2.8666666666666667,
          1.4166666666666667,
          0.65,
          2.6,
          0.6166666666666667,
          1.45,
          1.3,
          0.5666666666666667,
          1.5,
          2.6,
          1.8166666666666667,
          1.4833333333333334,
          1.7333333333333334,
          1.7666666666666666,
          2.95,
          0.7333333333333333,
          2.783333333333333,
          1.05,
          0.6,
          1.0166666666666666,
          2.5,
          2.5,
          1.4,
          1.45,
          1.05,
          0.75,
          1.65,
          2.566666666666667,
          1.9,
          2.783333333333333,
          2.433333333333333,
          0.7166666666666667,
          2.816666666666667,
          2.85,
          1.9,
          0.9166666666666666,
          1.95,
          2.683333333333333,
          2.5166666666666666,
          1.8333333333333333,
          0.6666666666666666,
          2.6,
          1.6833333333333333,
          1,
          1.9,
          1.0833333333333333,
          1.0166666666666666,
          1.6833333333333333,
          1.55,
          2.8333333333333335,
          2.466666666666667,
          2.2333333333333334,
          2.533333333333333,
          1.0666666666666667,
          0.7666666666666667,
          0.8833333333333333,
          0.95,
          0.5833333333333334,
          2.75,
          0.5,
          2.85,
          0.95,
          2.9166666666666665,
          1.7666666666666666,
          1.4666666666666666,
          0.7,
          2.0833333333333335,
          0.65,
          2.433333333333333,
          2.183333333333333,
          1.6333333333333333,
          2.283333333333333,
          0.6666666666666666,
          1.1166666666666667,
          0.9666666666666667,
          2.65,
          0.8833333333333333,
          1,
          0.8833333333333333,
          0.5666666666666667,
          2.35,
          2.7333333333333334,
          2.45,
          2,
          1.6333333333333333,
          1.8833333333333333,
          2.2333333333333334,
          1.1166666666666667,
          1.1666666666666667,
          1.45,
          0.9666666666666667,
          2.783333333333333,
          0.5666666666666667,
          1.9,
          2.35,
          1.3333333333333333,
          1.2,
          2.683333333333333,
          2.933333333333333,
          1.3666666666666667,
          1.4,
          2.2333333333333334,
          2.95,
          2.45,
          0.8,
          1.5333333333333334,
          2.55,
          1.05,
          0.55,
          2.5166666666666666,
          1.3,
          1.1333333333333333,
          1.8666666666666667,
          1,
          1.9166666666666667,
          1.55,
          1.8833333333333333,
          0.8666666666666667,
          1.0166666666666666,
          2.4,
          1.8833333333333333,
          1.4166666666666667,
          2.3,
          1.9166666666666667,
          1.2,
          2.75,
          1.5833333333333333,
          0.8,
          0.7833333333333333,
          0.7166666666666667,
          1.0833333333333333,
          2.1666666666666665,
          1.9666666666666666,
          2.0833333333333335,
          0.9,
          2.9166666666666665,
          1.9,
          0.8666666666666667,
          2.1666666666666665,
          2.4,
          1.3,
          1.6333333333333333,
          2.3666666666666667,
          0.9833333333333333,
          1.15,
          2.7,
          1.55,
          1.2666666666666666,
          2.8833333333333333,
          2.566666666666667,
          2.433333333333333,
          2.183333333333333,
          3,
          1.3166666666666667,
          1.3,
          1.3166666666666667,
          0.9,
          1.7833333333333334,
          2.35,
          1.7833333333333334,
          1.8,
          1.7,
          2.1166666666666667,
          0.7166666666666667,
          0.9666666666666667,
          0.6333333333333333,
          1.8833333333333333,
          2.2,
          2.2666666666666666,
          1.3,
          0.9166666666666666,
          1.9,
          2.8,
          1.0333333333333334,
          0.9333333333333333,
          1.1166666666666667,
          0.7833333333333333,
          1.9166666666666667,
          1.7166666666666666,
          1,
          2.3333333333333335,
          2.9166666666666665,
          2.1166666666666667,
          0.9333333333333333,
          2.183333333333333,
          2.7,
          1.7666666666666666,
          1.3166666666666667,
          2.066666666666667,
          0.95,
          2.4166666666666665,
          1.4333333333333333,
          2.95,
          2.3,
          1.3166666666666667,
          2.6166666666666667,
          1.2,
          0.7666666666666667,
          1.3166666666666667,
          2.7333333333333334,
          1.3166666666666667,
          0.9333333333333333,
          0.9166666666666666,
          0.9,
          1.5333333333333334,
          2.216666666666667,
          0.7666666666666667,
          1.95,
          1.45,
          0.8833333333333333,
          2.6166666666666667,
          1.7666666666666666,
          2,
          0.8666666666666667,
          2.316666666666667,
          2.0833333333333335,
          1.9166666666666667,
          0.9166666666666666,
          1.2666666666666666,
          2.2666666666666666,
          1.1333333333333333,
          1.35,
          2.8,
          2.6166666666666667,
          2.05,
          2.9166666666666665,
          1.3666666666666667,
          1.9666666666666666,
          2.033333333333333,
          2.9,
          3,
          2.183333333333333,
          1.2166666666666666,
          1.1833333333333333,
          1.5333333333333334,
          0.65,
          1.7666666666666666,
          1.6,
          2.966666666666667,
          0.7666666666666667,
          1.1333333333333333,
          2.4166666666666665,
          1.9833333333333334,
          0.75,
          1.7666666666666666,
          1.15,
          1.35,
          1.4,
          2.183333333333333,
          1.9833333333333334,
          2.4833333333333334,
          2.6666666666666665,
          1.8166666666666667,
          2.8,
          1.6166666666666667,
          1.25,
          1.8333333333333333,
          1.9166666666666667,
          1.3333333333333333,
          2.7333333333333334,
          0.5,
          0.7,
          2.9166666666666665,
          1.4,
          1.6,
          0.9666666666666667,
          1.4833333333333334,
          0.5666666666666667,
          1.1166666666666667,
          1.7166666666666666,
          2.45,
          1.3833333333333333,
          2.216666666666667,
          1.45,
          1.7333333333333334,
          0.6,
          3,
          1.4166666666666667,
          2.1333333333333333,
          0.7333333333333333,
          2.683333333333333,
          2.05,
          2.05,
          2.75,
          1.7833333333333334,
          0.6166666666666667,
          1.5333333333333334,
          1.3,
          2.466666666666667,
          1.0333333333333334,
          1.85,
          1.4666666666666666,
          1.4,
          2.4833333333333334,
          3,
          0.65,
          2.8833333333333333,
          0.8833333333333333,
          1.1333333333333333,
          2.933333333333333,
          2.6,
          1.5666666666666667,
          1.95,
          1.7333333333333334,
          1.3166666666666667,
          1.3333333333333333,
          2.433333333333333,
          2.6,
          2.6666666666666665,
          2.85,
          1.2833333333333334,
          1.6166666666666667,
          1.1833333333333333,
          0.7666666666666667,
          1.4833333333333334,
          1.6666666666666667,
          1.9166666666666667,
          2.8,
          2.9166666666666665,
          1.5833333333333333,
          1.8,
          2.316666666666667,
          2.75,
          2.4166666666666665,
          2.566666666666667,
          1.1666666666666667,
          1.55,
          2.05,
          1.1333333333333333,
          2.2333333333333334,
          1.0833333333333333,
          1.1166666666666667,
          0.8166666666666667,
          1.6333333333333333,
          1.35,
          0.55,
          1.35,
          2.216666666666667,
          2.45,
          1,
          1.6833333333333333,
          0.65,
          2.3333333333333335,
          1.9,
          2.8333333333333335,
          1.7,
          1.05,
          2.8666666666666667,
          2.0166666666666666,
          2.933333333333333,
          2.2,
          2.966666666666667,
          0.6,
          1.3333333333333333,
          2.6666666666666665,
          0.6166666666666667,
          1.1666666666666667,
          0.8833333333333333,
          0.9666666666666667,
          0.55,
          1.4333333333333333
         ]
        },
        {
         "name": "Wednesday",
         "showlegend": false,
         "type": "box",
         "y": [
          2.5833333333333335,
          2.216666666666667,
          0.75,
          1.5166666666666666,
          1.3333333333333333,
          2.066666666666667,
          0.65,
          1.05,
          2.0833333333333335,
          0.8666666666666667,
          2.85,
          2.533333333333333,
          2.7333333333333334,
          0.9833333333333333,
          1.8833333333333333,
          1.6833333333333333,
          2.8333333333333335,
          0.6833333333333333,
          0.5833333333333334,
          2.8666666666666667,
          0.8,
          1.7166666666666666,
          2.716666666666667,
          1.7333333333333334,
          1.3,
          2.966666666666667,
          2.8333333333333335,
          1.85,
          1.15,
          1.85,
          2.5833333333333335,
          2.933333333333333,
          0.8333333333333334,
          0.55,
          3,
          1.0333333333333334,
          1.85,
          1.3,
          2.85,
          2.466666666666667,
          0.9666666666666667,
          2.6666666666666665,
          2.033333333333333,
          1.4166666666666667,
          2.9166666666666665,
          2.2666666666666666,
          1.9333333333333333,
          2.066666666666667,
          1.5666666666666667,
          2.1,
          0.7333333333333333,
          2.033333333333333,
          1.65,
          2.283333333333333,
          2.0166666666666666,
          1.65,
          2.25,
          1.9166666666666667,
          2.25,
          0.9333333333333333,
          1.4166666666666667,
          1.85,
          2.216666666666667,
          2.65,
          1.8,
          1.6666666666666667,
          2.566666666666667,
          2.55,
          2.4166666666666665,
          0.8166666666666667,
          2.5833333333333335,
          2.75,
          2.8666666666666667,
          2.9833333333333334,
          2.3333333333333335,
          0.75,
          0.6166666666666667,
          2.9833333333333334,
          2.3333333333333335,
          0.9166666666666666,
          1.65,
          1.8333333333333333,
          0.6666666666666666,
          2.816666666666667,
          2.1333333333333333,
          1.5333333333333334,
          0.9333333333333333,
          1.3,
          1.5166666666666666,
          1.7,
          1.8166666666666667,
          1.9333333333333333,
          0.8666666666666667,
          2.3333333333333335,
          1.5166666666666666,
          2.1666666666666665,
          2.8666666666666667,
          1.05,
          2.6666666666666665,
          2.3833333333333333,
          2.7,
          0.7666666666666667,
          0.9666666666666667,
          1.7833333333333334,
          0.6833333333333333,
          0.9,
          1.7666666666666666,
          0.7,
          2.3666666666666667,
          1.7833333333333334,
          1.7833333333333334,
          2.6333333333333333,
          1.2166666666666666,
          2.4166666666666665,
          1.7833333333333334,
          1.5833333333333333,
          1.4166666666666667,
          0.7333333333333333,
          1.7833333333333334,
          0.85,
          0.5333333333333333,
          0.5,
          0.5833333333333334,
          1.55,
          1.8166666666666667,
          1.65,
          0.5333333333333333,
          2.25,
          1.45,
          2.1,
          2.316666666666667,
          2.216666666666667,
          1.6166666666666667,
          0.85,
          0.5833333333333334,
          2.2333333333333334,
          2.9833333333333334,
          2.55,
          2.9166666666666665,
          2.15,
          1.8166666666666667,
          1.7166666666666666,
          1.1833333333333333,
          1.4833333333333334,
          2.6,
          0.75,
          0.8333333333333334,
          0.65,
          1.7666666666666666,
          2.6166666666666667,
          2.3,
          1.4166666666666667,
          1.6166666666666667,
          2.3833333333333333,
          2.5833333333333335,
          1.1166666666666667,
          2.8,
          1.1666666666666667,
          2.1166666666666667,
          2.2,
          2.7,
          1.6333333333333333,
          2.9833333333333334,
          1.1333333333333333,
          1.9666666666666666,
          1.5166666666666666,
          1.9833333333333334,
          1.2833333333333334,
          1.6166666666666667,
          1.5666666666666667,
          2.0166666666666666,
          1.9833333333333334,
          2.433333333333333,
          1.2,
          2.8333333333333335,
          2.2333333333333334,
          1.05,
          0.5833333333333334,
          1.8333333333333333,
          1.05,
          2.783333333333333,
          2.3333333333333335,
          0.9,
          2.3833333333333333,
          1.7833333333333334,
          2.2666666666666666,
          1.75,
          1.9833333333333334,
          1.7666666666666666,
          1.25,
          0.6833333333333333,
          2.35,
          1.45,
          2.35,
          2,
          2.6166666666666667,
          2.933333333333333,
          2.9,
          0.5833333333333334,
          1.45,
          1.4166666666666667,
          1.5833333333333333,
          0.6,
          0.7,
          1.0166666666666666,
          2.433333333333333,
          2.3833333333333333,
          2.95,
          2.5,
          1.35,
          2.1333333333333333,
          1.8166666666666667,
          1.4666666666666666,
          2.4833333333333334,
          1.9,
          1.95,
          2.6666666666666665,
          1.2166666666666666,
          2.566666666666667,
          1.15,
          0.9166666666666666,
          1.8,
          1.95,
          0.75,
          2.7333333333333334,
          1.55,
          0.7666666666666667,
          2.1666666666666665,
          2.7666666666666666,
          2.9833333333333334,
          1.0166666666666666,
          1.3333333333333333,
          2.6166666666666667,
          2.3,
          1.25,
          0.6833333333333333,
          1.0166666666666666,
          2.033333333333333,
          2.2666666666666666,
          1.1,
          1.3333333333333333,
          1.7833333333333334,
          2.45,
          2.316666666666667,
          1.05,
          2.3333333333333335,
          2.066666666666667,
          2.2333333333333334,
          1.9333333333333333,
          0.5666666666666667,
          1.0333333333333334,
          2.6666666666666665,
          1.2333333333333334,
          1.6833333333333333,
          1.6166666666666667,
          2.15,
          2.183333333333333,
          2.033333333333333,
          0.9833333333333333,
          1.05,
          0.5333333333333333,
          1.6166666666666667,
          1.0666666666666667,
          2.25,
          2.2666666666666666,
          2.75,
          1.2166666666666666,
          1.4166666666666667,
          2.4166666666666665,
          0.95,
          1.8,
          2.2666666666666666,
          1.95,
          2.466666666666667,
          2.5,
          2.316666666666667,
          0.8166666666666667,
          1.7166666666666666,
          2.3666666666666667,
          2.5166666666666666,
          2.45,
          2.25,
          0.95,
          1.25,
          1.5,
          2.9833333333333334,
          1.0833333333333333,
          1.8,
          2.95,
          1.3,
          2.65,
          0.9166666666666666,
          0.5666666666666667,
          1.1,
          0.55,
          0.6833333333333333,
          1.3666666666666667,
          2.7666666666666666,
          2.5,
          1.7166666666666666,
          0.95,
          1.3,
          0.6333333333333333,
          1.3,
          1.4833333333333334,
          1.8833333333333333,
          2.066666666666667,
          1.8333333333333333,
          2.6166666666666667,
          1.1333333333333333,
          1.45,
          1.3333333333333333,
          2.85,
          1.4333333333333333,
          0.9666666666666667,
          1.7666666666666666,
          1.5666666666666667,
          1.3666666666666667,
          1.4833333333333334,
          1.9833333333333334,
          2.5166666666666666,
          2.4,
          1.8833333333333333,
          1.9,
          1.45,
          1.35,
          1.85,
          0.6666666666666666,
          0.5,
          1.5,
          2.283333333333333,
          0.5166666666666667,
          3,
          1.8333333333333333,
          1.0166666666666666,
          2.15,
          1.8166666666666667,
          2.45,
          0.75,
          1,
          1.9,
          2.7666666666666666,
          2.3833333333333333,
          1.5666666666666667,
          2.783333333333333,
          0.5,
          0.7,
          2.7333333333333334,
          0.6666666666666666,
          2.5166666666666666,
          1.2666666666666666,
          2.4833333333333334,
          2.8,
          2.55,
          1.2666666666666666,
          2.066666666666667,
          2.95,
          1.8166666666666667,
          1,
          2.466666666666667,
          1.8,
          0.7833333333333333,
          1.5166666666666666,
          0.8,
          2.8,
          1.45,
          2.15,
          1.5666666666666667,
          0.8333333333333334,
          0.9833333333333333,
          0.8666666666666667,
          2.4833333333333334,
          2.6,
          2.4166666666666665,
          2.966666666666667,
          1.65,
          2.9833333333333334,
          1.9166666666666667,
          0.9,
          1.8333333333333333,
          1.7666666666666666,
          2.433333333333333,
          0.8,
          1.9666666666666666,
          2.75,
          0.7,
          0.75,
          0.6166666666666667,
          0.6,
          0.8833333333333333,
          1.1666666666666667,
          0.7166666666666667,
          1.2666666666666666,
          2.45,
          2.183333333333333,
          0.5833333333333334,
          1.35,
          1.5333333333333334,
          1.9333333333333333,
          1,
          2.4833333333333334,
          0.7166666666666667,
          1.9166666666666667,
          2.033333333333333,
          1.3166666666666667,
          0.5666666666666667,
          2.1,
          2.2,
          2.533333333333333,
          0.7333333333333333,
          1.8166666666666667,
          2.0833333333333335,
          2.8,
          0.9833333333333333,
          0.8833333333333333,
          1.3,
          0.6,
          2.95,
          0.55,
          1.4833333333333334,
          1.25,
          2.6166666666666667,
          1.6,
          0.5833333333333334,
          0.8166666666666667,
          0.9666666666666667,
          2.3833333333333333,
          2.35,
          1.65,
          1.4333333333333333,
          1.1166666666666667,
          1.7166666666666666,
          2.1666666666666665,
          1.9666666666666666,
          1.5166666666666666,
          1.7333333333333334,
          1.7333333333333334,
          0.6833333333333333,
          1.6166666666666667,
          2.0833333333333335,
          0.6333333333333333,
          1.4166666666666667,
          1.7833333333333334,
          2.2666666666666666,
          2.433333333333333,
          1.9666666666666666,
          1.5,
          2.65,
          2.5833333333333335,
          1,
          2.933333333333333,
          2.533333333333333,
          0.5333333333333333,
          1.35,
          1.6333333333333333,
          2.3333333333333335,
          1.8833333333333333,
          2.35,
          1.2666666666666666,
          2.283333333333333,
          0.7,
          1.7833333333333334,
          1.5833333333333333,
          1.45,
          2.15,
          1.4333333333333333,
          2.2,
          1,
          1.2,
          0.9333333333333333,
          0.5,
          2.2,
          0.5833333333333334,
          2.8333333333333335,
          0.65,
          0.5,
          1.1666666666666667,
          2.1166666666666667,
          1.7,
          0.7333333333333333,
          2.7666666666666666,
          2.8333333333333335,
          1.7666666666666666,
          0.7333333333333333,
          2.933333333333333,
          1.9,
          0.8833333333333333,
          1.1,
          2.4833333333333334,
          2.1666666666666665,
          0.5166666666666667,
          0.8666666666666667,
          0.6,
          0.7333333333333333,
          0.5333333333333333,
          2.7666666666666666,
          0.8833333333333333,
          1.8,
          2.0166666666666666,
          1.0166666666666666,
          2.316666666666667,
          0.7333333333333333,
          0.8333333333333334,
          2.183333333333333,
          2.683333333333333,
          1.45,
          1.0166666666666666,
          0.8833333333333333,
          1.2166666666666666,
          1.2666666666666666,
          1.2833333333333334,
          1.1833333333333333,
          1.2666666666666666,
          1.65,
          2.5,
          0.95,
          0.5666666666666667,
          1.6333333333333333,
          2.8833333333333333,
          2.9833333333333334,
          2.3,
          1.45,
          2,
          1.1166666666666667,
          0.9833333333333333,
          2.15,
          0.8666666666666667,
          1.25,
          2.066666666666667,
          2.433333333333333,
          1.2666666666666666,
          1.6166666666666667,
          1.7,
          2.3333333333333335,
          1.9,
          1.95,
          0.5833333333333334,
          2.0833333333333335,
          1.2,
          1.2666666666666666,
          0.8,
          1.2833333333333334,
          0.8,
          2.7,
          0.8166666666666667,
          2.35,
          1.25,
          1.2,
          2.566666666666667
         ]
        },
        {
         "name": "Thursday",
         "showlegend": false,
         "type": "box",
         "y": [
          2.3333333333333335,
          2.216666666666667,
          2.433333333333333,
          1.1833333333333333,
          0.7666666666666667,
          3,
          0.5,
          1.7833333333333334,
          1.8,
          2.033333333333333,
          0.8666666666666667,
          0.7333333333333333,
          2.933333333333333,
          2.183333333333333,
          0.65,
          2,
          1.8833333333333333,
          1.8666666666666667,
          2.216666666666667,
          1.3666666666666667,
          1.3,
          2.2666666666666666,
          2.816666666666667,
          0.95,
          2.35,
          0.9333333333333333,
          1.15,
          2.8833333333333333,
          1.7666666666666666,
          2.216666666666667,
          1.95,
          2.183333333333333,
          0.5666666666666667,
          1.5166666666666666,
          1.9333333333333333,
          1.6,
          2.2,
          2.066666666666667,
          2.2333333333333334,
          0.7833333333333333,
          0.6666666666666666,
          2.033333333333333,
          2.0833333333333335,
          0.7333333333333333,
          2.85,
          0.6,
          1.3166666666666667,
          1.6,
          3,
          1.3666666666666667,
          1.9333333333333333,
          1.6333333333333333,
          2.2666666666666666,
          0.6166666666666667,
          1.6,
          2.816666666666667,
          2.4,
          2.5,
          0.5,
          0.6,
          2.15,
          1.7333333333333334,
          1.6166666666666667,
          0.9166666666666666,
          2.033333333333333,
          2.15,
          2.65,
          2.6666666666666665,
          1.5666666666666667,
          0.8166666666666667,
          1.25,
          0.55,
          2.316666666666667,
          2.8833333333333333,
          2.1,
          2.8333333333333335,
          1.25,
          2.6,
          1.9666666666666666,
          1.3,
          2.9166666666666665,
          1.9,
          1.05,
          1.2166666666666666,
          0.5833333333333334,
          0.5666666666666667,
          2.15,
          0.8,
          2.466666666666667,
          1.5333333333333334,
          0.9666666666666667,
          2.7333333333333334,
          2.816666666666667,
          2.8666666666666667,
          1.0666666666666667,
          2.7333333333333334,
          2.033333333333333,
          1.0833333333333333,
          1.5,
          2.6333333333333333,
          2.283333333333333,
          0.85,
          1.85,
          1.65,
          1.2166666666666666,
          1.9666666666666666,
          0.95,
          1.4666666666666666,
          1.7166666666666666,
          2.4166666666666665,
          2.1,
          0.8333333333333334,
          0.8666666666666667,
          2.4833333333333334,
          2.4,
          2.3666666666666667,
          1.1333333333333333,
          0.5833333333333334,
          0.5166666666666667,
          0.75,
          2.4833333333333334,
          2.45,
          1.2,
          2.6666666666666665,
          2.316666666666667,
          2.45,
          2.7666666666666666,
          0.6166666666666667,
          2.5833333333333335,
          2.5166666666666666,
          2.316666666666667,
          2.15,
          1.7,
          2.6,
          1.5833333333333333,
          0.55,
          1.95,
          1.9166666666666667,
          0.8166666666666667,
          2.566666666666667,
          2.3833333333333333,
          2.55,
          2.4833333333333334,
          2.8,
          2.783333333333333,
          0.9833333333333333,
          2.65,
          2.55,
          0.7833333333333333,
          2.0833333333333335,
          2.8666666666666667,
          1.0166666666666666,
          2.033333333333333,
          1.6166666666666667,
          0.7666666666666667,
          1.1333333333333333,
          1.1166666666666667,
          1.7833333333333334,
          2.183333333333333,
          1.5166666666666666,
          2.9833333333333334,
          1.3333333333333333,
          1.1333333333333333,
          1.2666666666666666,
          0.8333333333333334,
          0.5166666666666667,
          2.8666666666666667,
          2.716666666666667,
          1.45,
          2.066666666666667,
          0.5833333333333334,
          2.3666666666666667,
          2.85,
          3,
          1.3333333333333333,
          2.1166666666666667,
          2.3,
          2.1166666666666667,
          1.7833333333333334,
          2.3333333333333335,
          0.8666666666666667,
          1.0833333333333333,
          1.9833333333333334,
          2.683333333333333,
          0.9166666666666666,
          2.6,
          1.35,
          0.9166666666666666,
          1.3166666666666667,
          2.2,
          1.5166666666666666,
          0.7,
          2.7333333333333334,
          1.6166666666666667,
          2.8,
          2.15,
          2.783333333333333,
          1.4833333333333334,
          2.283333333333333,
          2.0833333333333335,
          2.7666666666666666,
          0.75,
          2.466666666666667,
          1.5166666666666666,
          0.55,
          0.5333333333333333,
          2.6666666666666665,
          2.9833333333333334,
          0.9166666666666666,
          1.3666666666666667,
          1.6666666666666667,
          1.1166666666666667,
          1.2,
          1.1,
          0.9,
          1.1166666666666667,
          2.2666666666666666,
          1.8833333333333333,
          1.9666666666666666,
          1.3,
          1.7166666666666666,
          0.5333333333333333,
          2.6666666666666665,
          2,
          2.1333333333333333,
          2.55,
          1.6666666666666667,
          2.683333333333333,
          2.783333333333333,
          1.1166666666666667,
          1.15,
          0.9666666666666667,
          1.5666666666666667,
          2.25,
          1.1833333333333333,
          2.2666666666666666,
          1.9333333333333333,
          2.466666666666667,
          2.316666666666667,
          1.2166666666666666,
          2.716666666666667,
          1.6,
          1.4666666666666666,
          1.3166666666666667,
          2.6166666666666667,
          1.6666666666666667,
          1.7666666666666666,
          2.9166666666666665,
          1.7666666666666666,
          1.8833333333333333,
          2.25,
          1.1,
          2.466666666666667,
          1.25,
          1.8666666666666667,
          0.6666666666666666,
          2.9,
          1.85,
          1.2666666666666666,
          1.2666666666666666,
          0.5333333333333333,
          2.6666666666666665,
          2.25,
          0.9,
          1.1666666666666667,
          2.033333333333333,
          2.85,
          1.0833333333333333,
          0.8,
          2.8333333333333335,
          1.55,
          2.216666666666667,
          1.5666666666666667,
          2.816666666666667,
          1.5166666666666666,
          2,
          0.6166666666666667,
          1.5166666666666666,
          1.2833333333333334,
          2.283333333333333,
          2.6,
          0.5,
          0.5,
          1.8333333333333333,
          2.5166666666666666,
          1.8166666666666667,
          1.85,
          0.9333333333333333,
          2.066666666666667,
          2.466666666666667,
          0.5166666666666667,
          0.7,
          0.85,
          3,
          1.9833333333333334,
          2.466666666666667,
          1.1833333333333333,
          2.183333333333333,
          1.95,
          0.75,
          0.85,
          2.716666666666667,
          2.4833333333333334,
          2.933333333333333,
          1.4166666666666667,
          2.8333333333333335,
          0.6333333333333333,
          0.6166666666666667,
          2.683333333333333,
          2.6,
          0.6833333333333333,
          0.9,
          2.183333333333333,
          2.95,
          1.35,
          0.9,
          2.183333333333333,
          2.2666666666666666,
          0.5,
          1.15,
          2.8666666666666667,
          1.05,
          2.85,
          0.9666666666666667,
          2.9166666666666665,
          1.5166666666666666,
          1.9166666666666667,
          0.6833333333333333,
          2.0833333333333335,
          1.2,
          2.316666666666667,
          1,
          0.95,
          1.1333333333333333,
          0.8333333333333334,
          0.5333333333333333,
          1.3,
          1.6666666666666667,
          2.066666666666667,
          2.75,
          2.683333333333333,
          1.6,
          1.75,
          1.8333333333333333,
          0.9,
          1.95,
          1.3333333333333333,
          1.7,
          2.816666666666667,
          1.9,
          2.0833333333333335,
          2.35,
          2.7333333333333334,
          0.5333333333333333,
          1.5666666666666667,
          1.5666666666666667,
          1.9166666666666667,
          1.2666666666666666,
          0.8333333333333334,
          1.7333333333333334,
          0.7166666666666667,
          1.4666666666666666,
          2.3,
          2.6333333333333333,
          2.7,
          2.7333333333333334,
          2.466666666666667,
          1.5833333333333333,
          2.7666666666666666,
          0.8333333333333334,
          2.533333333333333,
          0.9333333333333333,
          1.6666666666666667,
          0.8666666666666667,
          1.6,
          1.8166666666666667,
          0.7,
          2.2,
          0.7833333333333333,
          0.6833333333333333,
          0.85,
          2.783333333333333,
          2.3666666666666667,
          2.3833333333333333,
          2.2,
          1.2333333333333334,
          1.7,
          2.9,
          2.716666666666667,
          1.0833333333333333,
          0.9166666666666666,
          2.25,
          1.0333333333333334,
          0.9833333333333333,
          0.5666666666666667,
          2.2666666666666666,
          2,
          1.5833333333333333,
          2.816666666666667,
          1.8666666666666667,
          2.8833333333333333,
          0.5833333333333334,
          1.8333333333333333,
          1.4,
          0.7166666666666667,
          2.533333333333333,
          0.7666666666666667,
          1.5,
          0.65,
          1.7666666666666666,
          0.9833333333333333,
          0.6833333333333333,
          1.7666666666666666,
          1.75,
          2.55,
          2.066666666666667,
          2.033333333333333,
          2.3333333333333335,
          2.4,
          0.8166666666666667,
          1.4333333333333333,
          2.5166666666666666,
          2.216666666666667,
          0.5333333333333333,
          0.6,
          2,
          1.95,
          2.75,
          1.6666666666666667,
          2.4166666666666665,
          2.8,
          0.55,
          2.933333333333333,
          0.8333333333333334,
          1.5166666666666666,
          2.25,
          2.5,
          2.466666666666667,
          2.2666666666666666,
          2.933333333333333,
          2.8666666666666667,
          2.4833333333333334,
          2.316666666666667,
          2.4833333333333334,
          2.0833333333333335,
          3,
          2.466666666666667,
          0.6333333333333333,
          2.683333333333333,
          1.6,
          1.4833333333333334,
          2.3833333333333333,
          1.35,
          1.3333333333333333,
          0.7,
          1.2,
          2.533333333333333,
          2.1166666666666667,
          1.4833333333333334,
          2.533333333333333,
          0.85,
          1.5333333333333334,
          2.433333333333333,
          0.7666666666666667,
          2.1,
          1.9833333333333334,
          2.5,
          1.5833333333333333,
          2.0166666666666666,
          1.0833333333333333,
          1.8333333333333333,
          1.6666666666666667,
          0.7,
          1.35,
          2.2666666666666666,
          2.433333333333333,
          1.6,
          1.95,
          0.5333333333333333,
          2.1333333333333333,
          1.6166666666666667,
          1.65,
          2.9166666666666665,
          2.533333333333333,
          1.55,
          0.9833333333333333,
          2.783333333333333,
          2.5833333333333335,
          2.3666666666666667,
          0.5333333333333333,
          2.566666666666667,
          0.85,
          0.7666666666666667,
          0.8333333333333334,
          1.2666666666666666,
          2.4833333333333334,
          0.8333333333333334,
          1.5666666666666667,
          1.0666666666666667,
          1.8,
          0.8333333333333334,
          1.9
         ]
        },
        {
         "name": "Friday",
         "showlegend": false,
         "type": "box",
         "y": [
          1.4166666666666667,
          2.1,
          2.6333333333333333,
          2.4166666666666665,
          0.7666666666666667,
          2.9833333333333334,
          1.05,
          2.816666666666667,
          2.783333333333333,
          2.95,
          1.8333333333333333,
          1.4333333333333333,
          2.283333333333333,
          0.55,
          2.2,
          2.8,
          0.6333333333333333,
          2.216666666666667,
          1.9833333333333334,
          2.1666666666666665,
          0.7833333333333333,
          2.25,
          0.7833333333333333,
          0.5333333333333333,
          0.6833333333333333,
          1.2166666666666666,
          2.6333333333333333,
          1.1,
          1.3166666666666667,
          2.3666666666666667,
          1.9166666666666667,
          1.2333333333333334,
          2.066666666666667,
          1.7166666666666666,
          1.85,
          1.0333333333333334,
          1.5833333333333333,
          2.716666666666667,
          0.7,
          1.3833333333333333,
          2.5,
          1.9333333333333333,
          2.966666666666667,
          1.3,
          2.3833333333333333,
          1.8666666666666667,
          1.35,
          0.9833333333333333,
          0.75,
          2.5,
          2.8333333333333335,
          1.8,
          1.3666666666666667,
          2.05,
          0.5666666666666667,
          0.7833333333333333,
          2.566666666666667,
          2.1333333333333333,
          1.2,
          1.9833333333333334,
          0.5333333333333333,
          2.066666666666667,
          0.8333333333333334,
          1.4833333333333334,
          0.85,
          2.9166666666666665,
          2.3666666666666667,
          2.2333333333333334,
          2.5166666666666666,
          0.6,
          1.2,
          2.8833333333333333,
          2.683333333333333,
          2.85,
          2.8,
          1.2166666666666666,
          0.8166666666666667,
          1.8666666666666667,
          1.9833333333333334,
          0.75,
          0.8,
          2.3666666666666667,
          0.7166666666666667,
          1.7333333333333334,
          0.8833333333333333,
          2.05,
          1.9333333333333333,
          0.8833333333333333,
          1.4166666666666667,
          2.2666666666666666,
          1.9333333333333333,
          1.5833333333333333,
          0.7666666666666667,
          2.3333333333333335,
          0.7,
          1.1833333333333333,
          1.95,
          1.8666666666666667,
          2.433333333333333,
          2.7,
          2.716666666666667,
          2.55,
          1.7166666666666666,
          1.2,
          0.9333333333333333,
          0.9166666666666666,
          2.6,
          0.7833333333333333,
          0.65,
          1.8666666666666667,
          2.8666666666666667,
          1.4833333333333334,
          1.2666666666666666,
          0.9833333333333333,
          2.8,
          1.2333333333333334,
          2.75,
          0.8,
          2.316666666666667,
          0.9166666666666666,
          0.5833333333333334,
          2.8,
          1.5,
          2.45,
          1.55,
          1.0833333333333333,
          1.2666666666666666,
          0.7333333333333333,
          1.4833333333333334,
          1.7666666666666666,
          1.1666666666666667,
          1.25,
          1.6833333333333333,
          2.0833333333333335,
          1.7166666666666666,
          1.9,
          1.1666666666666667,
          2.533333333333333,
          1.4,
          2.316666666666667,
          1.6333333333333333,
          2.1666666666666665,
          2.2666666666666666,
          1.25,
          1.1333333333333333,
          2.3666666666666667,
          0.6833333333333333,
          2.8833333333333333,
          1.25,
          2.716666666666667,
          0.65,
          1.2666666666666666,
          1.7333333333333334,
          1.9833333333333334,
          2.45,
          1.5666666666666667,
          2.2,
          2.8666666666666667,
          2.9,
          1.0166666666666666,
          1.6833333333333333,
          2.433333333333333,
          0.55,
          0.9,
          2.9,
          1.8,
          1.2166666666666666,
          0.5833333333333334,
          0.5666666666666667,
          2.45,
          2.9166666666666665,
          1.9,
          1.2,
          0.5666666666666667,
          0.8166666666666667,
          2.6333333333333333,
          1.95,
          0.9166666666666666,
          0.85,
          1.1333333333333333,
          2.0833333333333335,
          0.9833333333333333,
          1.95,
          1.1166666666666667,
          2.45,
          2.3833333333333333,
          1.5,
          1.6833333333333333,
          1.8833333333333333,
          2.25,
          0.7666666666666667,
          2.2333333333333334,
          2.1,
          1.2333333333333334,
          0.5,
          1.9166666666666667,
          0.7833333333333333,
          2.1333333333333333,
          1.45,
          2.2666666666666666,
          2.4833333333333334,
          0.9333333333333333,
          1.6666666666666667,
          1.5,
          1.2833333333333334,
          2.5833333333333335,
          1,
          1.4333333333333333,
          1.9333333333333333,
          1.1833333333333333,
          1.45,
          2.316666666666667,
          1.2166666666666666,
          1.3833333333333333,
          1.25,
          2.2,
          2.966666666666667,
          1.3666666666666667,
          2.3666666666666667,
          1.0166666666666666,
          0.85,
          1.5666666666666667,
          2.9166666666666665,
          1.5833333333333333,
          1.6,
          0.8166666666666667,
          1.9666666666666666,
          1.2333333333333334,
          1.2833333333333334,
          2.6,
          1.8666666666666667,
          0.65,
          2.75,
          2.566666666666667,
          2.8,
          2.5166666666666666,
          2.1666666666666665,
          0.7666666666666667,
          1.05,
          0.65,
          2.6333333333333333,
          0.8333333333333334,
          0.9,
          0.5833333333333334,
          2.9,
          1.4333333333333333,
          2.2333333333333334,
          1.95,
          1.5166666666666666,
          1.1666666666666667,
          0.9833333333333333,
          1.25,
          2.8833333333333333,
          1.7833333333333334,
          2.7333333333333334,
          2.45,
          1.05,
          0.7166666666666667,
          2.1,
          1.4333333333333333,
          1.0166666666666666,
          2.433333333333333,
          1.5166666666666666,
          0.5666666666666667,
          0.6,
          2.2333333333333334,
          1.25,
          1.4333333333333333,
          2.566666666666667,
          0.75,
          1.75,
          2.8333333333333335,
          0.8166666666666667,
          1.05,
          2.6,
          2.1,
          0.85,
          0.85,
          1.6833333333333333,
          1.7,
          1.2166666666666666,
          2.1,
          1.35,
          2.816666666666667,
          0.8,
          2.033333333333333,
          0.9333333333333333,
          1.9333333333333333,
          1.5833333333333333,
          1.5166666666666666,
          2.683333333333333,
          2.1,
          2.0166666666666666,
          2.683333333333333,
          1.5666666666666667,
          1.2333333333333334,
          1.85,
          0.6,
          1.8333333333333333,
          1.05,
          0.95,
          1.7,
          2.1166666666666667,
          0.75,
          2.216666666666667,
          1.1833333333333333,
          0.7166666666666667,
          2,
          1.6666666666666667,
          1.6333333333333333,
          1.3833333333333333,
          0.8333333333333334,
          2.25,
          0.5666666666666667,
          2.533333333333333,
          2.3833333333333333,
          2.7333333333333334,
          1.9833333333333334,
          2.4833333333333334,
          2.25,
          2.45,
          2.4166666666666665,
          2.8833333333333333,
          2.8,
          1.6333333333333333,
          3,
          1.2333333333333334,
          1.2166666666666666,
          1.8666666666666667,
          1.35,
          2.3666666666666667,
          1.4833333333333334,
          2.4,
          0.75,
          2.6,
          1.95,
          1.35,
          1.1333333333333333,
          2.4833333333333334,
          2.566666666666667,
          1.2666666666666666,
          0.55,
          2.25,
          1.3333333333333333,
          2.25,
          1.7,
          0.7666666666666667,
          2.6166666666666667,
          1.3833333333333333,
          2.4833333333333334,
          1.9666666666666666,
          0.5,
          1.7333333333333334,
          0.85,
          2.183333333333333,
          0.7833333333333333,
          0.5333333333333333,
          1.4666666666666666,
          1.4333333333333333,
          0.55,
          2.5,
          1.3666666666666667,
          1.0833333333333333,
          2.066666666666667,
          2.5,
          2.2666666666666666,
          1.4833333333333334,
          1.95,
          1.4833333333333334,
          1.1333333333333333,
          2.3833333333333333,
          0.6,
          1.05,
          2.1333333333333333,
          1.4666666666666666,
          2.8666666666666667,
          0.65,
          2.183333333333333,
          2.3666666666666667,
          2.7666666666666666,
          2.8666666666666667,
          1.05,
          2.216666666666667,
          2.5833333333333335,
          1,
          1.05,
          1.8,
          0.5833333333333334,
          1.4,
          0.5,
          0.6166666666666667,
          1.3166666666666667,
          2.316666666666667,
          2.3666666666666667,
          1.7833333333333334,
          2.35,
          1.2333333333333334,
          2.6,
          1.3833333333333333,
          0.6166666666666667,
          2.0833333333333335,
          1.1833333333333333,
          2.1,
          2.5833333333333335,
          1.4,
          1.9833333333333334,
          2.933333333333333,
          0.8,
          0.8166666666666667,
          1.7333333333333334,
          0.55,
          0.6833333333333333,
          0.5333333333333333,
          2.7333333333333334,
          0.6,
          2.3,
          2.3666666666666667,
          2,
          1.5833333333333333,
          0.6666666666666666,
          1.1,
          1.2333333333333334,
          1.9166666666666667,
          2.4833333333333334,
          0.9833333333333333,
          2.6333333333333333,
          0.5,
          0.5833333333333334,
          0.85,
          2.15,
          2.566666666666667,
          2.5833333333333335,
          2.45,
          2.5166666666666666,
          2.1166666666666667,
          0.9333333333333333,
          2.0833333333333335,
          1.3,
          2.183333333333333,
          2.35,
          2.75,
          1.85,
          2.283333333333333,
          0.5833333333333334,
          2.55,
          2.8666666666666667,
          1.8333333333333333,
          1.1666666666666667,
          1.9833333333333334,
          1.4166666666666667,
          1.9333333333333333,
          1.8166666666666667,
          2.1,
          1.3166666666666667,
          0.95,
          1.1166666666666667,
          2.7,
          1.4833333333333334,
          2.1166666666666667,
          1.8166666666666667,
          0.65,
          2.3333333333333335,
          0.6666666666666666,
          1.9333333333333333,
          1.5833333333333333,
          0.6,
          0.5,
          1.3166666666666667,
          1.3666666666666667,
          1.3333333333333333,
          1.3166666666666667,
          2.433333333333333,
          2.1666666666666665,
          1.0333333333333334,
          2.2,
          0.8166666666666667,
          2.75,
          1.0166666666666666,
          1.2833333333333334,
          1.8166666666666667,
          1.35,
          0.5833333333333334,
          2.033333333333333,
          2.2,
          2.1166666666666667,
          2.3833333333333333,
          2.5833333333333335,
          2.4166666666666665,
          1.6666666666666667,
          0.6666666666666666,
          2.75,
          1.0166666666666666,
          1.6,
          2.216666666666667,
          0.9833333333333333,
          1.1833333333333333,
          1.9166666666666667,
          1.8,
          2,
          1.65,
          3,
          1.7166666666666666,
          0.6833333333333333,
          2.183333333333333,
          0.75,
          1.2,
          1.5166666666666666,
          1.7833333333333334,
          1.6833333333333333,
          3,
          1.3166666666666667,
          0.6666666666666666,
          1.2,
          1.3166666666666667,
          1.8833333333333333,
          1.2833333333333334,
          2.2
         ]
        },
        {
         "name": "Saturday",
         "showlegend": false,
         "type": "box",
         "y": [
          2.1166666666666667,
          1.5333333333333334,
          2.7666666666666666,
          2.566666666666667,
          0.5666666666666667,
          1.9333333333333333,
          1.65,
          1.4333333333333333,
          0.5333333333333333,
          2.6,
          2.5166666666666666,
          2.466666666666667,
          1.3833333333333333,
          1.8333333333333333,
          1.5333333333333334,
          1.8333333333333333,
          1.8333333333333333,
          1.9833333333333334,
          2.2333333333333334,
          0.5333333333333333,
          1.6,
          2.8,
          3,
          2.533333333333333,
          1.8333333333333333,
          1.4333333333333333,
          0.95,
          2.566666666666667,
          2.5,
          2.4833333333333334,
          2.8,
          0.7833333333333333,
          0.7,
          2.466666666666667,
          2.3833333333333333,
          2.3833333333333333,
          1.3833333333333333,
          2.5833333333333335,
          1.6833333333333333,
          0.8,
          1.95,
          2.2333333333333334,
          0.8666666666666667,
          2.816666666666667,
          0.6333333333333333,
          2.6166666666666667,
          0.5,
          0.85,
          1.1166666666666667,
          2.4,
          2.75,
          0.5833333333333334,
          2.316666666666667,
          2.283333333333333,
          1.5333333333333334,
          2.716666666666667,
          1.8,
          0.7,
          1.4666666666666666,
          2.2666666666666666,
          2.183333333333333,
          2.933333333333333,
          2.066666666666667,
          0.85,
          2.8833333333333333,
          2.7666666666666666,
          2.433333333333333,
          1.6166666666666667,
          1.05,
          0.5666666666666667,
          0.8333333333333334,
          1.1166666666666667,
          2.816666666666667,
          1.3333333333333333,
          2.5166666666666666,
          1.0166666666666666,
          2.216666666666667,
          1.4,
          0.7833333333333333,
          0.8666666666666667,
          1.0333333333333334,
          1.1166666666666667,
          0.5333333333333333,
          2.6666666666666665,
          2.1,
          0.6333333333333333,
          0.7833333333333333,
          2.216666666666667,
          2.0166666666666666,
          2.1333333333333333,
          2.6,
          2.1166666666666667,
          2.533333333333333,
          2,
          0.65,
          1.3333333333333333,
          2.05,
          0.9166666666666666,
          0.6833333333333333,
          0.7666666666666667,
          3,
          2.55,
          1.95,
          0.6833333333333333,
          2.1166666666666667,
          1.2666666666666666,
          0.5,
          2.85,
          2.05,
          1.5,
          1.4666666666666666,
          2.6666666666666665,
          1.7166666666666666,
          0.9166666666666666,
          1.5833333333333333,
          2.8,
          2.3833333333333333,
          2.5833333333333335,
          0.9166666666666666,
          1.2666666666666666,
          1.2666666666666666,
          2.9166666666666665,
          1.7166666666666666,
          0.7666666666666667,
          2.9833333333333334,
          1.0333333333333334,
          1.65,
          1.6166666666666667,
          1.0833333333333333,
          0.6666666666666666,
          0.75,
          2.6166666666666667,
          2.3,
          1.0333333333333334,
          1.4,
          1.0333333333333334,
          1.3,
          1.0333333333333334,
          1.6,
          2.6,
          2.0833333333333335,
          1.6,
          2.35,
          1.6666666666666667,
          1.95,
          1.8666666666666667,
          1.1666666666666667,
          2.2,
          1.3333333333333333,
          0.8166666666666667,
          0.85,
          2.75,
          1.4333333333333333,
          2.1166666666666667,
          0.6666666666666666,
          2.45,
          1.6,
          2.3833333333333333,
          1.3166666666666667,
          0.7666666666666667,
          2.15,
          1.8833333333333333,
          2.5833333333333335,
          1.8,
          1.8166666666666667,
          2.466666666666667,
          2.2,
          2.6666666666666665,
          1.5333333333333334,
          1.6,
          2.433333333333333,
          1.9333333333333333,
          0.7,
          1.0666666666666667,
          2.1166666666666667,
          2.6666666666666665,
          1.6666666666666667,
          2.1666666666666665,
          1.0333333333333334,
          2.6333333333333333,
          0.8,
          1.9833333333333334,
          2.4,
          2.066666666666667,
          2.75,
          1.6,
          1.85,
          1.2666666666666666,
          2.55,
          2.966666666666667,
          2.966666666666667,
          2.75,
          0.8,
          2.816666666666667,
          2.8333333333333335,
          2.316666666666667,
          0.7333333333333333,
          1.7,
          2.65,
          2.6666666666666665,
          0.75,
          1.3833333333333333,
          0.9333333333333333,
          2.6,
          1.8833333333333333,
          1.1666666666666667,
          1.7,
          1.6166666666666667,
          1.6,
          1.4833333333333334,
          0.7666666666666667,
          2.0833333333333335,
          2.183333333333333,
          1.4333333333333333,
          1.35,
          2.3833333333333333,
          2.816666666666667,
          0.75,
          1.7,
          1.2,
          1.1166666666666667,
          1.2333333333333334,
          2.816666666666667,
          2.966666666666667,
          2.816666666666667,
          0.9,
          2.3833333333333333,
          1.8833333333333333,
          2.216666666666667,
          1.7666666666666666,
          2.45,
          2.4,
          2.45,
          1.6666666666666667,
          2.8666666666666667,
          2.7,
          2.85,
          1.7833333333333334,
          1.4,
          2.5,
          2.65,
          1.1666666666666667,
          2.35,
          1.1166666666666667,
          0.5333333333333333,
          2.716666666666667,
          1.35,
          0.65,
          1.75,
          2.0166666666666666,
          2.6333333333333333,
          1.0333333333333334,
          1.2166666666666666,
          0.7,
          1.7,
          2.4,
          1.7,
          0.6666666666666666,
          0.9833333333333333,
          1.3,
          2.283333333333333,
          1.1666666666666667,
          1.5333333333333334,
          2.85,
          2.7333333333333334,
          2.7,
          0.5666666666666667,
          1.95,
          2.316666666666667,
          2.55,
          0.6666666666666666,
          1.0666666666666667,
          0.8833333333333333,
          2.466666666666667,
          1.1,
          0.7,
          1.2,
          2.25,
          2.1333333333333333,
          1.8,
          2.3333333333333335,
          2.6,
          2.8,
          0.8333333333333334,
          1.4666666666666666,
          1.2,
          0.7166666666666667,
          0.8,
          2.9,
          1.7,
          2.183333333333333,
          2.2,
          2.316666666666667,
          1.8,
          2.35,
          1.2833333333333334,
          1.7,
          1.0166666666666666,
          0.5166666666666667,
          0.7833333333333333,
          1.85,
          2.5166666666666666,
          2.35,
          1.4333333333333333,
          2.5833333333333335,
          2.6,
          1.0833333333333333,
          0.9666666666666667,
          1.2,
          1.0833333333333333,
          2.15,
          1.5,
          1.25,
          1.2666666666666666,
          0.7333333333333333,
          1.3333333333333333,
          0.55,
          1.95,
          2,
          1.0166666666666666,
          1.7,
          0.6333333333333333,
          0.5166666666666667,
          2.6,
          1.05,
          0.6666666666666666,
          0.8,
          1.1666666666666667,
          2.3833333333333333,
          2.183333333333333,
          2.8833333333333333,
          0.6833333333333333,
          2.1166666666666667,
          1.8666666666666667,
          1.7833333333333334,
          2.6166666666666667,
          2.816666666666667,
          2.6,
          1.1833333333333333,
          1.7333333333333334,
          1.9666666666666666,
          3,
          2.9166666666666665,
          1.35,
          2.3666666666666667,
          1.1166666666666667,
          1.6666666666666667,
          2.5166666666666666,
          2.9166666666666665,
          0.7666666666666667,
          1.3166666666666667,
          2.6,
          2.05,
          1.0833333333333333,
          1.4666666666666666,
          0.7166666666666667,
          2.566666666666667,
          1.75,
          2.9833333333333334,
          2.6166666666666667,
          0.5666666666666667,
          0.6333333333333333,
          1.4833333333333334,
          2.85,
          2.7333333333333334,
          0.6833333333333333,
          1.0666666666666667,
          2.35,
          0.8666666666666667,
          0.7666666666666667,
          0.5833333333333334,
          1.35,
          0.7333333333333333,
          1.1333333333333333,
          2.3666666666666667,
          0.9166666666666666,
          1.6833333333333333,
          2.6333333333333333,
          2.466666666666667,
          2.6333333333333333,
          2.55,
          1.75,
          1.1833333333333333,
          0.5833333333333334,
          1.3666666666666667,
          0.85,
          0.75,
          1.6333333333333333,
          1.2333333333333334,
          0.7833333333333333,
          0.7833333333333333,
          2.85,
          0.8333333333333334,
          1.4666666666666666,
          2.05,
          1.45,
          2.683333333333333,
          1.8833333333333333,
          1.8166666666666667,
          1.2,
          1.1,
          2.4,
          2.216666666666667,
          1.7666666666666666,
          1.2333333333333334,
          1.1666666666666667,
          1.6833333333333333,
          0.55,
          1.8333333333333333,
          0.8166666666666667,
          0.5166666666666667,
          2.9,
          2.716666666666667,
          1.45,
          0.8,
          0.9666666666666667,
          2.4833333333333334,
          0.7166666666666667,
          1.85,
          1.8,
          2.45,
          1.6,
          2.966666666666667,
          0.6666666666666666,
          2.3333333333333335,
          1.8666666666666667,
          2.45,
          2.8666666666666667,
          2.55,
          2.433333333333333,
          0.5,
          0.5833333333333334,
          1.35,
          0.6,
          1.4,
          1.7666666666666666,
          2.85,
          2.75,
          0.7166666666666667,
          2.35,
          2.9833333333333334,
          0.9333333333333333,
          2.466666666666667,
          2.533333333333333,
          2.8,
          2.35,
          1.8666666666666667,
          2.85,
          0.65,
          1.2,
          2.183333333333333,
          1.6833333333333333,
          2.1166666666666667,
          0.6,
          1.5333333333333334,
          2.3833333333333333,
          0.7833333333333333,
          0.7833333333333333,
          1.6333333333333333,
          1.4,
          2.2,
          2.1666666666666665,
          0.8,
          2.1,
          2.1,
          1.9,
          1.9666666666666666,
          2.9166666666666665,
          1.1833333333333333,
          2.966666666666667,
          1.75,
          2.816666666666667,
          2.6666666666666665,
          2.783333333333333,
          1.3,
          1.35,
          1.05,
          2.033333333333333,
          2.75,
          1.4833333333333334,
          2.0833333333333335,
          1.45,
          2.533333333333333,
          1.3,
          0.8666666666666667,
          1.9,
          2.5833333333333335,
          2.533333333333333,
          1.3,
          1.15,
          0.5333333333333333,
          2.216666666666667,
          1.3,
          1.1666666666666667,
          1.7833333333333334,
          2.966666666666667,
          0.9,
          1.3333333333333333,
          2.7666666666666666,
          2.3,
          2.6333333333333333,
          1.4,
          2.966666666666667,
          2.3,
          0.8,
          0.7,
          2.55,
          2.75,
          1.9,
          2.5833333333333335,
          1.9833333333333334,
          1.6,
          1.8,
          0.55,
          2.3333333333333335,
          0.5166666666666667,
          2.3833333333333333,
          2.4166666666666665,
          1.9666666666666666,
          1.05,
          1.5,
          1.65,
          2.1,
          1.6833333333333333,
          1.3666666666666667,
          1.7666666666666666,
          1.5666666666666667,
          1.5,
          0.6,
          2.45,
          1.4,
          1.65,
          2.5833333333333335,
          1.7666666666666666,
          0.5833333333333334,
          1.95,
          2.8833333333333333,
          1.6,
          2.5,
          2.8666666666666667,
          2.6666666666666665,
          2.316666666666667,
          2.316666666666667,
          1.6833333333333333,
          1.9333333333333333,
          2.3833333333333333,
          0.5166666666666667,
          0.9333333333333333,
          1.7666666666666666,
          1.7333333333333334,
          2.4833333333333334,
          1,
          1.1333333333333333,
          1.1166666666666667,
          1.2,
          0.5333333333333333,
          2.3,
          2.8666666666666667,
          2.5166666666666666,
          0.9,
          2.1166666666666667,
          1.5833333333333333,
          2.933333333333333,
          1.5,
          2.35,
          1.7166666666666666,
          0.85,
          1.8666666666666667,
          0.9666666666666667,
          1.6833333333333333,
          2.1666666666666665,
          2.533333333333333,
          1.5333333333333334,
          1.2166666666666666,
          2.8333333333333335,
          0.7333333333333333,
          2.433333333333333,
          2.9,
          0.7333333333333333,
          1.5333333333333334,
          2.533333333333333,
          1.5166666666666666,
          2.4166666666666665,
          2.25,
          2.183333333333333,
          1.45,
          0.55,
          1.9166666666666667,
          1.9333333333333333,
          1.8,
          2.0166666666666666,
          1.8666666666666667,
          1.7666666666666666,
          0.5,
          1.5,
          0.9833333333333333,
          1.5,
          0.7833333333333333,
          0.6666666666666666,
          2.7333333333333334,
          2.183333333333333,
          1.2666666666666666,
          0.5166666666666667,
          0.55,
          1.2166666666666666,
          0.7833333333333333,
          0.6166666666666667,
          1.4333333333333333,
          2.1333333333333333,
          0.65,
          1.5,
          2.1,
          0.8833333333333333,
          1.5833333333333333,
          1.4166666666666667,
          1.6833333333333333,
          0.5333333333333333,
          2.7,
          0.85,
          2.1,
          2.3666666666666667,
          1.45,
          2.4,
          1.3166666666666667,
          2.816666666666667,
          2.466666666666667,
          2.3,
          2.3666666666666667,
          2.1166666666666667,
          0.8,
          1.1166666666666667,
          0.8333333333333334,
          1.7333333333333334,
          2.283333333333333,
          0.5,
          1.7333333333333334,
          0.7833333333333333,
          2.7666666666666666,
          0.7333333333333333,
          0.6666666666666666,
          2.3666666666666667,
          1.5333333333333334,
          2.3,
          0.9666666666666667,
          2.4,
          1.9833333333333334,
          2.6333333333333333,
          2.25,
          1.6,
          0.6833333333333333,
          0.9833333333333333,
          1.5833333333333333,
          1.8666666666666667,
          2.216666666666667,
          0.6,
          2.15,
          1.45,
          0.8666666666666667,
          1.5666666666666667,
          1.85,
          1.3333333333333333,
          1.15,
          1,
          2.25,
          1.55,
          0.8333333333333334,
          2.683333333333333,
          2.85,
          1.45,
          2.5833333333333335,
          2.05,
          1.8,
          1.75,
          0.7833333333333333,
          0.5333333333333333,
          1.1333333333333333,
          2.5,
          2.316666666666667,
          1.5333333333333334,
          1.5666666666666667,
          2.3833333333333333,
          2.5166666666666666,
          1.0166666666666666,
          1.9666666666666666,
          2.933333333333333,
          2.3666666666666667,
          2.95,
          2.2,
          1.05,
          2.5833333333333335,
          2.25,
          2.6166666666666667,
          2.0166666666666666,
          2.3,
          0.9,
          2.566666666666667,
          2.466666666666667,
          2.2333333333333334,
          0.7333333333333333,
          2.466666666666667,
          2.55,
          1.0333333333333334,
          2.6166666666666667,
          1.65,
          0.7166666666666667,
          2.566666666666667,
          2.0833333333333335,
          1.35,
          2.0166666666666666,
          1.3666666666666667,
          1,
          2.566666666666667,
          1.45,
          2.05,
          2.533333333333333,
          2.0166666666666666,
          1.7,
          1.65,
          1.8666666666666667,
          2.9166666666666665,
          1.5666666666666667,
          2.4166666666666665,
          2.3833333333333333,
          0.5166666666666667,
          2.533333333333333,
          2.5166666666666666,
          1.4333333333333333,
          2.7666666666666666,
          2,
          2.1,
          1.5666666666666667,
          2.1,
          1.4666666666666666,
          2.3666666666666667,
          2.816666666666667,
          2.2333333333333334,
          0.85,
          2.4166666666666665,
          1.1833333333333333,
          1.9833333333333334,
          1.6,
          1.4,
          1.3166666666666667,
          0.5666666666666667,
          1.8833333333333333,
          2.95,
          1.5833333333333333,
          1.6166666666666667,
          0.8,
          1.5333333333333334,
          0.8833333333333333,
          2.566666666666667,
          1.5833333333333333,
          1.2,
          1.15,
          1.1666666666666667,
          2.8833333333333333,
          2.683333333333333,
          1.1333333333333333,
          1.9333333333333333,
          2.5166666666666666,
          1.2333333333333334,
          1.1166666666666667,
          1.5833333333333333,
          1.9666666666666666,
          2.15,
          1.4833333333333334,
          1.6833333333333333,
          2.933333333333333,
          1.8833333333333333,
          1.3333333333333333,
          1.1,
          1.4833333333333334,
          2.216666666666667,
          1.0333333333333334,
          2.033333333333333,
          2.5,
          2.783333333333333,
          1.75,
          1.3333333333333333,
          1.7333333333333334,
          2.0833333333333335,
          0.65,
          2.9166666666666665,
          0.5833333333333334,
          1.9666666666666666,
          2.8833333333333333,
          0.5166666666666667,
          0.6166666666666667,
          1.1,
          0.5166666666666667,
          1.6,
          1.2833333333333334,
          2.8833333333333333,
          1.4833333333333334,
          2.35,
          0.8166666666666667,
          1.5166666666666666,
          2.1166666666666667,
          1.0666666666666667,
          2.95,
          1.9333333333333333,
          1.5833333333333333,
          2.9,
          1.4166666666666667,
          1.05,
          1.95,
          2.3,
          0.55,
          0.9166666666666666,
          0.5166666666666667,
          2.4833333333333334,
          1,
          3,
          1.1166666666666667,
          3,
          2.2,
          1.2333333333333334,
          2.75,
          2,
          1.0833333333333333,
          2.533333333333333,
          1.05,
          1.8833333333333333,
          0.9166666666666666,
          2.783333333333333,
          1.2833333333333334,
          1.8666666666666667,
          1.3333333333333333,
          1.1166666666666667,
          1.7666666666666666,
          2.433333333333333,
          0.7166666666666667,
          2.1333333333333333,
          0.8333333333333334,
          0.75,
          1.1666666666666667,
          1.4333333333333333,
          1.4333333333333333,
          1.5666666666666667,
          2.6,
          2.283333333333333,
          1.65,
          2.05,
          1.1833333333333333,
          0.6833333333333333,
          1.7333333333333334,
          0.95,
          1.3833333333333333,
          2.3,
          2.2666666666666666,
          2.7333333333333334,
          2.7,
          2.816666666666667,
          1.7166666666666666,
          2.783333333333333,
          2.183333333333333,
          1.7166666666666666,
          2.3333333333333335,
          2.9166666666666665,
          1.9333333333333333,
          1.6,
          2.1166666666666667,
          2.65,
          2.7666666666666666,
          0.6666666666666666,
          1.6833333333333333,
          2.7666666666666666
         ]
        },
        {
         "name": "Sunday",
         "showlegend": false,
         "type": "box",
         "y": [
          2.2666666666666666,
          2.85,
          2.683333333333333,
          1.65,
          1.3166666666666667,
          1.95,
          0.8166666666666667,
          2.033333333333333,
          1.0833333333333333,
          0.9,
          1.15,
          1.1666666666666667,
          2.433333333333333,
          1.5166666666666666,
          0.8666666666666667,
          2.066666666666667,
          0.6,
          1.55,
          1.5666666666666667,
          2.316666666666667,
          1.05,
          1.1833333333333333,
          2.4,
          0.7333333333333333,
          1.6833333333333333,
          2.4166666666666665,
          2.533333333333333,
          1.95,
          2.8,
          2.816666666666667,
          2.4166666666666665,
          1.7666666666666666,
          0.7166666666666667,
          2.816666666666667,
          2.7,
          2.85,
          1,
          1.2833333333333334,
          2.6,
          1.5166666666666666,
          2.466666666666667,
          2.816666666666667,
          1.8833333333333333,
          1.3333333333333333,
          0.55,
          1.9166666666666667,
          1.5166666666666666,
          2.65,
          1.7833333333333334,
          2.433333333333333,
          0.65,
          1.25,
          2.216666666666667,
          1,
          2.8333333333333335,
          1.7166666666666666,
          1.0166666666666666,
          2.4833333333333334,
          1.1833333333333333,
          0.6666666666666666,
          1.7166666666666666,
          2.783333333333333,
          0.9,
          1.75,
          2.6333333333333333,
          1.5166666666666666,
          2.8666666666666667,
          0.65,
          1.9166666666666667,
          1.95,
          2.0166666666666666,
          2.2666666666666666,
          2.7,
          1.5666666666666667,
          2.85,
          1.6666666666666667,
          2.566666666666667,
          0.6,
          0.5,
          1.75,
          2.4833333333333334,
          2.4833333333333334,
          1.65,
          1.1833333333333333,
          2.9,
          1.1166666666666667,
          0.5833333333333334,
          1.75,
          2.8,
          2.65,
          1.9,
          1.7833333333333334,
          1.1333333333333333,
          2.3,
          2.8333333333333335,
          0.7833333333333333,
          0.6666666666666666,
          0.8,
          1.3666666666666667,
          1.2666666666666666,
          2.933333333333333,
          1.7166666666666666,
          0.7833333333333333,
          2.1333333333333333,
          1.8333333333333333,
          1.15,
          1.5833333333333333,
          2.816666666666667,
          1.1,
          2.45,
          0.7166666666666667,
          2.433333333333333,
          1.35,
          2.4833333333333334,
          2.4166666666666665,
          0.5833333333333334,
          0.5833333333333334,
          2.3333333333333335,
          1.7833333333333334,
          2.933333333333333,
          2.2666666666666666,
          0.7833333333333333,
          2.7666666666666666,
          2.55,
          1.6333333333333333,
          2.4166666666666665,
          1.6166666666666667,
          0.7166666666666667,
          1.9,
          1.6166666666666667,
          0.8166666666666667,
          1.45,
          2.533333333333333,
          1.7666666666666666,
          2.683333333333333,
          0.5666666666666667,
          2.683333333333333,
          0.6,
          1.7833333333333334,
          1.9666666666666666,
          2.25,
          2.8833333333333333,
          1.2,
          2.216666666666667,
          1.6666666666666667,
          2.816666666666667,
          2.4833333333333334,
          0.85,
          0.8833333333333333,
          0.9666666666666667,
          0.8166666666666667,
          2.7,
          0.95,
          0.6,
          2.65,
          2.316666666666667,
          2.966666666666667,
          2.783333333333333,
          2.5833333333333335,
          1.1166666666666667,
          0.9833333333333333,
          2.9166666666666665,
          1.8666666666666667,
          2.7333333333333334,
          1.3666666666666667,
          1.7333333333333334,
          2.15,
          1.5666666666666667,
          2.25,
          1.2166666666666666,
          2.55,
          0.8,
          1.85,
          2.55,
          1.2833333333333334,
          2.3666666666666667,
          0.55,
          0.7166666666666667,
          2.683333333333333,
          1.2,
          0.9166666666666666,
          1.3666666666666667,
          1.8333333333333333,
          1.1833333333333333,
          1.8,
          1.9,
          2.55,
          2.4166666666666665,
          1.6166666666666667,
          2.716666666666667,
          2.1166666666666667,
          1.6833333333333333,
          0.8666666666666667,
          2.8,
          0.7333333333333333,
          2.05,
          2.7666666666666666,
          2.3833333333333333,
          1.85,
          2.35,
          0.8166666666666667,
          2.716666666666667,
          1.4666666666666666,
          2.4,
          2.7,
          2.5833333333333335,
          0.6833333333333333,
          1.4166666666666667,
          0.7666666666666667,
          1.1333333333333333,
          1.5666666666666667,
          1.3333333333333333,
          0.55,
          0.8833333333333333,
          1.6,
          2.5,
          1.1833333333333333,
          1.4666666666666666,
          0.9666666666666667,
          0.8166666666666667,
          0.5666666666666667,
          1.2333333333333334,
          2.316666666666667,
          2.4166666666666665,
          2.4833333333333334,
          0.55,
          0.55,
          1.4,
          2.3333333333333335,
          2.85,
          2.5833333333333335,
          2.2,
          1.2833333333333334,
          0.5,
          1.1,
          1.9166666666666667,
          0.5666666666666667,
          0.6833333333333333,
          2.183333333333333,
          2.5166666666666666,
          2.4166666666666665,
          1,
          1.05,
          0.55,
          0.9666666666666667,
          2.95,
          2.75,
          1.7833333333333334,
          0.9,
          1.55,
          1.7,
          2.8833333333333333,
          1.3666666666666667,
          2.966666666666667,
          0.7166666666666667,
          0.85,
          2.4166666666666665,
          2.8,
          1.3833333333333333,
          0.6333333333333333,
          2.85,
          1.2,
          2.533333333333333,
          1.9333333333333333,
          1.6833333333333333,
          2.1333333333333333,
          1.8333333333333333,
          1.0833333333333333,
          1.1333333333333333,
          2.7666666666666666,
          2.1333333333333333,
          1.05,
          2.7666666666666666,
          2.0166666666666666,
          2.0166666666666666,
          2.216666666666667,
          1.5166666666666666,
          2.3666666666666667,
          2.6,
          1.2166666666666666,
          2.7666666666666666,
          1.6166666666666667,
          0.8,
          2.7666666666666666,
          2.9166666666666665,
          0.9833333333333333,
          2.466666666666667,
          1.8166666666666667,
          2.45,
          2.4166666666666665,
          2.2333333333333334,
          1.4666666666666666,
          1.3,
          2,
          0.5333333333333333,
          1.3833333333333333,
          0.6666666666666666,
          1.1833333333333333,
          1.9333333333333333,
          2.3333333333333335,
          0.5,
          2.216666666666667,
          2.85,
          1.1333333333333333,
          2.5,
          1.5833333333333333,
          0.6166666666666667,
          1.9,
          1.9333333333333333,
          2.9166666666666665,
          1.4833333333333334,
          2.7333333333333334,
          1.6666666666666667,
          1,
          1.1333333333333333,
          0.9833333333333333,
          1.4833333333333334,
          2.8,
          2.2666666666666666,
          2.6666666666666665,
          1.3666666666666667,
          0.9166666666666666,
          1.2833333333333334,
          1.45,
          2.2,
          0.9833333333333333,
          1.4,
          0.5,
          1.9833333333333334,
          0.8333333333333334,
          0.5833333333333334,
          2.566666666666667,
          1.5166666666666666,
          0.9333333333333333,
          0.8833333333333333,
          2.033333333333333,
          2.933333333333333,
          2.95,
          0.6333333333333333,
          1.4166666666666667,
          2.0166666666666666,
          2.3833333333333333,
          2.0833333333333335,
          2,
          1.0666666666666667,
          1.5,
          1.5666666666666667,
          2.2333333333333334,
          0.8,
          0.65,
          0.5333333333333333,
          1.6833333333333333,
          1.3333333333333333,
          1.85,
          2.066666666666667,
          0.6833333333333333,
          2.05,
          2.45,
          1.8333333333333333,
          0.8833333333333333,
          1.6333333333333333,
          2.433333333333333,
          2.5166666666666666,
          0.55,
          2.35,
          2.3333333333333335,
          0.8833333333333333,
          1.4166666666666667,
          1.3333333333333333,
          2,
          2.8,
          0.5333333333333333,
          1.1833333333333333,
          1.3,
          2.8666666666666667,
          0.8666666666666667,
          1.3833333333333333,
          2.6,
          2.216666666666667,
          2.6333333333333333,
          1.3666666666666667,
          2.5166666666666666,
          1.7666666666666666,
          1.7833333333333334,
          1.1833333333333333,
          2.2666666666666666,
          2.5833333333333335,
          1.2333333333333334,
          1.1,
          0.95,
          0.9666666666666667,
          0.8166666666666667,
          2.8333333333333335,
          1.5333333333333334,
          0.7666666666666667,
          2.8333333333333335,
          2.9166666666666665,
          1.2833333333333334,
          2.35,
          2.7333333333333334,
          1.05,
          1.4166666666666667,
          0.5666666666666667,
          0.95,
          2.1666666666666665,
          1.7,
          1.5833333333333333,
          2.6333333333333333,
          2.4,
          0.8833333333333333,
          2,
          1.2,
          2.25,
          0.65,
          1.05,
          2.25,
          1.1,
          2.05,
          2.033333333333333,
          1.9333333333333333,
          1.45,
          1.1333333333333333,
          1.2333333333333334,
          2.8333333333333335,
          0.6333333333333333,
          2.7333333333333334,
          2.6666666666666665,
          2.85,
          2.283333333333333,
          2.5,
          2.8833333333333333,
          2.566666666666667,
          0.7,
          0.6333333333333333,
          1.1666666666666667,
          2.05,
          2.9,
          0.6,
          1.2833333333333334,
          2.4,
          1.6166666666666667,
          1.8666666666666667,
          1.8333333333333333,
          0.85,
          0.8833333333333333,
          2.2333333333333334,
          2.3,
          2.8833333333333333,
          0.5166666666666667,
          0.5833333333333334,
          2.033333333333333,
          1.1,
          1.15,
          2.033333333333333,
          2.0833333333333335,
          1.9666666666666666,
          0.5833333333333334,
          1.4,
          2.05,
          1.4666666666666666,
          1.4,
          1.2833333333333334,
          2.966666666666667,
          1.9166666666666667,
          1.1666666666666667,
          1.8,
          2.1333333333333333,
          1.3333333333333333,
          2.716666666666667,
          1.8666666666666667,
          1.6333333333333333,
          1.3666666666666667,
          0.9666666666666667,
          2.5833333333333335,
          0.9333333333333333,
          1.4333333333333333,
          2.1166666666666667,
          1.3833333333333333,
          2.05,
          2.433333333333333,
          1.9333333333333333,
          2.466666666666667,
          2.183333333333333,
          1.75,
          0.9833333333333333,
          2.816666666666667,
          1.9333333333333333,
          1.1666666666666667,
          1.95,
          0.5166666666666667,
          1.9833333333333334,
          0.6833333333333333,
          1.6166666666666667,
          2.2666666666666666,
          1.45,
          1.9833333333333334,
          1.8666666666666667,
          0.5666666666666667,
          1.6833333333333333,
          0.5833333333333334,
          2.683333333333333,
          1.2166666666666666,
          0.5333333333333333,
          2.966666666666667,
          1.2833333333333334,
          2.316666666666667,
          2.45,
          1.5833333333333333,
          0.7666666666666667,
          1.2,
          2.933333333333333,
          2.65,
          1.4666666666666666,
          1.3666666666666667,
          1.1166666666666667,
          2.3333333333333335,
          0.7333333333333333,
          1.2833333333333334,
          2.4833333333333334,
          2.45,
          1.7666666666666666,
          1.4833333333333334,
          1.8166666666666667,
          2.816666666666667,
          2.183333333333333,
          2.8666666666666667,
          2.8333333333333335,
          1.3666666666666667,
          2.533333333333333,
          0.6,
          2.6,
          2.283333333333333,
          2.0166666666666666,
          1.7,
          2.6,
          2.316666666666667,
          2.066666666666667,
          2.566666666666667,
          1.05,
          0.9333333333333333,
          2.6,
          2.466666666666667,
          2.4833333333333334,
          1.6,
          1.3166666666666667,
          1.8666666666666667,
          2.7333333333333334,
          1.9833333333333334,
          1.3,
          0.6,
          0.5333333333333333,
          0.75,
          1.3833333333333333,
          2.066666666666667,
          0.6666666666666666,
          2.9166666666666665,
          0.9666666666666667,
          1.3333333333333333,
          2.433333333333333,
          0.7666666666666667,
          2.4833333333333334,
          1.2166666666666666,
          1.05,
          1.5333333333333334,
          1.3,
          2.1333333333333333,
          2.033333333333333,
          0.85,
          2.2,
          1.45,
          1.55,
          1.3,
          2.4166666666666665,
          0.7833333333333333,
          0.65,
          0.6333333333333333,
          0.8166666666666667,
          1.3666666666666667,
          0.9666666666666667,
          2.033333333333333,
          1.95,
          0.95,
          1.3666666666666667,
          1.8,
          1.2333333333333334,
          2.4166666666666665,
          2.75,
          1.6833333333333333,
          0.5833333333333334,
          2.283333333333333,
          2.9,
          1.6,
          1,
          0.5,
          1.3,
          2.25,
          2.05,
          1.2666666666666666,
          0.7333333333333333,
          2.4166666666666665,
          1.3,
          1.95,
          0.5333333333333333,
          1.8666666666666667,
          1.7666666666666666,
          1.25,
          1.45,
          2.2,
          1.9333333333333333,
          2.033333333333333,
          1.9833333333333334,
          1.5833333333333333,
          2.316666666666667,
          2.4,
          1.3,
          0.9333333333333333,
          1.4333333333333333,
          1.6833333333333333,
          1.8,
          3,
          0.5,
          2.95,
          1.9833333333333334,
          1.2333333333333334,
          2.966666666666667,
          0.6166666666666667,
          2.9166666666666665,
          0.5,
          1,
          1.3666666666666667,
          2.316666666666667,
          2.5,
          1.55,
          0.5833333333333334,
          0.5,
          2.066666666666667,
          2.066666666666667,
          2.066666666666667,
          2.3833333333333333,
          1.35,
          2.7,
          1.7333333333333334,
          2.1333333333333333,
          0.8166666666666667,
          1.0333333333333334,
          2.216666666666667,
          1.4166666666666667,
          1.9833333333333334,
          2.3666666666666667,
          0.85,
          0.8,
          1.7666666666666666,
          1.9833333333333334,
          1.65,
          2.6666666666666665,
          1.6166666666666667,
          2.5833333333333335,
          0.5333333333333333,
          1.3666666666666667,
          0.5666666666666667,
          1.3666666666666667,
          1.9166666666666667,
          1.8333333333333333,
          2.216666666666667,
          2.9166666666666665,
          1.3166666666666667,
          1,
          0.7333333333333333,
          2.95,
          1.2,
          1.6333333333333333,
          0.9166666666666666,
          0.5333333333333333,
          0.5333333333333333,
          1.8166666666666667,
          1.9,
          0.9666666666666667,
          2.3833333333333333,
          2.1666666666666665,
          1.7333333333333334,
          0.6166666666666667,
          1.4666666666666666,
          1.0333333333333334,
          2.566666666666667,
          1.15,
          0.75,
          0.95,
          0.7666666666666667,
          2.2666666666666666,
          2.4,
          1.95,
          2.316666666666667,
          2.65,
          2.9,
          1.6333333333333333,
          0.5666666666666667,
          1.9,
          1.45,
          2.6,
          1.9333333333333333,
          1.55,
          1.7666666666666666,
          2.3666666666666667,
          0.6833333333333333,
          2.6333333333333333,
          1.0333333333333334,
          1.8833333333333333,
          1.9333333333333333,
          2.4833333333333334,
          1.3833333333333333,
          2.433333333333333,
          1.8333333333333333,
          0.9166666666666666,
          2.6166666666666667,
          2.033333333333333,
          1.7166666666666666,
          3,
          0.5166666666666667,
          0.9166666666666666,
          2.3333333333333335,
          2.15,
          0.7166666666666667,
          0.9166666666666666,
          1.9,
          2.3833333333333333,
          1.45,
          1.2166666666666666,
          1.4833333333333334,
          0.8333333333333334,
          2.3666666666666667,
          1.3166666666666667,
          0.7,
          2.6666666666666665,
          1.5333333333333334,
          2.8,
          2.933333333333333,
          1.6166666666666667,
          1,
          2.3,
          2.4833333333333334,
          2.8666666666666667,
          0.9,
          1,
          2.683333333333333,
          0.7333333333333333,
          1.1166666666666667,
          2.0166666666666666,
          2.2333333333333334,
          2.9833333333333334,
          0.9666666666666667,
          2.4833333333333334,
          2.8,
          2.6,
          1.45,
          2.55,
          1.8833333333333333,
          0.7166666666666667,
          2.5833333333333335,
          1.2,
          1.8,
          1.7,
          2.65,
          1.6666666666666667,
          2.6166666666666667,
          1.8833333333333333,
          1.9166666666666667,
          2.816666666666667,
          1.0166666666666666,
          1.05,
          2.95,
          0.65,
          2.283333333333333,
          2.65,
          2.8666666666666667,
          1.05,
          1,
          2.1166666666666667,
          1.0166666666666666,
          0.5166666666666667,
          1.6166666666666667,
          1.8333333333333333,
          2.3333333333333335,
          2.35,
          2.25,
          2.1333333333333333,
          2.55,
          0.9833333333333333,
          2.5833333333333335,
          0.8333333333333334,
          0.7833333333333333,
          2.183333333333333,
          0.85,
          0.65,
          1.5833333333333333,
          1.6,
          1.25,
          2.6333333333333333,
          1.6333333333333333,
          2.75,
          0.8333333333333334,
          0.7333333333333333,
          0.6833333333333333,
          1.5,
          1.0166666666666666,
          2.6666666666666665,
          1.85,
          1.3833333333333333,
          2.033333333333333,
          1.6166666666666667,
          2.9166666666666665,
          0.7,
          1.15,
          0.7166666666666667,
          0.6333333333333333,
          1.25,
          2.566666666666667,
          2.4,
          2.45,
          0.95,
          1.5166666666666666,
          2.9,
          0.8166666666666667,
          1.3166666666666667,
          1.9833333333333334,
          2.783333333333333,
          1.2333333333333334,
          2.9,
          0.7,
          1,
          1.9666666666666666,
          0.5666666666666667,
          2.35,
          0.65,
          2.2333333333333334,
          0.8833333333333333,
          2.5833333333333335,
          2.466666666666667,
          2.066666666666667,
          2.433333333333333,
          0.95,
          2.183333333333333,
          2.4166666666666665,
          1.2333333333333334,
          1.0333333333333334,
          2.966666666666667,
          2.8666666666666667,
          1.1833333333333333,
          2.433333333333333,
          2.566666666666667,
          2.75,
          2.033333333333333,
          2.8666666666666667,
          2.8333333333333335,
          2.55,
          2.25,
          0.75,
          2.9833333333333334,
          1.6833333333333333,
          2.433333333333333,
          2.533333333333333,
          0.8833333333333333,
          2.85,
          0.5666666666666667,
          1.7,
          1.1,
          0.65,
          2.8333333333333335,
          1.15,
          0.85,
          2,
          2.4833333333333334,
          2.05,
          0.6333333333333333,
          2.5166666666666666,
          0.9333333333333333,
          1.3666666666666667,
          2.6166666666666667,
          0.95,
          2.9,
          1.8,
          0.8,
          2.1,
          2.85,
          2.85,
          1.5666666666666667,
          2.9833333333333334,
          2.433333333333333,
          1.65,
          1.6333333333333333,
          1.1833333333333333,
          1.15,
          2.2666666666666666,
          1.4833333333333334,
          1.7333333333333334,
          2.2333333333333334,
          2.3333333333333335,
          1.5166666666666666,
          1.9333333333333333,
          1.0833333333333333,
          1.35,
          1.2833333333333334,
          2.25,
          1.2333333333333334,
          1.4333333333333333,
          1.35,
          2.4833333333333334,
          2.6666666666666665,
          1.3333333333333333,
          2.25,
          1.7,
          2.433333333333333,
          2.3,
          0.7333333333333333,
          1.3166666666666667,
          1.85,
          1.3,
          1.2,
          0.7833333333333333,
          2.7333333333333334,
          1.65,
          2.2333333333333334,
          2.7,
          2.2,
          1.3833333333333333,
          1.1833333333333333,
          0.8833333333333333,
          2.216666666666667,
          2.65,
          2.2333333333333334,
          2.066666666666667,
          1.1666666666666667,
          2.3666666666666667,
          1.15,
          0.8,
          2.9833333333333334,
          2.283333333333333,
          2.6333333333333333,
          0.75
         ]
        }
       ],
       "layout": {
        "template": {
         "data": {
          "bar": [
           {
            "error_x": {
             "color": "#2a3f5f"
            },
            "error_y": {
             "color": "#2a3f5f"
            },
            "marker": {
             "line": {
              "color": "#E5ECF6",
              "width": 0.5
             },
             "pattern": {
              "fillmode": "overlay",
              "size": 10,
              "solidity": 0.2
             }
            },
            "type": "bar"
           }
          ],
          "barpolar": [
           {
            "marker": {
             "line": {
              "color": "#E5ECF6",
              "width": 0.5
             },
             "pattern": {
              "fillmode": "overlay",
              "size": 10,
              "solidity": 0.2
             }
            },
            "type": "barpolar"
           }
          ],
          "carpet": [
           {
            "aaxis": {
             "endlinecolor": "#2a3f5f",
             "gridcolor": "white",
             "linecolor": "white",
             "minorgridcolor": "white",
             "startlinecolor": "#2a3f5f"
            },
            "baxis": {
             "endlinecolor": "#2a3f5f",
             "gridcolor": "white",
             "linecolor": "white",
             "minorgridcolor": "white",
             "startlinecolor": "#2a3f5f"
            },
            "type": "carpet"
           }
          ],
          "choropleth": [
           {
            "colorbar": {
             "outlinewidth": 0,
             "ticks": ""
            },
            "type": "choropleth"
           }
          ],
          "contour": [
           {
            "colorbar": {
             "outlinewidth": 0,
             "ticks": ""
            },
            "colorscale": [
             [
              0,
              "#0d0887"
             ],
             [
              0.1111111111111111,
              "#46039f"
             ],
             [
              0.2222222222222222,
              "#7201a8"
             ],
             [
              0.3333333333333333,
              "#9c179e"
             ],
             [
              0.4444444444444444,
              "#bd3786"
             ],
             [
              0.5555555555555556,
              "#d8576b"
             ],
             [
              0.6666666666666666,
              "#ed7953"
             ],
             [
              0.7777777777777778,
              "#fb9f3a"
             ],
             [
              0.8888888888888888,
              "#fdca26"
             ],
             [
              1,
              "#f0f921"
             ]
            ],
            "type": "contour"
           }
          ],
          "contourcarpet": [
           {
            "colorbar": {
             "outlinewidth": 0,
             "ticks": ""
            },
            "type": "contourcarpet"
           }
          ],
          "heatmap": [
           {
            "colorbar": {
             "outlinewidth": 0,
             "ticks": ""
            },
            "colorscale": [
             [
              0,
              "#0d0887"
             ],
             [
              0.1111111111111111,
              "#46039f"
             ],
             [
              0.2222222222222222,
              "#7201a8"
             ],
             [
              0.3333333333333333,
              "#9c179e"
             ],
             [
              0.4444444444444444,
              "#bd3786"
             ],
             [
              0.5555555555555556,
              "#d8576b"
             ],
             [
              0.6666666666666666,
              "#ed7953"
             ],
             [
              0.7777777777777778,
              "#fb9f3a"
             ],
             [
              0.8888888888888888,
              "#fdca26"
             ],
             [
              1,
              "#f0f921"
             ]
            ],
            "type": "heatmap"
           }
          ],
          "heatmapgl": [
           {
            "colorbar": {
             "outlinewidth": 0,
             "ticks": ""
            },
            "colorscale": [
             [
              0,
              "#0d0887"
             ],
             [
              0.1111111111111111,
              "#46039f"
             ],
             [
              0.2222222222222222,
              "#7201a8"
             ],
             [
              0.3333333333333333,
              "#9c179e"
             ],
             [
              0.4444444444444444,
              "#bd3786"
             ],
             [
              0.5555555555555556,
              "#d8576b"
             ],
             [
              0.6666666666666666,
              "#ed7953"
             ],
             [
              0.7777777777777778,
              "#fb9f3a"
             ],
             [
              0.8888888888888888,
              "#fdca26"
             ],
             [
              1,
              "#f0f921"
             ]
            ],
            "type": "heatmapgl"
           }
          ],
          "histogram": [
           {
            "marker": {
             "pattern": {
              "fillmode": "overlay",
              "size": 10,
              "solidity": 0.2
             }
            },
            "type": "histogram"
           }
          ],
          "histogram2d": [
           {
            "colorbar": {
             "outlinewidth": 0,
             "ticks": ""
            },
            "colorscale": [
             [
              0,
              "#0d0887"
             ],
             [
              0.1111111111111111,
              "#46039f"
             ],
             [
              0.2222222222222222,
              "#7201a8"
             ],
             [
              0.3333333333333333,
              "#9c179e"
             ],
             [
              0.4444444444444444,
              "#bd3786"
             ],
             [
              0.5555555555555556,
              "#d8576b"
             ],
             [
              0.6666666666666666,
              "#ed7953"
             ],
             [
              0.7777777777777778,
              "#fb9f3a"
             ],
             [
              0.8888888888888888,
              "#fdca26"
             ],
             [
              1,
              "#f0f921"
             ]
            ],
            "type": "histogram2d"
           }
          ],
          "histogram2dcontour": [
           {
            "colorbar": {
             "outlinewidth": 0,
             "ticks": ""
            },
            "colorscale": [
             [
              0,
              "#0d0887"
             ],
             [
              0.1111111111111111,
              "#46039f"
             ],
             [
              0.2222222222222222,
              "#7201a8"
             ],
             [
              0.3333333333333333,
              "#9c179e"
             ],
             [
              0.4444444444444444,
              "#bd3786"
             ],
             [
              0.5555555555555556,
              "#d8576b"
             ],
             [
              0.6666666666666666,
              "#ed7953"
             ],
             [
              0.7777777777777778,
              "#fb9f3a"
             ],
             [
              0.8888888888888888,
              "#fdca26"
             ],
             [
              1,
              "#f0f921"
             ]
            ],
            "type": "histogram2dcontour"
           }
          ],
          "mesh3d": [
           {
            "colorbar": {
             "outlinewidth": 0,
             "ticks": ""
            },
            "type": "mesh3d"
           }
          ],
          "parcoords": [
           {
            "line": {
             "colorbar": {
              "outlinewidth": 0,
              "ticks": ""
             }
            },
            "type": "parcoords"
           }
          ],
          "pie": [
           {
            "automargin": true,
            "type": "pie"
           }
          ],
          "scatter": [
           {
            "fillpattern": {
             "fillmode": "overlay",
             "size": 10,
             "solidity": 0.2
            },
            "type": "scatter"
           }
          ],
          "scatter3d": [
           {
            "line": {
             "colorbar": {
              "outlinewidth": 0,
              "ticks": ""
             }
            },
            "marker": {
             "colorbar": {
              "outlinewidth": 0,
              "ticks": ""
             }
            },
            "type": "scatter3d"
           }
          ],
          "scattercarpet": [
           {
            "marker": {
             "colorbar": {
              "outlinewidth": 0,
              "ticks": ""
             }
            },
            "type": "scattercarpet"
           }
          ],
          "scattergeo": [
           {
            "marker": {
             "colorbar": {
              "outlinewidth": 0,
              "ticks": ""
             }
            },
            "type": "scattergeo"
           }
          ],
          "scattergl": [
           {
            "marker": {
             "colorbar": {
              "outlinewidth": 0,
              "ticks": ""
             }
            },
            "type": "scattergl"
           }
          ],
          "scattermapbox": [
           {
            "marker": {
             "colorbar": {
              "outlinewidth": 0,
              "ticks": ""
             }
            },
            "type": "scattermapbox"
           }
          ],
          "scatterpolar": [
           {
            "marker": {
             "colorbar": {
              "outlinewidth": 0,
              "ticks": ""
             }
            },
            "type": "scatterpolar"
           }
          ],
          "scatterpolargl": [
           {
            "marker": {
             "colorbar": {
              "outlinewidth": 0,
              "ticks": ""
             }
            },
            "type": "scatterpolargl"
           }
          ],
          "scatterternary": [
           {
            "marker": {
             "colorbar": {
              "outlinewidth": 0,
              "ticks": ""
             }
            },
            "type": "scatterternary"
           }
          ],
          "surface": [
           {
            "colorbar": {
             "outlinewidth": 0,
             "ticks": ""
            },
            "colorscale": [
             [
              0,
              "#0d0887"
             ],
             [
              0.1111111111111111,
              "#46039f"
             ],
             [
              0.2222222222222222,
              "#7201a8"
             ],
             [
              0.3333333333333333,
              "#9c179e"
             ],
             [
              0.4444444444444444,
              "#bd3786"
             ],
             [
              0.5555555555555556,
              "#d8576b"
             ],
             [
              0.6666666666666666,
              "#ed7953"
             ],
             [
              0.7777777777777778,
              "#fb9f3a"
             ],
             [
              0.8888888888888888,
              "#fdca26"
             ],
             [
              1,
              "#f0f921"
             ]
            ],
            "type": "surface"
           }
          ],
          "table": [
           {
            "cells": {
             "fill": {
              "color": "#EBF0F8"
             },
             "line": {
              "color": "white"
             }
            },
            "header": {
             "fill": {
              "color": "#C8D4E3"
             },
             "line": {
              "color": "white"
             }
            },
            "type": "table"
           }
          ]
         },
         "layout": {
          "annotationdefaults": {
           "arrowcolor": "#2a3f5f",
           "arrowhead": 0,
           "arrowwidth": 1
          },
          "autotypenumbers": "strict",
          "coloraxis": {
           "colorbar": {
            "outlinewidth": 0,
            "ticks": ""
           }
          },
          "colorscale": {
           "diverging": [
            [
             0,
             "#8e0152"
            ],
            [
             0.1,
             "#c51b7d"
            ],
            [
             0.2,
             "#de77ae"
            ],
            [
             0.3,
             "#f1b6da"
            ],
            [
             0.4,
             "#fde0ef"
            ],
            [
             0.5,
             "#f7f7f7"
            ],
            [
             0.6,
             "#e6f5d0"
            ],
            [
             0.7,
             "#b8e186"
            ],
            [
             0.8,
             "#7fbc41"
            ],
            [
             0.9,
             "#4d9221"
            ],
            [
             1,
             "#276419"
            ]
           ],
           "sequential": [
            [
             0,
             "#0d0887"
            ],
            [
             0.1111111111111111,
             "#46039f"
            ],
            [
             0.2222222222222222,
             "#7201a8"
            ],
            [
             0.3333333333333333,
             "#9c179e"
            ],
            [
             0.4444444444444444,
             "#bd3786"
            ],
            [
             0.5555555555555556,
             "#d8576b"
            ],
            [
             0.6666666666666666,
             "#ed7953"
            ],
            [
             0.7777777777777778,
             "#fb9f3a"
            ],
            [
             0.8888888888888888,
             "#fdca26"
            ],
            [
             1,
             "#f0f921"
            ]
           ],
           "sequentialminus": [
            [
             0,
             "#0d0887"
            ],
            [
             0.1111111111111111,
             "#46039f"
            ],
            [
             0.2222222222222222,
             "#7201a8"
            ],
            [
             0.3333333333333333,
             "#9c179e"
            ],
            [
             0.4444444444444444,
             "#bd3786"
            ],
            [
             0.5555555555555556,
             "#d8576b"
            ],
            [
             0.6666666666666666,
             "#ed7953"
            ],
            [
             0.7777777777777778,
             "#fb9f3a"
            ],
            [
             0.8888888888888888,
             "#fdca26"
            ],
            [
             1,
             "#f0f921"
            ]
           ]
          },
          "colorway": [
           "#636efa",
           "#EF553B",
           "#00cc96",
           "#ab63fa",
           "#FFA15A",
           "#19d3f3",
           "#FF6692",
           "#B6E880",
           "#FF97FF",
           "#FECB52"
          ],
          "font": {
           "color": "#2a3f5f"
          },
          "geo": {
           "bgcolor": "white",
           "lakecolor": "white",
           "landcolor": "#E5ECF6",
           "showlakes": true,
           "showland": true,
           "subunitcolor": "white"
          },
          "hoverlabel": {
           "align": "left"
          },
          "hovermode": "closest",
          "mapbox": {
           "style": "light"
          },
          "paper_bgcolor": "white",
          "plot_bgcolor": "#E5ECF6",
          "polar": {
           "angularaxis": {
            "gridcolor": "white",
            "linecolor": "white",
            "ticks": ""
           },
           "bgcolor": "#E5ECF6",
           "radialaxis": {
            "gridcolor": "white",
            "linecolor": "white",
            "ticks": ""
           }
          },
          "scene": {
           "xaxis": {
            "backgroundcolor": "#E5ECF6",
            "gridcolor": "white",
            "gridwidth": 2,
            "linecolor": "white",
            "showbackground": true,
            "ticks": "",
            "zerolinecolor": "white"
           },
           "yaxis": {
            "backgroundcolor": "#E5ECF6",
            "gridcolor": "white",
            "gridwidth": 2,
            "linecolor": "white",
            "showbackground": true,
            "ticks": "",
            "zerolinecolor": "white"
           },
           "zaxis": {
            "backgroundcolor": "#E5ECF6",
            "gridcolor": "white",
            "gridwidth": 2,
            "linecolor": "white",
            "showbackground": true,
            "ticks": "",
            "zerolinecolor": "white"
           }
          },
          "shapedefaults": {
           "line": {
            "color": "#2a3f5f"
           }
          },
          "ternary": {
           "aaxis": {
            "gridcolor": "white",
            "linecolor": "white",
            "ticks": ""
           },
           "baxis": {
            "gridcolor": "white",
            "linecolor": "white",
            "ticks": ""
           },
           "bgcolor": "#E5ECF6",
           "caxis": {
            "gridcolor": "white",
            "linecolor": "white",
            "ticks": ""
           }
          },
          "title": {
           "x": 0.05
          },
          "xaxis": {
           "automargin": true,
           "gridcolor": "white",
           "linecolor": "white",
           "ticks": "",
           "title": {
            "standoff": 15
           },
           "zerolinecolor": "white",
           "zerolinewidth": 2
          },
          "yaxis": {
           "automargin": true,
           "gridcolor": "white",
           "linecolor": "white",
           "ticks": "",
           "title": {
            "standoff": 15
           },
           "zerolinecolor": "white",
           "zerolinewidth": 2
          }
         }
        },
        "title": {
         "text": "<b>Active Period in Different Days of Week</b>"
        },
        "yaxis": {
         "title": {
          "text": "Active Period (Hours)"
         }
        }
       }
      }
     },
     "metadata": {},
     "output_type": "display_data"
    }
   ],
   "source": [
    "fig6 = go.Figure()\n",
    "fig6.add_trace(go.Box(y=df_monday_activeperiod, name='Monday', showlegend=False))\n",
    "fig6.add_trace(go.Box(y=df_tuesday_activeperiod, name='Tuesday', showlegend=False))\n",
    "fig6.add_trace(go.Box(y=df_wednesday_activeperiod, name='Wednesday', showlegend=False))\n",
    "fig6.add_trace(go.Box(y=df_thursday_activeperiod, name='Thursday', showlegend=False))\n",
    "fig6.add_trace(go.Box(y=df_friday_activeperiod, name='Friday', showlegend=False))\n",
    "fig6.add_trace(go.Box(y=df_saturday_activeperiod, name='Saturday', showlegend=False))\n",
    "fig6.add_trace(go.Box(y=df_sunday_activeperiod, name='Sunday', showlegend=False))\n",
    "fig6.update_layout(title_text='<b>Active Period in Different Days of Week</b>')\n",
    "fig6.update_yaxes(title_text='Active Period (Hours)')\n",
    "fig6.show()"
   ]
  },
  {
   "cell_type": "code",
   "execution_count": 19,
   "metadata": {},
   "outputs": [
    {
     "data": {
      "application/vnd.plotly.v1+json": {
       "config": {
        "plotlyServerURL": "https://plot.ly"
       },
       "data": [
        {
         "showlegend": false,
         "type": "bar",
         "x": [
          "Monday",
          "Tuesday",
          "Wednesday",
          "Thursday",
          "Friday",
          "Saturday",
          "Sunday"
         ],
         "y": [
          1.7754265091861112,
          1.7269691241333334,
          1.712629022465,
          1.7621513944222222,
          1.686686009026389,
          1.7551651305683333,
          1.7410803127219445
         ]
        }
       ],
       "layout": {
        "template": {
         "data": {
          "bar": [
           {
            "error_x": {
             "color": "#2a3f5f"
            },
            "error_y": {
             "color": "#2a3f5f"
            },
            "marker": {
             "line": {
              "color": "#E5ECF6",
              "width": 0.5
             },
             "pattern": {
              "fillmode": "overlay",
              "size": 10,
              "solidity": 0.2
             }
            },
            "type": "bar"
           }
          ],
          "barpolar": [
           {
            "marker": {
             "line": {
              "color": "#E5ECF6",
              "width": 0.5
             },
             "pattern": {
              "fillmode": "overlay",
              "size": 10,
              "solidity": 0.2
             }
            },
            "type": "barpolar"
           }
          ],
          "carpet": [
           {
            "aaxis": {
             "endlinecolor": "#2a3f5f",
             "gridcolor": "white",
             "linecolor": "white",
             "minorgridcolor": "white",
             "startlinecolor": "#2a3f5f"
            },
            "baxis": {
             "endlinecolor": "#2a3f5f",
             "gridcolor": "white",
             "linecolor": "white",
             "minorgridcolor": "white",
             "startlinecolor": "#2a3f5f"
            },
            "type": "carpet"
           }
          ],
          "choropleth": [
           {
            "colorbar": {
             "outlinewidth": 0,
             "ticks": ""
            },
            "type": "choropleth"
           }
          ],
          "contour": [
           {
            "colorbar": {
             "outlinewidth": 0,
             "ticks": ""
            },
            "colorscale": [
             [
              0,
              "#0d0887"
             ],
             [
              0.1111111111111111,
              "#46039f"
             ],
             [
              0.2222222222222222,
              "#7201a8"
             ],
             [
              0.3333333333333333,
              "#9c179e"
             ],
             [
              0.4444444444444444,
              "#bd3786"
             ],
             [
              0.5555555555555556,
              "#d8576b"
             ],
             [
              0.6666666666666666,
              "#ed7953"
             ],
             [
              0.7777777777777778,
              "#fb9f3a"
             ],
             [
              0.8888888888888888,
              "#fdca26"
             ],
             [
              1,
              "#f0f921"
             ]
            ],
            "type": "contour"
           }
          ],
          "contourcarpet": [
           {
            "colorbar": {
             "outlinewidth": 0,
             "ticks": ""
            },
            "type": "contourcarpet"
           }
          ],
          "heatmap": [
           {
            "colorbar": {
             "outlinewidth": 0,
             "ticks": ""
            },
            "colorscale": [
             [
              0,
              "#0d0887"
             ],
             [
              0.1111111111111111,
              "#46039f"
             ],
             [
              0.2222222222222222,
              "#7201a8"
             ],
             [
              0.3333333333333333,
              "#9c179e"
             ],
             [
              0.4444444444444444,
              "#bd3786"
             ],
             [
              0.5555555555555556,
              "#d8576b"
             ],
             [
              0.6666666666666666,
              "#ed7953"
             ],
             [
              0.7777777777777778,
              "#fb9f3a"
             ],
             [
              0.8888888888888888,
              "#fdca26"
             ],
             [
              1,
              "#f0f921"
             ]
            ],
            "type": "heatmap"
           }
          ],
          "heatmapgl": [
           {
            "colorbar": {
             "outlinewidth": 0,
             "ticks": ""
            },
            "colorscale": [
             [
              0,
              "#0d0887"
             ],
             [
              0.1111111111111111,
              "#46039f"
             ],
             [
              0.2222222222222222,
              "#7201a8"
             ],
             [
              0.3333333333333333,
              "#9c179e"
             ],
             [
              0.4444444444444444,
              "#bd3786"
             ],
             [
              0.5555555555555556,
              "#d8576b"
             ],
             [
              0.6666666666666666,
              "#ed7953"
             ],
             [
              0.7777777777777778,
              "#fb9f3a"
             ],
             [
              0.8888888888888888,
              "#fdca26"
             ],
             [
              1,
              "#f0f921"
             ]
            ],
            "type": "heatmapgl"
           }
          ],
          "histogram": [
           {
            "marker": {
             "pattern": {
              "fillmode": "overlay",
              "size": 10,
              "solidity": 0.2
             }
            },
            "type": "histogram"
           }
          ],
          "histogram2d": [
           {
            "colorbar": {
             "outlinewidth": 0,
             "ticks": ""
            },
            "colorscale": [
             [
              0,
              "#0d0887"
             ],
             [
              0.1111111111111111,
              "#46039f"
             ],
             [
              0.2222222222222222,
              "#7201a8"
             ],
             [
              0.3333333333333333,
              "#9c179e"
             ],
             [
              0.4444444444444444,
              "#bd3786"
             ],
             [
              0.5555555555555556,
              "#d8576b"
             ],
             [
              0.6666666666666666,
              "#ed7953"
             ],
             [
              0.7777777777777778,
              "#fb9f3a"
             ],
             [
              0.8888888888888888,
              "#fdca26"
             ],
             [
              1,
              "#f0f921"
             ]
            ],
            "type": "histogram2d"
           }
          ],
          "histogram2dcontour": [
           {
            "colorbar": {
             "outlinewidth": 0,
             "ticks": ""
            },
            "colorscale": [
             [
              0,
              "#0d0887"
             ],
             [
              0.1111111111111111,
              "#46039f"
             ],
             [
              0.2222222222222222,
              "#7201a8"
             ],
             [
              0.3333333333333333,
              "#9c179e"
             ],
             [
              0.4444444444444444,
              "#bd3786"
             ],
             [
              0.5555555555555556,
              "#d8576b"
             ],
             [
              0.6666666666666666,
              "#ed7953"
             ],
             [
              0.7777777777777778,
              "#fb9f3a"
             ],
             [
              0.8888888888888888,
              "#fdca26"
             ],
             [
              1,
              "#f0f921"
             ]
            ],
            "type": "histogram2dcontour"
           }
          ],
          "mesh3d": [
           {
            "colorbar": {
             "outlinewidth": 0,
             "ticks": ""
            },
            "type": "mesh3d"
           }
          ],
          "parcoords": [
           {
            "line": {
             "colorbar": {
              "outlinewidth": 0,
              "ticks": ""
             }
            },
            "type": "parcoords"
           }
          ],
          "pie": [
           {
            "automargin": true,
            "type": "pie"
           }
          ],
          "scatter": [
           {
            "fillpattern": {
             "fillmode": "overlay",
             "size": 10,
             "solidity": 0.2
            },
            "type": "scatter"
           }
          ],
          "scatter3d": [
           {
            "line": {
             "colorbar": {
              "outlinewidth": 0,
              "ticks": ""
             }
            },
            "marker": {
             "colorbar": {
              "outlinewidth": 0,
              "ticks": ""
             }
            },
            "type": "scatter3d"
           }
          ],
          "scattercarpet": [
           {
            "marker": {
             "colorbar": {
              "outlinewidth": 0,
              "ticks": ""
             }
            },
            "type": "scattercarpet"
           }
          ],
          "scattergeo": [
           {
            "marker": {
             "colorbar": {
              "outlinewidth": 0,
              "ticks": ""
             }
            },
            "type": "scattergeo"
           }
          ],
          "scattergl": [
           {
            "marker": {
             "colorbar": {
              "outlinewidth": 0,
              "ticks": ""
             }
            },
            "type": "scattergl"
           }
          ],
          "scattermapbox": [
           {
            "marker": {
             "colorbar": {
              "outlinewidth": 0,
              "ticks": ""
             }
            },
            "type": "scattermapbox"
           }
          ],
          "scatterpolar": [
           {
            "marker": {
             "colorbar": {
              "outlinewidth": 0,
              "ticks": ""
             }
            },
            "type": "scatterpolar"
           }
          ],
          "scatterpolargl": [
           {
            "marker": {
             "colorbar": {
              "outlinewidth": 0,
              "ticks": ""
             }
            },
            "type": "scatterpolargl"
           }
          ],
          "scatterternary": [
           {
            "marker": {
             "colorbar": {
              "outlinewidth": 0,
              "ticks": ""
             }
            },
            "type": "scatterternary"
           }
          ],
          "surface": [
           {
            "colorbar": {
             "outlinewidth": 0,
             "ticks": ""
            },
            "colorscale": [
             [
              0,
              "#0d0887"
             ],
             [
              0.1111111111111111,
              "#46039f"
             ],
             [
              0.2222222222222222,
              "#7201a8"
             ],
             [
              0.3333333333333333,
              "#9c179e"
             ],
             [
              0.4444444444444444,
              "#bd3786"
             ],
             [
              0.5555555555555556,
              "#d8576b"
             ],
             [
              0.6666666666666666,
              "#ed7953"
             ],
             [
              0.7777777777777778,
              "#fb9f3a"
             ],
             [
              0.8888888888888888,
              "#fdca26"
             ],
             [
              1,
              "#f0f921"
             ]
            ],
            "type": "surface"
           }
          ],
          "table": [
           {
            "cells": {
             "fill": {
              "color": "#EBF0F8"
             },
             "line": {
              "color": "white"
             }
            },
            "header": {
             "fill": {
              "color": "#C8D4E3"
             },
             "line": {
              "color": "white"
             }
            },
            "type": "table"
           }
          ]
         },
         "layout": {
          "annotationdefaults": {
           "arrowcolor": "#2a3f5f",
           "arrowhead": 0,
           "arrowwidth": 1
          },
          "autotypenumbers": "strict",
          "coloraxis": {
           "colorbar": {
            "outlinewidth": 0,
            "ticks": ""
           }
          },
          "colorscale": {
           "diverging": [
            [
             0,
             "#8e0152"
            ],
            [
             0.1,
             "#c51b7d"
            ],
            [
             0.2,
             "#de77ae"
            ],
            [
             0.3,
             "#f1b6da"
            ],
            [
             0.4,
             "#fde0ef"
            ],
            [
             0.5,
             "#f7f7f7"
            ],
            [
             0.6,
             "#e6f5d0"
            ],
            [
             0.7,
             "#b8e186"
            ],
            [
             0.8,
             "#7fbc41"
            ],
            [
             0.9,
             "#4d9221"
            ],
            [
             1,
             "#276419"
            ]
           ],
           "sequential": [
            [
             0,
             "#0d0887"
            ],
            [
             0.1111111111111111,
             "#46039f"
            ],
            [
             0.2222222222222222,
             "#7201a8"
            ],
            [
             0.3333333333333333,
             "#9c179e"
            ],
            [
             0.4444444444444444,
             "#bd3786"
            ],
            [
             0.5555555555555556,
             "#d8576b"
            ],
            [
             0.6666666666666666,
             "#ed7953"
            ],
            [
             0.7777777777777778,
             "#fb9f3a"
            ],
            [
             0.8888888888888888,
             "#fdca26"
            ],
            [
             1,
             "#f0f921"
            ]
           ],
           "sequentialminus": [
            [
             0,
             "#0d0887"
            ],
            [
             0.1111111111111111,
             "#46039f"
            ],
            [
             0.2222222222222222,
             "#7201a8"
            ],
            [
             0.3333333333333333,
             "#9c179e"
            ],
            [
             0.4444444444444444,
             "#bd3786"
            ],
            [
             0.5555555555555556,
             "#d8576b"
            ],
            [
             0.6666666666666666,
             "#ed7953"
            ],
            [
             0.7777777777777778,
             "#fb9f3a"
            ],
            [
             0.8888888888888888,
             "#fdca26"
            ],
            [
             1,
             "#f0f921"
            ]
           ]
          },
          "colorway": [
           "#636efa",
           "#EF553B",
           "#00cc96",
           "#ab63fa",
           "#FFA15A",
           "#19d3f3",
           "#FF6692",
           "#B6E880",
           "#FF97FF",
           "#FECB52"
          ],
          "font": {
           "color": "#2a3f5f"
          },
          "geo": {
           "bgcolor": "white",
           "lakecolor": "white",
           "landcolor": "#E5ECF6",
           "showlakes": true,
           "showland": true,
           "subunitcolor": "white"
          },
          "hoverlabel": {
           "align": "left"
          },
          "hovermode": "closest",
          "mapbox": {
           "style": "light"
          },
          "paper_bgcolor": "white",
          "plot_bgcolor": "#E5ECF6",
          "polar": {
           "angularaxis": {
            "gridcolor": "white",
            "linecolor": "white",
            "ticks": ""
           },
           "bgcolor": "#E5ECF6",
           "radialaxis": {
            "gridcolor": "white",
            "linecolor": "white",
            "ticks": ""
           }
          },
          "scene": {
           "xaxis": {
            "backgroundcolor": "#E5ECF6",
            "gridcolor": "white",
            "gridwidth": 2,
            "linecolor": "white",
            "showbackground": true,
            "ticks": "",
            "zerolinecolor": "white"
           },
           "yaxis": {
            "backgroundcolor": "#E5ECF6",
            "gridcolor": "white",
            "gridwidth": 2,
            "linecolor": "white",
            "showbackground": true,
            "ticks": "",
            "zerolinecolor": "white"
           },
           "zaxis": {
            "backgroundcolor": "#E5ECF6",
            "gridcolor": "white",
            "gridwidth": 2,
            "linecolor": "white",
            "showbackground": true,
            "ticks": "",
            "zerolinecolor": "white"
           }
          },
          "shapedefaults": {
           "line": {
            "color": "#2a3f5f"
           }
          },
          "ternary": {
           "aaxis": {
            "gridcolor": "white",
            "linecolor": "white",
            "ticks": ""
           },
           "baxis": {
            "gridcolor": "white",
            "linecolor": "white",
            "ticks": ""
           },
           "bgcolor": "#E5ECF6",
           "caxis": {
            "gridcolor": "white",
            "linecolor": "white",
            "ticks": ""
           }
          },
          "title": {
           "x": 0.05
          },
          "xaxis": {
           "automargin": true,
           "gridcolor": "white",
           "linecolor": "white",
           "ticks": "",
           "title": {
            "standoff": 15
           },
           "zerolinecolor": "white",
           "zerolinewidth": 2
          },
          "yaxis": {
           "automargin": true,
           "gridcolor": "white",
           "linecolor": "white",
           "ticks": "",
           "title": {
            "standoff": 15
           },
           "zerolinecolor": "white",
           "zerolinewidth": 2
          }
         }
        },
        "title": {
         "text": "<b>Average Active Period by Day of Week</b>"
        },
        "yaxis": {
         "title": {
          "text": "Average Active Period (Hours)"
         }
        }
       }
      }
     },
     "metadata": {},
     "output_type": "display_data"
    }
   ],
   "source": [
    "fig7 = go.Figure(go.Bar(x=df_dayofweek_activeperiod['Day of Week'], y=df_dayofweek_activeperiod['Average Active Period'], showlegend=False))\n",
    "fig7.update_layout(title_text='<b>Average Active Period by Day of Week</b>')\n",
    "fig7.update_yaxes(title_text='Average Active Period (Hours)')\n",
    "fig7.show()"
   ]
  },
  {
   "cell_type": "code",
   "execution_count": 20,
   "metadata": {},
   "outputs": [
    {
     "data": {
      "application/vnd.plotly.v1+json": {
       "config": {
        "plotlyServerURL": "https://plot.ly"
       },
       "data": [
        {
         "name": "Device Count",
         "type": "bar",
         "x": [
          "Desktop",
          "Mobile",
          "Tablet"
         ],
         "xaxis": "x",
         "y": [
          1433,
          1516,
          1462
         ],
         "yaxis": "y"
        },
        {
         "mode": "lines+markers",
         "name": "Average Active Period",
         "type": "scatter",
         "x": [
          "Desktop",
          "Mobile",
          "Tablet"
         ],
         "xaxis": "x",
         "y": [
          1.7385205861827777,
          1.7229771328055554,
          1.7548677610577779
         ],
         "yaxis": "y2"
        }
       ],
       "layout": {
        "template": {
         "data": {
          "bar": [
           {
            "error_x": {
             "color": "#2a3f5f"
            },
            "error_y": {
             "color": "#2a3f5f"
            },
            "marker": {
             "line": {
              "color": "#E5ECF6",
              "width": 0.5
             },
             "pattern": {
              "fillmode": "overlay",
              "size": 10,
              "solidity": 0.2
             }
            },
            "type": "bar"
           }
          ],
          "barpolar": [
           {
            "marker": {
             "line": {
              "color": "#E5ECF6",
              "width": 0.5
             },
             "pattern": {
              "fillmode": "overlay",
              "size": 10,
              "solidity": 0.2
             }
            },
            "type": "barpolar"
           }
          ],
          "carpet": [
           {
            "aaxis": {
             "endlinecolor": "#2a3f5f",
             "gridcolor": "white",
             "linecolor": "white",
             "minorgridcolor": "white",
             "startlinecolor": "#2a3f5f"
            },
            "baxis": {
             "endlinecolor": "#2a3f5f",
             "gridcolor": "white",
             "linecolor": "white",
             "minorgridcolor": "white",
             "startlinecolor": "#2a3f5f"
            },
            "type": "carpet"
           }
          ],
          "choropleth": [
           {
            "colorbar": {
             "outlinewidth": 0,
             "ticks": ""
            },
            "type": "choropleth"
           }
          ],
          "contour": [
           {
            "colorbar": {
             "outlinewidth": 0,
             "ticks": ""
            },
            "colorscale": [
             [
              0,
              "#0d0887"
             ],
             [
              0.1111111111111111,
              "#46039f"
             ],
             [
              0.2222222222222222,
              "#7201a8"
             ],
             [
              0.3333333333333333,
              "#9c179e"
             ],
             [
              0.4444444444444444,
              "#bd3786"
             ],
             [
              0.5555555555555556,
              "#d8576b"
             ],
             [
              0.6666666666666666,
              "#ed7953"
             ],
             [
              0.7777777777777778,
              "#fb9f3a"
             ],
             [
              0.8888888888888888,
              "#fdca26"
             ],
             [
              1,
              "#f0f921"
             ]
            ],
            "type": "contour"
           }
          ],
          "contourcarpet": [
           {
            "colorbar": {
             "outlinewidth": 0,
             "ticks": ""
            },
            "type": "contourcarpet"
           }
          ],
          "heatmap": [
           {
            "colorbar": {
             "outlinewidth": 0,
             "ticks": ""
            },
            "colorscale": [
             [
              0,
              "#0d0887"
             ],
             [
              0.1111111111111111,
              "#46039f"
             ],
             [
              0.2222222222222222,
              "#7201a8"
             ],
             [
              0.3333333333333333,
              "#9c179e"
             ],
             [
              0.4444444444444444,
              "#bd3786"
             ],
             [
              0.5555555555555556,
              "#d8576b"
             ],
             [
              0.6666666666666666,
              "#ed7953"
             ],
             [
              0.7777777777777778,
              "#fb9f3a"
             ],
             [
              0.8888888888888888,
              "#fdca26"
             ],
             [
              1,
              "#f0f921"
             ]
            ],
            "type": "heatmap"
           }
          ],
          "heatmapgl": [
           {
            "colorbar": {
             "outlinewidth": 0,
             "ticks": ""
            },
            "colorscale": [
             [
              0,
              "#0d0887"
             ],
             [
              0.1111111111111111,
              "#46039f"
             ],
             [
              0.2222222222222222,
              "#7201a8"
             ],
             [
              0.3333333333333333,
              "#9c179e"
             ],
             [
              0.4444444444444444,
              "#bd3786"
             ],
             [
              0.5555555555555556,
              "#d8576b"
             ],
             [
              0.6666666666666666,
              "#ed7953"
             ],
             [
              0.7777777777777778,
              "#fb9f3a"
             ],
             [
              0.8888888888888888,
              "#fdca26"
             ],
             [
              1,
              "#f0f921"
             ]
            ],
            "type": "heatmapgl"
           }
          ],
          "histogram": [
           {
            "marker": {
             "pattern": {
              "fillmode": "overlay",
              "size": 10,
              "solidity": 0.2
             }
            },
            "type": "histogram"
           }
          ],
          "histogram2d": [
           {
            "colorbar": {
             "outlinewidth": 0,
             "ticks": ""
            },
            "colorscale": [
             [
              0,
              "#0d0887"
             ],
             [
              0.1111111111111111,
              "#46039f"
             ],
             [
              0.2222222222222222,
              "#7201a8"
             ],
             [
              0.3333333333333333,
              "#9c179e"
             ],
             [
              0.4444444444444444,
              "#bd3786"
             ],
             [
              0.5555555555555556,
              "#d8576b"
             ],
             [
              0.6666666666666666,
              "#ed7953"
             ],
             [
              0.7777777777777778,
              "#fb9f3a"
             ],
             [
              0.8888888888888888,
              "#fdca26"
             ],
             [
              1,
              "#f0f921"
             ]
            ],
            "type": "histogram2d"
           }
          ],
          "histogram2dcontour": [
           {
            "colorbar": {
             "outlinewidth": 0,
             "ticks": ""
            },
            "colorscale": [
             [
              0,
              "#0d0887"
             ],
             [
              0.1111111111111111,
              "#46039f"
             ],
             [
              0.2222222222222222,
              "#7201a8"
             ],
             [
              0.3333333333333333,
              "#9c179e"
             ],
             [
              0.4444444444444444,
              "#bd3786"
             ],
             [
              0.5555555555555556,
              "#d8576b"
             ],
             [
              0.6666666666666666,
              "#ed7953"
             ],
             [
              0.7777777777777778,
              "#fb9f3a"
             ],
             [
              0.8888888888888888,
              "#fdca26"
             ],
             [
              1,
              "#f0f921"
             ]
            ],
            "type": "histogram2dcontour"
           }
          ],
          "mesh3d": [
           {
            "colorbar": {
             "outlinewidth": 0,
             "ticks": ""
            },
            "type": "mesh3d"
           }
          ],
          "parcoords": [
           {
            "line": {
             "colorbar": {
              "outlinewidth": 0,
              "ticks": ""
             }
            },
            "type": "parcoords"
           }
          ],
          "pie": [
           {
            "automargin": true,
            "type": "pie"
           }
          ],
          "scatter": [
           {
            "fillpattern": {
             "fillmode": "overlay",
             "size": 10,
             "solidity": 0.2
            },
            "type": "scatter"
           }
          ],
          "scatter3d": [
           {
            "line": {
             "colorbar": {
              "outlinewidth": 0,
              "ticks": ""
             }
            },
            "marker": {
             "colorbar": {
              "outlinewidth": 0,
              "ticks": ""
             }
            },
            "type": "scatter3d"
           }
          ],
          "scattercarpet": [
           {
            "marker": {
             "colorbar": {
              "outlinewidth": 0,
              "ticks": ""
             }
            },
            "type": "scattercarpet"
           }
          ],
          "scattergeo": [
           {
            "marker": {
             "colorbar": {
              "outlinewidth": 0,
              "ticks": ""
             }
            },
            "type": "scattergeo"
           }
          ],
          "scattergl": [
           {
            "marker": {
             "colorbar": {
              "outlinewidth": 0,
              "ticks": ""
             }
            },
            "type": "scattergl"
           }
          ],
          "scattermapbox": [
           {
            "marker": {
             "colorbar": {
              "outlinewidth": 0,
              "ticks": ""
             }
            },
            "type": "scattermapbox"
           }
          ],
          "scatterpolar": [
           {
            "marker": {
             "colorbar": {
              "outlinewidth": 0,
              "ticks": ""
             }
            },
            "type": "scatterpolar"
           }
          ],
          "scatterpolargl": [
           {
            "marker": {
             "colorbar": {
              "outlinewidth": 0,
              "ticks": ""
             }
            },
            "type": "scatterpolargl"
           }
          ],
          "scatterternary": [
           {
            "marker": {
             "colorbar": {
              "outlinewidth": 0,
              "ticks": ""
             }
            },
            "type": "scatterternary"
           }
          ],
          "surface": [
           {
            "colorbar": {
             "outlinewidth": 0,
             "ticks": ""
            },
            "colorscale": [
             [
              0,
              "#0d0887"
             ],
             [
              0.1111111111111111,
              "#46039f"
             ],
             [
              0.2222222222222222,
              "#7201a8"
             ],
             [
              0.3333333333333333,
              "#9c179e"
             ],
             [
              0.4444444444444444,
              "#bd3786"
             ],
             [
              0.5555555555555556,
              "#d8576b"
             ],
             [
              0.6666666666666666,
              "#ed7953"
             ],
             [
              0.7777777777777778,
              "#fb9f3a"
             ],
             [
              0.8888888888888888,
              "#fdca26"
             ],
             [
              1,
              "#f0f921"
             ]
            ],
            "type": "surface"
           }
          ],
          "table": [
           {
            "cells": {
             "fill": {
              "color": "#EBF0F8"
             },
             "line": {
              "color": "white"
             }
            },
            "header": {
             "fill": {
              "color": "#C8D4E3"
             },
             "line": {
              "color": "white"
             }
            },
            "type": "table"
           }
          ]
         },
         "layout": {
          "annotationdefaults": {
           "arrowcolor": "#2a3f5f",
           "arrowhead": 0,
           "arrowwidth": 1
          },
          "autotypenumbers": "strict",
          "coloraxis": {
           "colorbar": {
            "outlinewidth": 0,
            "ticks": ""
           }
          },
          "colorscale": {
           "diverging": [
            [
             0,
             "#8e0152"
            ],
            [
             0.1,
             "#c51b7d"
            ],
            [
             0.2,
             "#de77ae"
            ],
            [
             0.3,
             "#f1b6da"
            ],
            [
             0.4,
             "#fde0ef"
            ],
            [
             0.5,
             "#f7f7f7"
            ],
            [
             0.6,
             "#e6f5d0"
            ],
            [
             0.7,
             "#b8e186"
            ],
            [
             0.8,
             "#7fbc41"
            ],
            [
             0.9,
             "#4d9221"
            ],
            [
             1,
             "#276419"
            ]
           ],
           "sequential": [
            [
             0,
             "#0d0887"
            ],
            [
             0.1111111111111111,
             "#46039f"
            ],
            [
             0.2222222222222222,
             "#7201a8"
            ],
            [
             0.3333333333333333,
             "#9c179e"
            ],
            [
             0.4444444444444444,
             "#bd3786"
            ],
            [
             0.5555555555555556,
             "#d8576b"
            ],
            [
             0.6666666666666666,
             "#ed7953"
            ],
            [
             0.7777777777777778,
             "#fb9f3a"
            ],
            [
             0.8888888888888888,
             "#fdca26"
            ],
            [
             1,
             "#f0f921"
            ]
           ],
           "sequentialminus": [
            [
             0,
             "#0d0887"
            ],
            [
             0.1111111111111111,
             "#46039f"
            ],
            [
             0.2222222222222222,
             "#7201a8"
            ],
            [
             0.3333333333333333,
             "#9c179e"
            ],
            [
             0.4444444444444444,
             "#bd3786"
            ],
            [
             0.5555555555555556,
             "#d8576b"
            ],
            [
             0.6666666666666666,
             "#ed7953"
            ],
            [
             0.7777777777777778,
             "#fb9f3a"
            ],
            [
             0.8888888888888888,
             "#fdca26"
            ],
            [
             1,
             "#f0f921"
            ]
           ]
          },
          "colorway": [
           "#636efa",
           "#EF553B",
           "#00cc96",
           "#ab63fa",
           "#FFA15A",
           "#19d3f3",
           "#FF6692",
           "#B6E880",
           "#FF97FF",
           "#FECB52"
          ],
          "font": {
           "color": "#2a3f5f"
          },
          "geo": {
           "bgcolor": "white",
           "lakecolor": "white",
           "landcolor": "#E5ECF6",
           "showlakes": true,
           "showland": true,
           "subunitcolor": "white"
          },
          "hoverlabel": {
           "align": "left"
          },
          "hovermode": "closest",
          "mapbox": {
           "style": "light"
          },
          "paper_bgcolor": "white",
          "plot_bgcolor": "#E5ECF6",
          "polar": {
           "angularaxis": {
            "gridcolor": "white",
            "linecolor": "white",
            "ticks": ""
           },
           "bgcolor": "#E5ECF6",
           "radialaxis": {
            "gridcolor": "white",
            "linecolor": "white",
            "ticks": ""
           }
          },
          "scene": {
           "xaxis": {
            "backgroundcolor": "#E5ECF6",
            "gridcolor": "white",
            "gridwidth": 2,
            "linecolor": "white",
            "showbackground": true,
            "ticks": "",
            "zerolinecolor": "white"
           },
           "yaxis": {
            "backgroundcolor": "#E5ECF6",
            "gridcolor": "white",
            "gridwidth": 2,
            "linecolor": "white",
            "showbackground": true,
            "ticks": "",
            "zerolinecolor": "white"
           },
           "zaxis": {
            "backgroundcolor": "#E5ECF6",
            "gridcolor": "white",
            "gridwidth": 2,
            "linecolor": "white",
            "showbackground": true,
            "ticks": "",
            "zerolinecolor": "white"
           }
          },
          "shapedefaults": {
           "line": {
            "color": "#2a3f5f"
           }
          },
          "ternary": {
           "aaxis": {
            "gridcolor": "white",
            "linecolor": "white",
            "ticks": ""
           },
           "baxis": {
            "gridcolor": "white",
            "linecolor": "white",
            "ticks": ""
           },
           "bgcolor": "#E5ECF6",
           "caxis": {
            "gridcolor": "white",
            "linecolor": "white",
            "ticks": ""
           }
          },
          "title": {
           "x": 0.05
          },
          "xaxis": {
           "automargin": true,
           "gridcolor": "white",
           "linecolor": "white",
           "ticks": "",
           "title": {
            "standoff": 15
           },
           "zerolinecolor": "white",
           "zerolinewidth": 2
          },
          "yaxis": {
           "automargin": true,
           "gridcolor": "white",
           "linecolor": "white",
           "ticks": "",
           "title": {
            "standoff": 15
           },
           "zerolinecolor": "white",
           "zerolinewidth": 2
          }
         }
        },
        "title": {
         "text": "<b>Numbers & Average Active Period of Different Devices Used</b>"
        },
        "xaxis": {
         "anchor": "y",
         "domain": [
          0,
          0.94
         ],
         "title": {
          "text": "Device"
         }
        },
        "yaxis": {
         "anchor": "x",
         "domain": [
          0,
          1
         ],
         "title": {
          "text": "Count"
         }
        },
        "yaxis2": {
         "anchor": "x",
         "overlaying": "y",
         "range": [
          0,
          2
         ],
         "side": "right",
         "title": {
          "text": "Average Active Period (Hours)"
         }
        }
       }
      }
     },
     "metadata": {},
     "output_type": "display_data"
    }
   ],
   "source": [
    "fig8 = make_subplots(specs=[[{\"secondary_y\": True}]])\n",
    "fig8.add_trace(go.Bar(x=df_device['Device'],\n",
    "                      y=df_device['Count'],\n",
    "                      name='Device Count'),\n",
    "                      secondary_y=False)\n",
    "fig8.add_trace(go.Scatter(x=df_device['Device'],\n",
    "                          y=df_device['Average Active Period'],\n",
    "                          mode='lines+markers',\n",
    "                          name='Average Active Period'),\n",
    "                          secondary_y=True)\n",
    "\n",
    "fig8.update_layout(title_text='<b>Numbers & Average Active Period of Different Devices Used</b>')\n",
    "fig8.update_xaxes(title_text='Device')\n",
    "fig8.update_yaxes(title_text='Count', secondary_y=False)\n",
    "fig8.update_yaxes(title_text='Average Active Period (Hours)', range=[0, 2], secondary_y=True)\n",
    "\n",
    "fig8.show()"
   ]
  },
  {
   "cell_type": "code",
   "execution_count": null,
   "metadata": {},
   "outputs": [],
   "source": []
  }
 ],
 "metadata": {
  "kernelspec": {
   "display_name": "Python 3",
   "language": "python",
   "name": "python3"
  },
  "language_info": {
   "codemirror_mode": {
    "name": "ipython",
    "version": 3
   },
   "file_extension": ".py",
   "mimetype": "text/x-python",
   "name": "python",
   "nbconvert_exporter": "python",
   "pygments_lexer": "ipython3",
   "version": "3.11.9"
  }
 },
 "nbformat": 4,
 "nbformat_minor": 2
}
